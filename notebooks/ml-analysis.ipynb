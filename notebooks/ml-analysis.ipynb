{
 "cells": [
  {
   "cell_type": "code",
   "execution_count": 133,
   "metadata": {},
   "outputs": [],
   "source": [
    "#imports\n",
    "import pandas as pd\n",
    "import matplotlib.pyplot as plt # for visualizations\n",
    "\n",
    "#ML Packages\n",
    "from sklearn.model_selection import train_test_split\n",
    "from sklearn.tree import DecisionTreeClassifier\n",
    "from sklearn.neighbors import KNeighborsClassifier\n",
    "\n",
    "#pre-processing\n",
    "from sklearn.preprocessing import OneHotEncoder\n",
    "from sklearn.preprocessing import LabelBinarizer\n",
    "\n",
    "#metrics and reporting\n",
    "from sklearn.metrics import classification_report, confusion_matrix\n",
    "from sklearn import tree\n",
    "from sklearn.model_selection import GridSearchCV"
   ]
  },
  {
   "cell_type": "code",
   "execution_count": 113,
   "metadata": {},
   "outputs": [
    {
     "data": {
      "text/html": [
       "<div>\n",
       "<style scoped>\n",
       "    .dataframe tbody tr th:only-of-type {\n",
       "        vertical-align: middle;\n",
       "    }\n",
       "\n",
       "    .dataframe tbody tr th {\n",
       "        vertical-align: top;\n",
       "    }\n",
       "\n",
       "    .dataframe thead th {\n",
       "        text-align: right;\n",
       "    }\n",
       "</style>\n",
       "<table border=\"1\" class=\"dataframe\">\n",
       "  <thead>\n",
       "    <tr style=\"text-align: right;\">\n",
       "      <th></th>\n",
       "      <th>CrimeDate</th>\n",
       "      <th>CrimeTime</th>\n",
       "      <th>CrimeCode</th>\n",
       "      <th>Location</th>\n",
       "      <th>Description</th>\n",
       "      <th>InsideOutside</th>\n",
       "      <th>Weapon</th>\n",
       "      <th>Post</th>\n",
       "      <th>District</th>\n",
       "      <th>Neighborhood</th>\n",
       "      <th>Longitude</th>\n",
       "      <th>Latitude</th>\n",
       "      <th>Premise</th>\n",
       "    </tr>\n",
       "  </thead>\n",
       "  <tbody>\n",
       "    <tr>\n",
       "      <th>0</th>\n",
       "      <td>9/5/20</td>\n",
       "      <td>1:30:00</td>\n",
       "      <td>6G</td>\n",
       "      <td>800 PONTIAC AVE</td>\n",
       "      <td>LARCENY</td>\n",
       "      <td>Inside</td>\n",
       "      <td>None</td>\n",
       "      <td>913.0</td>\n",
       "      <td>SOUTHERN</td>\n",
       "      <td>BROOKLYN</td>\n",
       "      <td>-76.598564</td>\n",
       "      <td>39.233880</td>\n",
       "      <td>ROW/TOWNHOUSE-OCC</td>\n",
       "    </tr>\n",
       "    <tr>\n",
       "      <th>1</th>\n",
       "      <td>9/5/20</td>\n",
       "      <td>19:57:00</td>\n",
       "      <td>4E</td>\n",
       "      <td>4900 GUNTHER AVE</td>\n",
       "      <td>COMMON ASSAULT</td>\n",
       "      <td>Inside</td>\n",
       "      <td>None</td>\n",
       "      <td>443.0</td>\n",
       "      <td>NORTHEAST</td>\n",
       "      <td>FRANKFORD</td>\n",
       "      <td>-76.549157</td>\n",
       "      <td>39.327377</td>\n",
       "      <td>ROW/TOWNHOUSE-OCC</td>\n",
       "    </tr>\n",
       "    <tr>\n",
       "      <th>2</th>\n",
       "      <td>9/5/20</td>\n",
       "      <td>2:10:00</td>\n",
       "      <td>4D</td>\n",
       "      <td>600 MELVILLE AVE</td>\n",
       "      <td>AGG. ASSAULT</td>\n",
       "      <td>Inside</td>\n",
       "      <td>HANDS</td>\n",
       "      <td>515.0</td>\n",
       "      <td>NORTHERN</td>\n",
       "      <td>WAVERLY</td>\n",
       "      <td>-76.607271</td>\n",
       "      <td>39.331543</td>\n",
       "      <td>ROW/TOWNHOUSE-OCC</td>\n",
       "    </tr>\n",
       "  </tbody>\n",
       "</table>\n",
       "</div>"
      ],
      "text/plain": [
       "  CrimeDate CrimeTime CrimeCode          Location     Description  \\\n",
       "0    9/5/20   1:30:00        6G   800 PONTIAC AVE         LARCENY   \n",
       "1    9/5/20  19:57:00        4E  4900 GUNTHER AVE  COMMON ASSAULT   \n",
       "2    9/5/20   2:10:00        4D  600 MELVILLE AVE    AGG. ASSAULT   \n",
       "\n",
       "  InsideOutside Weapon   Post   District Neighborhood  Longitude   Latitude  \\\n",
       "0        Inside   None  913.0   SOUTHERN     BROOKLYN -76.598564  39.233880   \n",
       "1        Inside   None  443.0  NORTHEAST    FRANKFORD -76.549157  39.327377   \n",
       "2        Inside  HANDS  515.0   NORTHERN      WAVERLY -76.607271  39.331543   \n",
       "\n",
       "             Premise  \n",
       "0  ROW/TOWNHOUSE-OCC  \n",
       "1  ROW/TOWNHOUSE-OCC  \n",
       "2  ROW/TOWNHOUSE-OCC  "
      ]
     },
     "execution_count": 113,
     "metadata": {},
     "output_type": "execute_result"
    }
   ],
   "source": [
    "#read in the raw csv file\n",
    "df = pd.read_csv(\"../data/cleaned_data.csv\", encoding= 'utf-8')\n",
    "df.head(3)"
   ]
  },
  {
   "cell_type": "code",
   "execution_count": 114,
   "metadata": {},
   "outputs": [
    {
     "data": {
      "text/plain": [
       "None       246173\n",
       "FIREARM     32824\n",
       "OTHER       18820\n",
       "KNIFE       10865\n",
       "HANDS        4209\n",
       "Name: Weapon, dtype: int64"
      ]
     },
     "execution_count": 114,
     "metadata": {},
     "output_type": "execute_result"
    }
   ],
   "source": [
    "df['Weapon'].value_counts()"
   ]
  },
  {
   "cell_type": "code",
   "execution_count": 115,
   "metadata": {},
   "outputs": [
    {
     "data": {
      "text/plain": [
       "0.7867691943839867"
      ]
     },
     "execution_count": 115,
     "metadata": {},
     "output_type": "execute_result"
    }
   ],
   "source": [
    "246173 / (246173 + 32824 + 18820 + 10865 + 4209)"
   ]
  },
  {
   "cell_type": "code",
   "execution_count": 116,
   "metadata": {},
   "outputs": [
    {
     "data": {
      "text/html": [
       "<div>\n",
       "<style scoped>\n",
       "    .dataframe tbody tr th:only-of-type {\n",
       "        vertical-align: middle;\n",
       "    }\n",
       "\n",
       "    .dataframe tbody tr th {\n",
       "        vertical-align: top;\n",
       "    }\n",
       "\n",
       "    .dataframe thead th {\n",
       "        text-align: right;\n",
       "    }\n",
       "</style>\n",
       "<table border=\"1\" class=\"dataframe\">\n",
       "  <thead>\n",
       "    <tr style=\"text-align: right;\">\n",
       "      <th></th>\n",
       "      <th>CrimeDate</th>\n",
       "      <th>CrimeTime</th>\n",
       "      <th>CrimeCode</th>\n",
       "      <th>Location</th>\n",
       "      <th>Weapon</th>\n",
       "      <th>Post</th>\n",
       "      <th>District</th>\n",
       "      <th>Neighborhood</th>\n",
       "      <th>Longitude</th>\n",
       "      <th>Latitude</th>\n",
       "      <th>...</th>\n",
       "      <th>115</th>\n",
       "      <th>116</th>\n",
       "      <th>117</th>\n",
       "      <th>118</th>\n",
       "      <th>119</th>\n",
       "      <th>120</th>\n",
       "      <th>121</th>\n",
       "      <th>122</th>\n",
       "      <th>123</th>\n",
       "      <th>124</th>\n",
       "    </tr>\n",
       "  </thead>\n",
       "  <tbody>\n",
       "    <tr>\n",
       "      <th>0</th>\n",
       "      <td>9/5/20</td>\n",
       "      <td>1:30:00</td>\n",
       "      <td>6G</td>\n",
       "      <td>800 PONTIAC AVE</td>\n",
       "      <td>None</td>\n",
       "      <td>913.0</td>\n",
       "      <td>SOUTHERN</td>\n",
       "      <td>BROOKLYN</td>\n",
       "      <td>-76.598564</td>\n",
       "      <td>39.233880</td>\n",
       "      <td>...</td>\n",
       "      <td>0</td>\n",
       "      <td>0</td>\n",
       "      <td>0</td>\n",
       "      <td>0</td>\n",
       "      <td>0</td>\n",
       "      <td>0</td>\n",
       "      <td>0</td>\n",
       "      <td>0</td>\n",
       "      <td>0</td>\n",
       "      <td>0</td>\n",
       "    </tr>\n",
       "    <tr>\n",
       "      <th>1</th>\n",
       "      <td>9/5/20</td>\n",
       "      <td>19:57:00</td>\n",
       "      <td>4E</td>\n",
       "      <td>4900 GUNTHER AVE</td>\n",
       "      <td>None</td>\n",
       "      <td>443.0</td>\n",
       "      <td>NORTHEAST</td>\n",
       "      <td>FRANKFORD</td>\n",
       "      <td>-76.549157</td>\n",
       "      <td>39.327377</td>\n",
       "      <td>...</td>\n",
       "      <td>0</td>\n",
       "      <td>0</td>\n",
       "      <td>0</td>\n",
       "      <td>0</td>\n",
       "      <td>0</td>\n",
       "      <td>0</td>\n",
       "      <td>0</td>\n",
       "      <td>0</td>\n",
       "      <td>0</td>\n",
       "      <td>0</td>\n",
       "    </tr>\n",
       "    <tr>\n",
       "      <th>2</th>\n",
       "      <td>9/5/20</td>\n",
       "      <td>2:10:00</td>\n",
       "      <td>4D</td>\n",
       "      <td>600 MELVILLE AVE</td>\n",
       "      <td>HANDS</td>\n",
       "      <td>515.0</td>\n",
       "      <td>NORTHERN</td>\n",
       "      <td>WAVERLY</td>\n",
       "      <td>-76.607271</td>\n",
       "      <td>39.331543</td>\n",
       "      <td>...</td>\n",
       "      <td>0</td>\n",
       "      <td>0</td>\n",
       "      <td>0</td>\n",
       "      <td>0</td>\n",
       "      <td>0</td>\n",
       "      <td>0</td>\n",
       "      <td>0</td>\n",
       "      <td>0</td>\n",
       "      <td>0</td>\n",
       "      <td>0</td>\n",
       "    </tr>\n",
       "  </tbody>\n",
       "</table>\n",
       "<p>3 rows × 152 columns</p>\n",
       "</div>"
      ],
      "text/plain": [
       "  CrimeDate CrimeTime CrimeCode          Location Weapon   Post   District  \\\n",
       "0    9/5/20   1:30:00        6G   800 PONTIAC AVE   None  913.0   SOUTHERN   \n",
       "1    9/5/20  19:57:00        4E  4900 GUNTHER AVE   None  443.0  NORTHEAST   \n",
       "2    9/5/20   2:10:00        4D  600 MELVILLE AVE  HANDS  515.0   NORTHERN   \n",
       "\n",
       "  Neighborhood  Longitude   Latitude  ...  115  116  117  118  119  120  121  \\\n",
       "0     BROOKLYN -76.598564  39.233880  ...    0    0    0    0    0    0    0   \n",
       "1    FRANKFORD -76.549157  39.327377  ...    0    0    0    0    0    0    0   \n",
       "2      WAVERLY -76.607271  39.331543  ...    0    0    0    0    0    0    0   \n",
       "\n",
       "   122  123  124  \n",
       "0    0    0    0  \n",
       "1    0    0    0  \n",
       "2    0    0    0  \n",
       "\n",
       "[3 rows x 152 columns]"
      ]
     },
     "execution_count": 116,
     "metadata": {},
     "output_type": "execute_result"
    }
   ],
   "source": [
    "jobs_encoder = LabelBinarizer()\n",
    "jobs_encoder.fit(df['Description'])\n",
    "transformed = jobs_encoder.transform(df['Description'])\n",
    "ohe_df = pd.DataFrame(transformed)\n",
    "data = pd.concat([df, ohe_df], axis=1).drop(['Description'], axis=1)\n",
    "\n",
    "jobs_encoder.fit(df['InsideOutside'])\n",
    "transformed = jobs_encoder.transform(df['InsideOutside'])\n",
    "transformed_df = pd.DataFrame(transformed)\n",
    "data = pd.concat([data, transformed_df], axis=1).drop(['InsideOutside'], axis=1)\n",
    "data.head(3)\n",
    "\n",
    "jobs_encoder.fit(df['Premise'])\n",
    "transformed = jobs_encoder.transform(df['Premise'])\n",
    "transformed_premise_df = pd.DataFrame(transformed)\n",
    "data = pd.concat([data, transformed_premise_df], axis=1).drop(['Premise'], axis=1)\n",
    "data.head(3)"
   ]
  },
  {
   "cell_type": "code",
   "execution_count": 124,
   "metadata": {},
   "outputs": [
    {
     "data": {
      "text/html": [
       "<div>\n",
       "<style scoped>\n",
       "    .dataframe tbody tr th:only-of-type {\n",
       "        vertical-align: middle;\n",
       "    }\n",
       "\n",
       "    .dataframe tbody tr th {\n",
       "        vertical-align: top;\n",
       "    }\n",
       "\n",
       "    .dataframe thead th {\n",
       "        text-align: right;\n",
       "    }\n",
       "</style>\n",
       "<table border=\"1\" class=\"dataframe\">\n",
       "  <thead>\n",
       "    <tr style=\"text-align: right;\">\n",
       "      <th></th>\n",
       "      <th>CrimeDate</th>\n",
       "      <th>CrimeTime</th>\n",
       "      <th>CrimeCode</th>\n",
       "      <th>Location</th>\n",
       "      <th>Weapon</th>\n",
       "      <th>Post</th>\n",
       "      <th>District</th>\n",
       "      <th>Neighborhood</th>\n",
       "      <th>Longitude</th>\n",
       "      <th>Latitude</th>\n",
       "      <th>...</th>\n",
       "      <th>TRUCKING &amp; TRANSFER</th>\n",
       "      <th>UTILITIES-BG&amp;E-C&amp;P</th>\n",
       "      <th>VACANT BUILDING</th>\n",
       "      <th>VACANT DWELLING</th>\n",
       "      <th>VACANT LOT/WOODS</th>\n",
       "      <th>VEHICLE</th>\n",
       "      <th>WAREHOUSE</th>\n",
       "      <th>WHOLESALE/DISC. STOR</th>\n",
       "      <th>YARD</th>\n",
       "      <th>YARD/BUSINESS</th>\n",
       "    </tr>\n",
       "  </thead>\n",
       "  <tbody>\n",
       "    <tr>\n",
       "      <th>0</th>\n",
       "      <td>9/5/20</td>\n",
       "      <td>1:30:00</td>\n",
       "      <td>6G</td>\n",
       "      <td>800 PONTIAC AVE</td>\n",
       "      <td>None</td>\n",
       "      <td>913.0</td>\n",
       "      <td>SOUTHERN</td>\n",
       "      <td>BROOKLYN</td>\n",
       "      <td>-76.598564</td>\n",
       "      <td>39.233880</td>\n",
       "      <td>...</td>\n",
       "      <td>0</td>\n",
       "      <td>0</td>\n",
       "      <td>0</td>\n",
       "      <td>0</td>\n",
       "      <td>0</td>\n",
       "      <td>0</td>\n",
       "      <td>0</td>\n",
       "      <td>0</td>\n",
       "      <td>0</td>\n",
       "      <td>0</td>\n",
       "    </tr>\n",
       "    <tr>\n",
       "      <th>1</th>\n",
       "      <td>9/5/20</td>\n",
       "      <td>19:57:00</td>\n",
       "      <td>4E</td>\n",
       "      <td>4900 GUNTHER AVE</td>\n",
       "      <td>None</td>\n",
       "      <td>443.0</td>\n",
       "      <td>NORTHEAST</td>\n",
       "      <td>FRANKFORD</td>\n",
       "      <td>-76.549157</td>\n",
       "      <td>39.327377</td>\n",
       "      <td>...</td>\n",
       "      <td>0</td>\n",
       "      <td>0</td>\n",
       "      <td>0</td>\n",
       "      <td>0</td>\n",
       "      <td>0</td>\n",
       "      <td>0</td>\n",
       "      <td>0</td>\n",
       "      <td>0</td>\n",
       "      <td>0</td>\n",
       "      <td>0</td>\n",
       "    </tr>\n",
       "  </tbody>\n",
       "</table>\n",
       "<p>2 rows × 150 columns</p>\n",
       "</div>"
      ],
      "text/plain": [
       "  CrimeDate CrimeTime CrimeCode          Location Weapon   Post   District  \\\n",
       "0    9/5/20   1:30:00        6G   800 PONTIAC AVE   None  913.0   SOUTHERN   \n",
       "1    9/5/20  19:57:00        4E  4900 GUNTHER AVE   None  443.0  NORTHEAST   \n",
       "\n",
       "  Neighborhood  Longitude   Latitude  ...  TRUCKING & TRANSFER  \\\n",
       "0     BROOKLYN -76.598564  39.233880  ...                    0   \n",
       "1    FRANKFORD -76.549157  39.327377  ...                    0   \n",
       "\n",
       "   UTILITIES-BG&E-C&P  VACANT BUILDING  VACANT DWELLING  VACANT LOT/WOODS  \\\n",
       "0                   0                0                0                 0   \n",
       "1                   0                0                0                 0   \n",
       "\n",
       "   VEHICLE  WAREHOUSE  WHOLESALE/DISC. STOR  YARD  YARD/BUSINESS  \n",
       "0        0          0                     0     0              0  \n",
       "1        0          0                     0     0              0  \n",
       "\n",
       "[2 rows x 150 columns]"
      ]
     },
     "execution_count": 124,
     "metadata": {},
     "output_type": "execute_result"
    }
   ],
   "source": [
    "dummies = pd.get_dummies(df['InsideOutside'])\n",
    "dummyDF = pd.concat([df, dummies], axis=1).drop(['InsideOutside'], axis=1)\n",
    "\n",
    "dummies = pd.get_dummies(df['Description'])\n",
    "dummyDF = pd.concat([dummyDF, dummies], axis=1).drop(['Description'], axis=1)\n",
    "\n",
    "dummies = pd.get_dummies(df['Premise'])\n",
    "dummyDF = pd.concat([dummyDF, dummies], axis=1).drop(['Premise'], axis=1)\n",
    "dummyDF = dummyDF.drop(['UNKNOWN'], axis=1) #unknown column is not going to tell us anything\n",
    "dummyDF.head(2)"
   ]
  },
  {
   "cell_type": "code",
   "execution_count": 125,
   "metadata": {},
   "outputs": [
    {
     "data": {
      "text/html": [
       "<div>\n",
       "<style scoped>\n",
       "    .dataframe tbody tr th:only-of-type {\n",
       "        vertical-align: middle;\n",
       "    }\n",
       "\n",
       "    .dataframe tbody tr th {\n",
       "        vertical-align: top;\n",
       "    }\n",
       "\n",
       "    .dataframe thead th {\n",
       "        text-align: right;\n",
       "    }\n",
       "</style>\n",
       "<table border=\"1\" class=\"dataframe\">\n",
       "  <thead>\n",
       "    <tr style=\"text-align: right;\">\n",
       "      <th></th>\n",
       "      <th>CrimeDate</th>\n",
       "      <th>CrimeTime</th>\n",
       "      <th>CrimeCode</th>\n",
       "      <th>Location</th>\n",
       "      <th>Weapon</th>\n",
       "      <th>Post</th>\n",
       "      <th>District</th>\n",
       "      <th>Neighborhood</th>\n",
       "      <th>Longitude</th>\n",
       "      <th>Latitude</th>\n",
       "      <th>...</th>\n",
       "      <th>VACANT BUILDING</th>\n",
       "      <th>VACANT DWELLING</th>\n",
       "      <th>VACANT LOT/WOODS</th>\n",
       "      <th>VEHICLE</th>\n",
       "      <th>WAREHOUSE</th>\n",
       "      <th>WHOLESALE/DISC. STOR</th>\n",
       "      <th>YARD</th>\n",
       "      <th>YARD/BUSINESS</th>\n",
       "      <th>CrimeMonth</th>\n",
       "      <th>CrimeHour</th>\n",
       "    </tr>\n",
       "  </thead>\n",
       "  <tbody>\n",
       "    <tr>\n",
       "      <th>0</th>\n",
       "      <td>9/5/20</td>\n",
       "      <td>1:30:00</td>\n",
       "      <td>6G</td>\n",
       "      <td>800 PONTIAC AVE</td>\n",
       "      <td>None</td>\n",
       "      <td>913.0</td>\n",
       "      <td>SOUTHERN</td>\n",
       "      <td>BROOKLYN</td>\n",
       "      <td>-76.598564</td>\n",
       "      <td>39.233880</td>\n",
       "      <td>...</td>\n",
       "      <td>0</td>\n",
       "      <td>0</td>\n",
       "      <td>0</td>\n",
       "      <td>0</td>\n",
       "      <td>0</td>\n",
       "      <td>0</td>\n",
       "      <td>0</td>\n",
       "      <td>0</td>\n",
       "      <td>9</td>\n",
       "      <td>1</td>\n",
       "    </tr>\n",
       "    <tr>\n",
       "      <th>1</th>\n",
       "      <td>9/5/20</td>\n",
       "      <td>19:57:00</td>\n",
       "      <td>4E</td>\n",
       "      <td>4900 GUNTHER AVE</td>\n",
       "      <td>None</td>\n",
       "      <td>443.0</td>\n",
       "      <td>NORTHEAST</td>\n",
       "      <td>FRANKFORD</td>\n",
       "      <td>-76.549157</td>\n",
       "      <td>39.327377</td>\n",
       "      <td>...</td>\n",
       "      <td>0</td>\n",
       "      <td>0</td>\n",
       "      <td>0</td>\n",
       "      <td>0</td>\n",
       "      <td>0</td>\n",
       "      <td>0</td>\n",
       "      <td>0</td>\n",
       "      <td>0</td>\n",
       "      <td>9</td>\n",
       "      <td>19</td>\n",
       "    </tr>\n",
       "    <tr>\n",
       "      <th>2</th>\n",
       "      <td>9/5/20</td>\n",
       "      <td>2:10:00</td>\n",
       "      <td>4D</td>\n",
       "      <td>600 MELVILLE AVE</td>\n",
       "      <td>HANDS</td>\n",
       "      <td>515.0</td>\n",
       "      <td>NORTHERN</td>\n",
       "      <td>WAVERLY</td>\n",
       "      <td>-76.607271</td>\n",
       "      <td>39.331543</td>\n",
       "      <td>...</td>\n",
       "      <td>0</td>\n",
       "      <td>0</td>\n",
       "      <td>0</td>\n",
       "      <td>0</td>\n",
       "      <td>0</td>\n",
       "      <td>0</td>\n",
       "      <td>0</td>\n",
       "      <td>0</td>\n",
       "      <td>9</td>\n",
       "      <td>2</td>\n",
       "    </tr>\n",
       "    <tr>\n",
       "      <th>3</th>\n",
       "      <td>9/5/20</td>\n",
       "      <td>1:00:00</td>\n",
       "      <td>7A</td>\n",
       "      <td>AV &amp; REISTERSTOWN RD</td>\n",
       "      <td>None</td>\n",
       "      <td>611.0</td>\n",
       "      <td>NORTHWEST</td>\n",
       "      <td>LIBERTY SQUARE</td>\n",
       "      <td>-76.655664</td>\n",
       "      <td>39.322638</td>\n",
       "      <td>...</td>\n",
       "      <td>0</td>\n",
       "      <td>0</td>\n",
       "      <td>0</td>\n",
       "      <td>0</td>\n",
       "      <td>0</td>\n",
       "      <td>0</td>\n",
       "      <td>0</td>\n",
       "      <td>0</td>\n",
       "      <td>9</td>\n",
       "      <td>1</td>\n",
       "    </tr>\n",
       "    <tr>\n",
       "      <th>4</th>\n",
       "      <td>9/5/20</td>\n",
       "      <td>8:10:00</td>\n",
       "      <td>4C</td>\n",
       "      <td>1900 W FAIRMOUNT AVE</td>\n",
       "      <td>OTHER</td>\n",
       "      <td>714.0</td>\n",
       "      <td>WESTERN</td>\n",
       "      <td>PENROSE/FAYETTE STREET OUTREACH</td>\n",
       "      <td>-76.647524</td>\n",
       "      <td>39.288932</td>\n",
       "      <td>...</td>\n",
       "      <td>0</td>\n",
       "      <td>0</td>\n",
       "      <td>0</td>\n",
       "      <td>0</td>\n",
       "      <td>0</td>\n",
       "      <td>0</td>\n",
       "      <td>0</td>\n",
       "      <td>0</td>\n",
       "      <td>9</td>\n",
       "      <td>8</td>\n",
       "    </tr>\n",
       "  </tbody>\n",
       "</table>\n",
       "<p>5 rows × 152 columns</p>\n",
       "</div>"
      ],
      "text/plain": [
       "  CrimeDate CrimeTime CrimeCode              Location Weapon   Post  \\\n",
       "0    9/5/20   1:30:00        6G       800 PONTIAC AVE   None  913.0   \n",
       "1    9/5/20  19:57:00        4E      4900 GUNTHER AVE   None  443.0   \n",
       "2    9/5/20   2:10:00        4D      600 MELVILLE AVE  HANDS  515.0   \n",
       "3    9/5/20   1:00:00        7A  AV & REISTERSTOWN RD   None  611.0   \n",
       "4    9/5/20   8:10:00        4C  1900 W FAIRMOUNT AVE  OTHER  714.0   \n",
       "\n",
       "    District                     Neighborhood  Longitude   Latitude  ...  \\\n",
       "0   SOUTHERN                         BROOKLYN -76.598564  39.233880  ...   \n",
       "1  NORTHEAST                        FRANKFORD -76.549157  39.327377  ...   \n",
       "2   NORTHERN                          WAVERLY -76.607271  39.331543  ...   \n",
       "3  NORTHWEST                   LIBERTY SQUARE -76.655664  39.322638  ...   \n",
       "4    WESTERN  PENROSE/FAYETTE STREET OUTREACH -76.647524  39.288932  ...   \n",
       "\n",
       "   VACANT BUILDING  VACANT DWELLING  VACANT LOT/WOODS  VEHICLE  WAREHOUSE  \\\n",
       "0                0                0                 0        0          0   \n",
       "1                0                0                 0        0          0   \n",
       "2                0                0                 0        0          0   \n",
       "3                0                0                 0        0          0   \n",
       "4                0                0                 0        0          0   \n",
       "\n",
       "   WHOLESALE/DISC. STOR  YARD  YARD/BUSINESS  CrimeMonth  CrimeHour  \n",
       "0                     0     0              0           9          1  \n",
       "1                     0     0              0           9         19  \n",
       "2                     0     0              0           9          2  \n",
       "3                     0     0              0           9          1  \n",
       "4                     0     0              0           9          8  \n",
       "\n",
       "[5 rows x 152 columns]"
      ]
     },
     "execution_count": 125,
     "metadata": {},
     "output_type": "execute_result"
    }
   ],
   "source": [
    "#Create columns for the hour and month, since they would make sense to have highest impact\n",
    "df[\"CrimeDate\"] = df[\"CrimeDate\"].astype(\"datetime64\")\n",
    "df[\"CrimeTime\"] = df[\"CrimeTime\"].astype(\"datetime64\")\n",
    "\n",
    "dummyDF['CrimeMonth'] = pd.DatetimeIndex(df['CrimeDate']).month\n",
    "dummyDF['CrimeHour'] = pd.DatetimeIndex(df['CrimeTime']).hour\n",
    "dummyDF.head()"
   ]
  },
  {
   "cell_type": "code",
   "execution_count": 126,
   "metadata": {},
   "outputs": [],
   "source": [
    "#Function to Draw tree taken from python utils file\n",
    "\n",
    "def draw_tree(estimator, figsize =(15, 5), feature_names = [\"Hits\", \"Years\"]):\n",
    "    \"\"\"\n",
    "    Takes a decision  tree estimator and plots it's tree structure\n",
    "    :param estimator: A sklearn decision tree estimator. Should be fitted.\n",
    "    :param figsize: tuple. (int, int).\n",
    "    :param feature_names:\n",
    "    :return: It returns a plot. The image is not saved.\n",
    "    \"\"\"\n",
    "    fig = plt.figure(figsize= figsize)\n",
    "    _ = tree.plot_tree(estimator,\n",
    "                       feature_names= feature_names,\n",
    "                       filled=True)"
   ]
  },
  {
   "cell_type": "code",
   "execution_count": 128,
   "metadata": {},
   "outputs": [
    {
     "name": "stdout",
     "output_type": "stream",
     "text": [
      "[[ 4551     0    39   803  1172]\n",
      " [  109     0    22     0   711]\n",
      " [  670     0    37   210  1256]\n",
      " [ 1156     0     0 48079     0]\n",
      " [  820     0    39   169  2736]]\n"
     ]
    },
    {
     "name": "stderr",
     "output_type": "stream",
     "text": [
      "/Users/ZachV/opt/anaconda3/lib/python3.7/site-packages/sklearn/metrics/_classification.py:1221: UndefinedMetricWarning: Precision and F-score are ill-defined and being set to 0.0 in labels with no predicted samples. Use `zero_division` parameter to control this behavior.\n",
      "  _warn_prf(average, modifier, msg_start, len(result))\n"
     ]
    },
    {
     "name": "stdout",
     "output_type": "stream",
     "text": [
      "              precision    recall  f1-score   support\n",
      "\n",
      "     FIREARM       0.62      0.69      0.66      6565\n",
      "       HANDS       0.00      0.00      0.00       842\n",
      "       KNIFE       0.27      0.02      0.03      2173\n",
      "        None       0.98      0.98      0.98     49235\n",
      "       OTHER       0.47      0.73      0.57      3764\n",
      "\n",
      "    accuracy                           0.89     62579\n",
      "   macro avg       0.47      0.48      0.45     62579\n",
      "weighted avg       0.87      0.89      0.87     62579\n",
      "\n"
     ]
    },
    {
     "data": {
      "image/png": "[encoded data removed]",
      "text/plain": [
       "<Figure size 1080x360 with 1 Axes>"
      ]
     },
     "metadata": {
      "needs_background": "light"
     },
     "output_type": "display_data"
    }
   ],
   "source": [
    "## here let's apply sklearn DecisionTreeClassifier\n",
    "\n",
    "#drop the columns that are not predictors\n",
    "X = dummyDF.drop(['Weapon', 'CrimeDate', 'CrimeTime', 'Location', 'CrimeCode', 'Post', 'District', 'Neighborhood', 'Longitude', \"Latitude\"], axis=1)\n",
    "#print(X.head())\n",
    "y = dummyDF['Weapon'] #set the goal to be the classification\n",
    "X_train, X_test, y_train, y_test = train_test_split(X, y, test_size=0.20, random_state = 1, stratify = y) #split the data\n",
    "\n",
    "classifier = DecisionTreeClassifier(max_leaf_nodes= 100) #create the classifier and fit it\n",
    "classifier.fit(X_train, y_train)\n",
    "\n",
    "y_pred = classifier.predict(X_test)  #predict using the test data for metrics\n",
    "\n",
    "print(confusion_matrix(y_test, y_pred))\n",
    "print(classification_report(y_test, y_pred))\n",
    "\n",
    "draw_tree(classifier,feature_names= X_train.columns)"
   ]
  },
  {
   "cell_type": "code",
   "execution_count": 129,
   "metadata": {},
   "outputs": [
    {
     "name": "stdout",
     "output_type": "stream",
     "text": [
      "Fitting 5 folds for each of 180 candidates, totalling 900 fits\n"
     ]
    },
    {
     "name": "stderr",
     "output_type": "stream",
     "text": [
      "[Parallel(n_jobs=1)]: Using backend SequentialBackend with 1 concurrent workers.\n"
     ]
    },
    {
     "name": "stdout",
     "output_type": "stream",
     "text": [
      "[CV] ccp_alpha=0, max_leaf_nodes=5, min_impurity_split=0 .............\n"
     ]
    },
    {
     "name": "stderr",
     "output_type": "stream",
     "text": [
      "/Users/ZachV/opt/anaconda3/lib/python3.7/site-packages/sklearn/tree/_classes.py:310: FutureWarning: The min_impurity_split parameter is deprecated. Its default value has changed from 1e-7 to 0 in version 0.23, and it will be removed in 0.25. Use the min_impurity_decrease parameter instead.\n",
      "  FutureWarning)\n"
     ]
    },
    {
     "name": "stdout",
     "output_type": "stream",
     "text": [
      "[CV]  ccp_alpha=0, max_leaf_nodes=5, min_impurity_split=0, total=   2.6s\n",
      "[CV] ccp_alpha=0, max_leaf_nodes=5, min_impurity_split=0 .............\n"
     ]
    },
    {
     "name": "stderr",
     "output_type": "stream",
     "text": [
      "[Parallel(n_jobs=1)]: Done   1 out of   1 | elapsed:    3.3s remaining:    0.0s\n",
      "/Users/ZachV/opt/anaconda3/lib/python3.7/site-packages/sklearn/tree/_classes.py:310: FutureWarning: The min_impurity_split parameter is deprecated. Its default value has changed from 1e-7 to 0 in version 0.23, and it will be removed in 0.25. Use the min_impurity_decrease parameter instead.\n",
      "  FutureWarning)\n"
     ]
    },
    {
     "name": "stdout",
     "output_type": "stream",
     "text": [
      "[CV]  ccp_alpha=0, max_leaf_nodes=5, min_impurity_split=0, total=   2.4s\n",
      "[CV] ccp_alpha=0, max_leaf_nodes=5, min_impurity_split=0 .............\n"
     ]
    },
    {
     "name": "stderr",
     "output_type": "stream",
     "text": [
      "/Users/ZachV/opt/anaconda3/lib/python3.7/site-packages/sklearn/tree/_classes.py:310: FutureWarning: The min_impurity_split parameter is deprecated. Its default value has changed from 1e-7 to 0 in version 0.23, and it will be removed in 0.25. Use the min_impurity_decrease parameter instead.\n",
      "  FutureWarning)\n"
     ]
    },
    {
     "name": "stdout",
     "output_type": "stream",
     "text": [
      "[CV]  ccp_alpha=0, max_leaf_nodes=5, min_impurity_split=0, total=   2.1s\n",
      "[CV] ccp_alpha=0, max_leaf_nodes=5, min_impurity_split=0 .............\n"
     ]
    },
    {
     "name": "stderr",
     "output_type": "stream",
     "text": [
      "/Users/ZachV/opt/anaconda3/lib/python3.7/site-packages/sklearn/tree/_classes.py:310: FutureWarning: The min_impurity_split parameter is deprecated. Its default value has changed from 1e-7 to 0 in version 0.23, and it will be removed in 0.25. Use the min_impurity_decrease parameter instead.\n",
      "  FutureWarning)\n"
     ]
    },
    {
     "name": "stdout",
     "output_type": "stream",
     "text": [
      "[CV]  ccp_alpha=0, max_leaf_nodes=5, min_impurity_split=0, total=   1.8s\n",
      "[CV] ccp_alpha=0, max_leaf_nodes=5, min_impurity_split=0 .............\n"
     ]
    },
    {
     "name": "stderr",
     "output_type": "stream",
     "text": [
      "/Users/ZachV/opt/anaconda3/lib/python3.7/site-packages/sklearn/tree/_classes.py:310: FutureWarning: The min_impurity_split parameter is deprecated. Its default value has changed from 1e-7 to 0 in version 0.23, and it will be removed in 0.25. Use the min_impurity_decrease parameter instead.\n",
      "  FutureWarning)\n"
     ]
    },
    {
     "name": "stdout",
     "output_type": "stream",
     "text": [
      "[CV]  ccp_alpha=0, max_leaf_nodes=5, min_impurity_split=0, total=   1.8s\n",
      "[CV] ccp_alpha=0, max_leaf_nodes=5, min_impurity_split=0.1 ...........\n"
     ]
    },
    {
     "name": "stderr",
     "output_type": "stream",
     "text": [
      "/Users/ZachV/opt/anaconda3/lib/python3.7/site-packages/sklearn/tree/_classes.py:310: FutureWarning: The min_impurity_split parameter is deprecated. Its default value has changed from 1e-7 to 0 in version 0.23, and it will be removed in 0.25. Use the min_impurity_decrease parameter instead.\n",
      "  FutureWarning)\n"
     ]
    },
    {
     "name": "stdout",
     "output_type": "stream",
     "text": [
      "[CV]  ccp_alpha=0, max_leaf_nodes=5, min_impurity_split=0.1, total=   1.7s\n",
      "[CV] ccp_alpha=0, max_leaf_nodes=5, min_impurity_split=0.1 ...........\n"
     ]
    },
    {
     "name": "stderr",
     "output_type": "stream",
     "text": [
      "/Users/ZachV/opt/anaconda3/lib/python3.7/site-packages/sklearn/tree/_classes.py:310: FutureWarning: The min_impurity_split parameter is deprecated. Its default value has changed from 1e-7 to 0 in version 0.23, and it will be removed in 0.25. Use the min_impurity_decrease parameter instead.\n",
      "  FutureWarning)\n"
     ]
    },
    {
     "name": "stdout",
     "output_type": "stream",
     "text": [
      "[CV]  ccp_alpha=0, max_leaf_nodes=5, min_impurity_split=0.1, total=   1.6s\n",
      "[CV] ccp_alpha=0, max_leaf_nodes=5, min_impurity_split=0.1 ...........\n"
     ]
    },
    {
     "name": "stderr",
     "output_type": "stream",
     "text": [
      "/Users/ZachV/opt/anaconda3/lib/python3.7/site-packages/sklearn/tree/_classes.py:310: FutureWarning: The min_impurity_split parameter is deprecated. Its default value has changed from 1e-7 to 0 in version 0.23, and it will be removed in 0.25. Use the min_impurity_decrease parameter instead.\n",
      "  FutureWarning)\n"
     ]
    },
    {
     "name": "stdout",
     "output_type": "stream",
     "text": [
      "[CV]  ccp_alpha=0, max_leaf_nodes=5, min_impurity_split=0.1, total=   1.6s\n",
      "[CV] ccp_alpha=0, max_leaf_nodes=5, min_impurity_split=0.1 ...........\n"
     ]
    },
    {
     "name": "stderr",
     "output_type": "stream",
     "text": [
      "/Users/ZachV/opt/anaconda3/lib/python3.7/site-packages/sklearn/tree/_classes.py:310: FutureWarning: The min_impurity_split parameter is deprecated. Its default value has changed from 1e-7 to 0 in version 0.23, and it will be removed in 0.25. Use the min_impurity_decrease parameter instead.\n",
      "  FutureWarning)\n"
     ]
    },
    {
     "name": "stdout",
     "output_type": "stream",
     "text": [
      "[CV]  ccp_alpha=0, max_leaf_nodes=5, min_impurity_split=0.1, total=   1.7s\n",
      "[CV] ccp_alpha=0, max_leaf_nodes=5, min_impurity_split=0.1 ...........\n"
     ]
    },
    {
     "name": "stderr",
     "output_type": "stream",
     "text": [
      "/Users/ZachV/opt/anaconda3/lib/python3.7/site-packages/sklearn/tree/_classes.py:310: FutureWarning: The min_impurity_split parameter is deprecated. Its default value has changed from 1e-7 to 0 in version 0.23, and it will be removed in 0.25. Use the min_impurity_decrease parameter instead.\n",
      "  FutureWarning)\n"
     ]
    },
    {
     "name": "stdout",
     "output_type": "stream",
     "text": [
      "[CV]  ccp_alpha=0, max_leaf_nodes=5, min_impurity_split=0.1, total=   1.7s\n",
      "[CV] ccp_alpha=0, max_leaf_nodes=5, min_impurity_split=0.2 ...........\n"
     ]
    },
    {
     "name": "stderr",
     "output_type": "stream",
     "text": [
      "/Users/ZachV/opt/anaconda3/lib/python3.7/site-packages/sklearn/tree/_classes.py:310: FutureWarning: The min_impurity_split parameter is deprecated. Its default value has changed from 1e-7 to 0 in version 0.23, and it will be removed in 0.25. Use the min_impurity_decrease parameter instead.\n",
      "  FutureWarning)\n"
     ]
    },
    {
     "name": "stdout",
     "output_type": "stream",
     "text": [
      "[CV]  ccp_alpha=0, max_leaf_nodes=5, min_impurity_split=0.2, total=   1.4s\n",
      "[CV] ccp_alpha=0, max_leaf_nodes=5, min_impurity_split=0.2 ...........\n"
     ]
    },
    {
     "name": "stderr",
     "output_type": "stream",
     "text": [
      "/Users/ZachV/opt/anaconda3/lib/python3.7/site-packages/sklearn/tree/_classes.py:310: FutureWarning: The min_impurity_split parameter is deprecated. Its default value has changed from 1e-7 to 0 in version 0.23, and it will be removed in 0.25. Use the min_impurity_decrease parameter instead.\n",
      "  FutureWarning)\n"
     ]
    },
    {
     "name": "stdout",
     "output_type": "stream",
     "text": [
      "[CV]  ccp_alpha=0, max_leaf_nodes=5, min_impurity_split=0.2, total=   1.4s\n",
      "[CV] ccp_alpha=0, max_leaf_nodes=5, min_impurity_split=0.2 ...........\n"
     ]
    },
    {
     "name": "stderr",
     "output_type": "stream",
     "text": [
      "/Users/ZachV/opt/anaconda3/lib/python3.7/site-packages/sklearn/tree/_classes.py:310: FutureWarning: The min_impurity_split parameter is deprecated. Its default value has changed from 1e-7 to 0 in version 0.23, and it will be removed in 0.25. Use the min_impurity_decrease parameter instead.\n",
      "  FutureWarning)\n"
     ]
    },
    {
     "name": "stdout",
     "output_type": "stream",
     "text": [
      "[CV]  ccp_alpha=0, max_leaf_nodes=5, min_impurity_split=0.2, total=   1.7s\n",
      "[CV] ccp_alpha=0, max_leaf_nodes=5, min_impurity_split=0.2 ...........\n"
     ]
    },
    {
     "name": "stderr",
     "output_type": "stream",
     "text": [
      "/Users/ZachV/opt/anaconda3/lib/python3.7/site-packages/sklearn/tree/_classes.py:310: FutureWarning: The min_impurity_split parameter is deprecated. Its default value has changed from 1e-7 to 0 in version 0.23, and it will be removed in 0.25. Use the min_impurity_decrease parameter instead.\n",
      "  FutureWarning)\n"
     ]
    },
    {
     "name": "stdout",
     "output_type": "stream",
     "text": [
      "[CV]  ccp_alpha=0, max_leaf_nodes=5, min_impurity_split=0.2, total=   1.5s\n",
      "[CV] ccp_alpha=0, max_leaf_nodes=5, min_impurity_split=0.2 ...........\n"
     ]
    },
    {
     "name": "stderr",
     "output_type": "stream",
     "text": [
      "/Users/ZachV/opt/anaconda3/lib/python3.7/site-packages/sklearn/tree/_classes.py:310: FutureWarning: The min_impurity_split parameter is deprecated. Its default value has changed from 1e-7 to 0 in version 0.23, and it will be removed in 0.25. Use the min_impurity_decrease parameter instead.\n",
      "  FutureWarning)\n"
     ]
    },
    {
     "name": "stdout",
     "output_type": "stream",
     "text": [
      "[CV]  ccp_alpha=0, max_leaf_nodes=5, min_impurity_split=0.2, total=   1.5s\n",
      "[CV] ccp_alpha=0, max_leaf_nodes=5, min_impurity_split=0.3 ...........\n"
     ]
    },
    {
     "name": "stderr",
     "output_type": "stream",
     "text": [
      "/Users/ZachV/opt/anaconda3/lib/python3.7/site-packages/sklearn/tree/_classes.py:310: FutureWarning: The min_impurity_split parameter is deprecated. Its default value has changed from 1e-7 to 0 in version 0.23, and it will be removed in 0.25. Use the min_impurity_decrease parameter instead.\n",
      "  FutureWarning)\n"
     ]
    },
    {
     "name": "stdout",
     "output_type": "stream",
     "text": [
      "[CV]  ccp_alpha=0, max_leaf_nodes=5, min_impurity_split=0.3, total=   1.2s\n",
      "[CV] ccp_alpha=0, max_leaf_nodes=5, min_impurity_split=0.3 ...........\n"
     ]
    },
    {
     "name": "stderr",
     "output_type": "stream",
     "text": [
      "/Users/ZachV/opt/anaconda3/lib/python3.7/site-packages/sklearn/tree/_classes.py:310: FutureWarning: The min_impurity_split parameter is deprecated. Its default value has changed from 1e-7 to 0 in version 0.23, and it will be removed in 0.25. Use the min_impurity_decrease parameter instead.\n",
      "  FutureWarning)\n"
     ]
    },
    {
     "name": "stdout",
     "output_type": "stream",
     "text": [
      "[CV]  ccp_alpha=0, max_leaf_nodes=5, min_impurity_split=0.3, total=   1.3s\n",
      "[CV] ccp_alpha=0, max_leaf_nodes=5, min_impurity_split=0.3 ...........\n"
     ]
    },
    {
     "name": "stderr",
     "output_type": "stream",
     "text": [
      "/Users/ZachV/opt/anaconda3/lib/python3.7/site-packages/sklearn/tree/_classes.py:310: FutureWarning: The min_impurity_split parameter is deprecated. Its default value has changed from 1e-7 to 0 in version 0.23, and it will be removed in 0.25. Use the min_impurity_decrease parameter instead.\n",
      "  FutureWarning)\n"
     ]
    },
    {
     "name": "stdout",
     "output_type": "stream",
     "text": [
      "[CV]  ccp_alpha=0, max_leaf_nodes=5, min_impurity_split=0.3, total=   1.4s\n",
      "[CV] ccp_alpha=0, max_leaf_nodes=5, min_impurity_split=0.3 ...........\n"
     ]
    },
    {
     "name": "stderr",
     "output_type": "stream",
     "text": [
      "/Users/ZachV/opt/anaconda3/lib/python3.7/site-packages/sklearn/tree/_classes.py:310: FutureWarning: The min_impurity_split parameter is deprecated. Its default value has changed from 1e-7 to 0 in version 0.23, and it will be removed in 0.25. Use the min_impurity_decrease parameter instead.\n",
      "  FutureWarning)\n"
     ]
    },
    {
     "name": "stdout",
     "output_type": "stream",
     "text": [
      "[CV]  ccp_alpha=0, max_leaf_nodes=5, min_impurity_split=0.3, total=   1.3s\n",
      "[CV] ccp_alpha=0, max_leaf_nodes=5, min_impurity_split=0.3 ...........\n"
     ]
    },
    {
     "name": "stderr",
     "output_type": "stream",
     "text": [
      "/Users/ZachV/opt/anaconda3/lib/python3.7/site-packages/sklearn/tree/_classes.py:310: FutureWarning: The min_impurity_split parameter is deprecated. Its default value has changed from 1e-7 to 0 in version 0.23, and it will be removed in 0.25. Use the min_impurity_decrease parameter instead.\n",
      "  FutureWarning)\n"
     ]
    },
    {
     "name": "stdout",
     "output_type": "stream",
     "text": [
      "[CV]  ccp_alpha=0, max_leaf_nodes=5, min_impurity_split=0.3, total=   1.3s\n",
      "[CV] ccp_alpha=0, max_leaf_nodes=5, min_impurity_split=0.4 ...........\n"
     ]
    },
    {
     "name": "stderr",
     "output_type": "stream",
     "text": [
      "/Users/ZachV/opt/anaconda3/lib/python3.7/site-packages/sklearn/tree/_classes.py:310: FutureWarning: The min_impurity_split parameter is deprecated. Its default value has changed from 1e-7 to 0 in version 0.23, and it will be removed in 0.25. Use the min_impurity_decrease parameter instead.\n",
      "  FutureWarning)\n"
     ]
    },
    {
     "name": "stdout",
     "output_type": "stream",
     "text": [
      "[CV]  ccp_alpha=0, max_leaf_nodes=5, min_impurity_split=0.4, total=   0.9s\n",
      "[CV] ccp_alpha=0, max_leaf_nodes=5, min_impurity_split=0.4 ...........\n"
     ]
    },
    {
     "name": "stderr",
     "output_type": "stream",
     "text": [
      "/Users/ZachV/opt/anaconda3/lib/python3.7/site-packages/sklearn/tree/_classes.py:310: FutureWarning: The min_impurity_split parameter is deprecated. Its default value has changed from 1e-7 to 0 in version 0.23, and it will be removed in 0.25. Use the min_impurity_decrease parameter instead.\n",
      "  FutureWarning)\n"
     ]
    },
    {
     "name": "stdout",
     "output_type": "stream",
     "text": [
      "[CV]  ccp_alpha=0, max_leaf_nodes=5, min_impurity_split=0.4, total=   0.9s\n",
      "[CV] ccp_alpha=0, max_leaf_nodes=5, min_impurity_split=0.4 ...........\n"
     ]
    },
    {
     "name": "stderr",
     "output_type": "stream",
     "text": [
      "/Users/ZachV/opt/anaconda3/lib/python3.7/site-packages/sklearn/tree/_classes.py:310: FutureWarning: The min_impurity_split parameter is deprecated. Its default value has changed from 1e-7 to 0 in version 0.23, and it will be removed in 0.25. Use the min_impurity_decrease parameter instead.\n",
      "  FutureWarning)\n"
     ]
    },
    {
     "name": "stdout",
     "output_type": "stream",
     "text": [
      "[CV]  ccp_alpha=0, max_leaf_nodes=5, min_impurity_split=0.4, total=   0.9s\n",
      "[CV] ccp_alpha=0, max_leaf_nodes=5, min_impurity_split=0.4 ...........\n"
     ]
    },
    {
     "name": "stderr",
     "output_type": "stream",
     "text": [
      "/Users/ZachV/opt/anaconda3/lib/python3.7/site-packages/sklearn/tree/_classes.py:310: FutureWarning: The min_impurity_split parameter is deprecated. Its default value has changed from 1e-7 to 0 in version 0.23, and it will be removed in 0.25. Use the min_impurity_decrease parameter instead.\n",
      "  FutureWarning)\n"
     ]
    },
    {
     "name": "stdout",
     "output_type": "stream",
     "text": [
      "[CV]  ccp_alpha=0, max_leaf_nodes=5, min_impurity_split=0.4, total=   0.9s\n",
      "[CV] ccp_alpha=0, max_leaf_nodes=5, min_impurity_split=0.4 ...........\n"
     ]
    },
    {
     "name": "stderr",
     "output_type": "stream",
     "text": [
      "/Users/ZachV/opt/anaconda3/lib/python3.7/site-packages/sklearn/tree/_classes.py:310: FutureWarning: The min_impurity_split parameter is deprecated. Its default value has changed from 1e-7 to 0 in version 0.23, and it will be removed in 0.25. Use the min_impurity_decrease parameter instead.\n",
      "  FutureWarning)\n"
     ]
    },
    {
     "name": "stdout",
     "output_type": "stream",
     "text": [
      "[CV]  ccp_alpha=0, max_leaf_nodes=5, min_impurity_split=0.4, total=   0.9s\n",
      "[CV] ccp_alpha=0, max_leaf_nodes=5, min_impurity_split=0.5 ...........\n"
     ]
    },
    {
     "name": "stderr",
     "output_type": "stream",
     "text": [
      "/Users/ZachV/opt/anaconda3/lib/python3.7/site-packages/sklearn/tree/_classes.py:310: FutureWarning: The min_impurity_split parameter is deprecated. Its default value has changed from 1e-7 to 0 in version 0.23, and it will be removed in 0.25. Use the min_impurity_decrease parameter instead.\n",
      "  FutureWarning)\n"
     ]
    },
    {
     "name": "stdout",
     "output_type": "stream",
     "text": [
      "[CV]  ccp_alpha=0, max_leaf_nodes=5, min_impurity_split=0.5, total=   0.9s\n",
      "[CV] ccp_alpha=0, max_leaf_nodes=5, min_impurity_split=0.5 ...........\n"
     ]
    },
    {
     "name": "stderr",
     "output_type": "stream",
     "text": [
      "/Users/ZachV/opt/anaconda3/lib/python3.7/site-packages/sklearn/tree/_classes.py:310: FutureWarning: The min_impurity_split parameter is deprecated. Its default value has changed from 1e-7 to 0 in version 0.23, and it will be removed in 0.25. Use the min_impurity_decrease parameter instead.\n",
      "  FutureWarning)\n"
     ]
    },
    {
     "name": "stdout",
     "output_type": "stream",
     "text": [
      "[CV]  ccp_alpha=0, max_leaf_nodes=5, min_impurity_split=0.5, total=   0.9s\n",
      "[CV] ccp_alpha=0, max_leaf_nodes=5, min_impurity_split=0.5 ...........\n"
     ]
    },
    {
     "name": "stderr",
     "output_type": "stream",
     "text": [
      "/Users/ZachV/opt/anaconda3/lib/python3.7/site-packages/sklearn/tree/_classes.py:310: FutureWarning: The min_impurity_split parameter is deprecated. Its default value has changed from 1e-7 to 0 in version 0.23, and it will be removed in 0.25. Use the min_impurity_decrease parameter instead.\n",
      "  FutureWarning)\n"
     ]
    },
    {
     "name": "stdout",
     "output_type": "stream",
     "text": [
      "[CV]  ccp_alpha=0, max_leaf_nodes=5, min_impurity_split=0.5, total=   0.9s\n",
      "[CV] ccp_alpha=0, max_leaf_nodes=5, min_impurity_split=0.5 ...........\n"
     ]
    },
    {
     "name": "stderr",
     "output_type": "stream",
     "text": [
      "/Users/ZachV/opt/anaconda3/lib/python3.7/site-packages/sklearn/tree/_classes.py:310: FutureWarning: The min_impurity_split parameter is deprecated. Its default value has changed from 1e-7 to 0 in version 0.23, and it will be removed in 0.25. Use the min_impurity_decrease parameter instead.\n",
      "  FutureWarning)\n"
     ]
    },
    {
     "name": "stdout",
     "output_type": "stream",
     "text": [
      "[CV]  ccp_alpha=0, max_leaf_nodes=5, min_impurity_split=0.5, total=   0.9s\n",
      "[CV] ccp_alpha=0, max_leaf_nodes=5, min_impurity_split=0.5 ...........\n"
     ]
    },
    {
     "name": "stderr",
     "output_type": "stream",
     "text": [
      "/Users/ZachV/opt/anaconda3/lib/python3.7/site-packages/sklearn/tree/_classes.py:310: FutureWarning: The min_impurity_split parameter is deprecated. Its default value has changed from 1e-7 to 0 in version 0.23, and it will be removed in 0.25. Use the min_impurity_decrease parameter instead.\n",
      "  FutureWarning)\n"
     ]
    },
    {
     "name": "stdout",
     "output_type": "stream",
     "text": [
      "[CV]  ccp_alpha=0, max_leaf_nodes=5, min_impurity_split=0.5, total=   0.9s\n",
      "[CV] ccp_alpha=0, max_leaf_nodes=10, min_impurity_split=0 ............\n"
     ]
    },
    {
     "name": "stderr",
     "output_type": "stream",
     "text": [
      "/Users/ZachV/opt/anaconda3/lib/python3.7/site-packages/sklearn/tree/_classes.py:310: FutureWarning: The min_impurity_split parameter is deprecated. Its default value has changed from 1e-7 to 0 in version 0.23, and it will be removed in 0.25. Use the min_impurity_decrease parameter instead.\n",
      "  FutureWarning)\n"
     ]
    },
    {
     "name": "stdout",
     "output_type": "stream",
     "text": [
      "[CV]  ccp_alpha=0, max_leaf_nodes=10, min_impurity_split=0, total=   2.3s\n",
      "[CV] ccp_alpha=0, max_leaf_nodes=10, min_impurity_split=0 ............\n"
     ]
    },
    {
     "name": "stderr",
     "output_type": "stream",
     "text": [
      "/Users/ZachV/opt/anaconda3/lib/python3.7/site-packages/sklearn/tree/_classes.py:310: FutureWarning: The min_impurity_split parameter is deprecated. Its default value has changed from 1e-7 to 0 in version 0.23, and it will be removed in 0.25. Use the min_impurity_decrease parameter instead.\n",
      "  FutureWarning)\n"
     ]
    },
    {
     "name": "stdout",
     "output_type": "stream",
     "text": [
      "[CV]  ccp_alpha=0, max_leaf_nodes=10, min_impurity_split=0, total=   2.3s\n",
      "[CV] ccp_alpha=0, max_leaf_nodes=10, min_impurity_split=0 ............\n"
     ]
    },
    {
     "name": "stderr",
     "output_type": "stream",
     "text": [
      "/Users/ZachV/opt/anaconda3/lib/python3.7/site-packages/sklearn/tree/_classes.py:310: FutureWarning: The min_impurity_split parameter is deprecated. Its default value has changed from 1e-7 to 0 in version 0.23, and it will be removed in 0.25. Use the min_impurity_decrease parameter instead.\n",
      "  FutureWarning)\n"
     ]
    },
    {
     "name": "stdout",
     "output_type": "stream",
     "text": [
      "[CV]  ccp_alpha=0, max_leaf_nodes=10, min_impurity_split=0, total=   2.4s\n",
      "[CV] ccp_alpha=0, max_leaf_nodes=10, min_impurity_split=0 ............\n"
     ]
    },
    {
     "name": "stderr",
     "output_type": "stream",
     "text": [
      "/Users/ZachV/opt/anaconda3/lib/python3.7/site-packages/sklearn/tree/_classes.py:310: FutureWarning: The min_impurity_split parameter is deprecated. Its default value has changed from 1e-7 to 0 in version 0.23, and it will be removed in 0.25. Use the min_impurity_decrease parameter instead.\n",
      "  FutureWarning)\n"
     ]
    },
    {
     "name": "stdout",
     "output_type": "stream",
     "text": [
      "[CV]  ccp_alpha=0, max_leaf_nodes=10, min_impurity_split=0, total=   2.4s\n",
      "[CV] ccp_alpha=0, max_leaf_nodes=10, min_impurity_split=0 ............\n"
     ]
    },
    {
     "name": "stderr",
     "output_type": "stream",
     "text": [
      "/Users/ZachV/opt/anaconda3/lib/python3.7/site-packages/sklearn/tree/_classes.py:310: FutureWarning: The min_impurity_split parameter is deprecated. Its default value has changed from 1e-7 to 0 in version 0.23, and it will be removed in 0.25. Use the min_impurity_decrease parameter instead.\n",
      "  FutureWarning)\n"
     ]
    },
    {
     "name": "stdout",
     "output_type": "stream",
     "text": [
      "[CV]  ccp_alpha=0, max_leaf_nodes=10, min_impurity_split=0, total=   2.5s\n",
      "[CV] ccp_alpha=0, max_leaf_nodes=10, min_impurity_split=0.1 ..........\n"
     ]
    },
    {
     "name": "stderr",
     "output_type": "stream",
     "text": [
      "/Users/ZachV/opt/anaconda3/lib/python3.7/site-packages/sklearn/tree/_classes.py:310: FutureWarning: The min_impurity_split parameter is deprecated. Its default value has changed from 1e-7 to 0 in version 0.23, and it will be removed in 0.25. Use the min_impurity_decrease parameter instead.\n",
      "  FutureWarning)\n"
     ]
    },
    {
     "name": "stdout",
     "output_type": "stream",
     "text": [
      "[CV]  ccp_alpha=0, max_leaf_nodes=10, min_impurity_split=0.1, total=   1.9s\n",
      "[CV] ccp_alpha=0, max_leaf_nodes=10, min_impurity_split=0.1 ..........\n"
     ]
    },
    {
     "name": "stderr",
     "output_type": "stream",
     "text": [
      "/Users/ZachV/opt/anaconda3/lib/python3.7/site-packages/sklearn/tree/_classes.py:310: FutureWarning: The min_impurity_split parameter is deprecated. Its default value has changed from 1e-7 to 0 in version 0.23, and it will be removed in 0.25. Use the min_impurity_decrease parameter instead.\n",
      "  FutureWarning)\n"
     ]
    },
    {
     "name": "stdout",
     "output_type": "stream",
     "text": [
      "[CV]  ccp_alpha=0, max_leaf_nodes=10, min_impurity_split=0.1, total=   1.9s\n",
      "[CV] ccp_alpha=0, max_leaf_nodes=10, min_impurity_split=0.1 ..........\n"
     ]
    },
    {
     "name": "stderr",
     "output_type": "stream",
     "text": [
      "/Users/ZachV/opt/anaconda3/lib/python3.7/site-packages/sklearn/tree/_classes.py:310: FutureWarning: The min_impurity_split parameter is deprecated. Its default value has changed from 1e-7 to 0 in version 0.23, and it will be removed in 0.25. Use the min_impurity_decrease parameter instead.\n",
      "  FutureWarning)\n"
     ]
    },
    {
     "name": "stdout",
     "output_type": "stream",
     "text": [
      "[CV]  ccp_alpha=0, max_leaf_nodes=10, min_impurity_split=0.1, total=   1.8s\n",
      "[CV] ccp_alpha=0, max_leaf_nodes=10, min_impurity_split=0.1 ..........\n"
     ]
    },
    {
     "name": "stderr",
     "output_type": "stream",
     "text": [
      "/Users/ZachV/opt/anaconda3/lib/python3.7/site-packages/sklearn/tree/_classes.py:310: FutureWarning: The min_impurity_split parameter is deprecated. Its default value has changed from 1e-7 to 0 in version 0.23, and it will be removed in 0.25. Use the min_impurity_decrease parameter instead.\n",
      "  FutureWarning)\n"
     ]
    },
    {
     "name": "stdout",
     "output_type": "stream",
     "text": [
      "[CV]  ccp_alpha=0, max_leaf_nodes=10, min_impurity_split=0.1, total=   1.8s\n",
      "[CV] ccp_alpha=0, max_leaf_nodes=10, min_impurity_split=0.1 ..........\n"
     ]
    },
    {
     "name": "stderr",
     "output_type": "stream",
     "text": [
      "/Users/ZachV/opt/anaconda3/lib/python3.7/site-packages/sklearn/tree/_classes.py:310: FutureWarning: The min_impurity_split parameter is deprecated. Its default value has changed from 1e-7 to 0 in version 0.23, and it will be removed in 0.25. Use the min_impurity_decrease parameter instead.\n",
      "  FutureWarning)\n"
     ]
    },
    {
     "name": "stdout",
     "output_type": "stream",
     "text": [
      "[CV]  ccp_alpha=0, max_leaf_nodes=10, min_impurity_split=0.1, total=   1.7s\n",
      "[CV] ccp_alpha=0, max_leaf_nodes=10, min_impurity_split=0.2 ..........\n"
     ]
    },
    {
     "name": "stderr",
     "output_type": "stream",
     "text": [
      "/Users/ZachV/opt/anaconda3/lib/python3.7/site-packages/sklearn/tree/_classes.py:310: FutureWarning: The min_impurity_split parameter is deprecated. Its default value has changed from 1e-7 to 0 in version 0.23, and it will be removed in 0.25. Use the min_impurity_decrease parameter instead.\n",
      "  FutureWarning)\n"
     ]
    },
    {
     "name": "stdout",
     "output_type": "stream",
     "text": [
      "[CV]  ccp_alpha=0, max_leaf_nodes=10, min_impurity_split=0.2, total=   1.4s\n",
      "[CV] ccp_alpha=0, max_leaf_nodes=10, min_impurity_split=0.2 ..........\n"
     ]
    },
    {
     "name": "stderr",
     "output_type": "stream",
     "text": [
      "/Users/ZachV/opt/anaconda3/lib/python3.7/site-packages/sklearn/tree/_classes.py:310: FutureWarning: The min_impurity_split parameter is deprecated. Its default value has changed from 1e-7 to 0 in version 0.23, and it will be removed in 0.25. Use the min_impurity_decrease parameter instead.\n",
      "  FutureWarning)\n"
     ]
    },
    {
     "name": "stdout",
     "output_type": "stream",
     "text": [
      "[CV]  ccp_alpha=0, max_leaf_nodes=10, min_impurity_split=0.2, total=   1.5s\n",
      "[CV] ccp_alpha=0, max_leaf_nodes=10, min_impurity_split=0.2 ..........\n"
     ]
    },
    {
     "name": "stderr",
     "output_type": "stream",
     "text": [
      "/Users/ZachV/opt/anaconda3/lib/python3.7/site-packages/sklearn/tree/_classes.py:310: FutureWarning: The min_impurity_split parameter is deprecated. Its default value has changed from 1e-7 to 0 in version 0.23, and it will be removed in 0.25. Use the min_impurity_decrease parameter instead.\n",
      "  FutureWarning)\n"
     ]
    },
    {
     "name": "stdout",
     "output_type": "stream",
     "text": [
      "[CV]  ccp_alpha=0, max_leaf_nodes=10, min_impurity_split=0.2, total=   1.4s\n",
      "[CV] ccp_alpha=0, max_leaf_nodes=10, min_impurity_split=0.2 ..........\n"
     ]
    },
    {
     "name": "stderr",
     "output_type": "stream",
     "text": [
      "/Users/ZachV/opt/anaconda3/lib/python3.7/site-packages/sklearn/tree/_classes.py:310: FutureWarning: The min_impurity_split parameter is deprecated. Its default value has changed from 1e-7 to 0 in version 0.23, and it will be removed in 0.25. Use the min_impurity_decrease parameter instead.\n",
      "  FutureWarning)\n"
     ]
    },
    {
     "name": "stdout",
     "output_type": "stream",
     "text": [
      "[CV]  ccp_alpha=0, max_leaf_nodes=10, min_impurity_split=0.2, total=   1.5s\n",
      "[CV] ccp_alpha=0, max_leaf_nodes=10, min_impurity_split=0.2 ..........\n"
     ]
    },
    {
     "name": "stderr",
     "output_type": "stream",
     "text": [
      "/Users/ZachV/opt/anaconda3/lib/python3.7/site-packages/sklearn/tree/_classes.py:310: FutureWarning: The min_impurity_split parameter is deprecated. Its default value has changed from 1e-7 to 0 in version 0.23, and it will be removed in 0.25. Use the min_impurity_decrease parameter instead.\n",
      "  FutureWarning)\n"
     ]
    },
    {
     "name": "stdout",
     "output_type": "stream",
     "text": [
      "[CV]  ccp_alpha=0, max_leaf_nodes=10, min_impurity_split=0.2, total=   1.5s\n",
      "[CV] ccp_alpha=0, max_leaf_nodes=10, min_impurity_split=0.3 ..........\n"
     ]
    },
    {
     "name": "stderr",
     "output_type": "stream",
     "text": [
      "/Users/ZachV/opt/anaconda3/lib/python3.7/site-packages/sklearn/tree/_classes.py:310: FutureWarning: The min_impurity_split parameter is deprecated. Its default value has changed from 1e-7 to 0 in version 0.23, and it will be removed in 0.25. Use the min_impurity_decrease parameter instead.\n",
      "  FutureWarning)\n"
     ]
    },
    {
     "name": "stdout",
     "output_type": "stream",
     "text": [
      "[CV]  ccp_alpha=0, max_leaf_nodes=10, min_impurity_split=0.3, total=   1.3s\n",
      "[CV] ccp_alpha=0, max_leaf_nodes=10, min_impurity_split=0.3 ..........\n"
     ]
    },
    {
     "name": "stderr",
     "output_type": "stream",
     "text": [
      "/Users/ZachV/opt/anaconda3/lib/python3.7/site-packages/sklearn/tree/_classes.py:310: FutureWarning: The min_impurity_split parameter is deprecated. Its default value has changed from 1e-7 to 0 in version 0.23, and it will be removed in 0.25. Use the min_impurity_decrease parameter instead.\n",
      "  FutureWarning)\n"
     ]
    },
    {
     "name": "stdout",
     "output_type": "stream",
     "text": [
      "[CV]  ccp_alpha=0, max_leaf_nodes=10, min_impurity_split=0.3, total=   1.3s\n",
      "[CV] ccp_alpha=0, max_leaf_nodes=10, min_impurity_split=0.3 ..........\n"
     ]
    },
    {
     "name": "stderr",
     "output_type": "stream",
     "text": [
      "/Users/ZachV/opt/anaconda3/lib/python3.7/site-packages/sklearn/tree/_classes.py:310: FutureWarning: The min_impurity_split parameter is deprecated. Its default value has changed from 1e-7 to 0 in version 0.23, and it will be removed in 0.25. Use the min_impurity_decrease parameter instead.\n",
      "  FutureWarning)\n"
     ]
    },
    {
     "name": "stdout",
     "output_type": "stream",
     "text": [
      "[CV]  ccp_alpha=0, max_leaf_nodes=10, min_impurity_split=0.3, total=   1.2s\n",
      "[CV] ccp_alpha=0, max_leaf_nodes=10, min_impurity_split=0.3 ..........\n"
     ]
    },
    {
     "name": "stderr",
     "output_type": "stream",
     "text": [
      "/Users/ZachV/opt/anaconda3/lib/python3.7/site-packages/sklearn/tree/_classes.py:310: FutureWarning: The min_impurity_split parameter is deprecated. Its default value has changed from 1e-7 to 0 in version 0.23, and it will be removed in 0.25. Use the min_impurity_decrease parameter instead.\n",
      "  FutureWarning)\n"
     ]
    },
    {
     "name": "stdout",
     "output_type": "stream",
     "text": [
      "[CV]  ccp_alpha=0, max_leaf_nodes=10, min_impurity_split=0.3, total=   1.2s\n",
      "[CV] ccp_alpha=0, max_leaf_nodes=10, min_impurity_split=0.3 ..........\n"
     ]
    },
    {
     "name": "stderr",
     "output_type": "stream",
     "text": [
      "/Users/ZachV/opt/anaconda3/lib/python3.7/site-packages/sklearn/tree/_classes.py:310: FutureWarning: The min_impurity_split parameter is deprecated. Its default value has changed from 1e-7 to 0 in version 0.23, and it will be removed in 0.25. Use the min_impurity_decrease parameter instead.\n",
      "  FutureWarning)\n"
     ]
    },
    {
     "name": "stdout",
     "output_type": "stream",
     "text": [
      "[CV]  ccp_alpha=0, max_leaf_nodes=10, min_impurity_split=0.3, total=   1.3s\n",
      "[CV] ccp_alpha=0, max_leaf_nodes=10, min_impurity_split=0.4 ..........\n"
     ]
    },
    {
     "name": "stderr",
     "output_type": "stream",
     "text": [
      "/Users/ZachV/opt/anaconda3/lib/python3.7/site-packages/sklearn/tree/_classes.py:310: FutureWarning: The min_impurity_split parameter is deprecated. Its default value has changed from 1e-7 to 0 in version 0.23, and it will be removed in 0.25. Use the min_impurity_decrease parameter instead.\n",
      "  FutureWarning)\n"
     ]
    },
    {
     "name": "stdout",
     "output_type": "stream",
     "text": [
      "[CV]  ccp_alpha=0, max_leaf_nodes=10, min_impurity_split=0.4, total=   0.9s\n",
      "[CV] ccp_alpha=0, max_leaf_nodes=10, min_impurity_split=0.4 ..........\n"
     ]
    },
    {
     "name": "stderr",
     "output_type": "stream",
     "text": [
      "/Users/ZachV/opt/anaconda3/lib/python3.7/site-packages/sklearn/tree/_classes.py:310: FutureWarning: The min_impurity_split parameter is deprecated. Its default value has changed from 1e-7 to 0 in version 0.23, and it will be removed in 0.25. Use the min_impurity_decrease parameter instead.\n",
      "  FutureWarning)\n"
     ]
    },
    {
     "name": "stdout",
     "output_type": "stream",
     "text": [
      "[CV]  ccp_alpha=0, max_leaf_nodes=10, min_impurity_split=0.4, total=   0.9s\n",
      "[CV] ccp_alpha=0, max_leaf_nodes=10, min_impurity_split=0.4 ..........\n"
     ]
    },
    {
     "name": "stderr",
     "output_type": "stream",
     "text": [
      "/Users/ZachV/opt/anaconda3/lib/python3.7/site-packages/sklearn/tree/_classes.py:310: FutureWarning: The min_impurity_split parameter is deprecated. Its default value has changed from 1e-7 to 0 in version 0.23, and it will be removed in 0.25. Use the min_impurity_decrease parameter instead.\n",
      "  FutureWarning)\n"
     ]
    },
    {
     "name": "stdout",
     "output_type": "stream",
     "text": [
      "[CV]  ccp_alpha=0, max_leaf_nodes=10, min_impurity_split=0.4, total=   0.9s\n",
      "[CV] ccp_alpha=0, max_leaf_nodes=10, min_impurity_split=0.4 ..........\n"
     ]
    },
    {
     "name": "stderr",
     "output_type": "stream",
     "text": [
      "/Users/ZachV/opt/anaconda3/lib/python3.7/site-packages/sklearn/tree/_classes.py:310: FutureWarning: The min_impurity_split parameter is deprecated. Its default value has changed from 1e-7 to 0 in version 0.23, and it will be removed in 0.25. Use the min_impurity_decrease parameter instead.\n",
      "  FutureWarning)\n"
     ]
    },
    {
     "name": "stdout",
     "output_type": "stream",
     "text": [
      "[CV]  ccp_alpha=0, max_leaf_nodes=10, min_impurity_split=0.4, total=   0.9s\n",
      "[CV] ccp_alpha=0, max_leaf_nodes=10, min_impurity_split=0.4 ..........\n"
     ]
    },
    {
     "name": "stderr",
     "output_type": "stream",
     "text": [
      "/Users/ZachV/opt/anaconda3/lib/python3.7/site-packages/sklearn/tree/_classes.py:310: FutureWarning: The min_impurity_split parameter is deprecated. Its default value has changed from 1e-7 to 0 in version 0.23, and it will be removed in 0.25. Use the min_impurity_decrease parameter instead.\n",
      "  FutureWarning)\n"
     ]
    },
    {
     "name": "stdout",
     "output_type": "stream",
     "text": [
      "[CV]  ccp_alpha=0, max_leaf_nodes=10, min_impurity_split=0.4, total=   1.0s\n",
      "[CV] ccp_alpha=0, max_leaf_nodes=10, min_impurity_split=0.5 ..........\n"
     ]
    },
    {
     "name": "stderr",
     "output_type": "stream",
     "text": [
      "/Users/ZachV/opt/anaconda3/lib/python3.7/site-packages/sklearn/tree/_classes.py:310: FutureWarning: The min_impurity_split parameter is deprecated. Its default value has changed from 1e-7 to 0 in version 0.23, and it will be removed in 0.25. Use the min_impurity_decrease parameter instead.\n",
      "  FutureWarning)\n"
     ]
    },
    {
     "name": "stdout",
     "output_type": "stream",
     "text": [
      "[CV]  ccp_alpha=0, max_leaf_nodes=10, min_impurity_split=0.5, total=   1.0s\n",
      "[CV] ccp_alpha=0, max_leaf_nodes=10, min_impurity_split=0.5 ..........\n"
     ]
    },
    {
     "name": "stderr",
     "output_type": "stream",
     "text": [
      "/Users/ZachV/opt/anaconda3/lib/python3.7/site-packages/sklearn/tree/_classes.py:310: FutureWarning: The min_impurity_split parameter is deprecated. Its default value has changed from 1e-7 to 0 in version 0.23, and it will be removed in 0.25. Use the min_impurity_decrease parameter instead.\n",
      "  FutureWarning)\n"
     ]
    },
    {
     "name": "stdout",
     "output_type": "stream",
     "text": [
      "[CV]  ccp_alpha=0, max_leaf_nodes=10, min_impurity_split=0.5, total=   0.9s\n",
      "[CV] ccp_alpha=0, max_leaf_nodes=10, min_impurity_split=0.5 ..........\n"
     ]
    },
    {
     "name": "stderr",
     "output_type": "stream",
     "text": [
      "/Users/ZachV/opt/anaconda3/lib/python3.7/site-packages/sklearn/tree/_classes.py:310: FutureWarning: The min_impurity_split parameter is deprecated. Its default value has changed from 1e-7 to 0 in version 0.23, and it will be removed in 0.25. Use the min_impurity_decrease parameter instead.\n",
      "  FutureWarning)\n"
     ]
    },
    {
     "name": "stdout",
     "output_type": "stream",
     "text": [
      "[CV]  ccp_alpha=0, max_leaf_nodes=10, min_impurity_split=0.5, total=   0.9s\n",
      "[CV] ccp_alpha=0, max_leaf_nodes=10, min_impurity_split=0.5 ..........\n"
     ]
    },
    {
     "name": "stderr",
     "output_type": "stream",
     "text": [
      "/Users/ZachV/opt/anaconda3/lib/python3.7/site-packages/sklearn/tree/_classes.py:310: FutureWarning: The min_impurity_split parameter is deprecated. Its default value has changed from 1e-7 to 0 in version 0.23, and it will be removed in 0.25. Use the min_impurity_decrease parameter instead.\n",
      "  FutureWarning)\n"
     ]
    },
    {
     "name": "stdout",
     "output_type": "stream",
     "text": [
      "[CV]  ccp_alpha=0, max_leaf_nodes=10, min_impurity_split=0.5, total=   1.0s\n",
      "[CV] ccp_alpha=0, max_leaf_nodes=10, min_impurity_split=0.5 ..........\n"
     ]
    },
    {
     "name": "stderr",
     "output_type": "stream",
     "text": [
      "/Users/ZachV/opt/anaconda3/lib/python3.7/site-packages/sklearn/tree/_classes.py:310: FutureWarning: The min_impurity_split parameter is deprecated. Its default value has changed from 1e-7 to 0 in version 0.23, and it will be removed in 0.25. Use the min_impurity_decrease parameter instead.\n",
      "  FutureWarning)\n"
     ]
    },
    {
     "name": "stdout",
     "output_type": "stream",
     "text": [
      "[CV]  ccp_alpha=0, max_leaf_nodes=10, min_impurity_split=0.5, total=   1.0s\n",
      "[CV] ccp_alpha=0, max_leaf_nodes=15, min_impurity_split=0 ............\n"
     ]
    },
    {
     "name": "stderr",
     "output_type": "stream",
     "text": [
      "/Users/ZachV/opt/anaconda3/lib/python3.7/site-packages/sklearn/tree/_classes.py:310: FutureWarning: The min_impurity_split parameter is deprecated. Its default value has changed from 1e-7 to 0 in version 0.23, and it will be removed in 0.25. Use the min_impurity_decrease parameter instead.\n",
      "  FutureWarning)\n"
     ]
    },
    {
     "name": "stdout",
     "output_type": "stream",
     "text": [
      "[CV]  ccp_alpha=0, max_leaf_nodes=15, min_impurity_split=0, total=   3.0s\n",
      "[CV] ccp_alpha=0, max_leaf_nodes=15, min_impurity_split=0 ............\n"
     ]
    },
    {
     "name": "stderr",
     "output_type": "stream",
     "text": [
      "/Users/ZachV/opt/anaconda3/lib/python3.7/site-packages/sklearn/tree/_classes.py:310: FutureWarning: The min_impurity_split parameter is deprecated. Its default value has changed from 1e-7 to 0 in version 0.23, and it will be removed in 0.25. Use the min_impurity_decrease parameter instead.\n",
      "  FutureWarning)\n"
     ]
    },
    {
     "name": "stdout",
     "output_type": "stream",
     "text": [
      "[CV]  ccp_alpha=0, max_leaf_nodes=15, min_impurity_split=0, total=   2.5s\n",
      "[CV] ccp_alpha=0, max_leaf_nodes=15, min_impurity_split=0 ............\n"
     ]
    },
    {
     "name": "stderr",
     "output_type": "stream",
     "text": [
      "/Users/ZachV/opt/anaconda3/lib/python3.7/site-packages/sklearn/tree/_classes.py:310: FutureWarning: The min_impurity_split parameter is deprecated. Its default value has changed from 1e-7 to 0 in version 0.23, and it will be removed in 0.25. Use the min_impurity_decrease parameter instead.\n",
      "  FutureWarning)\n"
     ]
    },
    {
     "name": "stdout",
     "output_type": "stream",
     "text": [
      "[CV]  ccp_alpha=0, max_leaf_nodes=15, min_impurity_split=0, total=   2.6s\n",
      "[CV] ccp_alpha=0, max_leaf_nodes=15, min_impurity_split=0 ............\n"
     ]
    },
    {
     "name": "stderr",
     "output_type": "stream",
     "text": [
      "/Users/ZachV/opt/anaconda3/lib/python3.7/site-packages/sklearn/tree/_classes.py:310: FutureWarning: The min_impurity_split parameter is deprecated. Its default value has changed from 1e-7 to 0 in version 0.23, and it will be removed in 0.25. Use the min_impurity_decrease parameter instead.\n",
      "  FutureWarning)\n"
     ]
    },
    {
     "name": "stdout",
     "output_type": "stream",
     "text": [
      "[CV]  ccp_alpha=0, max_leaf_nodes=15, min_impurity_split=0, total=   2.6s\n",
      "[CV] ccp_alpha=0, max_leaf_nodes=15, min_impurity_split=0 ............\n"
     ]
    },
    {
     "name": "stderr",
     "output_type": "stream",
     "text": [
      "/Users/ZachV/opt/anaconda3/lib/python3.7/site-packages/sklearn/tree/_classes.py:310: FutureWarning: The min_impurity_split parameter is deprecated. Its default value has changed from 1e-7 to 0 in version 0.23, and it will be removed in 0.25. Use the min_impurity_decrease parameter instead.\n",
      "  FutureWarning)\n"
     ]
    },
    {
     "name": "stdout",
     "output_type": "stream",
     "text": [
      "[CV]  ccp_alpha=0, max_leaf_nodes=15, min_impurity_split=0, total=   2.5s\n",
      "[CV] ccp_alpha=0, max_leaf_nodes=15, min_impurity_split=0.1 ..........\n"
     ]
    },
    {
     "name": "stderr",
     "output_type": "stream",
     "text": [
      "/Users/ZachV/opt/anaconda3/lib/python3.7/site-packages/sklearn/tree/_classes.py:310: FutureWarning: The min_impurity_split parameter is deprecated. Its default value has changed from 1e-7 to 0 in version 0.23, and it will be removed in 0.25. Use the min_impurity_decrease parameter instead.\n",
      "  FutureWarning)\n"
     ]
    },
    {
     "name": "stdout",
     "output_type": "stream",
     "text": [
      "[CV]  ccp_alpha=0, max_leaf_nodes=15, min_impurity_split=0.1, total=   1.8s\n",
      "[CV] ccp_alpha=0, max_leaf_nodes=15, min_impurity_split=0.1 ..........\n"
     ]
    },
    {
     "name": "stderr",
     "output_type": "stream",
     "text": [
      "/Users/ZachV/opt/anaconda3/lib/python3.7/site-packages/sklearn/tree/_classes.py:310: FutureWarning: The min_impurity_split parameter is deprecated. Its default value has changed from 1e-7 to 0 in version 0.23, and it will be removed in 0.25. Use the min_impurity_decrease parameter instead.\n",
      "  FutureWarning)\n"
     ]
    },
    {
     "name": "stdout",
     "output_type": "stream",
     "text": [
      "[CV]  ccp_alpha=0, max_leaf_nodes=15, min_impurity_split=0.1, total=   1.8s\n",
      "[CV] ccp_alpha=0, max_leaf_nodes=15, min_impurity_split=0.1 ..........\n"
     ]
    },
    {
     "name": "stderr",
     "output_type": "stream",
     "text": [
      "/Users/ZachV/opt/anaconda3/lib/python3.7/site-packages/sklearn/tree/_classes.py:310: FutureWarning: The min_impurity_split parameter is deprecated. Its default value has changed from 1e-7 to 0 in version 0.23, and it will be removed in 0.25. Use the min_impurity_decrease parameter instead.\n",
      "  FutureWarning)\n"
     ]
    },
    {
     "name": "stdout",
     "output_type": "stream",
     "text": [
      "[CV]  ccp_alpha=0, max_leaf_nodes=15, min_impurity_split=0.1, total=   1.8s\n",
      "[CV] ccp_alpha=0, max_leaf_nodes=15, min_impurity_split=0.1 ..........\n"
     ]
    },
    {
     "name": "stderr",
     "output_type": "stream",
     "text": [
      "/Users/ZachV/opt/anaconda3/lib/python3.7/site-packages/sklearn/tree/_classes.py:310: FutureWarning: The min_impurity_split parameter is deprecated. Its default value has changed from 1e-7 to 0 in version 0.23, and it will be removed in 0.25. Use the min_impurity_decrease parameter instead.\n",
      "  FutureWarning)\n"
     ]
    },
    {
     "name": "stdout",
     "output_type": "stream",
     "text": [
      "[CV]  ccp_alpha=0, max_leaf_nodes=15, min_impurity_split=0.1, total=   1.8s\n",
      "[CV] ccp_alpha=0, max_leaf_nodes=15, min_impurity_split=0.1 ..........\n"
     ]
    },
    {
     "name": "stderr",
     "output_type": "stream",
     "text": [
      "/Users/ZachV/opt/anaconda3/lib/python3.7/site-packages/sklearn/tree/_classes.py:310: FutureWarning: The min_impurity_split parameter is deprecated. Its default value has changed from 1e-7 to 0 in version 0.23, and it will be removed in 0.25. Use the min_impurity_decrease parameter instead.\n",
      "  FutureWarning)\n"
     ]
    },
    {
     "name": "stdout",
     "output_type": "stream",
     "text": [
      "[CV]  ccp_alpha=0, max_leaf_nodes=15, min_impurity_split=0.1, total=   2.2s\n",
      "[CV] ccp_alpha=0, max_leaf_nodes=15, min_impurity_split=0.2 ..........\n"
     ]
    },
    {
     "name": "stderr",
     "output_type": "stream",
     "text": [
      "/Users/ZachV/opt/anaconda3/lib/python3.7/site-packages/sklearn/tree/_classes.py:310: FutureWarning: The min_impurity_split parameter is deprecated. Its default value has changed from 1e-7 to 0 in version 0.23, and it will be removed in 0.25. Use the min_impurity_decrease parameter instead.\n",
      "  FutureWarning)\n"
     ]
    },
    {
     "name": "stdout",
     "output_type": "stream",
     "text": [
      "[CV]  ccp_alpha=0, max_leaf_nodes=15, min_impurity_split=0.2, total=   1.8s\n",
      "[CV] ccp_alpha=0, max_leaf_nodes=15, min_impurity_split=0.2 ..........\n"
     ]
    },
    {
     "name": "stderr",
     "output_type": "stream",
     "text": [
      "/Users/ZachV/opt/anaconda3/lib/python3.7/site-packages/sklearn/tree/_classes.py:310: FutureWarning: The min_impurity_split parameter is deprecated. Its default value has changed from 1e-7 to 0 in version 0.23, and it will be removed in 0.25. Use the min_impurity_decrease parameter instead.\n",
      "  FutureWarning)\n"
     ]
    },
    {
     "name": "stdout",
     "output_type": "stream",
     "text": [
      "[CV]  ccp_alpha=0, max_leaf_nodes=15, min_impurity_split=0.2, total=   1.5s\n",
      "[CV] ccp_alpha=0, max_leaf_nodes=15, min_impurity_split=0.2 ..........\n"
     ]
    },
    {
     "name": "stderr",
     "output_type": "stream",
     "text": [
      "/Users/ZachV/opt/anaconda3/lib/python3.7/site-packages/sklearn/tree/_classes.py:310: FutureWarning: The min_impurity_split parameter is deprecated. Its default value has changed from 1e-7 to 0 in version 0.23, and it will be removed in 0.25. Use the min_impurity_decrease parameter instead.\n",
      "  FutureWarning)\n"
     ]
    },
    {
     "name": "stdout",
     "output_type": "stream",
     "text": [
      "[CV]  ccp_alpha=0, max_leaf_nodes=15, min_impurity_split=0.2, total=   1.5s\n",
      "[CV] ccp_alpha=0, max_leaf_nodes=15, min_impurity_split=0.2 ..........\n"
     ]
    },
    {
     "name": "stderr",
     "output_type": "stream",
     "text": [
      "/Users/ZachV/opt/anaconda3/lib/python3.7/site-packages/sklearn/tree/_classes.py:310: FutureWarning: The min_impurity_split parameter is deprecated. Its default value has changed from 1e-7 to 0 in version 0.23, and it will be removed in 0.25. Use the min_impurity_decrease parameter instead.\n",
      "  FutureWarning)\n"
     ]
    },
    {
     "name": "stdout",
     "output_type": "stream",
     "text": [
      "[CV]  ccp_alpha=0, max_leaf_nodes=15, min_impurity_split=0.2, total=   1.6s\n",
      "[CV] ccp_alpha=0, max_leaf_nodes=15, min_impurity_split=0.2 ..........\n"
     ]
    },
    {
     "name": "stderr",
     "output_type": "stream",
     "text": [
      "/Users/ZachV/opt/anaconda3/lib/python3.7/site-packages/sklearn/tree/_classes.py:310: FutureWarning: The min_impurity_split parameter is deprecated. Its default value has changed from 1e-7 to 0 in version 0.23, and it will be removed in 0.25. Use the min_impurity_decrease parameter instead.\n",
      "  FutureWarning)\n"
     ]
    },
    {
     "name": "stdout",
     "output_type": "stream",
     "text": [
      "[CV]  ccp_alpha=0, max_leaf_nodes=15, min_impurity_split=0.2, total=   1.6s\n",
      "[CV] ccp_alpha=0, max_leaf_nodes=15, min_impurity_split=0.3 ..........\n"
     ]
    },
    {
     "name": "stderr",
     "output_type": "stream",
     "text": [
      "/Users/ZachV/opt/anaconda3/lib/python3.7/site-packages/sklearn/tree/_classes.py:310: FutureWarning: The min_impurity_split parameter is deprecated. Its default value has changed from 1e-7 to 0 in version 0.23, and it will be removed in 0.25. Use the min_impurity_decrease parameter instead.\n",
      "  FutureWarning)\n"
     ]
    },
    {
     "name": "stdout",
     "output_type": "stream",
     "text": [
      "[CV]  ccp_alpha=0, max_leaf_nodes=15, min_impurity_split=0.3, total=   1.3s\n",
      "[CV] ccp_alpha=0, max_leaf_nodes=15, min_impurity_split=0.3 ..........\n"
     ]
    },
    {
     "name": "stderr",
     "output_type": "stream",
     "text": [
      "/Users/ZachV/opt/anaconda3/lib/python3.7/site-packages/sklearn/tree/_classes.py:310: FutureWarning: The min_impurity_split parameter is deprecated. Its default value has changed from 1e-7 to 0 in version 0.23, and it will be removed in 0.25. Use the min_impurity_decrease parameter instead.\n",
      "  FutureWarning)\n"
     ]
    },
    {
     "name": "stdout",
     "output_type": "stream",
     "text": [
      "[CV]  ccp_alpha=0, max_leaf_nodes=15, min_impurity_split=0.3, total=   1.3s\n",
      "[CV] ccp_alpha=0, max_leaf_nodes=15, min_impurity_split=0.3 ..........\n"
     ]
    },
    {
     "name": "stderr",
     "output_type": "stream",
     "text": [
      "/Users/ZachV/opt/anaconda3/lib/python3.7/site-packages/sklearn/tree/_classes.py:310: FutureWarning: The min_impurity_split parameter is deprecated. Its default value has changed from 1e-7 to 0 in version 0.23, and it will be removed in 0.25. Use the min_impurity_decrease parameter instead.\n",
      "  FutureWarning)\n"
     ]
    },
    {
     "name": "stdout",
     "output_type": "stream",
     "text": [
      "[CV]  ccp_alpha=0, max_leaf_nodes=15, min_impurity_split=0.3, total=   1.3s\n",
      "[CV] ccp_alpha=0, max_leaf_nodes=15, min_impurity_split=0.3 ..........\n"
     ]
    },
    {
     "name": "stderr",
     "output_type": "stream",
     "text": [
      "/Users/ZachV/opt/anaconda3/lib/python3.7/site-packages/sklearn/tree/_classes.py:310: FutureWarning: The min_impurity_split parameter is deprecated. Its default value has changed from 1e-7 to 0 in version 0.23, and it will be removed in 0.25. Use the min_impurity_decrease parameter instead.\n",
      "  FutureWarning)\n"
     ]
    },
    {
     "name": "stdout",
     "output_type": "stream",
     "text": [
      "[CV]  ccp_alpha=0, max_leaf_nodes=15, min_impurity_split=0.3, total=   1.3s\n",
      "[CV] ccp_alpha=0, max_leaf_nodes=15, min_impurity_split=0.3 ..........\n"
     ]
    },
    {
     "name": "stderr",
     "output_type": "stream",
     "text": [
      "/Users/ZachV/opt/anaconda3/lib/python3.7/site-packages/sklearn/tree/_classes.py:310: FutureWarning: The min_impurity_split parameter is deprecated. Its default value has changed from 1e-7 to 0 in version 0.23, and it will be removed in 0.25. Use the min_impurity_decrease parameter instead.\n",
      "  FutureWarning)\n"
     ]
    },
    {
     "name": "stdout",
     "output_type": "stream",
     "text": [
      "[CV]  ccp_alpha=0, max_leaf_nodes=15, min_impurity_split=0.3, total=   1.3s\n",
      "[CV] ccp_alpha=0, max_leaf_nodes=15, min_impurity_split=0.4 ..........\n"
     ]
    },
    {
     "name": "stderr",
     "output_type": "stream",
     "text": [
      "/Users/ZachV/opt/anaconda3/lib/python3.7/site-packages/sklearn/tree/_classes.py:310: FutureWarning: The min_impurity_split parameter is deprecated. Its default value has changed from 1e-7 to 0 in version 0.23, and it will be removed in 0.25. Use the min_impurity_decrease parameter instead.\n",
      "  FutureWarning)\n"
     ]
    },
    {
     "name": "stdout",
     "output_type": "stream",
     "text": [
      "[CV]  ccp_alpha=0, max_leaf_nodes=15, min_impurity_split=0.4, total=   0.9s\n",
      "[CV] ccp_alpha=0, max_leaf_nodes=15, min_impurity_split=0.4 ..........\n"
     ]
    },
    {
     "name": "stderr",
     "output_type": "stream",
     "text": [
      "/Users/ZachV/opt/anaconda3/lib/python3.7/site-packages/sklearn/tree/_classes.py:310: FutureWarning: The min_impurity_split parameter is deprecated. Its default value has changed from 1e-7 to 0 in version 0.23, and it will be removed in 0.25. Use the min_impurity_decrease parameter instead.\n",
      "  FutureWarning)\n"
     ]
    },
    {
     "name": "stdout",
     "output_type": "stream",
     "text": [
      "[CV]  ccp_alpha=0, max_leaf_nodes=15, min_impurity_split=0.4, total=   1.0s\n",
      "[CV] ccp_alpha=0, max_leaf_nodes=15, min_impurity_split=0.4 ..........\n"
     ]
    },
    {
     "name": "stderr",
     "output_type": "stream",
     "text": [
      "/Users/ZachV/opt/anaconda3/lib/python3.7/site-packages/sklearn/tree/_classes.py:310: FutureWarning: The min_impurity_split parameter is deprecated. Its default value has changed from 1e-7 to 0 in version 0.23, and it will be removed in 0.25. Use the min_impurity_decrease parameter instead.\n",
      "  FutureWarning)\n"
     ]
    },
    {
     "name": "stdout",
     "output_type": "stream",
     "text": [
      "[CV]  ccp_alpha=0, max_leaf_nodes=15, min_impurity_split=0.4, total=   1.0s\n",
      "[CV] ccp_alpha=0, max_leaf_nodes=15, min_impurity_split=0.4 ..........\n"
     ]
    },
    {
     "name": "stderr",
     "output_type": "stream",
     "text": [
      "/Users/ZachV/opt/anaconda3/lib/python3.7/site-packages/sklearn/tree/_classes.py:310: FutureWarning: The min_impurity_split parameter is deprecated. Its default value has changed from 1e-7 to 0 in version 0.23, and it will be removed in 0.25. Use the min_impurity_decrease parameter instead.\n",
      "  FutureWarning)\n"
     ]
    },
    {
     "name": "stdout",
     "output_type": "stream",
     "text": [
      "[CV]  ccp_alpha=0, max_leaf_nodes=15, min_impurity_split=0.4, total=   0.9s\n",
      "[CV] ccp_alpha=0, max_leaf_nodes=15, min_impurity_split=0.4 ..........\n"
     ]
    },
    {
     "name": "stderr",
     "output_type": "stream",
     "text": [
      "/Users/ZachV/opt/anaconda3/lib/python3.7/site-packages/sklearn/tree/_classes.py:310: FutureWarning: The min_impurity_split parameter is deprecated. Its default value has changed from 1e-7 to 0 in version 0.23, and it will be removed in 0.25. Use the min_impurity_decrease parameter instead.\n",
      "  FutureWarning)\n"
     ]
    },
    {
     "name": "stdout",
     "output_type": "stream",
     "text": [
      "[CV]  ccp_alpha=0, max_leaf_nodes=15, min_impurity_split=0.4, total=   0.9s\n",
      "[CV] ccp_alpha=0, max_leaf_nodes=15, min_impurity_split=0.5 ..........\n"
     ]
    },
    {
     "name": "stderr",
     "output_type": "stream",
     "text": [
      "/Users/ZachV/opt/anaconda3/lib/python3.7/site-packages/sklearn/tree/_classes.py:310: FutureWarning: The min_impurity_split parameter is deprecated. Its default value has changed from 1e-7 to 0 in version 0.23, and it will be removed in 0.25. Use the min_impurity_decrease parameter instead.\n",
      "  FutureWarning)\n"
     ]
    },
    {
     "name": "stdout",
     "output_type": "stream",
     "text": [
      "[CV]  ccp_alpha=0, max_leaf_nodes=15, min_impurity_split=0.5, total=   0.9s\n",
      "[CV] ccp_alpha=0, max_leaf_nodes=15, min_impurity_split=0.5 ..........\n"
     ]
    },
    {
     "name": "stderr",
     "output_type": "stream",
     "text": [
      "/Users/ZachV/opt/anaconda3/lib/python3.7/site-packages/sklearn/tree/_classes.py:310: FutureWarning: The min_impurity_split parameter is deprecated. Its default value has changed from 1e-7 to 0 in version 0.23, and it will be removed in 0.25. Use the min_impurity_decrease parameter instead.\n",
      "  FutureWarning)\n"
     ]
    },
    {
     "name": "stdout",
     "output_type": "stream",
     "text": [
      "[CV]  ccp_alpha=0, max_leaf_nodes=15, min_impurity_split=0.5, total=   0.9s\n",
      "[CV] ccp_alpha=0, max_leaf_nodes=15, min_impurity_split=0.5 ..........\n"
     ]
    },
    {
     "name": "stderr",
     "output_type": "stream",
     "text": [
      "/Users/ZachV/opt/anaconda3/lib/python3.7/site-packages/sklearn/tree/_classes.py:310: FutureWarning: The min_impurity_split parameter is deprecated. Its default value has changed from 1e-7 to 0 in version 0.23, and it will be removed in 0.25. Use the min_impurity_decrease parameter instead.\n",
      "  FutureWarning)\n"
     ]
    },
    {
     "name": "stdout",
     "output_type": "stream",
     "text": [
      "[CV]  ccp_alpha=0, max_leaf_nodes=15, min_impurity_split=0.5, total=   1.0s\n",
      "[CV] ccp_alpha=0, max_leaf_nodes=15, min_impurity_split=0.5 ..........\n"
     ]
    },
    {
     "name": "stderr",
     "output_type": "stream",
     "text": [
      "/Users/ZachV/opt/anaconda3/lib/python3.7/site-packages/sklearn/tree/_classes.py:310: FutureWarning: The min_impurity_split parameter is deprecated. Its default value has changed from 1e-7 to 0 in version 0.23, and it will be removed in 0.25. Use the min_impurity_decrease parameter instead.\n",
      "  FutureWarning)\n"
     ]
    },
    {
     "name": "stdout",
     "output_type": "stream",
     "text": [
      "[CV]  ccp_alpha=0, max_leaf_nodes=15, min_impurity_split=0.5, total=   1.0s\n",
      "[CV] ccp_alpha=0, max_leaf_nodes=15, min_impurity_split=0.5 ..........\n"
     ]
    },
    {
     "name": "stderr",
     "output_type": "stream",
     "text": [
      "/Users/ZachV/opt/anaconda3/lib/python3.7/site-packages/sklearn/tree/_classes.py:310: FutureWarning: The min_impurity_split parameter is deprecated. Its default value has changed from 1e-7 to 0 in version 0.23, and it will be removed in 0.25. Use the min_impurity_decrease parameter instead.\n",
      "  FutureWarning)\n"
     ]
    },
    {
     "name": "stdout",
     "output_type": "stream",
     "text": [
      "[CV]  ccp_alpha=0, max_leaf_nodes=15, min_impurity_split=0.5, total=   0.9s\n",
      "[CV] ccp_alpha=0, max_leaf_nodes=25, min_impurity_split=0 ............\n"
     ]
    },
    {
     "name": "stderr",
     "output_type": "stream",
     "text": [
      "/Users/ZachV/opt/anaconda3/lib/python3.7/site-packages/sklearn/tree/_classes.py:310: FutureWarning: The min_impurity_split parameter is deprecated. Its default value has changed from 1e-7 to 0 in version 0.23, and it will be removed in 0.25. Use the min_impurity_decrease parameter instead.\n",
      "  FutureWarning)\n"
     ]
    },
    {
     "name": "stdout",
     "output_type": "stream",
     "text": [
      "[CV]  ccp_alpha=0, max_leaf_nodes=25, min_impurity_split=0, total=   3.1s\n",
      "[CV] ccp_alpha=0, max_leaf_nodes=25, min_impurity_split=0 ............\n"
     ]
    },
    {
     "name": "stderr",
     "output_type": "stream",
     "text": [
      "/Users/ZachV/opt/anaconda3/lib/python3.7/site-packages/sklearn/tree/_classes.py:310: FutureWarning: The min_impurity_split parameter is deprecated. Its default value has changed from 1e-7 to 0 in version 0.23, and it will be removed in 0.25. Use the min_impurity_decrease parameter instead.\n",
      "  FutureWarning)\n"
     ]
    },
    {
     "name": "stdout",
     "output_type": "stream",
     "text": [
      "[CV]  ccp_alpha=0, max_leaf_nodes=25, min_impurity_split=0, total=   2.9s\n",
      "[CV] ccp_alpha=0, max_leaf_nodes=25, min_impurity_split=0 ............\n"
     ]
    },
    {
     "name": "stderr",
     "output_type": "stream",
     "text": [
      "/Users/ZachV/opt/anaconda3/lib/python3.7/site-packages/sklearn/tree/_classes.py:310: FutureWarning: The min_impurity_split parameter is deprecated. Its default value has changed from 1e-7 to 0 in version 0.23, and it will be removed in 0.25. Use the min_impurity_decrease parameter instead.\n",
      "  FutureWarning)\n"
     ]
    },
    {
     "name": "stdout",
     "output_type": "stream",
     "text": [
      "[CV]  ccp_alpha=0, max_leaf_nodes=25, min_impurity_split=0, total=   2.7s\n",
      "[CV] ccp_alpha=0, max_leaf_nodes=25, min_impurity_split=0 ............\n"
     ]
    },
    {
     "name": "stderr",
     "output_type": "stream",
     "text": [
      "/Users/ZachV/opt/anaconda3/lib/python3.7/site-packages/sklearn/tree/_classes.py:310: FutureWarning: The min_impurity_split parameter is deprecated. Its default value has changed from 1e-7 to 0 in version 0.23, and it will be removed in 0.25. Use the min_impurity_decrease parameter instead.\n",
      "  FutureWarning)\n"
     ]
    },
    {
     "name": "stdout",
     "output_type": "stream",
     "text": [
      "[CV]  ccp_alpha=0, max_leaf_nodes=25, min_impurity_split=0, total=   2.7s\n",
      "[CV] ccp_alpha=0, max_leaf_nodes=25, min_impurity_split=0 ............\n"
     ]
    },
    {
     "name": "stderr",
     "output_type": "stream",
     "text": [
      "/Users/ZachV/opt/anaconda3/lib/python3.7/site-packages/sklearn/tree/_classes.py:310: FutureWarning: The min_impurity_split parameter is deprecated. Its default value has changed from 1e-7 to 0 in version 0.23, and it will be removed in 0.25. Use the min_impurity_decrease parameter instead.\n",
      "  FutureWarning)\n"
     ]
    },
    {
     "name": "stdout",
     "output_type": "stream",
     "text": [
      "[CV]  ccp_alpha=0, max_leaf_nodes=25, min_impurity_split=0, total=   3.2s\n",
      "[CV] ccp_alpha=0, max_leaf_nodes=25, min_impurity_split=0.1 ..........\n"
     ]
    },
    {
     "name": "stderr",
     "output_type": "stream",
     "text": [
      "/Users/ZachV/opt/anaconda3/lib/python3.7/site-packages/sklearn/tree/_classes.py:310: FutureWarning: The min_impurity_split parameter is deprecated. Its default value has changed from 1e-7 to 0 in version 0.23, and it will be removed in 0.25. Use the min_impurity_decrease parameter instead.\n",
      "  FutureWarning)\n"
     ]
    },
    {
     "name": "stdout",
     "output_type": "stream",
     "text": [
      "[CV]  ccp_alpha=0, max_leaf_nodes=25, min_impurity_split=0.1, total=   2.1s\n",
      "[CV] ccp_alpha=0, max_leaf_nodes=25, min_impurity_split=0.1 ..........\n"
     ]
    },
    {
     "name": "stderr",
     "output_type": "stream",
     "text": [
      "/Users/ZachV/opt/anaconda3/lib/python3.7/site-packages/sklearn/tree/_classes.py:310: FutureWarning: The min_impurity_split parameter is deprecated. Its default value has changed from 1e-7 to 0 in version 0.23, and it will be removed in 0.25. Use the min_impurity_decrease parameter instead.\n",
      "  FutureWarning)\n"
     ]
    },
    {
     "name": "stdout",
     "output_type": "stream",
     "text": [
      "[CV]  ccp_alpha=0, max_leaf_nodes=25, min_impurity_split=0.1, total=   2.3s\n",
      "[CV] ccp_alpha=0, max_leaf_nodes=25, min_impurity_split=0.1 ..........\n"
     ]
    },
    {
     "name": "stderr",
     "output_type": "stream",
     "text": [
      "/Users/ZachV/opt/anaconda3/lib/python3.7/site-packages/sklearn/tree/_classes.py:310: FutureWarning: The min_impurity_split parameter is deprecated. Its default value has changed from 1e-7 to 0 in version 0.23, and it will be removed in 0.25. Use the min_impurity_decrease parameter instead.\n",
      "  FutureWarning)\n"
     ]
    },
    {
     "name": "stdout",
     "output_type": "stream",
     "text": [
      "[CV]  ccp_alpha=0, max_leaf_nodes=25, min_impurity_split=0.1, total=   2.2s\n",
      "[CV] ccp_alpha=0, max_leaf_nodes=25, min_impurity_split=0.1 ..........\n"
     ]
    },
    {
     "name": "stderr",
     "output_type": "stream",
     "text": [
      "/Users/ZachV/opt/anaconda3/lib/python3.7/site-packages/sklearn/tree/_classes.py:310: FutureWarning: The min_impurity_split parameter is deprecated. Its default value has changed from 1e-7 to 0 in version 0.23, and it will be removed in 0.25. Use the min_impurity_decrease parameter instead.\n",
      "  FutureWarning)\n"
     ]
    },
    {
     "name": "stdout",
     "output_type": "stream",
     "text": [
      "[CV]  ccp_alpha=0, max_leaf_nodes=25, min_impurity_split=0.1, total=   2.0s\n",
      "[CV] ccp_alpha=0, max_leaf_nodes=25, min_impurity_split=0.1 ..........\n"
     ]
    },
    {
     "name": "stderr",
     "output_type": "stream",
     "text": [
      "/Users/ZachV/opt/anaconda3/lib/python3.7/site-packages/sklearn/tree/_classes.py:310: FutureWarning: The min_impurity_split parameter is deprecated. Its default value has changed from 1e-7 to 0 in version 0.23, and it will be removed in 0.25. Use the min_impurity_decrease parameter instead.\n",
      "  FutureWarning)\n"
     ]
    },
    {
     "name": "stdout",
     "output_type": "stream",
     "text": [
      "[CV]  ccp_alpha=0, max_leaf_nodes=25, min_impurity_split=0.1, total=   2.1s\n",
      "[CV] ccp_alpha=0, max_leaf_nodes=25, min_impurity_split=0.2 ..........\n"
     ]
    },
    {
     "name": "stderr",
     "output_type": "stream",
     "text": [
      "/Users/ZachV/opt/anaconda3/lib/python3.7/site-packages/sklearn/tree/_classes.py:310: FutureWarning: The min_impurity_split parameter is deprecated. Its default value has changed from 1e-7 to 0 in version 0.23, and it will be removed in 0.25. Use the min_impurity_decrease parameter instead.\n",
      "  FutureWarning)\n"
     ]
    },
    {
     "name": "stdout",
     "output_type": "stream",
     "text": [
      "[CV]  ccp_alpha=0, max_leaf_nodes=25, min_impurity_split=0.2, total=   1.6s\n",
      "[CV] ccp_alpha=0, max_leaf_nodes=25, min_impurity_split=0.2 ..........\n"
     ]
    },
    {
     "name": "stderr",
     "output_type": "stream",
     "text": [
      "/Users/ZachV/opt/anaconda3/lib/python3.7/site-packages/sklearn/tree/_classes.py:310: FutureWarning: The min_impurity_split parameter is deprecated. Its default value has changed from 1e-7 to 0 in version 0.23, and it will be removed in 0.25. Use the min_impurity_decrease parameter instead.\n",
      "  FutureWarning)\n"
     ]
    },
    {
     "name": "stdout",
     "output_type": "stream",
     "text": [
      "[CV]  ccp_alpha=0, max_leaf_nodes=25, min_impurity_split=0.2, total=   1.6s\n",
      "[CV] ccp_alpha=0, max_leaf_nodes=25, min_impurity_split=0.2 ..........\n"
     ]
    },
    {
     "name": "stderr",
     "output_type": "stream",
     "text": [
      "/Users/ZachV/opt/anaconda3/lib/python3.7/site-packages/sklearn/tree/_classes.py:310: FutureWarning: The min_impurity_split parameter is deprecated. Its default value has changed from 1e-7 to 0 in version 0.23, and it will be removed in 0.25. Use the min_impurity_decrease parameter instead.\n",
      "  FutureWarning)\n"
     ]
    },
    {
     "name": "stdout",
     "output_type": "stream",
     "text": [
      "[CV]  ccp_alpha=0, max_leaf_nodes=25, min_impurity_split=0.2, total=   1.9s\n",
      "[CV] ccp_alpha=0, max_leaf_nodes=25, min_impurity_split=0.2 ..........\n"
     ]
    },
    {
     "name": "stderr",
     "output_type": "stream",
     "text": [
      "/Users/ZachV/opt/anaconda3/lib/python3.7/site-packages/sklearn/tree/_classes.py:310: FutureWarning: The min_impurity_split parameter is deprecated. Its default value has changed from 1e-7 to 0 in version 0.23, and it will be removed in 0.25. Use the min_impurity_decrease parameter instead.\n",
      "  FutureWarning)\n"
     ]
    },
    {
     "name": "stdout",
     "output_type": "stream",
     "text": [
      "[CV]  ccp_alpha=0, max_leaf_nodes=25, min_impurity_split=0.2, total=   1.7s\n",
      "[CV] ccp_alpha=0, max_leaf_nodes=25, min_impurity_split=0.2 ..........\n"
     ]
    },
    {
     "name": "stderr",
     "output_type": "stream",
     "text": [
      "/Users/ZachV/opt/anaconda3/lib/python3.7/site-packages/sklearn/tree/_classes.py:310: FutureWarning: The min_impurity_split parameter is deprecated. Its default value has changed from 1e-7 to 0 in version 0.23, and it will be removed in 0.25. Use the min_impurity_decrease parameter instead.\n",
      "  FutureWarning)\n"
     ]
    },
    {
     "name": "stdout",
     "output_type": "stream",
     "text": [
      "[CV]  ccp_alpha=0, max_leaf_nodes=25, min_impurity_split=0.2, total=   1.7s\n",
      "[CV] ccp_alpha=0, max_leaf_nodes=25, min_impurity_split=0.3 ..........\n"
     ]
    },
    {
     "name": "stderr",
     "output_type": "stream",
     "text": [
      "/Users/ZachV/opt/anaconda3/lib/python3.7/site-packages/sklearn/tree/_classes.py:310: FutureWarning: The min_impurity_split parameter is deprecated. Its default value has changed from 1e-7 to 0 in version 0.23, and it will be removed in 0.25. Use the min_impurity_decrease parameter instead.\n",
      "  FutureWarning)\n"
     ]
    },
    {
     "name": "stdout",
     "output_type": "stream",
     "text": [
      "[CV]  ccp_alpha=0, max_leaf_nodes=25, min_impurity_split=0.3, total=   1.3s\n",
      "[CV] ccp_alpha=0, max_leaf_nodes=25, min_impurity_split=0.3 ..........\n"
     ]
    },
    {
     "name": "stderr",
     "output_type": "stream",
     "text": [
      "/Users/ZachV/opt/anaconda3/lib/python3.7/site-packages/sklearn/tree/_classes.py:310: FutureWarning: The min_impurity_split parameter is deprecated. Its default value has changed from 1e-7 to 0 in version 0.23, and it will be removed in 0.25. Use the min_impurity_decrease parameter instead.\n",
      "  FutureWarning)\n"
     ]
    },
    {
     "name": "stdout",
     "output_type": "stream",
     "text": [
      "[CV]  ccp_alpha=0, max_leaf_nodes=25, min_impurity_split=0.3, total=   1.4s\n",
      "[CV] ccp_alpha=0, max_leaf_nodes=25, min_impurity_split=0.3 ..........\n"
     ]
    },
    {
     "name": "stderr",
     "output_type": "stream",
     "text": [
      "/Users/ZachV/opt/anaconda3/lib/python3.7/site-packages/sklearn/tree/_classes.py:310: FutureWarning: The min_impurity_split parameter is deprecated. Its default value has changed from 1e-7 to 0 in version 0.23, and it will be removed in 0.25. Use the min_impurity_decrease parameter instead.\n",
      "  FutureWarning)\n"
     ]
    },
    {
     "name": "stdout",
     "output_type": "stream",
     "text": [
      "[CV]  ccp_alpha=0, max_leaf_nodes=25, min_impurity_split=0.3, total=   1.3s\n",
      "[CV] ccp_alpha=0, max_leaf_nodes=25, min_impurity_split=0.3 ..........\n"
     ]
    },
    {
     "name": "stderr",
     "output_type": "stream",
     "text": [
      "/Users/ZachV/opt/anaconda3/lib/python3.7/site-packages/sklearn/tree/_classes.py:310: FutureWarning: The min_impurity_split parameter is deprecated. Its default value has changed from 1e-7 to 0 in version 0.23, and it will be removed in 0.25. Use the min_impurity_decrease parameter instead.\n",
      "  FutureWarning)\n"
     ]
    },
    {
     "name": "stdout",
     "output_type": "stream",
     "text": [
      "[CV]  ccp_alpha=0, max_leaf_nodes=25, min_impurity_split=0.3, total=   1.3s\n",
      "[CV] ccp_alpha=0, max_leaf_nodes=25, min_impurity_split=0.3 ..........\n"
     ]
    },
    {
     "name": "stderr",
     "output_type": "stream",
     "text": [
      "/Users/ZachV/opt/anaconda3/lib/python3.7/site-packages/sklearn/tree/_classes.py:310: FutureWarning: The min_impurity_split parameter is deprecated. Its default value has changed from 1e-7 to 0 in version 0.23, and it will be removed in 0.25. Use the min_impurity_decrease parameter instead.\n",
      "  FutureWarning)\n"
     ]
    },
    {
     "name": "stdout",
     "output_type": "stream",
     "text": [
      "[CV]  ccp_alpha=0, max_leaf_nodes=25, min_impurity_split=0.3, total=   1.4s\n",
      "[CV] ccp_alpha=0, max_leaf_nodes=25, min_impurity_split=0.4 ..........\n"
     ]
    },
    {
     "name": "stderr",
     "output_type": "stream",
     "text": [
      "/Users/ZachV/opt/anaconda3/lib/python3.7/site-packages/sklearn/tree/_classes.py:310: FutureWarning: The min_impurity_split parameter is deprecated. Its default value has changed from 1e-7 to 0 in version 0.23, and it will be removed in 0.25. Use the min_impurity_decrease parameter instead.\n",
      "  FutureWarning)\n"
     ]
    },
    {
     "name": "stdout",
     "output_type": "stream",
     "text": [
      "[CV]  ccp_alpha=0, max_leaf_nodes=25, min_impurity_split=0.4, total=   0.9s\n",
      "[CV] ccp_alpha=0, max_leaf_nodes=25, min_impurity_split=0.4 ..........\n"
     ]
    },
    {
     "name": "stderr",
     "output_type": "stream",
     "text": [
      "/Users/ZachV/opt/anaconda3/lib/python3.7/site-packages/sklearn/tree/_classes.py:310: FutureWarning: The min_impurity_split parameter is deprecated. Its default value has changed from 1e-7 to 0 in version 0.23, and it will be removed in 0.25. Use the min_impurity_decrease parameter instead.\n",
      "  FutureWarning)\n"
     ]
    },
    {
     "name": "stdout",
     "output_type": "stream",
     "text": [
      "[CV]  ccp_alpha=0, max_leaf_nodes=25, min_impurity_split=0.4, total=   0.9s\n",
      "[CV] ccp_alpha=0, max_leaf_nodes=25, min_impurity_split=0.4 ..........\n"
     ]
    },
    {
     "name": "stderr",
     "output_type": "stream",
     "text": [
      "/Users/ZachV/opt/anaconda3/lib/python3.7/site-packages/sklearn/tree/_classes.py:310: FutureWarning: The min_impurity_split parameter is deprecated. Its default value has changed from 1e-7 to 0 in version 0.23, and it will be removed in 0.25. Use the min_impurity_decrease parameter instead.\n",
      "  FutureWarning)\n"
     ]
    },
    {
     "name": "stdout",
     "output_type": "stream",
     "text": [
      "[CV]  ccp_alpha=0, max_leaf_nodes=25, min_impurity_split=0.4, total=   0.9s\n",
      "[CV] ccp_alpha=0, max_leaf_nodes=25, min_impurity_split=0.4 ..........\n"
     ]
    },
    {
     "name": "stderr",
     "output_type": "stream",
     "text": [
      "/Users/ZachV/opt/anaconda3/lib/python3.7/site-packages/sklearn/tree/_classes.py:310: FutureWarning: The min_impurity_split parameter is deprecated. Its default value has changed from 1e-7 to 0 in version 0.23, and it will be removed in 0.25. Use the min_impurity_decrease parameter instead.\n",
      "  FutureWarning)\n"
     ]
    },
    {
     "name": "stdout",
     "output_type": "stream",
     "text": [
      "[CV]  ccp_alpha=0, max_leaf_nodes=25, min_impurity_split=0.4, total=   0.9s\n",
      "[CV] ccp_alpha=0, max_leaf_nodes=25, min_impurity_split=0.4 ..........\n"
     ]
    },
    {
     "name": "stderr",
     "output_type": "stream",
     "text": [
      "/Users/ZachV/opt/anaconda3/lib/python3.7/site-packages/sklearn/tree/_classes.py:310: FutureWarning: The min_impurity_split parameter is deprecated. Its default value has changed from 1e-7 to 0 in version 0.23, and it will be removed in 0.25. Use the min_impurity_decrease parameter instead.\n",
      "  FutureWarning)\n"
     ]
    },
    {
     "name": "stdout",
     "output_type": "stream",
     "text": [
      "[CV]  ccp_alpha=0, max_leaf_nodes=25, min_impurity_split=0.4, total=   0.9s\n",
      "[CV] ccp_alpha=0, max_leaf_nodes=25, min_impurity_split=0.5 ..........\n"
     ]
    },
    {
     "name": "stderr",
     "output_type": "stream",
     "text": [
      "/Users/ZachV/opt/anaconda3/lib/python3.7/site-packages/sklearn/tree/_classes.py:310: FutureWarning: The min_impurity_split parameter is deprecated. Its default value has changed from 1e-7 to 0 in version 0.23, and it will be removed in 0.25. Use the min_impurity_decrease parameter instead.\n",
      "  FutureWarning)\n"
     ]
    },
    {
     "name": "stdout",
     "output_type": "stream",
     "text": [
      "[CV]  ccp_alpha=0, max_leaf_nodes=25, min_impurity_split=0.5, total=   0.9s\n",
      "[CV] ccp_alpha=0, max_leaf_nodes=25, min_impurity_split=0.5 ..........\n"
     ]
    },
    {
     "name": "stderr",
     "output_type": "stream",
     "text": [
      "/Users/ZachV/opt/anaconda3/lib/python3.7/site-packages/sklearn/tree/_classes.py:310: FutureWarning: The min_impurity_split parameter is deprecated. Its default value has changed from 1e-7 to 0 in version 0.23, and it will be removed in 0.25. Use the min_impurity_decrease parameter instead.\n",
      "  FutureWarning)\n"
     ]
    },
    {
     "name": "stdout",
     "output_type": "stream",
     "text": [
      "[CV]  ccp_alpha=0, max_leaf_nodes=25, min_impurity_split=0.5, total=   0.9s\n",
      "[CV] ccp_alpha=0, max_leaf_nodes=25, min_impurity_split=0.5 ..........\n"
     ]
    },
    {
     "name": "stderr",
     "output_type": "stream",
     "text": [
      "/Users/ZachV/opt/anaconda3/lib/python3.7/site-packages/sklearn/tree/_classes.py:310: FutureWarning: The min_impurity_split parameter is deprecated. Its default value has changed from 1e-7 to 0 in version 0.23, and it will be removed in 0.25. Use the min_impurity_decrease parameter instead.\n",
      "  FutureWarning)\n"
     ]
    },
    {
     "name": "stdout",
     "output_type": "stream",
     "text": [
      "[CV]  ccp_alpha=0, max_leaf_nodes=25, min_impurity_split=0.5, total=   0.9s\n",
      "[CV] ccp_alpha=0, max_leaf_nodes=25, min_impurity_split=0.5 ..........\n"
     ]
    },
    {
     "name": "stderr",
     "output_type": "stream",
     "text": [
      "/Users/ZachV/opt/anaconda3/lib/python3.7/site-packages/sklearn/tree/_classes.py:310: FutureWarning: The min_impurity_split parameter is deprecated. Its default value has changed from 1e-7 to 0 in version 0.23, and it will be removed in 0.25. Use the min_impurity_decrease parameter instead.\n",
      "  FutureWarning)\n"
     ]
    },
    {
     "name": "stdout",
     "output_type": "stream",
     "text": [
      "[CV]  ccp_alpha=0, max_leaf_nodes=25, min_impurity_split=0.5, total=   0.9s\n",
      "[CV] ccp_alpha=0, max_leaf_nodes=25, min_impurity_split=0.5 ..........\n"
     ]
    },
    {
     "name": "stderr",
     "output_type": "stream",
     "text": [
      "/Users/ZachV/opt/anaconda3/lib/python3.7/site-packages/sklearn/tree/_classes.py:310: FutureWarning: The min_impurity_split parameter is deprecated. Its default value has changed from 1e-7 to 0 in version 0.23, and it will be removed in 0.25. Use the min_impurity_decrease parameter instead.\n",
      "  FutureWarning)\n"
     ]
    },
    {
     "name": "stdout",
     "output_type": "stream",
     "text": [
      "[CV]  ccp_alpha=0, max_leaf_nodes=25, min_impurity_split=0.5, total=   0.9s\n",
      "[CV] ccp_alpha=0, max_leaf_nodes=100, min_impurity_split=0 ...........\n"
     ]
    },
    {
     "name": "stderr",
     "output_type": "stream",
     "text": [
      "/Users/ZachV/opt/anaconda3/lib/python3.7/site-packages/sklearn/tree/_classes.py:310: FutureWarning: The min_impurity_split parameter is deprecated. Its default value has changed from 1e-7 to 0 in version 0.23, and it will be removed in 0.25. Use the min_impurity_decrease parameter instead.\n",
      "  FutureWarning)\n"
     ]
    },
    {
     "name": "stdout",
     "output_type": "stream",
     "text": [
      "[CV]  ccp_alpha=0, max_leaf_nodes=100, min_impurity_split=0, total=   3.0s\n",
      "[CV] ccp_alpha=0, max_leaf_nodes=100, min_impurity_split=0 ...........\n"
     ]
    },
    {
     "name": "stderr",
     "output_type": "stream",
     "text": [
      "/Users/ZachV/opt/anaconda3/lib/python3.7/site-packages/sklearn/tree/_classes.py:310: FutureWarning: The min_impurity_split parameter is deprecated. Its default value has changed from 1e-7 to 0 in version 0.23, and it will be removed in 0.25. Use the min_impurity_decrease parameter instead.\n",
      "  FutureWarning)\n"
     ]
    },
    {
     "name": "stdout",
     "output_type": "stream",
     "text": [
      "[CV]  ccp_alpha=0, max_leaf_nodes=100, min_impurity_split=0, total=   3.1s\n",
      "[CV] ccp_alpha=0, max_leaf_nodes=100, min_impurity_split=0 ...........\n"
     ]
    },
    {
     "name": "stderr",
     "output_type": "stream",
     "text": [
      "/Users/ZachV/opt/anaconda3/lib/python3.7/site-packages/sklearn/tree/_classes.py:310: FutureWarning: The min_impurity_split parameter is deprecated. Its default value has changed from 1e-7 to 0 in version 0.23, and it will be removed in 0.25. Use the min_impurity_decrease parameter instead.\n",
      "  FutureWarning)\n"
     ]
    },
    {
     "name": "stdout",
     "output_type": "stream",
     "text": [
      "[CV]  ccp_alpha=0, max_leaf_nodes=100, min_impurity_split=0, total=   3.3s\n",
      "[CV] ccp_alpha=0, max_leaf_nodes=100, min_impurity_split=0 ...........\n"
     ]
    },
    {
     "name": "stderr",
     "output_type": "stream",
     "text": [
      "/Users/ZachV/opt/anaconda3/lib/python3.7/site-packages/sklearn/tree/_classes.py:310: FutureWarning: The min_impurity_split parameter is deprecated. Its default value has changed from 1e-7 to 0 in version 0.23, and it will be removed in 0.25. Use the min_impurity_decrease parameter instead.\n",
      "  FutureWarning)\n"
     ]
    },
    {
     "name": "stdout",
     "output_type": "stream",
     "text": [
      "[CV]  ccp_alpha=0, max_leaf_nodes=100, min_impurity_split=0, total=   3.1s\n",
      "[CV] ccp_alpha=0, max_leaf_nodes=100, min_impurity_split=0 ...........\n"
     ]
    },
    {
     "name": "stderr",
     "output_type": "stream",
     "text": [
      "/Users/ZachV/opt/anaconda3/lib/python3.7/site-packages/sklearn/tree/_classes.py:310: FutureWarning: The min_impurity_split parameter is deprecated. Its default value has changed from 1e-7 to 0 in version 0.23, and it will be removed in 0.25. Use the min_impurity_decrease parameter instead.\n",
      "  FutureWarning)\n"
     ]
    },
    {
     "name": "stdout",
     "output_type": "stream",
     "text": [
      "[CV]  ccp_alpha=0, max_leaf_nodes=100, min_impurity_split=0, total=   2.9s\n",
      "[CV] ccp_alpha=0, max_leaf_nodes=100, min_impurity_split=0.1 .........\n"
     ]
    },
    {
     "name": "stderr",
     "output_type": "stream",
     "text": [
      "/Users/ZachV/opt/anaconda3/lib/python3.7/site-packages/sklearn/tree/_classes.py:310: FutureWarning: The min_impurity_split parameter is deprecated. Its default value has changed from 1e-7 to 0 in version 0.23, and it will be removed in 0.25. Use the min_impurity_decrease parameter instead.\n",
      "  FutureWarning)\n"
     ]
    },
    {
     "name": "stdout",
     "output_type": "stream",
     "text": [
      "[CV]  ccp_alpha=0, max_leaf_nodes=100, min_impurity_split=0.1, total=   2.1s\n",
      "[CV] ccp_alpha=0, max_leaf_nodes=100, min_impurity_split=0.1 .........\n"
     ]
    },
    {
     "name": "stderr",
     "output_type": "stream",
     "text": [
      "/Users/ZachV/opt/anaconda3/lib/python3.7/site-packages/sklearn/tree/_classes.py:310: FutureWarning: The min_impurity_split parameter is deprecated. Its default value has changed from 1e-7 to 0 in version 0.23, and it will be removed in 0.25. Use the min_impurity_decrease parameter instead.\n",
      "  FutureWarning)\n"
     ]
    },
    {
     "name": "stdout",
     "output_type": "stream",
     "text": [
      "[CV]  ccp_alpha=0, max_leaf_nodes=100, min_impurity_split=0.1, total=   2.1s\n",
      "[CV] ccp_alpha=0, max_leaf_nodes=100, min_impurity_split=0.1 .........\n"
     ]
    },
    {
     "name": "stderr",
     "output_type": "stream",
     "text": [
      "/Users/ZachV/opt/anaconda3/lib/python3.7/site-packages/sklearn/tree/_classes.py:310: FutureWarning: The min_impurity_split parameter is deprecated. Its default value has changed from 1e-7 to 0 in version 0.23, and it will be removed in 0.25. Use the min_impurity_decrease parameter instead.\n",
      "  FutureWarning)\n"
     ]
    },
    {
     "name": "stdout",
     "output_type": "stream",
     "text": [
      "[CV]  ccp_alpha=0, max_leaf_nodes=100, min_impurity_split=0.1, total=   2.2s\n",
      "[CV] ccp_alpha=0, max_leaf_nodes=100, min_impurity_split=0.1 .........\n"
     ]
    },
    {
     "name": "stderr",
     "output_type": "stream",
     "text": [
      "/Users/ZachV/opt/anaconda3/lib/python3.7/site-packages/sklearn/tree/_classes.py:310: FutureWarning: The min_impurity_split parameter is deprecated. Its default value has changed from 1e-7 to 0 in version 0.23, and it will be removed in 0.25. Use the min_impurity_decrease parameter instead.\n",
      "  FutureWarning)\n"
     ]
    },
    {
     "name": "stdout",
     "output_type": "stream",
     "text": [
      "[CV]  ccp_alpha=0, max_leaf_nodes=100, min_impurity_split=0.1, total=   2.2s\n",
      "[CV] ccp_alpha=0, max_leaf_nodes=100, min_impurity_split=0.1 .........\n"
     ]
    },
    {
     "name": "stderr",
     "output_type": "stream",
     "text": [
      "/Users/ZachV/opt/anaconda3/lib/python3.7/site-packages/sklearn/tree/_classes.py:310: FutureWarning: The min_impurity_split parameter is deprecated. Its default value has changed from 1e-7 to 0 in version 0.23, and it will be removed in 0.25. Use the min_impurity_decrease parameter instead.\n",
      "  FutureWarning)\n"
     ]
    },
    {
     "name": "stdout",
     "output_type": "stream",
     "text": [
      "[CV]  ccp_alpha=0, max_leaf_nodes=100, min_impurity_split=0.1, total=   2.2s\n",
      "[CV] ccp_alpha=0, max_leaf_nodes=100, min_impurity_split=0.2 .........\n"
     ]
    },
    {
     "name": "stderr",
     "output_type": "stream",
     "text": [
      "/Users/ZachV/opt/anaconda3/lib/python3.7/site-packages/sklearn/tree/_classes.py:310: FutureWarning: The min_impurity_split parameter is deprecated. Its default value has changed from 1e-7 to 0 in version 0.23, and it will be removed in 0.25. Use the min_impurity_decrease parameter instead.\n",
      "  FutureWarning)\n"
     ]
    },
    {
     "name": "stdout",
     "output_type": "stream",
     "text": [
      "[CV]  ccp_alpha=0, max_leaf_nodes=100, min_impurity_split=0.2, total=   1.8s\n",
      "[CV] ccp_alpha=0, max_leaf_nodes=100, min_impurity_split=0.2 .........\n"
     ]
    },
    {
     "name": "stderr",
     "output_type": "stream",
     "text": [
      "/Users/ZachV/opt/anaconda3/lib/python3.7/site-packages/sklearn/tree/_classes.py:310: FutureWarning: The min_impurity_split parameter is deprecated. Its default value has changed from 1e-7 to 0 in version 0.23, and it will be removed in 0.25. Use the min_impurity_decrease parameter instead.\n",
      "  FutureWarning)\n"
     ]
    },
    {
     "name": "stdout",
     "output_type": "stream",
     "text": [
      "[CV]  ccp_alpha=0, max_leaf_nodes=100, min_impurity_split=0.2, total=   1.7s\n",
      "[CV] ccp_alpha=0, max_leaf_nodes=100, min_impurity_split=0.2 .........\n"
     ]
    },
    {
     "name": "stderr",
     "output_type": "stream",
     "text": [
      "/Users/ZachV/opt/anaconda3/lib/python3.7/site-packages/sklearn/tree/_classes.py:310: FutureWarning: The min_impurity_split parameter is deprecated. Its default value has changed from 1e-7 to 0 in version 0.23, and it will be removed in 0.25. Use the min_impurity_decrease parameter instead.\n",
      "  FutureWarning)\n"
     ]
    },
    {
     "name": "stdout",
     "output_type": "stream",
     "text": [
      "[CV]  ccp_alpha=0, max_leaf_nodes=100, min_impurity_split=0.2, total=   1.7s\n",
      "[CV] ccp_alpha=0, max_leaf_nodes=100, min_impurity_split=0.2 .........\n"
     ]
    },
    {
     "name": "stderr",
     "output_type": "stream",
     "text": [
      "/Users/ZachV/opt/anaconda3/lib/python3.7/site-packages/sklearn/tree/_classes.py:310: FutureWarning: The min_impurity_split parameter is deprecated. Its default value has changed from 1e-7 to 0 in version 0.23, and it will be removed in 0.25. Use the min_impurity_decrease parameter instead.\n",
      "  FutureWarning)\n"
     ]
    },
    {
     "name": "stdout",
     "output_type": "stream",
     "text": [
      "[CV]  ccp_alpha=0, max_leaf_nodes=100, min_impurity_split=0.2, total=   2.8s\n",
      "[CV] ccp_alpha=0, max_leaf_nodes=100, min_impurity_split=0.2 .........\n"
     ]
    },
    {
     "name": "stderr",
     "output_type": "stream",
     "text": [
      "/Users/ZachV/opt/anaconda3/lib/python3.7/site-packages/sklearn/tree/_classes.py:310: FutureWarning: The min_impurity_split parameter is deprecated. Its default value has changed from 1e-7 to 0 in version 0.23, and it will be removed in 0.25. Use the min_impurity_decrease parameter instead.\n",
      "  FutureWarning)\n"
     ]
    },
    {
     "name": "stdout",
     "output_type": "stream",
     "text": [
      "[CV]  ccp_alpha=0, max_leaf_nodes=100, min_impurity_split=0.2, total=   2.0s\n",
      "[CV] ccp_alpha=0, max_leaf_nodes=100, min_impurity_split=0.3 .........\n"
     ]
    },
    {
     "name": "stderr",
     "output_type": "stream",
     "text": [
      "/Users/ZachV/opt/anaconda3/lib/python3.7/site-packages/sklearn/tree/_classes.py:310: FutureWarning: The min_impurity_split parameter is deprecated. Its default value has changed from 1e-7 to 0 in version 0.23, and it will be removed in 0.25. Use the min_impurity_decrease parameter instead.\n",
      "  FutureWarning)\n"
     ]
    },
    {
     "name": "stdout",
     "output_type": "stream",
     "text": [
      "[CV]  ccp_alpha=0, max_leaf_nodes=100, min_impurity_split=0.3, total=   1.8s\n",
      "[CV] ccp_alpha=0, max_leaf_nodes=100, min_impurity_split=0.3 .........\n"
     ]
    },
    {
     "name": "stderr",
     "output_type": "stream",
     "text": [
      "/Users/ZachV/opt/anaconda3/lib/python3.7/site-packages/sklearn/tree/_classes.py:310: FutureWarning: The min_impurity_split parameter is deprecated. Its default value has changed from 1e-7 to 0 in version 0.23, and it will be removed in 0.25. Use the min_impurity_decrease parameter instead.\n",
      "  FutureWarning)\n"
     ]
    },
    {
     "name": "stdout",
     "output_type": "stream",
     "text": [
      "[CV]  ccp_alpha=0, max_leaf_nodes=100, min_impurity_split=0.3, total=   2.0s\n",
      "[CV] ccp_alpha=0, max_leaf_nodes=100, min_impurity_split=0.3 .........\n"
     ]
    },
    {
     "name": "stderr",
     "output_type": "stream",
     "text": [
      "/Users/ZachV/opt/anaconda3/lib/python3.7/site-packages/sklearn/tree/_classes.py:310: FutureWarning: The min_impurity_split parameter is deprecated. Its default value has changed from 1e-7 to 0 in version 0.23, and it will be removed in 0.25. Use the min_impurity_decrease parameter instead.\n",
      "  FutureWarning)\n"
     ]
    },
    {
     "name": "stdout",
     "output_type": "stream",
     "text": [
      "[CV]  ccp_alpha=0, max_leaf_nodes=100, min_impurity_split=0.3, total=   1.9s\n",
      "[CV] ccp_alpha=0, max_leaf_nodes=100, min_impurity_split=0.3 .........\n"
     ]
    },
    {
     "name": "stderr",
     "output_type": "stream",
     "text": [
      "/Users/ZachV/opt/anaconda3/lib/python3.7/site-packages/sklearn/tree/_classes.py:310: FutureWarning: The min_impurity_split parameter is deprecated. Its default value has changed from 1e-7 to 0 in version 0.23, and it will be removed in 0.25. Use the min_impurity_decrease parameter instead.\n",
      "  FutureWarning)\n"
     ]
    },
    {
     "name": "stdout",
     "output_type": "stream",
     "text": [
      "[CV]  ccp_alpha=0, max_leaf_nodes=100, min_impurity_split=0.3, total=   2.0s\n",
      "[CV] ccp_alpha=0, max_leaf_nodes=100, min_impurity_split=0.3 .........\n"
     ]
    },
    {
     "name": "stderr",
     "output_type": "stream",
     "text": [
      "/Users/ZachV/opt/anaconda3/lib/python3.7/site-packages/sklearn/tree/_classes.py:310: FutureWarning: The min_impurity_split parameter is deprecated. Its default value has changed from 1e-7 to 0 in version 0.23, and it will be removed in 0.25. Use the min_impurity_decrease parameter instead.\n",
      "  FutureWarning)\n"
     ]
    },
    {
     "name": "stdout",
     "output_type": "stream",
     "text": [
      "[CV]  ccp_alpha=0, max_leaf_nodes=100, min_impurity_split=0.3, total=   1.5s\n",
      "[CV] ccp_alpha=0, max_leaf_nodes=100, min_impurity_split=0.4 .........\n"
     ]
    },
    {
     "name": "stderr",
     "output_type": "stream",
     "text": [
      "/Users/ZachV/opt/anaconda3/lib/python3.7/site-packages/sklearn/tree/_classes.py:310: FutureWarning: The min_impurity_split parameter is deprecated. Its default value has changed from 1e-7 to 0 in version 0.23, and it will be removed in 0.25. Use the min_impurity_decrease parameter instead.\n",
      "  FutureWarning)\n"
     ]
    },
    {
     "name": "stdout",
     "output_type": "stream",
     "text": [
      "[CV]  ccp_alpha=0, max_leaf_nodes=100, min_impurity_split=0.4, total=   1.1s\n",
      "[CV] ccp_alpha=0, max_leaf_nodes=100, min_impurity_split=0.4 .........\n"
     ]
    },
    {
     "name": "stderr",
     "output_type": "stream",
     "text": [
      "/Users/ZachV/opt/anaconda3/lib/python3.7/site-packages/sklearn/tree/_classes.py:310: FutureWarning: The min_impurity_split parameter is deprecated. Its default value has changed from 1e-7 to 0 in version 0.23, and it will be removed in 0.25. Use the min_impurity_decrease parameter instead.\n",
      "  FutureWarning)\n"
     ]
    },
    {
     "name": "stdout",
     "output_type": "stream",
     "text": [
      "[CV]  ccp_alpha=0, max_leaf_nodes=100, min_impurity_split=0.4, total=   0.9s\n",
      "[CV] ccp_alpha=0, max_leaf_nodes=100, min_impurity_split=0.4 .........\n"
     ]
    },
    {
     "name": "stderr",
     "output_type": "stream",
     "text": [
      "/Users/ZachV/opt/anaconda3/lib/python3.7/site-packages/sklearn/tree/_classes.py:310: FutureWarning: The min_impurity_split parameter is deprecated. Its default value has changed from 1e-7 to 0 in version 0.23, and it will be removed in 0.25. Use the min_impurity_decrease parameter instead.\n",
      "  FutureWarning)\n"
     ]
    },
    {
     "name": "stdout",
     "output_type": "stream",
     "text": [
      "[CV]  ccp_alpha=0, max_leaf_nodes=100, min_impurity_split=0.4, total=   1.1s\n",
      "[CV] ccp_alpha=0, max_leaf_nodes=100, min_impurity_split=0.4 .........\n"
     ]
    },
    {
     "name": "stderr",
     "output_type": "stream",
     "text": [
      "/Users/ZachV/opt/anaconda3/lib/python3.7/site-packages/sklearn/tree/_classes.py:310: FutureWarning: The min_impurity_split parameter is deprecated. Its default value has changed from 1e-7 to 0 in version 0.23, and it will be removed in 0.25. Use the min_impurity_decrease parameter instead.\n",
      "  FutureWarning)\n"
     ]
    },
    {
     "name": "stdout",
     "output_type": "stream",
     "text": [
      "[CV]  ccp_alpha=0, max_leaf_nodes=100, min_impurity_split=0.4, total=   1.0s\n",
      "[CV] ccp_alpha=0, max_leaf_nodes=100, min_impurity_split=0.4 .........\n"
     ]
    },
    {
     "name": "stderr",
     "output_type": "stream",
     "text": [
      "/Users/ZachV/opt/anaconda3/lib/python3.7/site-packages/sklearn/tree/_classes.py:310: FutureWarning: The min_impurity_split parameter is deprecated. Its default value has changed from 1e-7 to 0 in version 0.23, and it will be removed in 0.25. Use the min_impurity_decrease parameter instead.\n",
      "  FutureWarning)\n"
     ]
    },
    {
     "name": "stdout",
     "output_type": "stream",
     "text": [
      "[CV]  ccp_alpha=0, max_leaf_nodes=100, min_impurity_split=0.4, total=   1.0s\n",
      "[CV] ccp_alpha=0, max_leaf_nodes=100, min_impurity_split=0.5 .........\n"
     ]
    },
    {
     "name": "stderr",
     "output_type": "stream",
     "text": [
      "/Users/ZachV/opt/anaconda3/lib/python3.7/site-packages/sklearn/tree/_classes.py:310: FutureWarning: The min_impurity_split parameter is deprecated. Its default value has changed from 1e-7 to 0 in version 0.23, and it will be removed in 0.25. Use the min_impurity_decrease parameter instead.\n",
      "  FutureWarning)\n"
     ]
    },
    {
     "name": "stdout",
     "output_type": "stream",
     "text": [
      "[CV]  ccp_alpha=0, max_leaf_nodes=100, min_impurity_split=0.5, total=   1.2s\n",
      "[CV] ccp_alpha=0, max_leaf_nodes=100, min_impurity_split=0.5 .........\n"
     ]
    },
    {
     "name": "stderr",
     "output_type": "stream",
     "text": [
      "/Users/ZachV/opt/anaconda3/lib/python3.7/site-packages/sklearn/tree/_classes.py:310: FutureWarning: The min_impurity_split parameter is deprecated. Its default value has changed from 1e-7 to 0 in version 0.23, and it will be removed in 0.25. Use the min_impurity_decrease parameter instead.\n",
      "  FutureWarning)\n"
     ]
    },
    {
     "name": "stdout",
     "output_type": "stream",
     "text": [
      "[CV]  ccp_alpha=0, max_leaf_nodes=100, min_impurity_split=0.5, total=   1.1s\n",
      "[CV] ccp_alpha=0, max_leaf_nodes=100, min_impurity_split=0.5 .........\n"
     ]
    },
    {
     "name": "stderr",
     "output_type": "stream",
     "text": [
      "/Users/ZachV/opt/anaconda3/lib/python3.7/site-packages/sklearn/tree/_classes.py:310: FutureWarning: The min_impurity_split parameter is deprecated. Its default value has changed from 1e-7 to 0 in version 0.23, and it will be removed in 0.25. Use the min_impurity_decrease parameter instead.\n",
      "  FutureWarning)\n"
     ]
    },
    {
     "name": "stdout",
     "output_type": "stream",
     "text": [
      "[CV]  ccp_alpha=0, max_leaf_nodes=100, min_impurity_split=0.5, total=   0.9s\n",
      "[CV] ccp_alpha=0, max_leaf_nodes=100, min_impurity_split=0.5 .........\n"
     ]
    },
    {
     "name": "stderr",
     "output_type": "stream",
     "text": [
      "/Users/ZachV/opt/anaconda3/lib/python3.7/site-packages/sklearn/tree/_classes.py:310: FutureWarning: The min_impurity_split parameter is deprecated. Its default value has changed from 1e-7 to 0 in version 0.23, and it will be removed in 0.25. Use the min_impurity_decrease parameter instead.\n",
      "  FutureWarning)\n"
     ]
    },
    {
     "name": "stdout",
     "output_type": "stream",
     "text": [
      "[CV]  ccp_alpha=0, max_leaf_nodes=100, min_impurity_split=0.5, total=   1.1s\n",
      "[CV] ccp_alpha=0, max_leaf_nodes=100, min_impurity_split=0.5 .........\n"
     ]
    },
    {
     "name": "stderr",
     "output_type": "stream",
     "text": [
      "/Users/ZachV/opt/anaconda3/lib/python3.7/site-packages/sklearn/tree/_classes.py:310: FutureWarning: The min_impurity_split parameter is deprecated. Its default value has changed from 1e-7 to 0 in version 0.23, and it will be removed in 0.25. Use the min_impurity_decrease parameter instead.\n",
      "  FutureWarning)\n"
     ]
    },
    {
     "name": "stdout",
     "output_type": "stream",
     "text": [
      "[CV]  ccp_alpha=0, max_leaf_nodes=100, min_impurity_split=0.5, total=   0.9s\n",
      "[CV] ccp_alpha=0.01, max_leaf_nodes=5, min_impurity_split=0 ..........\n"
     ]
    },
    {
     "name": "stderr",
     "output_type": "stream",
     "text": [
      "/Users/ZachV/opt/anaconda3/lib/python3.7/site-packages/sklearn/tree/_classes.py:310: FutureWarning: The min_impurity_split parameter is deprecated. Its default value has changed from 1e-7 to 0 in version 0.23, and it will be removed in 0.25. Use the min_impurity_decrease parameter instead.\n",
      "  FutureWarning)\n"
     ]
    },
    {
     "name": "stdout",
     "output_type": "stream",
     "text": [
      "[CV]  ccp_alpha=0.01, max_leaf_nodes=5, min_impurity_split=0, total=   2.1s\n",
      "[CV] ccp_alpha=0.01, max_leaf_nodes=5, min_impurity_split=0 ..........\n"
     ]
    },
    {
     "name": "stderr",
     "output_type": "stream",
     "text": [
      "/Users/ZachV/opt/anaconda3/lib/python3.7/site-packages/sklearn/tree/_classes.py:310: FutureWarning: The min_impurity_split parameter is deprecated. Its default value has changed from 1e-7 to 0 in version 0.23, and it will be removed in 0.25. Use the min_impurity_decrease parameter instead.\n",
      "  FutureWarning)\n"
     ]
    },
    {
     "name": "stdout",
     "output_type": "stream",
     "text": [
      "[CV]  ccp_alpha=0.01, max_leaf_nodes=5, min_impurity_split=0, total=   2.0s\n",
      "[CV] ccp_alpha=0.01, max_leaf_nodes=5, min_impurity_split=0 ..........\n"
     ]
    },
    {
     "name": "stderr",
     "output_type": "stream",
     "text": [
      "/Users/ZachV/opt/anaconda3/lib/python3.7/site-packages/sklearn/tree/_classes.py:310: FutureWarning: The min_impurity_split parameter is deprecated. Its default value has changed from 1e-7 to 0 in version 0.23, and it will be removed in 0.25. Use the min_impurity_decrease parameter instead.\n",
      "  FutureWarning)\n"
     ]
    },
    {
     "name": "stdout",
     "output_type": "stream",
     "text": [
      "[CV]  ccp_alpha=0.01, max_leaf_nodes=5, min_impurity_split=0, total=   2.0s\n",
      "[CV] ccp_alpha=0.01, max_leaf_nodes=5, min_impurity_split=0 ..........\n"
     ]
    },
    {
     "name": "stderr",
     "output_type": "stream",
     "text": [
      "/Users/ZachV/opt/anaconda3/lib/python3.7/site-packages/sklearn/tree/_classes.py:310: FutureWarning: The min_impurity_split parameter is deprecated. Its default value has changed from 1e-7 to 0 in version 0.23, and it will be removed in 0.25. Use the min_impurity_decrease parameter instead.\n",
      "  FutureWarning)\n"
     ]
    },
    {
     "name": "stdout",
     "output_type": "stream",
     "text": [
      "[CV]  ccp_alpha=0.01, max_leaf_nodes=5, min_impurity_split=0, total=   2.1s\n",
      "[CV] ccp_alpha=0.01, max_leaf_nodes=5, min_impurity_split=0 ..........\n"
     ]
    },
    {
     "name": "stderr",
     "output_type": "stream",
     "text": [
      "/Users/ZachV/opt/anaconda3/lib/python3.7/site-packages/sklearn/tree/_classes.py:310: FutureWarning: The min_impurity_split parameter is deprecated. Its default value has changed from 1e-7 to 0 in version 0.23, and it will be removed in 0.25. Use the min_impurity_decrease parameter instead.\n",
      "  FutureWarning)\n"
     ]
    },
    {
     "name": "stdout",
     "output_type": "stream",
     "text": [
      "[CV]  ccp_alpha=0.01, max_leaf_nodes=5, min_impurity_split=0, total=   1.8s\n",
      "[CV] ccp_alpha=0.01, max_leaf_nodes=5, min_impurity_split=0.1 ........\n"
     ]
    },
    {
     "name": "stderr",
     "output_type": "stream",
     "text": [
      "/Users/ZachV/opt/anaconda3/lib/python3.7/site-packages/sklearn/tree/_classes.py:310: FutureWarning: The min_impurity_split parameter is deprecated. Its default value has changed from 1e-7 to 0 in version 0.23, and it will be removed in 0.25. Use the min_impurity_decrease parameter instead.\n",
      "  FutureWarning)\n"
     ]
    },
    {
     "name": "stdout",
     "output_type": "stream",
     "text": [
      "[CV]  ccp_alpha=0.01, max_leaf_nodes=5, min_impurity_split=0.1, total=   1.6s\n",
      "[CV] ccp_alpha=0.01, max_leaf_nodes=5, min_impurity_split=0.1 ........\n"
     ]
    },
    {
     "name": "stderr",
     "output_type": "stream",
     "text": [
      "/Users/ZachV/opt/anaconda3/lib/python3.7/site-packages/sklearn/tree/_classes.py:310: FutureWarning: The min_impurity_split parameter is deprecated. Its default value has changed from 1e-7 to 0 in version 0.23, and it will be removed in 0.25. Use the min_impurity_decrease parameter instead.\n",
      "  FutureWarning)\n"
     ]
    },
    {
     "name": "stdout",
     "output_type": "stream",
     "text": [
      "[CV]  ccp_alpha=0.01, max_leaf_nodes=5, min_impurity_split=0.1, total=   1.5s\n",
      "[CV] ccp_alpha=0.01, max_leaf_nodes=5, min_impurity_split=0.1 ........\n"
     ]
    },
    {
     "name": "stderr",
     "output_type": "stream",
     "text": [
      "/Users/ZachV/opt/anaconda3/lib/python3.7/site-packages/sklearn/tree/_classes.py:310: FutureWarning: The min_impurity_split parameter is deprecated. Its default value has changed from 1e-7 to 0 in version 0.23, and it will be removed in 0.25. Use the min_impurity_decrease parameter instead.\n",
      "  FutureWarning)\n"
     ]
    },
    {
     "name": "stdout",
     "output_type": "stream",
     "text": [
      "[CV]  ccp_alpha=0.01, max_leaf_nodes=5, min_impurity_split=0.1, total=   2.1s\n",
      "[CV] ccp_alpha=0.01, max_leaf_nodes=5, min_impurity_split=0.1 ........\n"
     ]
    },
    {
     "name": "stderr",
     "output_type": "stream",
     "text": [
      "/Users/ZachV/opt/anaconda3/lib/python3.7/site-packages/sklearn/tree/_classes.py:310: FutureWarning: The min_impurity_split parameter is deprecated. Its default value has changed from 1e-7 to 0 in version 0.23, and it will be removed in 0.25. Use the min_impurity_decrease parameter instead.\n",
      "  FutureWarning)\n"
     ]
    },
    {
     "name": "stdout",
     "output_type": "stream",
     "text": [
      "[CV]  ccp_alpha=0.01, max_leaf_nodes=5, min_impurity_split=0.1, total=   1.9s\n",
      "[CV] ccp_alpha=0.01, max_leaf_nodes=5, min_impurity_split=0.1 ........\n"
     ]
    },
    {
     "name": "stderr",
     "output_type": "stream",
     "text": [
      "/Users/ZachV/opt/anaconda3/lib/python3.7/site-packages/sklearn/tree/_classes.py:310: FutureWarning: The min_impurity_split parameter is deprecated. Its default value has changed from 1e-7 to 0 in version 0.23, and it will be removed in 0.25. Use the min_impurity_decrease parameter instead.\n",
      "  FutureWarning)\n"
     ]
    },
    {
     "name": "stdout",
     "output_type": "stream",
     "text": [
      "[CV]  ccp_alpha=0.01, max_leaf_nodes=5, min_impurity_split=0.1, total=   1.9s\n",
      "[CV] ccp_alpha=0.01, max_leaf_nodes=5, min_impurity_split=0.2 ........\n"
     ]
    },
    {
     "name": "stderr",
     "output_type": "stream",
     "text": [
      "/Users/ZachV/opt/anaconda3/lib/python3.7/site-packages/sklearn/tree/_classes.py:310: FutureWarning: The min_impurity_split parameter is deprecated. Its default value has changed from 1e-7 to 0 in version 0.23, and it will be removed in 0.25. Use the min_impurity_decrease parameter instead.\n",
      "  FutureWarning)\n"
     ]
    },
    {
     "name": "stdout",
     "output_type": "stream",
     "text": [
      "[CV]  ccp_alpha=0.01, max_leaf_nodes=5, min_impurity_split=0.2, total=   1.4s\n",
      "[CV] ccp_alpha=0.01, max_leaf_nodes=5, min_impurity_split=0.2 ........\n"
     ]
    },
    {
     "name": "stderr",
     "output_type": "stream",
     "text": [
      "/Users/ZachV/opt/anaconda3/lib/python3.7/site-packages/sklearn/tree/_classes.py:310: FutureWarning: The min_impurity_split parameter is deprecated. Its default value has changed from 1e-7 to 0 in version 0.23, and it will be removed in 0.25. Use the min_impurity_decrease parameter instead.\n",
      "  FutureWarning)\n"
     ]
    },
    {
     "name": "stdout",
     "output_type": "stream",
     "text": [
      "[CV]  ccp_alpha=0.01, max_leaf_nodes=5, min_impurity_split=0.2, total=   1.4s\n",
      "[CV] ccp_alpha=0.01, max_leaf_nodes=5, min_impurity_split=0.2 ........\n"
     ]
    },
    {
     "name": "stderr",
     "output_type": "stream",
     "text": [
      "/Users/ZachV/opt/anaconda3/lib/python3.7/site-packages/sklearn/tree/_classes.py:310: FutureWarning: The min_impurity_split parameter is deprecated. Its default value has changed from 1e-7 to 0 in version 0.23, and it will be removed in 0.25. Use the min_impurity_decrease parameter instead.\n",
      "  FutureWarning)\n"
     ]
    },
    {
     "name": "stdout",
     "output_type": "stream",
     "text": [
      "[CV]  ccp_alpha=0.01, max_leaf_nodes=5, min_impurity_split=0.2, total=   1.5s\n",
      "[CV] ccp_alpha=0.01, max_leaf_nodes=5, min_impurity_split=0.2 ........\n"
     ]
    },
    {
     "name": "stderr",
     "output_type": "stream",
     "text": [
      "/Users/ZachV/opt/anaconda3/lib/python3.7/site-packages/sklearn/tree/_classes.py:310: FutureWarning: The min_impurity_split parameter is deprecated. Its default value has changed from 1e-7 to 0 in version 0.23, and it will be removed in 0.25. Use the min_impurity_decrease parameter instead.\n",
      "  FutureWarning)\n"
     ]
    },
    {
     "name": "stdout",
     "output_type": "stream",
     "text": [
      "[CV]  ccp_alpha=0.01, max_leaf_nodes=5, min_impurity_split=0.2, total=   1.4s\n",
      "[CV] ccp_alpha=0.01, max_leaf_nodes=5, min_impurity_split=0.2 ........\n"
     ]
    },
    {
     "name": "stderr",
     "output_type": "stream",
     "text": [
      "/Users/ZachV/opt/anaconda3/lib/python3.7/site-packages/sklearn/tree/_classes.py:310: FutureWarning: The min_impurity_split parameter is deprecated. Its default value has changed from 1e-7 to 0 in version 0.23, and it will be removed in 0.25. Use the min_impurity_decrease parameter instead.\n",
      "  FutureWarning)\n"
     ]
    },
    {
     "name": "stdout",
     "output_type": "stream",
     "text": [
      "[CV]  ccp_alpha=0.01, max_leaf_nodes=5, min_impurity_split=0.2, total=   1.4s\n",
      "[CV] ccp_alpha=0.01, max_leaf_nodes=5, min_impurity_split=0.3 ........\n"
     ]
    },
    {
     "name": "stderr",
     "output_type": "stream",
     "text": [
      "/Users/ZachV/opt/anaconda3/lib/python3.7/site-packages/sklearn/tree/_classes.py:310: FutureWarning: The min_impurity_split parameter is deprecated. Its default value has changed from 1e-7 to 0 in version 0.23, and it will be removed in 0.25. Use the min_impurity_decrease parameter instead.\n",
      "  FutureWarning)\n"
     ]
    },
    {
     "name": "stdout",
     "output_type": "stream",
     "text": [
      "[CV]  ccp_alpha=0.01, max_leaf_nodes=5, min_impurity_split=0.3, total=   1.3s\n",
      "[CV] ccp_alpha=0.01, max_leaf_nodes=5, min_impurity_split=0.3 ........\n"
     ]
    },
    {
     "name": "stderr",
     "output_type": "stream",
     "text": [
      "/Users/ZachV/opt/anaconda3/lib/python3.7/site-packages/sklearn/tree/_classes.py:310: FutureWarning: The min_impurity_split parameter is deprecated. Its default value has changed from 1e-7 to 0 in version 0.23, and it will be removed in 0.25. Use the min_impurity_decrease parameter instead.\n",
      "  FutureWarning)\n"
     ]
    },
    {
     "name": "stdout",
     "output_type": "stream",
     "text": [
      "[CV]  ccp_alpha=0.01, max_leaf_nodes=5, min_impurity_split=0.3, total=   1.2s\n",
      "[CV] ccp_alpha=0.01, max_leaf_nodes=5, min_impurity_split=0.3 ........\n"
     ]
    },
    {
     "name": "stderr",
     "output_type": "stream",
     "text": [
      "/Users/ZachV/opt/anaconda3/lib/python3.7/site-packages/sklearn/tree/_classes.py:310: FutureWarning: The min_impurity_split parameter is deprecated. Its default value has changed from 1e-7 to 0 in version 0.23, and it will be removed in 0.25. Use the min_impurity_decrease parameter instead.\n",
      "  FutureWarning)\n"
     ]
    },
    {
     "name": "stdout",
     "output_type": "stream",
     "text": [
      "[CV]  ccp_alpha=0.01, max_leaf_nodes=5, min_impurity_split=0.3, total=   1.3s\n",
      "[CV] ccp_alpha=0.01, max_leaf_nodes=5, min_impurity_split=0.3 ........\n"
     ]
    },
    {
     "name": "stderr",
     "output_type": "stream",
     "text": [
      "/Users/ZachV/opt/anaconda3/lib/python3.7/site-packages/sklearn/tree/_classes.py:310: FutureWarning: The min_impurity_split parameter is deprecated. Its default value has changed from 1e-7 to 0 in version 0.23, and it will be removed in 0.25. Use the min_impurity_decrease parameter instead.\n",
      "  FutureWarning)\n"
     ]
    },
    {
     "name": "stdout",
     "output_type": "stream",
     "text": [
      "[CV]  ccp_alpha=0.01, max_leaf_nodes=5, min_impurity_split=0.3, total=   1.3s\n",
      "[CV] ccp_alpha=0.01, max_leaf_nodes=5, min_impurity_split=0.3 ........\n"
     ]
    },
    {
     "name": "stderr",
     "output_type": "stream",
     "text": [
      "/Users/ZachV/opt/anaconda3/lib/python3.7/site-packages/sklearn/tree/_classes.py:310: FutureWarning: The min_impurity_split parameter is deprecated. Its default value has changed from 1e-7 to 0 in version 0.23, and it will be removed in 0.25. Use the min_impurity_decrease parameter instead.\n",
      "  FutureWarning)\n"
     ]
    },
    {
     "name": "stdout",
     "output_type": "stream",
     "text": [
      "[CV]  ccp_alpha=0.01, max_leaf_nodes=5, min_impurity_split=0.3, total=   1.4s\n",
      "[CV] ccp_alpha=0.01, max_leaf_nodes=5, min_impurity_split=0.4 ........\n"
     ]
    },
    {
     "name": "stderr",
     "output_type": "stream",
     "text": [
      "/Users/ZachV/opt/anaconda3/lib/python3.7/site-packages/sklearn/tree/_classes.py:310: FutureWarning: The min_impurity_split parameter is deprecated. Its default value has changed from 1e-7 to 0 in version 0.23, and it will be removed in 0.25. Use the min_impurity_decrease parameter instead.\n",
      "  FutureWarning)\n"
     ]
    },
    {
     "name": "stdout",
     "output_type": "stream",
     "text": [
      "[CV]  ccp_alpha=0.01, max_leaf_nodes=5, min_impurity_split=0.4, total=   1.0s\n",
      "[CV] ccp_alpha=0.01, max_leaf_nodes=5, min_impurity_split=0.4 ........\n"
     ]
    },
    {
     "name": "stderr",
     "output_type": "stream",
     "text": [
      "/Users/ZachV/opt/anaconda3/lib/python3.7/site-packages/sklearn/tree/_classes.py:310: FutureWarning: The min_impurity_split parameter is deprecated. Its default value has changed from 1e-7 to 0 in version 0.23, and it will be removed in 0.25. Use the min_impurity_decrease parameter instead.\n",
      "  FutureWarning)\n"
     ]
    },
    {
     "name": "stdout",
     "output_type": "stream",
     "text": [
      "[CV]  ccp_alpha=0.01, max_leaf_nodes=5, min_impurity_split=0.4, total=   1.2s\n",
      "[CV] ccp_alpha=0.01, max_leaf_nodes=5, min_impurity_split=0.4 ........\n"
     ]
    },
    {
     "name": "stderr",
     "output_type": "stream",
     "text": [
      "/Users/ZachV/opt/anaconda3/lib/python3.7/site-packages/sklearn/tree/_classes.py:310: FutureWarning: The min_impurity_split parameter is deprecated. Its default value has changed from 1e-7 to 0 in version 0.23, and it will be removed in 0.25. Use the min_impurity_decrease parameter instead.\n",
      "  FutureWarning)\n"
     ]
    },
    {
     "name": "stdout",
     "output_type": "stream",
     "text": [
      "[CV]  ccp_alpha=0.01, max_leaf_nodes=5, min_impurity_split=0.4, total=   0.9s\n",
      "[CV] ccp_alpha=0.01, max_leaf_nodes=5, min_impurity_split=0.4 ........\n"
     ]
    },
    {
     "name": "stderr",
     "output_type": "stream",
     "text": [
      "/Users/ZachV/opt/anaconda3/lib/python3.7/site-packages/sklearn/tree/_classes.py:310: FutureWarning: The min_impurity_split parameter is deprecated. Its default value has changed from 1e-7 to 0 in version 0.23, and it will be removed in 0.25. Use the min_impurity_decrease parameter instead.\n",
      "  FutureWarning)\n"
     ]
    },
    {
     "name": "stdout",
     "output_type": "stream",
     "text": [
      "[CV]  ccp_alpha=0.01, max_leaf_nodes=5, min_impurity_split=0.4, total=   0.9s\n",
      "[CV] ccp_alpha=0.01, max_leaf_nodes=5, min_impurity_split=0.4 ........\n"
     ]
    },
    {
     "name": "stderr",
     "output_type": "stream",
     "text": [
      "/Users/ZachV/opt/anaconda3/lib/python3.7/site-packages/sklearn/tree/_classes.py:310: FutureWarning: The min_impurity_split parameter is deprecated. Its default value has changed from 1e-7 to 0 in version 0.23, and it will be removed in 0.25. Use the min_impurity_decrease parameter instead.\n",
      "  FutureWarning)\n"
     ]
    },
    {
     "name": "stdout",
     "output_type": "stream",
     "text": [
      "[CV]  ccp_alpha=0.01, max_leaf_nodes=5, min_impurity_split=0.4, total=   1.0s\n",
      "[CV] ccp_alpha=0.01, max_leaf_nodes=5, min_impurity_split=0.5 ........\n"
     ]
    },
    {
     "name": "stderr",
     "output_type": "stream",
     "text": [
      "/Users/ZachV/opt/anaconda3/lib/python3.7/site-packages/sklearn/tree/_classes.py:310: FutureWarning: The min_impurity_split parameter is deprecated. Its default value has changed from 1e-7 to 0 in version 0.23, and it will be removed in 0.25. Use the min_impurity_decrease parameter instead.\n",
      "  FutureWarning)\n"
     ]
    },
    {
     "name": "stdout",
     "output_type": "stream",
     "text": [
      "[CV]  ccp_alpha=0.01, max_leaf_nodes=5, min_impurity_split=0.5, total=   0.9s\n",
      "[CV] ccp_alpha=0.01, max_leaf_nodes=5, min_impurity_split=0.5 ........\n"
     ]
    },
    {
     "name": "stderr",
     "output_type": "stream",
     "text": [
      "/Users/ZachV/opt/anaconda3/lib/python3.7/site-packages/sklearn/tree/_classes.py:310: FutureWarning: The min_impurity_split parameter is deprecated. Its default value has changed from 1e-7 to 0 in version 0.23, and it will be removed in 0.25. Use the min_impurity_decrease parameter instead.\n",
      "  FutureWarning)\n"
     ]
    },
    {
     "name": "stdout",
     "output_type": "stream",
     "text": [
      "[CV]  ccp_alpha=0.01, max_leaf_nodes=5, min_impurity_split=0.5, total=   1.0s\n",
      "[CV] ccp_alpha=0.01, max_leaf_nodes=5, min_impurity_split=0.5 ........\n"
     ]
    },
    {
     "name": "stderr",
     "output_type": "stream",
     "text": [
      "/Users/ZachV/opt/anaconda3/lib/python3.7/site-packages/sklearn/tree/_classes.py:310: FutureWarning: The min_impurity_split parameter is deprecated. Its default value has changed from 1e-7 to 0 in version 0.23, and it will be removed in 0.25. Use the min_impurity_decrease parameter instead.\n",
      "  FutureWarning)\n"
     ]
    },
    {
     "name": "stdout",
     "output_type": "stream",
     "text": [
      "[CV]  ccp_alpha=0.01, max_leaf_nodes=5, min_impurity_split=0.5, total=   1.2s\n",
      "[CV] ccp_alpha=0.01, max_leaf_nodes=5, min_impurity_split=0.5 ........\n"
     ]
    },
    {
     "name": "stderr",
     "output_type": "stream",
     "text": [
      "/Users/ZachV/opt/anaconda3/lib/python3.7/site-packages/sklearn/tree/_classes.py:310: FutureWarning: The min_impurity_split parameter is deprecated. Its default value has changed from 1e-7 to 0 in version 0.23, and it will be removed in 0.25. Use the min_impurity_decrease parameter instead.\n",
      "  FutureWarning)\n"
     ]
    },
    {
     "name": "stdout",
     "output_type": "stream",
     "text": [
      "[CV]  ccp_alpha=0.01, max_leaf_nodes=5, min_impurity_split=0.5, total=   1.0s\n",
      "[CV] ccp_alpha=0.01, max_leaf_nodes=5, min_impurity_split=0.5 ........\n"
     ]
    },
    {
     "name": "stderr",
     "output_type": "stream",
     "text": [
      "/Users/ZachV/opt/anaconda3/lib/python3.7/site-packages/sklearn/tree/_classes.py:310: FutureWarning: The min_impurity_split parameter is deprecated. Its default value has changed from 1e-7 to 0 in version 0.23, and it will be removed in 0.25. Use the min_impurity_decrease parameter instead.\n",
      "  FutureWarning)\n"
     ]
    },
    {
     "name": "stdout",
     "output_type": "stream",
     "text": [
      "[CV]  ccp_alpha=0.01, max_leaf_nodes=5, min_impurity_split=0.5, total=   0.9s\n",
      "[CV] ccp_alpha=0.01, max_leaf_nodes=10, min_impurity_split=0 .........\n"
     ]
    },
    {
     "name": "stderr",
     "output_type": "stream",
     "text": [
      "/Users/ZachV/opt/anaconda3/lib/python3.7/site-packages/sklearn/tree/_classes.py:310: FutureWarning: The min_impurity_split parameter is deprecated. Its default value has changed from 1e-7 to 0 in version 0.23, and it will be removed in 0.25. Use the min_impurity_decrease parameter instead.\n",
      "  FutureWarning)\n"
     ]
    },
    {
     "name": "stdout",
     "output_type": "stream",
     "text": [
      "[CV]  ccp_alpha=0.01, max_leaf_nodes=10, min_impurity_split=0, total=   3.0s\n",
      "[CV] ccp_alpha=0.01, max_leaf_nodes=10, min_impurity_split=0 .........\n"
     ]
    },
    {
     "name": "stderr",
     "output_type": "stream",
     "text": [
      "/Users/ZachV/opt/anaconda3/lib/python3.7/site-packages/sklearn/tree/_classes.py:310: FutureWarning: The min_impurity_split parameter is deprecated. Its default value has changed from 1e-7 to 0 in version 0.23, and it will be removed in 0.25. Use the min_impurity_decrease parameter instead.\n",
      "  FutureWarning)\n"
     ]
    },
    {
     "name": "stdout",
     "output_type": "stream",
     "text": [
      "[CV]  ccp_alpha=0.01, max_leaf_nodes=10, min_impurity_split=0, total=   2.8s\n",
      "[CV] ccp_alpha=0.01, max_leaf_nodes=10, min_impurity_split=0 .........\n"
     ]
    },
    {
     "name": "stderr",
     "output_type": "stream",
     "text": [
      "/Users/ZachV/opt/anaconda3/lib/python3.7/site-packages/sklearn/tree/_classes.py:310: FutureWarning: The min_impurity_split parameter is deprecated. Its default value has changed from 1e-7 to 0 in version 0.23, and it will be removed in 0.25. Use the min_impurity_decrease parameter instead.\n",
      "  FutureWarning)\n"
     ]
    },
    {
     "name": "stdout",
     "output_type": "stream",
     "text": [
      "[CV]  ccp_alpha=0.01, max_leaf_nodes=10, min_impurity_split=0, total=   3.3s\n",
      "[CV] ccp_alpha=0.01, max_leaf_nodes=10, min_impurity_split=0 .........\n"
     ]
    },
    {
     "name": "stderr",
     "output_type": "stream",
     "text": [
      "/Users/ZachV/opt/anaconda3/lib/python3.7/site-packages/sklearn/tree/_classes.py:310: FutureWarning: The min_impurity_split parameter is deprecated. Its default value has changed from 1e-7 to 0 in version 0.23, and it will be removed in 0.25. Use the min_impurity_decrease parameter instead.\n",
      "  FutureWarning)\n"
     ]
    },
    {
     "name": "stdout",
     "output_type": "stream",
     "text": [
      "[CV]  ccp_alpha=0.01, max_leaf_nodes=10, min_impurity_split=0, total=   3.4s\n",
      "[CV] ccp_alpha=0.01, max_leaf_nodes=10, min_impurity_split=0 .........\n"
     ]
    },
    {
     "name": "stderr",
     "output_type": "stream",
     "text": [
      "/Users/ZachV/opt/anaconda3/lib/python3.7/site-packages/sklearn/tree/_classes.py:310: FutureWarning: The min_impurity_split parameter is deprecated. Its default value has changed from 1e-7 to 0 in version 0.23, and it will be removed in 0.25. Use the min_impurity_decrease parameter instead.\n",
      "  FutureWarning)\n"
     ]
    },
    {
     "name": "stdout",
     "output_type": "stream",
     "text": [
      "[CV]  ccp_alpha=0.01, max_leaf_nodes=10, min_impurity_split=0, total=   2.5s\n",
      "[CV] ccp_alpha=0.01, max_leaf_nodes=10, min_impurity_split=0.1 .......\n"
     ]
    },
    {
     "name": "stderr",
     "output_type": "stream",
     "text": [
      "/Users/ZachV/opt/anaconda3/lib/python3.7/site-packages/sklearn/tree/_classes.py:310: FutureWarning: The min_impurity_split parameter is deprecated. Its default value has changed from 1e-7 to 0 in version 0.23, and it will be removed in 0.25. Use the min_impurity_decrease parameter instead.\n",
      "  FutureWarning)\n"
     ]
    },
    {
     "name": "stdout",
     "output_type": "stream",
     "text": [
      "[CV]  ccp_alpha=0.01, max_leaf_nodes=10, min_impurity_split=0.1, total=   2.1s\n",
      "[CV] ccp_alpha=0.01, max_leaf_nodes=10, min_impurity_split=0.1 .......\n"
     ]
    },
    {
     "name": "stderr",
     "output_type": "stream",
     "text": [
      "/Users/ZachV/opt/anaconda3/lib/python3.7/site-packages/sklearn/tree/_classes.py:310: FutureWarning: The min_impurity_split parameter is deprecated. Its default value has changed from 1e-7 to 0 in version 0.23, and it will be removed in 0.25. Use the min_impurity_decrease parameter instead.\n",
      "  FutureWarning)\n"
     ]
    },
    {
     "name": "stdout",
     "output_type": "stream",
     "text": [
      "[CV]  ccp_alpha=0.01, max_leaf_nodes=10, min_impurity_split=0.1, total=   2.0s\n",
      "[CV] ccp_alpha=0.01, max_leaf_nodes=10, min_impurity_split=0.1 .......\n"
     ]
    },
    {
     "name": "stderr",
     "output_type": "stream",
     "text": [
      "/Users/ZachV/opt/anaconda3/lib/python3.7/site-packages/sklearn/tree/_classes.py:310: FutureWarning: The min_impurity_split parameter is deprecated. Its default value has changed from 1e-7 to 0 in version 0.23, and it will be removed in 0.25. Use the min_impurity_decrease parameter instead.\n",
      "  FutureWarning)\n"
     ]
    },
    {
     "name": "stdout",
     "output_type": "stream",
     "text": [
      "[CV]  ccp_alpha=0.01, max_leaf_nodes=10, min_impurity_split=0.1, total=   1.8s\n",
      "[CV] ccp_alpha=0.01, max_leaf_nodes=10, min_impurity_split=0.1 .......\n"
     ]
    },
    {
     "name": "stderr",
     "output_type": "stream",
     "text": [
      "/Users/ZachV/opt/anaconda3/lib/python3.7/site-packages/sklearn/tree/_classes.py:310: FutureWarning: The min_impurity_split parameter is deprecated. Its default value has changed from 1e-7 to 0 in version 0.23, and it will be removed in 0.25. Use the min_impurity_decrease parameter instead.\n",
      "  FutureWarning)\n"
     ]
    },
    {
     "name": "stdout",
     "output_type": "stream",
     "text": [
      "[CV]  ccp_alpha=0.01, max_leaf_nodes=10, min_impurity_split=0.1, total=   2.0s\n",
      "[CV] ccp_alpha=0.01, max_leaf_nodes=10, min_impurity_split=0.1 .......\n"
     ]
    },
    {
     "name": "stderr",
     "output_type": "stream",
     "text": [
      "/Users/ZachV/opt/anaconda3/lib/python3.7/site-packages/sklearn/tree/_classes.py:310: FutureWarning: The min_impurity_split parameter is deprecated. Its default value has changed from 1e-7 to 0 in version 0.23, and it will be removed in 0.25. Use the min_impurity_decrease parameter instead.\n",
      "  FutureWarning)\n"
     ]
    },
    {
     "name": "stdout",
     "output_type": "stream",
     "text": [
      "[CV]  ccp_alpha=0.01, max_leaf_nodes=10, min_impurity_split=0.1, total=   1.9s\n",
      "[CV] ccp_alpha=0.01, max_leaf_nodes=10, min_impurity_split=0.2 .......\n"
     ]
    },
    {
     "name": "stderr",
     "output_type": "stream",
     "text": [
      "/Users/ZachV/opt/anaconda3/lib/python3.7/site-packages/sklearn/tree/_classes.py:310: FutureWarning: The min_impurity_split parameter is deprecated. Its default value has changed from 1e-7 to 0 in version 0.23, and it will be removed in 0.25. Use the min_impurity_decrease parameter instead.\n",
      "  FutureWarning)\n"
     ]
    },
    {
     "name": "stdout",
     "output_type": "stream",
     "text": [
      "[CV]  ccp_alpha=0.01, max_leaf_nodes=10, min_impurity_split=0.2, total=   2.1s\n",
      "[CV] ccp_alpha=0.01, max_leaf_nodes=10, min_impurity_split=0.2 .......\n"
     ]
    },
    {
     "name": "stderr",
     "output_type": "stream",
     "text": [
      "/Users/ZachV/opt/anaconda3/lib/python3.7/site-packages/sklearn/tree/_classes.py:310: FutureWarning: The min_impurity_split parameter is deprecated. Its default value has changed from 1e-7 to 0 in version 0.23, and it will be removed in 0.25. Use the min_impurity_decrease parameter instead.\n",
      "  FutureWarning)\n"
     ]
    },
    {
     "name": "stdout",
     "output_type": "stream",
     "text": [
      "[CV]  ccp_alpha=0.01, max_leaf_nodes=10, min_impurity_split=0.2, total=   1.9s\n",
      "[CV] ccp_alpha=0.01, max_leaf_nodes=10, min_impurity_split=0.2 .......\n"
     ]
    },
    {
     "name": "stderr",
     "output_type": "stream",
     "text": [
      "/Users/ZachV/opt/anaconda3/lib/python3.7/site-packages/sklearn/tree/_classes.py:310: FutureWarning: The min_impurity_split parameter is deprecated. Its default value has changed from 1e-7 to 0 in version 0.23, and it will be removed in 0.25. Use the min_impurity_decrease parameter instead.\n",
      "  FutureWarning)\n"
     ]
    },
    {
     "name": "stdout",
     "output_type": "stream",
     "text": [
      "[CV]  ccp_alpha=0.01, max_leaf_nodes=10, min_impurity_split=0.2, total=   1.8s\n",
      "[CV] ccp_alpha=0.01, max_leaf_nodes=10, min_impurity_split=0.2 .......\n"
     ]
    },
    {
     "name": "stderr",
     "output_type": "stream",
     "text": [
      "/Users/ZachV/opt/anaconda3/lib/python3.7/site-packages/sklearn/tree/_classes.py:310: FutureWarning: The min_impurity_split parameter is deprecated. Its default value has changed from 1e-7 to 0 in version 0.23, and it will be removed in 0.25. Use the min_impurity_decrease parameter instead.\n",
      "  FutureWarning)\n"
     ]
    },
    {
     "name": "stdout",
     "output_type": "stream",
     "text": [
      "[CV]  ccp_alpha=0.01, max_leaf_nodes=10, min_impurity_split=0.2, total=   2.6s\n",
      "[CV] ccp_alpha=0.01, max_leaf_nodes=10, min_impurity_split=0.2 .......\n"
     ]
    },
    {
     "name": "stderr",
     "output_type": "stream",
     "text": [
      "/Users/ZachV/opt/anaconda3/lib/python3.7/site-packages/sklearn/tree/_classes.py:310: FutureWarning: The min_impurity_split parameter is deprecated. Its default value has changed from 1e-7 to 0 in version 0.23, and it will be removed in 0.25. Use the min_impurity_decrease parameter instead.\n",
      "  FutureWarning)\n"
     ]
    },
    {
     "name": "stdout",
     "output_type": "stream",
     "text": [
      "[CV]  ccp_alpha=0.01, max_leaf_nodes=10, min_impurity_split=0.2, total=   1.7s\n",
      "[CV] ccp_alpha=0.01, max_leaf_nodes=10, min_impurity_split=0.3 .......\n"
     ]
    },
    {
     "name": "stderr",
     "output_type": "stream",
     "text": [
      "/Users/ZachV/opt/anaconda3/lib/python3.7/site-packages/sklearn/tree/_classes.py:310: FutureWarning: The min_impurity_split parameter is deprecated. Its default value has changed from 1e-7 to 0 in version 0.23, and it will be removed in 0.25. Use the min_impurity_decrease parameter instead.\n",
      "  FutureWarning)\n"
     ]
    },
    {
     "name": "stdout",
     "output_type": "stream",
     "text": [
      "[CV]  ccp_alpha=0.01, max_leaf_nodes=10, min_impurity_split=0.3, total=   1.4s\n",
      "[CV] ccp_alpha=0.01, max_leaf_nodes=10, min_impurity_split=0.3 .......\n"
     ]
    },
    {
     "name": "stderr",
     "output_type": "stream",
     "text": [
      "/Users/ZachV/opt/anaconda3/lib/python3.7/site-packages/sklearn/tree/_classes.py:310: FutureWarning: The min_impurity_split parameter is deprecated. Its default value has changed from 1e-7 to 0 in version 0.23, and it will be removed in 0.25. Use the min_impurity_decrease parameter instead.\n",
      "  FutureWarning)\n"
     ]
    },
    {
     "name": "stdout",
     "output_type": "stream",
     "text": [
      "[CV]  ccp_alpha=0.01, max_leaf_nodes=10, min_impurity_split=0.3, total=   2.1s\n",
      "[CV] ccp_alpha=0.01, max_leaf_nodes=10, min_impurity_split=0.3 .......\n"
     ]
    },
    {
     "name": "stderr",
     "output_type": "stream",
     "text": [
      "/Users/ZachV/opt/anaconda3/lib/python3.7/site-packages/sklearn/tree/_classes.py:310: FutureWarning: The min_impurity_split parameter is deprecated. Its default value has changed from 1e-7 to 0 in version 0.23, and it will be removed in 0.25. Use the min_impurity_decrease parameter instead.\n",
      "  FutureWarning)\n"
     ]
    },
    {
     "name": "stdout",
     "output_type": "stream",
     "text": [
      "[CV]  ccp_alpha=0.01, max_leaf_nodes=10, min_impurity_split=0.3, total=   1.4s\n",
      "[CV] ccp_alpha=0.01, max_leaf_nodes=10, min_impurity_split=0.3 .......\n"
     ]
    },
    {
     "name": "stderr",
     "output_type": "stream",
     "text": [
      "/Users/ZachV/opt/anaconda3/lib/python3.7/site-packages/sklearn/tree/_classes.py:310: FutureWarning: The min_impurity_split parameter is deprecated. Its default value has changed from 1e-7 to 0 in version 0.23, and it will be removed in 0.25. Use the min_impurity_decrease parameter instead.\n",
      "  FutureWarning)\n"
     ]
    },
    {
     "name": "stdout",
     "output_type": "stream",
     "text": [
      "[CV]  ccp_alpha=0.01, max_leaf_nodes=10, min_impurity_split=0.3, total=   1.3s\n",
      "[CV] ccp_alpha=0.01, max_leaf_nodes=10, min_impurity_split=0.3 .......\n"
     ]
    },
    {
     "name": "stderr",
     "output_type": "stream",
     "text": [
      "/Users/ZachV/opt/anaconda3/lib/python3.7/site-packages/sklearn/tree/_classes.py:310: FutureWarning: The min_impurity_split parameter is deprecated. Its default value has changed from 1e-7 to 0 in version 0.23, and it will be removed in 0.25. Use the min_impurity_decrease parameter instead.\n",
      "  FutureWarning)\n"
     ]
    },
    {
     "name": "stdout",
     "output_type": "stream",
     "text": [
      "[CV]  ccp_alpha=0.01, max_leaf_nodes=10, min_impurity_split=0.3, total=   1.7s\n",
      "[CV] ccp_alpha=0.01, max_leaf_nodes=10, min_impurity_split=0.4 .......\n"
     ]
    },
    {
     "name": "stderr",
     "output_type": "stream",
     "text": [
      "/Users/ZachV/opt/anaconda3/lib/python3.7/site-packages/sklearn/tree/_classes.py:310: FutureWarning: The min_impurity_split parameter is deprecated. Its default value has changed from 1e-7 to 0 in version 0.23, and it will be removed in 0.25. Use the min_impurity_decrease parameter instead.\n",
      "  FutureWarning)\n"
     ]
    },
    {
     "name": "stdout",
     "output_type": "stream",
     "text": [
      "[CV]  ccp_alpha=0.01, max_leaf_nodes=10, min_impurity_split=0.4, total=   1.0s\n",
      "[CV] ccp_alpha=0.01, max_leaf_nodes=10, min_impurity_split=0.4 .......\n"
     ]
    },
    {
     "name": "stderr",
     "output_type": "stream",
     "text": [
      "/Users/ZachV/opt/anaconda3/lib/python3.7/site-packages/sklearn/tree/_classes.py:310: FutureWarning: The min_impurity_split parameter is deprecated. Its default value has changed from 1e-7 to 0 in version 0.23, and it will be removed in 0.25. Use the min_impurity_decrease parameter instead.\n",
      "  FutureWarning)\n"
     ]
    },
    {
     "name": "stdout",
     "output_type": "stream",
     "text": [
      "[CV]  ccp_alpha=0.01, max_leaf_nodes=10, min_impurity_split=0.4, total=   0.9s\n",
      "[CV] ccp_alpha=0.01, max_leaf_nodes=10, min_impurity_split=0.4 .......\n"
     ]
    },
    {
     "name": "stderr",
     "output_type": "stream",
     "text": [
      "/Users/ZachV/opt/anaconda3/lib/python3.7/site-packages/sklearn/tree/_classes.py:310: FutureWarning: The min_impurity_split parameter is deprecated. Its default value has changed from 1e-7 to 0 in version 0.23, and it will be removed in 0.25. Use the min_impurity_decrease parameter instead.\n",
      "  FutureWarning)\n"
     ]
    },
    {
     "name": "stdout",
     "output_type": "stream",
     "text": [
      "[CV]  ccp_alpha=0.01, max_leaf_nodes=10, min_impurity_split=0.4, total=   1.0s\n",
      "[CV] ccp_alpha=0.01, max_leaf_nodes=10, min_impurity_split=0.4 .......\n"
     ]
    },
    {
     "name": "stderr",
     "output_type": "stream",
     "text": [
      "/Users/ZachV/opt/anaconda3/lib/python3.7/site-packages/sklearn/tree/_classes.py:310: FutureWarning: The min_impurity_split parameter is deprecated. Its default value has changed from 1e-7 to 0 in version 0.23, and it will be removed in 0.25. Use the min_impurity_decrease parameter instead.\n",
      "  FutureWarning)\n"
     ]
    },
    {
     "name": "stdout",
     "output_type": "stream",
     "text": [
      "[CV]  ccp_alpha=0.01, max_leaf_nodes=10, min_impurity_split=0.4, total=   0.9s\n",
      "[CV] ccp_alpha=0.01, max_leaf_nodes=10, min_impurity_split=0.4 .......\n"
     ]
    },
    {
     "name": "stderr",
     "output_type": "stream",
     "text": [
      "/Users/ZachV/opt/anaconda3/lib/python3.7/site-packages/sklearn/tree/_classes.py:310: FutureWarning: The min_impurity_split parameter is deprecated. Its default value has changed from 1e-7 to 0 in version 0.23, and it will be removed in 0.25. Use the min_impurity_decrease parameter instead.\n",
      "  FutureWarning)\n"
     ]
    },
    {
     "name": "stdout",
     "output_type": "stream",
     "text": [
      "[CV]  ccp_alpha=0.01, max_leaf_nodes=10, min_impurity_split=0.4, total=   0.9s\n",
      "[CV] ccp_alpha=0.01, max_leaf_nodes=10, min_impurity_split=0.5 .......\n"
     ]
    },
    {
     "name": "stderr",
     "output_type": "stream",
     "text": [
      "/Users/ZachV/opt/anaconda3/lib/python3.7/site-packages/sklearn/tree/_classes.py:310: FutureWarning: The min_impurity_split parameter is deprecated. Its default value has changed from 1e-7 to 0 in version 0.23, and it will be removed in 0.25. Use the min_impurity_decrease parameter instead.\n",
      "  FutureWarning)\n"
     ]
    },
    {
     "name": "stdout",
     "output_type": "stream",
     "text": [
      "[CV]  ccp_alpha=0.01, max_leaf_nodes=10, min_impurity_split=0.5, total=   0.9s\n",
      "[CV] ccp_alpha=0.01, max_leaf_nodes=10, min_impurity_split=0.5 .......\n"
     ]
    },
    {
     "name": "stderr",
     "output_type": "stream",
     "text": [
      "/Users/ZachV/opt/anaconda3/lib/python3.7/site-packages/sklearn/tree/_classes.py:310: FutureWarning: The min_impurity_split parameter is deprecated. Its default value has changed from 1e-7 to 0 in version 0.23, and it will be removed in 0.25. Use the min_impurity_decrease parameter instead.\n",
      "  FutureWarning)\n"
     ]
    },
    {
     "name": "stdout",
     "output_type": "stream",
     "text": [
      "[CV]  ccp_alpha=0.01, max_leaf_nodes=10, min_impurity_split=0.5, total=   0.9s\n",
      "[CV] ccp_alpha=0.01, max_leaf_nodes=10, min_impurity_split=0.5 .......\n"
     ]
    },
    {
     "name": "stderr",
     "output_type": "stream",
     "text": [
      "/Users/ZachV/opt/anaconda3/lib/python3.7/site-packages/sklearn/tree/_classes.py:310: FutureWarning: The min_impurity_split parameter is deprecated. Its default value has changed from 1e-7 to 0 in version 0.23, and it will be removed in 0.25. Use the min_impurity_decrease parameter instead.\n",
      "  FutureWarning)\n"
     ]
    },
    {
     "name": "stdout",
     "output_type": "stream",
     "text": [
      "[CV]  ccp_alpha=0.01, max_leaf_nodes=10, min_impurity_split=0.5, total=   0.9s\n",
      "[CV] ccp_alpha=0.01, max_leaf_nodes=10, min_impurity_split=0.5 .......\n"
     ]
    },
    {
     "name": "stderr",
     "output_type": "stream",
     "text": [
      "/Users/ZachV/opt/anaconda3/lib/python3.7/site-packages/sklearn/tree/_classes.py:310: FutureWarning: The min_impurity_split parameter is deprecated. Its default value has changed from 1e-7 to 0 in version 0.23, and it will be removed in 0.25. Use the min_impurity_decrease parameter instead.\n",
      "  FutureWarning)\n"
     ]
    },
    {
     "name": "stdout",
     "output_type": "stream",
     "text": [
      "[CV]  ccp_alpha=0.01, max_leaf_nodes=10, min_impurity_split=0.5, total=   0.9s\n",
      "[CV] ccp_alpha=0.01, max_leaf_nodes=10, min_impurity_split=0.5 .......\n"
     ]
    },
    {
     "name": "stderr",
     "output_type": "stream",
     "text": [
      "/Users/ZachV/opt/anaconda3/lib/python3.7/site-packages/sklearn/tree/_classes.py:310: FutureWarning: The min_impurity_split parameter is deprecated. Its default value has changed from 1e-7 to 0 in version 0.23, and it will be removed in 0.25. Use the min_impurity_decrease parameter instead.\n",
      "  FutureWarning)\n"
     ]
    },
    {
     "name": "stdout",
     "output_type": "stream",
     "text": [
      "[CV]  ccp_alpha=0.01, max_leaf_nodes=10, min_impurity_split=0.5, total=   0.9s\n",
      "[CV] ccp_alpha=0.01, max_leaf_nodes=15, min_impurity_split=0 .........\n"
     ]
    },
    {
     "name": "stderr",
     "output_type": "stream",
     "text": [
      "/Users/ZachV/opt/anaconda3/lib/python3.7/site-packages/sklearn/tree/_classes.py:310: FutureWarning: The min_impurity_split parameter is deprecated. Its default value has changed from 1e-7 to 0 in version 0.23, and it will be removed in 0.25. Use the min_impurity_decrease parameter instead.\n",
      "  FutureWarning)\n"
     ]
    },
    {
     "name": "stdout",
     "output_type": "stream",
     "text": [
      "[CV]  ccp_alpha=0.01, max_leaf_nodes=15, min_impurity_split=0, total=   2.6s\n",
      "[CV] ccp_alpha=0.01, max_leaf_nodes=15, min_impurity_split=0 .........\n"
     ]
    },
    {
     "name": "stderr",
     "output_type": "stream",
     "text": [
      "/Users/ZachV/opt/anaconda3/lib/python3.7/site-packages/sklearn/tree/_classes.py:310: FutureWarning: The min_impurity_split parameter is deprecated. Its default value has changed from 1e-7 to 0 in version 0.23, and it will be removed in 0.25. Use the min_impurity_decrease parameter instead.\n",
      "  FutureWarning)\n"
     ]
    },
    {
     "name": "stdout",
     "output_type": "stream",
     "text": [
      "[CV]  ccp_alpha=0.01, max_leaf_nodes=15, min_impurity_split=0, total=   2.6s\n",
      "[CV] ccp_alpha=0.01, max_leaf_nodes=15, min_impurity_split=0 .........\n"
     ]
    },
    {
     "name": "stderr",
     "output_type": "stream",
     "text": [
      "/Users/ZachV/opt/anaconda3/lib/python3.7/site-packages/sklearn/tree/_classes.py:310: FutureWarning: The min_impurity_split parameter is deprecated. Its default value has changed from 1e-7 to 0 in version 0.23, and it will be removed in 0.25. Use the min_impurity_decrease parameter instead.\n",
      "  FutureWarning)\n"
     ]
    },
    {
     "name": "stdout",
     "output_type": "stream",
     "text": [
      "[CV]  ccp_alpha=0.01, max_leaf_nodes=15, min_impurity_split=0, total=   2.5s\n",
      "[CV] ccp_alpha=0.01, max_leaf_nodes=15, min_impurity_split=0 .........\n"
     ]
    },
    {
     "name": "stderr",
     "output_type": "stream",
     "text": [
      "/Users/ZachV/opt/anaconda3/lib/python3.7/site-packages/sklearn/tree/_classes.py:310: FutureWarning: The min_impurity_split parameter is deprecated. Its default value has changed from 1e-7 to 0 in version 0.23, and it will be removed in 0.25. Use the min_impurity_decrease parameter instead.\n",
      "  FutureWarning)\n"
     ]
    },
    {
     "name": "stdout",
     "output_type": "stream",
     "text": [
      "[CV]  ccp_alpha=0.01, max_leaf_nodes=15, min_impurity_split=0, total=   2.5s\n",
      "[CV] ccp_alpha=0.01, max_leaf_nodes=15, min_impurity_split=0 .........\n"
     ]
    },
    {
     "name": "stderr",
     "output_type": "stream",
     "text": [
      "/Users/ZachV/opt/anaconda3/lib/python3.7/site-packages/sklearn/tree/_classes.py:310: FutureWarning: The min_impurity_split parameter is deprecated. Its default value has changed from 1e-7 to 0 in version 0.23, and it will be removed in 0.25. Use the min_impurity_decrease parameter instead.\n",
      "  FutureWarning)\n"
     ]
    },
    {
     "name": "stdout",
     "output_type": "stream",
     "text": [
      "[CV]  ccp_alpha=0.01, max_leaf_nodes=15, min_impurity_split=0, total=   2.5s\n",
      "[CV] ccp_alpha=0.01, max_leaf_nodes=15, min_impurity_split=0.1 .......\n"
     ]
    },
    {
     "name": "stderr",
     "output_type": "stream",
     "text": [
      "/Users/ZachV/opt/anaconda3/lib/python3.7/site-packages/sklearn/tree/_classes.py:310: FutureWarning: The min_impurity_split parameter is deprecated. Its default value has changed from 1e-7 to 0 in version 0.23, and it will be removed in 0.25. Use the min_impurity_decrease parameter instead.\n",
      "  FutureWarning)\n"
     ]
    },
    {
     "name": "stdout",
     "output_type": "stream",
     "text": [
      "[CV]  ccp_alpha=0.01, max_leaf_nodes=15, min_impurity_split=0.1, total=   1.8s\n",
      "[CV] ccp_alpha=0.01, max_leaf_nodes=15, min_impurity_split=0.1 .......\n"
     ]
    },
    {
     "name": "stderr",
     "output_type": "stream",
     "text": [
      "/Users/ZachV/opt/anaconda3/lib/python3.7/site-packages/sklearn/tree/_classes.py:310: FutureWarning: The min_impurity_split parameter is deprecated. Its default value has changed from 1e-7 to 0 in version 0.23, and it will be removed in 0.25. Use the min_impurity_decrease parameter instead.\n",
      "  FutureWarning)\n"
     ]
    },
    {
     "name": "stdout",
     "output_type": "stream",
     "text": [
      "[CV]  ccp_alpha=0.01, max_leaf_nodes=15, min_impurity_split=0.1, total=   1.8s\n",
      "[CV] ccp_alpha=0.01, max_leaf_nodes=15, min_impurity_split=0.1 .......\n"
     ]
    },
    {
     "name": "stderr",
     "output_type": "stream",
     "text": [
      "/Users/ZachV/opt/anaconda3/lib/python3.7/site-packages/sklearn/tree/_classes.py:310: FutureWarning: The min_impurity_split parameter is deprecated. Its default value has changed from 1e-7 to 0 in version 0.23, and it will be removed in 0.25. Use the min_impurity_decrease parameter instead.\n",
      "  FutureWarning)\n"
     ]
    },
    {
     "name": "stdout",
     "output_type": "stream",
     "text": [
      "[CV]  ccp_alpha=0.01, max_leaf_nodes=15, min_impurity_split=0.1, total=   1.9s\n",
      "[CV] ccp_alpha=0.01, max_leaf_nodes=15, min_impurity_split=0.1 .......\n"
     ]
    },
    {
     "name": "stderr",
     "output_type": "stream",
     "text": [
      "/Users/ZachV/opt/anaconda3/lib/python3.7/site-packages/sklearn/tree/_classes.py:310: FutureWarning: The min_impurity_split parameter is deprecated. Its default value has changed from 1e-7 to 0 in version 0.23, and it will be removed in 0.25. Use the min_impurity_decrease parameter instead.\n",
      "  FutureWarning)\n"
     ]
    },
    {
     "name": "stdout",
     "output_type": "stream",
     "text": [
      "[CV]  ccp_alpha=0.01, max_leaf_nodes=15, min_impurity_split=0.1, total=   2.0s\n",
      "[CV] ccp_alpha=0.01, max_leaf_nodes=15, min_impurity_split=0.1 .......\n"
     ]
    },
    {
     "name": "stderr",
     "output_type": "stream",
     "text": [
      "/Users/ZachV/opt/anaconda3/lib/python3.7/site-packages/sklearn/tree/_classes.py:310: FutureWarning: The min_impurity_split parameter is deprecated. Its default value has changed from 1e-7 to 0 in version 0.23, and it will be removed in 0.25. Use the min_impurity_decrease parameter instead.\n",
      "  FutureWarning)\n"
     ]
    },
    {
     "name": "stdout",
     "output_type": "stream",
     "text": [
      "[CV]  ccp_alpha=0.01, max_leaf_nodes=15, min_impurity_split=0.1, total=   1.8s\n",
      "[CV] ccp_alpha=0.01, max_leaf_nodes=15, min_impurity_split=0.2 .......\n"
     ]
    },
    {
     "name": "stderr",
     "output_type": "stream",
     "text": [
      "/Users/ZachV/opt/anaconda3/lib/python3.7/site-packages/sklearn/tree/_classes.py:310: FutureWarning: The min_impurity_split parameter is deprecated. Its default value has changed from 1e-7 to 0 in version 0.23, and it will be removed in 0.25. Use the min_impurity_decrease parameter instead.\n",
      "  FutureWarning)\n"
     ]
    },
    {
     "name": "stdout",
     "output_type": "stream",
     "text": [
      "[CV]  ccp_alpha=0.01, max_leaf_nodes=15, min_impurity_split=0.2, total=   1.5s\n",
      "[CV] ccp_alpha=0.01, max_leaf_nodes=15, min_impurity_split=0.2 .......\n"
     ]
    },
    {
     "name": "stderr",
     "output_type": "stream",
     "text": [
      "/Users/ZachV/opt/anaconda3/lib/python3.7/site-packages/sklearn/tree/_classes.py:310: FutureWarning: The min_impurity_split parameter is deprecated. Its default value has changed from 1e-7 to 0 in version 0.23, and it will be removed in 0.25. Use the min_impurity_decrease parameter instead.\n",
      "  FutureWarning)\n"
     ]
    },
    {
     "name": "stdout",
     "output_type": "stream",
     "text": [
      "[CV]  ccp_alpha=0.01, max_leaf_nodes=15, min_impurity_split=0.2, total=   1.5s\n",
      "[CV] ccp_alpha=0.01, max_leaf_nodes=15, min_impurity_split=0.2 .......\n"
     ]
    },
    {
     "name": "stderr",
     "output_type": "stream",
     "text": [
      "/Users/ZachV/opt/anaconda3/lib/python3.7/site-packages/sklearn/tree/_classes.py:310: FutureWarning: The min_impurity_split parameter is deprecated. Its default value has changed from 1e-7 to 0 in version 0.23, and it will be removed in 0.25. Use the min_impurity_decrease parameter instead.\n",
      "  FutureWarning)\n"
     ]
    },
    {
     "name": "stdout",
     "output_type": "stream",
     "text": [
      "[CV]  ccp_alpha=0.01, max_leaf_nodes=15, min_impurity_split=0.2, total=   1.6s\n",
      "[CV] ccp_alpha=0.01, max_leaf_nodes=15, min_impurity_split=0.2 .......\n"
     ]
    },
    {
     "name": "stderr",
     "output_type": "stream",
     "text": [
      "/Users/ZachV/opt/anaconda3/lib/python3.7/site-packages/sklearn/tree/_classes.py:310: FutureWarning: The min_impurity_split parameter is deprecated. Its default value has changed from 1e-7 to 0 in version 0.23, and it will be removed in 0.25. Use the min_impurity_decrease parameter instead.\n",
      "  FutureWarning)\n"
     ]
    },
    {
     "name": "stdout",
     "output_type": "stream",
     "text": [
      "[CV]  ccp_alpha=0.01, max_leaf_nodes=15, min_impurity_split=0.2, total=   2.5s\n",
      "[CV] ccp_alpha=0.01, max_leaf_nodes=15, min_impurity_split=0.2 .......\n"
     ]
    },
    {
     "name": "stderr",
     "output_type": "stream",
     "text": [
      "/Users/ZachV/opt/anaconda3/lib/python3.7/site-packages/sklearn/tree/_classes.py:310: FutureWarning: The min_impurity_split parameter is deprecated. Its default value has changed from 1e-7 to 0 in version 0.23, and it will be removed in 0.25. Use the min_impurity_decrease parameter instead.\n",
      "  FutureWarning)\n"
     ]
    },
    {
     "name": "stdout",
     "output_type": "stream",
     "text": [
      "[CV]  ccp_alpha=0.01, max_leaf_nodes=15, min_impurity_split=0.2, total=   2.5s\n",
      "[CV] ccp_alpha=0.01, max_leaf_nodes=15, min_impurity_split=0.3 .......\n"
     ]
    },
    {
     "name": "stderr",
     "output_type": "stream",
     "text": [
      "/Users/ZachV/opt/anaconda3/lib/python3.7/site-packages/sklearn/tree/_classes.py:310: FutureWarning: The min_impurity_split parameter is deprecated. Its default value has changed from 1e-7 to 0 in version 0.23, and it will be removed in 0.25. Use the min_impurity_decrease parameter instead.\n",
      "  FutureWarning)\n"
     ]
    },
    {
     "name": "stdout",
     "output_type": "stream",
     "text": [
      "[CV]  ccp_alpha=0.01, max_leaf_nodes=15, min_impurity_split=0.3, total=   1.7s\n",
      "[CV] ccp_alpha=0.01, max_leaf_nodes=15, min_impurity_split=0.3 .......\n"
     ]
    },
    {
     "name": "stderr",
     "output_type": "stream",
     "text": [
      "/Users/ZachV/opt/anaconda3/lib/python3.7/site-packages/sklearn/tree/_classes.py:310: FutureWarning: The min_impurity_split parameter is deprecated. Its default value has changed from 1e-7 to 0 in version 0.23, and it will be removed in 0.25. Use the min_impurity_decrease parameter instead.\n",
      "  FutureWarning)\n"
     ]
    },
    {
     "name": "stdout",
     "output_type": "stream",
     "text": [
      "[CV]  ccp_alpha=0.01, max_leaf_nodes=15, min_impurity_split=0.3, total=   1.5s\n",
      "[CV] ccp_alpha=0.01, max_leaf_nodes=15, min_impurity_split=0.3 .......\n"
     ]
    },
    {
     "name": "stderr",
     "output_type": "stream",
     "text": [
      "/Users/ZachV/opt/anaconda3/lib/python3.7/site-packages/sklearn/tree/_classes.py:310: FutureWarning: The min_impurity_split parameter is deprecated. Its default value has changed from 1e-7 to 0 in version 0.23, and it will be removed in 0.25. Use the min_impurity_decrease parameter instead.\n",
      "  FutureWarning)\n"
     ]
    },
    {
     "name": "stdout",
     "output_type": "stream",
     "text": [
      "[CV]  ccp_alpha=0.01, max_leaf_nodes=15, min_impurity_split=0.3, total=   1.4s\n",
      "[CV] ccp_alpha=0.01, max_leaf_nodes=15, min_impurity_split=0.3 .......\n"
     ]
    },
    {
     "name": "stderr",
     "output_type": "stream",
     "text": [
      "/Users/ZachV/opt/anaconda3/lib/python3.7/site-packages/sklearn/tree/_classes.py:310: FutureWarning: The min_impurity_split parameter is deprecated. Its default value has changed from 1e-7 to 0 in version 0.23, and it will be removed in 0.25. Use the min_impurity_decrease parameter instead.\n",
      "  FutureWarning)\n"
     ]
    },
    {
     "name": "stdout",
     "output_type": "stream",
     "text": [
      "[CV]  ccp_alpha=0.01, max_leaf_nodes=15, min_impurity_split=0.3, total=   1.4s\n",
      "[CV] ccp_alpha=0.01, max_leaf_nodes=15, min_impurity_split=0.3 .......\n"
     ]
    },
    {
     "name": "stderr",
     "output_type": "stream",
     "text": [
      "/Users/ZachV/opt/anaconda3/lib/python3.7/site-packages/sklearn/tree/_classes.py:310: FutureWarning: The min_impurity_split parameter is deprecated. Its default value has changed from 1e-7 to 0 in version 0.23, and it will be removed in 0.25. Use the min_impurity_decrease parameter instead.\n",
      "  FutureWarning)\n"
     ]
    },
    {
     "name": "stdout",
     "output_type": "stream",
     "text": [
      "[CV]  ccp_alpha=0.01, max_leaf_nodes=15, min_impurity_split=0.3, total=   1.4s\n",
      "[CV] ccp_alpha=0.01, max_leaf_nodes=15, min_impurity_split=0.4 .......\n"
     ]
    },
    {
     "name": "stderr",
     "output_type": "stream",
     "text": [
      "/Users/ZachV/opt/anaconda3/lib/python3.7/site-packages/sklearn/tree/_classes.py:310: FutureWarning: The min_impurity_split parameter is deprecated. Its default value has changed from 1e-7 to 0 in version 0.23, and it will be removed in 0.25. Use the min_impurity_decrease parameter instead.\n",
      "  FutureWarning)\n"
     ]
    },
    {
     "name": "stdout",
     "output_type": "stream",
     "text": [
      "[CV]  ccp_alpha=0.01, max_leaf_nodes=15, min_impurity_split=0.4, total=   1.1s\n",
      "[CV] ccp_alpha=0.01, max_leaf_nodes=15, min_impurity_split=0.4 .......\n"
     ]
    },
    {
     "name": "stderr",
     "output_type": "stream",
     "text": [
      "/Users/ZachV/opt/anaconda3/lib/python3.7/site-packages/sklearn/tree/_classes.py:310: FutureWarning: The min_impurity_split parameter is deprecated. Its default value has changed from 1e-7 to 0 in version 0.23, and it will be removed in 0.25. Use the min_impurity_decrease parameter instead.\n",
      "  FutureWarning)\n"
     ]
    },
    {
     "name": "stdout",
     "output_type": "stream",
     "text": [
      "[CV]  ccp_alpha=0.01, max_leaf_nodes=15, min_impurity_split=0.4, total=   1.0s\n",
      "[CV] ccp_alpha=0.01, max_leaf_nodes=15, min_impurity_split=0.4 .......\n"
     ]
    },
    {
     "name": "stderr",
     "output_type": "stream",
     "text": [
      "/Users/ZachV/opt/anaconda3/lib/python3.7/site-packages/sklearn/tree/_classes.py:310: FutureWarning: The min_impurity_split parameter is deprecated. Its default value has changed from 1e-7 to 0 in version 0.23, and it will be removed in 0.25. Use the min_impurity_decrease parameter instead.\n",
      "  FutureWarning)\n"
     ]
    },
    {
     "name": "stdout",
     "output_type": "stream",
     "text": [
      "[CV]  ccp_alpha=0.01, max_leaf_nodes=15, min_impurity_split=0.4, total=   1.0s\n",
      "[CV] ccp_alpha=0.01, max_leaf_nodes=15, min_impurity_split=0.4 .......\n"
     ]
    },
    {
     "name": "stderr",
     "output_type": "stream",
     "text": [
      "/Users/ZachV/opt/anaconda3/lib/python3.7/site-packages/sklearn/tree/_classes.py:310: FutureWarning: The min_impurity_split parameter is deprecated. Its default value has changed from 1e-7 to 0 in version 0.23, and it will be removed in 0.25. Use the min_impurity_decrease parameter instead.\n",
      "  FutureWarning)\n"
     ]
    },
    {
     "name": "stdout",
     "output_type": "stream",
     "text": [
      "[CV]  ccp_alpha=0.01, max_leaf_nodes=15, min_impurity_split=0.4, total=   0.9s\n",
      "[CV] ccp_alpha=0.01, max_leaf_nodes=15, min_impurity_split=0.4 .......\n"
     ]
    },
    {
     "name": "stderr",
     "output_type": "stream",
     "text": [
      "/Users/ZachV/opt/anaconda3/lib/python3.7/site-packages/sklearn/tree/_classes.py:310: FutureWarning: The min_impurity_split parameter is deprecated. Its default value has changed from 1e-7 to 0 in version 0.23, and it will be removed in 0.25. Use the min_impurity_decrease parameter instead.\n",
      "  FutureWarning)\n"
     ]
    },
    {
     "name": "stdout",
     "output_type": "stream",
     "text": [
      "[CV]  ccp_alpha=0.01, max_leaf_nodes=15, min_impurity_split=0.4, total=   1.0s\n",
      "[CV] ccp_alpha=0.01, max_leaf_nodes=15, min_impurity_split=0.5 .......\n"
     ]
    },
    {
     "name": "stderr",
     "output_type": "stream",
     "text": [
      "/Users/ZachV/opt/anaconda3/lib/python3.7/site-packages/sklearn/tree/_classes.py:310: FutureWarning: The min_impurity_split parameter is deprecated. Its default value has changed from 1e-7 to 0 in version 0.23, and it will be removed in 0.25. Use the min_impurity_decrease parameter instead.\n",
      "  FutureWarning)\n"
     ]
    },
    {
     "name": "stdout",
     "output_type": "stream",
     "text": [
      "[CV]  ccp_alpha=0.01, max_leaf_nodes=15, min_impurity_split=0.5, total=   1.0s\n",
      "[CV] ccp_alpha=0.01, max_leaf_nodes=15, min_impurity_split=0.5 .......\n"
     ]
    },
    {
     "name": "stderr",
     "output_type": "stream",
     "text": [
      "/Users/ZachV/opt/anaconda3/lib/python3.7/site-packages/sklearn/tree/_classes.py:310: FutureWarning: The min_impurity_split parameter is deprecated. Its default value has changed from 1e-7 to 0 in version 0.23, and it will be removed in 0.25. Use the min_impurity_decrease parameter instead.\n",
      "  FutureWarning)\n"
     ]
    },
    {
     "name": "stdout",
     "output_type": "stream",
     "text": [
      "[CV]  ccp_alpha=0.01, max_leaf_nodes=15, min_impurity_split=0.5, total=   1.3s\n",
      "[CV] ccp_alpha=0.01, max_leaf_nodes=15, min_impurity_split=0.5 .......\n"
     ]
    },
    {
     "name": "stderr",
     "output_type": "stream",
     "text": [
      "/Users/ZachV/opt/anaconda3/lib/python3.7/site-packages/sklearn/tree/_classes.py:310: FutureWarning: The min_impurity_split parameter is deprecated. Its default value has changed from 1e-7 to 0 in version 0.23, and it will be removed in 0.25. Use the min_impurity_decrease parameter instead.\n",
      "  FutureWarning)\n"
     ]
    },
    {
     "name": "stdout",
     "output_type": "stream",
     "text": [
      "[CV]  ccp_alpha=0.01, max_leaf_nodes=15, min_impurity_split=0.5, total=   1.3s\n",
      "[CV] ccp_alpha=0.01, max_leaf_nodes=15, min_impurity_split=0.5 .......\n"
     ]
    },
    {
     "name": "stderr",
     "output_type": "stream",
     "text": [
      "/Users/ZachV/opt/anaconda3/lib/python3.7/site-packages/sklearn/tree/_classes.py:310: FutureWarning: The min_impurity_split parameter is deprecated. Its default value has changed from 1e-7 to 0 in version 0.23, and it will be removed in 0.25. Use the min_impurity_decrease parameter instead.\n",
      "  FutureWarning)\n"
     ]
    },
    {
     "name": "stdout",
     "output_type": "stream",
     "text": [
      "[CV]  ccp_alpha=0.01, max_leaf_nodes=15, min_impurity_split=0.5, total=   0.9s\n",
      "[CV] ccp_alpha=0.01, max_leaf_nodes=15, min_impurity_split=0.5 .......\n"
     ]
    },
    {
     "name": "stderr",
     "output_type": "stream",
     "text": [
      "/Users/ZachV/opt/anaconda3/lib/python3.7/site-packages/sklearn/tree/_classes.py:310: FutureWarning: The min_impurity_split parameter is deprecated. Its default value has changed from 1e-7 to 0 in version 0.23, and it will be removed in 0.25. Use the min_impurity_decrease parameter instead.\n",
      "  FutureWarning)\n"
     ]
    },
    {
     "name": "stdout",
     "output_type": "stream",
     "text": [
      "[CV]  ccp_alpha=0.01, max_leaf_nodes=15, min_impurity_split=0.5, total=   0.9s\n",
      "[CV] ccp_alpha=0.01, max_leaf_nodes=25, min_impurity_split=0 .........\n"
     ]
    },
    {
     "name": "stderr",
     "output_type": "stream",
     "text": [
      "/Users/ZachV/opt/anaconda3/lib/python3.7/site-packages/sklearn/tree/_classes.py:310: FutureWarning: The min_impurity_split parameter is deprecated. Its default value has changed from 1e-7 to 0 in version 0.23, and it will be removed in 0.25. Use the min_impurity_decrease parameter instead.\n",
      "  FutureWarning)\n"
     ]
    },
    {
     "name": "stdout",
     "output_type": "stream",
     "text": [
      "[CV]  ccp_alpha=0.01, max_leaf_nodes=25, min_impurity_split=0, total=   2.8s\n",
      "[CV] ccp_alpha=0.01, max_leaf_nodes=25, min_impurity_split=0 .........\n"
     ]
    },
    {
     "name": "stderr",
     "output_type": "stream",
     "text": [
      "/Users/ZachV/opt/anaconda3/lib/python3.7/site-packages/sklearn/tree/_classes.py:310: FutureWarning: The min_impurity_split parameter is deprecated. Its default value has changed from 1e-7 to 0 in version 0.23, and it will be removed in 0.25. Use the min_impurity_decrease parameter instead.\n",
      "  FutureWarning)\n"
     ]
    },
    {
     "name": "stdout",
     "output_type": "stream",
     "text": [
      "[CV]  ccp_alpha=0.01, max_leaf_nodes=25, min_impurity_split=0, total=   2.6s\n",
      "[CV] ccp_alpha=0.01, max_leaf_nodes=25, min_impurity_split=0 .........\n"
     ]
    },
    {
     "name": "stderr",
     "output_type": "stream",
     "text": [
      "/Users/ZachV/opt/anaconda3/lib/python3.7/site-packages/sklearn/tree/_classes.py:310: FutureWarning: The min_impurity_split parameter is deprecated. Its default value has changed from 1e-7 to 0 in version 0.23, and it will be removed in 0.25. Use the min_impurity_decrease parameter instead.\n",
      "  FutureWarning)\n"
     ]
    },
    {
     "name": "stdout",
     "output_type": "stream",
     "text": [
      "[CV]  ccp_alpha=0.01, max_leaf_nodes=25, min_impurity_split=0, total=   2.7s\n",
      "[CV] ccp_alpha=0.01, max_leaf_nodes=25, min_impurity_split=0 .........\n"
     ]
    },
    {
     "name": "stderr",
     "output_type": "stream",
     "text": [
      "/Users/ZachV/opt/anaconda3/lib/python3.7/site-packages/sklearn/tree/_classes.py:310: FutureWarning: The min_impurity_split parameter is deprecated. Its default value has changed from 1e-7 to 0 in version 0.23, and it will be removed in 0.25. Use the min_impurity_decrease parameter instead.\n",
      "  FutureWarning)\n"
     ]
    },
    {
     "name": "stdout",
     "output_type": "stream",
     "text": [
      "[CV]  ccp_alpha=0.01, max_leaf_nodes=25, min_impurity_split=0, total=   2.9s\n",
      "[CV] ccp_alpha=0.01, max_leaf_nodes=25, min_impurity_split=0 .........\n"
     ]
    },
    {
     "name": "stderr",
     "output_type": "stream",
     "text": [
      "/Users/ZachV/opt/anaconda3/lib/python3.7/site-packages/sklearn/tree/_classes.py:310: FutureWarning: The min_impurity_split parameter is deprecated. Its default value has changed from 1e-7 to 0 in version 0.23, and it will be removed in 0.25. Use the min_impurity_decrease parameter instead.\n",
      "  FutureWarning)\n"
     ]
    },
    {
     "name": "stdout",
     "output_type": "stream",
     "text": [
      "[CV]  ccp_alpha=0.01, max_leaf_nodes=25, min_impurity_split=0, total=   3.7s\n",
      "[CV] ccp_alpha=0.01, max_leaf_nodes=25, min_impurity_split=0.1 .......\n"
     ]
    },
    {
     "name": "stderr",
     "output_type": "stream",
     "text": [
      "/Users/ZachV/opt/anaconda3/lib/python3.7/site-packages/sklearn/tree/_classes.py:310: FutureWarning: The min_impurity_split parameter is deprecated. Its default value has changed from 1e-7 to 0 in version 0.23, and it will be removed in 0.25. Use the min_impurity_decrease parameter instead.\n",
      "  FutureWarning)\n"
     ]
    },
    {
     "name": "stdout",
     "output_type": "stream",
     "text": [
      "[CV]  ccp_alpha=0.01, max_leaf_nodes=25, min_impurity_split=0.1, total=   2.4s\n",
      "[CV] ccp_alpha=0.01, max_leaf_nodes=25, min_impurity_split=0.1 .......\n"
     ]
    },
    {
     "name": "stderr",
     "output_type": "stream",
     "text": [
      "/Users/ZachV/opt/anaconda3/lib/python3.7/site-packages/sklearn/tree/_classes.py:310: FutureWarning: The min_impurity_split parameter is deprecated. Its default value has changed from 1e-7 to 0 in version 0.23, and it will be removed in 0.25. Use the min_impurity_decrease parameter instead.\n",
      "  FutureWarning)\n"
     ]
    },
    {
     "name": "stdout",
     "output_type": "stream",
     "text": [
      "[CV]  ccp_alpha=0.01, max_leaf_nodes=25, min_impurity_split=0.1, total=   2.4s\n",
      "[CV] ccp_alpha=0.01, max_leaf_nodes=25, min_impurity_split=0.1 .......\n"
     ]
    },
    {
     "name": "stderr",
     "output_type": "stream",
     "text": [
      "/Users/ZachV/opt/anaconda3/lib/python3.7/site-packages/sklearn/tree/_classes.py:310: FutureWarning: The min_impurity_split parameter is deprecated. Its default value has changed from 1e-7 to 0 in version 0.23, and it will be removed in 0.25. Use the min_impurity_decrease parameter instead.\n",
      "  FutureWarning)\n"
     ]
    },
    {
     "name": "stdout",
     "output_type": "stream",
     "text": [
      "[CV]  ccp_alpha=0.01, max_leaf_nodes=25, min_impurity_split=0.1, total=   2.2s\n",
      "[CV] ccp_alpha=0.01, max_leaf_nodes=25, min_impurity_split=0.1 .......\n"
     ]
    },
    {
     "name": "stderr",
     "output_type": "stream",
     "text": [
      "/Users/ZachV/opt/anaconda3/lib/python3.7/site-packages/sklearn/tree/_classes.py:310: FutureWarning: The min_impurity_split parameter is deprecated. Its default value has changed from 1e-7 to 0 in version 0.23, and it will be removed in 0.25. Use the min_impurity_decrease parameter instead.\n",
      "  FutureWarning)\n"
     ]
    },
    {
     "name": "stdout",
     "output_type": "stream",
     "text": [
      "[CV]  ccp_alpha=0.01, max_leaf_nodes=25, min_impurity_split=0.1, total=   2.1s\n",
      "[CV] ccp_alpha=0.01, max_leaf_nodes=25, min_impurity_split=0.1 .......\n"
     ]
    },
    {
     "name": "stderr",
     "output_type": "stream",
     "text": [
      "/Users/ZachV/opt/anaconda3/lib/python3.7/site-packages/sklearn/tree/_classes.py:310: FutureWarning: The min_impurity_split parameter is deprecated. Its default value has changed from 1e-7 to 0 in version 0.23, and it will be removed in 0.25. Use the min_impurity_decrease parameter instead.\n",
      "  FutureWarning)\n"
     ]
    },
    {
     "name": "stdout",
     "output_type": "stream",
     "text": [
      "[CV]  ccp_alpha=0.01, max_leaf_nodes=25, min_impurity_split=0.1, total=   2.3s\n",
      "[CV] ccp_alpha=0.01, max_leaf_nodes=25, min_impurity_split=0.2 .......\n"
     ]
    },
    {
     "name": "stderr",
     "output_type": "stream",
     "text": [
      "/Users/ZachV/opt/anaconda3/lib/python3.7/site-packages/sklearn/tree/_classes.py:310: FutureWarning: The min_impurity_split parameter is deprecated. Its default value has changed from 1e-7 to 0 in version 0.23, and it will be removed in 0.25. Use the min_impurity_decrease parameter instead.\n",
      "  FutureWarning)\n"
     ]
    },
    {
     "name": "stdout",
     "output_type": "stream",
     "text": [
      "[CV]  ccp_alpha=0.01, max_leaf_nodes=25, min_impurity_split=0.2, total=   1.6s\n",
      "[CV] ccp_alpha=0.01, max_leaf_nodes=25, min_impurity_split=0.2 .......\n"
     ]
    },
    {
     "name": "stderr",
     "output_type": "stream",
     "text": [
      "/Users/ZachV/opt/anaconda3/lib/python3.7/site-packages/sklearn/tree/_classes.py:310: FutureWarning: The min_impurity_split parameter is deprecated. Its default value has changed from 1e-7 to 0 in version 0.23, and it will be removed in 0.25. Use the min_impurity_decrease parameter instead.\n",
      "  FutureWarning)\n"
     ]
    },
    {
     "name": "stdout",
     "output_type": "stream",
     "text": [
      "[CV]  ccp_alpha=0.01, max_leaf_nodes=25, min_impurity_split=0.2, total=   1.6s\n",
      "[CV] ccp_alpha=0.01, max_leaf_nodes=25, min_impurity_split=0.2 .......\n"
     ]
    },
    {
     "name": "stderr",
     "output_type": "stream",
     "text": [
      "/Users/ZachV/opt/anaconda3/lib/python3.7/site-packages/sklearn/tree/_classes.py:310: FutureWarning: The min_impurity_split parameter is deprecated. Its default value has changed from 1e-7 to 0 in version 0.23, and it will be removed in 0.25. Use the min_impurity_decrease parameter instead.\n",
      "  FutureWarning)\n"
     ]
    },
    {
     "name": "stdout",
     "output_type": "stream",
     "text": [
      "[CV]  ccp_alpha=0.01, max_leaf_nodes=25, min_impurity_split=0.2, total=   1.6s\n",
      "[CV] ccp_alpha=0.01, max_leaf_nodes=25, min_impurity_split=0.2 .......\n"
     ]
    },
    {
     "name": "stderr",
     "output_type": "stream",
     "text": [
      "/Users/ZachV/opt/anaconda3/lib/python3.7/site-packages/sklearn/tree/_classes.py:310: FutureWarning: The min_impurity_split parameter is deprecated. Its default value has changed from 1e-7 to 0 in version 0.23, and it will be removed in 0.25. Use the min_impurity_decrease parameter instead.\n",
      "  FutureWarning)\n"
     ]
    },
    {
     "name": "stdout",
     "output_type": "stream",
     "text": [
      "[CV]  ccp_alpha=0.01, max_leaf_nodes=25, min_impurity_split=0.2, total=   1.6s\n",
      "[CV] ccp_alpha=0.01, max_leaf_nodes=25, min_impurity_split=0.2 .......\n"
     ]
    },
    {
     "name": "stderr",
     "output_type": "stream",
     "text": [
      "/Users/ZachV/opt/anaconda3/lib/python3.7/site-packages/sklearn/tree/_classes.py:310: FutureWarning: The min_impurity_split parameter is deprecated. Its default value has changed from 1e-7 to 0 in version 0.23, and it will be removed in 0.25. Use the min_impurity_decrease parameter instead.\n",
      "  FutureWarning)\n"
     ]
    },
    {
     "name": "stdout",
     "output_type": "stream",
     "text": [
      "[CV]  ccp_alpha=0.01, max_leaf_nodes=25, min_impurity_split=0.2, total=   1.7s\n",
      "[CV] ccp_alpha=0.01, max_leaf_nodes=25, min_impurity_split=0.3 .......\n"
     ]
    },
    {
     "name": "stderr",
     "output_type": "stream",
     "text": [
      "/Users/ZachV/opt/anaconda3/lib/python3.7/site-packages/sklearn/tree/_classes.py:310: FutureWarning: The min_impurity_split parameter is deprecated. Its default value has changed from 1e-7 to 0 in version 0.23, and it will be removed in 0.25. Use the min_impurity_decrease parameter instead.\n",
      "  FutureWarning)\n"
     ]
    },
    {
     "name": "stdout",
     "output_type": "stream",
     "text": [
      "[CV]  ccp_alpha=0.01, max_leaf_nodes=25, min_impurity_split=0.3, total=   1.4s\n",
      "[CV] ccp_alpha=0.01, max_leaf_nodes=25, min_impurity_split=0.3 .......\n"
     ]
    },
    {
     "name": "stderr",
     "output_type": "stream",
     "text": [
      "/Users/ZachV/opt/anaconda3/lib/python3.7/site-packages/sklearn/tree/_classes.py:310: FutureWarning: The min_impurity_split parameter is deprecated. Its default value has changed from 1e-7 to 0 in version 0.23, and it will be removed in 0.25. Use the min_impurity_decrease parameter instead.\n",
      "  FutureWarning)\n"
     ]
    },
    {
     "name": "stdout",
     "output_type": "stream",
     "text": [
      "[CV]  ccp_alpha=0.01, max_leaf_nodes=25, min_impurity_split=0.3, total=   1.4s\n",
      "[CV] ccp_alpha=0.01, max_leaf_nodes=25, min_impurity_split=0.3 .......\n"
     ]
    },
    {
     "name": "stderr",
     "output_type": "stream",
     "text": [
      "/Users/ZachV/opt/anaconda3/lib/python3.7/site-packages/sklearn/tree/_classes.py:310: FutureWarning: The min_impurity_split parameter is deprecated. Its default value has changed from 1e-7 to 0 in version 0.23, and it will be removed in 0.25. Use the min_impurity_decrease parameter instead.\n",
      "  FutureWarning)\n"
     ]
    },
    {
     "name": "stdout",
     "output_type": "stream",
     "text": [
      "[CV]  ccp_alpha=0.01, max_leaf_nodes=25, min_impurity_split=0.3, total=   1.3s\n",
      "[CV] ccp_alpha=0.01, max_leaf_nodes=25, min_impurity_split=0.3 .......\n"
     ]
    },
    {
     "name": "stderr",
     "output_type": "stream",
     "text": [
      "/Users/ZachV/opt/anaconda3/lib/python3.7/site-packages/sklearn/tree/_classes.py:310: FutureWarning: The min_impurity_split parameter is deprecated. Its default value has changed from 1e-7 to 0 in version 0.23, and it will be removed in 0.25. Use the min_impurity_decrease parameter instead.\n",
      "  FutureWarning)\n"
     ]
    },
    {
     "name": "stdout",
     "output_type": "stream",
     "text": [
      "[CV]  ccp_alpha=0.01, max_leaf_nodes=25, min_impurity_split=0.3, total=   1.3s\n",
      "[CV] ccp_alpha=0.01, max_leaf_nodes=25, min_impurity_split=0.3 .......\n"
     ]
    },
    {
     "name": "stderr",
     "output_type": "stream",
     "text": [
      "/Users/ZachV/opt/anaconda3/lib/python3.7/site-packages/sklearn/tree/_classes.py:310: FutureWarning: The min_impurity_split parameter is deprecated. Its default value has changed from 1e-7 to 0 in version 0.23, and it will be removed in 0.25. Use the min_impurity_decrease parameter instead.\n",
      "  FutureWarning)\n"
     ]
    },
    {
     "name": "stdout",
     "output_type": "stream",
     "text": [
      "[CV]  ccp_alpha=0.01, max_leaf_nodes=25, min_impurity_split=0.3, total=   1.4s\n",
      "[CV] ccp_alpha=0.01, max_leaf_nodes=25, min_impurity_split=0.4 .......\n"
     ]
    },
    {
     "name": "stderr",
     "output_type": "stream",
     "text": [
      "/Users/ZachV/opt/anaconda3/lib/python3.7/site-packages/sklearn/tree/_classes.py:310: FutureWarning: The min_impurity_split parameter is deprecated. Its default value has changed from 1e-7 to 0 in version 0.23, and it will be removed in 0.25. Use the min_impurity_decrease parameter instead.\n",
      "  FutureWarning)\n"
     ]
    },
    {
     "name": "stdout",
     "output_type": "stream",
     "text": [
      "[CV]  ccp_alpha=0.01, max_leaf_nodes=25, min_impurity_split=0.4, total=   0.9s\n",
      "[CV] ccp_alpha=0.01, max_leaf_nodes=25, min_impurity_split=0.4 .......\n"
     ]
    },
    {
     "name": "stderr",
     "output_type": "stream",
     "text": [
      "/Users/ZachV/opt/anaconda3/lib/python3.7/site-packages/sklearn/tree/_classes.py:310: FutureWarning: The min_impurity_split parameter is deprecated. Its default value has changed from 1e-7 to 0 in version 0.23, and it will be removed in 0.25. Use the min_impurity_decrease parameter instead.\n",
      "  FutureWarning)\n"
     ]
    },
    {
     "name": "stdout",
     "output_type": "stream",
     "text": [
      "[CV]  ccp_alpha=0.01, max_leaf_nodes=25, min_impurity_split=0.4, total=   0.9s\n",
      "[CV] ccp_alpha=0.01, max_leaf_nodes=25, min_impurity_split=0.4 .......\n"
     ]
    },
    {
     "name": "stderr",
     "output_type": "stream",
     "text": [
      "/Users/ZachV/opt/anaconda3/lib/python3.7/site-packages/sklearn/tree/_classes.py:310: FutureWarning: The min_impurity_split parameter is deprecated. Its default value has changed from 1e-7 to 0 in version 0.23, and it will be removed in 0.25. Use the min_impurity_decrease parameter instead.\n",
      "  FutureWarning)\n"
     ]
    },
    {
     "name": "stdout",
     "output_type": "stream",
     "text": [
      "[CV]  ccp_alpha=0.01, max_leaf_nodes=25, min_impurity_split=0.4, total=   0.9s\n",
      "[CV] ccp_alpha=0.01, max_leaf_nodes=25, min_impurity_split=0.4 .......\n"
     ]
    },
    {
     "name": "stderr",
     "output_type": "stream",
     "text": [
      "/Users/ZachV/opt/anaconda3/lib/python3.7/site-packages/sklearn/tree/_classes.py:310: FutureWarning: The min_impurity_split parameter is deprecated. Its default value has changed from 1e-7 to 0 in version 0.23, and it will be removed in 0.25. Use the min_impurity_decrease parameter instead.\n",
      "  FutureWarning)\n"
     ]
    },
    {
     "name": "stdout",
     "output_type": "stream",
     "text": [
      "[CV]  ccp_alpha=0.01, max_leaf_nodes=25, min_impurity_split=0.4, total=   1.0s\n",
      "[CV] ccp_alpha=0.01, max_leaf_nodes=25, min_impurity_split=0.4 .......\n"
     ]
    },
    {
     "name": "stderr",
     "output_type": "stream",
     "text": [
      "/Users/ZachV/opt/anaconda3/lib/python3.7/site-packages/sklearn/tree/_classes.py:310: FutureWarning: The min_impurity_split parameter is deprecated. Its default value has changed from 1e-7 to 0 in version 0.23, and it will be removed in 0.25. Use the min_impurity_decrease parameter instead.\n",
      "  FutureWarning)\n"
     ]
    },
    {
     "name": "stdout",
     "output_type": "stream",
     "text": [
      "[CV]  ccp_alpha=0.01, max_leaf_nodes=25, min_impurity_split=0.4, total=   1.0s\n",
      "[CV] ccp_alpha=0.01, max_leaf_nodes=25, min_impurity_split=0.5 .......\n"
     ]
    },
    {
     "name": "stderr",
     "output_type": "stream",
     "text": [
      "/Users/ZachV/opt/anaconda3/lib/python3.7/site-packages/sklearn/tree/_classes.py:310: FutureWarning: The min_impurity_split parameter is deprecated. Its default value has changed from 1e-7 to 0 in version 0.23, and it will be removed in 0.25. Use the min_impurity_decrease parameter instead.\n",
      "  FutureWarning)\n"
     ]
    },
    {
     "name": "stdout",
     "output_type": "stream",
     "text": [
      "[CV]  ccp_alpha=0.01, max_leaf_nodes=25, min_impurity_split=0.5, total=   1.0s\n",
      "[CV] ccp_alpha=0.01, max_leaf_nodes=25, min_impurity_split=0.5 .......\n"
     ]
    },
    {
     "name": "stderr",
     "output_type": "stream",
     "text": [
      "/Users/ZachV/opt/anaconda3/lib/python3.7/site-packages/sklearn/tree/_classes.py:310: FutureWarning: The min_impurity_split parameter is deprecated. Its default value has changed from 1e-7 to 0 in version 0.23, and it will be removed in 0.25. Use the min_impurity_decrease parameter instead.\n",
      "  FutureWarning)\n"
     ]
    },
    {
     "name": "stdout",
     "output_type": "stream",
     "text": [
      "[CV]  ccp_alpha=0.01, max_leaf_nodes=25, min_impurity_split=0.5, total=   0.9s\n",
      "[CV] ccp_alpha=0.01, max_leaf_nodes=25, min_impurity_split=0.5 .......\n"
     ]
    },
    {
     "name": "stderr",
     "output_type": "stream",
     "text": [
      "/Users/ZachV/opt/anaconda3/lib/python3.7/site-packages/sklearn/tree/_classes.py:310: FutureWarning: The min_impurity_split parameter is deprecated. Its default value has changed from 1e-7 to 0 in version 0.23, and it will be removed in 0.25. Use the min_impurity_decrease parameter instead.\n",
      "  FutureWarning)\n"
     ]
    },
    {
     "name": "stdout",
     "output_type": "stream",
     "text": [
      "[CV]  ccp_alpha=0.01, max_leaf_nodes=25, min_impurity_split=0.5, total=   0.9s\n",
      "[CV] ccp_alpha=0.01, max_leaf_nodes=25, min_impurity_split=0.5 .......\n"
     ]
    },
    {
     "name": "stderr",
     "output_type": "stream",
     "text": [
      "/Users/ZachV/opt/anaconda3/lib/python3.7/site-packages/sklearn/tree/_classes.py:310: FutureWarning: The min_impurity_split parameter is deprecated. Its default value has changed from 1e-7 to 0 in version 0.23, and it will be removed in 0.25. Use the min_impurity_decrease parameter instead.\n",
      "  FutureWarning)\n"
     ]
    },
    {
     "name": "stdout",
     "output_type": "stream",
     "text": [
      "[CV]  ccp_alpha=0.01, max_leaf_nodes=25, min_impurity_split=0.5, total=   1.0s\n",
      "[CV] ccp_alpha=0.01, max_leaf_nodes=25, min_impurity_split=0.5 .......\n"
     ]
    },
    {
     "name": "stderr",
     "output_type": "stream",
     "text": [
      "/Users/ZachV/opt/anaconda3/lib/python3.7/site-packages/sklearn/tree/_classes.py:310: FutureWarning: The min_impurity_split parameter is deprecated. Its default value has changed from 1e-7 to 0 in version 0.23, and it will be removed in 0.25. Use the min_impurity_decrease parameter instead.\n",
      "  FutureWarning)\n"
     ]
    },
    {
     "name": "stdout",
     "output_type": "stream",
     "text": [
      "[CV]  ccp_alpha=0.01, max_leaf_nodes=25, min_impurity_split=0.5, total=   1.0s\n",
      "[CV] ccp_alpha=0.01, max_leaf_nodes=100, min_impurity_split=0 ........\n"
     ]
    },
    {
     "name": "stderr",
     "output_type": "stream",
     "text": [
      "/Users/ZachV/opt/anaconda3/lib/python3.7/site-packages/sklearn/tree/_classes.py:310: FutureWarning: The min_impurity_split parameter is deprecated. Its default value has changed from 1e-7 to 0 in version 0.23, and it will be removed in 0.25. Use the min_impurity_decrease parameter instead.\n",
      "  FutureWarning)\n"
     ]
    },
    {
     "name": "stdout",
     "output_type": "stream",
     "text": [
      "[CV]  ccp_alpha=0.01, max_leaf_nodes=100, min_impurity_split=0, total=   3.3s\n",
      "[CV] ccp_alpha=0.01, max_leaf_nodes=100, min_impurity_split=0 ........\n"
     ]
    },
    {
     "name": "stderr",
     "output_type": "stream",
     "text": [
      "/Users/ZachV/opt/anaconda3/lib/python3.7/site-packages/sklearn/tree/_classes.py:310: FutureWarning: The min_impurity_split parameter is deprecated. Its default value has changed from 1e-7 to 0 in version 0.23, and it will be removed in 0.25. Use the min_impurity_decrease parameter instead.\n",
      "  FutureWarning)\n"
     ]
    },
    {
     "name": "stdout",
     "output_type": "stream",
     "text": [
      "[CV]  ccp_alpha=0.01, max_leaf_nodes=100, min_impurity_split=0, total=   2.9s\n",
      "[CV] ccp_alpha=0.01, max_leaf_nodes=100, min_impurity_split=0 ........\n"
     ]
    },
    {
     "name": "stderr",
     "output_type": "stream",
     "text": [
      "/Users/ZachV/opt/anaconda3/lib/python3.7/site-packages/sklearn/tree/_classes.py:310: FutureWarning: The min_impurity_split parameter is deprecated. Its default value has changed from 1e-7 to 0 in version 0.23, and it will be removed in 0.25. Use the min_impurity_decrease parameter instead.\n",
      "  FutureWarning)\n"
     ]
    },
    {
     "name": "stdout",
     "output_type": "stream",
     "text": [
      "[CV]  ccp_alpha=0.01, max_leaf_nodes=100, min_impurity_split=0, total=   2.9s\n",
      "[CV] ccp_alpha=0.01, max_leaf_nodes=100, min_impurity_split=0 ........\n"
     ]
    },
    {
     "name": "stderr",
     "output_type": "stream",
     "text": [
      "/Users/ZachV/opt/anaconda3/lib/python3.7/site-packages/sklearn/tree/_classes.py:310: FutureWarning: The min_impurity_split parameter is deprecated. Its default value has changed from 1e-7 to 0 in version 0.23, and it will be removed in 0.25. Use the min_impurity_decrease parameter instead.\n",
      "  FutureWarning)\n"
     ]
    },
    {
     "name": "stdout",
     "output_type": "stream",
     "text": [
      "[CV]  ccp_alpha=0.01, max_leaf_nodes=100, min_impurity_split=0, total=   2.9s\n",
      "[CV] ccp_alpha=0.01, max_leaf_nodes=100, min_impurity_split=0 ........\n"
     ]
    },
    {
     "name": "stderr",
     "output_type": "stream",
     "text": [
      "/Users/ZachV/opt/anaconda3/lib/python3.7/site-packages/sklearn/tree/_classes.py:310: FutureWarning: The min_impurity_split parameter is deprecated. Its default value has changed from 1e-7 to 0 in version 0.23, and it will be removed in 0.25. Use the min_impurity_decrease parameter instead.\n",
      "  FutureWarning)\n"
     ]
    },
    {
     "name": "stdout",
     "output_type": "stream",
     "text": [
      "[CV]  ccp_alpha=0.01, max_leaf_nodes=100, min_impurity_split=0, total=   2.9s\n",
      "[CV] ccp_alpha=0.01, max_leaf_nodes=100, min_impurity_split=0.1 ......\n"
     ]
    },
    {
     "name": "stderr",
     "output_type": "stream",
     "text": [
      "/Users/ZachV/opt/anaconda3/lib/python3.7/site-packages/sklearn/tree/_classes.py:310: FutureWarning: The min_impurity_split parameter is deprecated. Its default value has changed from 1e-7 to 0 in version 0.23, and it will be removed in 0.25. Use the min_impurity_decrease parameter instead.\n",
      "  FutureWarning)\n"
     ]
    },
    {
     "name": "stdout",
     "output_type": "stream",
     "text": [
      "[CV]  ccp_alpha=0.01, max_leaf_nodes=100, min_impurity_split=0.1, total=   2.1s\n",
      "[CV] ccp_alpha=0.01, max_leaf_nodes=100, min_impurity_split=0.1 ......\n"
     ]
    },
    {
     "name": "stderr",
     "output_type": "stream",
     "text": [
      "/Users/ZachV/opt/anaconda3/lib/python3.7/site-packages/sklearn/tree/_classes.py:310: FutureWarning: The min_impurity_split parameter is deprecated. Its default value has changed from 1e-7 to 0 in version 0.23, and it will be removed in 0.25. Use the min_impurity_decrease parameter instead.\n",
      "  FutureWarning)\n"
     ]
    },
    {
     "name": "stdout",
     "output_type": "stream",
     "text": [
      "[CV]  ccp_alpha=0.01, max_leaf_nodes=100, min_impurity_split=0.1, total=   2.1s\n",
      "[CV] ccp_alpha=0.01, max_leaf_nodes=100, min_impurity_split=0.1 ......\n"
     ]
    },
    {
     "name": "stderr",
     "output_type": "stream",
     "text": [
      "/Users/ZachV/opt/anaconda3/lib/python3.7/site-packages/sklearn/tree/_classes.py:310: FutureWarning: The min_impurity_split parameter is deprecated. Its default value has changed from 1e-7 to 0 in version 0.23, and it will be removed in 0.25. Use the min_impurity_decrease parameter instead.\n",
      "  FutureWarning)\n"
     ]
    },
    {
     "name": "stdout",
     "output_type": "stream",
     "text": [
      "[CV]  ccp_alpha=0.01, max_leaf_nodes=100, min_impurity_split=0.1, total=   2.2s\n",
      "[CV] ccp_alpha=0.01, max_leaf_nodes=100, min_impurity_split=0.1 ......\n"
     ]
    },
    {
     "name": "stderr",
     "output_type": "stream",
     "text": [
      "/Users/ZachV/opt/anaconda3/lib/python3.7/site-packages/sklearn/tree/_classes.py:310: FutureWarning: The min_impurity_split parameter is deprecated. Its default value has changed from 1e-7 to 0 in version 0.23, and it will be removed in 0.25. Use the min_impurity_decrease parameter instead.\n",
      "  FutureWarning)\n"
     ]
    },
    {
     "name": "stdout",
     "output_type": "stream",
     "text": [
      "[CV]  ccp_alpha=0.01, max_leaf_nodes=100, min_impurity_split=0.1, total=   2.1s\n",
      "[CV] ccp_alpha=0.01, max_leaf_nodes=100, min_impurity_split=0.1 ......\n"
     ]
    },
    {
     "name": "stderr",
     "output_type": "stream",
     "text": [
      "/Users/ZachV/opt/anaconda3/lib/python3.7/site-packages/sklearn/tree/_classes.py:310: FutureWarning: The min_impurity_split parameter is deprecated. Its default value has changed from 1e-7 to 0 in version 0.23, and it will be removed in 0.25. Use the min_impurity_decrease parameter instead.\n",
      "  FutureWarning)\n"
     ]
    },
    {
     "name": "stdout",
     "output_type": "stream",
     "text": [
      "[CV]  ccp_alpha=0.01, max_leaf_nodes=100, min_impurity_split=0.1, total=   2.1s\n",
      "[CV] ccp_alpha=0.01, max_leaf_nodes=100, min_impurity_split=0.2 ......\n"
     ]
    },
    {
     "name": "stderr",
     "output_type": "stream",
     "text": [
      "/Users/ZachV/opt/anaconda3/lib/python3.7/site-packages/sklearn/tree/_classes.py:310: FutureWarning: The min_impurity_split parameter is deprecated. Its default value has changed from 1e-7 to 0 in version 0.23, and it will be removed in 0.25. Use the min_impurity_decrease parameter instead.\n",
      "  FutureWarning)\n"
     ]
    },
    {
     "name": "stdout",
     "output_type": "stream",
     "text": [
      "[CV]  ccp_alpha=0.01, max_leaf_nodes=100, min_impurity_split=0.2, total=   1.8s\n",
      "[CV] ccp_alpha=0.01, max_leaf_nodes=100, min_impurity_split=0.2 ......\n"
     ]
    },
    {
     "name": "stderr",
     "output_type": "stream",
     "text": [
      "/Users/ZachV/opt/anaconda3/lib/python3.7/site-packages/sklearn/tree/_classes.py:310: FutureWarning: The min_impurity_split parameter is deprecated. Its default value has changed from 1e-7 to 0 in version 0.23, and it will be removed in 0.25. Use the min_impurity_decrease parameter instead.\n",
      "  FutureWarning)\n"
     ]
    },
    {
     "name": "stdout",
     "output_type": "stream",
     "text": [
      "[CV]  ccp_alpha=0.01, max_leaf_nodes=100, min_impurity_split=0.2, total=   2.0s\n",
      "[CV] ccp_alpha=0.01, max_leaf_nodes=100, min_impurity_split=0.2 ......\n"
     ]
    },
    {
     "name": "stderr",
     "output_type": "stream",
     "text": [
      "/Users/ZachV/opt/anaconda3/lib/python3.7/site-packages/sklearn/tree/_classes.py:310: FutureWarning: The min_impurity_split parameter is deprecated. Its default value has changed from 1e-7 to 0 in version 0.23, and it will be removed in 0.25. Use the min_impurity_decrease parameter instead.\n",
      "  FutureWarning)\n"
     ]
    },
    {
     "name": "stdout",
     "output_type": "stream",
     "text": [
      "[CV]  ccp_alpha=0.01, max_leaf_nodes=100, min_impurity_split=0.2, total=   2.0s\n",
      "[CV] ccp_alpha=0.01, max_leaf_nodes=100, min_impurity_split=0.2 ......\n"
     ]
    },
    {
     "name": "stderr",
     "output_type": "stream",
     "text": [
      "/Users/ZachV/opt/anaconda3/lib/python3.7/site-packages/sklearn/tree/_classes.py:310: FutureWarning: The min_impurity_split parameter is deprecated. Its default value has changed from 1e-7 to 0 in version 0.23, and it will be removed in 0.25. Use the min_impurity_decrease parameter instead.\n",
      "  FutureWarning)\n"
     ]
    },
    {
     "name": "stdout",
     "output_type": "stream",
     "text": [
      "[CV]  ccp_alpha=0.01, max_leaf_nodes=100, min_impurity_split=0.2, total=   1.8s\n",
      "[CV] ccp_alpha=0.01, max_leaf_nodes=100, min_impurity_split=0.2 ......\n"
     ]
    },
    {
     "name": "stderr",
     "output_type": "stream",
     "text": [
      "/Users/ZachV/opt/anaconda3/lib/python3.7/site-packages/sklearn/tree/_classes.py:310: FutureWarning: The min_impurity_split parameter is deprecated. Its default value has changed from 1e-7 to 0 in version 0.23, and it will be removed in 0.25. Use the min_impurity_decrease parameter instead.\n",
      "  FutureWarning)\n"
     ]
    },
    {
     "name": "stdout",
     "output_type": "stream",
     "text": [
      "[CV]  ccp_alpha=0.01, max_leaf_nodes=100, min_impurity_split=0.2, total=   1.8s\n",
      "[CV] ccp_alpha=0.01, max_leaf_nodes=100, min_impurity_split=0.3 ......\n"
     ]
    },
    {
     "name": "stderr",
     "output_type": "stream",
     "text": [
      "/Users/ZachV/opt/anaconda3/lib/python3.7/site-packages/sklearn/tree/_classes.py:310: FutureWarning: The min_impurity_split parameter is deprecated. Its default value has changed from 1e-7 to 0 in version 0.23, and it will be removed in 0.25. Use the min_impurity_decrease parameter instead.\n",
      "  FutureWarning)\n"
     ]
    },
    {
     "name": "stdout",
     "output_type": "stream",
     "text": [
      "[CV]  ccp_alpha=0.01, max_leaf_nodes=100, min_impurity_split=0.3, total=   1.5s\n",
      "[CV] ccp_alpha=0.01, max_leaf_nodes=100, min_impurity_split=0.3 ......\n"
     ]
    },
    {
     "name": "stderr",
     "output_type": "stream",
     "text": [
      "/Users/ZachV/opt/anaconda3/lib/python3.7/site-packages/sklearn/tree/_classes.py:310: FutureWarning: The min_impurity_split parameter is deprecated. Its default value has changed from 1e-7 to 0 in version 0.23, and it will be removed in 0.25. Use the min_impurity_decrease parameter instead.\n",
      "  FutureWarning)\n"
     ]
    },
    {
     "name": "stdout",
     "output_type": "stream",
     "text": [
      "[CV]  ccp_alpha=0.01, max_leaf_nodes=100, min_impurity_split=0.3, total=   1.5s\n",
      "[CV] ccp_alpha=0.01, max_leaf_nodes=100, min_impurity_split=0.3 ......\n"
     ]
    },
    {
     "name": "stderr",
     "output_type": "stream",
     "text": [
      "/Users/ZachV/opt/anaconda3/lib/python3.7/site-packages/sklearn/tree/_classes.py:310: FutureWarning: The min_impurity_split parameter is deprecated. Its default value has changed from 1e-7 to 0 in version 0.23, and it will be removed in 0.25. Use the min_impurity_decrease parameter instead.\n",
      "  FutureWarning)\n"
     ]
    },
    {
     "name": "stdout",
     "output_type": "stream",
     "text": [
      "[CV]  ccp_alpha=0.01, max_leaf_nodes=100, min_impurity_split=0.3, total=   1.5s\n",
      "[CV] ccp_alpha=0.01, max_leaf_nodes=100, min_impurity_split=0.3 ......\n"
     ]
    },
    {
     "name": "stderr",
     "output_type": "stream",
     "text": [
      "/Users/ZachV/opt/anaconda3/lib/python3.7/site-packages/sklearn/tree/_classes.py:310: FutureWarning: The min_impurity_split parameter is deprecated. Its default value has changed from 1e-7 to 0 in version 0.23, and it will be removed in 0.25. Use the min_impurity_decrease parameter instead.\n",
      "  FutureWarning)\n"
     ]
    },
    {
     "name": "stdout",
     "output_type": "stream",
     "text": [
      "[CV]  ccp_alpha=0.01, max_leaf_nodes=100, min_impurity_split=0.3, total=   1.6s\n",
      "[CV] ccp_alpha=0.01, max_leaf_nodes=100, min_impurity_split=0.3 ......\n"
     ]
    },
    {
     "name": "stderr",
     "output_type": "stream",
     "text": [
      "/Users/ZachV/opt/anaconda3/lib/python3.7/site-packages/sklearn/tree/_classes.py:310: FutureWarning: The min_impurity_split parameter is deprecated. Its default value has changed from 1e-7 to 0 in version 0.23, and it will be removed in 0.25. Use the min_impurity_decrease parameter instead.\n",
      "  FutureWarning)\n"
     ]
    },
    {
     "name": "stdout",
     "output_type": "stream",
     "text": [
      "[CV]  ccp_alpha=0.01, max_leaf_nodes=100, min_impurity_split=0.3, total=   1.5s\n",
      "[CV] ccp_alpha=0.01, max_leaf_nodes=100, min_impurity_split=0.4 ......\n"
     ]
    },
    {
     "name": "stderr",
     "output_type": "stream",
     "text": [
      "/Users/ZachV/opt/anaconda3/lib/python3.7/site-packages/sklearn/tree/_classes.py:310: FutureWarning: The min_impurity_split parameter is deprecated. Its default value has changed from 1e-7 to 0 in version 0.23, and it will be removed in 0.25. Use the min_impurity_decrease parameter instead.\n",
      "  FutureWarning)\n"
     ]
    },
    {
     "name": "stdout",
     "output_type": "stream",
     "text": [
      "[CV]  ccp_alpha=0.01, max_leaf_nodes=100, min_impurity_split=0.4, total=   0.9s\n",
      "[CV] ccp_alpha=0.01, max_leaf_nodes=100, min_impurity_split=0.4 ......\n"
     ]
    },
    {
     "name": "stderr",
     "output_type": "stream",
     "text": [
      "/Users/ZachV/opt/anaconda3/lib/python3.7/site-packages/sklearn/tree/_classes.py:310: FutureWarning: The min_impurity_split parameter is deprecated. Its default value has changed from 1e-7 to 0 in version 0.23, and it will be removed in 0.25. Use the min_impurity_decrease parameter instead.\n",
      "  FutureWarning)\n"
     ]
    },
    {
     "name": "stdout",
     "output_type": "stream",
     "text": [
      "[CV]  ccp_alpha=0.01, max_leaf_nodes=100, min_impurity_split=0.4, total=   0.9s\n",
      "[CV] ccp_alpha=0.01, max_leaf_nodes=100, min_impurity_split=0.4 ......\n"
     ]
    },
    {
     "name": "stderr",
     "output_type": "stream",
     "text": [
      "/Users/ZachV/opt/anaconda3/lib/python3.7/site-packages/sklearn/tree/_classes.py:310: FutureWarning: The min_impurity_split parameter is deprecated. Its default value has changed from 1e-7 to 0 in version 0.23, and it will be removed in 0.25. Use the min_impurity_decrease parameter instead.\n",
      "  FutureWarning)\n"
     ]
    },
    {
     "name": "stdout",
     "output_type": "stream",
     "text": [
      "[CV]  ccp_alpha=0.01, max_leaf_nodes=100, min_impurity_split=0.4, total=   0.9s\n",
      "[CV] ccp_alpha=0.01, max_leaf_nodes=100, min_impurity_split=0.4 ......\n"
     ]
    },
    {
     "name": "stderr",
     "output_type": "stream",
     "text": [
      "/Users/ZachV/opt/anaconda3/lib/python3.7/site-packages/sklearn/tree/_classes.py:310: FutureWarning: The min_impurity_split parameter is deprecated. Its default value has changed from 1e-7 to 0 in version 0.23, and it will be removed in 0.25. Use the min_impurity_decrease parameter instead.\n",
      "  FutureWarning)\n"
     ]
    },
    {
     "name": "stdout",
     "output_type": "stream",
     "text": [
      "[CV]  ccp_alpha=0.01, max_leaf_nodes=100, min_impurity_split=0.4, total=   1.0s\n",
      "[CV] ccp_alpha=0.01, max_leaf_nodes=100, min_impurity_split=0.4 ......\n"
     ]
    },
    {
     "name": "stderr",
     "output_type": "stream",
     "text": [
      "/Users/ZachV/opt/anaconda3/lib/python3.7/site-packages/sklearn/tree/_classes.py:310: FutureWarning: The min_impurity_split parameter is deprecated. Its default value has changed from 1e-7 to 0 in version 0.23, and it will be removed in 0.25. Use the min_impurity_decrease parameter instead.\n",
      "  FutureWarning)\n"
     ]
    },
    {
     "name": "stdout",
     "output_type": "stream",
     "text": [
      "[CV]  ccp_alpha=0.01, max_leaf_nodes=100, min_impurity_split=0.4, total=   1.1s\n",
      "[CV] ccp_alpha=0.01, max_leaf_nodes=100, min_impurity_split=0.5 ......\n"
     ]
    },
    {
     "name": "stderr",
     "output_type": "stream",
     "text": [
      "/Users/ZachV/opt/anaconda3/lib/python3.7/site-packages/sklearn/tree/_classes.py:310: FutureWarning: The min_impurity_split parameter is deprecated. Its default value has changed from 1e-7 to 0 in version 0.23, and it will be removed in 0.25. Use the min_impurity_decrease parameter instead.\n",
      "  FutureWarning)\n"
     ]
    },
    {
     "name": "stdout",
     "output_type": "stream",
     "text": [
      "[CV]  ccp_alpha=0.01, max_leaf_nodes=100, min_impurity_split=0.5, total=   1.1s\n",
      "[CV] ccp_alpha=0.01, max_leaf_nodes=100, min_impurity_split=0.5 ......\n"
     ]
    },
    {
     "name": "stderr",
     "output_type": "stream",
     "text": [
      "/Users/ZachV/opt/anaconda3/lib/python3.7/site-packages/sklearn/tree/_classes.py:310: FutureWarning: The min_impurity_split parameter is deprecated. Its default value has changed from 1e-7 to 0 in version 0.23, and it will be removed in 0.25. Use the min_impurity_decrease parameter instead.\n",
      "  FutureWarning)\n"
     ]
    },
    {
     "name": "stdout",
     "output_type": "stream",
     "text": [
      "[CV]  ccp_alpha=0.01, max_leaf_nodes=100, min_impurity_split=0.5, total=   1.6s\n",
      "[CV] ccp_alpha=0.01, max_leaf_nodes=100, min_impurity_split=0.5 ......\n"
     ]
    },
    {
     "name": "stderr",
     "output_type": "stream",
     "text": [
      "/Users/ZachV/opt/anaconda3/lib/python3.7/site-packages/sklearn/tree/_classes.py:310: FutureWarning: The min_impurity_split parameter is deprecated. Its default value has changed from 1e-7 to 0 in version 0.23, and it will be removed in 0.25. Use the min_impurity_decrease parameter instead.\n",
      "  FutureWarning)\n"
     ]
    },
    {
     "name": "stdout",
     "output_type": "stream",
     "text": [
      "[CV]  ccp_alpha=0.01, max_leaf_nodes=100, min_impurity_split=0.5, total=   0.9s\n",
      "[CV] ccp_alpha=0.01, max_leaf_nodes=100, min_impurity_split=0.5 ......\n"
     ]
    },
    {
     "name": "stderr",
     "output_type": "stream",
     "text": [
      "/Users/ZachV/opt/anaconda3/lib/python3.7/site-packages/sklearn/tree/_classes.py:310: FutureWarning: The min_impurity_split parameter is deprecated. Its default value has changed from 1e-7 to 0 in version 0.23, and it will be removed in 0.25. Use the min_impurity_decrease parameter instead.\n",
      "  FutureWarning)\n"
     ]
    },
    {
     "name": "stdout",
     "output_type": "stream",
     "text": [
      "[CV]  ccp_alpha=0.01, max_leaf_nodes=100, min_impurity_split=0.5, total=   1.1s\n",
      "[CV] ccp_alpha=0.01, max_leaf_nodes=100, min_impurity_split=0.5 ......\n"
     ]
    },
    {
     "name": "stderr",
     "output_type": "stream",
     "text": [
      "/Users/ZachV/opt/anaconda3/lib/python3.7/site-packages/sklearn/tree/_classes.py:310: FutureWarning: The min_impurity_split parameter is deprecated. Its default value has changed from 1e-7 to 0 in version 0.23, and it will be removed in 0.25. Use the min_impurity_decrease parameter instead.\n",
      "  FutureWarning)\n"
     ]
    },
    {
     "name": "stdout",
     "output_type": "stream",
     "text": [
      "[CV]  ccp_alpha=0.01, max_leaf_nodes=100, min_impurity_split=0.5, total=   1.1s\n",
      "[CV] ccp_alpha=0.1, max_leaf_nodes=5, min_impurity_split=0 ...........\n"
     ]
    },
    {
     "name": "stderr",
     "output_type": "stream",
     "text": [
      "/Users/ZachV/opt/anaconda3/lib/python3.7/site-packages/sklearn/tree/_classes.py:310: FutureWarning: The min_impurity_split parameter is deprecated. Its default value has changed from 1e-7 to 0 in version 0.23, and it will be removed in 0.25. Use the min_impurity_decrease parameter instead.\n",
      "  FutureWarning)\n"
     ]
    },
    {
     "name": "stdout",
     "output_type": "stream",
     "text": [
      "[CV]  ccp_alpha=0.1, max_leaf_nodes=5, min_impurity_split=0, total=   2.1s\n",
      "[CV] ccp_alpha=0.1, max_leaf_nodes=5, min_impurity_split=0 ...........\n"
     ]
    },
    {
     "name": "stderr",
     "output_type": "stream",
     "text": [
      "/Users/ZachV/opt/anaconda3/lib/python3.7/site-packages/sklearn/tree/_classes.py:310: FutureWarning: The min_impurity_split parameter is deprecated. Its default value has changed from 1e-7 to 0 in version 0.23, and it will be removed in 0.25. Use the min_impurity_decrease parameter instead.\n",
      "  FutureWarning)\n"
     ]
    },
    {
     "name": "stdout",
     "output_type": "stream",
     "text": [
      "[CV]  ccp_alpha=0.1, max_leaf_nodes=5, min_impurity_split=0, total=   2.2s\n",
      "[CV] ccp_alpha=0.1, max_leaf_nodes=5, min_impurity_split=0 ...........\n"
     ]
    },
    {
     "name": "stderr",
     "output_type": "stream",
     "text": [
      "/Users/ZachV/opt/anaconda3/lib/python3.7/site-packages/sklearn/tree/_classes.py:310: FutureWarning: The min_impurity_split parameter is deprecated. Its default value has changed from 1e-7 to 0 in version 0.23, and it will be removed in 0.25. Use the min_impurity_decrease parameter instead.\n",
      "  FutureWarning)\n"
     ]
    },
    {
     "name": "stdout",
     "output_type": "stream",
     "text": [
      "[CV]  ccp_alpha=0.1, max_leaf_nodes=5, min_impurity_split=0, total=   2.5s\n",
      "[CV] ccp_alpha=0.1, max_leaf_nodes=5, min_impurity_split=0 ...........\n"
     ]
    },
    {
     "name": "stderr",
     "output_type": "stream",
     "text": [
      "/Users/ZachV/opt/anaconda3/lib/python3.7/site-packages/sklearn/tree/_classes.py:310: FutureWarning: The min_impurity_split parameter is deprecated. Its default value has changed from 1e-7 to 0 in version 0.23, and it will be removed in 0.25. Use the min_impurity_decrease parameter instead.\n",
      "  FutureWarning)\n"
     ]
    },
    {
     "name": "stdout",
     "output_type": "stream",
     "text": [
      "[CV]  ccp_alpha=0.1, max_leaf_nodes=5, min_impurity_split=0, total=   1.9s\n",
      "[CV] ccp_alpha=0.1, max_leaf_nodes=5, min_impurity_split=0 ...........\n"
     ]
    },
    {
     "name": "stderr",
     "output_type": "stream",
     "text": [
      "/Users/ZachV/opt/anaconda3/lib/python3.7/site-packages/sklearn/tree/_classes.py:310: FutureWarning: The min_impurity_split parameter is deprecated. Its default value has changed from 1e-7 to 0 in version 0.23, and it will be removed in 0.25. Use the min_impurity_decrease parameter instead.\n",
      "  FutureWarning)\n"
     ]
    },
    {
     "name": "stdout",
     "output_type": "stream",
     "text": [
      "[CV]  ccp_alpha=0.1, max_leaf_nodes=5, min_impurity_split=0, total=   2.4s\n",
      "[CV] ccp_alpha=0.1, max_leaf_nodes=5, min_impurity_split=0.1 .........\n"
     ]
    },
    {
     "name": "stderr",
     "output_type": "stream",
     "text": [
      "/Users/ZachV/opt/anaconda3/lib/python3.7/site-packages/sklearn/tree/_classes.py:310: FutureWarning: The min_impurity_split parameter is deprecated. Its default value has changed from 1e-7 to 0 in version 0.23, and it will be removed in 0.25. Use the min_impurity_decrease parameter instead.\n",
      "  FutureWarning)\n"
     ]
    },
    {
     "name": "stdout",
     "output_type": "stream",
     "text": [
      "[CV]  ccp_alpha=0.1, max_leaf_nodes=5, min_impurity_split=0.1, total=   2.3s\n",
      "[CV] ccp_alpha=0.1, max_leaf_nodes=5, min_impurity_split=0.1 .........\n"
     ]
    },
    {
     "name": "stderr",
     "output_type": "stream",
     "text": [
      "/Users/ZachV/opt/anaconda3/lib/python3.7/site-packages/sklearn/tree/_classes.py:310: FutureWarning: The min_impurity_split parameter is deprecated. Its default value has changed from 1e-7 to 0 in version 0.23, and it will be removed in 0.25. Use the min_impurity_decrease parameter instead.\n",
      "  FutureWarning)\n"
     ]
    },
    {
     "name": "stdout",
     "output_type": "stream",
     "text": [
      "[CV]  ccp_alpha=0.1, max_leaf_nodes=5, min_impurity_split=0.1, total=   2.5s\n",
      "[CV] ccp_alpha=0.1, max_leaf_nodes=5, min_impurity_split=0.1 .........\n"
     ]
    },
    {
     "name": "stderr",
     "output_type": "stream",
     "text": [
      "/Users/ZachV/opt/anaconda3/lib/python3.7/site-packages/sklearn/tree/_classes.py:310: FutureWarning: The min_impurity_split parameter is deprecated. Its default value has changed from 1e-7 to 0 in version 0.23, and it will be removed in 0.25. Use the min_impurity_decrease parameter instead.\n",
      "  FutureWarning)\n"
     ]
    },
    {
     "name": "stdout",
     "output_type": "stream",
     "text": [
      "[CV]  ccp_alpha=0.1, max_leaf_nodes=5, min_impurity_split=0.1, total=   2.5s\n",
      "[CV] ccp_alpha=0.1, max_leaf_nodes=5, min_impurity_split=0.1 .........\n"
     ]
    },
    {
     "name": "stderr",
     "output_type": "stream",
     "text": [
      "/Users/ZachV/opt/anaconda3/lib/python3.7/site-packages/sklearn/tree/_classes.py:310: FutureWarning: The min_impurity_split parameter is deprecated. Its default value has changed from 1e-7 to 0 in version 0.23, and it will be removed in 0.25. Use the min_impurity_decrease parameter instead.\n",
      "  FutureWarning)\n"
     ]
    },
    {
     "name": "stdout",
     "output_type": "stream",
     "text": [
      "[CV]  ccp_alpha=0.1, max_leaf_nodes=5, min_impurity_split=0.1, total=   2.7s\n",
      "[CV] ccp_alpha=0.1, max_leaf_nodes=5, min_impurity_split=0.1 .........\n"
     ]
    },
    {
     "name": "stderr",
     "output_type": "stream",
     "text": [
      "/Users/ZachV/opt/anaconda3/lib/python3.7/site-packages/sklearn/tree/_classes.py:310: FutureWarning: The min_impurity_split parameter is deprecated. Its default value has changed from 1e-7 to 0 in version 0.23, and it will be removed in 0.25. Use the min_impurity_decrease parameter instead.\n",
      "  FutureWarning)\n"
     ]
    },
    {
     "name": "stdout",
     "output_type": "stream",
     "text": [
      "[CV]  ccp_alpha=0.1, max_leaf_nodes=5, min_impurity_split=0.1, total=   2.6s\n",
      "[CV] ccp_alpha=0.1, max_leaf_nodes=5, min_impurity_split=0.2 .........\n"
     ]
    },
    {
     "name": "stderr",
     "output_type": "stream",
     "text": [
      "/Users/ZachV/opt/anaconda3/lib/python3.7/site-packages/sklearn/tree/_classes.py:310: FutureWarning: The min_impurity_split parameter is deprecated. Its default value has changed from 1e-7 to 0 in version 0.23, and it will be removed in 0.25. Use the min_impurity_decrease parameter instead.\n",
      "  FutureWarning)\n"
     ]
    },
    {
     "name": "stdout",
     "output_type": "stream",
     "text": [
      "[CV]  ccp_alpha=0.1, max_leaf_nodes=5, min_impurity_split=0.2, total=   1.7s\n",
      "[CV] ccp_alpha=0.1, max_leaf_nodes=5, min_impurity_split=0.2 .........\n"
     ]
    },
    {
     "name": "stderr",
     "output_type": "stream",
     "text": [
      "/Users/ZachV/opt/anaconda3/lib/python3.7/site-packages/sklearn/tree/_classes.py:310: FutureWarning: The min_impurity_split parameter is deprecated. Its default value has changed from 1e-7 to 0 in version 0.23, and it will be removed in 0.25. Use the min_impurity_decrease parameter instead.\n",
      "  FutureWarning)\n"
     ]
    },
    {
     "name": "stdout",
     "output_type": "stream",
     "text": [
      "[CV]  ccp_alpha=0.1, max_leaf_nodes=5, min_impurity_split=0.2, total=   1.8s\n",
      "[CV] ccp_alpha=0.1, max_leaf_nodes=5, min_impurity_split=0.2 .........\n"
     ]
    },
    {
     "name": "stderr",
     "output_type": "stream",
     "text": [
      "/Users/ZachV/opt/anaconda3/lib/python3.7/site-packages/sklearn/tree/_classes.py:310: FutureWarning: The min_impurity_split parameter is deprecated. Its default value has changed from 1e-7 to 0 in version 0.23, and it will be removed in 0.25. Use the min_impurity_decrease parameter instead.\n",
      "  FutureWarning)\n"
     ]
    },
    {
     "name": "stdout",
     "output_type": "stream",
     "text": [
      "[CV]  ccp_alpha=0.1, max_leaf_nodes=5, min_impurity_split=0.2, total=   2.7s\n",
      "[CV] ccp_alpha=0.1, max_leaf_nodes=5, min_impurity_split=0.2 .........\n"
     ]
    },
    {
     "name": "stderr",
     "output_type": "stream",
     "text": [
      "/Users/ZachV/opt/anaconda3/lib/python3.7/site-packages/sklearn/tree/_classes.py:310: FutureWarning: The min_impurity_split parameter is deprecated. Its default value has changed from 1e-7 to 0 in version 0.23, and it will be removed in 0.25. Use the min_impurity_decrease parameter instead.\n",
      "  FutureWarning)\n"
     ]
    },
    {
     "name": "stdout",
     "output_type": "stream",
     "text": [
      "[CV]  ccp_alpha=0.1, max_leaf_nodes=5, min_impurity_split=0.2, total=   2.3s\n",
      "[CV] ccp_alpha=0.1, max_leaf_nodes=5, min_impurity_split=0.2 .........\n"
     ]
    },
    {
     "name": "stderr",
     "output_type": "stream",
     "text": [
      "/Users/ZachV/opt/anaconda3/lib/python3.7/site-packages/sklearn/tree/_classes.py:310: FutureWarning: The min_impurity_split parameter is deprecated. Its default value has changed from 1e-7 to 0 in version 0.23, and it will be removed in 0.25. Use the min_impurity_decrease parameter instead.\n",
      "  FutureWarning)\n"
     ]
    },
    {
     "name": "stdout",
     "output_type": "stream",
     "text": [
      "[CV]  ccp_alpha=0.1, max_leaf_nodes=5, min_impurity_split=0.2, total=   3.4s\n",
      "[CV] ccp_alpha=0.1, max_leaf_nodes=5, min_impurity_split=0.3 .........\n"
     ]
    },
    {
     "name": "stderr",
     "output_type": "stream",
     "text": [
      "/Users/ZachV/opt/anaconda3/lib/python3.7/site-packages/sklearn/tree/_classes.py:310: FutureWarning: The min_impurity_split parameter is deprecated. Its default value has changed from 1e-7 to 0 in version 0.23, and it will be removed in 0.25. Use the min_impurity_decrease parameter instead.\n",
      "  FutureWarning)\n"
     ]
    },
    {
     "name": "stdout",
     "output_type": "stream",
     "text": [
      "[CV]  ccp_alpha=0.1, max_leaf_nodes=5, min_impurity_split=0.3, total=   2.0s\n",
      "[CV] ccp_alpha=0.1, max_leaf_nodes=5, min_impurity_split=0.3 .........\n"
     ]
    },
    {
     "name": "stderr",
     "output_type": "stream",
     "text": [
      "/Users/ZachV/opt/anaconda3/lib/python3.7/site-packages/sklearn/tree/_classes.py:310: FutureWarning: The min_impurity_split parameter is deprecated. Its default value has changed from 1e-7 to 0 in version 0.23, and it will be removed in 0.25. Use the min_impurity_decrease parameter instead.\n",
      "  FutureWarning)\n"
     ]
    },
    {
     "name": "stdout",
     "output_type": "stream",
     "text": [
      "[CV]  ccp_alpha=0.1, max_leaf_nodes=5, min_impurity_split=0.3, total=   1.4s\n",
      "[CV] ccp_alpha=0.1, max_leaf_nodes=5, min_impurity_split=0.3 .........\n"
     ]
    },
    {
     "name": "stderr",
     "output_type": "stream",
     "text": [
      "/Users/ZachV/opt/anaconda3/lib/python3.7/site-packages/sklearn/tree/_classes.py:310: FutureWarning: The min_impurity_split parameter is deprecated. Its default value has changed from 1e-7 to 0 in version 0.23, and it will be removed in 0.25. Use the min_impurity_decrease parameter instead.\n",
      "  FutureWarning)\n"
     ]
    },
    {
     "name": "stdout",
     "output_type": "stream",
     "text": [
      "[CV]  ccp_alpha=0.1, max_leaf_nodes=5, min_impurity_split=0.3, total=   1.2s\n",
      "[CV] ccp_alpha=0.1, max_leaf_nodes=5, min_impurity_split=0.3 .........\n"
     ]
    },
    {
     "name": "stderr",
     "output_type": "stream",
     "text": [
      "/Users/ZachV/opt/anaconda3/lib/python3.7/site-packages/sklearn/tree/_classes.py:310: FutureWarning: The min_impurity_split parameter is deprecated. Its default value has changed from 1e-7 to 0 in version 0.23, and it will be removed in 0.25. Use the min_impurity_decrease parameter instead.\n",
      "  FutureWarning)\n"
     ]
    },
    {
     "name": "stdout",
     "output_type": "stream",
     "text": [
      "[CV]  ccp_alpha=0.1, max_leaf_nodes=5, min_impurity_split=0.3, total=   1.2s\n",
      "[CV] ccp_alpha=0.1, max_leaf_nodes=5, min_impurity_split=0.3 .........\n"
     ]
    },
    {
     "name": "stderr",
     "output_type": "stream",
     "text": [
      "/Users/ZachV/opt/anaconda3/lib/python3.7/site-packages/sklearn/tree/_classes.py:310: FutureWarning: The min_impurity_split parameter is deprecated. Its default value has changed from 1e-7 to 0 in version 0.23, and it will be removed in 0.25. Use the min_impurity_decrease parameter instead.\n",
      "  FutureWarning)\n"
     ]
    },
    {
     "name": "stdout",
     "output_type": "stream",
     "text": [
      "[CV]  ccp_alpha=0.1, max_leaf_nodes=5, min_impurity_split=0.3, total=   1.3s\n",
      "[CV] ccp_alpha=0.1, max_leaf_nodes=5, min_impurity_split=0.4 .........\n"
     ]
    },
    {
     "name": "stderr",
     "output_type": "stream",
     "text": [
      "/Users/ZachV/opt/anaconda3/lib/python3.7/site-packages/sklearn/tree/_classes.py:310: FutureWarning: The min_impurity_split parameter is deprecated. Its default value has changed from 1e-7 to 0 in version 0.23, and it will be removed in 0.25. Use the min_impurity_decrease parameter instead.\n",
      "  FutureWarning)\n"
     ]
    },
    {
     "name": "stdout",
     "output_type": "stream",
     "text": [
      "[CV]  ccp_alpha=0.1, max_leaf_nodes=5, min_impurity_split=0.4, total=   1.0s\n",
      "[CV] ccp_alpha=0.1, max_leaf_nodes=5, min_impurity_split=0.4 .........\n"
     ]
    },
    {
     "name": "stderr",
     "output_type": "stream",
     "text": [
      "/Users/ZachV/opt/anaconda3/lib/python3.7/site-packages/sklearn/tree/_classes.py:310: FutureWarning: The min_impurity_split parameter is deprecated. Its default value has changed from 1e-7 to 0 in version 0.23, and it will be removed in 0.25. Use the min_impurity_decrease parameter instead.\n",
      "  FutureWarning)\n"
     ]
    },
    {
     "name": "stdout",
     "output_type": "stream",
     "text": [
      "[CV]  ccp_alpha=0.1, max_leaf_nodes=5, min_impurity_split=0.4, total=   1.0s\n",
      "[CV] ccp_alpha=0.1, max_leaf_nodes=5, min_impurity_split=0.4 .........\n"
     ]
    },
    {
     "name": "stderr",
     "output_type": "stream",
     "text": [
      "/Users/ZachV/opt/anaconda3/lib/python3.7/site-packages/sklearn/tree/_classes.py:310: FutureWarning: The min_impurity_split parameter is deprecated. Its default value has changed from 1e-7 to 0 in version 0.23, and it will be removed in 0.25. Use the min_impurity_decrease parameter instead.\n",
      "  FutureWarning)\n"
     ]
    },
    {
     "name": "stdout",
     "output_type": "stream",
     "text": [
      "[CV]  ccp_alpha=0.1, max_leaf_nodes=5, min_impurity_split=0.4, total=   1.0s\n",
      "[CV] ccp_alpha=0.1, max_leaf_nodes=5, min_impurity_split=0.4 .........\n"
     ]
    },
    {
     "name": "stderr",
     "output_type": "stream",
     "text": [
      "/Users/ZachV/opt/anaconda3/lib/python3.7/site-packages/sklearn/tree/_classes.py:310: FutureWarning: The min_impurity_split parameter is deprecated. Its default value has changed from 1e-7 to 0 in version 0.23, and it will be removed in 0.25. Use the min_impurity_decrease parameter instead.\n",
      "  FutureWarning)\n"
     ]
    },
    {
     "name": "stdout",
     "output_type": "stream",
     "text": [
      "[CV]  ccp_alpha=0.1, max_leaf_nodes=5, min_impurity_split=0.4, total=   1.0s\n",
      "[CV] ccp_alpha=0.1, max_leaf_nodes=5, min_impurity_split=0.4 .........\n"
     ]
    },
    {
     "name": "stderr",
     "output_type": "stream",
     "text": [
      "/Users/ZachV/opt/anaconda3/lib/python3.7/site-packages/sklearn/tree/_classes.py:310: FutureWarning: The min_impurity_split parameter is deprecated. Its default value has changed from 1e-7 to 0 in version 0.23, and it will be removed in 0.25. Use the min_impurity_decrease parameter instead.\n",
      "  FutureWarning)\n"
     ]
    },
    {
     "name": "stdout",
     "output_type": "stream",
     "text": [
      "[CV]  ccp_alpha=0.1, max_leaf_nodes=5, min_impurity_split=0.4, total=   0.9s\n",
      "[CV] ccp_alpha=0.1, max_leaf_nodes=5, min_impurity_split=0.5 .........\n"
     ]
    },
    {
     "name": "stderr",
     "output_type": "stream",
     "text": [
      "/Users/ZachV/opt/anaconda3/lib/python3.7/site-packages/sklearn/tree/_classes.py:310: FutureWarning: The min_impurity_split parameter is deprecated. Its default value has changed from 1e-7 to 0 in version 0.23, and it will be removed in 0.25. Use the min_impurity_decrease parameter instead.\n",
      "  FutureWarning)\n"
     ]
    },
    {
     "name": "stdout",
     "output_type": "stream",
     "text": [
      "[CV]  ccp_alpha=0.1, max_leaf_nodes=5, min_impurity_split=0.5, total=   0.9s\n",
      "[CV] ccp_alpha=0.1, max_leaf_nodes=5, min_impurity_split=0.5 .........\n"
     ]
    },
    {
     "name": "stderr",
     "output_type": "stream",
     "text": [
      "/Users/ZachV/opt/anaconda3/lib/python3.7/site-packages/sklearn/tree/_classes.py:310: FutureWarning: The min_impurity_split parameter is deprecated. Its default value has changed from 1e-7 to 0 in version 0.23, and it will be removed in 0.25. Use the min_impurity_decrease parameter instead.\n",
      "  FutureWarning)\n"
     ]
    },
    {
     "name": "stdout",
     "output_type": "stream",
     "text": [
      "[CV]  ccp_alpha=0.1, max_leaf_nodes=5, min_impurity_split=0.5, total=   1.0s\n",
      "[CV] ccp_alpha=0.1, max_leaf_nodes=5, min_impurity_split=0.5 .........\n"
     ]
    },
    {
     "name": "stderr",
     "output_type": "stream",
     "text": [
      "/Users/ZachV/opt/anaconda3/lib/python3.7/site-packages/sklearn/tree/_classes.py:310: FutureWarning: The min_impurity_split parameter is deprecated. Its default value has changed from 1e-7 to 0 in version 0.23, and it will be removed in 0.25. Use the min_impurity_decrease parameter instead.\n",
      "  FutureWarning)\n"
     ]
    },
    {
     "name": "stdout",
     "output_type": "stream",
     "text": [
      "[CV]  ccp_alpha=0.1, max_leaf_nodes=5, min_impurity_split=0.5, total=   0.9s\n",
      "[CV] ccp_alpha=0.1, max_leaf_nodes=5, min_impurity_split=0.5 .........\n"
     ]
    },
    {
     "name": "stderr",
     "output_type": "stream",
     "text": [
      "/Users/ZachV/opt/anaconda3/lib/python3.7/site-packages/sklearn/tree/_classes.py:310: FutureWarning: The min_impurity_split parameter is deprecated. Its default value has changed from 1e-7 to 0 in version 0.23, and it will be removed in 0.25. Use the min_impurity_decrease parameter instead.\n",
      "  FutureWarning)\n"
     ]
    },
    {
     "name": "stdout",
     "output_type": "stream",
     "text": [
      "[CV]  ccp_alpha=0.1, max_leaf_nodes=5, min_impurity_split=0.5, total=   0.9s\n",
      "[CV] ccp_alpha=0.1, max_leaf_nodes=5, min_impurity_split=0.5 .........\n"
     ]
    },
    {
     "name": "stderr",
     "output_type": "stream",
     "text": [
      "/Users/ZachV/opt/anaconda3/lib/python3.7/site-packages/sklearn/tree/_classes.py:310: FutureWarning: The min_impurity_split parameter is deprecated. Its default value has changed from 1e-7 to 0 in version 0.23, and it will be removed in 0.25. Use the min_impurity_decrease parameter instead.\n",
      "  FutureWarning)\n"
     ]
    },
    {
     "name": "stdout",
     "output_type": "stream",
     "text": [
      "[CV]  ccp_alpha=0.1, max_leaf_nodes=5, min_impurity_split=0.5, total=   1.2s\n",
      "[CV] ccp_alpha=0.1, max_leaf_nodes=10, min_impurity_split=0 ..........\n"
     ]
    },
    {
     "name": "stderr",
     "output_type": "stream",
     "text": [
      "/Users/ZachV/opt/anaconda3/lib/python3.7/site-packages/sklearn/tree/_classes.py:310: FutureWarning: The min_impurity_split parameter is deprecated. Its default value has changed from 1e-7 to 0 in version 0.23, and it will be removed in 0.25. Use the min_impurity_decrease parameter instead.\n",
      "  FutureWarning)\n"
     ]
    },
    {
     "name": "stdout",
     "output_type": "stream",
     "text": [
      "[CV]  ccp_alpha=0.1, max_leaf_nodes=10, min_impurity_split=0, total=   3.3s\n",
      "[CV] ccp_alpha=0.1, max_leaf_nodes=10, min_impurity_split=0 ..........\n"
     ]
    },
    {
     "name": "stderr",
     "output_type": "stream",
     "text": [
      "/Users/ZachV/opt/anaconda3/lib/python3.7/site-packages/sklearn/tree/_classes.py:310: FutureWarning: The min_impurity_split parameter is deprecated. Its default value has changed from 1e-7 to 0 in version 0.23, and it will be removed in 0.25. Use the min_impurity_decrease parameter instead.\n",
      "  FutureWarning)\n"
     ]
    },
    {
     "name": "stdout",
     "output_type": "stream",
     "text": [
      "[CV]  ccp_alpha=0.1, max_leaf_nodes=10, min_impurity_split=0, total=   2.7s\n",
      "[CV] ccp_alpha=0.1, max_leaf_nodes=10, min_impurity_split=0 ..........\n"
     ]
    },
    {
     "name": "stderr",
     "output_type": "stream",
     "text": [
      "/Users/ZachV/opt/anaconda3/lib/python3.7/site-packages/sklearn/tree/_classes.py:310: FutureWarning: The min_impurity_split parameter is deprecated. Its default value has changed from 1e-7 to 0 in version 0.23, and it will be removed in 0.25. Use the min_impurity_decrease parameter instead.\n",
      "  FutureWarning)\n"
     ]
    },
    {
     "name": "stdout",
     "output_type": "stream",
     "text": [
      "[CV]  ccp_alpha=0.1, max_leaf_nodes=10, min_impurity_split=0, total=   2.4s\n",
      "[CV] ccp_alpha=0.1, max_leaf_nodes=10, min_impurity_split=0 ..........\n"
     ]
    },
    {
     "name": "stderr",
     "output_type": "stream",
     "text": [
      "/Users/ZachV/opt/anaconda3/lib/python3.7/site-packages/sklearn/tree/_classes.py:310: FutureWarning: The min_impurity_split parameter is deprecated. Its default value has changed from 1e-7 to 0 in version 0.23, and it will be removed in 0.25. Use the min_impurity_decrease parameter instead.\n",
      "  FutureWarning)\n"
     ]
    },
    {
     "name": "stdout",
     "output_type": "stream",
     "text": [
      "[CV]  ccp_alpha=0.1, max_leaf_nodes=10, min_impurity_split=0, total=   2.4s\n",
      "[CV] ccp_alpha=0.1, max_leaf_nodes=10, min_impurity_split=0 ..........\n"
     ]
    },
    {
     "name": "stderr",
     "output_type": "stream",
     "text": [
      "/Users/ZachV/opt/anaconda3/lib/python3.7/site-packages/sklearn/tree/_classes.py:310: FutureWarning: The min_impurity_split parameter is deprecated. Its default value has changed from 1e-7 to 0 in version 0.23, and it will be removed in 0.25. Use the min_impurity_decrease parameter instead.\n",
      "  FutureWarning)\n"
     ]
    },
    {
     "name": "stdout",
     "output_type": "stream",
     "text": [
      "[CV]  ccp_alpha=0.1, max_leaf_nodes=10, min_impurity_split=0, total=   2.3s\n",
      "[CV] ccp_alpha=0.1, max_leaf_nodes=10, min_impurity_split=0.1 ........\n"
     ]
    },
    {
     "name": "stderr",
     "output_type": "stream",
     "text": [
      "/Users/ZachV/opt/anaconda3/lib/python3.7/site-packages/sklearn/tree/_classes.py:310: FutureWarning: The min_impurity_split parameter is deprecated. Its default value has changed from 1e-7 to 0 in version 0.23, and it will be removed in 0.25. Use the min_impurity_decrease parameter instead.\n",
      "  FutureWarning)\n"
     ]
    },
    {
     "name": "stdout",
     "output_type": "stream",
     "text": [
      "[CV]  ccp_alpha=0.1, max_leaf_nodes=10, min_impurity_split=0.1, total=   1.7s\n",
      "[CV] ccp_alpha=0.1, max_leaf_nodes=10, min_impurity_split=0.1 ........\n"
     ]
    },
    {
     "name": "stderr",
     "output_type": "stream",
     "text": [
      "/Users/ZachV/opt/anaconda3/lib/python3.7/site-packages/sklearn/tree/_classes.py:310: FutureWarning: The min_impurity_split parameter is deprecated. Its default value has changed from 1e-7 to 0 in version 0.23, and it will be removed in 0.25. Use the min_impurity_decrease parameter instead.\n",
      "  FutureWarning)\n"
     ]
    },
    {
     "name": "stdout",
     "output_type": "stream",
     "text": [
      "[CV]  ccp_alpha=0.1, max_leaf_nodes=10, min_impurity_split=0.1, total=   1.7s\n",
      "[CV] ccp_alpha=0.1, max_leaf_nodes=10, min_impurity_split=0.1 ........\n"
     ]
    },
    {
     "name": "stderr",
     "output_type": "stream",
     "text": [
      "/Users/ZachV/opt/anaconda3/lib/python3.7/site-packages/sklearn/tree/_classes.py:310: FutureWarning: The min_impurity_split parameter is deprecated. Its default value has changed from 1e-7 to 0 in version 0.23, and it will be removed in 0.25. Use the min_impurity_decrease parameter instead.\n",
      "  FutureWarning)\n"
     ]
    },
    {
     "name": "stdout",
     "output_type": "stream",
     "text": [
      "[CV]  ccp_alpha=0.1, max_leaf_nodes=10, min_impurity_split=0.1, total=   1.8s\n",
      "[CV] ccp_alpha=0.1, max_leaf_nodes=10, min_impurity_split=0.1 ........\n"
     ]
    },
    {
     "name": "stderr",
     "output_type": "stream",
     "text": [
      "/Users/ZachV/opt/anaconda3/lib/python3.7/site-packages/sklearn/tree/_classes.py:310: FutureWarning: The min_impurity_split parameter is deprecated. Its default value has changed from 1e-7 to 0 in version 0.23, and it will be removed in 0.25. Use the min_impurity_decrease parameter instead.\n",
      "  FutureWarning)\n"
     ]
    },
    {
     "name": "stdout",
     "output_type": "stream",
     "text": [
      "[CV]  ccp_alpha=0.1, max_leaf_nodes=10, min_impurity_split=0.1, total=   1.7s\n",
      "[CV] ccp_alpha=0.1, max_leaf_nodes=10, min_impurity_split=0.1 ........\n"
     ]
    },
    {
     "name": "stderr",
     "output_type": "stream",
     "text": [
      "/Users/ZachV/opt/anaconda3/lib/python3.7/site-packages/sklearn/tree/_classes.py:310: FutureWarning: The min_impurity_split parameter is deprecated. Its default value has changed from 1e-7 to 0 in version 0.23, and it will be removed in 0.25. Use the min_impurity_decrease parameter instead.\n",
      "  FutureWarning)\n"
     ]
    },
    {
     "name": "stdout",
     "output_type": "stream",
     "text": [
      "[CV]  ccp_alpha=0.1, max_leaf_nodes=10, min_impurity_split=0.1, total=   1.7s\n",
      "[CV] ccp_alpha=0.1, max_leaf_nodes=10, min_impurity_split=0.2 ........\n"
     ]
    },
    {
     "name": "stderr",
     "output_type": "stream",
     "text": [
      "/Users/ZachV/opt/anaconda3/lib/python3.7/site-packages/sklearn/tree/_classes.py:310: FutureWarning: The min_impurity_split parameter is deprecated. Its default value has changed from 1e-7 to 0 in version 0.23, and it will be removed in 0.25. Use the min_impurity_decrease parameter instead.\n",
      "  FutureWarning)\n"
     ]
    },
    {
     "name": "stdout",
     "output_type": "stream",
     "text": [
      "[CV]  ccp_alpha=0.1, max_leaf_nodes=10, min_impurity_split=0.2, total=   1.4s\n",
      "[CV] ccp_alpha=0.1, max_leaf_nodes=10, min_impurity_split=0.2 ........\n"
     ]
    },
    {
     "name": "stderr",
     "output_type": "stream",
     "text": [
      "/Users/ZachV/opt/anaconda3/lib/python3.7/site-packages/sklearn/tree/_classes.py:310: FutureWarning: The min_impurity_split parameter is deprecated. Its default value has changed from 1e-7 to 0 in version 0.23, and it will be removed in 0.25. Use the min_impurity_decrease parameter instead.\n",
      "  FutureWarning)\n"
     ]
    },
    {
     "name": "stdout",
     "output_type": "stream",
     "text": [
      "[CV]  ccp_alpha=0.1, max_leaf_nodes=10, min_impurity_split=0.2, total=   1.5s\n",
      "[CV] ccp_alpha=0.1, max_leaf_nodes=10, min_impurity_split=0.2 ........\n"
     ]
    },
    {
     "name": "stderr",
     "output_type": "stream",
     "text": [
      "/Users/ZachV/opt/anaconda3/lib/python3.7/site-packages/sklearn/tree/_classes.py:310: FutureWarning: The min_impurity_split parameter is deprecated. Its default value has changed from 1e-7 to 0 in version 0.23, and it will be removed in 0.25. Use the min_impurity_decrease parameter instead.\n",
      "  FutureWarning)\n"
     ]
    },
    {
     "name": "stdout",
     "output_type": "stream",
     "text": [
      "[CV]  ccp_alpha=0.1, max_leaf_nodes=10, min_impurity_split=0.2, total=   1.5s\n",
      "[CV] ccp_alpha=0.1, max_leaf_nodes=10, min_impurity_split=0.2 ........\n"
     ]
    },
    {
     "name": "stderr",
     "output_type": "stream",
     "text": [
      "/Users/ZachV/opt/anaconda3/lib/python3.7/site-packages/sklearn/tree/_classes.py:310: FutureWarning: The min_impurity_split parameter is deprecated. Its default value has changed from 1e-7 to 0 in version 0.23, and it will be removed in 0.25. Use the min_impurity_decrease parameter instead.\n",
      "  FutureWarning)\n"
     ]
    },
    {
     "name": "stdout",
     "output_type": "stream",
     "text": [
      "[CV]  ccp_alpha=0.1, max_leaf_nodes=10, min_impurity_split=0.2, total=   1.5s\n",
      "[CV] ccp_alpha=0.1, max_leaf_nodes=10, min_impurity_split=0.2 ........\n"
     ]
    },
    {
     "name": "stderr",
     "output_type": "stream",
     "text": [
      "/Users/ZachV/opt/anaconda3/lib/python3.7/site-packages/sklearn/tree/_classes.py:310: FutureWarning: The min_impurity_split parameter is deprecated. Its default value has changed from 1e-7 to 0 in version 0.23, and it will be removed in 0.25. Use the min_impurity_decrease parameter instead.\n",
      "  FutureWarning)\n"
     ]
    },
    {
     "name": "stdout",
     "output_type": "stream",
     "text": [
      "[CV]  ccp_alpha=0.1, max_leaf_nodes=10, min_impurity_split=0.2, total=   1.6s\n",
      "[CV] ccp_alpha=0.1, max_leaf_nodes=10, min_impurity_split=0.3 ........\n"
     ]
    },
    {
     "name": "stderr",
     "output_type": "stream",
     "text": [
      "/Users/ZachV/opt/anaconda3/lib/python3.7/site-packages/sklearn/tree/_classes.py:310: FutureWarning: The min_impurity_split parameter is deprecated. Its default value has changed from 1e-7 to 0 in version 0.23, and it will be removed in 0.25. Use the min_impurity_decrease parameter instead.\n",
      "  FutureWarning)\n"
     ]
    },
    {
     "name": "stdout",
     "output_type": "stream",
     "text": [
      "[CV]  ccp_alpha=0.1, max_leaf_nodes=10, min_impurity_split=0.3, total=   1.3s\n",
      "[CV] ccp_alpha=0.1, max_leaf_nodes=10, min_impurity_split=0.3 ........\n"
     ]
    },
    {
     "name": "stderr",
     "output_type": "stream",
     "text": [
      "/Users/ZachV/opt/anaconda3/lib/python3.7/site-packages/sklearn/tree/_classes.py:310: FutureWarning: The min_impurity_split parameter is deprecated. Its default value has changed from 1e-7 to 0 in version 0.23, and it will be removed in 0.25. Use the min_impurity_decrease parameter instead.\n",
      "  FutureWarning)\n"
     ]
    },
    {
     "name": "stdout",
     "output_type": "stream",
     "text": [
      "[CV]  ccp_alpha=0.1, max_leaf_nodes=10, min_impurity_split=0.3, total=   1.3s\n",
      "[CV] ccp_alpha=0.1, max_leaf_nodes=10, min_impurity_split=0.3 ........\n"
     ]
    },
    {
     "name": "stderr",
     "output_type": "stream",
     "text": [
      "/Users/ZachV/opt/anaconda3/lib/python3.7/site-packages/sklearn/tree/_classes.py:310: FutureWarning: The min_impurity_split parameter is deprecated. Its default value has changed from 1e-7 to 0 in version 0.23, and it will be removed in 0.25. Use the min_impurity_decrease parameter instead.\n",
      "  FutureWarning)\n"
     ]
    },
    {
     "name": "stdout",
     "output_type": "stream",
     "text": [
      "[CV]  ccp_alpha=0.1, max_leaf_nodes=10, min_impurity_split=0.3, total=   1.4s\n",
      "[CV] ccp_alpha=0.1, max_leaf_nodes=10, min_impurity_split=0.3 ........\n"
     ]
    },
    {
     "name": "stderr",
     "output_type": "stream",
     "text": [
      "/Users/ZachV/opt/anaconda3/lib/python3.7/site-packages/sklearn/tree/_classes.py:310: FutureWarning: The min_impurity_split parameter is deprecated. Its default value has changed from 1e-7 to 0 in version 0.23, and it will be removed in 0.25. Use the min_impurity_decrease parameter instead.\n",
      "  FutureWarning)\n"
     ]
    },
    {
     "name": "stdout",
     "output_type": "stream",
     "text": [
      "[CV]  ccp_alpha=0.1, max_leaf_nodes=10, min_impurity_split=0.3, total=   1.4s\n",
      "[CV] ccp_alpha=0.1, max_leaf_nodes=10, min_impurity_split=0.3 ........\n"
     ]
    },
    {
     "name": "stderr",
     "output_type": "stream",
     "text": [
      "/Users/ZachV/opt/anaconda3/lib/python3.7/site-packages/sklearn/tree/_classes.py:310: FutureWarning: The min_impurity_split parameter is deprecated. Its default value has changed from 1e-7 to 0 in version 0.23, and it will be removed in 0.25. Use the min_impurity_decrease parameter instead.\n",
      "  FutureWarning)\n"
     ]
    },
    {
     "name": "stdout",
     "output_type": "stream",
     "text": [
      "[CV]  ccp_alpha=0.1, max_leaf_nodes=10, min_impurity_split=0.3, total=   1.2s\n",
      "[CV] ccp_alpha=0.1, max_leaf_nodes=10, min_impurity_split=0.4 ........\n"
     ]
    },
    {
     "name": "stderr",
     "output_type": "stream",
     "text": [
      "/Users/ZachV/opt/anaconda3/lib/python3.7/site-packages/sklearn/tree/_classes.py:310: FutureWarning: The min_impurity_split parameter is deprecated. Its default value has changed from 1e-7 to 0 in version 0.23, and it will be removed in 0.25. Use the min_impurity_decrease parameter instead.\n",
      "  FutureWarning)\n"
     ]
    },
    {
     "name": "stdout",
     "output_type": "stream",
     "text": [
      "[CV]  ccp_alpha=0.1, max_leaf_nodes=10, min_impurity_split=0.4, total=   0.9s\n",
      "[CV] ccp_alpha=0.1, max_leaf_nodes=10, min_impurity_split=0.4 ........\n"
     ]
    },
    {
     "name": "stderr",
     "output_type": "stream",
     "text": [
      "/Users/ZachV/opt/anaconda3/lib/python3.7/site-packages/sklearn/tree/_classes.py:310: FutureWarning: The min_impurity_split parameter is deprecated. Its default value has changed from 1e-7 to 0 in version 0.23, and it will be removed in 0.25. Use the min_impurity_decrease parameter instead.\n",
      "  FutureWarning)\n"
     ]
    },
    {
     "name": "stdout",
     "output_type": "stream",
     "text": [
      "[CV]  ccp_alpha=0.1, max_leaf_nodes=10, min_impurity_split=0.4, total=   0.9s\n",
      "[CV] ccp_alpha=0.1, max_leaf_nodes=10, min_impurity_split=0.4 ........\n"
     ]
    },
    {
     "name": "stderr",
     "output_type": "stream",
     "text": [
      "/Users/ZachV/opt/anaconda3/lib/python3.7/site-packages/sklearn/tree/_classes.py:310: FutureWarning: The min_impurity_split parameter is deprecated. Its default value has changed from 1e-7 to 0 in version 0.23, and it will be removed in 0.25. Use the min_impurity_decrease parameter instead.\n",
      "  FutureWarning)\n"
     ]
    },
    {
     "name": "stdout",
     "output_type": "stream",
     "text": [
      "[CV]  ccp_alpha=0.1, max_leaf_nodes=10, min_impurity_split=0.4, total=   0.9s\n",
      "[CV] ccp_alpha=0.1, max_leaf_nodes=10, min_impurity_split=0.4 ........\n"
     ]
    },
    {
     "name": "stderr",
     "output_type": "stream",
     "text": [
      "/Users/ZachV/opt/anaconda3/lib/python3.7/site-packages/sklearn/tree/_classes.py:310: FutureWarning: The min_impurity_split parameter is deprecated. Its default value has changed from 1e-7 to 0 in version 0.23, and it will be removed in 0.25. Use the min_impurity_decrease parameter instead.\n",
      "  FutureWarning)\n"
     ]
    },
    {
     "name": "stdout",
     "output_type": "stream",
     "text": [
      "[CV]  ccp_alpha=0.1, max_leaf_nodes=10, min_impurity_split=0.4, total=   0.9s\n",
      "[CV] ccp_alpha=0.1, max_leaf_nodes=10, min_impurity_split=0.4 ........\n"
     ]
    },
    {
     "name": "stderr",
     "output_type": "stream",
     "text": [
      "/Users/ZachV/opt/anaconda3/lib/python3.7/site-packages/sklearn/tree/_classes.py:310: FutureWarning: The min_impurity_split parameter is deprecated. Its default value has changed from 1e-7 to 0 in version 0.23, and it will be removed in 0.25. Use the min_impurity_decrease parameter instead.\n",
      "  FutureWarning)\n"
     ]
    },
    {
     "name": "stdout",
     "output_type": "stream",
     "text": [
      "[CV]  ccp_alpha=0.1, max_leaf_nodes=10, min_impurity_split=0.4, total=   0.9s\n",
      "[CV] ccp_alpha=0.1, max_leaf_nodes=10, min_impurity_split=0.5 ........\n"
     ]
    },
    {
     "name": "stderr",
     "output_type": "stream",
     "text": [
      "/Users/ZachV/opt/anaconda3/lib/python3.7/site-packages/sklearn/tree/_classes.py:310: FutureWarning: The min_impurity_split parameter is deprecated. Its default value has changed from 1e-7 to 0 in version 0.23, and it will be removed in 0.25. Use the min_impurity_decrease parameter instead.\n",
      "  FutureWarning)\n"
     ]
    },
    {
     "name": "stdout",
     "output_type": "stream",
     "text": [
      "[CV]  ccp_alpha=0.1, max_leaf_nodes=10, min_impurity_split=0.5, total=   0.9s\n",
      "[CV] ccp_alpha=0.1, max_leaf_nodes=10, min_impurity_split=0.5 ........\n"
     ]
    },
    {
     "name": "stderr",
     "output_type": "stream",
     "text": [
      "/Users/ZachV/opt/anaconda3/lib/python3.7/site-packages/sklearn/tree/_classes.py:310: FutureWarning: The min_impurity_split parameter is deprecated. Its default value has changed from 1e-7 to 0 in version 0.23, and it will be removed in 0.25. Use the min_impurity_decrease parameter instead.\n",
      "  FutureWarning)\n"
     ]
    },
    {
     "name": "stdout",
     "output_type": "stream",
     "text": [
      "[CV]  ccp_alpha=0.1, max_leaf_nodes=10, min_impurity_split=0.5, total=   0.9s\n",
      "[CV] ccp_alpha=0.1, max_leaf_nodes=10, min_impurity_split=0.5 ........\n"
     ]
    },
    {
     "name": "stderr",
     "output_type": "stream",
     "text": [
      "/Users/ZachV/opt/anaconda3/lib/python3.7/site-packages/sklearn/tree/_classes.py:310: FutureWarning: The min_impurity_split parameter is deprecated. Its default value has changed from 1e-7 to 0 in version 0.23, and it will be removed in 0.25. Use the min_impurity_decrease parameter instead.\n",
      "  FutureWarning)\n"
     ]
    },
    {
     "name": "stdout",
     "output_type": "stream",
     "text": [
      "[CV]  ccp_alpha=0.1, max_leaf_nodes=10, min_impurity_split=0.5, total=   0.9s\n",
      "[CV] ccp_alpha=0.1, max_leaf_nodes=10, min_impurity_split=0.5 ........\n"
     ]
    },
    {
     "name": "stderr",
     "output_type": "stream",
     "text": [
      "/Users/ZachV/opt/anaconda3/lib/python3.7/site-packages/sklearn/tree/_classes.py:310: FutureWarning: The min_impurity_split parameter is deprecated. Its default value has changed from 1e-7 to 0 in version 0.23, and it will be removed in 0.25. Use the min_impurity_decrease parameter instead.\n",
      "  FutureWarning)\n"
     ]
    },
    {
     "name": "stdout",
     "output_type": "stream",
     "text": [
      "[CV]  ccp_alpha=0.1, max_leaf_nodes=10, min_impurity_split=0.5, total=   0.9s\n",
      "[CV] ccp_alpha=0.1, max_leaf_nodes=10, min_impurity_split=0.5 ........\n"
     ]
    },
    {
     "name": "stderr",
     "output_type": "stream",
     "text": [
      "/Users/ZachV/opt/anaconda3/lib/python3.7/site-packages/sklearn/tree/_classes.py:310: FutureWarning: The min_impurity_split parameter is deprecated. Its default value has changed from 1e-7 to 0 in version 0.23, and it will be removed in 0.25. Use the min_impurity_decrease parameter instead.\n",
      "  FutureWarning)\n"
     ]
    },
    {
     "name": "stdout",
     "output_type": "stream",
     "text": [
      "[CV]  ccp_alpha=0.1, max_leaf_nodes=10, min_impurity_split=0.5, total=   1.0s\n",
      "[CV] ccp_alpha=0.1, max_leaf_nodes=15, min_impurity_split=0 ..........\n"
     ]
    },
    {
     "name": "stderr",
     "output_type": "stream",
     "text": [
      "/Users/ZachV/opt/anaconda3/lib/python3.7/site-packages/sklearn/tree/_classes.py:310: FutureWarning: The min_impurity_split parameter is deprecated. Its default value has changed from 1e-7 to 0 in version 0.23, and it will be removed in 0.25. Use the min_impurity_decrease parameter instead.\n",
      "  FutureWarning)\n"
     ]
    },
    {
     "name": "stdout",
     "output_type": "stream",
     "text": [
      "[CV]  ccp_alpha=0.1, max_leaf_nodes=15, min_impurity_split=0, total=   2.5s\n",
      "[CV] ccp_alpha=0.1, max_leaf_nodes=15, min_impurity_split=0 ..........\n"
     ]
    },
    {
     "name": "stderr",
     "output_type": "stream",
     "text": [
      "/Users/ZachV/opt/anaconda3/lib/python3.7/site-packages/sklearn/tree/_classes.py:310: FutureWarning: The min_impurity_split parameter is deprecated. Its default value has changed from 1e-7 to 0 in version 0.23, and it will be removed in 0.25. Use the min_impurity_decrease parameter instead.\n",
      "  FutureWarning)\n"
     ]
    },
    {
     "name": "stdout",
     "output_type": "stream",
     "text": [
      "[CV]  ccp_alpha=0.1, max_leaf_nodes=15, min_impurity_split=0, total=   2.6s\n",
      "[CV] ccp_alpha=0.1, max_leaf_nodes=15, min_impurity_split=0 ..........\n"
     ]
    },
    {
     "name": "stderr",
     "output_type": "stream",
     "text": [
      "/Users/ZachV/opt/anaconda3/lib/python3.7/site-packages/sklearn/tree/_classes.py:310: FutureWarning: The min_impurity_split parameter is deprecated. Its default value has changed from 1e-7 to 0 in version 0.23, and it will be removed in 0.25. Use the min_impurity_decrease parameter instead.\n",
      "  FutureWarning)\n"
     ]
    },
    {
     "name": "stdout",
     "output_type": "stream",
     "text": [
      "[CV]  ccp_alpha=0.1, max_leaf_nodes=15, min_impurity_split=0, total=   2.5s\n",
      "[CV] ccp_alpha=0.1, max_leaf_nodes=15, min_impurity_split=0 ..........\n"
     ]
    },
    {
     "name": "stderr",
     "output_type": "stream",
     "text": [
      "/Users/ZachV/opt/anaconda3/lib/python3.7/site-packages/sklearn/tree/_classes.py:310: FutureWarning: The min_impurity_split parameter is deprecated. Its default value has changed from 1e-7 to 0 in version 0.23, and it will be removed in 0.25. Use the min_impurity_decrease parameter instead.\n",
      "  FutureWarning)\n"
     ]
    },
    {
     "name": "stdout",
     "output_type": "stream",
     "text": [
      "[CV]  ccp_alpha=0.1, max_leaf_nodes=15, min_impurity_split=0, total=   2.5s\n",
      "[CV] ccp_alpha=0.1, max_leaf_nodes=15, min_impurity_split=0 ..........\n"
     ]
    },
    {
     "name": "stderr",
     "output_type": "stream",
     "text": [
      "/Users/ZachV/opt/anaconda3/lib/python3.7/site-packages/sklearn/tree/_classes.py:310: FutureWarning: The min_impurity_split parameter is deprecated. Its default value has changed from 1e-7 to 0 in version 0.23, and it will be removed in 0.25. Use the min_impurity_decrease parameter instead.\n",
      "  FutureWarning)\n"
     ]
    },
    {
     "name": "stdout",
     "output_type": "stream",
     "text": [
      "[CV]  ccp_alpha=0.1, max_leaf_nodes=15, min_impurity_split=0, total=   2.6s\n",
      "[CV] ccp_alpha=0.1, max_leaf_nodes=15, min_impurity_split=0.1 ........\n"
     ]
    },
    {
     "name": "stderr",
     "output_type": "stream",
     "text": [
      "/Users/ZachV/opt/anaconda3/lib/python3.7/site-packages/sklearn/tree/_classes.py:310: FutureWarning: The min_impurity_split parameter is deprecated. Its default value has changed from 1e-7 to 0 in version 0.23, and it will be removed in 0.25. Use the min_impurity_decrease parameter instead.\n",
      "  FutureWarning)\n"
     ]
    },
    {
     "name": "stdout",
     "output_type": "stream",
     "text": [
      "[CV]  ccp_alpha=0.1, max_leaf_nodes=15, min_impurity_split=0.1, total=   2.1s\n",
      "[CV] ccp_alpha=0.1, max_leaf_nodes=15, min_impurity_split=0.1 ........\n"
     ]
    },
    {
     "name": "stderr",
     "output_type": "stream",
     "text": [
      "/Users/ZachV/opt/anaconda3/lib/python3.7/site-packages/sklearn/tree/_classes.py:310: FutureWarning: The min_impurity_split parameter is deprecated. Its default value has changed from 1e-7 to 0 in version 0.23, and it will be removed in 0.25. Use the min_impurity_decrease parameter instead.\n",
      "  FutureWarning)\n"
     ]
    },
    {
     "name": "stdout",
     "output_type": "stream",
     "text": [
      "[CV]  ccp_alpha=0.1, max_leaf_nodes=15, min_impurity_split=0.1, total=   2.1s\n",
      "[CV] ccp_alpha=0.1, max_leaf_nodes=15, min_impurity_split=0.1 ........\n"
     ]
    },
    {
     "name": "stderr",
     "output_type": "stream",
     "text": [
      "/Users/ZachV/opt/anaconda3/lib/python3.7/site-packages/sklearn/tree/_classes.py:310: FutureWarning: The min_impurity_split parameter is deprecated. Its default value has changed from 1e-7 to 0 in version 0.23, and it will be removed in 0.25. Use the min_impurity_decrease parameter instead.\n",
      "  FutureWarning)\n"
     ]
    },
    {
     "name": "stdout",
     "output_type": "stream",
     "text": [
      "[CV]  ccp_alpha=0.1, max_leaf_nodes=15, min_impurity_split=0.1, total=   2.1s\n",
      "[CV] ccp_alpha=0.1, max_leaf_nodes=15, min_impurity_split=0.1 ........\n"
     ]
    },
    {
     "name": "stderr",
     "output_type": "stream",
     "text": [
      "/Users/ZachV/opt/anaconda3/lib/python3.7/site-packages/sklearn/tree/_classes.py:310: FutureWarning: The min_impurity_split parameter is deprecated. Its default value has changed from 1e-7 to 0 in version 0.23, and it will be removed in 0.25. Use the min_impurity_decrease parameter instead.\n",
      "  FutureWarning)\n"
     ]
    },
    {
     "name": "stdout",
     "output_type": "stream",
     "text": [
      "[CV]  ccp_alpha=0.1, max_leaf_nodes=15, min_impurity_split=0.1, total=   1.9s\n",
      "[CV] ccp_alpha=0.1, max_leaf_nodes=15, min_impurity_split=0.1 ........\n"
     ]
    },
    {
     "name": "stderr",
     "output_type": "stream",
     "text": [
      "/Users/ZachV/opt/anaconda3/lib/python3.7/site-packages/sklearn/tree/_classes.py:310: FutureWarning: The min_impurity_split parameter is deprecated. Its default value has changed from 1e-7 to 0 in version 0.23, and it will be removed in 0.25. Use the min_impurity_decrease parameter instead.\n",
      "  FutureWarning)\n"
     ]
    },
    {
     "name": "stdout",
     "output_type": "stream",
     "text": [
      "[CV]  ccp_alpha=0.1, max_leaf_nodes=15, min_impurity_split=0.1, total=   1.8s\n",
      "[CV] ccp_alpha=0.1, max_leaf_nodes=15, min_impurity_split=0.2 ........\n"
     ]
    },
    {
     "name": "stderr",
     "output_type": "stream",
     "text": [
      "/Users/ZachV/opt/anaconda3/lib/python3.7/site-packages/sklearn/tree/_classes.py:310: FutureWarning: The min_impurity_split parameter is deprecated. Its default value has changed from 1e-7 to 0 in version 0.23, and it will be removed in 0.25. Use the min_impurity_decrease parameter instead.\n",
      "  FutureWarning)\n"
     ]
    },
    {
     "name": "stdout",
     "output_type": "stream",
     "text": [
      "[CV]  ccp_alpha=0.1, max_leaf_nodes=15, min_impurity_split=0.2, total=   1.5s\n",
      "[CV] ccp_alpha=0.1, max_leaf_nodes=15, min_impurity_split=0.2 ........\n"
     ]
    },
    {
     "name": "stderr",
     "output_type": "stream",
     "text": [
      "/Users/ZachV/opt/anaconda3/lib/python3.7/site-packages/sklearn/tree/_classes.py:310: FutureWarning: The min_impurity_split parameter is deprecated. Its default value has changed from 1e-7 to 0 in version 0.23, and it will be removed in 0.25. Use the min_impurity_decrease parameter instead.\n",
      "  FutureWarning)\n"
     ]
    },
    {
     "name": "stdout",
     "output_type": "stream",
     "text": [
      "[CV]  ccp_alpha=0.1, max_leaf_nodes=15, min_impurity_split=0.2, total=   1.4s\n",
      "[CV] ccp_alpha=0.1, max_leaf_nodes=15, min_impurity_split=0.2 ........\n"
     ]
    },
    {
     "name": "stderr",
     "output_type": "stream",
     "text": [
      "/Users/ZachV/opt/anaconda3/lib/python3.7/site-packages/sklearn/tree/_classes.py:310: FutureWarning: The min_impurity_split parameter is deprecated. Its default value has changed from 1e-7 to 0 in version 0.23, and it will be removed in 0.25. Use the min_impurity_decrease parameter instead.\n",
      "  FutureWarning)\n"
     ]
    },
    {
     "name": "stdout",
     "output_type": "stream",
     "text": [
      "[CV]  ccp_alpha=0.1, max_leaf_nodes=15, min_impurity_split=0.2, total=   1.6s\n",
      "[CV] ccp_alpha=0.1, max_leaf_nodes=15, min_impurity_split=0.2 ........\n"
     ]
    },
    {
     "name": "stderr",
     "output_type": "stream",
     "text": [
      "/Users/ZachV/opt/anaconda3/lib/python3.7/site-packages/sklearn/tree/_classes.py:310: FutureWarning: The min_impurity_split parameter is deprecated. Its default value has changed from 1e-7 to 0 in version 0.23, and it will be removed in 0.25. Use the min_impurity_decrease parameter instead.\n",
      "  FutureWarning)\n"
     ]
    },
    {
     "name": "stdout",
     "output_type": "stream",
     "text": [
      "[CV]  ccp_alpha=0.1, max_leaf_nodes=15, min_impurity_split=0.2, total=   1.6s\n",
      "[CV] ccp_alpha=0.1, max_leaf_nodes=15, min_impurity_split=0.2 ........\n"
     ]
    },
    {
     "name": "stderr",
     "output_type": "stream",
     "text": [
      "/Users/ZachV/opt/anaconda3/lib/python3.7/site-packages/sklearn/tree/_classes.py:310: FutureWarning: The min_impurity_split parameter is deprecated. Its default value has changed from 1e-7 to 0 in version 0.23, and it will be removed in 0.25. Use the min_impurity_decrease parameter instead.\n",
      "  FutureWarning)\n"
     ]
    },
    {
     "name": "stdout",
     "output_type": "stream",
     "text": [
      "[CV]  ccp_alpha=0.1, max_leaf_nodes=15, min_impurity_split=0.2, total=   1.5s\n",
      "[CV] ccp_alpha=0.1, max_leaf_nodes=15, min_impurity_split=0.3 ........\n"
     ]
    },
    {
     "name": "stderr",
     "output_type": "stream",
     "text": [
      "/Users/ZachV/opt/anaconda3/lib/python3.7/site-packages/sklearn/tree/_classes.py:310: FutureWarning: The min_impurity_split parameter is deprecated. Its default value has changed from 1e-7 to 0 in version 0.23, and it will be removed in 0.25. Use the min_impurity_decrease parameter instead.\n",
      "  FutureWarning)\n"
     ]
    },
    {
     "name": "stdout",
     "output_type": "stream",
     "text": [
      "[CV]  ccp_alpha=0.1, max_leaf_nodes=15, min_impurity_split=0.3, total=   1.3s\n",
      "[CV] ccp_alpha=0.1, max_leaf_nodes=15, min_impurity_split=0.3 ........\n"
     ]
    },
    {
     "name": "stderr",
     "output_type": "stream",
     "text": [
      "/Users/ZachV/opt/anaconda3/lib/python3.7/site-packages/sklearn/tree/_classes.py:310: FutureWarning: The min_impurity_split parameter is deprecated. Its default value has changed from 1e-7 to 0 in version 0.23, and it will be removed in 0.25. Use the min_impurity_decrease parameter instead.\n",
      "  FutureWarning)\n"
     ]
    },
    {
     "name": "stdout",
     "output_type": "stream",
     "text": [
      "[CV]  ccp_alpha=0.1, max_leaf_nodes=15, min_impurity_split=0.3, total=   1.3s\n",
      "[CV] ccp_alpha=0.1, max_leaf_nodes=15, min_impurity_split=0.3 ........\n"
     ]
    },
    {
     "name": "stderr",
     "output_type": "stream",
     "text": [
      "/Users/ZachV/opt/anaconda3/lib/python3.7/site-packages/sklearn/tree/_classes.py:310: FutureWarning: The min_impurity_split parameter is deprecated. Its default value has changed from 1e-7 to 0 in version 0.23, and it will be removed in 0.25. Use the min_impurity_decrease parameter instead.\n",
      "  FutureWarning)\n"
     ]
    },
    {
     "name": "stdout",
     "output_type": "stream",
     "text": [
      "[CV]  ccp_alpha=0.1, max_leaf_nodes=15, min_impurity_split=0.3, total=   1.3s\n",
      "[CV] ccp_alpha=0.1, max_leaf_nodes=15, min_impurity_split=0.3 ........\n"
     ]
    },
    {
     "name": "stderr",
     "output_type": "stream",
     "text": [
      "/Users/ZachV/opt/anaconda3/lib/python3.7/site-packages/sklearn/tree/_classes.py:310: FutureWarning: The min_impurity_split parameter is deprecated. Its default value has changed from 1e-7 to 0 in version 0.23, and it will be removed in 0.25. Use the min_impurity_decrease parameter instead.\n",
      "  FutureWarning)\n"
     ]
    },
    {
     "name": "stdout",
     "output_type": "stream",
     "text": [
      "[CV]  ccp_alpha=0.1, max_leaf_nodes=15, min_impurity_split=0.3, total=   1.3s\n",
      "[CV] ccp_alpha=0.1, max_leaf_nodes=15, min_impurity_split=0.3 ........\n"
     ]
    },
    {
     "name": "stderr",
     "output_type": "stream",
     "text": [
      "/Users/ZachV/opt/anaconda3/lib/python3.7/site-packages/sklearn/tree/_classes.py:310: FutureWarning: The min_impurity_split parameter is deprecated. Its default value has changed from 1e-7 to 0 in version 0.23, and it will be removed in 0.25. Use the min_impurity_decrease parameter instead.\n",
      "  FutureWarning)\n"
     ]
    },
    {
     "name": "stdout",
     "output_type": "stream",
     "text": [
      "[CV]  ccp_alpha=0.1, max_leaf_nodes=15, min_impurity_split=0.3, total=   1.3s\n",
      "[CV] ccp_alpha=0.1, max_leaf_nodes=15, min_impurity_split=0.4 ........\n"
     ]
    },
    {
     "name": "stderr",
     "output_type": "stream",
     "text": [
      "/Users/ZachV/opt/anaconda3/lib/python3.7/site-packages/sklearn/tree/_classes.py:310: FutureWarning: The min_impurity_split parameter is deprecated. Its default value has changed from 1e-7 to 0 in version 0.23, and it will be removed in 0.25. Use the min_impurity_decrease parameter instead.\n",
      "  FutureWarning)\n"
     ]
    },
    {
     "name": "stdout",
     "output_type": "stream",
     "text": [
      "[CV]  ccp_alpha=0.1, max_leaf_nodes=15, min_impurity_split=0.4, total=   0.9s\n",
      "[CV] ccp_alpha=0.1, max_leaf_nodes=15, min_impurity_split=0.4 ........\n"
     ]
    },
    {
     "name": "stderr",
     "output_type": "stream",
     "text": [
      "/Users/ZachV/opt/anaconda3/lib/python3.7/site-packages/sklearn/tree/_classes.py:310: FutureWarning: The min_impurity_split parameter is deprecated. Its default value has changed from 1e-7 to 0 in version 0.23, and it will be removed in 0.25. Use the min_impurity_decrease parameter instead.\n",
      "  FutureWarning)\n"
     ]
    },
    {
     "name": "stdout",
     "output_type": "stream",
     "text": [
      "[CV]  ccp_alpha=0.1, max_leaf_nodes=15, min_impurity_split=0.4, total=   0.9s\n",
      "[CV] ccp_alpha=0.1, max_leaf_nodes=15, min_impurity_split=0.4 ........\n"
     ]
    },
    {
     "name": "stderr",
     "output_type": "stream",
     "text": [
      "/Users/ZachV/opt/anaconda3/lib/python3.7/site-packages/sklearn/tree/_classes.py:310: FutureWarning: The min_impurity_split parameter is deprecated. Its default value has changed from 1e-7 to 0 in version 0.23, and it will be removed in 0.25. Use the min_impurity_decrease parameter instead.\n",
      "  FutureWarning)\n"
     ]
    },
    {
     "name": "stdout",
     "output_type": "stream",
     "text": [
      "[CV]  ccp_alpha=0.1, max_leaf_nodes=15, min_impurity_split=0.4, total=   0.9s\n",
      "[CV] ccp_alpha=0.1, max_leaf_nodes=15, min_impurity_split=0.4 ........\n"
     ]
    },
    {
     "name": "stderr",
     "output_type": "stream",
     "text": [
      "/Users/ZachV/opt/anaconda3/lib/python3.7/site-packages/sklearn/tree/_classes.py:310: FutureWarning: The min_impurity_split parameter is deprecated. Its default value has changed from 1e-7 to 0 in version 0.23, and it will be removed in 0.25. Use the min_impurity_decrease parameter instead.\n",
      "  FutureWarning)\n"
     ]
    },
    {
     "name": "stdout",
     "output_type": "stream",
     "text": [
      "[CV]  ccp_alpha=0.1, max_leaf_nodes=15, min_impurity_split=0.4, total=   0.9s\n",
      "[CV] ccp_alpha=0.1, max_leaf_nodes=15, min_impurity_split=0.4 ........\n"
     ]
    },
    {
     "name": "stderr",
     "output_type": "stream",
     "text": [
      "/Users/ZachV/opt/anaconda3/lib/python3.7/site-packages/sklearn/tree/_classes.py:310: FutureWarning: The min_impurity_split parameter is deprecated. Its default value has changed from 1e-7 to 0 in version 0.23, and it will be removed in 0.25. Use the min_impurity_decrease parameter instead.\n",
      "  FutureWarning)\n"
     ]
    },
    {
     "name": "stdout",
     "output_type": "stream",
     "text": [
      "[CV]  ccp_alpha=0.1, max_leaf_nodes=15, min_impurity_split=0.4, total=   0.9s\n",
      "[CV] ccp_alpha=0.1, max_leaf_nodes=15, min_impurity_split=0.5 ........\n"
     ]
    },
    {
     "name": "stderr",
     "output_type": "stream",
     "text": [
      "/Users/ZachV/opt/anaconda3/lib/python3.7/site-packages/sklearn/tree/_classes.py:310: FutureWarning: The min_impurity_split parameter is deprecated. Its default value has changed from 1e-7 to 0 in version 0.23, and it will be removed in 0.25. Use the min_impurity_decrease parameter instead.\n",
      "  FutureWarning)\n"
     ]
    },
    {
     "name": "stdout",
     "output_type": "stream",
     "text": [
      "[CV]  ccp_alpha=0.1, max_leaf_nodes=15, min_impurity_split=0.5, total=   0.9s\n",
      "[CV] ccp_alpha=0.1, max_leaf_nodes=15, min_impurity_split=0.5 ........\n"
     ]
    },
    {
     "name": "stderr",
     "output_type": "stream",
     "text": [
      "/Users/ZachV/opt/anaconda3/lib/python3.7/site-packages/sklearn/tree/_classes.py:310: FutureWarning: The min_impurity_split parameter is deprecated. Its default value has changed from 1e-7 to 0 in version 0.23, and it will be removed in 0.25. Use the min_impurity_decrease parameter instead.\n",
      "  FutureWarning)\n"
     ]
    },
    {
     "name": "stdout",
     "output_type": "stream",
     "text": [
      "[CV]  ccp_alpha=0.1, max_leaf_nodes=15, min_impurity_split=0.5, total=   0.9s\n",
      "[CV] ccp_alpha=0.1, max_leaf_nodes=15, min_impurity_split=0.5 ........\n"
     ]
    },
    {
     "name": "stderr",
     "output_type": "stream",
     "text": [
      "/Users/ZachV/opt/anaconda3/lib/python3.7/site-packages/sklearn/tree/_classes.py:310: FutureWarning: The min_impurity_split parameter is deprecated. Its default value has changed from 1e-7 to 0 in version 0.23, and it will be removed in 0.25. Use the min_impurity_decrease parameter instead.\n",
      "  FutureWarning)\n"
     ]
    },
    {
     "name": "stdout",
     "output_type": "stream",
     "text": [
      "[CV]  ccp_alpha=0.1, max_leaf_nodes=15, min_impurity_split=0.5, total=   0.9s\n",
      "[CV] ccp_alpha=0.1, max_leaf_nodes=15, min_impurity_split=0.5 ........\n"
     ]
    },
    {
     "name": "stderr",
     "output_type": "stream",
     "text": [
      "/Users/ZachV/opt/anaconda3/lib/python3.7/site-packages/sklearn/tree/_classes.py:310: FutureWarning: The min_impurity_split parameter is deprecated. Its default value has changed from 1e-7 to 0 in version 0.23, and it will be removed in 0.25. Use the min_impurity_decrease parameter instead.\n",
      "  FutureWarning)\n"
     ]
    },
    {
     "name": "stdout",
     "output_type": "stream",
     "text": [
      "[CV]  ccp_alpha=0.1, max_leaf_nodes=15, min_impurity_split=0.5, total=   0.9s\n",
      "[CV] ccp_alpha=0.1, max_leaf_nodes=15, min_impurity_split=0.5 ........\n"
     ]
    },
    {
     "name": "stderr",
     "output_type": "stream",
     "text": [
      "/Users/ZachV/opt/anaconda3/lib/python3.7/site-packages/sklearn/tree/_classes.py:310: FutureWarning: The min_impurity_split parameter is deprecated. Its default value has changed from 1e-7 to 0 in version 0.23, and it will be removed in 0.25. Use the min_impurity_decrease parameter instead.\n",
      "  FutureWarning)\n"
     ]
    },
    {
     "name": "stdout",
     "output_type": "stream",
     "text": [
      "[CV]  ccp_alpha=0.1, max_leaf_nodes=15, min_impurity_split=0.5, total=   0.9s\n",
      "[CV] ccp_alpha=0.1, max_leaf_nodes=25, min_impurity_split=0 ..........\n"
     ]
    },
    {
     "name": "stderr",
     "output_type": "stream",
     "text": [
      "/Users/ZachV/opt/anaconda3/lib/python3.7/site-packages/sklearn/tree/_classes.py:310: FutureWarning: The min_impurity_split parameter is deprecated. Its default value has changed from 1e-7 to 0 in version 0.23, and it will be removed in 0.25. Use the min_impurity_decrease parameter instead.\n",
      "  FutureWarning)\n"
     ]
    },
    {
     "name": "stdout",
     "output_type": "stream",
     "text": [
      "[CV]  ccp_alpha=0.1, max_leaf_nodes=25, min_impurity_split=0, total=   2.4s\n",
      "[CV] ccp_alpha=0.1, max_leaf_nodes=25, min_impurity_split=0 ..........\n"
     ]
    },
    {
     "name": "stderr",
     "output_type": "stream",
     "text": [
      "/Users/ZachV/opt/anaconda3/lib/python3.7/site-packages/sklearn/tree/_classes.py:310: FutureWarning: The min_impurity_split parameter is deprecated. Its default value has changed from 1e-7 to 0 in version 0.23, and it will be removed in 0.25. Use the min_impurity_decrease parameter instead.\n",
      "  FutureWarning)\n"
     ]
    },
    {
     "name": "stdout",
     "output_type": "stream",
     "text": [
      "[CV]  ccp_alpha=0.1, max_leaf_nodes=25, min_impurity_split=0, total=   2.4s\n",
      "[CV] ccp_alpha=0.1, max_leaf_nodes=25, min_impurity_split=0 ..........\n"
     ]
    },
    {
     "name": "stderr",
     "output_type": "stream",
     "text": [
      "/Users/ZachV/opt/anaconda3/lib/python3.7/site-packages/sklearn/tree/_classes.py:310: FutureWarning: The min_impurity_split parameter is deprecated. Its default value has changed from 1e-7 to 0 in version 0.23, and it will be removed in 0.25. Use the min_impurity_decrease parameter instead.\n",
      "  FutureWarning)\n"
     ]
    },
    {
     "name": "stdout",
     "output_type": "stream",
     "text": [
      "[CV]  ccp_alpha=0.1, max_leaf_nodes=25, min_impurity_split=0, total=   2.4s\n",
      "[CV] ccp_alpha=0.1, max_leaf_nodes=25, min_impurity_split=0 ..........\n"
     ]
    },
    {
     "name": "stderr",
     "output_type": "stream",
     "text": [
      "/Users/ZachV/opt/anaconda3/lib/python3.7/site-packages/sklearn/tree/_classes.py:310: FutureWarning: The min_impurity_split parameter is deprecated. Its default value has changed from 1e-7 to 0 in version 0.23, and it will be removed in 0.25. Use the min_impurity_decrease parameter instead.\n",
      "  FutureWarning)\n"
     ]
    },
    {
     "name": "stdout",
     "output_type": "stream",
     "text": [
      "[CV]  ccp_alpha=0.1, max_leaf_nodes=25, min_impurity_split=0, total=   2.5s\n",
      "[CV] ccp_alpha=0.1, max_leaf_nodes=25, min_impurity_split=0 ..........\n"
     ]
    },
    {
     "name": "stderr",
     "output_type": "stream",
     "text": [
      "/Users/ZachV/opt/anaconda3/lib/python3.7/site-packages/sklearn/tree/_classes.py:310: FutureWarning: The min_impurity_split parameter is deprecated. Its default value has changed from 1e-7 to 0 in version 0.23, and it will be removed in 0.25. Use the min_impurity_decrease parameter instead.\n",
      "  FutureWarning)\n"
     ]
    },
    {
     "name": "stdout",
     "output_type": "stream",
     "text": [
      "[CV]  ccp_alpha=0.1, max_leaf_nodes=25, min_impurity_split=0, total=   2.4s\n",
      "[CV] ccp_alpha=0.1, max_leaf_nodes=25, min_impurity_split=0.1 ........\n"
     ]
    },
    {
     "name": "stderr",
     "output_type": "stream",
     "text": [
      "/Users/ZachV/opt/anaconda3/lib/python3.7/site-packages/sklearn/tree/_classes.py:310: FutureWarning: The min_impurity_split parameter is deprecated. Its default value has changed from 1e-7 to 0 in version 0.23, and it will be removed in 0.25. Use the min_impurity_decrease parameter instead.\n",
      "  FutureWarning)\n"
     ]
    },
    {
     "name": "stdout",
     "output_type": "stream",
     "text": [
      "[CV]  ccp_alpha=0.1, max_leaf_nodes=25, min_impurity_split=0.1, total=   1.8s\n",
      "[CV] ccp_alpha=0.1, max_leaf_nodes=25, min_impurity_split=0.1 ........\n"
     ]
    },
    {
     "name": "stderr",
     "output_type": "stream",
     "text": [
      "/Users/ZachV/opt/anaconda3/lib/python3.7/site-packages/sklearn/tree/_classes.py:310: FutureWarning: The min_impurity_split parameter is deprecated. Its default value has changed from 1e-7 to 0 in version 0.23, and it will be removed in 0.25. Use the min_impurity_decrease parameter instead.\n",
      "  FutureWarning)\n"
     ]
    },
    {
     "name": "stdout",
     "output_type": "stream",
     "text": [
      "[CV]  ccp_alpha=0.1, max_leaf_nodes=25, min_impurity_split=0.1, total=   1.8s\n",
      "[CV] ccp_alpha=0.1, max_leaf_nodes=25, min_impurity_split=0.1 ........\n"
     ]
    },
    {
     "name": "stderr",
     "output_type": "stream",
     "text": [
      "/Users/ZachV/opt/anaconda3/lib/python3.7/site-packages/sklearn/tree/_classes.py:310: FutureWarning: The min_impurity_split parameter is deprecated. Its default value has changed from 1e-7 to 0 in version 0.23, and it will be removed in 0.25. Use the min_impurity_decrease parameter instead.\n",
      "  FutureWarning)\n"
     ]
    },
    {
     "name": "stdout",
     "output_type": "stream",
     "text": [
      "[CV]  ccp_alpha=0.1, max_leaf_nodes=25, min_impurity_split=0.1, total=   1.8s\n",
      "[CV] ccp_alpha=0.1, max_leaf_nodes=25, min_impurity_split=0.1 ........\n"
     ]
    },
    {
     "name": "stderr",
     "output_type": "stream",
     "text": [
      "/Users/ZachV/opt/anaconda3/lib/python3.7/site-packages/sklearn/tree/_classes.py:310: FutureWarning: The min_impurity_split parameter is deprecated. Its default value has changed from 1e-7 to 0 in version 0.23, and it will be removed in 0.25. Use the min_impurity_decrease parameter instead.\n",
      "  FutureWarning)\n"
     ]
    },
    {
     "name": "stdout",
     "output_type": "stream",
     "text": [
      "[CV]  ccp_alpha=0.1, max_leaf_nodes=25, min_impurity_split=0.1, total=   1.8s\n",
      "[CV] ccp_alpha=0.1, max_leaf_nodes=25, min_impurity_split=0.1 ........\n"
     ]
    },
    {
     "name": "stderr",
     "output_type": "stream",
     "text": [
      "/Users/ZachV/opt/anaconda3/lib/python3.7/site-packages/sklearn/tree/_classes.py:310: FutureWarning: The min_impurity_split parameter is deprecated. Its default value has changed from 1e-7 to 0 in version 0.23, and it will be removed in 0.25. Use the min_impurity_decrease parameter instead.\n",
      "  FutureWarning)\n"
     ]
    },
    {
     "name": "stdout",
     "output_type": "stream",
     "text": [
      "[CV]  ccp_alpha=0.1, max_leaf_nodes=25, min_impurity_split=0.1, total=   1.8s\n",
      "[CV] ccp_alpha=0.1, max_leaf_nodes=25, min_impurity_split=0.2 ........\n"
     ]
    },
    {
     "name": "stderr",
     "output_type": "stream",
     "text": [
      "/Users/ZachV/opt/anaconda3/lib/python3.7/site-packages/sklearn/tree/_classes.py:310: FutureWarning: The min_impurity_split parameter is deprecated. Its default value has changed from 1e-7 to 0 in version 0.23, and it will be removed in 0.25. Use the min_impurity_decrease parameter instead.\n",
      "  FutureWarning)\n"
     ]
    },
    {
     "name": "stdout",
     "output_type": "stream",
     "text": [
      "[CV]  ccp_alpha=0.1, max_leaf_nodes=25, min_impurity_split=0.2, total=   1.5s\n",
      "[CV] ccp_alpha=0.1, max_leaf_nodes=25, min_impurity_split=0.2 ........\n"
     ]
    },
    {
     "name": "stderr",
     "output_type": "stream",
     "text": [
      "/Users/ZachV/opt/anaconda3/lib/python3.7/site-packages/sklearn/tree/_classes.py:310: FutureWarning: The min_impurity_split parameter is deprecated. Its default value has changed from 1e-7 to 0 in version 0.23, and it will be removed in 0.25. Use the min_impurity_decrease parameter instead.\n",
      "  FutureWarning)\n"
     ]
    },
    {
     "name": "stdout",
     "output_type": "stream",
     "text": [
      "[CV]  ccp_alpha=0.1, max_leaf_nodes=25, min_impurity_split=0.2, total=   1.6s\n",
      "[CV] ccp_alpha=0.1, max_leaf_nodes=25, min_impurity_split=0.2 ........\n"
     ]
    },
    {
     "name": "stderr",
     "output_type": "stream",
     "text": [
      "/Users/ZachV/opt/anaconda3/lib/python3.7/site-packages/sklearn/tree/_classes.py:310: FutureWarning: The min_impurity_split parameter is deprecated. Its default value has changed from 1e-7 to 0 in version 0.23, and it will be removed in 0.25. Use the min_impurity_decrease parameter instead.\n",
      "  FutureWarning)\n"
     ]
    },
    {
     "name": "stdout",
     "output_type": "stream",
     "text": [
      "[CV]  ccp_alpha=0.1, max_leaf_nodes=25, min_impurity_split=0.2, total=   1.6s\n",
      "[CV] ccp_alpha=0.1, max_leaf_nodes=25, min_impurity_split=0.2 ........\n"
     ]
    },
    {
     "name": "stderr",
     "output_type": "stream",
     "text": [
      "/Users/ZachV/opt/anaconda3/lib/python3.7/site-packages/sklearn/tree/_classes.py:310: FutureWarning: The min_impurity_split parameter is deprecated. Its default value has changed from 1e-7 to 0 in version 0.23, and it will be removed in 0.25. Use the min_impurity_decrease parameter instead.\n",
      "  FutureWarning)\n"
     ]
    },
    {
     "name": "stdout",
     "output_type": "stream",
     "text": [
      "[CV]  ccp_alpha=0.1, max_leaf_nodes=25, min_impurity_split=0.2, total=   1.5s\n",
      "[CV] ccp_alpha=0.1, max_leaf_nodes=25, min_impurity_split=0.2 ........\n"
     ]
    },
    {
     "name": "stderr",
     "output_type": "stream",
     "text": [
      "/Users/ZachV/opt/anaconda3/lib/python3.7/site-packages/sklearn/tree/_classes.py:310: FutureWarning: The min_impurity_split parameter is deprecated. Its default value has changed from 1e-7 to 0 in version 0.23, and it will be removed in 0.25. Use the min_impurity_decrease parameter instead.\n",
      "  FutureWarning)\n"
     ]
    },
    {
     "name": "stdout",
     "output_type": "stream",
     "text": [
      "[CV]  ccp_alpha=0.1, max_leaf_nodes=25, min_impurity_split=0.2, total=   1.5s\n",
      "[CV] ccp_alpha=0.1, max_leaf_nodes=25, min_impurity_split=0.3 ........\n"
     ]
    },
    {
     "name": "stderr",
     "output_type": "stream",
     "text": [
      "/Users/ZachV/opt/anaconda3/lib/python3.7/site-packages/sklearn/tree/_classes.py:310: FutureWarning: The min_impurity_split parameter is deprecated. Its default value has changed from 1e-7 to 0 in version 0.23, and it will be removed in 0.25. Use the min_impurity_decrease parameter instead.\n",
      "  FutureWarning)\n"
     ]
    },
    {
     "name": "stdout",
     "output_type": "stream",
     "text": [
      "[CV]  ccp_alpha=0.1, max_leaf_nodes=25, min_impurity_split=0.3, total=   1.3s\n",
      "[CV] ccp_alpha=0.1, max_leaf_nodes=25, min_impurity_split=0.3 ........\n"
     ]
    },
    {
     "name": "stderr",
     "output_type": "stream",
     "text": [
      "/Users/ZachV/opt/anaconda3/lib/python3.7/site-packages/sklearn/tree/_classes.py:310: FutureWarning: The min_impurity_split parameter is deprecated. Its default value has changed from 1e-7 to 0 in version 0.23, and it will be removed in 0.25. Use the min_impurity_decrease parameter instead.\n",
      "  FutureWarning)\n"
     ]
    },
    {
     "name": "stdout",
     "output_type": "stream",
     "text": [
      "[CV]  ccp_alpha=0.1, max_leaf_nodes=25, min_impurity_split=0.3, total=   1.3s\n",
      "[CV] ccp_alpha=0.1, max_leaf_nodes=25, min_impurity_split=0.3 ........\n"
     ]
    },
    {
     "name": "stderr",
     "output_type": "stream",
     "text": [
      "/Users/ZachV/opt/anaconda3/lib/python3.7/site-packages/sklearn/tree/_classes.py:310: FutureWarning: The min_impurity_split parameter is deprecated. Its default value has changed from 1e-7 to 0 in version 0.23, and it will be removed in 0.25. Use the min_impurity_decrease parameter instead.\n",
      "  FutureWarning)\n"
     ]
    },
    {
     "name": "stdout",
     "output_type": "stream",
     "text": [
      "[CV]  ccp_alpha=0.1, max_leaf_nodes=25, min_impurity_split=0.3, total=   1.3s\n",
      "[CV] ccp_alpha=0.1, max_leaf_nodes=25, min_impurity_split=0.3 ........\n"
     ]
    },
    {
     "name": "stderr",
     "output_type": "stream",
     "text": [
      "/Users/ZachV/opt/anaconda3/lib/python3.7/site-packages/sklearn/tree/_classes.py:310: FutureWarning: The min_impurity_split parameter is deprecated. Its default value has changed from 1e-7 to 0 in version 0.23, and it will be removed in 0.25. Use the min_impurity_decrease parameter instead.\n",
      "  FutureWarning)\n"
     ]
    },
    {
     "name": "stdout",
     "output_type": "stream",
     "text": [
      "[CV]  ccp_alpha=0.1, max_leaf_nodes=25, min_impurity_split=0.3, total=   1.3s\n",
      "[CV] ccp_alpha=0.1, max_leaf_nodes=25, min_impurity_split=0.3 ........\n"
     ]
    },
    {
     "name": "stderr",
     "output_type": "stream",
     "text": [
      "/Users/ZachV/opt/anaconda3/lib/python3.7/site-packages/sklearn/tree/_classes.py:310: FutureWarning: The min_impurity_split parameter is deprecated. Its default value has changed from 1e-7 to 0 in version 0.23, and it will be removed in 0.25. Use the min_impurity_decrease parameter instead.\n",
      "  FutureWarning)\n"
     ]
    },
    {
     "name": "stdout",
     "output_type": "stream",
     "text": [
      "[CV]  ccp_alpha=0.1, max_leaf_nodes=25, min_impurity_split=0.3, total=   1.3s\n",
      "[CV] ccp_alpha=0.1, max_leaf_nodes=25, min_impurity_split=0.4 ........\n"
     ]
    },
    {
     "name": "stderr",
     "output_type": "stream",
     "text": [
      "/Users/ZachV/opt/anaconda3/lib/python3.7/site-packages/sklearn/tree/_classes.py:310: FutureWarning: The min_impurity_split parameter is deprecated. Its default value has changed from 1e-7 to 0 in version 0.23, and it will be removed in 0.25. Use the min_impurity_decrease parameter instead.\n",
      "  FutureWarning)\n"
     ]
    },
    {
     "name": "stdout",
     "output_type": "stream",
     "text": [
      "[CV]  ccp_alpha=0.1, max_leaf_nodes=25, min_impurity_split=0.4, total=   0.9s\n",
      "[CV] ccp_alpha=0.1, max_leaf_nodes=25, min_impurity_split=0.4 ........\n"
     ]
    },
    {
     "name": "stderr",
     "output_type": "stream",
     "text": [
      "/Users/ZachV/opt/anaconda3/lib/python3.7/site-packages/sklearn/tree/_classes.py:310: FutureWarning: The min_impurity_split parameter is deprecated. Its default value has changed from 1e-7 to 0 in version 0.23, and it will be removed in 0.25. Use the min_impurity_decrease parameter instead.\n",
      "  FutureWarning)\n"
     ]
    },
    {
     "name": "stdout",
     "output_type": "stream",
     "text": [
      "[CV]  ccp_alpha=0.1, max_leaf_nodes=25, min_impurity_split=0.4, total=   0.9s\n",
      "[CV] ccp_alpha=0.1, max_leaf_nodes=25, min_impurity_split=0.4 ........\n"
     ]
    },
    {
     "name": "stderr",
     "output_type": "stream",
     "text": [
      "/Users/ZachV/opt/anaconda3/lib/python3.7/site-packages/sklearn/tree/_classes.py:310: FutureWarning: The min_impurity_split parameter is deprecated. Its default value has changed from 1e-7 to 0 in version 0.23, and it will be removed in 0.25. Use the min_impurity_decrease parameter instead.\n",
      "  FutureWarning)\n"
     ]
    },
    {
     "name": "stdout",
     "output_type": "stream",
     "text": [
      "[CV]  ccp_alpha=0.1, max_leaf_nodes=25, min_impurity_split=0.4, total=   0.9s\n",
      "[CV] ccp_alpha=0.1, max_leaf_nodes=25, min_impurity_split=0.4 ........\n"
     ]
    },
    {
     "name": "stderr",
     "output_type": "stream",
     "text": [
      "/Users/ZachV/opt/anaconda3/lib/python3.7/site-packages/sklearn/tree/_classes.py:310: FutureWarning: The min_impurity_split parameter is deprecated. Its default value has changed from 1e-7 to 0 in version 0.23, and it will be removed in 0.25. Use the min_impurity_decrease parameter instead.\n",
      "  FutureWarning)\n"
     ]
    },
    {
     "name": "stdout",
     "output_type": "stream",
     "text": [
      "[CV]  ccp_alpha=0.1, max_leaf_nodes=25, min_impurity_split=0.4, total=   0.9s\n",
      "[CV] ccp_alpha=0.1, max_leaf_nodes=25, min_impurity_split=0.4 ........\n"
     ]
    },
    {
     "name": "stderr",
     "output_type": "stream",
     "text": [
      "/Users/ZachV/opt/anaconda3/lib/python3.7/site-packages/sklearn/tree/_classes.py:310: FutureWarning: The min_impurity_split parameter is deprecated. Its default value has changed from 1e-7 to 0 in version 0.23, and it will be removed in 0.25. Use the min_impurity_decrease parameter instead.\n",
      "  FutureWarning)\n"
     ]
    },
    {
     "name": "stdout",
     "output_type": "stream",
     "text": [
      "[CV]  ccp_alpha=0.1, max_leaf_nodes=25, min_impurity_split=0.4, total=   0.9s\n",
      "[CV] ccp_alpha=0.1, max_leaf_nodes=25, min_impurity_split=0.5 ........\n"
     ]
    },
    {
     "name": "stderr",
     "output_type": "stream",
     "text": [
      "/Users/ZachV/opt/anaconda3/lib/python3.7/site-packages/sklearn/tree/_classes.py:310: FutureWarning: The min_impurity_split parameter is deprecated. Its default value has changed from 1e-7 to 0 in version 0.23, and it will be removed in 0.25. Use the min_impurity_decrease parameter instead.\n",
      "  FutureWarning)\n"
     ]
    },
    {
     "name": "stdout",
     "output_type": "stream",
     "text": [
      "[CV]  ccp_alpha=0.1, max_leaf_nodes=25, min_impurity_split=0.5, total=   0.9s\n",
      "[CV] ccp_alpha=0.1, max_leaf_nodes=25, min_impurity_split=0.5 ........\n"
     ]
    },
    {
     "name": "stderr",
     "output_type": "stream",
     "text": [
      "/Users/ZachV/opt/anaconda3/lib/python3.7/site-packages/sklearn/tree/_classes.py:310: FutureWarning: The min_impurity_split parameter is deprecated. Its default value has changed from 1e-7 to 0 in version 0.23, and it will be removed in 0.25. Use the min_impurity_decrease parameter instead.\n",
      "  FutureWarning)\n"
     ]
    },
    {
     "name": "stdout",
     "output_type": "stream",
     "text": [
      "[CV]  ccp_alpha=0.1, max_leaf_nodes=25, min_impurity_split=0.5, total=   0.9s\n",
      "[CV] ccp_alpha=0.1, max_leaf_nodes=25, min_impurity_split=0.5 ........\n"
     ]
    },
    {
     "name": "stderr",
     "output_type": "stream",
     "text": [
      "/Users/ZachV/opt/anaconda3/lib/python3.7/site-packages/sklearn/tree/_classes.py:310: FutureWarning: The min_impurity_split parameter is deprecated. Its default value has changed from 1e-7 to 0 in version 0.23, and it will be removed in 0.25. Use the min_impurity_decrease parameter instead.\n",
      "  FutureWarning)\n"
     ]
    },
    {
     "name": "stdout",
     "output_type": "stream",
     "text": [
      "[CV]  ccp_alpha=0.1, max_leaf_nodes=25, min_impurity_split=0.5, total=   0.9s\n",
      "[CV] ccp_alpha=0.1, max_leaf_nodes=25, min_impurity_split=0.5 ........\n"
     ]
    },
    {
     "name": "stderr",
     "output_type": "stream",
     "text": [
      "/Users/ZachV/opt/anaconda3/lib/python3.7/site-packages/sklearn/tree/_classes.py:310: FutureWarning: The min_impurity_split parameter is deprecated. Its default value has changed from 1e-7 to 0 in version 0.23, and it will be removed in 0.25. Use the min_impurity_decrease parameter instead.\n",
      "  FutureWarning)\n"
     ]
    },
    {
     "name": "stdout",
     "output_type": "stream",
     "text": [
      "[CV]  ccp_alpha=0.1, max_leaf_nodes=25, min_impurity_split=0.5, total=   0.9s\n",
      "[CV] ccp_alpha=0.1, max_leaf_nodes=25, min_impurity_split=0.5 ........\n"
     ]
    },
    {
     "name": "stderr",
     "output_type": "stream",
     "text": [
      "/Users/ZachV/opt/anaconda3/lib/python3.7/site-packages/sklearn/tree/_classes.py:310: FutureWarning: The min_impurity_split parameter is deprecated. Its default value has changed from 1e-7 to 0 in version 0.23, and it will be removed in 0.25. Use the min_impurity_decrease parameter instead.\n",
      "  FutureWarning)\n"
     ]
    },
    {
     "name": "stdout",
     "output_type": "stream",
     "text": [
      "[CV]  ccp_alpha=0.1, max_leaf_nodes=25, min_impurity_split=0.5, total=   0.9s\n",
      "[CV] ccp_alpha=0.1, max_leaf_nodes=100, min_impurity_split=0 .........\n"
     ]
    },
    {
     "name": "stderr",
     "output_type": "stream",
     "text": [
      "/Users/ZachV/opt/anaconda3/lib/python3.7/site-packages/sklearn/tree/_classes.py:310: FutureWarning: The min_impurity_split parameter is deprecated. Its default value has changed from 1e-7 to 0 in version 0.23, and it will be removed in 0.25. Use the min_impurity_decrease parameter instead.\n",
      "  FutureWarning)\n"
     ]
    },
    {
     "name": "stdout",
     "output_type": "stream",
     "text": [
      "[CV]  ccp_alpha=0.1, max_leaf_nodes=100, min_impurity_split=0, total=   2.6s\n",
      "[CV] ccp_alpha=0.1, max_leaf_nodes=100, min_impurity_split=0 .........\n"
     ]
    },
    {
     "name": "stderr",
     "output_type": "stream",
     "text": [
      "/Users/ZachV/opt/anaconda3/lib/python3.7/site-packages/sklearn/tree/_classes.py:310: FutureWarning: The min_impurity_split parameter is deprecated. Its default value has changed from 1e-7 to 0 in version 0.23, and it will be removed in 0.25. Use the min_impurity_decrease parameter instead.\n",
      "  FutureWarning)\n"
     ]
    },
    {
     "name": "stdout",
     "output_type": "stream",
     "text": [
      "[CV]  ccp_alpha=0.1, max_leaf_nodes=100, min_impurity_split=0, total=   2.7s\n",
      "[CV] ccp_alpha=0.1, max_leaf_nodes=100, min_impurity_split=0 .........\n"
     ]
    },
    {
     "name": "stderr",
     "output_type": "stream",
     "text": [
      "/Users/ZachV/opt/anaconda3/lib/python3.7/site-packages/sklearn/tree/_classes.py:310: FutureWarning: The min_impurity_split parameter is deprecated. Its default value has changed from 1e-7 to 0 in version 0.23, and it will be removed in 0.25. Use the min_impurity_decrease parameter instead.\n",
      "  FutureWarning)\n"
     ]
    },
    {
     "name": "stdout",
     "output_type": "stream",
     "text": [
      "[CV]  ccp_alpha=0.1, max_leaf_nodes=100, min_impurity_split=0, total=   2.8s\n",
      "[CV] ccp_alpha=0.1, max_leaf_nodes=100, min_impurity_split=0 .........\n"
     ]
    },
    {
     "name": "stderr",
     "output_type": "stream",
     "text": [
      "/Users/ZachV/opt/anaconda3/lib/python3.7/site-packages/sklearn/tree/_classes.py:310: FutureWarning: The min_impurity_split parameter is deprecated. Its default value has changed from 1e-7 to 0 in version 0.23, and it will be removed in 0.25. Use the min_impurity_decrease parameter instead.\n",
      "  FutureWarning)\n"
     ]
    },
    {
     "name": "stdout",
     "output_type": "stream",
     "text": [
      "[CV]  ccp_alpha=0.1, max_leaf_nodes=100, min_impurity_split=0, total=   2.6s\n",
      "[CV] ccp_alpha=0.1, max_leaf_nodes=100, min_impurity_split=0 .........\n"
     ]
    },
    {
     "name": "stderr",
     "output_type": "stream",
     "text": [
      "/Users/ZachV/opt/anaconda3/lib/python3.7/site-packages/sklearn/tree/_classes.py:310: FutureWarning: The min_impurity_split parameter is deprecated. Its default value has changed from 1e-7 to 0 in version 0.23, and it will be removed in 0.25. Use the min_impurity_decrease parameter instead.\n",
      "  FutureWarning)\n"
     ]
    },
    {
     "name": "stdout",
     "output_type": "stream",
     "text": [
      "[CV]  ccp_alpha=0.1, max_leaf_nodes=100, min_impurity_split=0, total=   2.6s\n",
      "[CV] ccp_alpha=0.1, max_leaf_nodes=100, min_impurity_split=0.1 .......\n"
     ]
    },
    {
     "name": "stderr",
     "output_type": "stream",
     "text": [
      "/Users/ZachV/opt/anaconda3/lib/python3.7/site-packages/sklearn/tree/_classes.py:310: FutureWarning: The min_impurity_split parameter is deprecated. Its default value has changed from 1e-7 to 0 in version 0.23, and it will be removed in 0.25. Use the min_impurity_decrease parameter instead.\n",
      "  FutureWarning)\n"
     ]
    },
    {
     "name": "stdout",
     "output_type": "stream",
     "text": [
      "[CV]  ccp_alpha=0.1, max_leaf_nodes=100, min_impurity_split=0.1, total=   2.0s\n",
      "[CV] ccp_alpha=0.1, max_leaf_nodes=100, min_impurity_split=0.1 .......\n"
     ]
    },
    {
     "name": "stderr",
     "output_type": "stream",
     "text": [
      "/Users/ZachV/opt/anaconda3/lib/python3.7/site-packages/sklearn/tree/_classes.py:310: FutureWarning: The min_impurity_split parameter is deprecated. Its default value has changed from 1e-7 to 0 in version 0.23, and it will be removed in 0.25. Use the min_impurity_decrease parameter instead.\n",
      "  FutureWarning)\n"
     ]
    },
    {
     "name": "stdout",
     "output_type": "stream",
     "text": [
      "[CV]  ccp_alpha=0.1, max_leaf_nodes=100, min_impurity_split=0.1, total=   1.9s\n",
      "[CV] ccp_alpha=0.1, max_leaf_nodes=100, min_impurity_split=0.1 .......\n"
     ]
    },
    {
     "name": "stderr",
     "output_type": "stream",
     "text": [
      "/Users/ZachV/opt/anaconda3/lib/python3.7/site-packages/sklearn/tree/_classes.py:310: FutureWarning: The min_impurity_split parameter is deprecated. Its default value has changed from 1e-7 to 0 in version 0.23, and it will be removed in 0.25. Use the min_impurity_decrease parameter instead.\n",
      "  FutureWarning)\n"
     ]
    },
    {
     "name": "stdout",
     "output_type": "stream",
     "text": [
      "[CV]  ccp_alpha=0.1, max_leaf_nodes=100, min_impurity_split=0.1, total=   1.9s\n",
      "[CV] ccp_alpha=0.1, max_leaf_nodes=100, min_impurity_split=0.1 .......\n"
     ]
    },
    {
     "name": "stderr",
     "output_type": "stream",
     "text": [
      "/Users/ZachV/opt/anaconda3/lib/python3.7/site-packages/sklearn/tree/_classes.py:310: FutureWarning: The min_impurity_split parameter is deprecated. Its default value has changed from 1e-7 to 0 in version 0.23, and it will be removed in 0.25. Use the min_impurity_decrease parameter instead.\n",
      "  FutureWarning)\n"
     ]
    },
    {
     "name": "stdout",
     "output_type": "stream",
     "text": [
      "[CV]  ccp_alpha=0.1, max_leaf_nodes=100, min_impurity_split=0.1, total=   2.0s\n",
      "[CV] ccp_alpha=0.1, max_leaf_nodes=100, min_impurity_split=0.1 .......\n"
     ]
    },
    {
     "name": "stderr",
     "output_type": "stream",
     "text": [
      "/Users/ZachV/opt/anaconda3/lib/python3.7/site-packages/sklearn/tree/_classes.py:310: FutureWarning: The min_impurity_split parameter is deprecated. Its default value has changed from 1e-7 to 0 in version 0.23, and it will be removed in 0.25. Use the min_impurity_decrease parameter instead.\n",
      "  FutureWarning)\n"
     ]
    },
    {
     "name": "stdout",
     "output_type": "stream",
     "text": [
      "[CV]  ccp_alpha=0.1, max_leaf_nodes=100, min_impurity_split=0.1, total=   2.0s\n",
      "[CV] ccp_alpha=0.1, max_leaf_nodes=100, min_impurity_split=0.2 .......\n"
     ]
    },
    {
     "name": "stderr",
     "output_type": "stream",
     "text": [
      "/Users/ZachV/opt/anaconda3/lib/python3.7/site-packages/sklearn/tree/_classes.py:310: FutureWarning: The min_impurity_split parameter is deprecated. Its default value has changed from 1e-7 to 0 in version 0.23, and it will be removed in 0.25. Use the min_impurity_decrease parameter instead.\n",
      "  FutureWarning)\n"
     ]
    },
    {
     "name": "stdout",
     "output_type": "stream",
     "text": [
      "[CV]  ccp_alpha=0.1, max_leaf_nodes=100, min_impurity_split=0.2, total=   1.6s\n",
      "[CV] ccp_alpha=0.1, max_leaf_nodes=100, min_impurity_split=0.2 .......\n"
     ]
    },
    {
     "name": "stderr",
     "output_type": "stream",
     "text": [
      "/Users/ZachV/opt/anaconda3/lib/python3.7/site-packages/sklearn/tree/_classes.py:310: FutureWarning: The min_impurity_split parameter is deprecated. Its default value has changed from 1e-7 to 0 in version 0.23, and it will be removed in 0.25. Use the min_impurity_decrease parameter instead.\n",
      "  FutureWarning)\n"
     ]
    },
    {
     "name": "stdout",
     "output_type": "stream",
     "text": [
      "[CV]  ccp_alpha=0.1, max_leaf_nodes=100, min_impurity_split=0.2, total=   1.6s\n",
      "[CV] ccp_alpha=0.1, max_leaf_nodes=100, min_impurity_split=0.2 .......\n"
     ]
    },
    {
     "name": "stderr",
     "output_type": "stream",
     "text": [
      "/Users/ZachV/opt/anaconda3/lib/python3.7/site-packages/sklearn/tree/_classes.py:310: FutureWarning: The min_impurity_split parameter is deprecated. Its default value has changed from 1e-7 to 0 in version 0.23, and it will be removed in 0.25. Use the min_impurity_decrease parameter instead.\n",
      "  FutureWarning)\n"
     ]
    },
    {
     "name": "stdout",
     "output_type": "stream",
     "text": [
      "[CV]  ccp_alpha=0.1, max_leaf_nodes=100, min_impurity_split=0.2, total=   1.7s\n",
      "[CV] ccp_alpha=0.1, max_leaf_nodes=100, min_impurity_split=0.2 .......\n"
     ]
    },
    {
     "name": "stderr",
     "output_type": "stream",
     "text": [
      "/Users/ZachV/opt/anaconda3/lib/python3.7/site-packages/sklearn/tree/_classes.py:310: FutureWarning: The min_impurity_split parameter is deprecated. Its default value has changed from 1e-7 to 0 in version 0.23, and it will be removed in 0.25. Use the min_impurity_decrease parameter instead.\n",
      "  FutureWarning)\n"
     ]
    },
    {
     "name": "stdout",
     "output_type": "stream",
     "text": [
      "[CV]  ccp_alpha=0.1, max_leaf_nodes=100, min_impurity_split=0.2, total=   1.7s\n",
      "[CV] ccp_alpha=0.1, max_leaf_nodes=100, min_impurity_split=0.2 .......\n"
     ]
    },
    {
     "name": "stderr",
     "output_type": "stream",
     "text": [
      "/Users/ZachV/opt/anaconda3/lib/python3.7/site-packages/sklearn/tree/_classes.py:310: FutureWarning: The min_impurity_split parameter is deprecated. Its default value has changed from 1e-7 to 0 in version 0.23, and it will be removed in 0.25. Use the min_impurity_decrease parameter instead.\n",
      "  FutureWarning)\n"
     ]
    },
    {
     "name": "stdout",
     "output_type": "stream",
     "text": [
      "[CV]  ccp_alpha=0.1, max_leaf_nodes=100, min_impurity_split=0.2, total=   1.7s\n",
      "[CV] ccp_alpha=0.1, max_leaf_nodes=100, min_impurity_split=0.3 .......\n"
     ]
    },
    {
     "name": "stderr",
     "output_type": "stream",
     "text": [
      "/Users/ZachV/opt/anaconda3/lib/python3.7/site-packages/sklearn/tree/_classes.py:310: FutureWarning: The min_impurity_split parameter is deprecated. Its default value has changed from 1e-7 to 0 in version 0.23, and it will be removed in 0.25. Use the min_impurity_decrease parameter instead.\n",
      "  FutureWarning)\n"
     ]
    },
    {
     "name": "stdout",
     "output_type": "stream",
     "text": [
      "[CV]  ccp_alpha=0.1, max_leaf_nodes=100, min_impurity_split=0.3, total=   1.4s\n",
      "[CV] ccp_alpha=0.1, max_leaf_nodes=100, min_impurity_split=0.3 .......\n"
     ]
    },
    {
     "name": "stderr",
     "output_type": "stream",
     "text": [
      "/Users/ZachV/opt/anaconda3/lib/python3.7/site-packages/sklearn/tree/_classes.py:310: FutureWarning: The min_impurity_split parameter is deprecated. Its default value has changed from 1e-7 to 0 in version 0.23, and it will be removed in 0.25. Use the min_impurity_decrease parameter instead.\n",
      "  FutureWarning)\n"
     ]
    },
    {
     "name": "stdout",
     "output_type": "stream",
     "text": [
      "[CV]  ccp_alpha=0.1, max_leaf_nodes=100, min_impurity_split=0.3, total=   1.5s\n",
      "[CV] ccp_alpha=0.1, max_leaf_nodes=100, min_impurity_split=0.3 .......\n"
     ]
    },
    {
     "name": "stderr",
     "output_type": "stream",
     "text": [
      "/Users/ZachV/opt/anaconda3/lib/python3.7/site-packages/sklearn/tree/_classes.py:310: FutureWarning: The min_impurity_split parameter is deprecated. Its default value has changed from 1e-7 to 0 in version 0.23, and it will be removed in 0.25. Use the min_impurity_decrease parameter instead.\n",
      "  FutureWarning)\n"
     ]
    },
    {
     "name": "stdout",
     "output_type": "stream",
     "text": [
      "[CV]  ccp_alpha=0.1, max_leaf_nodes=100, min_impurity_split=0.3, total=   1.5s\n",
      "[CV] ccp_alpha=0.1, max_leaf_nodes=100, min_impurity_split=0.3 .......\n"
     ]
    },
    {
     "name": "stderr",
     "output_type": "stream",
     "text": [
      "/Users/ZachV/opt/anaconda3/lib/python3.7/site-packages/sklearn/tree/_classes.py:310: FutureWarning: The min_impurity_split parameter is deprecated. Its default value has changed from 1e-7 to 0 in version 0.23, and it will be removed in 0.25. Use the min_impurity_decrease parameter instead.\n",
      "  FutureWarning)\n"
     ]
    },
    {
     "name": "stdout",
     "output_type": "stream",
     "text": [
      "[CV]  ccp_alpha=0.1, max_leaf_nodes=100, min_impurity_split=0.3, total=   1.4s\n",
      "[CV] ccp_alpha=0.1, max_leaf_nodes=100, min_impurity_split=0.3 .......\n"
     ]
    },
    {
     "name": "stderr",
     "output_type": "stream",
     "text": [
      "/Users/ZachV/opt/anaconda3/lib/python3.7/site-packages/sklearn/tree/_classes.py:310: FutureWarning: The min_impurity_split parameter is deprecated. Its default value has changed from 1e-7 to 0 in version 0.23, and it will be removed in 0.25. Use the min_impurity_decrease parameter instead.\n",
      "  FutureWarning)\n"
     ]
    },
    {
     "name": "stdout",
     "output_type": "stream",
     "text": [
      "[CV]  ccp_alpha=0.1, max_leaf_nodes=100, min_impurity_split=0.3, total=   1.4s\n",
      "[CV] ccp_alpha=0.1, max_leaf_nodes=100, min_impurity_split=0.4 .......\n"
     ]
    },
    {
     "name": "stderr",
     "output_type": "stream",
     "text": [
      "/Users/ZachV/opt/anaconda3/lib/python3.7/site-packages/sklearn/tree/_classes.py:310: FutureWarning: The min_impurity_split parameter is deprecated. Its default value has changed from 1e-7 to 0 in version 0.23, and it will be removed in 0.25. Use the min_impurity_decrease parameter instead.\n",
      "  FutureWarning)\n"
     ]
    },
    {
     "name": "stdout",
     "output_type": "stream",
     "text": [
      "[CV]  ccp_alpha=0.1, max_leaf_nodes=100, min_impurity_split=0.4, total=   0.9s\n",
      "[CV] ccp_alpha=0.1, max_leaf_nodes=100, min_impurity_split=0.4 .......\n"
     ]
    },
    {
     "name": "stderr",
     "output_type": "stream",
     "text": [
      "/Users/ZachV/opt/anaconda3/lib/python3.7/site-packages/sklearn/tree/_classes.py:310: FutureWarning: The min_impurity_split parameter is deprecated. Its default value has changed from 1e-7 to 0 in version 0.23, and it will be removed in 0.25. Use the min_impurity_decrease parameter instead.\n",
      "  FutureWarning)\n"
     ]
    },
    {
     "name": "stdout",
     "output_type": "stream",
     "text": [
      "[CV]  ccp_alpha=0.1, max_leaf_nodes=100, min_impurity_split=0.4, total=   0.9s\n",
      "[CV] ccp_alpha=0.1, max_leaf_nodes=100, min_impurity_split=0.4 .......\n"
     ]
    },
    {
     "name": "stderr",
     "output_type": "stream",
     "text": [
      "/Users/ZachV/opt/anaconda3/lib/python3.7/site-packages/sklearn/tree/_classes.py:310: FutureWarning: The min_impurity_split parameter is deprecated. Its default value has changed from 1e-7 to 0 in version 0.23, and it will be removed in 0.25. Use the min_impurity_decrease parameter instead.\n",
      "  FutureWarning)\n"
     ]
    },
    {
     "name": "stdout",
     "output_type": "stream",
     "text": [
      "[CV]  ccp_alpha=0.1, max_leaf_nodes=100, min_impurity_split=0.4, total=   0.9s\n",
      "[CV] ccp_alpha=0.1, max_leaf_nodes=100, min_impurity_split=0.4 .......\n"
     ]
    },
    {
     "name": "stderr",
     "output_type": "stream",
     "text": [
      "/Users/ZachV/opt/anaconda3/lib/python3.7/site-packages/sklearn/tree/_classes.py:310: FutureWarning: The min_impurity_split parameter is deprecated. Its default value has changed from 1e-7 to 0 in version 0.23, and it will be removed in 0.25. Use the min_impurity_decrease parameter instead.\n",
      "  FutureWarning)\n"
     ]
    },
    {
     "name": "stdout",
     "output_type": "stream",
     "text": [
      "[CV]  ccp_alpha=0.1, max_leaf_nodes=100, min_impurity_split=0.4, total=   0.9s\n",
      "[CV] ccp_alpha=0.1, max_leaf_nodes=100, min_impurity_split=0.4 .......\n"
     ]
    },
    {
     "name": "stderr",
     "output_type": "stream",
     "text": [
      "/Users/ZachV/opt/anaconda3/lib/python3.7/site-packages/sklearn/tree/_classes.py:310: FutureWarning: The min_impurity_split parameter is deprecated. Its default value has changed from 1e-7 to 0 in version 0.23, and it will be removed in 0.25. Use the min_impurity_decrease parameter instead.\n",
      "  FutureWarning)\n"
     ]
    },
    {
     "name": "stdout",
     "output_type": "stream",
     "text": [
      "[CV]  ccp_alpha=0.1, max_leaf_nodes=100, min_impurity_split=0.4, total=   0.9s\n",
      "[CV] ccp_alpha=0.1, max_leaf_nodes=100, min_impurity_split=0.5 .......\n"
     ]
    },
    {
     "name": "stderr",
     "output_type": "stream",
     "text": [
      "/Users/ZachV/opt/anaconda3/lib/python3.7/site-packages/sklearn/tree/_classes.py:310: FutureWarning: The min_impurity_split parameter is deprecated. Its default value has changed from 1e-7 to 0 in version 0.23, and it will be removed in 0.25. Use the min_impurity_decrease parameter instead.\n",
      "  FutureWarning)\n"
     ]
    },
    {
     "name": "stdout",
     "output_type": "stream",
     "text": [
      "[CV]  ccp_alpha=0.1, max_leaf_nodes=100, min_impurity_split=0.5, total=   0.9s\n",
      "[CV] ccp_alpha=0.1, max_leaf_nodes=100, min_impurity_split=0.5 .......\n"
     ]
    },
    {
     "name": "stderr",
     "output_type": "stream",
     "text": [
      "/Users/ZachV/opt/anaconda3/lib/python3.7/site-packages/sklearn/tree/_classes.py:310: FutureWarning: The min_impurity_split parameter is deprecated. Its default value has changed from 1e-7 to 0 in version 0.23, and it will be removed in 0.25. Use the min_impurity_decrease parameter instead.\n",
      "  FutureWarning)\n"
     ]
    },
    {
     "name": "stdout",
     "output_type": "stream",
     "text": [
      "[CV]  ccp_alpha=0.1, max_leaf_nodes=100, min_impurity_split=0.5, total=   0.9s\n",
      "[CV] ccp_alpha=0.1, max_leaf_nodes=100, min_impurity_split=0.5 .......\n"
     ]
    },
    {
     "name": "stderr",
     "output_type": "stream",
     "text": [
      "/Users/ZachV/opt/anaconda3/lib/python3.7/site-packages/sklearn/tree/_classes.py:310: FutureWarning: The min_impurity_split parameter is deprecated. Its default value has changed from 1e-7 to 0 in version 0.23, and it will be removed in 0.25. Use the min_impurity_decrease parameter instead.\n",
      "  FutureWarning)\n"
     ]
    },
    {
     "name": "stdout",
     "output_type": "stream",
     "text": [
      "[CV]  ccp_alpha=0.1, max_leaf_nodes=100, min_impurity_split=0.5, total=   0.9s\n",
      "[CV] ccp_alpha=0.1, max_leaf_nodes=100, min_impurity_split=0.5 .......\n"
     ]
    },
    {
     "name": "stderr",
     "output_type": "stream",
     "text": [
      "/Users/ZachV/opt/anaconda3/lib/python3.7/site-packages/sklearn/tree/_classes.py:310: FutureWarning: The min_impurity_split parameter is deprecated. Its default value has changed from 1e-7 to 0 in version 0.23, and it will be removed in 0.25. Use the min_impurity_decrease parameter instead.\n",
      "  FutureWarning)\n"
     ]
    },
    {
     "name": "stdout",
     "output_type": "stream",
     "text": [
      "[CV]  ccp_alpha=0.1, max_leaf_nodes=100, min_impurity_split=0.5, total=   0.9s\n",
      "[CV] ccp_alpha=0.1, max_leaf_nodes=100, min_impurity_split=0.5 .......\n"
     ]
    },
    {
     "name": "stderr",
     "output_type": "stream",
     "text": [
      "/Users/ZachV/opt/anaconda3/lib/python3.7/site-packages/sklearn/tree/_classes.py:310: FutureWarning: The min_impurity_split parameter is deprecated. Its default value has changed from 1e-7 to 0 in version 0.23, and it will be removed in 0.25. Use the min_impurity_decrease parameter instead.\n",
      "  FutureWarning)\n"
     ]
    },
    {
     "name": "stdout",
     "output_type": "stream",
     "text": [
      "[CV]  ccp_alpha=0.1, max_leaf_nodes=100, min_impurity_split=0.5, total=   0.9s\n",
      "[CV] ccp_alpha=1, max_leaf_nodes=5, min_impurity_split=0 .............\n"
     ]
    },
    {
     "name": "stderr",
     "output_type": "stream",
     "text": [
      "/Users/ZachV/opt/anaconda3/lib/python3.7/site-packages/sklearn/tree/_classes.py:310: FutureWarning: The min_impurity_split parameter is deprecated. Its default value has changed from 1e-7 to 0 in version 0.23, and it will be removed in 0.25. Use the min_impurity_decrease parameter instead.\n",
      "  FutureWarning)\n"
     ]
    },
    {
     "name": "stdout",
     "output_type": "stream",
     "text": [
      "[CV]  ccp_alpha=1, max_leaf_nodes=5, min_impurity_split=0, total=   1.7s\n",
      "[CV] ccp_alpha=1, max_leaf_nodes=5, min_impurity_split=0 .............\n"
     ]
    },
    {
     "name": "stderr",
     "output_type": "stream",
     "text": [
      "/Users/ZachV/opt/anaconda3/lib/python3.7/site-packages/sklearn/tree/_classes.py:310: FutureWarning: The min_impurity_split parameter is deprecated. Its default value has changed from 1e-7 to 0 in version 0.23, and it will be removed in 0.25. Use the min_impurity_decrease parameter instead.\n",
      "  FutureWarning)\n"
     ]
    },
    {
     "name": "stdout",
     "output_type": "stream",
     "text": [
      "[CV]  ccp_alpha=1, max_leaf_nodes=5, min_impurity_split=0, total=   1.7s\n",
      "[CV] ccp_alpha=1, max_leaf_nodes=5, min_impurity_split=0 .............\n"
     ]
    },
    {
     "name": "stderr",
     "output_type": "stream",
     "text": [
      "/Users/ZachV/opt/anaconda3/lib/python3.7/site-packages/sklearn/tree/_classes.py:310: FutureWarning: The min_impurity_split parameter is deprecated. Its default value has changed from 1e-7 to 0 in version 0.23, and it will be removed in 0.25. Use the min_impurity_decrease parameter instead.\n",
      "  FutureWarning)\n"
     ]
    },
    {
     "name": "stdout",
     "output_type": "stream",
     "text": [
      "[CV]  ccp_alpha=1, max_leaf_nodes=5, min_impurity_split=0, total=   1.7s\n",
      "[CV] ccp_alpha=1, max_leaf_nodes=5, min_impurity_split=0 .............\n"
     ]
    },
    {
     "name": "stderr",
     "output_type": "stream",
     "text": [
      "/Users/ZachV/opt/anaconda3/lib/python3.7/site-packages/sklearn/tree/_classes.py:310: FutureWarning: The min_impurity_split parameter is deprecated. Its default value has changed from 1e-7 to 0 in version 0.23, and it will be removed in 0.25. Use the min_impurity_decrease parameter instead.\n",
      "  FutureWarning)\n"
     ]
    },
    {
     "name": "stdout",
     "output_type": "stream",
     "text": [
      "[CV]  ccp_alpha=1, max_leaf_nodes=5, min_impurity_split=0, total=   1.9s\n",
      "[CV] ccp_alpha=1, max_leaf_nodes=5, min_impurity_split=0 .............\n"
     ]
    },
    {
     "name": "stderr",
     "output_type": "stream",
     "text": [
      "/Users/ZachV/opt/anaconda3/lib/python3.7/site-packages/sklearn/tree/_classes.py:310: FutureWarning: The min_impurity_split parameter is deprecated. Its default value has changed from 1e-7 to 0 in version 0.23, and it will be removed in 0.25. Use the min_impurity_decrease parameter instead.\n",
      "  FutureWarning)\n"
     ]
    },
    {
     "name": "stdout",
     "output_type": "stream",
     "text": [
      "[CV]  ccp_alpha=1, max_leaf_nodes=5, min_impurity_split=0, total=   1.9s\n",
      "[CV] ccp_alpha=1, max_leaf_nodes=5, min_impurity_split=0.1 ...........\n"
     ]
    },
    {
     "name": "stderr",
     "output_type": "stream",
     "text": [
      "/Users/ZachV/opt/anaconda3/lib/python3.7/site-packages/sklearn/tree/_classes.py:310: FutureWarning: The min_impurity_split parameter is deprecated. Its default value has changed from 1e-7 to 0 in version 0.23, and it will be removed in 0.25. Use the min_impurity_decrease parameter instead.\n",
      "  FutureWarning)\n"
     ]
    },
    {
     "name": "stdout",
     "output_type": "stream",
     "text": [
      "[CV]  ccp_alpha=1, max_leaf_nodes=5, min_impurity_split=0.1, total=   1.6s\n",
      "[CV] ccp_alpha=1, max_leaf_nodes=5, min_impurity_split=0.1 ...........\n"
     ]
    },
    {
     "name": "stderr",
     "output_type": "stream",
     "text": [
      "/Users/ZachV/opt/anaconda3/lib/python3.7/site-packages/sklearn/tree/_classes.py:310: FutureWarning: The min_impurity_split parameter is deprecated. Its default value has changed from 1e-7 to 0 in version 0.23, and it will be removed in 0.25. Use the min_impurity_decrease parameter instead.\n",
      "  FutureWarning)\n"
     ]
    },
    {
     "name": "stdout",
     "output_type": "stream",
     "text": [
      "[CV]  ccp_alpha=1, max_leaf_nodes=5, min_impurity_split=0.1, total=   1.8s\n",
      "[CV] ccp_alpha=1, max_leaf_nodes=5, min_impurity_split=0.1 ...........\n"
     ]
    },
    {
     "name": "stderr",
     "output_type": "stream",
     "text": [
      "/Users/ZachV/opt/anaconda3/lib/python3.7/site-packages/sklearn/tree/_classes.py:310: FutureWarning: The min_impurity_split parameter is deprecated. Its default value has changed from 1e-7 to 0 in version 0.23, and it will be removed in 0.25. Use the min_impurity_decrease parameter instead.\n",
      "  FutureWarning)\n"
     ]
    },
    {
     "name": "stdout",
     "output_type": "stream",
     "text": [
      "[CV]  ccp_alpha=1, max_leaf_nodes=5, min_impurity_split=0.1, total=   1.6s\n",
      "[CV] ccp_alpha=1, max_leaf_nodes=5, min_impurity_split=0.1 ...........\n"
     ]
    },
    {
     "name": "stderr",
     "output_type": "stream",
     "text": [
      "/Users/ZachV/opt/anaconda3/lib/python3.7/site-packages/sklearn/tree/_classes.py:310: FutureWarning: The min_impurity_split parameter is deprecated. Its default value has changed from 1e-7 to 0 in version 0.23, and it will be removed in 0.25. Use the min_impurity_decrease parameter instead.\n",
      "  FutureWarning)\n"
     ]
    },
    {
     "name": "stdout",
     "output_type": "stream",
     "text": [
      "[CV]  ccp_alpha=1, max_leaf_nodes=5, min_impurity_split=0.1, total=   1.6s\n",
      "[CV] ccp_alpha=1, max_leaf_nodes=5, min_impurity_split=0.1 ...........\n"
     ]
    },
    {
     "name": "stderr",
     "output_type": "stream",
     "text": [
      "/Users/ZachV/opt/anaconda3/lib/python3.7/site-packages/sklearn/tree/_classes.py:310: FutureWarning: The min_impurity_split parameter is deprecated. Its default value has changed from 1e-7 to 0 in version 0.23, and it will be removed in 0.25. Use the min_impurity_decrease parameter instead.\n",
      "  FutureWarning)\n"
     ]
    },
    {
     "name": "stdout",
     "output_type": "stream",
     "text": [
      "[CV]  ccp_alpha=1, max_leaf_nodes=5, min_impurity_split=0.1, total=   1.6s\n",
      "[CV] ccp_alpha=1, max_leaf_nodes=5, min_impurity_split=0.2 ...........\n"
     ]
    },
    {
     "name": "stderr",
     "output_type": "stream",
     "text": [
      "/Users/ZachV/opt/anaconda3/lib/python3.7/site-packages/sklearn/tree/_classes.py:310: FutureWarning: The min_impurity_split parameter is deprecated. Its default value has changed from 1e-7 to 0 in version 0.23, and it will be removed in 0.25. Use the min_impurity_decrease parameter instead.\n",
      "  FutureWarning)\n"
     ]
    },
    {
     "name": "stdout",
     "output_type": "stream",
     "text": [
      "[CV]  ccp_alpha=1, max_leaf_nodes=5, min_impurity_split=0.2, total=   1.3s\n",
      "[CV] ccp_alpha=1, max_leaf_nodes=5, min_impurity_split=0.2 ...........\n"
     ]
    },
    {
     "name": "stderr",
     "output_type": "stream",
     "text": [
      "/Users/ZachV/opt/anaconda3/lib/python3.7/site-packages/sklearn/tree/_classes.py:310: FutureWarning: The min_impurity_split parameter is deprecated. Its default value has changed from 1e-7 to 0 in version 0.23, and it will be removed in 0.25. Use the min_impurity_decrease parameter instead.\n",
      "  FutureWarning)\n"
     ]
    },
    {
     "name": "stdout",
     "output_type": "stream",
     "text": [
      "[CV]  ccp_alpha=1, max_leaf_nodes=5, min_impurity_split=0.2, total=   1.3s\n",
      "[CV] ccp_alpha=1, max_leaf_nodes=5, min_impurity_split=0.2 ...........\n"
     ]
    },
    {
     "name": "stderr",
     "output_type": "stream",
     "text": [
      "/Users/ZachV/opt/anaconda3/lib/python3.7/site-packages/sklearn/tree/_classes.py:310: FutureWarning: The min_impurity_split parameter is deprecated. Its default value has changed from 1e-7 to 0 in version 0.23, and it will be removed in 0.25. Use the min_impurity_decrease parameter instead.\n",
      "  FutureWarning)\n"
     ]
    },
    {
     "name": "stdout",
     "output_type": "stream",
     "text": [
      "[CV]  ccp_alpha=1, max_leaf_nodes=5, min_impurity_split=0.2, total=   3.4s\n",
      "[CV] ccp_alpha=1, max_leaf_nodes=5, min_impurity_split=0.2 ...........\n"
     ]
    },
    {
     "name": "stderr",
     "output_type": "stream",
     "text": [
      "/Users/ZachV/opt/anaconda3/lib/python3.7/site-packages/sklearn/tree/_classes.py:310: FutureWarning: The min_impurity_split parameter is deprecated. Its default value has changed from 1e-7 to 0 in version 0.23, and it will be removed in 0.25. Use the min_impurity_decrease parameter instead.\n",
      "  FutureWarning)\n"
     ]
    },
    {
     "name": "stdout",
     "output_type": "stream",
     "text": [
      "[CV]  ccp_alpha=1, max_leaf_nodes=5, min_impurity_split=0.2, total=   1.5s\n",
      "[CV] ccp_alpha=1, max_leaf_nodes=5, min_impurity_split=0.2 ...........\n"
     ]
    },
    {
     "name": "stderr",
     "output_type": "stream",
     "text": [
      "/Users/ZachV/opt/anaconda3/lib/python3.7/site-packages/sklearn/tree/_classes.py:310: FutureWarning: The min_impurity_split parameter is deprecated. Its default value has changed from 1e-7 to 0 in version 0.23, and it will be removed in 0.25. Use the min_impurity_decrease parameter instead.\n",
      "  FutureWarning)\n"
     ]
    },
    {
     "name": "stdout",
     "output_type": "stream",
     "text": [
      "[CV]  ccp_alpha=1, max_leaf_nodes=5, min_impurity_split=0.2, total=   4.2s\n",
      "[CV] ccp_alpha=1, max_leaf_nodes=5, min_impurity_split=0.3 ...........\n"
     ]
    },
    {
     "name": "stderr",
     "output_type": "stream",
     "text": [
      "/Users/ZachV/opt/anaconda3/lib/python3.7/site-packages/sklearn/tree/_classes.py:310: FutureWarning: The min_impurity_split parameter is deprecated. Its default value has changed from 1e-7 to 0 in version 0.23, and it will be removed in 0.25. Use the min_impurity_decrease parameter instead.\n",
      "  FutureWarning)\n"
     ]
    },
    {
     "name": "stdout",
     "output_type": "stream",
     "text": [
      "[CV]  ccp_alpha=1, max_leaf_nodes=5, min_impurity_split=0.3, total=   6.0s\n",
      "[CV] ccp_alpha=1, max_leaf_nodes=5, min_impurity_split=0.3 ...........\n"
     ]
    },
    {
     "name": "stderr",
     "output_type": "stream",
     "text": [
      "/Users/ZachV/opt/anaconda3/lib/python3.7/site-packages/sklearn/tree/_classes.py:310: FutureWarning: The min_impurity_split parameter is deprecated. Its default value has changed from 1e-7 to 0 in version 0.23, and it will be removed in 0.25. Use the min_impurity_decrease parameter instead.\n",
      "  FutureWarning)\n"
     ]
    },
    {
     "name": "stdout",
     "output_type": "stream",
     "text": [
      "[CV]  ccp_alpha=1, max_leaf_nodes=5, min_impurity_split=0.3, total=   1.1s\n",
      "[CV] ccp_alpha=1, max_leaf_nodes=5, min_impurity_split=0.3 ...........\n"
     ]
    },
    {
     "name": "stderr",
     "output_type": "stream",
     "text": [
      "/Users/ZachV/opt/anaconda3/lib/python3.7/site-packages/sklearn/tree/_classes.py:310: FutureWarning: The min_impurity_split parameter is deprecated. Its default value has changed from 1e-7 to 0 in version 0.23, and it will be removed in 0.25. Use the min_impurity_decrease parameter instead.\n",
      "  FutureWarning)\n"
     ]
    },
    {
     "name": "stdout",
     "output_type": "stream",
     "text": [
      "[CV]  ccp_alpha=1, max_leaf_nodes=5, min_impurity_split=0.3, total=   1.2s\n",
      "[CV] ccp_alpha=1, max_leaf_nodes=5, min_impurity_split=0.3 ...........\n"
     ]
    },
    {
     "name": "stderr",
     "output_type": "stream",
     "text": [
      "/Users/ZachV/opt/anaconda3/lib/python3.7/site-packages/sklearn/tree/_classes.py:310: FutureWarning: The min_impurity_split parameter is deprecated. Its default value has changed from 1e-7 to 0 in version 0.23, and it will be removed in 0.25. Use the min_impurity_decrease parameter instead.\n",
      "  FutureWarning)\n"
     ]
    },
    {
     "name": "stdout",
     "output_type": "stream",
     "text": [
      "[CV]  ccp_alpha=1, max_leaf_nodes=5, min_impurity_split=0.3, total=   1.2s\n",
      "[CV] ccp_alpha=1, max_leaf_nodes=5, min_impurity_split=0.3 ...........\n"
     ]
    },
    {
     "name": "stderr",
     "output_type": "stream",
     "text": [
      "/Users/ZachV/opt/anaconda3/lib/python3.7/site-packages/sklearn/tree/_classes.py:310: FutureWarning: The min_impurity_split parameter is deprecated. Its default value has changed from 1e-7 to 0 in version 0.23, and it will be removed in 0.25. Use the min_impurity_decrease parameter instead.\n",
      "  FutureWarning)\n"
     ]
    },
    {
     "name": "stdout",
     "output_type": "stream",
     "text": [
      "[CV]  ccp_alpha=1, max_leaf_nodes=5, min_impurity_split=0.3, total=   1.2s\n",
      "[CV] ccp_alpha=1, max_leaf_nodes=5, min_impurity_split=0.4 ...........\n"
     ]
    },
    {
     "name": "stderr",
     "output_type": "stream",
     "text": [
      "/Users/ZachV/opt/anaconda3/lib/python3.7/site-packages/sklearn/tree/_classes.py:310: FutureWarning: The min_impurity_split parameter is deprecated. Its default value has changed from 1e-7 to 0 in version 0.23, and it will be removed in 0.25. Use the min_impurity_decrease parameter instead.\n",
      "  FutureWarning)\n"
     ]
    },
    {
     "name": "stdout",
     "output_type": "stream",
     "text": [
      "[CV]  ccp_alpha=1, max_leaf_nodes=5, min_impurity_split=0.4, total=   0.9s\n",
      "[CV] ccp_alpha=1, max_leaf_nodes=5, min_impurity_split=0.4 ...........\n"
     ]
    },
    {
     "name": "stderr",
     "output_type": "stream",
     "text": [
      "/Users/ZachV/opt/anaconda3/lib/python3.7/site-packages/sklearn/tree/_classes.py:310: FutureWarning: The min_impurity_split parameter is deprecated. Its default value has changed from 1e-7 to 0 in version 0.23, and it will be removed in 0.25. Use the min_impurity_decrease parameter instead.\n",
      "  FutureWarning)\n"
     ]
    },
    {
     "name": "stdout",
     "output_type": "stream",
     "text": [
      "[CV]  ccp_alpha=1, max_leaf_nodes=5, min_impurity_split=0.4, total=   0.9s\n",
      "[CV] ccp_alpha=1, max_leaf_nodes=5, min_impurity_split=0.4 ...........\n"
     ]
    },
    {
     "name": "stderr",
     "output_type": "stream",
     "text": [
      "/Users/ZachV/opt/anaconda3/lib/python3.7/site-packages/sklearn/tree/_classes.py:310: FutureWarning: The min_impurity_split parameter is deprecated. Its default value has changed from 1e-7 to 0 in version 0.23, and it will be removed in 0.25. Use the min_impurity_decrease parameter instead.\n",
      "  FutureWarning)\n"
     ]
    },
    {
     "name": "stdout",
     "output_type": "stream",
     "text": [
      "[CV]  ccp_alpha=1, max_leaf_nodes=5, min_impurity_split=0.4, total=   0.9s\n",
      "[CV] ccp_alpha=1, max_leaf_nodes=5, min_impurity_split=0.4 ...........\n"
     ]
    },
    {
     "name": "stderr",
     "output_type": "stream",
     "text": [
      "/Users/ZachV/opt/anaconda3/lib/python3.7/site-packages/sklearn/tree/_classes.py:310: FutureWarning: The min_impurity_split parameter is deprecated. Its default value has changed from 1e-7 to 0 in version 0.23, and it will be removed in 0.25. Use the min_impurity_decrease parameter instead.\n",
      "  FutureWarning)\n"
     ]
    },
    {
     "name": "stdout",
     "output_type": "stream",
     "text": [
      "[CV]  ccp_alpha=1, max_leaf_nodes=5, min_impurity_split=0.4, total=   0.9s\n",
      "[CV] ccp_alpha=1, max_leaf_nodes=5, min_impurity_split=0.4 ...........\n"
     ]
    },
    {
     "name": "stderr",
     "output_type": "stream",
     "text": [
      "/Users/ZachV/opt/anaconda3/lib/python3.7/site-packages/sklearn/tree/_classes.py:310: FutureWarning: The min_impurity_split parameter is deprecated. Its default value has changed from 1e-7 to 0 in version 0.23, and it will be removed in 0.25. Use the min_impurity_decrease parameter instead.\n",
      "  FutureWarning)\n"
     ]
    },
    {
     "name": "stdout",
     "output_type": "stream",
     "text": [
      "[CV]  ccp_alpha=1, max_leaf_nodes=5, min_impurity_split=0.4, total=   0.9s\n",
      "[CV] ccp_alpha=1, max_leaf_nodes=5, min_impurity_split=0.5 ...........\n"
     ]
    },
    {
     "name": "stderr",
     "output_type": "stream",
     "text": [
      "/Users/ZachV/opt/anaconda3/lib/python3.7/site-packages/sklearn/tree/_classes.py:310: FutureWarning: The min_impurity_split parameter is deprecated. Its default value has changed from 1e-7 to 0 in version 0.23, and it will be removed in 0.25. Use the min_impurity_decrease parameter instead.\n",
      "  FutureWarning)\n"
     ]
    },
    {
     "name": "stdout",
     "output_type": "stream",
     "text": [
      "[CV]  ccp_alpha=1, max_leaf_nodes=5, min_impurity_split=0.5, total=   0.9s\n",
      "[CV] ccp_alpha=1, max_leaf_nodes=5, min_impurity_split=0.5 ...........\n"
     ]
    },
    {
     "name": "stderr",
     "output_type": "stream",
     "text": [
      "/Users/ZachV/opt/anaconda3/lib/python3.7/site-packages/sklearn/tree/_classes.py:310: FutureWarning: The min_impurity_split parameter is deprecated. Its default value has changed from 1e-7 to 0 in version 0.23, and it will be removed in 0.25. Use the min_impurity_decrease parameter instead.\n",
      "  FutureWarning)\n"
     ]
    },
    {
     "name": "stdout",
     "output_type": "stream",
     "text": [
      "[CV]  ccp_alpha=1, max_leaf_nodes=5, min_impurity_split=0.5, total=   0.9s\n",
      "[CV] ccp_alpha=1, max_leaf_nodes=5, min_impurity_split=0.5 ...........\n"
     ]
    },
    {
     "name": "stderr",
     "output_type": "stream",
     "text": [
      "/Users/ZachV/opt/anaconda3/lib/python3.7/site-packages/sklearn/tree/_classes.py:310: FutureWarning: The min_impurity_split parameter is deprecated. Its default value has changed from 1e-7 to 0 in version 0.23, and it will be removed in 0.25. Use the min_impurity_decrease parameter instead.\n",
      "  FutureWarning)\n"
     ]
    },
    {
     "name": "stdout",
     "output_type": "stream",
     "text": [
      "[CV]  ccp_alpha=1, max_leaf_nodes=5, min_impurity_split=0.5, total=   0.9s\n",
      "[CV] ccp_alpha=1, max_leaf_nodes=5, min_impurity_split=0.5 ...........\n"
     ]
    },
    {
     "name": "stderr",
     "output_type": "stream",
     "text": [
      "/Users/ZachV/opt/anaconda3/lib/python3.7/site-packages/sklearn/tree/_classes.py:310: FutureWarning: The min_impurity_split parameter is deprecated. Its default value has changed from 1e-7 to 0 in version 0.23, and it will be removed in 0.25. Use the min_impurity_decrease parameter instead.\n",
      "  FutureWarning)\n"
     ]
    },
    {
     "name": "stdout",
     "output_type": "stream",
     "text": [
      "[CV]  ccp_alpha=1, max_leaf_nodes=5, min_impurity_split=0.5, total=   0.9s\n",
      "[CV] ccp_alpha=1, max_leaf_nodes=5, min_impurity_split=0.5 ...........\n"
     ]
    },
    {
     "name": "stderr",
     "output_type": "stream",
     "text": [
      "/Users/ZachV/opt/anaconda3/lib/python3.7/site-packages/sklearn/tree/_classes.py:310: FutureWarning: The min_impurity_split parameter is deprecated. Its default value has changed from 1e-7 to 0 in version 0.23, and it will be removed in 0.25. Use the min_impurity_decrease parameter instead.\n",
      "  FutureWarning)\n"
     ]
    },
    {
     "name": "stdout",
     "output_type": "stream",
     "text": [
      "[CV]  ccp_alpha=1, max_leaf_nodes=5, min_impurity_split=0.5, total=   0.9s\n",
      "[CV] ccp_alpha=1, max_leaf_nodes=10, min_impurity_split=0 ............\n"
     ]
    },
    {
     "name": "stderr",
     "output_type": "stream",
     "text": [
      "/Users/ZachV/opt/anaconda3/lib/python3.7/site-packages/sklearn/tree/_classes.py:310: FutureWarning: The min_impurity_split parameter is deprecated. Its default value has changed from 1e-7 to 0 in version 0.23, and it will be removed in 0.25. Use the min_impurity_decrease parameter instead.\n",
      "  FutureWarning)\n"
     ]
    },
    {
     "name": "stdout",
     "output_type": "stream",
     "text": [
      "[CV]  ccp_alpha=1, max_leaf_nodes=10, min_impurity_split=0, total=   2.2s\n",
      "[CV] ccp_alpha=1, max_leaf_nodes=10, min_impurity_split=0 ............\n"
     ]
    },
    {
     "name": "stderr",
     "output_type": "stream",
     "text": [
      "/Users/ZachV/opt/anaconda3/lib/python3.7/site-packages/sklearn/tree/_classes.py:310: FutureWarning: The min_impurity_split parameter is deprecated. Its default value has changed from 1e-7 to 0 in version 0.23, and it will be removed in 0.25. Use the min_impurity_decrease parameter instead.\n",
      "  FutureWarning)\n"
     ]
    },
    {
     "name": "stdout",
     "output_type": "stream",
     "text": [
      "[CV]  ccp_alpha=1, max_leaf_nodes=10, min_impurity_split=0, total=   2.2s\n",
      "[CV] ccp_alpha=1, max_leaf_nodes=10, min_impurity_split=0 ............\n"
     ]
    },
    {
     "name": "stderr",
     "output_type": "stream",
     "text": [
      "/Users/ZachV/opt/anaconda3/lib/python3.7/site-packages/sklearn/tree/_classes.py:310: FutureWarning: The min_impurity_split parameter is deprecated. Its default value has changed from 1e-7 to 0 in version 0.23, and it will be removed in 0.25. Use the min_impurity_decrease parameter instead.\n",
      "  FutureWarning)\n"
     ]
    },
    {
     "name": "stdout",
     "output_type": "stream",
     "text": [
      "[CV]  ccp_alpha=1, max_leaf_nodes=10, min_impurity_split=0, total=   2.2s\n",
      "[CV] ccp_alpha=1, max_leaf_nodes=10, min_impurity_split=0 ............\n"
     ]
    },
    {
     "name": "stderr",
     "output_type": "stream",
     "text": [
      "/Users/ZachV/opt/anaconda3/lib/python3.7/site-packages/sklearn/tree/_classes.py:310: FutureWarning: The min_impurity_split parameter is deprecated. Its default value has changed from 1e-7 to 0 in version 0.23, and it will be removed in 0.25. Use the min_impurity_decrease parameter instead.\n",
      "  FutureWarning)\n"
     ]
    },
    {
     "name": "stdout",
     "output_type": "stream",
     "text": [
      "[CV]  ccp_alpha=1, max_leaf_nodes=10, min_impurity_split=0, total=   2.3s\n",
      "[CV] ccp_alpha=1, max_leaf_nodes=10, min_impurity_split=0 ............\n"
     ]
    },
    {
     "name": "stderr",
     "output_type": "stream",
     "text": [
      "/Users/ZachV/opt/anaconda3/lib/python3.7/site-packages/sklearn/tree/_classes.py:310: FutureWarning: The min_impurity_split parameter is deprecated. Its default value has changed from 1e-7 to 0 in version 0.23, and it will be removed in 0.25. Use the min_impurity_decrease parameter instead.\n",
      "  FutureWarning)\n"
     ]
    },
    {
     "name": "stdout",
     "output_type": "stream",
     "text": [
      "[CV]  ccp_alpha=1, max_leaf_nodes=10, min_impurity_split=0, total=   2.2s\n",
      "[CV] ccp_alpha=1, max_leaf_nodes=10, min_impurity_split=0.1 ..........\n"
     ]
    },
    {
     "name": "stderr",
     "output_type": "stream",
     "text": [
      "/Users/ZachV/opt/anaconda3/lib/python3.7/site-packages/sklearn/tree/_classes.py:310: FutureWarning: The min_impurity_split parameter is deprecated. Its default value has changed from 1e-7 to 0 in version 0.23, and it will be removed in 0.25. Use the min_impurity_decrease parameter instead.\n",
      "  FutureWarning)\n"
     ]
    },
    {
     "name": "stdout",
     "output_type": "stream",
     "text": [
      "[CV]  ccp_alpha=1, max_leaf_nodes=10, min_impurity_split=0.1, total= 1.7min\n",
      "[CV] ccp_alpha=1, max_leaf_nodes=10, min_impurity_split=0.1 ..........\n"
     ]
    },
    {
     "name": "stderr",
     "output_type": "stream",
     "text": [
      "/Users/ZachV/opt/anaconda3/lib/python3.7/site-packages/sklearn/tree/_classes.py:310: FutureWarning: The min_impurity_split parameter is deprecated. Its default value has changed from 1e-7 to 0 in version 0.23, and it will be removed in 0.25. Use the min_impurity_decrease parameter instead.\n",
      "  FutureWarning)\n"
     ]
    },
    {
     "name": "stdout",
     "output_type": "stream",
     "text": [
      "[CV]  ccp_alpha=1, max_leaf_nodes=10, min_impurity_split=0.1, total=   1.9s\n",
      "[CV] ccp_alpha=1, max_leaf_nodes=10, min_impurity_split=0.1 ..........\n"
     ]
    },
    {
     "name": "stderr",
     "output_type": "stream",
     "text": [
      "/Users/ZachV/opt/anaconda3/lib/python3.7/site-packages/sklearn/tree/_classes.py:310: FutureWarning: The min_impurity_split parameter is deprecated. Its default value has changed from 1e-7 to 0 in version 0.23, and it will be removed in 0.25. Use the min_impurity_decrease parameter instead.\n",
      "  FutureWarning)\n"
     ]
    },
    {
     "name": "stdout",
     "output_type": "stream",
     "text": [
      "[CV]  ccp_alpha=1, max_leaf_nodes=10, min_impurity_split=0.1, total=   1.7s\n",
      "[CV] ccp_alpha=1, max_leaf_nodes=10, min_impurity_split=0.1 ..........\n"
     ]
    },
    {
     "name": "stderr",
     "output_type": "stream",
     "text": [
      "/Users/ZachV/opt/anaconda3/lib/python3.7/site-packages/sklearn/tree/_classes.py:310: FutureWarning: The min_impurity_split parameter is deprecated. Its default value has changed from 1e-7 to 0 in version 0.23, and it will be removed in 0.25. Use the min_impurity_decrease parameter instead.\n",
      "  FutureWarning)\n"
     ]
    },
    {
     "name": "stdout",
     "output_type": "stream",
     "text": [
      "[CV]  ccp_alpha=1, max_leaf_nodes=10, min_impurity_split=0.1, total=   1.7s\n",
      "[CV] ccp_alpha=1, max_leaf_nodes=10, min_impurity_split=0.1 ..........\n"
     ]
    },
    {
     "name": "stderr",
     "output_type": "stream",
     "text": [
      "/Users/ZachV/opt/anaconda3/lib/python3.7/site-packages/sklearn/tree/_classes.py:310: FutureWarning: The min_impurity_split parameter is deprecated. Its default value has changed from 1e-7 to 0 in version 0.23, and it will be removed in 0.25. Use the min_impurity_decrease parameter instead.\n",
      "  FutureWarning)\n"
     ]
    },
    {
     "name": "stdout",
     "output_type": "stream",
     "text": [
      "[CV]  ccp_alpha=1, max_leaf_nodes=10, min_impurity_split=0.1, total=   1.6s\n",
      "[CV] ccp_alpha=1, max_leaf_nodes=10, min_impurity_split=0.2 ..........\n"
     ]
    },
    {
     "name": "stderr",
     "output_type": "stream",
     "text": [
      "/Users/ZachV/opt/anaconda3/lib/python3.7/site-packages/sklearn/tree/_classes.py:310: FutureWarning: The min_impurity_split parameter is deprecated. Its default value has changed from 1e-7 to 0 in version 0.23, and it will be removed in 0.25. Use the min_impurity_decrease parameter instead.\n",
      "  FutureWarning)\n"
     ]
    },
    {
     "name": "stdout",
     "output_type": "stream",
     "text": [
      "[CV]  ccp_alpha=1, max_leaf_nodes=10, min_impurity_split=0.2, total=   1.4s\n",
      "[CV] ccp_alpha=1, max_leaf_nodes=10, min_impurity_split=0.2 ..........\n"
     ]
    },
    {
     "name": "stderr",
     "output_type": "stream",
     "text": [
      "/Users/ZachV/opt/anaconda3/lib/python3.7/site-packages/sklearn/tree/_classes.py:310: FutureWarning: The min_impurity_split parameter is deprecated. Its default value has changed from 1e-7 to 0 in version 0.23, and it will be removed in 0.25. Use the min_impurity_decrease parameter instead.\n",
      "  FutureWarning)\n"
     ]
    },
    {
     "name": "stdout",
     "output_type": "stream",
     "text": [
      "[CV]  ccp_alpha=1, max_leaf_nodes=10, min_impurity_split=0.2, total=   1.4s\n",
      "[CV] ccp_alpha=1, max_leaf_nodes=10, min_impurity_split=0.2 ..........\n"
     ]
    },
    {
     "name": "stderr",
     "output_type": "stream",
     "text": [
      "/Users/ZachV/opt/anaconda3/lib/python3.7/site-packages/sklearn/tree/_classes.py:310: FutureWarning: The min_impurity_split parameter is deprecated. Its default value has changed from 1e-7 to 0 in version 0.23, and it will be removed in 0.25. Use the min_impurity_decrease parameter instead.\n",
      "  FutureWarning)\n"
     ]
    },
    {
     "name": "stdout",
     "output_type": "stream",
     "text": [
      "[CV]  ccp_alpha=1, max_leaf_nodes=10, min_impurity_split=0.2, total=   1.4s\n",
      "[CV] ccp_alpha=1, max_leaf_nodes=10, min_impurity_split=0.2 ..........\n"
     ]
    },
    {
     "name": "stderr",
     "output_type": "stream",
     "text": [
      "/Users/ZachV/opt/anaconda3/lib/python3.7/site-packages/sklearn/tree/_classes.py:310: FutureWarning: The min_impurity_split parameter is deprecated. Its default value has changed from 1e-7 to 0 in version 0.23, and it will be removed in 0.25. Use the min_impurity_decrease parameter instead.\n",
      "  FutureWarning)\n"
     ]
    },
    {
     "name": "stdout",
     "output_type": "stream",
     "text": [
      "[CV]  ccp_alpha=1, max_leaf_nodes=10, min_impurity_split=0.2, total=   1.4s\n",
      "[CV] ccp_alpha=1, max_leaf_nodes=10, min_impurity_split=0.2 ..........\n"
     ]
    },
    {
     "name": "stderr",
     "output_type": "stream",
     "text": [
      "/Users/ZachV/opt/anaconda3/lib/python3.7/site-packages/sklearn/tree/_classes.py:310: FutureWarning: The min_impurity_split parameter is deprecated. Its default value has changed from 1e-7 to 0 in version 0.23, and it will be removed in 0.25. Use the min_impurity_decrease parameter instead.\n",
      "  FutureWarning)\n"
     ]
    },
    {
     "name": "stdout",
     "output_type": "stream",
     "text": [
      "[CV]  ccp_alpha=1, max_leaf_nodes=10, min_impurity_split=0.2, total=   1.4s\n",
      "[CV] ccp_alpha=1, max_leaf_nodes=10, min_impurity_split=0.3 ..........\n"
     ]
    },
    {
     "name": "stderr",
     "output_type": "stream",
     "text": [
      "/Users/ZachV/opt/anaconda3/lib/python3.7/site-packages/sklearn/tree/_classes.py:310: FutureWarning: The min_impurity_split parameter is deprecated. Its default value has changed from 1e-7 to 0 in version 0.23, and it will be removed in 0.25. Use the min_impurity_decrease parameter instead.\n",
      "  FutureWarning)\n"
     ]
    },
    {
     "name": "stdout",
     "output_type": "stream",
     "text": [
      "[CV]  ccp_alpha=1, max_leaf_nodes=10, min_impurity_split=0.3, total=   1.2s\n",
      "[CV] ccp_alpha=1, max_leaf_nodes=10, min_impurity_split=0.3 ..........\n"
     ]
    },
    {
     "name": "stderr",
     "output_type": "stream",
     "text": [
      "/Users/ZachV/opt/anaconda3/lib/python3.7/site-packages/sklearn/tree/_classes.py:310: FutureWarning: The min_impurity_split parameter is deprecated. Its default value has changed from 1e-7 to 0 in version 0.23, and it will be removed in 0.25. Use the min_impurity_decrease parameter instead.\n",
      "  FutureWarning)\n"
     ]
    },
    {
     "name": "stdout",
     "output_type": "stream",
     "text": [
      "[CV]  ccp_alpha=1, max_leaf_nodes=10, min_impurity_split=0.3, total=   1.2s\n",
      "[CV] ccp_alpha=1, max_leaf_nodes=10, min_impurity_split=0.3 ..........\n"
     ]
    },
    {
     "name": "stderr",
     "output_type": "stream",
     "text": [
      "/Users/ZachV/opt/anaconda3/lib/python3.7/site-packages/sklearn/tree/_classes.py:310: FutureWarning: The min_impurity_split parameter is deprecated. Its default value has changed from 1e-7 to 0 in version 0.23, and it will be removed in 0.25. Use the min_impurity_decrease parameter instead.\n",
      "  FutureWarning)\n"
     ]
    },
    {
     "name": "stdout",
     "output_type": "stream",
     "text": [
      "[CV]  ccp_alpha=1, max_leaf_nodes=10, min_impurity_split=0.3, total=   1.2s\n",
      "[CV] ccp_alpha=1, max_leaf_nodes=10, min_impurity_split=0.3 ..........\n"
     ]
    },
    {
     "name": "stderr",
     "output_type": "stream",
     "text": [
      "/Users/ZachV/opt/anaconda3/lib/python3.7/site-packages/sklearn/tree/_classes.py:310: FutureWarning: The min_impurity_split parameter is deprecated. Its default value has changed from 1e-7 to 0 in version 0.23, and it will be removed in 0.25. Use the min_impurity_decrease parameter instead.\n",
      "  FutureWarning)\n"
     ]
    },
    {
     "name": "stdout",
     "output_type": "stream",
     "text": [
      "[CV]  ccp_alpha=1, max_leaf_nodes=10, min_impurity_split=0.3, total=   1.2s\n",
      "[CV] ccp_alpha=1, max_leaf_nodes=10, min_impurity_split=0.3 ..........\n"
     ]
    },
    {
     "name": "stderr",
     "output_type": "stream",
     "text": [
      "/Users/ZachV/opt/anaconda3/lib/python3.7/site-packages/sklearn/tree/_classes.py:310: FutureWarning: The min_impurity_split parameter is deprecated. Its default value has changed from 1e-7 to 0 in version 0.23, and it will be removed in 0.25. Use the min_impurity_decrease parameter instead.\n",
      "  FutureWarning)\n"
     ]
    },
    {
     "name": "stdout",
     "output_type": "stream",
     "text": [
      "[CV]  ccp_alpha=1, max_leaf_nodes=10, min_impurity_split=0.3, total=   1.2s\n",
      "[CV] ccp_alpha=1, max_leaf_nodes=10, min_impurity_split=0.4 ..........\n"
     ]
    },
    {
     "name": "stderr",
     "output_type": "stream",
     "text": [
      "/Users/ZachV/opt/anaconda3/lib/python3.7/site-packages/sklearn/tree/_classes.py:310: FutureWarning: The min_impurity_split parameter is deprecated. Its default value has changed from 1e-7 to 0 in version 0.23, and it will be removed in 0.25. Use the min_impurity_decrease parameter instead.\n",
      "  FutureWarning)\n"
     ]
    },
    {
     "name": "stdout",
     "output_type": "stream",
     "text": [
      "[CV]  ccp_alpha=1, max_leaf_nodes=10, min_impurity_split=0.4, total=   0.9s\n",
      "[CV] ccp_alpha=1, max_leaf_nodes=10, min_impurity_split=0.4 ..........\n"
     ]
    },
    {
     "name": "stderr",
     "output_type": "stream",
     "text": [
      "/Users/ZachV/opt/anaconda3/lib/python3.7/site-packages/sklearn/tree/_classes.py:310: FutureWarning: The min_impurity_split parameter is deprecated. Its default value has changed from 1e-7 to 0 in version 0.23, and it will be removed in 0.25. Use the min_impurity_decrease parameter instead.\n",
      "  FutureWarning)\n"
     ]
    },
    {
     "name": "stdout",
     "output_type": "stream",
     "text": [
      "[CV]  ccp_alpha=1, max_leaf_nodes=10, min_impurity_split=0.4, total=   0.9s\n",
      "[CV] ccp_alpha=1, max_leaf_nodes=10, min_impurity_split=0.4 ..........\n"
     ]
    },
    {
     "name": "stderr",
     "output_type": "stream",
     "text": [
      "/Users/ZachV/opt/anaconda3/lib/python3.7/site-packages/sklearn/tree/_classes.py:310: FutureWarning: The min_impurity_split parameter is deprecated. Its default value has changed from 1e-7 to 0 in version 0.23, and it will be removed in 0.25. Use the min_impurity_decrease parameter instead.\n",
      "  FutureWarning)\n"
     ]
    },
    {
     "name": "stdout",
     "output_type": "stream",
     "text": [
      "[CV]  ccp_alpha=1, max_leaf_nodes=10, min_impurity_split=0.4, total=   0.9s\n",
      "[CV] ccp_alpha=1, max_leaf_nodes=10, min_impurity_split=0.4 ..........\n"
     ]
    },
    {
     "name": "stderr",
     "output_type": "stream",
     "text": [
      "/Users/ZachV/opt/anaconda3/lib/python3.7/site-packages/sklearn/tree/_classes.py:310: FutureWarning: The min_impurity_split parameter is deprecated. Its default value has changed from 1e-7 to 0 in version 0.23, and it will be removed in 0.25. Use the min_impurity_decrease parameter instead.\n",
      "  FutureWarning)\n"
     ]
    },
    {
     "name": "stdout",
     "output_type": "stream",
     "text": [
      "[CV]  ccp_alpha=1, max_leaf_nodes=10, min_impurity_split=0.4, total=   0.9s\n",
      "[CV] ccp_alpha=1, max_leaf_nodes=10, min_impurity_split=0.4 ..........\n"
     ]
    },
    {
     "name": "stderr",
     "output_type": "stream",
     "text": [
      "/Users/ZachV/opt/anaconda3/lib/python3.7/site-packages/sklearn/tree/_classes.py:310: FutureWarning: The min_impurity_split parameter is deprecated. Its default value has changed from 1e-7 to 0 in version 0.23, and it will be removed in 0.25. Use the min_impurity_decrease parameter instead.\n",
      "  FutureWarning)\n"
     ]
    },
    {
     "name": "stdout",
     "output_type": "stream",
     "text": [
      "[CV]  ccp_alpha=1, max_leaf_nodes=10, min_impurity_split=0.4, total=   0.9s\n",
      "[CV] ccp_alpha=1, max_leaf_nodes=10, min_impurity_split=0.5 ..........\n"
     ]
    },
    {
     "name": "stderr",
     "output_type": "stream",
     "text": [
      "/Users/ZachV/opt/anaconda3/lib/python3.7/site-packages/sklearn/tree/_classes.py:310: FutureWarning: The min_impurity_split parameter is deprecated. Its default value has changed from 1e-7 to 0 in version 0.23, and it will be removed in 0.25. Use the min_impurity_decrease parameter instead.\n",
      "  FutureWarning)\n"
     ]
    },
    {
     "name": "stdout",
     "output_type": "stream",
     "text": [
      "[CV]  ccp_alpha=1, max_leaf_nodes=10, min_impurity_split=0.5, total=   1.1s\n",
      "[CV] ccp_alpha=1, max_leaf_nodes=10, min_impurity_split=0.5 ..........\n"
     ]
    },
    {
     "name": "stderr",
     "output_type": "stream",
     "text": [
      "/Users/ZachV/opt/anaconda3/lib/python3.7/site-packages/sklearn/tree/_classes.py:310: FutureWarning: The min_impurity_split parameter is deprecated. Its default value has changed from 1e-7 to 0 in version 0.23, and it will be removed in 0.25. Use the min_impurity_decrease parameter instead.\n",
      "  FutureWarning)\n"
     ]
    },
    {
     "name": "stdout",
     "output_type": "stream",
     "text": [
      "[CV]  ccp_alpha=1, max_leaf_nodes=10, min_impurity_split=0.5, total=   1.0s\n",
      "[CV] ccp_alpha=1, max_leaf_nodes=10, min_impurity_split=0.5 ..........\n"
     ]
    },
    {
     "name": "stderr",
     "output_type": "stream",
     "text": [
      "/Users/ZachV/opt/anaconda3/lib/python3.7/site-packages/sklearn/tree/_classes.py:310: FutureWarning: The min_impurity_split parameter is deprecated. Its default value has changed from 1e-7 to 0 in version 0.23, and it will be removed in 0.25. Use the min_impurity_decrease parameter instead.\n",
      "  FutureWarning)\n"
     ]
    },
    {
     "name": "stdout",
     "output_type": "stream",
     "text": [
      "[CV]  ccp_alpha=1, max_leaf_nodes=10, min_impurity_split=0.5, total=   1.0s\n",
      "[CV] ccp_alpha=1, max_leaf_nodes=10, min_impurity_split=0.5 ..........\n"
     ]
    },
    {
     "name": "stderr",
     "output_type": "stream",
     "text": [
      "/Users/ZachV/opt/anaconda3/lib/python3.7/site-packages/sklearn/tree/_classes.py:310: FutureWarning: The min_impurity_split parameter is deprecated. Its default value has changed from 1e-7 to 0 in version 0.23, and it will be removed in 0.25. Use the min_impurity_decrease parameter instead.\n",
      "  FutureWarning)\n"
     ]
    },
    {
     "name": "stdout",
     "output_type": "stream",
     "text": [
      "[CV]  ccp_alpha=1, max_leaf_nodes=10, min_impurity_split=0.5, total=   1.0s\n",
      "[CV] ccp_alpha=1, max_leaf_nodes=10, min_impurity_split=0.5 ..........\n"
     ]
    },
    {
     "name": "stderr",
     "output_type": "stream",
     "text": [
      "/Users/ZachV/opt/anaconda3/lib/python3.7/site-packages/sklearn/tree/_classes.py:310: FutureWarning: The min_impurity_split parameter is deprecated. Its default value has changed from 1e-7 to 0 in version 0.23, and it will be removed in 0.25. Use the min_impurity_decrease parameter instead.\n",
      "  FutureWarning)\n"
     ]
    },
    {
     "name": "stdout",
     "output_type": "stream",
     "text": [
      "[CV]  ccp_alpha=1, max_leaf_nodes=10, min_impurity_split=0.5, total=   1.0s\n",
      "[CV] ccp_alpha=1, max_leaf_nodes=15, min_impurity_split=0 ............\n"
     ]
    },
    {
     "name": "stderr",
     "output_type": "stream",
     "text": [
      "/Users/ZachV/opt/anaconda3/lib/python3.7/site-packages/sklearn/tree/_classes.py:310: FutureWarning: The min_impurity_split parameter is deprecated. Its default value has changed from 1e-7 to 0 in version 0.23, and it will be removed in 0.25. Use the min_impurity_decrease parameter instead.\n",
      "  FutureWarning)\n"
     ]
    },
    {
     "name": "stdout",
     "output_type": "stream",
     "text": [
      "[CV]  ccp_alpha=1, max_leaf_nodes=15, min_impurity_split=0, total=   2.5s\n",
      "[CV] ccp_alpha=1, max_leaf_nodes=15, min_impurity_split=0 ............\n"
     ]
    },
    {
     "name": "stderr",
     "output_type": "stream",
     "text": [
      "/Users/ZachV/opt/anaconda3/lib/python3.7/site-packages/sklearn/tree/_classes.py:310: FutureWarning: The min_impurity_split parameter is deprecated. Its default value has changed from 1e-7 to 0 in version 0.23, and it will be removed in 0.25. Use the min_impurity_decrease parameter instead.\n",
      "  FutureWarning)\n"
     ]
    },
    {
     "name": "stdout",
     "output_type": "stream",
     "text": [
      "[CV]  ccp_alpha=1, max_leaf_nodes=15, min_impurity_split=0, total=   2.5s\n",
      "[CV] ccp_alpha=1, max_leaf_nodes=15, min_impurity_split=0 ............\n"
     ]
    },
    {
     "name": "stderr",
     "output_type": "stream",
     "text": [
      "/Users/ZachV/opt/anaconda3/lib/python3.7/site-packages/sklearn/tree/_classes.py:310: FutureWarning: The min_impurity_split parameter is deprecated. Its default value has changed from 1e-7 to 0 in version 0.23, and it will be removed in 0.25. Use the min_impurity_decrease parameter instead.\n",
      "  FutureWarning)\n"
     ]
    },
    {
     "name": "stdout",
     "output_type": "stream",
     "text": [
      "[CV]  ccp_alpha=1, max_leaf_nodes=15, min_impurity_split=0, total=   2.8s\n",
      "[CV] ccp_alpha=1, max_leaf_nodes=15, min_impurity_split=0 ............\n"
     ]
    },
    {
     "name": "stderr",
     "output_type": "stream",
     "text": [
      "/Users/ZachV/opt/anaconda3/lib/python3.7/site-packages/sklearn/tree/_classes.py:310: FutureWarning: The min_impurity_split parameter is deprecated. Its default value has changed from 1e-7 to 0 in version 0.23, and it will be removed in 0.25. Use the min_impurity_decrease parameter instead.\n",
      "  FutureWarning)\n"
     ]
    },
    {
     "name": "stdout",
     "output_type": "stream",
     "text": [
      "[CV]  ccp_alpha=1, max_leaf_nodes=15, min_impurity_split=0, total=   2.7s\n",
      "[CV] ccp_alpha=1, max_leaf_nodes=15, min_impurity_split=0 ............\n"
     ]
    },
    {
     "name": "stderr",
     "output_type": "stream",
     "text": [
      "/Users/ZachV/opt/anaconda3/lib/python3.7/site-packages/sklearn/tree/_classes.py:310: FutureWarning: The min_impurity_split parameter is deprecated. Its default value has changed from 1e-7 to 0 in version 0.23, and it will be removed in 0.25. Use the min_impurity_decrease parameter instead.\n",
      "  FutureWarning)\n"
     ]
    },
    {
     "name": "stdout",
     "output_type": "stream",
     "text": [
      "[CV]  ccp_alpha=1, max_leaf_nodes=15, min_impurity_split=0, total=   2.9s\n",
      "[CV] ccp_alpha=1, max_leaf_nodes=15, min_impurity_split=0.1 ..........\n"
     ]
    },
    {
     "name": "stderr",
     "output_type": "stream",
     "text": [
      "/Users/ZachV/opt/anaconda3/lib/python3.7/site-packages/sklearn/tree/_classes.py:310: FutureWarning: The min_impurity_split parameter is deprecated. Its default value has changed from 1e-7 to 0 in version 0.23, and it will be removed in 0.25. Use the min_impurity_decrease parameter instead.\n",
      "  FutureWarning)\n"
     ]
    },
    {
     "name": "stdout",
     "output_type": "stream",
     "text": [
      "[CV]  ccp_alpha=1, max_leaf_nodes=15, min_impurity_split=0.1, total=   2.5s\n",
      "[CV] ccp_alpha=1, max_leaf_nodes=15, min_impurity_split=0.1 ..........\n"
     ]
    },
    {
     "name": "stderr",
     "output_type": "stream",
     "text": [
      "/Users/ZachV/opt/anaconda3/lib/python3.7/site-packages/sklearn/tree/_classes.py:310: FutureWarning: The min_impurity_split parameter is deprecated. Its default value has changed from 1e-7 to 0 in version 0.23, and it will be removed in 0.25. Use the min_impurity_decrease parameter instead.\n",
      "  FutureWarning)\n"
     ]
    },
    {
     "name": "stdout",
     "output_type": "stream",
     "text": [
      "[CV]  ccp_alpha=1, max_leaf_nodes=15, min_impurity_split=0.1, total=   2.9s\n",
      "[CV] ccp_alpha=1, max_leaf_nodes=15, min_impurity_split=0.1 ..........\n"
     ]
    },
    {
     "name": "stderr",
     "output_type": "stream",
     "text": [
      "/Users/ZachV/opt/anaconda3/lib/python3.7/site-packages/sklearn/tree/_classes.py:310: FutureWarning: The min_impurity_split parameter is deprecated. Its default value has changed from 1e-7 to 0 in version 0.23, and it will be removed in 0.25. Use the min_impurity_decrease parameter instead.\n",
      "  FutureWarning)\n"
     ]
    },
    {
     "name": "stdout",
     "output_type": "stream",
     "text": [
      "[CV]  ccp_alpha=1, max_leaf_nodes=15, min_impurity_split=0.1, total=   3.7s\n",
      "[CV] ccp_alpha=1, max_leaf_nodes=15, min_impurity_split=0.1 ..........\n"
     ]
    },
    {
     "name": "stderr",
     "output_type": "stream",
     "text": [
      "/Users/ZachV/opt/anaconda3/lib/python3.7/site-packages/sklearn/tree/_classes.py:310: FutureWarning: The min_impurity_split parameter is deprecated. Its default value has changed from 1e-7 to 0 in version 0.23, and it will be removed in 0.25. Use the min_impurity_decrease parameter instead.\n",
      "  FutureWarning)\n"
     ]
    },
    {
     "name": "stdout",
     "output_type": "stream",
     "text": [
      "[CV]  ccp_alpha=1, max_leaf_nodes=15, min_impurity_split=0.1, total=   8.0s\n",
      "[CV] ccp_alpha=1, max_leaf_nodes=15, min_impurity_split=0.1 ..........\n"
     ]
    },
    {
     "name": "stderr",
     "output_type": "stream",
     "text": [
      "/Users/ZachV/opt/anaconda3/lib/python3.7/site-packages/sklearn/tree/_classes.py:310: FutureWarning: The min_impurity_split parameter is deprecated. Its default value has changed from 1e-7 to 0 in version 0.23, and it will be removed in 0.25. Use the min_impurity_decrease parameter instead.\n",
      "  FutureWarning)\n"
     ]
    },
    {
     "name": "stdout",
     "output_type": "stream",
     "text": [
      "[CV]  ccp_alpha=1, max_leaf_nodes=15, min_impurity_split=0.1, total=   2.5s\n",
      "[CV] ccp_alpha=1, max_leaf_nodes=15, min_impurity_split=0.2 ..........\n"
     ]
    },
    {
     "name": "stderr",
     "output_type": "stream",
     "text": [
      "/Users/ZachV/opt/anaconda3/lib/python3.7/site-packages/sklearn/tree/_classes.py:310: FutureWarning: The min_impurity_split parameter is deprecated. Its default value has changed from 1e-7 to 0 in version 0.23, and it will be removed in 0.25. Use the min_impurity_decrease parameter instead.\n",
      "  FutureWarning)\n"
     ]
    },
    {
     "name": "stdout",
     "output_type": "stream",
     "text": [
      "[CV]  ccp_alpha=1, max_leaf_nodes=15, min_impurity_split=0.2, total=   1.6s\n",
      "[CV] ccp_alpha=1, max_leaf_nodes=15, min_impurity_split=0.2 ..........\n"
     ]
    },
    {
     "name": "stderr",
     "output_type": "stream",
     "text": [
      "/Users/ZachV/opt/anaconda3/lib/python3.7/site-packages/sklearn/tree/_classes.py:310: FutureWarning: The min_impurity_split parameter is deprecated. Its default value has changed from 1e-7 to 0 in version 0.23, and it will be removed in 0.25. Use the min_impurity_decrease parameter instead.\n",
      "  FutureWarning)\n"
     ]
    },
    {
     "name": "stdout",
     "output_type": "stream",
     "text": [
      "[CV]  ccp_alpha=1, max_leaf_nodes=15, min_impurity_split=0.2, total=   1.4s\n",
      "[CV] ccp_alpha=1, max_leaf_nodes=15, min_impurity_split=0.2 ..........\n"
     ]
    },
    {
     "name": "stderr",
     "output_type": "stream",
     "text": [
      "/Users/ZachV/opt/anaconda3/lib/python3.7/site-packages/sklearn/tree/_classes.py:310: FutureWarning: The min_impurity_split parameter is deprecated. Its default value has changed from 1e-7 to 0 in version 0.23, and it will be removed in 0.25. Use the min_impurity_decrease parameter instead.\n",
      "  FutureWarning)\n"
     ]
    },
    {
     "name": "stdout",
     "output_type": "stream",
     "text": [
      "[CV]  ccp_alpha=1, max_leaf_nodes=15, min_impurity_split=0.2, total=   1.4s\n",
      "[CV] ccp_alpha=1, max_leaf_nodes=15, min_impurity_split=0.2 ..........\n"
     ]
    },
    {
     "name": "stderr",
     "output_type": "stream",
     "text": [
      "/Users/ZachV/opt/anaconda3/lib/python3.7/site-packages/sklearn/tree/_classes.py:310: FutureWarning: The min_impurity_split parameter is deprecated. Its default value has changed from 1e-7 to 0 in version 0.23, and it will be removed in 0.25. Use the min_impurity_decrease parameter instead.\n",
      "  FutureWarning)\n"
     ]
    },
    {
     "name": "stdout",
     "output_type": "stream",
     "text": [
      "[CV]  ccp_alpha=1, max_leaf_nodes=15, min_impurity_split=0.2, total=   1.5s\n",
      "[CV] ccp_alpha=1, max_leaf_nodes=15, min_impurity_split=0.2 ..........\n"
     ]
    },
    {
     "name": "stderr",
     "output_type": "stream",
     "text": [
      "/Users/ZachV/opt/anaconda3/lib/python3.7/site-packages/sklearn/tree/_classes.py:310: FutureWarning: The min_impurity_split parameter is deprecated. Its default value has changed from 1e-7 to 0 in version 0.23, and it will be removed in 0.25. Use the min_impurity_decrease parameter instead.\n",
      "  FutureWarning)\n"
     ]
    },
    {
     "name": "stdout",
     "output_type": "stream",
     "text": [
      "[CV]  ccp_alpha=1, max_leaf_nodes=15, min_impurity_split=0.2, total=   1.5s\n",
      "[CV] ccp_alpha=1, max_leaf_nodes=15, min_impurity_split=0.3 ..........\n"
     ]
    },
    {
     "name": "stderr",
     "output_type": "stream",
     "text": [
      "/Users/ZachV/opt/anaconda3/lib/python3.7/site-packages/sklearn/tree/_classes.py:310: FutureWarning: The min_impurity_split parameter is deprecated. Its default value has changed from 1e-7 to 0 in version 0.23, and it will be removed in 0.25. Use the min_impurity_decrease parameter instead.\n",
      "  FutureWarning)\n"
     ]
    },
    {
     "name": "stdout",
     "output_type": "stream",
     "text": [
      "[CV]  ccp_alpha=1, max_leaf_nodes=15, min_impurity_split=0.3, total=   1.3s\n",
      "[CV] ccp_alpha=1, max_leaf_nodes=15, min_impurity_split=0.3 ..........\n"
     ]
    },
    {
     "name": "stderr",
     "output_type": "stream",
     "text": [
      "/Users/ZachV/opt/anaconda3/lib/python3.7/site-packages/sklearn/tree/_classes.py:310: FutureWarning: The min_impurity_split parameter is deprecated. Its default value has changed from 1e-7 to 0 in version 0.23, and it will be removed in 0.25. Use the min_impurity_decrease parameter instead.\n",
      "  FutureWarning)\n"
     ]
    },
    {
     "name": "stdout",
     "output_type": "stream",
     "text": [
      "[CV]  ccp_alpha=1, max_leaf_nodes=15, min_impurity_split=0.3, total=   1.2s\n",
      "[CV] ccp_alpha=1, max_leaf_nodes=15, min_impurity_split=0.3 ..........\n"
     ]
    },
    {
     "name": "stderr",
     "output_type": "stream",
     "text": [
      "/Users/ZachV/opt/anaconda3/lib/python3.7/site-packages/sklearn/tree/_classes.py:310: FutureWarning: The min_impurity_split parameter is deprecated. Its default value has changed from 1e-7 to 0 in version 0.23, and it will be removed in 0.25. Use the min_impurity_decrease parameter instead.\n",
      "  FutureWarning)\n"
     ]
    },
    {
     "name": "stdout",
     "output_type": "stream",
     "text": [
      "[CV]  ccp_alpha=1, max_leaf_nodes=15, min_impurity_split=0.3, total=   1.3s\n",
      "[CV] ccp_alpha=1, max_leaf_nodes=15, min_impurity_split=0.3 ..........\n"
     ]
    },
    {
     "name": "stderr",
     "output_type": "stream",
     "text": [
      "/Users/ZachV/opt/anaconda3/lib/python3.7/site-packages/sklearn/tree/_classes.py:310: FutureWarning: The min_impurity_split parameter is deprecated. Its default value has changed from 1e-7 to 0 in version 0.23, and it will be removed in 0.25. Use the min_impurity_decrease parameter instead.\n",
      "  FutureWarning)\n"
     ]
    },
    {
     "name": "stdout",
     "output_type": "stream",
     "text": [
      "[CV]  ccp_alpha=1, max_leaf_nodes=15, min_impurity_split=0.3, total=   1.3s\n",
      "[CV] ccp_alpha=1, max_leaf_nodes=15, min_impurity_split=0.3 ..........\n"
     ]
    },
    {
     "name": "stderr",
     "output_type": "stream",
     "text": [
      "/Users/ZachV/opt/anaconda3/lib/python3.7/site-packages/sklearn/tree/_classes.py:310: FutureWarning: The min_impurity_split parameter is deprecated. Its default value has changed from 1e-7 to 0 in version 0.23, and it will be removed in 0.25. Use the min_impurity_decrease parameter instead.\n",
      "  FutureWarning)\n"
     ]
    },
    {
     "name": "stdout",
     "output_type": "stream",
     "text": [
      "[CV]  ccp_alpha=1, max_leaf_nodes=15, min_impurity_split=0.3, total=   1.3s\n",
      "[CV] ccp_alpha=1, max_leaf_nodes=15, min_impurity_split=0.4 ..........\n"
     ]
    },
    {
     "name": "stderr",
     "output_type": "stream",
     "text": [
      "/Users/ZachV/opt/anaconda3/lib/python3.7/site-packages/sklearn/tree/_classes.py:310: FutureWarning: The min_impurity_split parameter is deprecated. Its default value has changed from 1e-7 to 0 in version 0.23, and it will be removed in 0.25. Use the min_impurity_decrease parameter instead.\n",
      "  FutureWarning)\n"
     ]
    },
    {
     "name": "stdout",
     "output_type": "stream",
     "text": [
      "[CV]  ccp_alpha=1, max_leaf_nodes=15, min_impurity_split=0.4, total=   0.9s\n",
      "[CV] ccp_alpha=1, max_leaf_nodes=15, min_impurity_split=0.4 ..........\n"
     ]
    },
    {
     "name": "stderr",
     "output_type": "stream",
     "text": [
      "/Users/ZachV/opt/anaconda3/lib/python3.7/site-packages/sklearn/tree/_classes.py:310: FutureWarning: The min_impurity_split parameter is deprecated. Its default value has changed from 1e-7 to 0 in version 0.23, and it will be removed in 0.25. Use the min_impurity_decrease parameter instead.\n",
      "  FutureWarning)\n"
     ]
    },
    {
     "name": "stdout",
     "output_type": "stream",
     "text": [
      "[CV]  ccp_alpha=1, max_leaf_nodes=15, min_impurity_split=0.4, total=   0.9s\n",
      "[CV] ccp_alpha=1, max_leaf_nodes=15, min_impurity_split=0.4 ..........\n"
     ]
    },
    {
     "name": "stderr",
     "output_type": "stream",
     "text": [
      "/Users/ZachV/opt/anaconda3/lib/python3.7/site-packages/sklearn/tree/_classes.py:310: FutureWarning: The min_impurity_split parameter is deprecated. Its default value has changed from 1e-7 to 0 in version 0.23, and it will be removed in 0.25. Use the min_impurity_decrease parameter instead.\n",
      "  FutureWarning)\n"
     ]
    },
    {
     "name": "stdout",
     "output_type": "stream",
     "text": [
      "[CV]  ccp_alpha=1, max_leaf_nodes=15, min_impurity_split=0.4, total=   0.9s\n",
      "[CV] ccp_alpha=1, max_leaf_nodes=15, min_impurity_split=0.4 ..........\n"
     ]
    },
    {
     "name": "stderr",
     "output_type": "stream",
     "text": [
      "/Users/ZachV/opt/anaconda3/lib/python3.7/site-packages/sklearn/tree/_classes.py:310: FutureWarning: The min_impurity_split parameter is deprecated. Its default value has changed from 1e-7 to 0 in version 0.23, and it will be removed in 0.25. Use the min_impurity_decrease parameter instead.\n",
      "  FutureWarning)\n"
     ]
    },
    {
     "name": "stdout",
     "output_type": "stream",
     "text": [
      "[CV]  ccp_alpha=1, max_leaf_nodes=15, min_impurity_split=0.4, total=   0.9s\n",
      "[CV] ccp_alpha=1, max_leaf_nodes=15, min_impurity_split=0.4 ..........\n"
     ]
    },
    {
     "name": "stderr",
     "output_type": "stream",
     "text": [
      "/Users/ZachV/opt/anaconda3/lib/python3.7/site-packages/sklearn/tree/_classes.py:310: FutureWarning: The min_impurity_split parameter is deprecated. Its default value has changed from 1e-7 to 0 in version 0.23, and it will be removed in 0.25. Use the min_impurity_decrease parameter instead.\n",
      "  FutureWarning)\n"
     ]
    },
    {
     "name": "stdout",
     "output_type": "stream",
     "text": [
      "[CV]  ccp_alpha=1, max_leaf_nodes=15, min_impurity_split=0.4, total=   0.9s\n",
      "[CV] ccp_alpha=1, max_leaf_nodes=15, min_impurity_split=0.5 ..........\n"
     ]
    },
    {
     "name": "stderr",
     "output_type": "stream",
     "text": [
      "/Users/ZachV/opt/anaconda3/lib/python3.7/site-packages/sklearn/tree/_classes.py:310: FutureWarning: The min_impurity_split parameter is deprecated. Its default value has changed from 1e-7 to 0 in version 0.23, and it will be removed in 0.25. Use the min_impurity_decrease parameter instead.\n",
      "  FutureWarning)\n"
     ]
    },
    {
     "name": "stdout",
     "output_type": "stream",
     "text": [
      "[CV]  ccp_alpha=1, max_leaf_nodes=15, min_impurity_split=0.5, total=   0.9s\n",
      "[CV] ccp_alpha=1, max_leaf_nodes=15, min_impurity_split=0.5 ..........\n"
     ]
    },
    {
     "name": "stderr",
     "output_type": "stream",
     "text": [
      "/Users/ZachV/opt/anaconda3/lib/python3.7/site-packages/sklearn/tree/_classes.py:310: FutureWarning: The min_impurity_split parameter is deprecated. Its default value has changed from 1e-7 to 0 in version 0.23, and it will be removed in 0.25. Use the min_impurity_decrease parameter instead.\n",
      "  FutureWarning)\n"
     ]
    },
    {
     "name": "stdout",
     "output_type": "stream",
     "text": [
      "[CV]  ccp_alpha=1, max_leaf_nodes=15, min_impurity_split=0.5, total=   0.9s\n",
      "[CV] ccp_alpha=1, max_leaf_nodes=15, min_impurity_split=0.5 ..........\n"
     ]
    },
    {
     "name": "stderr",
     "output_type": "stream",
     "text": [
      "/Users/ZachV/opt/anaconda3/lib/python3.7/site-packages/sklearn/tree/_classes.py:310: FutureWarning: The min_impurity_split parameter is deprecated. Its default value has changed from 1e-7 to 0 in version 0.23, and it will be removed in 0.25. Use the min_impurity_decrease parameter instead.\n",
      "  FutureWarning)\n"
     ]
    },
    {
     "name": "stdout",
     "output_type": "stream",
     "text": [
      "[CV]  ccp_alpha=1, max_leaf_nodes=15, min_impurity_split=0.5, total=   0.9s\n",
      "[CV] ccp_alpha=1, max_leaf_nodes=15, min_impurity_split=0.5 ..........\n"
     ]
    },
    {
     "name": "stderr",
     "output_type": "stream",
     "text": [
      "/Users/ZachV/opt/anaconda3/lib/python3.7/site-packages/sklearn/tree/_classes.py:310: FutureWarning: The min_impurity_split parameter is deprecated. Its default value has changed from 1e-7 to 0 in version 0.23, and it will be removed in 0.25. Use the min_impurity_decrease parameter instead.\n",
      "  FutureWarning)\n"
     ]
    },
    {
     "name": "stdout",
     "output_type": "stream",
     "text": [
      "[CV]  ccp_alpha=1, max_leaf_nodes=15, min_impurity_split=0.5, total=   1.2s\n",
      "[CV] ccp_alpha=1, max_leaf_nodes=15, min_impurity_split=0.5 ..........\n"
     ]
    },
    {
     "name": "stderr",
     "output_type": "stream",
     "text": [
      "/Users/ZachV/opt/anaconda3/lib/python3.7/site-packages/sklearn/tree/_classes.py:310: FutureWarning: The min_impurity_split parameter is deprecated. Its default value has changed from 1e-7 to 0 in version 0.23, and it will be removed in 0.25. Use the min_impurity_decrease parameter instead.\n",
      "  FutureWarning)\n"
     ]
    },
    {
     "name": "stdout",
     "output_type": "stream",
     "text": [
      "[CV]  ccp_alpha=1, max_leaf_nodes=15, min_impurity_split=0.5, total=   0.9s\n",
      "[CV] ccp_alpha=1, max_leaf_nodes=25, min_impurity_split=0 ............\n"
     ]
    },
    {
     "name": "stderr",
     "output_type": "stream",
     "text": [
      "/Users/ZachV/opt/anaconda3/lib/python3.7/site-packages/sklearn/tree/_classes.py:310: FutureWarning: The min_impurity_split parameter is deprecated. Its default value has changed from 1e-7 to 0 in version 0.23, and it will be removed in 0.25. Use the min_impurity_decrease parameter instead.\n",
      "  FutureWarning)\n"
     ]
    },
    {
     "name": "stdout",
     "output_type": "stream",
     "text": [
      "[CV]  ccp_alpha=1, max_leaf_nodes=25, min_impurity_split=0, total=   2.6s\n",
      "[CV] ccp_alpha=1, max_leaf_nodes=25, min_impurity_split=0 ............\n"
     ]
    },
    {
     "name": "stderr",
     "output_type": "stream",
     "text": [
      "/Users/ZachV/opt/anaconda3/lib/python3.7/site-packages/sklearn/tree/_classes.py:310: FutureWarning: The min_impurity_split parameter is deprecated. Its default value has changed from 1e-7 to 0 in version 0.23, and it will be removed in 0.25. Use the min_impurity_decrease parameter instead.\n",
      "  FutureWarning)\n"
     ]
    },
    {
     "name": "stdout",
     "output_type": "stream",
     "text": [
      "[CV]  ccp_alpha=1, max_leaf_nodes=25, min_impurity_split=0, total=   4.2s\n",
      "[CV] ccp_alpha=1, max_leaf_nodes=25, min_impurity_split=0 ............\n"
     ]
    },
    {
     "name": "stderr",
     "output_type": "stream",
     "text": [
      "/Users/ZachV/opt/anaconda3/lib/python3.7/site-packages/sklearn/tree/_classes.py:310: FutureWarning: The min_impurity_split parameter is deprecated. Its default value has changed from 1e-7 to 0 in version 0.23, and it will be removed in 0.25. Use the min_impurity_decrease parameter instead.\n",
      "  FutureWarning)\n"
     ]
    },
    {
     "name": "stdout",
     "output_type": "stream",
     "text": [
      "[CV]  ccp_alpha=1, max_leaf_nodes=25, min_impurity_split=0, total=   2.7s\n",
      "[CV] ccp_alpha=1, max_leaf_nodes=25, min_impurity_split=0 ............\n"
     ]
    },
    {
     "name": "stderr",
     "output_type": "stream",
     "text": [
      "/Users/ZachV/opt/anaconda3/lib/python3.7/site-packages/sklearn/tree/_classes.py:310: FutureWarning: The min_impurity_split parameter is deprecated. Its default value has changed from 1e-7 to 0 in version 0.23, and it will be removed in 0.25. Use the min_impurity_decrease parameter instead.\n",
      "  FutureWarning)\n"
     ]
    },
    {
     "name": "stdout",
     "output_type": "stream",
     "text": [
      "[CV]  ccp_alpha=1, max_leaf_nodes=25, min_impurity_split=0, total=   2.5s\n",
      "[CV] ccp_alpha=1, max_leaf_nodes=25, min_impurity_split=0 ............\n"
     ]
    },
    {
     "name": "stderr",
     "output_type": "stream",
     "text": [
      "/Users/ZachV/opt/anaconda3/lib/python3.7/site-packages/sklearn/tree/_classes.py:310: FutureWarning: The min_impurity_split parameter is deprecated. Its default value has changed from 1e-7 to 0 in version 0.23, and it will be removed in 0.25. Use the min_impurity_decrease parameter instead.\n",
      "  FutureWarning)\n"
     ]
    },
    {
     "name": "stdout",
     "output_type": "stream",
     "text": [
      "[CV]  ccp_alpha=1, max_leaf_nodes=25, min_impurity_split=0, total=   2.6s\n",
      "[CV] ccp_alpha=1, max_leaf_nodes=25, min_impurity_split=0.1 ..........\n"
     ]
    },
    {
     "name": "stderr",
     "output_type": "stream",
     "text": [
      "/Users/ZachV/opt/anaconda3/lib/python3.7/site-packages/sklearn/tree/_classes.py:310: FutureWarning: The min_impurity_split parameter is deprecated. Its default value has changed from 1e-7 to 0 in version 0.23, and it will be removed in 0.25. Use the min_impurity_decrease parameter instead.\n",
      "  FutureWarning)\n"
     ]
    },
    {
     "name": "stdout",
     "output_type": "stream",
     "text": [
      "[CV]  ccp_alpha=1, max_leaf_nodes=25, min_impurity_split=0.1, total=   1.8s\n",
      "[CV] ccp_alpha=1, max_leaf_nodes=25, min_impurity_split=0.1 ..........\n"
     ]
    },
    {
     "name": "stderr",
     "output_type": "stream",
     "text": [
      "/Users/ZachV/opt/anaconda3/lib/python3.7/site-packages/sklearn/tree/_classes.py:310: FutureWarning: The min_impurity_split parameter is deprecated. Its default value has changed from 1e-7 to 0 in version 0.23, and it will be removed in 0.25. Use the min_impurity_decrease parameter instead.\n",
      "  FutureWarning)\n"
     ]
    },
    {
     "name": "stdout",
     "output_type": "stream",
     "text": [
      "[CV]  ccp_alpha=1, max_leaf_nodes=25, min_impurity_split=0.1, total=   1.8s\n",
      "[CV] ccp_alpha=1, max_leaf_nodes=25, min_impurity_split=0.1 ..........\n"
     ]
    },
    {
     "name": "stderr",
     "output_type": "stream",
     "text": [
      "/Users/ZachV/opt/anaconda3/lib/python3.7/site-packages/sklearn/tree/_classes.py:310: FutureWarning: The min_impurity_split parameter is deprecated. Its default value has changed from 1e-7 to 0 in version 0.23, and it will be removed in 0.25. Use the min_impurity_decrease parameter instead.\n",
      "  FutureWarning)\n"
     ]
    },
    {
     "name": "stdout",
     "output_type": "stream",
     "text": [
      "[CV]  ccp_alpha=1, max_leaf_nodes=25, min_impurity_split=0.1, total=   1.9s\n",
      "[CV] ccp_alpha=1, max_leaf_nodes=25, min_impurity_split=0.1 ..........\n"
     ]
    },
    {
     "name": "stderr",
     "output_type": "stream",
     "text": [
      "/Users/ZachV/opt/anaconda3/lib/python3.7/site-packages/sklearn/tree/_classes.py:310: FutureWarning: The min_impurity_split parameter is deprecated. Its default value has changed from 1e-7 to 0 in version 0.23, and it will be removed in 0.25. Use the min_impurity_decrease parameter instead.\n",
      "  FutureWarning)\n"
     ]
    },
    {
     "name": "stdout",
     "output_type": "stream",
     "text": [
      "[CV]  ccp_alpha=1, max_leaf_nodes=25, min_impurity_split=0.1, total=   2.1s\n",
      "[CV] ccp_alpha=1, max_leaf_nodes=25, min_impurity_split=0.1 ..........\n"
     ]
    },
    {
     "name": "stderr",
     "output_type": "stream",
     "text": [
      "/Users/ZachV/opt/anaconda3/lib/python3.7/site-packages/sklearn/tree/_classes.py:310: FutureWarning: The min_impurity_split parameter is deprecated. Its default value has changed from 1e-7 to 0 in version 0.23, and it will be removed in 0.25. Use the min_impurity_decrease parameter instead.\n",
      "  FutureWarning)\n"
     ]
    },
    {
     "name": "stdout",
     "output_type": "stream",
     "text": [
      "[CV]  ccp_alpha=1, max_leaf_nodes=25, min_impurity_split=0.1, total=   1.8s\n",
      "[CV] ccp_alpha=1, max_leaf_nodes=25, min_impurity_split=0.2 ..........\n"
     ]
    },
    {
     "name": "stderr",
     "output_type": "stream",
     "text": [
      "/Users/ZachV/opt/anaconda3/lib/python3.7/site-packages/sklearn/tree/_classes.py:310: FutureWarning: The min_impurity_split parameter is deprecated. Its default value has changed from 1e-7 to 0 in version 0.23, and it will be removed in 0.25. Use the min_impurity_decrease parameter instead.\n",
      "  FutureWarning)\n"
     ]
    },
    {
     "name": "stdout",
     "output_type": "stream",
     "text": [
      "[CV]  ccp_alpha=1, max_leaf_nodes=25, min_impurity_split=0.2, total=   1.5s\n",
      "[CV] ccp_alpha=1, max_leaf_nodes=25, min_impurity_split=0.2 ..........\n"
     ]
    },
    {
     "name": "stderr",
     "output_type": "stream",
     "text": [
      "/Users/ZachV/opt/anaconda3/lib/python3.7/site-packages/sklearn/tree/_classes.py:310: FutureWarning: The min_impurity_split parameter is deprecated. Its default value has changed from 1e-7 to 0 in version 0.23, and it will be removed in 0.25. Use the min_impurity_decrease parameter instead.\n",
      "  FutureWarning)\n"
     ]
    },
    {
     "name": "stdout",
     "output_type": "stream",
     "text": [
      "[CV]  ccp_alpha=1, max_leaf_nodes=25, min_impurity_split=0.2, total=   1.5s\n",
      "[CV] ccp_alpha=1, max_leaf_nodes=25, min_impurity_split=0.2 ..........\n"
     ]
    },
    {
     "name": "stderr",
     "output_type": "stream",
     "text": [
      "/Users/ZachV/opt/anaconda3/lib/python3.7/site-packages/sklearn/tree/_classes.py:310: FutureWarning: The min_impurity_split parameter is deprecated. Its default value has changed from 1e-7 to 0 in version 0.23, and it will be removed in 0.25. Use the min_impurity_decrease parameter instead.\n",
      "  FutureWarning)\n"
     ]
    },
    {
     "name": "stdout",
     "output_type": "stream",
     "text": [
      "[CV]  ccp_alpha=1, max_leaf_nodes=25, min_impurity_split=0.2, total=   1.7s\n",
      "[CV] ccp_alpha=1, max_leaf_nodes=25, min_impurity_split=0.2 ..........\n"
     ]
    },
    {
     "name": "stderr",
     "output_type": "stream",
     "text": [
      "/Users/ZachV/opt/anaconda3/lib/python3.7/site-packages/sklearn/tree/_classes.py:310: FutureWarning: The min_impurity_split parameter is deprecated. Its default value has changed from 1e-7 to 0 in version 0.23, and it will be removed in 0.25. Use the min_impurity_decrease parameter instead.\n",
      "  FutureWarning)\n"
     ]
    },
    {
     "name": "stdout",
     "output_type": "stream",
     "text": [
      "[CV]  ccp_alpha=1, max_leaf_nodes=25, min_impurity_split=0.2, total=   1.6s\n",
      "[CV] ccp_alpha=1, max_leaf_nodes=25, min_impurity_split=0.2 ..........\n"
     ]
    },
    {
     "name": "stderr",
     "output_type": "stream",
     "text": [
      "/Users/ZachV/opt/anaconda3/lib/python3.7/site-packages/sklearn/tree/_classes.py:310: FutureWarning: The min_impurity_split parameter is deprecated. Its default value has changed from 1e-7 to 0 in version 0.23, and it will be removed in 0.25. Use the min_impurity_decrease parameter instead.\n",
      "  FutureWarning)\n"
     ]
    },
    {
     "name": "stdout",
     "output_type": "stream",
     "text": [
      "[CV]  ccp_alpha=1, max_leaf_nodes=25, min_impurity_split=0.2, total=   1.5s\n",
      "[CV] ccp_alpha=1, max_leaf_nodes=25, min_impurity_split=0.3 ..........\n"
     ]
    },
    {
     "name": "stderr",
     "output_type": "stream",
     "text": [
      "/Users/ZachV/opt/anaconda3/lib/python3.7/site-packages/sklearn/tree/_classes.py:310: FutureWarning: The min_impurity_split parameter is deprecated. Its default value has changed from 1e-7 to 0 in version 0.23, and it will be removed in 0.25. Use the min_impurity_decrease parameter instead.\n",
      "  FutureWarning)\n"
     ]
    },
    {
     "name": "stdout",
     "output_type": "stream",
     "text": [
      "[CV]  ccp_alpha=1, max_leaf_nodes=25, min_impurity_split=0.3, total=   1.3s\n",
      "[CV] ccp_alpha=1, max_leaf_nodes=25, min_impurity_split=0.3 ..........\n"
     ]
    },
    {
     "name": "stderr",
     "output_type": "stream",
     "text": [
      "/Users/ZachV/opt/anaconda3/lib/python3.7/site-packages/sklearn/tree/_classes.py:310: FutureWarning: The min_impurity_split parameter is deprecated. Its default value has changed from 1e-7 to 0 in version 0.23, and it will be removed in 0.25. Use the min_impurity_decrease parameter instead.\n",
      "  FutureWarning)\n"
     ]
    },
    {
     "name": "stdout",
     "output_type": "stream",
     "text": [
      "[CV]  ccp_alpha=1, max_leaf_nodes=25, min_impurity_split=0.3, total=   1.3s\n",
      "[CV] ccp_alpha=1, max_leaf_nodes=25, min_impurity_split=0.3 ..........\n"
     ]
    },
    {
     "name": "stderr",
     "output_type": "stream",
     "text": [
      "/Users/ZachV/opt/anaconda3/lib/python3.7/site-packages/sklearn/tree/_classes.py:310: FutureWarning: The min_impurity_split parameter is deprecated. Its default value has changed from 1e-7 to 0 in version 0.23, and it will be removed in 0.25. Use the min_impurity_decrease parameter instead.\n",
      "  FutureWarning)\n"
     ]
    },
    {
     "name": "stdout",
     "output_type": "stream",
     "text": [
      "[CV]  ccp_alpha=1, max_leaf_nodes=25, min_impurity_split=0.3, total=   1.3s\n",
      "[CV] ccp_alpha=1, max_leaf_nodes=25, min_impurity_split=0.3 ..........\n"
     ]
    },
    {
     "name": "stderr",
     "output_type": "stream",
     "text": [
      "/Users/ZachV/opt/anaconda3/lib/python3.7/site-packages/sklearn/tree/_classes.py:310: FutureWarning: The min_impurity_split parameter is deprecated. Its default value has changed from 1e-7 to 0 in version 0.23, and it will be removed in 0.25. Use the min_impurity_decrease parameter instead.\n",
      "  FutureWarning)\n"
     ]
    },
    {
     "name": "stdout",
     "output_type": "stream",
     "text": [
      "[CV]  ccp_alpha=1, max_leaf_nodes=25, min_impurity_split=0.3, total=   1.3s\n",
      "[CV] ccp_alpha=1, max_leaf_nodes=25, min_impurity_split=0.3 ..........\n"
     ]
    },
    {
     "name": "stderr",
     "output_type": "stream",
     "text": [
      "/Users/ZachV/opt/anaconda3/lib/python3.7/site-packages/sklearn/tree/_classes.py:310: FutureWarning: The min_impurity_split parameter is deprecated. Its default value has changed from 1e-7 to 0 in version 0.23, and it will be removed in 0.25. Use the min_impurity_decrease parameter instead.\n",
      "  FutureWarning)\n"
     ]
    },
    {
     "name": "stdout",
     "output_type": "stream",
     "text": [
      "[CV]  ccp_alpha=1, max_leaf_nodes=25, min_impurity_split=0.3, total=   1.3s\n",
      "[CV] ccp_alpha=1, max_leaf_nodes=25, min_impurity_split=0.4 ..........\n"
     ]
    },
    {
     "name": "stderr",
     "output_type": "stream",
     "text": [
      "/Users/ZachV/opt/anaconda3/lib/python3.7/site-packages/sklearn/tree/_classes.py:310: FutureWarning: The min_impurity_split parameter is deprecated. Its default value has changed from 1e-7 to 0 in version 0.23, and it will be removed in 0.25. Use the min_impurity_decrease parameter instead.\n",
      "  FutureWarning)\n"
     ]
    },
    {
     "name": "stdout",
     "output_type": "stream",
     "text": [
      "[CV]  ccp_alpha=1, max_leaf_nodes=25, min_impurity_split=0.4, total=   0.9s\n",
      "[CV] ccp_alpha=1, max_leaf_nodes=25, min_impurity_split=0.4 ..........\n"
     ]
    },
    {
     "name": "stderr",
     "output_type": "stream",
     "text": [
      "/Users/ZachV/opt/anaconda3/lib/python3.7/site-packages/sklearn/tree/_classes.py:310: FutureWarning: The min_impurity_split parameter is deprecated. Its default value has changed from 1e-7 to 0 in version 0.23, and it will be removed in 0.25. Use the min_impurity_decrease parameter instead.\n",
      "  FutureWarning)\n"
     ]
    },
    {
     "name": "stdout",
     "output_type": "stream",
     "text": [
      "[CV]  ccp_alpha=1, max_leaf_nodes=25, min_impurity_split=0.4, total=   0.9s\n",
      "[CV] ccp_alpha=1, max_leaf_nodes=25, min_impurity_split=0.4 ..........\n"
     ]
    },
    {
     "name": "stderr",
     "output_type": "stream",
     "text": [
      "/Users/ZachV/opt/anaconda3/lib/python3.7/site-packages/sklearn/tree/_classes.py:310: FutureWarning: The min_impurity_split parameter is deprecated. Its default value has changed from 1e-7 to 0 in version 0.23, and it will be removed in 0.25. Use the min_impurity_decrease parameter instead.\n",
      "  FutureWarning)\n"
     ]
    },
    {
     "name": "stdout",
     "output_type": "stream",
     "text": [
      "[CV]  ccp_alpha=1, max_leaf_nodes=25, min_impurity_split=0.4, total=   0.9s\n",
      "[CV] ccp_alpha=1, max_leaf_nodes=25, min_impurity_split=0.4 ..........\n"
     ]
    },
    {
     "name": "stderr",
     "output_type": "stream",
     "text": [
      "/Users/ZachV/opt/anaconda3/lib/python3.7/site-packages/sklearn/tree/_classes.py:310: FutureWarning: The min_impurity_split parameter is deprecated. Its default value has changed from 1e-7 to 0 in version 0.23, and it will be removed in 0.25. Use the min_impurity_decrease parameter instead.\n",
      "  FutureWarning)\n"
     ]
    },
    {
     "name": "stdout",
     "output_type": "stream",
     "text": [
      "[CV]  ccp_alpha=1, max_leaf_nodes=25, min_impurity_split=0.4, total=   0.9s\n",
      "[CV] ccp_alpha=1, max_leaf_nodes=25, min_impurity_split=0.4 ..........\n"
     ]
    },
    {
     "name": "stderr",
     "output_type": "stream",
     "text": [
      "/Users/ZachV/opt/anaconda3/lib/python3.7/site-packages/sklearn/tree/_classes.py:310: FutureWarning: The min_impurity_split parameter is deprecated. Its default value has changed from 1e-7 to 0 in version 0.23, and it will be removed in 0.25. Use the min_impurity_decrease parameter instead.\n",
      "  FutureWarning)\n"
     ]
    },
    {
     "name": "stdout",
     "output_type": "stream",
     "text": [
      "[CV]  ccp_alpha=1, max_leaf_nodes=25, min_impurity_split=0.4, total=   0.9s\n",
      "[CV] ccp_alpha=1, max_leaf_nodes=25, min_impurity_split=0.5 ..........\n"
     ]
    },
    {
     "name": "stderr",
     "output_type": "stream",
     "text": [
      "/Users/ZachV/opt/anaconda3/lib/python3.7/site-packages/sklearn/tree/_classes.py:310: FutureWarning: The min_impurity_split parameter is deprecated. Its default value has changed from 1e-7 to 0 in version 0.23, and it will be removed in 0.25. Use the min_impurity_decrease parameter instead.\n",
      "  FutureWarning)\n"
     ]
    },
    {
     "name": "stdout",
     "output_type": "stream",
     "text": [
      "[CV]  ccp_alpha=1, max_leaf_nodes=25, min_impurity_split=0.5, total=   0.9s\n",
      "[CV] ccp_alpha=1, max_leaf_nodes=25, min_impurity_split=0.5 ..........\n"
     ]
    },
    {
     "name": "stderr",
     "output_type": "stream",
     "text": [
      "/Users/ZachV/opt/anaconda3/lib/python3.7/site-packages/sklearn/tree/_classes.py:310: FutureWarning: The min_impurity_split parameter is deprecated. Its default value has changed from 1e-7 to 0 in version 0.23, and it will be removed in 0.25. Use the min_impurity_decrease parameter instead.\n",
      "  FutureWarning)\n"
     ]
    },
    {
     "name": "stdout",
     "output_type": "stream",
     "text": [
      "[CV]  ccp_alpha=1, max_leaf_nodes=25, min_impurity_split=0.5, total=   0.9s\n",
      "[CV] ccp_alpha=1, max_leaf_nodes=25, min_impurity_split=0.5 ..........\n"
     ]
    },
    {
     "name": "stderr",
     "output_type": "stream",
     "text": [
      "/Users/ZachV/opt/anaconda3/lib/python3.7/site-packages/sklearn/tree/_classes.py:310: FutureWarning: The min_impurity_split parameter is deprecated. Its default value has changed from 1e-7 to 0 in version 0.23, and it will be removed in 0.25. Use the min_impurity_decrease parameter instead.\n",
      "  FutureWarning)\n"
     ]
    },
    {
     "name": "stdout",
     "output_type": "stream",
     "text": [
      "[CV]  ccp_alpha=1, max_leaf_nodes=25, min_impurity_split=0.5, total=   0.9s\n",
      "[CV] ccp_alpha=1, max_leaf_nodes=25, min_impurity_split=0.5 ..........\n"
     ]
    },
    {
     "name": "stderr",
     "output_type": "stream",
     "text": [
      "/Users/ZachV/opt/anaconda3/lib/python3.7/site-packages/sklearn/tree/_classes.py:310: FutureWarning: The min_impurity_split parameter is deprecated. Its default value has changed from 1e-7 to 0 in version 0.23, and it will be removed in 0.25. Use the min_impurity_decrease parameter instead.\n",
      "  FutureWarning)\n"
     ]
    },
    {
     "name": "stdout",
     "output_type": "stream",
     "text": [
      "[CV]  ccp_alpha=1, max_leaf_nodes=25, min_impurity_split=0.5, total=   0.9s\n",
      "[CV] ccp_alpha=1, max_leaf_nodes=25, min_impurity_split=0.5 ..........\n"
     ]
    },
    {
     "name": "stderr",
     "output_type": "stream",
     "text": [
      "/Users/ZachV/opt/anaconda3/lib/python3.7/site-packages/sklearn/tree/_classes.py:310: FutureWarning: The min_impurity_split parameter is deprecated. Its default value has changed from 1e-7 to 0 in version 0.23, and it will be removed in 0.25. Use the min_impurity_decrease parameter instead.\n",
      "  FutureWarning)\n"
     ]
    },
    {
     "name": "stdout",
     "output_type": "stream",
     "text": [
      "[CV]  ccp_alpha=1, max_leaf_nodes=25, min_impurity_split=0.5, total=   0.9s\n",
      "[CV] ccp_alpha=1, max_leaf_nodes=100, min_impurity_split=0 ...........\n"
     ]
    },
    {
     "name": "stderr",
     "output_type": "stream",
     "text": [
      "/Users/ZachV/opt/anaconda3/lib/python3.7/site-packages/sklearn/tree/_classes.py:310: FutureWarning: The min_impurity_split parameter is deprecated. Its default value has changed from 1e-7 to 0 in version 0.23, and it will be removed in 0.25. Use the min_impurity_decrease parameter instead.\n",
      "  FutureWarning)\n"
     ]
    },
    {
     "name": "stdout",
     "output_type": "stream",
     "text": [
      "[CV]  ccp_alpha=1, max_leaf_nodes=100, min_impurity_split=0, total=   2.6s\n",
      "[CV] ccp_alpha=1, max_leaf_nodes=100, min_impurity_split=0 ...........\n"
     ]
    },
    {
     "name": "stderr",
     "output_type": "stream",
     "text": [
      "/Users/ZachV/opt/anaconda3/lib/python3.7/site-packages/sklearn/tree/_classes.py:310: FutureWarning: The min_impurity_split parameter is deprecated. Its default value has changed from 1e-7 to 0 in version 0.23, and it will be removed in 0.25. Use the min_impurity_decrease parameter instead.\n",
      "  FutureWarning)\n"
     ]
    },
    {
     "name": "stdout",
     "output_type": "stream",
     "text": [
      "[CV]  ccp_alpha=1, max_leaf_nodes=100, min_impurity_split=0, total=   2.7s\n",
      "[CV] ccp_alpha=1, max_leaf_nodes=100, min_impurity_split=0 ...........\n"
     ]
    },
    {
     "name": "stderr",
     "output_type": "stream",
     "text": [
      "/Users/ZachV/opt/anaconda3/lib/python3.7/site-packages/sklearn/tree/_classes.py:310: FutureWarning: The min_impurity_split parameter is deprecated. Its default value has changed from 1e-7 to 0 in version 0.23, and it will be removed in 0.25. Use the min_impurity_decrease parameter instead.\n",
      "  FutureWarning)\n"
     ]
    },
    {
     "name": "stdout",
     "output_type": "stream",
     "text": [
      "[CV]  ccp_alpha=1, max_leaf_nodes=100, min_impurity_split=0, total=   2.9s\n",
      "[CV] ccp_alpha=1, max_leaf_nodes=100, min_impurity_split=0 ...........\n"
     ]
    },
    {
     "name": "stderr",
     "output_type": "stream",
     "text": [
      "/Users/ZachV/opt/anaconda3/lib/python3.7/site-packages/sklearn/tree/_classes.py:310: FutureWarning: The min_impurity_split parameter is deprecated. Its default value has changed from 1e-7 to 0 in version 0.23, and it will be removed in 0.25. Use the min_impurity_decrease parameter instead.\n",
      "  FutureWarning)\n"
     ]
    },
    {
     "name": "stdout",
     "output_type": "stream",
     "text": [
      "[CV]  ccp_alpha=1, max_leaf_nodes=100, min_impurity_split=0, total=   2.7s\n",
      "[CV] ccp_alpha=1, max_leaf_nodes=100, min_impurity_split=0 ...........\n"
     ]
    },
    {
     "name": "stderr",
     "output_type": "stream",
     "text": [
      "/Users/ZachV/opt/anaconda3/lib/python3.7/site-packages/sklearn/tree/_classes.py:310: FutureWarning: The min_impurity_split parameter is deprecated. Its default value has changed from 1e-7 to 0 in version 0.23, and it will be removed in 0.25. Use the min_impurity_decrease parameter instead.\n",
      "  FutureWarning)\n"
     ]
    },
    {
     "name": "stdout",
     "output_type": "stream",
     "text": [
      "[CV]  ccp_alpha=1, max_leaf_nodes=100, min_impurity_split=0, total=   2.8s\n",
      "[CV] ccp_alpha=1, max_leaf_nodes=100, min_impurity_split=0.1 .........\n"
     ]
    },
    {
     "name": "stderr",
     "output_type": "stream",
     "text": [
      "/Users/ZachV/opt/anaconda3/lib/python3.7/site-packages/sklearn/tree/_classes.py:310: FutureWarning: The min_impurity_split parameter is deprecated. Its default value has changed from 1e-7 to 0 in version 0.23, and it will be removed in 0.25. Use the min_impurity_decrease parameter instead.\n",
      "  FutureWarning)\n"
     ]
    },
    {
     "name": "stdout",
     "output_type": "stream",
     "text": [
      "[CV]  ccp_alpha=1, max_leaf_nodes=100, min_impurity_split=0.1, total=   2.0s\n",
      "[CV] ccp_alpha=1, max_leaf_nodes=100, min_impurity_split=0.1 .........\n"
     ]
    },
    {
     "name": "stderr",
     "output_type": "stream",
     "text": [
      "/Users/ZachV/opt/anaconda3/lib/python3.7/site-packages/sklearn/tree/_classes.py:310: FutureWarning: The min_impurity_split parameter is deprecated. Its default value has changed from 1e-7 to 0 in version 0.23, and it will be removed in 0.25. Use the min_impurity_decrease parameter instead.\n",
      "  FutureWarning)\n"
     ]
    },
    {
     "name": "stdout",
     "output_type": "stream",
     "text": [
      "[CV]  ccp_alpha=1, max_leaf_nodes=100, min_impurity_split=0.1, total=   2.1s\n",
      "[CV] ccp_alpha=1, max_leaf_nodes=100, min_impurity_split=0.1 .........\n"
     ]
    },
    {
     "name": "stderr",
     "output_type": "stream",
     "text": [
      "/Users/ZachV/opt/anaconda3/lib/python3.7/site-packages/sklearn/tree/_classes.py:310: FutureWarning: The min_impurity_split parameter is deprecated. Its default value has changed from 1e-7 to 0 in version 0.23, and it will be removed in 0.25. Use the min_impurity_decrease parameter instead.\n",
      "  FutureWarning)\n"
     ]
    },
    {
     "name": "stdout",
     "output_type": "stream",
     "text": [
      "[CV]  ccp_alpha=1, max_leaf_nodes=100, min_impurity_split=0.1, total=   2.2s\n",
      "[CV] ccp_alpha=1, max_leaf_nodes=100, min_impurity_split=0.1 .........\n"
     ]
    },
    {
     "name": "stderr",
     "output_type": "stream",
     "text": [
      "/Users/ZachV/opt/anaconda3/lib/python3.7/site-packages/sklearn/tree/_classes.py:310: FutureWarning: The min_impurity_split parameter is deprecated. Its default value has changed from 1e-7 to 0 in version 0.23, and it will be removed in 0.25. Use the min_impurity_decrease parameter instead.\n",
      "  FutureWarning)\n"
     ]
    },
    {
     "name": "stdout",
     "output_type": "stream",
     "text": [
      "[CV]  ccp_alpha=1, max_leaf_nodes=100, min_impurity_split=0.1, total=   5.0s\n",
      "[CV] ccp_alpha=1, max_leaf_nodes=100, min_impurity_split=0.1 .........\n"
     ]
    },
    {
     "name": "stderr",
     "output_type": "stream",
     "text": [
      "/Users/ZachV/opt/anaconda3/lib/python3.7/site-packages/sklearn/tree/_classes.py:310: FutureWarning: The min_impurity_split parameter is deprecated. Its default value has changed from 1e-7 to 0 in version 0.23, and it will be removed in 0.25. Use the min_impurity_decrease parameter instead.\n",
      "  FutureWarning)\n"
     ]
    },
    {
     "name": "stdout",
     "output_type": "stream",
     "text": [
      "[CV]  ccp_alpha=1, max_leaf_nodes=100, min_impurity_split=0.1, total=   4.1s\n",
      "[CV] ccp_alpha=1, max_leaf_nodes=100, min_impurity_split=0.2 .........\n"
     ]
    },
    {
     "name": "stderr",
     "output_type": "stream",
     "text": [
      "/Users/ZachV/opt/anaconda3/lib/python3.7/site-packages/sklearn/tree/_classes.py:310: FutureWarning: The min_impurity_split parameter is deprecated. Its default value has changed from 1e-7 to 0 in version 0.23, and it will be removed in 0.25. Use the min_impurity_decrease parameter instead.\n",
      "  FutureWarning)\n"
     ]
    },
    {
     "name": "stdout",
     "output_type": "stream",
     "text": [
      "[CV]  ccp_alpha=1, max_leaf_nodes=100, min_impurity_split=0.2, total=   3.2s\n",
      "[CV] ccp_alpha=1, max_leaf_nodes=100, min_impurity_split=0.2 .........\n"
     ]
    },
    {
     "name": "stderr",
     "output_type": "stream",
     "text": [
      "/Users/ZachV/opt/anaconda3/lib/python3.7/site-packages/sklearn/tree/_classes.py:310: FutureWarning: The min_impurity_split parameter is deprecated. Its default value has changed from 1e-7 to 0 in version 0.23, and it will be removed in 0.25. Use the min_impurity_decrease parameter instead.\n",
      "  FutureWarning)\n"
     ]
    },
    {
     "name": "stdout",
     "output_type": "stream",
     "text": [
      "[CV]  ccp_alpha=1, max_leaf_nodes=100, min_impurity_split=0.2, total=   4.0s\n",
      "[CV] ccp_alpha=1, max_leaf_nodes=100, min_impurity_split=0.2 .........\n"
     ]
    },
    {
     "name": "stderr",
     "output_type": "stream",
     "text": [
      "/Users/ZachV/opt/anaconda3/lib/python3.7/site-packages/sklearn/tree/_classes.py:310: FutureWarning: The min_impurity_split parameter is deprecated. Its default value has changed from 1e-7 to 0 in version 0.23, and it will be removed in 0.25. Use the min_impurity_decrease parameter instead.\n",
      "  FutureWarning)\n"
     ]
    },
    {
     "name": "stdout",
     "output_type": "stream",
     "text": [
      "[CV]  ccp_alpha=1, max_leaf_nodes=100, min_impurity_split=0.2, total=   3.1s\n",
      "[CV] ccp_alpha=1, max_leaf_nodes=100, min_impurity_split=0.2 .........\n"
     ]
    },
    {
     "name": "stderr",
     "output_type": "stream",
     "text": [
      "/Users/ZachV/opt/anaconda3/lib/python3.7/site-packages/sklearn/tree/_classes.py:310: FutureWarning: The min_impurity_split parameter is deprecated. Its default value has changed from 1e-7 to 0 in version 0.23, and it will be removed in 0.25. Use the min_impurity_decrease parameter instead.\n",
      "  FutureWarning)\n"
     ]
    },
    {
     "name": "stdout",
     "output_type": "stream",
     "text": [
      "[CV]  ccp_alpha=1, max_leaf_nodes=100, min_impurity_split=0.2, total=   2.7s\n",
      "[CV] ccp_alpha=1, max_leaf_nodes=100, min_impurity_split=0.2 .........\n"
     ]
    },
    {
     "name": "stderr",
     "output_type": "stream",
     "text": [
      "/Users/ZachV/opt/anaconda3/lib/python3.7/site-packages/sklearn/tree/_classes.py:310: FutureWarning: The min_impurity_split parameter is deprecated. Its default value has changed from 1e-7 to 0 in version 0.23, and it will be removed in 0.25. Use the min_impurity_decrease parameter instead.\n",
      "  FutureWarning)\n"
     ]
    },
    {
     "name": "stdout",
     "output_type": "stream",
     "text": [
      "[CV]  ccp_alpha=1, max_leaf_nodes=100, min_impurity_split=0.2, total=   3.1s\n",
      "[CV] ccp_alpha=1, max_leaf_nodes=100, min_impurity_split=0.3 .........\n"
     ]
    },
    {
     "name": "stderr",
     "output_type": "stream",
     "text": [
      "/Users/ZachV/opt/anaconda3/lib/python3.7/site-packages/sklearn/tree/_classes.py:310: FutureWarning: The min_impurity_split parameter is deprecated. Its default value has changed from 1e-7 to 0 in version 0.23, and it will be removed in 0.25. Use the min_impurity_decrease parameter instead.\n",
      "  FutureWarning)\n"
     ]
    },
    {
     "name": "stdout",
     "output_type": "stream",
     "text": [
      "[CV]  ccp_alpha=1, max_leaf_nodes=100, min_impurity_split=0.3, total=   2.3s\n",
      "[CV] ccp_alpha=1, max_leaf_nodes=100, min_impurity_split=0.3 .........\n"
     ]
    },
    {
     "name": "stderr",
     "output_type": "stream",
     "text": [
      "/Users/ZachV/opt/anaconda3/lib/python3.7/site-packages/sklearn/tree/_classes.py:310: FutureWarning: The min_impurity_split parameter is deprecated. Its default value has changed from 1e-7 to 0 in version 0.23, and it will be removed in 0.25. Use the min_impurity_decrease parameter instead.\n",
      "  FutureWarning)\n"
     ]
    },
    {
     "name": "stdout",
     "output_type": "stream",
     "text": [
      "[CV]  ccp_alpha=1, max_leaf_nodes=100, min_impurity_split=0.3, total=   2.0s\n",
      "[CV] ccp_alpha=1, max_leaf_nodes=100, min_impurity_split=0.3 .........\n"
     ]
    },
    {
     "name": "stderr",
     "output_type": "stream",
     "text": [
      "/Users/ZachV/opt/anaconda3/lib/python3.7/site-packages/sklearn/tree/_classes.py:310: FutureWarning: The min_impurity_split parameter is deprecated. Its default value has changed from 1e-7 to 0 in version 0.23, and it will be removed in 0.25. Use the min_impurity_decrease parameter instead.\n",
      "  FutureWarning)\n"
     ]
    },
    {
     "name": "stdout",
     "output_type": "stream",
     "text": [
      "[CV]  ccp_alpha=1, max_leaf_nodes=100, min_impurity_split=0.3, total=   1.8s\n",
      "[CV] ccp_alpha=1, max_leaf_nodes=100, min_impurity_split=0.3 .........\n"
     ]
    },
    {
     "name": "stderr",
     "output_type": "stream",
     "text": [
      "/Users/ZachV/opt/anaconda3/lib/python3.7/site-packages/sklearn/tree/_classes.py:310: FutureWarning: The min_impurity_split parameter is deprecated. Its default value has changed from 1e-7 to 0 in version 0.23, and it will be removed in 0.25. Use the min_impurity_decrease parameter instead.\n",
      "  FutureWarning)\n"
     ]
    },
    {
     "name": "stdout",
     "output_type": "stream",
     "text": [
      "[CV]  ccp_alpha=1, max_leaf_nodes=100, min_impurity_split=0.3, total=   1.8s\n",
      "[CV] ccp_alpha=1, max_leaf_nodes=100, min_impurity_split=0.3 .........\n"
     ]
    },
    {
     "name": "stderr",
     "output_type": "stream",
     "text": [
      "/Users/ZachV/opt/anaconda3/lib/python3.7/site-packages/sklearn/tree/_classes.py:310: FutureWarning: The min_impurity_split parameter is deprecated. Its default value has changed from 1e-7 to 0 in version 0.23, and it will be removed in 0.25. Use the min_impurity_decrease parameter instead.\n",
      "  FutureWarning)\n"
     ]
    },
    {
     "name": "stdout",
     "output_type": "stream",
     "text": [
      "[CV]  ccp_alpha=1, max_leaf_nodes=100, min_impurity_split=0.3, total=   1.8s\n",
      "[CV] ccp_alpha=1, max_leaf_nodes=100, min_impurity_split=0.4 .........\n"
     ]
    },
    {
     "name": "stderr",
     "output_type": "stream",
     "text": [
      "/Users/ZachV/opt/anaconda3/lib/python3.7/site-packages/sklearn/tree/_classes.py:310: FutureWarning: The min_impurity_split parameter is deprecated. Its default value has changed from 1e-7 to 0 in version 0.23, and it will be removed in 0.25. Use the min_impurity_decrease parameter instead.\n",
      "  FutureWarning)\n"
     ]
    },
    {
     "name": "stdout",
     "output_type": "stream",
     "text": [
      "[CV]  ccp_alpha=1, max_leaf_nodes=100, min_impurity_split=0.4, total=   1.2s\n",
      "[CV] ccp_alpha=1, max_leaf_nodes=100, min_impurity_split=0.4 .........\n"
     ]
    },
    {
     "name": "stderr",
     "output_type": "stream",
     "text": [
      "/Users/ZachV/opt/anaconda3/lib/python3.7/site-packages/sklearn/tree/_classes.py:310: FutureWarning: The min_impurity_split parameter is deprecated. Its default value has changed from 1e-7 to 0 in version 0.23, and it will be removed in 0.25. Use the min_impurity_decrease parameter instead.\n",
      "  FutureWarning)\n"
     ]
    },
    {
     "name": "stdout",
     "output_type": "stream",
     "text": [
      "[CV]  ccp_alpha=1, max_leaf_nodes=100, min_impurity_split=0.4, total=   1.1s\n",
      "[CV] ccp_alpha=1, max_leaf_nodes=100, min_impurity_split=0.4 .........\n"
     ]
    },
    {
     "name": "stderr",
     "output_type": "stream",
     "text": [
      "/Users/ZachV/opt/anaconda3/lib/python3.7/site-packages/sklearn/tree/_classes.py:310: FutureWarning: The min_impurity_split parameter is deprecated. Its default value has changed from 1e-7 to 0 in version 0.23, and it will be removed in 0.25. Use the min_impurity_decrease parameter instead.\n",
      "  FutureWarning)\n"
     ]
    },
    {
     "name": "stdout",
     "output_type": "stream",
     "text": [
      "[CV]  ccp_alpha=1, max_leaf_nodes=100, min_impurity_split=0.4, total=   1.2s\n",
      "[CV] ccp_alpha=1, max_leaf_nodes=100, min_impurity_split=0.4 .........\n"
     ]
    },
    {
     "name": "stderr",
     "output_type": "stream",
     "text": [
      "/Users/ZachV/opt/anaconda3/lib/python3.7/site-packages/sklearn/tree/_classes.py:310: FutureWarning: The min_impurity_split parameter is deprecated. Its default value has changed from 1e-7 to 0 in version 0.23, and it will be removed in 0.25. Use the min_impurity_decrease parameter instead.\n",
      "  FutureWarning)\n"
     ]
    },
    {
     "name": "stdout",
     "output_type": "stream",
     "text": [
      "[CV]  ccp_alpha=1, max_leaf_nodes=100, min_impurity_split=0.4, total=   1.2s\n",
      "[CV] ccp_alpha=1, max_leaf_nodes=100, min_impurity_split=0.4 .........\n"
     ]
    },
    {
     "name": "stderr",
     "output_type": "stream",
     "text": [
      "/Users/ZachV/opt/anaconda3/lib/python3.7/site-packages/sklearn/tree/_classes.py:310: FutureWarning: The min_impurity_split parameter is deprecated. Its default value has changed from 1e-7 to 0 in version 0.23, and it will be removed in 0.25. Use the min_impurity_decrease parameter instead.\n",
      "  FutureWarning)\n"
     ]
    },
    {
     "name": "stdout",
     "output_type": "stream",
     "text": [
      "[CV]  ccp_alpha=1, max_leaf_nodes=100, min_impurity_split=0.4, total=   1.2s\n",
      "[CV] ccp_alpha=1, max_leaf_nodes=100, min_impurity_split=0.5 .........\n"
     ]
    },
    {
     "name": "stderr",
     "output_type": "stream",
     "text": [
      "/Users/ZachV/opt/anaconda3/lib/python3.7/site-packages/sklearn/tree/_classes.py:310: FutureWarning: The min_impurity_split parameter is deprecated. Its default value has changed from 1e-7 to 0 in version 0.23, and it will be removed in 0.25. Use the min_impurity_decrease parameter instead.\n",
      "  FutureWarning)\n"
     ]
    },
    {
     "name": "stdout",
     "output_type": "stream",
     "text": [
      "[CV]  ccp_alpha=1, max_leaf_nodes=100, min_impurity_split=0.5, total=   1.1s\n",
      "[CV] ccp_alpha=1, max_leaf_nodes=100, min_impurity_split=0.5 .........\n"
     ]
    },
    {
     "name": "stderr",
     "output_type": "stream",
     "text": [
      "/Users/ZachV/opt/anaconda3/lib/python3.7/site-packages/sklearn/tree/_classes.py:310: FutureWarning: The min_impurity_split parameter is deprecated. Its default value has changed from 1e-7 to 0 in version 0.23, and it will be removed in 0.25. Use the min_impurity_decrease parameter instead.\n",
      "  FutureWarning)\n"
     ]
    },
    {
     "name": "stdout",
     "output_type": "stream",
     "text": [
      "[CV]  ccp_alpha=1, max_leaf_nodes=100, min_impurity_split=0.5, total=   1.4s\n",
      "[CV] ccp_alpha=1, max_leaf_nodes=100, min_impurity_split=0.5 .........\n"
     ]
    },
    {
     "name": "stderr",
     "output_type": "stream",
     "text": [
      "/Users/ZachV/opt/anaconda3/lib/python3.7/site-packages/sklearn/tree/_classes.py:310: FutureWarning: The min_impurity_split parameter is deprecated. Its default value has changed from 1e-7 to 0 in version 0.23, and it will be removed in 0.25. Use the min_impurity_decrease parameter instead.\n",
      "  FutureWarning)\n"
     ]
    },
    {
     "name": "stdout",
     "output_type": "stream",
     "text": [
      "[CV]  ccp_alpha=1, max_leaf_nodes=100, min_impurity_split=0.5, total=   1.5s\n",
      "[CV] ccp_alpha=1, max_leaf_nodes=100, min_impurity_split=0.5 .........\n"
     ]
    },
    {
     "name": "stderr",
     "output_type": "stream",
     "text": [
      "/Users/ZachV/opt/anaconda3/lib/python3.7/site-packages/sklearn/tree/_classes.py:310: FutureWarning: The min_impurity_split parameter is deprecated. Its default value has changed from 1e-7 to 0 in version 0.23, and it will be removed in 0.25. Use the min_impurity_decrease parameter instead.\n",
      "  FutureWarning)\n"
     ]
    },
    {
     "name": "stdout",
     "output_type": "stream",
     "text": [
      "[CV]  ccp_alpha=1, max_leaf_nodes=100, min_impurity_split=0.5, total=   1.7s\n",
      "[CV] ccp_alpha=1, max_leaf_nodes=100, min_impurity_split=0.5 .........\n"
     ]
    },
    {
     "name": "stderr",
     "output_type": "stream",
     "text": [
      "/Users/ZachV/opt/anaconda3/lib/python3.7/site-packages/sklearn/tree/_classes.py:310: FutureWarning: The min_impurity_split parameter is deprecated. Its default value has changed from 1e-7 to 0 in version 0.23, and it will be removed in 0.25. Use the min_impurity_decrease parameter instead.\n",
      "  FutureWarning)\n"
     ]
    },
    {
     "name": "stdout",
     "output_type": "stream",
     "text": [
      "[CV]  ccp_alpha=1, max_leaf_nodes=100, min_impurity_split=0.5, total=   1.6s\n",
      "[CV] ccp_alpha=10, max_leaf_nodes=5, min_impurity_split=0 ............\n"
     ]
    },
    {
     "name": "stderr",
     "output_type": "stream",
     "text": [
      "/Users/ZachV/opt/anaconda3/lib/python3.7/site-packages/sklearn/tree/_classes.py:310: FutureWarning: The min_impurity_split parameter is deprecated. Its default value has changed from 1e-7 to 0 in version 0.23, and it will be removed in 0.25. Use the min_impurity_decrease parameter instead.\n",
      "  FutureWarning)\n"
     ]
    },
    {
     "name": "stdout",
     "output_type": "stream",
     "text": [
      "[CV]  ccp_alpha=10, max_leaf_nodes=5, min_impurity_split=0, total=   2.4s\n",
      "[CV] ccp_alpha=10, max_leaf_nodes=5, min_impurity_split=0 ............\n"
     ]
    },
    {
     "name": "stderr",
     "output_type": "stream",
     "text": [
      "/Users/ZachV/opt/anaconda3/lib/python3.7/site-packages/sklearn/tree/_classes.py:310: FutureWarning: The min_impurity_split parameter is deprecated. Its default value has changed from 1e-7 to 0 in version 0.23, and it will be removed in 0.25. Use the min_impurity_decrease parameter instead.\n",
      "  FutureWarning)\n"
     ]
    },
    {
     "name": "stdout",
     "output_type": "stream",
     "text": [
      "[CV]  ccp_alpha=10, max_leaf_nodes=5, min_impurity_split=0, total=   2.3s\n",
      "[CV] ccp_alpha=10, max_leaf_nodes=5, min_impurity_split=0 ............\n"
     ]
    },
    {
     "name": "stderr",
     "output_type": "stream",
     "text": [
      "/Users/ZachV/opt/anaconda3/lib/python3.7/site-packages/sklearn/tree/_classes.py:310: FutureWarning: The min_impurity_split parameter is deprecated. Its default value has changed from 1e-7 to 0 in version 0.23, and it will be removed in 0.25. Use the min_impurity_decrease parameter instead.\n",
      "  FutureWarning)\n"
     ]
    },
    {
     "name": "stdout",
     "output_type": "stream",
     "text": [
      "[CV]  ccp_alpha=10, max_leaf_nodes=5, min_impurity_split=0, total=   2.5s\n",
      "[CV] ccp_alpha=10, max_leaf_nodes=5, min_impurity_split=0 ............\n"
     ]
    },
    {
     "name": "stderr",
     "output_type": "stream",
     "text": [
      "/Users/ZachV/opt/anaconda3/lib/python3.7/site-packages/sklearn/tree/_classes.py:310: FutureWarning: The min_impurity_split parameter is deprecated. Its default value has changed from 1e-7 to 0 in version 0.23, and it will be removed in 0.25. Use the min_impurity_decrease parameter instead.\n",
      "  FutureWarning)\n"
     ]
    },
    {
     "name": "stdout",
     "output_type": "stream",
     "text": [
      "[CV]  ccp_alpha=10, max_leaf_nodes=5, min_impurity_split=0, total=   2.8s\n",
      "[CV] ccp_alpha=10, max_leaf_nodes=5, min_impurity_split=0 ............\n"
     ]
    },
    {
     "name": "stderr",
     "output_type": "stream",
     "text": [
      "/Users/ZachV/opt/anaconda3/lib/python3.7/site-packages/sklearn/tree/_classes.py:310: FutureWarning: The min_impurity_split parameter is deprecated. Its default value has changed from 1e-7 to 0 in version 0.23, and it will be removed in 0.25. Use the min_impurity_decrease parameter instead.\n",
      "  FutureWarning)\n"
     ]
    },
    {
     "name": "stdout",
     "output_type": "stream",
     "text": [
      "[CV]  ccp_alpha=10, max_leaf_nodes=5, min_impurity_split=0, total=   2.6s\n",
      "[CV] ccp_alpha=10, max_leaf_nodes=5, min_impurity_split=0.1 ..........\n"
     ]
    },
    {
     "name": "stderr",
     "output_type": "stream",
     "text": [
      "/Users/ZachV/opt/anaconda3/lib/python3.7/site-packages/sklearn/tree/_classes.py:310: FutureWarning: The min_impurity_split parameter is deprecated. Its default value has changed from 1e-7 to 0 in version 0.23, and it will be removed in 0.25. Use the min_impurity_decrease parameter instead.\n",
      "  FutureWarning)\n"
     ]
    },
    {
     "name": "stdout",
     "output_type": "stream",
     "text": [
      "[CV]  ccp_alpha=10, max_leaf_nodes=5, min_impurity_split=0.1, total=   2.3s\n",
      "[CV] ccp_alpha=10, max_leaf_nodes=5, min_impurity_split=0.1 ..........\n"
     ]
    },
    {
     "name": "stderr",
     "output_type": "stream",
     "text": [
      "/Users/ZachV/opt/anaconda3/lib/python3.7/site-packages/sklearn/tree/_classes.py:310: FutureWarning: The min_impurity_split parameter is deprecated. Its default value has changed from 1e-7 to 0 in version 0.23, and it will be removed in 0.25. Use the min_impurity_decrease parameter instead.\n",
      "  FutureWarning)\n"
     ]
    },
    {
     "name": "stdout",
     "output_type": "stream",
     "text": [
      "[CV]  ccp_alpha=10, max_leaf_nodes=5, min_impurity_split=0.1, total=   2.2s\n",
      "[CV] ccp_alpha=10, max_leaf_nodes=5, min_impurity_split=0.1 ..........\n"
     ]
    },
    {
     "name": "stderr",
     "output_type": "stream",
     "text": [
      "/Users/ZachV/opt/anaconda3/lib/python3.7/site-packages/sklearn/tree/_classes.py:310: FutureWarning: The min_impurity_split parameter is deprecated. Its default value has changed from 1e-7 to 0 in version 0.23, and it will be removed in 0.25. Use the min_impurity_decrease parameter instead.\n",
      "  FutureWarning)\n"
     ]
    },
    {
     "name": "stdout",
     "output_type": "stream",
     "text": [
      "[CV]  ccp_alpha=10, max_leaf_nodes=5, min_impurity_split=0.1, total=   2.2s\n",
      "[CV] ccp_alpha=10, max_leaf_nodes=5, min_impurity_split=0.1 ..........\n"
     ]
    },
    {
     "name": "stderr",
     "output_type": "stream",
     "text": [
      "/Users/ZachV/opt/anaconda3/lib/python3.7/site-packages/sklearn/tree/_classes.py:310: FutureWarning: The min_impurity_split parameter is deprecated. Its default value has changed from 1e-7 to 0 in version 0.23, and it will be removed in 0.25. Use the min_impurity_decrease parameter instead.\n",
      "  FutureWarning)\n"
     ]
    },
    {
     "name": "stdout",
     "output_type": "stream",
     "text": [
      "[CV]  ccp_alpha=10, max_leaf_nodes=5, min_impurity_split=0.1, total=   2.2s\n",
      "[CV] ccp_alpha=10, max_leaf_nodes=5, min_impurity_split=0.1 ..........\n"
     ]
    },
    {
     "name": "stderr",
     "output_type": "stream",
     "text": [
      "/Users/ZachV/opt/anaconda3/lib/python3.7/site-packages/sklearn/tree/_classes.py:310: FutureWarning: The min_impurity_split parameter is deprecated. Its default value has changed from 1e-7 to 0 in version 0.23, and it will be removed in 0.25. Use the min_impurity_decrease parameter instead.\n",
      "  FutureWarning)\n"
     ]
    },
    {
     "name": "stdout",
     "output_type": "stream",
     "text": [
      "[CV]  ccp_alpha=10, max_leaf_nodes=5, min_impurity_split=0.1, total=   2.2s\n",
      "[CV] ccp_alpha=10, max_leaf_nodes=5, min_impurity_split=0.2 ..........\n"
     ]
    },
    {
     "name": "stderr",
     "output_type": "stream",
     "text": [
      "/Users/ZachV/opt/anaconda3/lib/python3.7/site-packages/sklearn/tree/_classes.py:310: FutureWarning: The min_impurity_split parameter is deprecated. Its default value has changed from 1e-7 to 0 in version 0.23, and it will be removed in 0.25. Use the min_impurity_decrease parameter instead.\n",
      "  FutureWarning)\n"
     ]
    },
    {
     "name": "stdout",
     "output_type": "stream",
     "text": [
      "[CV]  ccp_alpha=10, max_leaf_nodes=5, min_impurity_split=0.2, total=   2.7s\n",
      "[CV] ccp_alpha=10, max_leaf_nodes=5, min_impurity_split=0.2 ..........\n"
     ]
    },
    {
     "name": "stderr",
     "output_type": "stream",
     "text": [
      "/Users/ZachV/opt/anaconda3/lib/python3.7/site-packages/sklearn/tree/_classes.py:310: FutureWarning: The min_impurity_split parameter is deprecated. Its default value has changed from 1e-7 to 0 in version 0.23, and it will be removed in 0.25. Use the min_impurity_decrease parameter instead.\n",
      "  FutureWarning)\n"
     ]
    },
    {
     "name": "stdout",
     "output_type": "stream",
     "text": [
      "[CV]  ccp_alpha=10, max_leaf_nodes=5, min_impurity_split=0.2, total=   3.2s\n",
      "[CV] ccp_alpha=10, max_leaf_nodes=5, min_impurity_split=0.2 ..........\n"
     ]
    },
    {
     "name": "stderr",
     "output_type": "stream",
     "text": [
      "/Users/ZachV/opt/anaconda3/lib/python3.7/site-packages/sklearn/tree/_classes.py:310: FutureWarning: The min_impurity_split parameter is deprecated. Its default value has changed from 1e-7 to 0 in version 0.23, and it will be removed in 0.25. Use the min_impurity_decrease parameter instead.\n",
      "  FutureWarning)\n"
     ]
    },
    {
     "name": "stdout",
     "output_type": "stream",
     "text": [
      "[CV]  ccp_alpha=10, max_leaf_nodes=5, min_impurity_split=0.2, total=   3.6s\n",
      "[CV] ccp_alpha=10, max_leaf_nodes=5, min_impurity_split=0.2 ..........\n"
     ]
    },
    {
     "name": "stderr",
     "output_type": "stream",
     "text": [
      "/Users/ZachV/opt/anaconda3/lib/python3.7/site-packages/sklearn/tree/_classes.py:310: FutureWarning: The min_impurity_split parameter is deprecated. Its default value has changed from 1e-7 to 0 in version 0.23, and it will be removed in 0.25. Use the min_impurity_decrease parameter instead.\n",
      "  FutureWarning)\n"
     ]
    },
    {
     "name": "stdout",
     "output_type": "stream",
     "text": [
      "[CV]  ccp_alpha=10, max_leaf_nodes=5, min_impurity_split=0.2, total=   2.2s\n",
      "[CV] ccp_alpha=10, max_leaf_nodes=5, min_impurity_split=0.2 ..........\n"
     ]
    },
    {
     "name": "stderr",
     "output_type": "stream",
     "text": [
      "/Users/ZachV/opt/anaconda3/lib/python3.7/site-packages/sklearn/tree/_classes.py:310: FutureWarning: The min_impurity_split parameter is deprecated. Its default value has changed from 1e-7 to 0 in version 0.23, and it will be removed in 0.25. Use the min_impurity_decrease parameter instead.\n",
      "  FutureWarning)\n"
     ]
    },
    {
     "name": "stdout",
     "output_type": "stream",
     "text": [
      "[CV]  ccp_alpha=10, max_leaf_nodes=5, min_impurity_split=0.2, total=   2.1s\n",
      "[CV] ccp_alpha=10, max_leaf_nodes=5, min_impurity_split=0.3 ..........\n"
     ]
    },
    {
     "name": "stderr",
     "output_type": "stream",
     "text": [
      "/Users/ZachV/opt/anaconda3/lib/python3.7/site-packages/sklearn/tree/_classes.py:310: FutureWarning: The min_impurity_split parameter is deprecated. Its default value has changed from 1e-7 to 0 in version 0.23, and it will be removed in 0.25. Use the min_impurity_decrease parameter instead.\n",
      "  FutureWarning)\n"
     ]
    },
    {
     "name": "stdout",
     "output_type": "stream",
     "text": [
      "[CV]  ccp_alpha=10, max_leaf_nodes=5, min_impurity_split=0.3, total=   1.6s\n",
      "[CV] ccp_alpha=10, max_leaf_nodes=5, min_impurity_split=0.3 ..........\n"
     ]
    },
    {
     "name": "stderr",
     "output_type": "stream",
     "text": [
      "/Users/ZachV/opt/anaconda3/lib/python3.7/site-packages/sklearn/tree/_classes.py:310: FutureWarning: The min_impurity_split parameter is deprecated. Its default value has changed from 1e-7 to 0 in version 0.23, and it will be removed in 0.25. Use the min_impurity_decrease parameter instead.\n",
      "  FutureWarning)\n"
     ]
    },
    {
     "name": "stdout",
     "output_type": "stream",
     "text": [
      "[CV]  ccp_alpha=10, max_leaf_nodes=5, min_impurity_split=0.3, total=   1.5s\n",
      "[CV] ccp_alpha=10, max_leaf_nodes=5, min_impurity_split=0.3 ..........\n"
     ]
    },
    {
     "name": "stderr",
     "output_type": "stream",
     "text": [
      "/Users/ZachV/opt/anaconda3/lib/python3.7/site-packages/sklearn/tree/_classes.py:310: FutureWarning: The min_impurity_split parameter is deprecated. Its default value has changed from 1e-7 to 0 in version 0.23, and it will be removed in 0.25. Use the min_impurity_decrease parameter instead.\n",
      "  FutureWarning)\n"
     ]
    },
    {
     "name": "stdout",
     "output_type": "stream",
     "text": [
      "[CV]  ccp_alpha=10, max_leaf_nodes=5, min_impurity_split=0.3, total=   1.6s\n",
      "[CV] ccp_alpha=10, max_leaf_nodes=5, min_impurity_split=0.3 ..........\n"
     ]
    },
    {
     "name": "stderr",
     "output_type": "stream",
     "text": [
      "/Users/ZachV/opt/anaconda3/lib/python3.7/site-packages/sklearn/tree/_classes.py:310: FutureWarning: The min_impurity_split parameter is deprecated. Its default value has changed from 1e-7 to 0 in version 0.23, and it will be removed in 0.25. Use the min_impurity_decrease parameter instead.\n",
      "  FutureWarning)\n"
     ]
    },
    {
     "name": "stdout",
     "output_type": "stream",
     "text": [
      "[CV]  ccp_alpha=10, max_leaf_nodes=5, min_impurity_split=0.3, total=   1.6s\n",
      "[CV] ccp_alpha=10, max_leaf_nodes=5, min_impurity_split=0.3 ..........\n"
     ]
    },
    {
     "name": "stderr",
     "output_type": "stream",
     "text": [
      "/Users/ZachV/opt/anaconda3/lib/python3.7/site-packages/sklearn/tree/_classes.py:310: FutureWarning: The min_impurity_split parameter is deprecated. Its default value has changed from 1e-7 to 0 in version 0.23, and it will be removed in 0.25. Use the min_impurity_decrease parameter instead.\n",
      "  FutureWarning)\n"
     ]
    },
    {
     "name": "stdout",
     "output_type": "stream",
     "text": [
      "[CV]  ccp_alpha=10, max_leaf_nodes=5, min_impurity_split=0.3, total=   1.6s\n",
      "[CV] ccp_alpha=10, max_leaf_nodes=5, min_impurity_split=0.4 ..........\n"
     ]
    },
    {
     "name": "stderr",
     "output_type": "stream",
     "text": [
      "/Users/ZachV/opt/anaconda3/lib/python3.7/site-packages/sklearn/tree/_classes.py:310: FutureWarning: The min_impurity_split parameter is deprecated. Its default value has changed from 1e-7 to 0 in version 0.23, and it will be removed in 0.25. Use the min_impurity_decrease parameter instead.\n",
      "  FutureWarning)\n"
     ]
    },
    {
     "name": "stdout",
     "output_type": "stream",
     "text": [
      "[CV]  ccp_alpha=10, max_leaf_nodes=5, min_impurity_split=0.4, total=   1.1s\n",
      "[CV] ccp_alpha=10, max_leaf_nodes=5, min_impurity_split=0.4 ..........\n"
     ]
    },
    {
     "name": "stderr",
     "output_type": "stream",
     "text": [
      "/Users/ZachV/opt/anaconda3/lib/python3.7/site-packages/sklearn/tree/_classes.py:310: FutureWarning: The min_impurity_split parameter is deprecated. Its default value has changed from 1e-7 to 0 in version 0.23, and it will be removed in 0.25. Use the min_impurity_decrease parameter instead.\n",
      "  FutureWarning)\n"
     ]
    },
    {
     "name": "stdout",
     "output_type": "stream",
     "text": [
      "[CV]  ccp_alpha=10, max_leaf_nodes=5, min_impurity_split=0.4, total=   1.1s\n",
      "[CV] ccp_alpha=10, max_leaf_nodes=5, min_impurity_split=0.4 ..........\n"
     ]
    },
    {
     "name": "stderr",
     "output_type": "stream",
     "text": [
      "/Users/ZachV/opt/anaconda3/lib/python3.7/site-packages/sklearn/tree/_classes.py:310: FutureWarning: The min_impurity_split parameter is deprecated. Its default value has changed from 1e-7 to 0 in version 0.23, and it will be removed in 0.25. Use the min_impurity_decrease parameter instead.\n",
      "  FutureWarning)\n"
     ]
    },
    {
     "name": "stdout",
     "output_type": "stream",
     "text": [
      "[CV]  ccp_alpha=10, max_leaf_nodes=5, min_impurity_split=0.4, total=   1.2s\n",
      "[CV] ccp_alpha=10, max_leaf_nodes=5, min_impurity_split=0.4 ..........\n"
     ]
    },
    {
     "name": "stderr",
     "output_type": "stream",
     "text": [
      "/Users/ZachV/opt/anaconda3/lib/python3.7/site-packages/sklearn/tree/_classes.py:310: FutureWarning: The min_impurity_split parameter is deprecated. Its default value has changed from 1e-7 to 0 in version 0.23, and it will be removed in 0.25. Use the min_impurity_decrease parameter instead.\n",
      "  FutureWarning)\n"
     ]
    },
    {
     "name": "stdout",
     "output_type": "stream",
     "text": [
      "[CV]  ccp_alpha=10, max_leaf_nodes=5, min_impurity_split=0.4, total=   1.2s\n",
      "[CV] ccp_alpha=10, max_leaf_nodes=5, min_impurity_split=0.4 ..........\n"
     ]
    },
    {
     "name": "stderr",
     "output_type": "stream",
     "text": [
      "/Users/ZachV/opt/anaconda3/lib/python3.7/site-packages/sklearn/tree/_classes.py:310: FutureWarning: The min_impurity_split parameter is deprecated. Its default value has changed from 1e-7 to 0 in version 0.23, and it will be removed in 0.25. Use the min_impurity_decrease parameter instead.\n",
      "  FutureWarning)\n"
     ]
    },
    {
     "name": "stdout",
     "output_type": "stream",
     "text": [
      "[CV]  ccp_alpha=10, max_leaf_nodes=5, min_impurity_split=0.4, total=   1.2s\n",
      "[CV] ccp_alpha=10, max_leaf_nodes=5, min_impurity_split=0.5 ..........\n"
     ]
    },
    {
     "name": "stderr",
     "output_type": "stream",
     "text": [
      "/Users/ZachV/opt/anaconda3/lib/python3.7/site-packages/sklearn/tree/_classes.py:310: FutureWarning: The min_impurity_split parameter is deprecated. Its default value has changed from 1e-7 to 0 in version 0.23, and it will be removed in 0.25. Use the min_impurity_decrease parameter instead.\n",
      "  FutureWarning)\n"
     ]
    },
    {
     "name": "stdout",
     "output_type": "stream",
     "text": [
      "[CV]  ccp_alpha=10, max_leaf_nodes=5, min_impurity_split=0.5, total=   1.1s\n",
      "[CV] ccp_alpha=10, max_leaf_nodes=5, min_impurity_split=0.5 ..........\n"
     ]
    },
    {
     "name": "stderr",
     "output_type": "stream",
     "text": [
      "/Users/ZachV/opt/anaconda3/lib/python3.7/site-packages/sklearn/tree/_classes.py:310: FutureWarning: The min_impurity_split parameter is deprecated. Its default value has changed from 1e-7 to 0 in version 0.23, and it will be removed in 0.25. Use the min_impurity_decrease parameter instead.\n",
      "  FutureWarning)\n"
     ]
    },
    {
     "name": "stdout",
     "output_type": "stream",
     "text": [
      "[CV]  ccp_alpha=10, max_leaf_nodes=5, min_impurity_split=0.5, total=   1.2s\n",
      "[CV] ccp_alpha=10, max_leaf_nodes=5, min_impurity_split=0.5 ..........\n"
     ]
    },
    {
     "name": "stderr",
     "output_type": "stream",
     "text": [
      "/Users/ZachV/opt/anaconda3/lib/python3.7/site-packages/sklearn/tree/_classes.py:310: FutureWarning: The min_impurity_split parameter is deprecated. Its default value has changed from 1e-7 to 0 in version 0.23, and it will be removed in 0.25. Use the min_impurity_decrease parameter instead.\n",
      "  FutureWarning)\n"
     ]
    },
    {
     "name": "stdout",
     "output_type": "stream",
     "text": [
      "[CV]  ccp_alpha=10, max_leaf_nodes=5, min_impurity_split=0.5, total=   1.7s\n",
      "[CV] ccp_alpha=10, max_leaf_nodes=5, min_impurity_split=0.5 ..........\n"
     ]
    },
    {
     "name": "stderr",
     "output_type": "stream",
     "text": [
      "/Users/ZachV/opt/anaconda3/lib/python3.7/site-packages/sklearn/tree/_classes.py:310: FutureWarning: The min_impurity_split parameter is deprecated. Its default value has changed from 1e-7 to 0 in version 0.23, and it will be removed in 0.25. Use the min_impurity_decrease parameter instead.\n",
      "  FutureWarning)\n"
     ]
    },
    {
     "name": "stdout",
     "output_type": "stream",
     "text": [
      "[CV]  ccp_alpha=10, max_leaf_nodes=5, min_impurity_split=0.5, total=   1.6s\n",
      "[CV] ccp_alpha=10, max_leaf_nodes=5, min_impurity_split=0.5 ..........\n"
     ]
    },
    {
     "name": "stderr",
     "output_type": "stream",
     "text": [
      "/Users/ZachV/opt/anaconda3/lib/python3.7/site-packages/sklearn/tree/_classes.py:310: FutureWarning: The min_impurity_split parameter is deprecated. Its default value has changed from 1e-7 to 0 in version 0.23, and it will be removed in 0.25. Use the min_impurity_decrease parameter instead.\n",
      "  FutureWarning)\n"
     ]
    },
    {
     "name": "stdout",
     "output_type": "stream",
     "text": [
      "[CV]  ccp_alpha=10, max_leaf_nodes=5, min_impurity_split=0.5, total=   1.7s\n",
      "[CV] ccp_alpha=10, max_leaf_nodes=10, min_impurity_split=0 ...........\n"
     ]
    },
    {
     "name": "stderr",
     "output_type": "stream",
     "text": [
      "/Users/ZachV/opt/anaconda3/lib/python3.7/site-packages/sklearn/tree/_classes.py:310: FutureWarning: The min_impurity_split parameter is deprecated. Its default value has changed from 1e-7 to 0 in version 0.23, and it will be removed in 0.25. Use the min_impurity_decrease parameter instead.\n",
      "  FutureWarning)\n"
     ]
    },
    {
     "name": "stdout",
     "output_type": "stream",
     "text": [
      "[CV]  ccp_alpha=10, max_leaf_nodes=10, min_impurity_split=0, total=   3.3s\n",
      "[CV] ccp_alpha=10, max_leaf_nodes=10, min_impurity_split=0 ...........\n"
     ]
    },
    {
     "name": "stderr",
     "output_type": "stream",
     "text": [
      "/Users/ZachV/opt/anaconda3/lib/python3.7/site-packages/sklearn/tree/_classes.py:310: FutureWarning: The min_impurity_split parameter is deprecated. Its default value has changed from 1e-7 to 0 in version 0.23, and it will be removed in 0.25. Use the min_impurity_decrease parameter instead.\n",
      "  FutureWarning)\n"
     ]
    },
    {
     "name": "stdout",
     "output_type": "stream",
     "text": [
      "[CV]  ccp_alpha=10, max_leaf_nodes=10, min_impurity_split=0, total=   3.1s\n",
      "[CV] ccp_alpha=10, max_leaf_nodes=10, min_impurity_split=0 ...........\n"
     ]
    },
    {
     "name": "stderr",
     "output_type": "stream",
     "text": [
      "/Users/ZachV/opt/anaconda3/lib/python3.7/site-packages/sklearn/tree/_classes.py:310: FutureWarning: The min_impurity_split parameter is deprecated. Its default value has changed from 1e-7 to 0 in version 0.23, and it will be removed in 0.25. Use the min_impurity_decrease parameter instead.\n",
      "  FutureWarning)\n"
     ]
    },
    {
     "name": "stdout",
     "output_type": "stream",
     "text": [
      "[CV]  ccp_alpha=10, max_leaf_nodes=10, min_impurity_split=0, total=   3.5s\n",
      "[CV] ccp_alpha=10, max_leaf_nodes=10, min_impurity_split=0 ...........\n"
     ]
    },
    {
     "name": "stderr",
     "output_type": "stream",
     "text": [
      "/Users/ZachV/opt/anaconda3/lib/python3.7/site-packages/sklearn/tree/_classes.py:310: FutureWarning: The min_impurity_split parameter is deprecated. Its default value has changed from 1e-7 to 0 in version 0.23, and it will be removed in 0.25. Use the min_impurity_decrease parameter instead.\n",
      "  FutureWarning)\n"
     ]
    },
    {
     "name": "stdout",
     "output_type": "stream",
     "text": [
      "[CV]  ccp_alpha=10, max_leaf_nodes=10, min_impurity_split=0, total=   3.0s\n",
      "[CV] ccp_alpha=10, max_leaf_nodes=10, min_impurity_split=0 ...........\n"
     ]
    },
    {
     "name": "stderr",
     "output_type": "stream",
     "text": [
      "/Users/ZachV/opt/anaconda3/lib/python3.7/site-packages/sklearn/tree/_classes.py:310: FutureWarning: The min_impurity_split parameter is deprecated. Its default value has changed from 1e-7 to 0 in version 0.23, and it will be removed in 0.25. Use the min_impurity_decrease parameter instead.\n",
      "  FutureWarning)\n"
     ]
    },
    {
     "name": "stdout",
     "output_type": "stream",
     "text": [
      "[CV]  ccp_alpha=10, max_leaf_nodes=10, min_impurity_split=0, total=   3.0s\n",
      "[CV] ccp_alpha=10, max_leaf_nodes=10, min_impurity_split=0.1 .........\n"
     ]
    },
    {
     "name": "stderr",
     "output_type": "stream",
     "text": [
      "/Users/ZachV/opt/anaconda3/lib/python3.7/site-packages/sklearn/tree/_classes.py:310: FutureWarning: The min_impurity_split parameter is deprecated. Its default value has changed from 1e-7 to 0 in version 0.23, and it will be removed in 0.25. Use the min_impurity_decrease parameter instead.\n",
      "  FutureWarning)\n"
     ]
    },
    {
     "name": "stdout",
     "output_type": "stream",
     "text": [
      "[CV]  ccp_alpha=10, max_leaf_nodes=10, min_impurity_split=0.1, total=   2.2s\n",
      "[CV] ccp_alpha=10, max_leaf_nodes=10, min_impurity_split=0.1 .........\n"
     ]
    },
    {
     "name": "stderr",
     "output_type": "stream",
     "text": [
      "/Users/ZachV/opt/anaconda3/lib/python3.7/site-packages/sklearn/tree/_classes.py:310: FutureWarning: The min_impurity_split parameter is deprecated. Its default value has changed from 1e-7 to 0 in version 0.23, and it will be removed in 0.25. Use the min_impurity_decrease parameter instead.\n",
      "  FutureWarning)\n"
     ]
    },
    {
     "name": "stdout",
     "output_type": "stream",
     "text": [
      "[CV]  ccp_alpha=10, max_leaf_nodes=10, min_impurity_split=0.1, total=   2.3s\n",
      "[CV] ccp_alpha=10, max_leaf_nodes=10, min_impurity_split=0.1 .........\n"
     ]
    },
    {
     "name": "stderr",
     "output_type": "stream",
     "text": [
      "/Users/ZachV/opt/anaconda3/lib/python3.7/site-packages/sklearn/tree/_classes.py:310: FutureWarning: The min_impurity_split parameter is deprecated. Its default value has changed from 1e-7 to 0 in version 0.23, and it will be removed in 0.25. Use the min_impurity_decrease parameter instead.\n",
      "  FutureWarning)\n"
     ]
    },
    {
     "name": "stdout",
     "output_type": "stream",
     "text": [
      "[CV]  ccp_alpha=10, max_leaf_nodes=10, min_impurity_split=0.1, total=   2.3s\n",
      "[CV] ccp_alpha=10, max_leaf_nodes=10, min_impurity_split=0.1 .........\n"
     ]
    },
    {
     "name": "stderr",
     "output_type": "stream",
     "text": [
      "/Users/ZachV/opt/anaconda3/lib/python3.7/site-packages/sklearn/tree/_classes.py:310: FutureWarning: The min_impurity_split parameter is deprecated. Its default value has changed from 1e-7 to 0 in version 0.23, and it will be removed in 0.25. Use the min_impurity_decrease parameter instead.\n",
      "  FutureWarning)\n"
     ]
    },
    {
     "name": "stdout",
     "output_type": "stream",
     "text": [
      "[CV]  ccp_alpha=10, max_leaf_nodes=10, min_impurity_split=0.1, total=   2.2s\n",
      "[CV] ccp_alpha=10, max_leaf_nodes=10, min_impurity_split=0.1 .........\n"
     ]
    },
    {
     "name": "stderr",
     "output_type": "stream",
     "text": [
      "/Users/ZachV/opt/anaconda3/lib/python3.7/site-packages/sklearn/tree/_classes.py:310: FutureWarning: The min_impurity_split parameter is deprecated. Its default value has changed from 1e-7 to 0 in version 0.23, and it will be removed in 0.25. Use the min_impurity_decrease parameter instead.\n",
      "  FutureWarning)\n"
     ]
    },
    {
     "name": "stdout",
     "output_type": "stream",
     "text": [
      "[CV]  ccp_alpha=10, max_leaf_nodes=10, min_impurity_split=0.1, total=   2.4s\n",
      "[CV] ccp_alpha=10, max_leaf_nodes=10, min_impurity_split=0.2 .........\n"
     ]
    },
    {
     "name": "stderr",
     "output_type": "stream",
     "text": [
      "/Users/ZachV/opt/anaconda3/lib/python3.7/site-packages/sklearn/tree/_classes.py:310: FutureWarning: The min_impurity_split parameter is deprecated. Its default value has changed from 1e-7 to 0 in version 0.23, and it will be removed in 0.25. Use the min_impurity_decrease parameter instead.\n",
      "  FutureWarning)\n"
     ]
    },
    {
     "name": "stdout",
     "output_type": "stream",
     "text": [
      "[CV]  ccp_alpha=10, max_leaf_nodes=10, min_impurity_split=0.2, total=   3.5s\n",
      "[CV] ccp_alpha=10, max_leaf_nodes=10, min_impurity_split=0.2 .........\n"
     ]
    },
    {
     "name": "stderr",
     "output_type": "stream",
     "text": [
      "/Users/ZachV/opt/anaconda3/lib/python3.7/site-packages/sklearn/tree/_classes.py:310: FutureWarning: The min_impurity_split parameter is deprecated. Its default value has changed from 1e-7 to 0 in version 0.23, and it will be removed in 0.25. Use the min_impurity_decrease parameter instead.\n",
      "  FutureWarning)\n"
     ]
    },
    {
     "name": "stdout",
     "output_type": "stream",
     "text": [
      "[CV]  ccp_alpha=10, max_leaf_nodes=10, min_impurity_split=0.2, total=   2.6s\n",
      "[CV] ccp_alpha=10, max_leaf_nodes=10, min_impurity_split=0.2 .........\n"
     ]
    },
    {
     "name": "stderr",
     "output_type": "stream",
     "text": [
      "/Users/ZachV/opt/anaconda3/lib/python3.7/site-packages/sklearn/tree/_classes.py:310: FutureWarning: The min_impurity_split parameter is deprecated. Its default value has changed from 1e-7 to 0 in version 0.23, and it will be removed in 0.25. Use the min_impurity_decrease parameter instead.\n",
      "  FutureWarning)\n"
     ]
    },
    {
     "name": "stdout",
     "output_type": "stream",
     "text": [
      "[CV]  ccp_alpha=10, max_leaf_nodes=10, min_impurity_split=0.2, total=   1.9s\n",
      "[CV] ccp_alpha=10, max_leaf_nodes=10, min_impurity_split=0.2 .........\n"
     ]
    },
    {
     "name": "stderr",
     "output_type": "stream",
     "text": [
      "/Users/ZachV/opt/anaconda3/lib/python3.7/site-packages/sklearn/tree/_classes.py:310: FutureWarning: The min_impurity_split parameter is deprecated. Its default value has changed from 1e-7 to 0 in version 0.23, and it will be removed in 0.25. Use the min_impurity_decrease parameter instead.\n",
      "  FutureWarning)\n"
     ]
    },
    {
     "name": "stdout",
     "output_type": "stream",
     "text": [
      "[CV]  ccp_alpha=10, max_leaf_nodes=10, min_impurity_split=0.2, total=   1.9s\n",
      "[CV] ccp_alpha=10, max_leaf_nodes=10, min_impurity_split=0.2 .........\n"
     ]
    },
    {
     "name": "stderr",
     "output_type": "stream",
     "text": [
      "/Users/ZachV/opt/anaconda3/lib/python3.7/site-packages/sklearn/tree/_classes.py:310: FutureWarning: The min_impurity_split parameter is deprecated. Its default value has changed from 1e-7 to 0 in version 0.23, and it will be removed in 0.25. Use the min_impurity_decrease parameter instead.\n",
      "  FutureWarning)\n"
     ]
    },
    {
     "name": "stdout",
     "output_type": "stream",
     "text": [
      "[CV]  ccp_alpha=10, max_leaf_nodes=10, min_impurity_split=0.2, total=   2.0s\n",
      "[CV] ccp_alpha=10, max_leaf_nodes=10, min_impurity_split=0.3 .........\n"
     ]
    },
    {
     "name": "stderr",
     "output_type": "stream",
     "text": [
      "/Users/ZachV/opt/anaconda3/lib/python3.7/site-packages/sklearn/tree/_classes.py:310: FutureWarning: The min_impurity_split parameter is deprecated. Its default value has changed from 1e-7 to 0 in version 0.23, and it will be removed in 0.25. Use the min_impurity_decrease parameter instead.\n",
      "  FutureWarning)\n"
     ]
    },
    {
     "name": "stdout",
     "output_type": "stream",
     "text": [
      "[CV]  ccp_alpha=10, max_leaf_nodes=10, min_impurity_split=0.3, total=   1.5s\n",
      "[CV] ccp_alpha=10, max_leaf_nodes=10, min_impurity_split=0.3 .........\n"
     ]
    },
    {
     "name": "stderr",
     "output_type": "stream",
     "text": [
      "/Users/ZachV/opt/anaconda3/lib/python3.7/site-packages/sklearn/tree/_classes.py:310: FutureWarning: The min_impurity_split parameter is deprecated. Its default value has changed from 1e-7 to 0 in version 0.23, and it will be removed in 0.25. Use the min_impurity_decrease parameter instead.\n",
      "  FutureWarning)\n"
     ]
    },
    {
     "name": "stdout",
     "output_type": "stream",
     "text": [
      "[CV]  ccp_alpha=10, max_leaf_nodes=10, min_impurity_split=0.3, total=   1.5s\n",
      "[CV] ccp_alpha=10, max_leaf_nodes=10, min_impurity_split=0.3 .........\n"
     ]
    },
    {
     "name": "stderr",
     "output_type": "stream",
     "text": [
      "/Users/ZachV/opt/anaconda3/lib/python3.7/site-packages/sklearn/tree/_classes.py:310: FutureWarning: The min_impurity_split parameter is deprecated. Its default value has changed from 1e-7 to 0 in version 0.23, and it will be removed in 0.25. Use the min_impurity_decrease parameter instead.\n",
      "  FutureWarning)\n"
     ]
    },
    {
     "name": "stdout",
     "output_type": "stream",
     "text": [
      "[CV]  ccp_alpha=10, max_leaf_nodes=10, min_impurity_split=0.3, total=   1.7s\n",
      "[CV] ccp_alpha=10, max_leaf_nodes=10, min_impurity_split=0.3 .........\n"
     ]
    },
    {
     "name": "stderr",
     "output_type": "stream",
     "text": [
      "/Users/ZachV/opt/anaconda3/lib/python3.7/site-packages/sklearn/tree/_classes.py:310: FutureWarning: The min_impurity_split parameter is deprecated. Its default value has changed from 1e-7 to 0 in version 0.23, and it will be removed in 0.25. Use the min_impurity_decrease parameter instead.\n",
      "  FutureWarning)\n"
     ]
    },
    {
     "name": "stdout",
     "output_type": "stream",
     "text": [
      "[CV]  ccp_alpha=10, max_leaf_nodes=10, min_impurity_split=0.3, total=   1.6s\n",
      "[CV] ccp_alpha=10, max_leaf_nodes=10, min_impurity_split=0.3 .........\n"
     ]
    },
    {
     "name": "stderr",
     "output_type": "stream",
     "text": [
      "/Users/ZachV/opt/anaconda3/lib/python3.7/site-packages/sklearn/tree/_classes.py:310: FutureWarning: The min_impurity_split parameter is deprecated. Its default value has changed from 1e-7 to 0 in version 0.23, and it will be removed in 0.25. Use the min_impurity_decrease parameter instead.\n",
      "  FutureWarning)\n"
     ]
    },
    {
     "name": "stdout",
     "output_type": "stream",
     "text": [
      "[CV]  ccp_alpha=10, max_leaf_nodes=10, min_impurity_split=0.3, total=   1.6s\n",
      "[CV] ccp_alpha=10, max_leaf_nodes=10, min_impurity_split=0.4 .........\n"
     ]
    },
    {
     "name": "stderr",
     "output_type": "stream",
     "text": [
      "/Users/ZachV/opt/anaconda3/lib/python3.7/site-packages/sklearn/tree/_classes.py:310: FutureWarning: The min_impurity_split parameter is deprecated. Its default value has changed from 1e-7 to 0 in version 0.23, and it will be removed in 0.25. Use the min_impurity_decrease parameter instead.\n",
      "  FutureWarning)\n"
     ]
    },
    {
     "name": "stdout",
     "output_type": "stream",
     "text": [
      "[CV]  ccp_alpha=10, max_leaf_nodes=10, min_impurity_split=0.4, total=   1.1s\n",
      "[CV] ccp_alpha=10, max_leaf_nodes=10, min_impurity_split=0.4 .........\n"
     ]
    },
    {
     "name": "stderr",
     "output_type": "stream",
     "text": [
      "/Users/ZachV/opt/anaconda3/lib/python3.7/site-packages/sklearn/tree/_classes.py:310: FutureWarning: The min_impurity_split parameter is deprecated. Its default value has changed from 1e-7 to 0 in version 0.23, and it will be removed in 0.25. Use the min_impurity_decrease parameter instead.\n",
      "  FutureWarning)\n"
     ]
    },
    {
     "name": "stdout",
     "output_type": "stream",
     "text": [
      "[CV]  ccp_alpha=10, max_leaf_nodes=10, min_impurity_split=0.4, total=   1.1s\n",
      "[CV] ccp_alpha=10, max_leaf_nodes=10, min_impurity_split=0.4 .........\n"
     ]
    },
    {
     "name": "stderr",
     "output_type": "stream",
     "text": [
      "/Users/ZachV/opt/anaconda3/lib/python3.7/site-packages/sklearn/tree/_classes.py:310: FutureWarning: The min_impurity_split parameter is deprecated. Its default value has changed from 1e-7 to 0 in version 0.23, and it will be removed in 0.25. Use the min_impurity_decrease parameter instead.\n",
      "  FutureWarning)\n"
     ]
    },
    {
     "name": "stdout",
     "output_type": "stream",
     "text": [
      "[CV]  ccp_alpha=10, max_leaf_nodes=10, min_impurity_split=0.4, total=   1.1s\n",
      "[CV] ccp_alpha=10, max_leaf_nodes=10, min_impurity_split=0.4 .........\n"
     ]
    },
    {
     "name": "stderr",
     "output_type": "stream",
     "text": [
      "/Users/ZachV/opt/anaconda3/lib/python3.7/site-packages/sklearn/tree/_classes.py:310: FutureWarning: The min_impurity_split parameter is deprecated. Its default value has changed from 1e-7 to 0 in version 0.23, and it will be removed in 0.25. Use the min_impurity_decrease parameter instead.\n",
      "  FutureWarning)\n"
     ]
    },
    {
     "name": "stdout",
     "output_type": "stream",
     "text": [
      "[CV]  ccp_alpha=10, max_leaf_nodes=10, min_impurity_split=0.4, total=   1.1s\n",
      "[CV] ccp_alpha=10, max_leaf_nodes=10, min_impurity_split=0.4 .........\n"
     ]
    },
    {
     "name": "stderr",
     "output_type": "stream",
     "text": [
      "/Users/ZachV/opt/anaconda3/lib/python3.7/site-packages/sklearn/tree/_classes.py:310: FutureWarning: The min_impurity_split parameter is deprecated. Its default value has changed from 1e-7 to 0 in version 0.23, and it will be removed in 0.25. Use the min_impurity_decrease parameter instead.\n",
      "  FutureWarning)\n"
     ]
    },
    {
     "name": "stdout",
     "output_type": "stream",
     "text": [
      "[CV]  ccp_alpha=10, max_leaf_nodes=10, min_impurity_split=0.4, total=   1.1s\n",
      "[CV] ccp_alpha=10, max_leaf_nodes=10, min_impurity_split=0.5 .........\n"
     ]
    },
    {
     "name": "stderr",
     "output_type": "stream",
     "text": [
      "/Users/ZachV/opt/anaconda3/lib/python3.7/site-packages/sklearn/tree/_classes.py:310: FutureWarning: The min_impurity_split parameter is deprecated. Its default value has changed from 1e-7 to 0 in version 0.23, and it will be removed in 0.25. Use the min_impurity_decrease parameter instead.\n",
      "  FutureWarning)\n"
     ]
    },
    {
     "name": "stdout",
     "output_type": "stream",
     "text": [
      "[CV]  ccp_alpha=10, max_leaf_nodes=10, min_impurity_split=0.5, total=   1.1s\n",
      "[CV] ccp_alpha=10, max_leaf_nodes=10, min_impurity_split=0.5 .........\n"
     ]
    },
    {
     "name": "stderr",
     "output_type": "stream",
     "text": [
      "/Users/ZachV/opt/anaconda3/lib/python3.7/site-packages/sklearn/tree/_classes.py:310: FutureWarning: The min_impurity_split parameter is deprecated. Its default value has changed from 1e-7 to 0 in version 0.23, and it will be removed in 0.25. Use the min_impurity_decrease parameter instead.\n",
      "  FutureWarning)\n"
     ]
    },
    {
     "name": "stdout",
     "output_type": "stream",
     "text": [
      "[CV]  ccp_alpha=10, max_leaf_nodes=10, min_impurity_split=0.5, total=   1.1s\n",
      "[CV] ccp_alpha=10, max_leaf_nodes=10, min_impurity_split=0.5 .........\n"
     ]
    },
    {
     "name": "stderr",
     "output_type": "stream",
     "text": [
      "/Users/ZachV/opt/anaconda3/lib/python3.7/site-packages/sklearn/tree/_classes.py:310: FutureWarning: The min_impurity_split parameter is deprecated. Its default value has changed from 1e-7 to 0 in version 0.23, and it will be removed in 0.25. Use the min_impurity_decrease parameter instead.\n",
      "  FutureWarning)\n"
     ]
    },
    {
     "name": "stdout",
     "output_type": "stream",
     "text": [
      "[CV]  ccp_alpha=10, max_leaf_nodes=10, min_impurity_split=0.5, total=   1.3s\n",
      "[CV] ccp_alpha=10, max_leaf_nodes=10, min_impurity_split=0.5 .........\n"
     ]
    },
    {
     "name": "stderr",
     "output_type": "stream",
     "text": [
      "/Users/ZachV/opt/anaconda3/lib/python3.7/site-packages/sklearn/tree/_classes.py:310: FutureWarning: The min_impurity_split parameter is deprecated. Its default value has changed from 1e-7 to 0 in version 0.23, and it will be removed in 0.25. Use the min_impurity_decrease parameter instead.\n",
      "  FutureWarning)\n"
     ]
    },
    {
     "name": "stdout",
     "output_type": "stream",
     "text": [
      "[CV]  ccp_alpha=10, max_leaf_nodes=10, min_impurity_split=0.5, total=   1.7s\n",
      "[CV] ccp_alpha=10, max_leaf_nodes=10, min_impurity_split=0.5 .........\n"
     ]
    },
    {
     "name": "stderr",
     "output_type": "stream",
     "text": [
      "/Users/ZachV/opt/anaconda3/lib/python3.7/site-packages/sklearn/tree/_classes.py:310: FutureWarning: The min_impurity_split parameter is deprecated. Its default value has changed from 1e-7 to 0 in version 0.23, and it will be removed in 0.25. Use the min_impurity_decrease parameter instead.\n",
      "  FutureWarning)\n"
     ]
    },
    {
     "name": "stdout",
     "output_type": "stream",
     "text": [
      "[CV]  ccp_alpha=10, max_leaf_nodes=10, min_impurity_split=0.5, total=   1.6s\n",
      "[CV] ccp_alpha=10, max_leaf_nodes=15, min_impurity_split=0 ...........\n"
     ]
    },
    {
     "name": "stderr",
     "output_type": "stream",
     "text": [
      "/Users/ZachV/opt/anaconda3/lib/python3.7/site-packages/sklearn/tree/_classes.py:310: FutureWarning: The min_impurity_split parameter is deprecated. Its default value has changed from 1e-7 to 0 in version 0.23, and it will be removed in 0.25. Use the min_impurity_decrease parameter instead.\n",
      "  FutureWarning)\n"
     ]
    },
    {
     "name": "stdout",
     "output_type": "stream",
     "text": [
      "[CV]  ccp_alpha=10, max_leaf_nodes=15, min_impurity_split=0, total=   3.4s\n",
      "[CV] ccp_alpha=10, max_leaf_nodes=15, min_impurity_split=0 ...........\n"
     ]
    },
    {
     "name": "stderr",
     "output_type": "stream",
     "text": [
      "/Users/ZachV/opt/anaconda3/lib/python3.7/site-packages/sklearn/tree/_classes.py:310: FutureWarning: The min_impurity_split parameter is deprecated. Its default value has changed from 1e-7 to 0 in version 0.23, and it will be removed in 0.25. Use the min_impurity_decrease parameter instead.\n",
      "  FutureWarning)\n"
     ]
    },
    {
     "name": "stdout",
     "output_type": "stream",
     "text": [
      "[CV]  ccp_alpha=10, max_leaf_nodes=15, min_impurity_split=0, total=   3.1s\n",
      "[CV] ccp_alpha=10, max_leaf_nodes=15, min_impurity_split=0 ...........\n"
     ]
    },
    {
     "name": "stderr",
     "output_type": "stream",
     "text": [
      "/Users/ZachV/opt/anaconda3/lib/python3.7/site-packages/sklearn/tree/_classes.py:310: FutureWarning: The min_impurity_split parameter is deprecated. Its default value has changed from 1e-7 to 0 in version 0.23, and it will be removed in 0.25. Use the min_impurity_decrease parameter instead.\n",
      "  FutureWarning)\n"
     ]
    },
    {
     "name": "stdout",
     "output_type": "stream",
     "text": [
      "[CV]  ccp_alpha=10, max_leaf_nodes=15, min_impurity_split=0, total=   3.2s\n",
      "[CV] ccp_alpha=10, max_leaf_nodes=15, min_impurity_split=0 ...........\n"
     ]
    },
    {
     "name": "stderr",
     "output_type": "stream",
     "text": [
      "/Users/ZachV/opt/anaconda3/lib/python3.7/site-packages/sklearn/tree/_classes.py:310: FutureWarning: The min_impurity_split parameter is deprecated. Its default value has changed from 1e-7 to 0 in version 0.23, and it will be removed in 0.25. Use the min_impurity_decrease parameter instead.\n",
      "  FutureWarning)\n"
     ]
    },
    {
     "name": "stdout",
     "output_type": "stream",
     "text": [
      "[CV]  ccp_alpha=10, max_leaf_nodes=15, min_impurity_split=0, total=   3.1s\n",
      "[CV] ccp_alpha=10, max_leaf_nodes=15, min_impurity_split=0 ...........\n"
     ]
    },
    {
     "name": "stderr",
     "output_type": "stream",
     "text": [
      "/Users/ZachV/opt/anaconda3/lib/python3.7/site-packages/sklearn/tree/_classes.py:310: FutureWarning: The min_impurity_split parameter is deprecated. Its default value has changed from 1e-7 to 0 in version 0.23, and it will be removed in 0.25. Use the min_impurity_decrease parameter instead.\n",
      "  FutureWarning)\n"
     ]
    },
    {
     "name": "stdout",
     "output_type": "stream",
     "text": [
      "[CV]  ccp_alpha=10, max_leaf_nodes=15, min_impurity_split=0, total=   3.2s\n",
      "[CV] ccp_alpha=10, max_leaf_nodes=15, min_impurity_split=0.1 .........\n"
     ]
    },
    {
     "name": "stderr",
     "output_type": "stream",
     "text": [
      "/Users/ZachV/opt/anaconda3/lib/python3.7/site-packages/sklearn/tree/_classes.py:310: FutureWarning: The min_impurity_split parameter is deprecated. Its default value has changed from 1e-7 to 0 in version 0.23, and it will be removed in 0.25. Use the min_impurity_decrease parameter instead.\n",
      "  FutureWarning)\n"
     ]
    },
    {
     "name": "stdout",
     "output_type": "stream",
     "text": [
      "[CV]  ccp_alpha=10, max_leaf_nodes=15, min_impurity_split=0.1, total=   2.3s\n",
      "[CV] ccp_alpha=10, max_leaf_nodes=15, min_impurity_split=0.1 .........\n"
     ]
    },
    {
     "name": "stderr",
     "output_type": "stream",
     "text": [
      "/Users/ZachV/opt/anaconda3/lib/python3.7/site-packages/sklearn/tree/_classes.py:310: FutureWarning: The min_impurity_split parameter is deprecated. Its default value has changed from 1e-7 to 0 in version 0.23, and it will be removed in 0.25. Use the min_impurity_decrease parameter instead.\n",
      "  FutureWarning)\n"
     ]
    },
    {
     "name": "stdout",
     "output_type": "stream",
     "text": [
      "[CV]  ccp_alpha=10, max_leaf_nodes=15, min_impurity_split=0.1, total=   2.3s\n",
      "[CV] ccp_alpha=10, max_leaf_nodes=15, min_impurity_split=0.1 .........\n"
     ]
    },
    {
     "name": "stderr",
     "output_type": "stream",
     "text": [
      "/Users/ZachV/opt/anaconda3/lib/python3.7/site-packages/sklearn/tree/_classes.py:310: FutureWarning: The min_impurity_split parameter is deprecated. Its default value has changed from 1e-7 to 0 in version 0.23, and it will be removed in 0.25. Use the min_impurity_decrease parameter instead.\n",
      "  FutureWarning)\n"
     ]
    },
    {
     "name": "stdout",
     "output_type": "stream",
     "text": [
      "[CV]  ccp_alpha=10, max_leaf_nodes=15, min_impurity_split=0.1, total=   2.3s\n",
      "[CV] ccp_alpha=10, max_leaf_nodes=15, min_impurity_split=0.1 .........\n"
     ]
    },
    {
     "name": "stderr",
     "output_type": "stream",
     "text": [
      "/Users/ZachV/opt/anaconda3/lib/python3.7/site-packages/sklearn/tree/_classes.py:310: FutureWarning: The min_impurity_split parameter is deprecated. Its default value has changed from 1e-7 to 0 in version 0.23, and it will be removed in 0.25. Use the min_impurity_decrease parameter instead.\n",
      "  FutureWarning)\n"
     ]
    },
    {
     "name": "stdout",
     "output_type": "stream",
     "text": [
      "[CV]  ccp_alpha=10, max_leaf_nodes=15, min_impurity_split=0.1, total=   2.3s\n",
      "[CV] ccp_alpha=10, max_leaf_nodes=15, min_impurity_split=0.1 .........\n"
     ]
    },
    {
     "name": "stderr",
     "output_type": "stream",
     "text": [
      "/Users/ZachV/opt/anaconda3/lib/python3.7/site-packages/sklearn/tree/_classes.py:310: FutureWarning: The min_impurity_split parameter is deprecated. Its default value has changed from 1e-7 to 0 in version 0.23, and it will be removed in 0.25. Use the min_impurity_decrease parameter instead.\n",
      "  FutureWarning)\n"
     ]
    },
    {
     "name": "stdout",
     "output_type": "stream",
     "text": [
      "[CV]  ccp_alpha=10, max_leaf_nodes=15, min_impurity_split=0.1, total=   2.4s\n",
      "[CV] ccp_alpha=10, max_leaf_nodes=15, min_impurity_split=0.2 .........\n"
     ]
    },
    {
     "name": "stderr",
     "output_type": "stream",
     "text": [
      "/Users/ZachV/opt/anaconda3/lib/python3.7/site-packages/sklearn/tree/_classes.py:310: FutureWarning: The min_impurity_split parameter is deprecated. Its default value has changed from 1e-7 to 0 in version 0.23, and it will be removed in 0.25. Use the min_impurity_decrease parameter instead.\n",
      "  FutureWarning)\n"
     ]
    },
    {
     "name": "stdout",
     "output_type": "stream",
     "text": [
      "[CV]  ccp_alpha=10, max_leaf_nodes=15, min_impurity_split=0.2, total=   2.6s\n",
      "[CV] ccp_alpha=10, max_leaf_nodes=15, min_impurity_split=0.2 .........\n"
     ]
    },
    {
     "name": "stderr",
     "output_type": "stream",
     "text": [
      "/Users/ZachV/opt/anaconda3/lib/python3.7/site-packages/sklearn/tree/_classes.py:310: FutureWarning: The min_impurity_split parameter is deprecated. Its default value has changed from 1e-7 to 0 in version 0.23, and it will be removed in 0.25. Use the min_impurity_decrease parameter instead.\n",
      "  FutureWarning)\n"
     ]
    },
    {
     "name": "stdout",
     "output_type": "stream",
     "text": [
      "[CV]  ccp_alpha=10, max_leaf_nodes=15, min_impurity_split=0.2, total=   2.1s\n",
      "[CV] ccp_alpha=10, max_leaf_nodes=15, min_impurity_split=0.2 .........\n"
     ]
    },
    {
     "name": "stderr",
     "output_type": "stream",
     "text": [
      "/Users/ZachV/opt/anaconda3/lib/python3.7/site-packages/sklearn/tree/_classes.py:310: FutureWarning: The min_impurity_split parameter is deprecated. Its default value has changed from 1e-7 to 0 in version 0.23, and it will be removed in 0.25. Use the min_impurity_decrease parameter instead.\n",
      "  FutureWarning)\n"
     ]
    },
    {
     "name": "stdout",
     "output_type": "stream",
     "text": [
      "[CV]  ccp_alpha=10, max_leaf_nodes=15, min_impurity_split=0.2, total=   1.9s\n",
      "[CV] ccp_alpha=10, max_leaf_nodes=15, min_impurity_split=0.2 .........\n"
     ]
    },
    {
     "name": "stderr",
     "output_type": "stream",
     "text": [
      "/Users/ZachV/opt/anaconda3/lib/python3.7/site-packages/sklearn/tree/_classes.py:310: FutureWarning: The min_impurity_split parameter is deprecated. Its default value has changed from 1e-7 to 0 in version 0.23, and it will be removed in 0.25. Use the min_impurity_decrease parameter instead.\n",
      "  FutureWarning)\n"
     ]
    },
    {
     "name": "stdout",
     "output_type": "stream",
     "text": [
      "[CV]  ccp_alpha=10, max_leaf_nodes=15, min_impurity_split=0.2, total=   2.0s\n",
      "[CV] ccp_alpha=10, max_leaf_nodes=15, min_impurity_split=0.2 .........\n"
     ]
    },
    {
     "name": "stderr",
     "output_type": "stream",
     "text": [
      "/Users/ZachV/opt/anaconda3/lib/python3.7/site-packages/sklearn/tree/_classes.py:310: FutureWarning: The min_impurity_split parameter is deprecated. Its default value has changed from 1e-7 to 0 in version 0.23, and it will be removed in 0.25. Use the min_impurity_decrease parameter instead.\n",
      "  FutureWarning)\n"
     ]
    },
    {
     "name": "stdout",
     "output_type": "stream",
     "text": [
      "[CV]  ccp_alpha=10, max_leaf_nodes=15, min_impurity_split=0.2, total=   1.9s\n",
      "[CV] ccp_alpha=10, max_leaf_nodes=15, min_impurity_split=0.3 .........\n"
     ]
    },
    {
     "name": "stderr",
     "output_type": "stream",
     "text": [
      "/Users/ZachV/opt/anaconda3/lib/python3.7/site-packages/sklearn/tree/_classes.py:310: FutureWarning: The min_impurity_split parameter is deprecated. Its default value has changed from 1e-7 to 0 in version 0.23, and it will be removed in 0.25. Use the min_impurity_decrease parameter instead.\n",
      "  FutureWarning)\n"
     ]
    },
    {
     "name": "stdout",
     "output_type": "stream",
     "text": [
      "[CV]  ccp_alpha=10, max_leaf_nodes=15, min_impurity_split=0.3, total=   1.6s\n",
      "[CV] ccp_alpha=10, max_leaf_nodes=15, min_impurity_split=0.3 .........\n"
     ]
    },
    {
     "name": "stderr",
     "output_type": "stream",
     "text": [
      "/Users/ZachV/opt/anaconda3/lib/python3.7/site-packages/sklearn/tree/_classes.py:310: FutureWarning: The min_impurity_split parameter is deprecated. Its default value has changed from 1e-7 to 0 in version 0.23, and it will be removed in 0.25. Use the min_impurity_decrease parameter instead.\n",
      "  FutureWarning)\n"
     ]
    },
    {
     "name": "stdout",
     "output_type": "stream",
     "text": [
      "[CV]  ccp_alpha=10, max_leaf_nodes=15, min_impurity_split=0.3, total=   2.0s\n",
      "[CV] ccp_alpha=10, max_leaf_nodes=15, min_impurity_split=0.3 .........\n"
     ]
    },
    {
     "name": "stderr",
     "output_type": "stream",
     "text": [
      "/Users/ZachV/opt/anaconda3/lib/python3.7/site-packages/sklearn/tree/_classes.py:310: FutureWarning: The min_impurity_split parameter is deprecated. Its default value has changed from 1e-7 to 0 in version 0.23, and it will be removed in 0.25. Use the min_impurity_decrease parameter instead.\n",
      "  FutureWarning)\n"
     ]
    },
    {
     "name": "stdout",
     "output_type": "stream",
     "text": [
      "[CV]  ccp_alpha=10, max_leaf_nodes=15, min_impurity_split=0.3, total=   1.7s\n",
      "[CV] ccp_alpha=10, max_leaf_nodes=15, min_impurity_split=0.3 .........\n"
     ]
    },
    {
     "name": "stderr",
     "output_type": "stream",
     "text": [
      "/Users/ZachV/opt/anaconda3/lib/python3.7/site-packages/sklearn/tree/_classes.py:310: FutureWarning: The min_impurity_split parameter is deprecated. Its default value has changed from 1e-7 to 0 in version 0.23, and it will be removed in 0.25. Use the min_impurity_decrease parameter instead.\n",
      "  FutureWarning)\n"
     ]
    },
    {
     "name": "stdout",
     "output_type": "stream",
     "text": [
      "[CV]  ccp_alpha=10, max_leaf_nodes=15, min_impurity_split=0.3, total=   1.6s\n",
      "[CV] ccp_alpha=10, max_leaf_nodes=15, min_impurity_split=0.3 .........\n"
     ]
    },
    {
     "name": "stderr",
     "output_type": "stream",
     "text": [
      "/Users/ZachV/opt/anaconda3/lib/python3.7/site-packages/sklearn/tree/_classes.py:310: FutureWarning: The min_impurity_split parameter is deprecated. Its default value has changed from 1e-7 to 0 in version 0.23, and it will be removed in 0.25. Use the min_impurity_decrease parameter instead.\n",
      "  FutureWarning)\n"
     ]
    },
    {
     "name": "stdout",
     "output_type": "stream",
     "text": [
      "[CV]  ccp_alpha=10, max_leaf_nodes=15, min_impurity_split=0.3, total=   1.7s\n",
      "[CV] ccp_alpha=10, max_leaf_nodes=15, min_impurity_split=0.4 .........\n"
     ]
    },
    {
     "name": "stderr",
     "output_type": "stream",
     "text": [
      "/Users/ZachV/opt/anaconda3/lib/python3.7/site-packages/sklearn/tree/_classes.py:310: FutureWarning: The min_impurity_split parameter is deprecated. Its default value has changed from 1e-7 to 0 in version 0.23, and it will be removed in 0.25. Use the min_impurity_decrease parameter instead.\n",
      "  FutureWarning)\n"
     ]
    },
    {
     "name": "stdout",
     "output_type": "stream",
     "text": [
      "[CV]  ccp_alpha=10, max_leaf_nodes=15, min_impurity_split=0.4, total=   1.1s\n",
      "[CV] ccp_alpha=10, max_leaf_nodes=15, min_impurity_split=0.4 .........\n"
     ]
    },
    {
     "name": "stderr",
     "output_type": "stream",
     "text": [
      "/Users/ZachV/opt/anaconda3/lib/python3.7/site-packages/sklearn/tree/_classes.py:310: FutureWarning: The min_impurity_split parameter is deprecated. Its default value has changed from 1e-7 to 0 in version 0.23, and it will be removed in 0.25. Use the min_impurity_decrease parameter instead.\n",
      "  FutureWarning)\n"
     ]
    },
    {
     "name": "stdout",
     "output_type": "stream",
     "text": [
      "[CV]  ccp_alpha=10, max_leaf_nodes=15, min_impurity_split=0.4, total=   1.1s\n",
      "[CV] ccp_alpha=10, max_leaf_nodes=15, min_impurity_split=0.4 .........\n"
     ]
    },
    {
     "name": "stderr",
     "output_type": "stream",
     "text": [
      "/Users/ZachV/opt/anaconda3/lib/python3.7/site-packages/sklearn/tree/_classes.py:310: FutureWarning: The min_impurity_split parameter is deprecated. Its default value has changed from 1e-7 to 0 in version 0.23, and it will be removed in 0.25. Use the min_impurity_decrease parameter instead.\n",
      "  FutureWarning)\n"
     ]
    },
    {
     "name": "stdout",
     "output_type": "stream",
     "text": [
      "[CV]  ccp_alpha=10, max_leaf_nodes=15, min_impurity_split=0.4, total=   1.1s\n",
      "[CV] ccp_alpha=10, max_leaf_nodes=15, min_impurity_split=0.4 .........\n"
     ]
    },
    {
     "name": "stderr",
     "output_type": "stream",
     "text": [
      "/Users/ZachV/opt/anaconda3/lib/python3.7/site-packages/sklearn/tree/_classes.py:310: FutureWarning: The min_impurity_split parameter is deprecated. Its default value has changed from 1e-7 to 0 in version 0.23, and it will be removed in 0.25. Use the min_impurity_decrease parameter instead.\n",
      "  FutureWarning)\n"
     ]
    },
    {
     "name": "stdout",
     "output_type": "stream",
     "text": [
      "[CV]  ccp_alpha=10, max_leaf_nodes=15, min_impurity_split=0.4, total=   1.1s\n",
      "[CV] ccp_alpha=10, max_leaf_nodes=15, min_impurity_split=0.4 .........\n"
     ]
    },
    {
     "name": "stderr",
     "output_type": "stream",
     "text": [
      "/Users/ZachV/opt/anaconda3/lib/python3.7/site-packages/sklearn/tree/_classes.py:310: FutureWarning: The min_impurity_split parameter is deprecated. Its default value has changed from 1e-7 to 0 in version 0.23, and it will be removed in 0.25. Use the min_impurity_decrease parameter instead.\n",
      "  FutureWarning)\n"
     ]
    },
    {
     "name": "stdout",
     "output_type": "stream",
     "text": [
      "[CV]  ccp_alpha=10, max_leaf_nodes=15, min_impurity_split=0.4, total=   1.1s\n",
      "[CV] ccp_alpha=10, max_leaf_nodes=15, min_impurity_split=0.5 .........\n"
     ]
    },
    {
     "name": "stderr",
     "output_type": "stream",
     "text": [
      "/Users/ZachV/opt/anaconda3/lib/python3.7/site-packages/sklearn/tree/_classes.py:310: FutureWarning: The min_impurity_split parameter is deprecated. Its default value has changed from 1e-7 to 0 in version 0.23, and it will be removed in 0.25. Use the min_impurity_decrease parameter instead.\n",
      "  FutureWarning)\n"
     ]
    },
    {
     "name": "stdout",
     "output_type": "stream",
     "text": [
      "[CV]  ccp_alpha=10, max_leaf_nodes=15, min_impurity_split=0.5, total=   1.1s\n",
      "[CV] ccp_alpha=10, max_leaf_nodes=15, min_impurity_split=0.5 .........\n"
     ]
    },
    {
     "name": "stderr",
     "output_type": "stream",
     "text": [
      "/Users/ZachV/opt/anaconda3/lib/python3.7/site-packages/sklearn/tree/_classes.py:310: FutureWarning: The min_impurity_split parameter is deprecated. Its default value has changed from 1e-7 to 0 in version 0.23, and it will be removed in 0.25. Use the min_impurity_decrease parameter instead.\n",
      "  FutureWarning)\n"
     ]
    },
    {
     "name": "stdout",
     "output_type": "stream",
     "text": [
      "[CV]  ccp_alpha=10, max_leaf_nodes=15, min_impurity_split=0.5, total=   1.1s\n",
      "[CV] ccp_alpha=10, max_leaf_nodes=15, min_impurity_split=0.5 .........\n"
     ]
    },
    {
     "name": "stderr",
     "output_type": "stream",
     "text": [
      "/Users/ZachV/opt/anaconda3/lib/python3.7/site-packages/sklearn/tree/_classes.py:310: FutureWarning: The min_impurity_split parameter is deprecated. Its default value has changed from 1e-7 to 0 in version 0.23, and it will be removed in 0.25. Use the min_impurity_decrease parameter instead.\n",
      "  FutureWarning)\n"
     ]
    },
    {
     "name": "stdout",
     "output_type": "stream",
     "text": [
      "[CV]  ccp_alpha=10, max_leaf_nodes=15, min_impurity_split=0.5, total=   1.4s\n",
      "[CV] ccp_alpha=10, max_leaf_nodes=15, min_impurity_split=0.5 .........\n"
     ]
    },
    {
     "name": "stderr",
     "output_type": "stream",
     "text": [
      "/Users/ZachV/opt/anaconda3/lib/python3.7/site-packages/sklearn/tree/_classes.py:310: FutureWarning: The min_impurity_split parameter is deprecated. Its default value has changed from 1e-7 to 0 in version 0.23, and it will be removed in 0.25. Use the min_impurity_decrease parameter instead.\n",
      "  FutureWarning)\n"
     ]
    },
    {
     "name": "stdout",
     "output_type": "stream",
     "text": [
      "[CV]  ccp_alpha=10, max_leaf_nodes=15, min_impurity_split=0.5, total=   1.5s\n",
      "[CV] ccp_alpha=10, max_leaf_nodes=15, min_impurity_split=0.5 .........\n"
     ]
    },
    {
     "name": "stderr",
     "output_type": "stream",
     "text": [
      "/Users/ZachV/opt/anaconda3/lib/python3.7/site-packages/sklearn/tree/_classes.py:310: FutureWarning: The min_impurity_split parameter is deprecated. Its default value has changed from 1e-7 to 0 in version 0.23, and it will be removed in 0.25. Use the min_impurity_decrease parameter instead.\n",
      "  FutureWarning)\n"
     ]
    },
    {
     "name": "stdout",
     "output_type": "stream",
     "text": [
      "[CV]  ccp_alpha=10, max_leaf_nodes=15, min_impurity_split=0.5, total=   1.4s\n",
      "[CV] ccp_alpha=10, max_leaf_nodes=25, min_impurity_split=0 ...........\n"
     ]
    },
    {
     "name": "stderr",
     "output_type": "stream",
     "text": [
      "/Users/ZachV/opt/anaconda3/lib/python3.7/site-packages/sklearn/tree/_classes.py:310: FutureWarning: The min_impurity_split parameter is deprecated. Its default value has changed from 1e-7 to 0 in version 0.23, and it will be removed in 0.25. Use the min_impurity_decrease parameter instead.\n",
      "  FutureWarning)\n"
     ]
    },
    {
     "name": "stdout",
     "output_type": "stream",
     "text": [
      "[CV]  ccp_alpha=10, max_leaf_nodes=25, min_impurity_split=0, total=   3.6s\n",
      "[CV] ccp_alpha=10, max_leaf_nodes=25, min_impurity_split=0 ...........\n"
     ]
    },
    {
     "name": "stderr",
     "output_type": "stream",
     "text": [
      "/Users/ZachV/opt/anaconda3/lib/python3.7/site-packages/sklearn/tree/_classes.py:310: FutureWarning: The min_impurity_split parameter is deprecated. Its default value has changed from 1e-7 to 0 in version 0.23, and it will be removed in 0.25. Use the min_impurity_decrease parameter instead.\n",
      "  FutureWarning)\n"
     ]
    },
    {
     "name": "stdout",
     "output_type": "stream",
     "text": [
      "[CV]  ccp_alpha=10, max_leaf_nodes=25, min_impurity_split=0, total=   3.5s\n",
      "[CV] ccp_alpha=10, max_leaf_nodes=25, min_impurity_split=0 ...........\n"
     ]
    },
    {
     "name": "stderr",
     "output_type": "stream",
     "text": [
      "/Users/ZachV/opt/anaconda3/lib/python3.7/site-packages/sklearn/tree/_classes.py:310: FutureWarning: The min_impurity_split parameter is deprecated. Its default value has changed from 1e-7 to 0 in version 0.23, and it will be removed in 0.25. Use the min_impurity_decrease parameter instead.\n",
      "  FutureWarning)\n"
     ]
    },
    {
     "name": "stdout",
     "output_type": "stream",
     "text": [
      "[CV]  ccp_alpha=10, max_leaf_nodes=25, min_impurity_split=0, total=   3.5s\n",
      "[CV] ccp_alpha=10, max_leaf_nodes=25, min_impurity_split=0 ...........\n"
     ]
    },
    {
     "name": "stderr",
     "output_type": "stream",
     "text": [
      "/Users/ZachV/opt/anaconda3/lib/python3.7/site-packages/sklearn/tree/_classes.py:310: FutureWarning: The min_impurity_split parameter is deprecated. Its default value has changed from 1e-7 to 0 in version 0.23, and it will be removed in 0.25. Use the min_impurity_decrease parameter instead.\n",
      "  FutureWarning)\n"
     ]
    },
    {
     "name": "stdout",
     "output_type": "stream",
     "text": [
      "[CV]  ccp_alpha=10, max_leaf_nodes=25, min_impurity_split=0, total=   3.4s\n",
      "[CV] ccp_alpha=10, max_leaf_nodes=25, min_impurity_split=0 ...........\n"
     ]
    },
    {
     "name": "stderr",
     "output_type": "stream",
     "text": [
      "/Users/ZachV/opt/anaconda3/lib/python3.7/site-packages/sklearn/tree/_classes.py:310: FutureWarning: The min_impurity_split parameter is deprecated. Its default value has changed from 1e-7 to 0 in version 0.23, and it will be removed in 0.25. Use the min_impurity_decrease parameter instead.\n",
      "  FutureWarning)\n"
     ]
    },
    {
     "name": "stdout",
     "output_type": "stream",
     "text": [
      "[CV]  ccp_alpha=10, max_leaf_nodes=25, min_impurity_split=0, total=   3.2s\n",
      "[CV] ccp_alpha=10, max_leaf_nodes=25, min_impurity_split=0.1 .........\n"
     ]
    },
    {
     "name": "stderr",
     "output_type": "stream",
     "text": [
      "/Users/ZachV/opt/anaconda3/lib/python3.7/site-packages/sklearn/tree/_classes.py:310: FutureWarning: The min_impurity_split parameter is deprecated. Its default value has changed from 1e-7 to 0 in version 0.23, and it will be removed in 0.25. Use the min_impurity_decrease parameter instead.\n",
      "  FutureWarning)\n"
     ]
    },
    {
     "name": "stdout",
     "output_type": "stream",
     "text": [
      "[CV]  ccp_alpha=10, max_leaf_nodes=25, min_impurity_split=0.1, total=   2.3s\n",
      "[CV] ccp_alpha=10, max_leaf_nodes=25, min_impurity_split=0.1 .........\n"
     ]
    },
    {
     "name": "stderr",
     "output_type": "stream",
     "text": [
      "/Users/ZachV/opt/anaconda3/lib/python3.7/site-packages/sklearn/tree/_classes.py:310: FutureWarning: The min_impurity_split parameter is deprecated. Its default value has changed from 1e-7 to 0 in version 0.23, and it will be removed in 0.25. Use the min_impurity_decrease parameter instead.\n",
      "  FutureWarning)\n"
     ]
    },
    {
     "name": "stdout",
     "output_type": "stream",
     "text": [
      "[CV]  ccp_alpha=10, max_leaf_nodes=25, min_impurity_split=0.1, total=   2.3s\n",
      "[CV] ccp_alpha=10, max_leaf_nodes=25, min_impurity_split=0.1 .........\n"
     ]
    },
    {
     "name": "stderr",
     "output_type": "stream",
     "text": [
      "/Users/ZachV/opt/anaconda3/lib/python3.7/site-packages/sklearn/tree/_classes.py:310: FutureWarning: The min_impurity_split parameter is deprecated. Its default value has changed from 1e-7 to 0 in version 0.23, and it will be removed in 0.25. Use the min_impurity_decrease parameter instead.\n",
      "  FutureWarning)\n"
     ]
    },
    {
     "name": "stdout",
     "output_type": "stream",
     "text": [
      "[CV]  ccp_alpha=10, max_leaf_nodes=25, min_impurity_split=0.1, total=   2.4s\n",
      "[CV] ccp_alpha=10, max_leaf_nodes=25, min_impurity_split=0.1 .........\n"
     ]
    },
    {
     "name": "stderr",
     "output_type": "stream",
     "text": [
      "/Users/ZachV/opt/anaconda3/lib/python3.7/site-packages/sklearn/tree/_classes.py:310: FutureWarning: The min_impurity_split parameter is deprecated. Its default value has changed from 1e-7 to 0 in version 0.23, and it will be removed in 0.25. Use the min_impurity_decrease parameter instead.\n",
      "  FutureWarning)\n"
     ]
    },
    {
     "name": "stdout",
     "output_type": "stream",
     "text": [
      "[CV]  ccp_alpha=10, max_leaf_nodes=25, min_impurity_split=0.1, total=   2.4s\n",
      "[CV] ccp_alpha=10, max_leaf_nodes=25, min_impurity_split=0.1 .........\n"
     ]
    },
    {
     "name": "stderr",
     "output_type": "stream",
     "text": [
      "/Users/ZachV/opt/anaconda3/lib/python3.7/site-packages/sklearn/tree/_classes.py:310: FutureWarning: The min_impurity_split parameter is deprecated. Its default value has changed from 1e-7 to 0 in version 0.23, and it will be removed in 0.25. Use the min_impurity_decrease parameter instead.\n",
      "  FutureWarning)\n"
     ]
    },
    {
     "name": "stdout",
     "output_type": "stream",
     "text": [
      "[CV]  ccp_alpha=10, max_leaf_nodes=25, min_impurity_split=0.1, total=   3.0s\n",
      "[CV] ccp_alpha=10, max_leaf_nodes=25, min_impurity_split=0.2 .........\n"
     ]
    },
    {
     "name": "stderr",
     "output_type": "stream",
     "text": [
      "/Users/ZachV/opt/anaconda3/lib/python3.7/site-packages/sklearn/tree/_classes.py:310: FutureWarning: The min_impurity_split parameter is deprecated. Its default value has changed from 1e-7 to 0 in version 0.23, and it will be removed in 0.25. Use the min_impurity_decrease parameter instead.\n",
      "  FutureWarning)\n"
     ]
    },
    {
     "name": "stdout",
     "output_type": "stream",
     "text": [
      "[CV]  ccp_alpha=10, max_leaf_nodes=25, min_impurity_split=0.2, total=   2.7s\n",
      "[CV] ccp_alpha=10, max_leaf_nodes=25, min_impurity_split=0.2 .........\n"
     ]
    },
    {
     "name": "stderr",
     "output_type": "stream",
     "text": [
      "/Users/ZachV/opt/anaconda3/lib/python3.7/site-packages/sklearn/tree/_classes.py:310: FutureWarning: The min_impurity_split parameter is deprecated. Its default value has changed from 1e-7 to 0 in version 0.23, and it will be removed in 0.25. Use the min_impurity_decrease parameter instead.\n",
      "  FutureWarning)\n"
     ]
    },
    {
     "name": "stdout",
     "output_type": "stream",
     "text": [
      "[CV]  ccp_alpha=10, max_leaf_nodes=25, min_impurity_split=0.2, total=   2.0s\n",
      "[CV] ccp_alpha=10, max_leaf_nodes=25, min_impurity_split=0.2 .........\n"
     ]
    },
    {
     "name": "stderr",
     "output_type": "stream",
     "text": [
      "/Users/ZachV/opt/anaconda3/lib/python3.7/site-packages/sklearn/tree/_classes.py:310: FutureWarning: The min_impurity_split parameter is deprecated. Its default value has changed from 1e-7 to 0 in version 0.23, and it will be removed in 0.25. Use the min_impurity_decrease parameter instead.\n",
      "  FutureWarning)\n"
     ]
    },
    {
     "name": "stdout",
     "output_type": "stream",
     "text": [
      "[CV]  ccp_alpha=10, max_leaf_nodes=25, min_impurity_split=0.2, total=   2.0s\n",
      "[CV] ccp_alpha=10, max_leaf_nodes=25, min_impurity_split=0.2 .........\n"
     ]
    },
    {
     "name": "stderr",
     "output_type": "stream",
     "text": [
      "/Users/ZachV/opt/anaconda3/lib/python3.7/site-packages/sklearn/tree/_classes.py:310: FutureWarning: The min_impurity_split parameter is deprecated. Its default value has changed from 1e-7 to 0 in version 0.23, and it will be removed in 0.25. Use the min_impurity_decrease parameter instead.\n",
      "  FutureWarning)\n"
     ]
    },
    {
     "name": "stdout",
     "output_type": "stream",
     "text": [
      "[CV]  ccp_alpha=10, max_leaf_nodes=25, min_impurity_split=0.2, total=   2.0s\n",
      "[CV] ccp_alpha=10, max_leaf_nodes=25, min_impurity_split=0.2 .........\n"
     ]
    },
    {
     "name": "stderr",
     "output_type": "stream",
     "text": [
      "/Users/ZachV/opt/anaconda3/lib/python3.7/site-packages/sklearn/tree/_classes.py:310: FutureWarning: The min_impurity_split parameter is deprecated. Its default value has changed from 1e-7 to 0 in version 0.23, and it will be removed in 0.25. Use the min_impurity_decrease parameter instead.\n",
      "  FutureWarning)\n"
     ]
    },
    {
     "name": "stdout",
     "output_type": "stream",
     "text": [
      "[CV]  ccp_alpha=10, max_leaf_nodes=25, min_impurity_split=0.2, total=   2.0s\n",
      "[CV] ccp_alpha=10, max_leaf_nodes=25, min_impurity_split=0.3 .........\n"
     ]
    },
    {
     "name": "stderr",
     "output_type": "stream",
     "text": [
      "/Users/ZachV/opt/anaconda3/lib/python3.7/site-packages/sklearn/tree/_classes.py:310: FutureWarning: The min_impurity_split parameter is deprecated. Its default value has changed from 1e-7 to 0 in version 0.23, and it will be removed in 0.25. Use the min_impurity_decrease parameter instead.\n",
      "  FutureWarning)\n"
     ]
    },
    {
     "name": "stdout",
     "output_type": "stream",
     "text": [
      "[CV]  ccp_alpha=10, max_leaf_nodes=25, min_impurity_split=0.3, total=   1.6s\n",
      "[CV] ccp_alpha=10, max_leaf_nodes=25, min_impurity_split=0.3 .........\n"
     ]
    },
    {
     "name": "stderr",
     "output_type": "stream",
     "text": [
      "/Users/ZachV/opt/anaconda3/lib/python3.7/site-packages/sklearn/tree/_classes.py:310: FutureWarning: The min_impurity_split parameter is deprecated. Its default value has changed from 1e-7 to 0 in version 0.23, and it will be removed in 0.25. Use the min_impurity_decrease parameter instead.\n",
      "  FutureWarning)\n"
     ]
    },
    {
     "name": "stdout",
     "output_type": "stream",
     "text": [
      "[CV]  ccp_alpha=10, max_leaf_nodes=25, min_impurity_split=0.3, total=   1.7s\n",
      "[CV] ccp_alpha=10, max_leaf_nodes=25, min_impurity_split=0.3 .........\n"
     ]
    },
    {
     "name": "stderr",
     "output_type": "stream",
     "text": [
      "/Users/ZachV/opt/anaconda3/lib/python3.7/site-packages/sklearn/tree/_classes.py:310: FutureWarning: The min_impurity_split parameter is deprecated. Its default value has changed from 1e-7 to 0 in version 0.23, and it will be removed in 0.25. Use the min_impurity_decrease parameter instead.\n",
      "  FutureWarning)\n"
     ]
    },
    {
     "name": "stdout",
     "output_type": "stream",
     "text": [
      "[CV]  ccp_alpha=10, max_leaf_nodes=25, min_impurity_split=0.3, total=   1.7s\n",
      "[CV] ccp_alpha=10, max_leaf_nodes=25, min_impurity_split=0.3 .........\n"
     ]
    },
    {
     "name": "stderr",
     "output_type": "stream",
     "text": [
      "/Users/ZachV/opt/anaconda3/lib/python3.7/site-packages/sklearn/tree/_classes.py:310: FutureWarning: The min_impurity_split parameter is deprecated. Its default value has changed from 1e-7 to 0 in version 0.23, and it will be removed in 0.25. Use the min_impurity_decrease parameter instead.\n",
      "  FutureWarning)\n"
     ]
    },
    {
     "name": "stdout",
     "output_type": "stream",
     "text": [
      "[CV]  ccp_alpha=10, max_leaf_nodes=25, min_impurity_split=0.3, total=   1.7s\n",
      "[CV] ccp_alpha=10, max_leaf_nodes=25, min_impurity_split=0.3 .........\n"
     ]
    },
    {
     "name": "stderr",
     "output_type": "stream",
     "text": [
      "/Users/ZachV/opt/anaconda3/lib/python3.7/site-packages/sklearn/tree/_classes.py:310: FutureWarning: The min_impurity_split parameter is deprecated. Its default value has changed from 1e-7 to 0 in version 0.23, and it will be removed in 0.25. Use the min_impurity_decrease parameter instead.\n",
      "  FutureWarning)\n"
     ]
    },
    {
     "name": "stdout",
     "output_type": "stream",
     "text": [
      "[CV]  ccp_alpha=10, max_leaf_nodes=25, min_impurity_split=0.3, total=   1.7s\n",
      "[CV] ccp_alpha=10, max_leaf_nodes=25, min_impurity_split=0.4 .........\n"
     ]
    },
    {
     "name": "stderr",
     "output_type": "stream",
     "text": [
      "/Users/ZachV/opt/anaconda3/lib/python3.7/site-packages/sklearn/tree/_classes.py:310: FutureWarning: The min_impurity_split parameter is deprecated. Its default value has changed from 1e-7 to 0 in version 0.23, and it will be removed in 0.25. Use the min_impurity_decrease parameter instead.\n",
      "  FutureWarning)\n"
     ]
    },
    {
     "name": "stdout",
     "output_type": "stream",
     "text": [
      "[CV]  ccp_alpha=10, max_leaf_nodes=25, min_impurity_split=0.4, total=   1.1s\n",
      "[CV] ccp_alpha=10, max_leaf_nodes=25, min_impurity_split=0.4 .........\n"
     ]
    },
    {
     "name": "stderr",
     "output_type": "stream",
     "text": [
      "/Users/ZachV/opt/anaconda3/lib/python3.7/site-packages/sklearn/tree/_classes.py:310: FutureWarning: The min_impurity_split parameter is deprecated. Its default value has changed from 1e-7 to 0 in version 0.23, and it will be removed in 0.25. Use the min_impurity_decrease parameter instead.\n",
      "  FutureWarning)\n"
     ]
    },
    {
     "name": "stdout",
     "output_type": "stream",
     "text": [
      "[CV]  ccp_alpha=10, max_leaf_nodes=25, min_impurity_split=0.4, total=   1.1s\n",
      "[CV] ccp_alpha=10, max_leaf_nodes=25, min_impurity_split=0.4 .........\n"
     ]
    },
    {
     "name": "stderr",
     "output_type": "stream",
     "text": [
      "/Users/ZachV/opt/anaconda3/lib/python3.7/site-packages/sklearn/tree/_classes.py:310: FutureWarning: The min_impurity_split parameter is deprecated. Its default value has changed from 1e-7 to 0 in version 0.23, and it will be removed in 0.25. Use the min_impurity_decrease parameter instead.\n",
      "  FutureWarning)\n"
     ]
    },
    {
     "name": "stdout",
     "output_type": "stream",
     "text": [
      "[CV]  ccp_alpha=10, max_leaf_nodes=25, min_impurity_split=0.4, total=   1.1s\n",
      "[CV] ccp_alpha=10, max_leaf_nodes=25, min_impurity_split=0.4 .........\n"
     ]
    },
    {
     "name": "stderr",
     "output_type": "stream",
     "text": [
      "/Users/ZachV/opt/anaconda3/lib/python3.7/site-packages/sklearn/tree/_classes.py:310: FutureWarning: The min_impurity_split parameter is deprecated. Its default value has changed from 1e-7 to 0 in version 0.23, and it will be removed in 0.25. Use the min_impurity_decrease parameter instead.\n",
      "  FutureWarning)\n"
     ]
    },
    {
     "name": "stdout",
     "output_type": "stream",
     "text": [
      "[CV]  ccp_alpha=10, max_leaf_nodes=25, min_impurity_split=0.4, total=   1.1s\n",
      "[CV] ccp_alpha=10, max_leaf_nodes=25, min_impurity_split=0.4 .........\n"
     ]
    },
    {
     "name": "stderr",
     "output_type": "stream",
     "text": [
      "/Users/ZachV/opt/anaconda3/lib/python3.7/site-packages/sklearn/tree/_classes.py:310: FutureWarning: The min_impurity_split parameter is deprecated. Its default value has changed from 1e-7 to 0 in version 0.23, and it will be removed in 0.25. Use the min_impurity_decrease parameter instead.\n",
      "  FutureWarning)\n"
     ]
    },
    {
     "name": "stdout",
     "output_type": "stream",
     "text": [
      "[CV]  ccp_alpha=10, max_leaf_nodes=25, min_impurity_split=0.4, total=   1.1s\n",
      "[CV] ccp_alpha=10, max_leaf_nodes=25, min_impurity_split=0.5 .........\n"
     ]
    },
    {
     "name": "stderr",
     "output_type": "stream",
     "text": [
      "/Users/ZachV/opt/anaconda3/lib/python3.7/site-packages/sklearn/tree/_classes.py:310: FutureWarning: The min_impurity_split parameter is deprecated. Its default value has changed from 1e-7 to 0 in version 0.23, and it will be removed in 0.25. Use the min_impurity_decrease parameter instead.\n",
      "  FutureWarning)\n"
     ]
    },
    {
     "name": "stdout",
     "output_type": "stream",
     "text": [
      "[CV]  ccp_alpha=10, max_leaf_nodes=25, min_impurity_split=0.5, total=   1.1s\n",
      "[CV] ccp_alpha=10, max_leaf_nodes=25, min_impurity_split=0.5 .........\n"
     ]
    },
    {
     "name": "stderr",
     "output_type": "stream",
     "text": [
      "/Users/ZachV/opt/anaconda3/lib/python3.7/site-packages/sklearn/tree/_classes.py:310: FutureWarning: The min_impurity_split parameter is deprecated. Its default value has changed from 1e-7 to 0 in version 0.23, and it will be removed in 0.25. Use the min_impurity_decrease parameter instead.\n",
      "  FutureWarning)\n"
     ]
    },
    {
     "name": "stdout",
     "output_type": "stream",
     "text": [
      "[CV]  ccp_alpha=10, max_leaf_nodes=25, min_impurity_split=0.5, total=   1.3s\n",
      "[CV] ccp_alpha=10, max_leaf_nodes=25, min_impurity_split=0.5 .........\n"
     ]
    },
    {
     "name": "stderr",
     "output_type": "stream",
     "text": [
      "/Users/ZachV/opt/anaconda3/lib/python3.7/site-packages/sklearn/tree/_classes.py:310: FutureWarning: The min_impurity_split parameter is deprecated. Its default value has changed from 1e-7 to 0 in version 0.23, and it will be removed in 0.25. Use the min_impurity_decrease parameter instead.\n",
      "  FutureWarning)\n"
     ]
    },
    {
     "name": "stdout",
     "output_type": "stream",
     "text": [
      "[CV]  ccp_alpha=10, max_leaf_nodes=25, min_impurity_split=0.5, total=   1.4s\n",
      "[CV] ccp_alpha=10, max_leaf_nodes=25, min_impurity_split=0.5 .........\n"
     ]
    },
    {
     "name": "stderr",
     "output_type": "stream",
     "text": [
      "/Users/ZachV/opt/anaconda3/lib/python3.7/site-packages/sklearn/tree/_classes.py:310: FutureWarning: The min_impurity_split parameter is deprecated. Its default value has changed from 1e-7 to 0 in version 0.23, and it will be removed in 0.25. Use the min_impurity_decrease parameter instead.\n",
      "  FutureWarning)\n"
     ]
    },
    {
     "name": "stdout",
     "output_type": "stream",
     "text": [
      "[CV]  ccp_alpha=10, max_leaf_nodes=25, min_impurity_split=0.5, total=   1.4s\n",
      "[CV] ccp_alpha=10, max_leaf_nodes=25, min_impurity_split=0.5 .........\n"
     ]
    },
    {
     "name": "stderr",
     "output_type": "stream",
     "text": [
      "/Users/ZachV/opt/anaconda3/lib/python3.7/site-packages/sklearn/tree/_classes.py:310: FutureWarning: The min_impurity_split parameter is deprecated. Its default value has changed from 1e-7 to 0 in version 0.23, and it will be removed in 0.25. Use the min_impurity_decrease parameter instead.\n",
      "  FutureWarning)\n"
     ]
    },
    {
     "name": "stdout",
     "output_type": "stream",
     "text": [
      "[CV]  ccp_alpha=10, max_leaf_nodes=25, min_impurity_split=0.5, total=   1.3s\n",
      "[CV] ccp_alpha=10, max_leaf_nodes=100, min_impurity_split=0 ..........\n"
     ]
    },
    {
     "name": "stderr",
     "output_type": "stream",
     "text": [
      "/Users/ZachV/opt/anaconda3/lib/python3.7/site-packages/sklearn/tree/_classes.py:310: FutureWarning: The min_impurity_split parameter is deprecated. Its default value has changed from 1e-7 to 0 in version 0.23, and it will be removed in 0.25. Use the min_impurity_decrease parameter instead.\n",
      "  FutureWarning)\n"
     ]
    },
    {
     "name": "stdout",
     "output_type": "stream",
     "text": [
      "[CV]  ccp_alpha=10, max_leaf_nodes=100, min_impurity_split=0, total=   3.6s\n",
      "[CV] ccp_alpha=10, max_leaf_nodes=100, min_impurity_split=0 ..........\n"
     ]
    },
    {
     "name": "stderr",
     "output_type": "stream",
     "text": [
      "/Users/ZachV/opt/anaconda3/lib/python3.7/site-packages/sklearn/tree/_classes.py:310: FutureWarning: The min_impurity_split parameter is deprecated. Its default value has changed from 1e-7 to 0 in version 0.23, and it will be removed in 0.25. Use the min_impurity_decrease parameter instead.\n",
      "  FutureWarning)\n"
     ]
    },
    {
     "name": "stdout",
     "output_type": "stream",
     "text": [
      "[CV]  ccp_alpha=10, max_leaf_nodes=100, min_impurity_split=0, total=   3.5s\n",
      "[CV] ccp_alpha=10, max_leaf_nodes=100, min_impurity_split=0 ..........\n"
     ]
    },
    {
     "name": "stderr",
     "output_type": "stream",
     "text": [
      "/Users/ZachV/opt/anaconda3/lib/python3.7/site-packages/sklearn/tree/_classes.py:310: FutureWarning: The min_impurity_split parameter is deprecated. Its default value has changed from 1e-7 to 0 in version 0.23, and it will be removed in 0.25. Use the min_impurity_decrease parameter instead.\n",
      "  FutureWarning)\n"
     ]
    },
    {
     "name": "stdout",
     "output_type": "stream",
     "text": [
      "[CV]  ccp_alpha=10, max_leaf_nodes=100, min_impurity_split=0, total=   3.7s\n",
      "[CV] ccp_alpha=10, max_leaf_nodes=100, min_impurity_split=0 ..........\n"
     ]
    },
    {
     "name": "stderr",
     "output_type": "stream",
     "text": [
      "/Users/ZachV/opt/anaconda3/lib/python3.7/site-packages/sklearn/tree/_classes.py:310: FutureWarning: The min_impurity_split parameter is deprecated. Its default value has changed from 1e-7 to 0 in version 0.23, and it will be removed in 0.25. Use the min_impurity_decrease parameter instead.\n",
      "  FutureWarning)\n"
     ]
    },
    {
     "name": "stdout",
     "output_type": "stream",
     "text": [
      "[CV]  ccp_alpha=10, max_leaf_nodes=100, min_impurity_split=0, total=   4.2s\n",
      "[CV] ccp_alpha=10, max_leaf_nodes=100, min_impurity_split=0 ..........\n"
     ]
    },
    {
     "name": "stderr",
     "output_type": "stream",
     "text": [
      "/Users/ZachV/opt/anaconda3/lib/python3.7/site-packages/sklearn/tree/_classes.py:310: FutureWarning: The min_impurity_split parameter is deprecated. Its default value has changed from 1e-7 to 0 in version 0.23, and it will be removed in 0.25. Use the min_impurity_decrease parameter instead.\n",
      "  FutureWarning)\n"
     ]
    },
    {
     "name": "stdout",
     "output_type": "stream",
     "text": [
      "[CV]  ccp_alpha=10, max_leaf_nodes=100, min_impurity_split=0, total=   3.7s\n",
      "[CV] ccp_alpha=10, max_leaf_nodes=100, min_impurity_split=0.1 ........\n"
     ]
    },
    {
     "name": "stderr",
     "output_type": "stream",
     "text": [
      "/Users/ZachV/opt/anaconda3/lib/python3.7/site-packages/sklearn/tree/_classes.py:310: FutureWarning: The min_impurity_split parameter is deprecated. Its default value has changed from 1e-7 to 0 in version 0.23, and it will be removed in 0.25. Use the min_impurity_decrease parameter instead.\n",
      "  FutureWarning)\n"
     ]
    },
    {
     "name": "stdout",
     "output_type": "stream",
     "text": [
      "[CV]  ccp_alpha=10, max_leaf_nodes=100, min_impurity_split=0.1, total=   3.0s\n",
      "[CV] ccp_alpha=10, max_leaf_nodes=100, min_impurity_split=0.1 ........\n"
     ]
    },
    {
     "name": "stderr",
     "output_type": "stream",
     "text": [
      "/Users/ZachV/opt/anaconda3/lib/python3.7/site-packages/sklearn/tree/_classes.py:310: FutureWarning: The min_impurity_split parameter is deprecated. Its default value has changed from 1e-7 to 0 in version 0.23, and it will be removed in 0.25. Use the min_impurity_decrease parameter instead.\n",
      "  FutureWarning)\n"
     ]
    },
    {
     "name": "stdout",
     "output_type": "stream",
     "text": [
      "[CV]  ccp_alpha=10, max_leaf_nodes=100, min_impurity_split=0.1, total=   3.1s\n",
      "[CV] ccp_alpha=10, max_leaf_nodes=100, min_impurity_split=0.1 ........\n"
     ]
    },
    {
     "name": "stderr",
     "output_type": "stream",
     "text": [
      "/Users/ZachV/opt/anaconda3/lib/python3.7/site-packages/sklearn/tree/_classes.py:310: FutureWarning: The min_impurity_split parameter is deprecated. Its default value has changed from 1e-7 to 0 in version 0.23, and it will be removed in 0.25. Use the min_impurity_decrease parameter instead.\n",
      "  FutureWarning)\n"
     ]
    },
    {
     "name": "stdout",
     "output_type": "stream",
     "text": [
      "[CV]  ccp_alpha=10, max_leaf_nodes=100, min_impurity_split=0.1, total=   3.8s\n",
      "[CV] ccp_alpha=10, max_leaf_nodes=100, min_impurity_split=0.1 ........\n"
     ]
    },
    {
     "name": "stderr",
     "output_type": "stream",
     "text": [
      "/Users/ZachV/opt/anaconda3/lib/python3.7/site-packages/sklearn/tree/_classes.py:310: FutureWarning: The min_impurity_split parameter is deprecated. Its default value has changed from 1e-7 to 0 in version 0.23, and it will be removed in 0.25. Use the min_impurity_decrease parameter instead.\n",
      "  FutureWarning)\n"
     ]
    },
    {
     "name": "stdout",
     "output_type": "stream",
     "text": [
      "[CV]  ccp_alpha=10, max_leaf_nodes=100, min_impurity_split=0.1, total=   4.9s\n",
      "[CV] ccp_alpha=10, max_leaf_nodes=100, min_impurity_split=0.1 ........\n"
     ]
    },
    {
     "name": "stderr",
     "output_type": "stream",
     "text": [
      "/Users/ZachV/opt/anaconda3/lib/python3.7/site-packages/sklearn/tree/_classes.py:310: FutureWarning: The min_impurity_split parameter is deprecated. Its default value has changed from 1e-7 to 0 in version 0.23, and it will be removed in 0.25. Use the min_impurity_decrease parameter instead.\n",
      "  FutureWarning)\n"
     ]
    },
    {
     "name": "stdout",
     "output_type": "stream",
     "text": [
      "[CV]  ccp_alpha=10, max_leaf_nodes=100, min_impurity_split=0.1, total=   2.9s\n",
      "[CV] ccp_alpha=10, max_leaf_nodes=100, min_impurity_split=0.2 ........\n"
     ]
    },
    {
     "name": "stderr",
     "output_type": "stream",
     "text": [
      "/Users/ZachV/opt/anaconda3/lib/python3.7/site-packages/sklearn/tree/_classes.py:310: FutureWarning: The min_impurity_split parameter is deprecated. Its default value has changed from 1e-7 to 0 in version 0.23, and it will be removed in 0.25. Use the min_impurity_decrease parameter instead.\n",
      "  FutureWarning)\n"
     ]
    },
    {
     "name": "stdout",
     "output_type": "stream",
     "text": [
      "[CV]  ccp_alpha=10, max_leaf_nodes=100, min_impurity_split=0.2, total=   2.4s\n",
      "[CV] ccp_alpha=10, max_leaf_nodes=100, min_impurity_split=0.2 ........\n"
     ]
    },
    {
     "name": "stderr",
     "output_type": "stream",
     "text": [
      "/Users/ZachV/opt/anaconda3/lib/python3.7/site-packages/sklearn/tree/_classes.py:310: FutureWarning: The min_impurity_split parameter is deprecated. Its default value has changed from 1e-7 to 0 in version 0.23, and it will be removed in 0.25. Use the min_impurity_decrease parameter instead.\n",
      "  FutureWarning)\n"
     ]
    },
    {
     "name": "stdout",
     "output_type": "stream",
     "text": [
      "[CV]  ccp_alpha=10, max_leaf_nodes=100, min_impurity_split=0.2, total=   2.4s\n",
      "[CV] ccp_alpha=10, max_leaf_nodes=100, min_impurity_split=0.2 ........\n"
     ]
    },
    {
     "name": "stderr",
     "output_type": "stream",
     "text": [
      "/Users/ZachV/opt/anaconda3/lib/python3.7/site-packages/sklearn/tree/_classes.py:310: FutureWarning: The min_impurity_split parameter is deprecated. Its default value has changed from 1e-7 to 0 in version 0.23, and it will be removed in 0.25. Use the min_impurity_decrease parameter instead.\n",
      "  FutureWarning)\n"
     ]
    },
    {
     "name": "stdout",
     "output_type": "stream",
     "text": [
      "[CV]  ccp_alpha=10, max_leaf_nodes=100, min_impurity_split=0.2, total=   2.4s\n",
      "[CV] ccp_alpha=10, max_leaf_nodes=100, min_impurity_split=0.2 ........\n"
     ]
    },
    {
     "name": "stderr",
     "output_type": "stream",
     "text": [
      "/Users/ZachV/opt/anaconda3/lib/python3.7/site-packages/sklearn/tree/_classes.py:310: FutureWarning: The min_impurity_split parameter is deprecated. Its default value has changed from 1e-7 to 0 in version 0.23, and it will be removed in 0.25. Use the min_impurity_decrease parameter instead.\n",
      "  FutureWarning)\n"
     ]
    },
    {
     "name": "stdout",
     "output_type": "stream",
     "text": [
      "[CV]  ccp_alpha=10, max_leaf_nodes=100, min_impurity_split=0.2, total=   2.5s\n",
      "[CV] ccp_alpha=10, max_leaf_nodes=100, min_impurity_split=0.2 ........\n"
     ]
    },
    {
     "name": "stderr",
     "output_type": "stream",
     "text": [
      "/Users/ZachV/opt/anaconda3/lib/python3.7/site-packages/sklearn/tree/_classes.py:310: FutureWarning: The min_impurity_split parameter is deprecated. Its default value has changed from 1e-7 to 0 in version 0.23, and it will be removed in 0.25. Use the min_impurity_decrease parameter instead.\n",
      "  FutureWarning)\n"
     ]
    },
    {
     "name": "stdout",
     "output_type": "stream",
     "text": [
      "[CV]  ccp_alpha=10, max_leaf_nodes=100, min_impurity_split=0.2, total=   2.5s\n",
      "[CV] ccp_alpha=10, max_leaf_nodes=100, min_impurity_split=0.3 ........\n"
     ]
    },
    {
     "name": "stderr",
     "output_type": "stream",
     "text": [
      "/Users/ZachV/opt/anaconda3/lib/python3.7/site-packages/sklearn/tree/_classes.py:310: FutureWarning: The min_impurity_split parameter is deprecated. Its default value has changed from 1e-7 to 0 in version 0.23, and it will be removed in 0.25. Use the min_impurity_decrease parameter instead.\n",
      "  FutureWarning)\n"
     ]
    },
    {
     "name": "stdout",
     "output_type": "stream",
     "text": [
      "[CV]  ccp_alpha=10, max_leaf_nodes=100, min_impurity_split=0.3, total=   1.9s\n",
      "[CV] ccp_alpha=10, max_leaf_nodes=100, min_impurity_split=0.3 ........\n"
     ]
    },
    {
     "name": "stderr",
     "output_type": "stream",
     "text": [
      "/Users/ZachV/opt/anaconda3/lib/python3.7/site-packages/sklearn/tree/_classes.py:310: FutureWarning: The min_impurity_split parameter is deprecated. Its default value has changed from 1e-7 to 0 in version 0.23, and it will be removed in 0.25. Use the min_impurity_decrease parameter instead.\n",
      "  FutureWarning)\n"
     ]
    },
    {
     "name": "stdout",
     "output_type": "stream",
     "text": [
      "[CV]  ccp_alpha=10, max_leaf_nodes=100, min_impurity_split=0.3, total=   1.8s\n",
      "[CV] ccp_alpha=10, max_leaf_nodes=100, min_impurity_split=0.3 ........\n"
     ]
    },
    {
     "name": "stderr",
     "output_type": "stream",
     "text": [
      "/Users/ZachV/opt/anaconda3/lib/python3.7/site-packages/sklearn/tree/_classes.py:310: FutureWarning: The min_impurity_split parameter is deprecated. Its default value has changed from 1e-7 to 0 in version 0.23, and it will be removed in 0.25. Use the min_impurity_decrease parameter instead.\n",
      "  FutureWarning)\n"
     ]
    },
    {
     "name": "stdout",
     "output_type": "stream",
     "text": [
      "[CV]  ccp_alpha=10, max_leaf_nodes=100, min_impurity_split=0.3, total=   1.8s\n",
      "[CV] ccp_alpha=10, max_leaf_nodes=100, min_impurity_split=0.3 ........\n"
     ]
    },
    {
     "name": "stderr",
     "output_type": "stream",
     "text": [
      "/Users/ZachV/opt/anaconda3/lib/python3.7/site-packages/sklearn/tree/_classes.py:310: FutureWarning: The min_impurity_split parameter is deprecated. Its default value has changed from 1e-7 to 0 in version 0.23, and it will be removed in 0.25. Use the min_impurity_decrease parameter instead.\n",
      "  FutureWarning)\n"
     ]
    },
    {
     "name": "stdout",
     "output_type": "stream",
     "text": [
      "[CV]  ccp_alpha=10, max_leaf_nodes=100, min_impurity_split=0.3, total=   1.9s\n",
      "[CV] ccp_alpha=10, max_leaf_nodes=100, min_impurity_split=0.3 ........\n"
     ]
    },
    {
     "name": "stderr",
     "output_type": "stream",
     "text": [
      "/Users/ZachV/opt/anaconda3/lib/python3.7/site-packages/sklearn/tree/_classes.py:310: FutureWarning: The min_impurity_split parameter is deprecated. Its default value has changed from 1e-7 to 0 in version 0.23, and it will be removed in 0.25. Use the min_impurity_decrease parameter instead.\n",
      "  FutureWarning)\n"
     ]
    },
    {
     "name": "stdout",
     "output_type": "stream",
     "text": [
      "[CV]  ccp_alpha=10, max_leaf_nodes=100, min_impurity_split=0.3, total=   1.8s\n",
      "[CV] ccp_alpha=10, max_leaf_nodes=100, min_impurity_split=0.4 ........\n"
     ]
    },
    {
     "name": "stderr",
     "output_type": "stream",
     "text": [
      "/Users/ZachV/opt/anaconda3/lib/python3.7/site-packages/sklearn/tree/_classes.py:310: FutureWarning: The min_impurity_split parameter is deprecated. Its default value has changed from 1e-7 to 0 in version 0.23, and it will be removed in 0.25. Use the min_impurity_decrease parameter instead.\n",
      "  FutureWarning)\n"
     ]
    },
    {
     "name": "stdout",
     "output_type": "stream",
     "text": [
      "[CV]  ccp_alpha=10, max_leaf_nodes=100, min_impurity_split=0.4, total=   1.2s\n",
      "[CV] ccp_alpha=10, max_leaf_nodes=100, min_impurity_split=0.4 ........\n"
     ]
    },
    {
     "name": "stderr",
     "output_type": "stream",
     "text": [
      "/Users/ZachV/opt/anaconda3/lib/python3.7/site-packages/sklearn/tree/_classes.py:310: FutureWarning: The min_impurity_split parameter is deprecated. Its default value has changed from 1e-7 to 0 in version 0.23, and it will be removed in 0.25. Use the min_impurity_decrease parameter instead.\n",
      "  FutureWarning)\n"
     ]
    },
    {
     "name": "stdout",
     "output_type": "stream",
     "text": [
      "[CV]  ccp_alpha=10, max_leaf_nodes=100, min_impurity_split=0.4, total=   1.4s\n",
      "[CV] ccp_alpha=10, max_leaf_nodes=100, min_impurity_split=0.4 ........\n"
     ]
    },
    {
     "name": "stderr",
     "output_type": "stream",
     "text": [
      "/Users/ZachV/opt/anaconda3/lib/python3.7/site-packages/sklearn/tree/_classes.py:310: FutureWarning: The min_impurity_split parameter is deprecated. Its default value has changed from 1e-7 to 0 in version 0.23, and it will be removed in 0.25. Use the min_impurity_decrease parameter instead.\n",
      "  FutureWarning)\n"
     ]
    },
    {
     "name": "stdout",
     "output_type": "stream",
     "text": [
      "[CV]  ccp_alpha=10, max_leaf_nodes=100, min_impurity_split=0.4, total=   1.5s\n",
      "[CV] ccp_alpha=10, max_leaf_nodes=100, min_impurity_split=0.4 ........\n"
     ]
    },
    {
     "name": "stderr",
     "output_type": "stream",
     "text": [
      "/Users/ZachV/opt/anaconda3/lib/python3.7/site-packages/sklearn/tree/_classes.py:310: FutureWarning: The min_impurity_split parameter is deprecated. Its default value has changed from 1e-7 to 0 in version 0.23, and it will be removed in 0.25. Use the min_impurity_decrease parameter instead.\n",
      "  FutureWarning)\n"
     ]
    },
    {
     "name": "stdout",
     "output_type": "stream",
     "text": [
      "[CV]  ccp_alpha=10, max_leaf_nodes=100, min_impurity_split=0.4, total=   1.4s\n",
      "[CV] ccp_alpha=10, max_leaf_nodes=100, min_impurity_split=0.4 ........\n"
     ]
    },
    {
     "name": "stderr",
     "output_type": "stream",
     "text": [
      "/Users/ZachV/opt/anaconda3/lib/python3.7/site-packages/sklearn/tree/_classes.py:310: FutureWarning: The min_impurity_split parameter is deprecated. Its default value has changed from 1e-7 to 0 in version 0.23, and it will be removed in 0.25. Use the min_impurity_decrease parameter instead.\n",
      "  FutureWarning)\n"
     ]
    },
    {
     "name": "stdout",
     "output_type": "stream",
     "text": [
      "[CV]  ccp_alpha=10, max_leaf_nodes=100, min_impurity_split=0.4, total=   1.1s\n",
      "[CV] ccp_alpha=10, max_leaf_nodes=100, min_impurity_split=0.5 ........\n"
     ]
    },
    {
     "name": "stderr",
     "output_type": "stream",
     "text": [
      "/Users/ZachV/opt/anaconda3/lib/python3.7/site-packages/sklearn/tree/_classes.py:310: FutureWarning: The min_impurity_split parameter is deprecated. Its default value has changed from 1e-7 to 0 in version 0.23, and it will be removed in 0.25. Use the min_impurity_decrease parameter instead.\n",
      "  FutureWarning)\n"
     ]
    },
    {
     "name": "stdout",
     "output_type": "stream",
     "text": [
      "[CV]  ccp_alpha=10, max_leaf_nodes=100, min_impurity_split=0.5, total=   1.1s\n",
      "[CV] ccp_alpha=10, max_leaf_nodes=100, min_impurity_split=0.5 ........\n"
     ]
    },
    {
     "name": "stderr",
     "output_type": "stream",
     "text": [
      "/Users/ZachV/opt/anaconda3/lib/python3.7/site-packages/sklearn/tree/_classes.py:310: FutureWarning: The min_impurity_split parameter is deprecated. Its default value has changed from 1e-7 to 0 in version 0.23, and it will be removed in 0.25. Use the min_impurity_decrease parameter instead.\n",
      "  FutureWarning)\n"
     ]
    },
    {
     "name": "stdout",
     "output_type": "stream",
     "text": [
      "[CV]  ccp_alpha=10, max_leaf_nodes=100, min_impurity_split=0.5, total=   1.1s\n",
      "[CV] ccp_alpha=10, max_leaf_nodes=100, min_impurity_split=0.5 ........\n"
     ]
    },
    {
     "name": "stderr",
     "output_type": "stream",
     "text": [
      "/Users/ZachV/opt/anaconda3/lib/python3.7/site-packages/sklearn/tree/_classes.py:310: FutureWarning: The min_impurity_split parameter is deprecated. Its default value has changed from 1e-7 to 0 in version 0.23, and it will be removed in 0.25. Use the min_impurity_decrease parameter instead.\n",
      "  FutureWarning)\n"
     ]
    },
    {
     "name": "stdout",
     "output_type": "stream",
     "text": [
      "[CV]  ccp_alpha=10, max_leaf_nodes=100, min_impurity_split=0.5, total=   1.1s\n",
      "[CV] ccp_alpha=10, max_leaf_nodes=100, min_impurity_split=0.5 ........\n"
     ]
    },
    {
     "name": "stderr",
     "output_type": "stream",
     "text": [
      "/Users/ZachV/opt/anaconda3/lib/python3.7/site-packages/sklearn/tree/_classes.py:310: FutureWarning: The min_impurity_split parameter is deprecated. Its default value has changed from 1e-7 to 0 in version 0.23, and it will be removed in 0.25. Use the min_impurity_decrease parameter instead.\n",
      "  FutureWarning)\n"
     ]
    },
    {
     "name": "stdout",
     "output_type": "stream",
     "text": [
      "[CV]  ccp_alpha=10, max_leaf_nodes=100, min_impurity_split=0.5, total=   1.2s\n",
      "[CV] ccp_alpha=10, max_leaf_nodes=100, min_impurity_split=0.5 ........\n"
     ]
    },
    {
     "name": "stderr",
     "output_type": "stream",
     "text": [
      "/Users/ZachV/opt/anaconda3/lib/python3.7/site-packages/sklearn/tree/_classes.py:310: FutureWarning: The min_impurity_split parameter is deprecated. Its default value has changed from 1e-7 to 0 in version 0.23, and it will be removed in 0.25. Use the min_impurity_decrease parameter instead.\n",
      "  FutureWarning)\n"
     ]
    },
    {
     "name": "stdout",
     "output_type": "stream",
     "text": [
      "[CV]  ccp_alpha=10, max_leaf_nodes=100, min_impurity_split=0.5, total=   1.2s\n",
      "[CV] ccp_alpha=100, max_leaf_nodes=5, min_impurity_split=0 ...........\n"
     ]
    },
    {
     "name": "stderr",
     "output_type": "stream",
     "text": [
      "/Users/ZachV/opt/anaconda3/lib/python3.7/site-packages/sklearn/tree/_classes.py:310: FutureWarning: The min_impurity_split parameter is deprecated. Its default value has changed from 1e-7 to 0 in version 0.23, and it will be removed in 0.25. Use the min_impurity_decrease parameter instead.\n",
      "  FutureWarning)\n"
     ]
    },
    {
     "name": "stdout",
     "output_type": "stream",
     "text": [
      "[CV]  ccp_alpha=100, max_leaf_nodes=5, min_impurity_split=0, total=   2.3s\n",
      "[CV] ccp_alpha=100, max_leaf_nodes=5, min_impurity_split=0 ...........\n"
     ]
    },
    {
     "name": "stderr",
     "output_type": "stream",
     "text": [
      "/Users/ZachV/opt/anaconda3/lib/python3.7/site-packages/sklearn/tree/_classes.py:310: FutureWarning: The min_impurity_split parameter is deprecated. Its default value has changed from 1e-7 to 0 in version 0.23, and it will be removed in 0.25. Use the min_impurity_decrease parameter instead.\n",
      "  FutureWarning)\n"
     ]
    },
    {
     "name": "stdout",
     "output_type": "stream",
     "text": [
      "[CV]  ccp_alpha=100, max_leaf_nodes=5, min_impurity_split=0, total=   2.3s\n",
      "[CV] ccp_alpha=100, max_leaf_nodes=5, min_impurity_split=0 ...........\n"
     ]
    },
    {
     "name": "stderr",
     "output_type": "stream",
     "text": [
      "/Users/ZachV/opt/anaconda3/lib/python3.7/site-packages/sklearn/tree/_classes.py:310: FutureWarning: The min_impurity_split parameter is deprecated. Its default value has changed from 1e-7 to 0 in version 0.23, and it will be removed in 0.25. Use the min_impurity_decrease parameter instead.\n",
      "  FutureWarning)\n"
     ]
    },
    {
     "name": "stdout",
     "output_type": "stream",
     "text": [
      "[CV]  ccp_alpha=100, max_leaf_nodes=5, min_impurity_split=0, total=   2.6s\n",
      "[CV] ccp_alpha=100, max_leaf_nodes=5, min_impurity_split=0 ...........\n"
     ]
    },
    {
     "name": "stderr",
     "output_type": "stream",
     "text": [
      "/Users/ZachV/opt/anaconda3/lib/python3.7/site-packages/sklearn/tree/_classes.py:310: FutureWarning: The min_impurity_split parameter is deprecated. Its default value has changed from 1e-7 to 0 in version 0.23, and it will be removed in 0.25. Use the min_impurity_decrease parameter instead.\n",
      "  FutureWarning)\n"
     ]
    },
    {
     "name": "stdout",
     "output_type": "stream",
     "text": [
      "[CV]  ccp_alpha=100, max_leaf_nodes=5, min_impurity_split=0, total=   2.7s\n",
      "[CV] ccp_alpha=100, max_leaf_nodes=5, min_impurity_split=0 ...........\n"
     ]
    },
    {
     "name": "stderr",
     "output_type": "stream",
     "text": [
      "/Users/ZachV/opt/anaconda3/lib/python3.7/site-packages/sklearn/tree/_classes.py:310: FutureWarning: The min_impurity_split parameter is deprecated. Its default value has changed from 1e-7 to 0 in version 0.23, and it will be removed in 0.25. Use the min_impurity_decrease parameter instead.\n",
      "  FutureWarning)\n"
     ]
    },
    {
     "name": "stdout",
     "output_type": "stream",
     "text": [
      "[CV]  ccp_alpha=100, max_leaf_nodes=5, min_impurity_split=0, total=   2.3s\n",
      "[CV] ccp_alpha=100, max_leaf_nodes=5, min_impurity_split=0.1 .........\n"
     ]
    },
    {
     "name": "stderr",
     "output_type": "stream",
     "text": [
      "/Users/ZachV/opt/anaconda3/lib/python3.7/site-packages/sklearn/tree/_classes.py:310: FutureWarning: The min_impurity_split parameter is deprecated. Its default value has changed from 1e-7 to 0 in version 0.23, and it will be removed in 0.25. Use the min_impurity_decrease parameter instead.\n",
      "  FutureWarning)\n"
     ]
    },
    {
     "name": "stdout",
     "output_type": "stream",
     "text": [
      "[CV]  ccp_alpha=100, max_leaf_nodes=5, min_impurity_split=0.1, total=   2.2s\n",
      "[CV] ccp_alpha=100, max_leaf_nodes=5, min_impurity_split=0.1 .........\n"
     ]
    },
    {
     "name": "stderr",
     "output_type": "stream",
     "text": [
      "/Users/ZachV/opt/anaconda3/lib/python3.7/site-packages/sklearn/tree/_classes.py:310: FutureWarning: The min_impurity_split parameter is deprecated. Its default value has changed from 1e-7 to 0 in version 0.23, and it will be removed in 0.25. Use the min_impurity_decrease parameter instead.\n",
      "  FutureWarning)\n"
     ]
    },
    {
     "name": "stdout",
     "output_type": "stream",
     "text": [
      "[CV]  ccp_alpha=100, max_leaf_nodes=5, min_impurity_split=0.1, total=   2.1s\n",
      "[CV] ccp_alpha=100, max_leaf_nodes=5, min_impurity_split=0.1 .........\n"
     ]
    },
    {
     "name": "stderr",
     "output_type": "stream",
     "text": [
      "/Users/ZachV/opt/anaconda3/lib/python3.7/site-packages/sklearn/tree/_classes.py:310: FutureWarning: The min_impurity_split parameter is deprecated. Its default value has changed from 1e-7 to 0 in version 0.23, and it will be removed in 0.25. Use the min_impurity_decrease parameter instead.\n",
      "  FutureWarning)\n"
     ]
    },
    {
     "name": "stdout",
     "output_type": "stream",
     "text": [
      "[CV]  ccp_alpha=100, max_leaf_nodes=5, min_impurity_split=0.1, total=   2.9s\n",
      "[CV] ccp_alpha=100, max_leaf_nodes=5, min_impurity_split=0.1 .........\n"
     ]
    },
    {
     "name": "stderr",
     "output_type": "stream",
     "text": [
      "/Users/ZachV/opt/anaconda3/lib/python3.7/site-packages/sklearn/tree/_classes.py:310: FutureWarning: The min_impurity_split parameter is deprecated. Its default value has changed from 1e-7 to 0 in version 0.23, and it will be removed in 0.25. Use the min_impurity_decrease parameter instead.\n",
      "  FutureWarning)\n"
     ]
    },
    {
     "name": "stdout",
     "output_type": "stream",
     "text": [
      "[CV]  ccp_alpha=100, max_leaf_nodes=5, min_impurity_split=0.1, total=   2.9s\n",
      "[CV] ccp_alpha=100, max_leaf_nodes=5, min_impurity_split=0.1 .........\n"
     ]
    },
    {
     "name": "stderr",
     "output_type": "stream",
     "text": [
      "/Users/ZachV/opt/anaconda3/lib/python3.7/site-packages/sklearn/tree/_classes.py:310: FutureWarning: The min_impurity_split parameter is deprecated. Its default value has changed from 1e-7 to 0 in version 0.23, and it will be removed in 0.25. Use the min_impurity_decrease parameter instead.\n",
      "  FutureWarning)\n"
     ]
    },
    {
     "name": "stdout",
     "output_type": "stream",
     "text": [
      "[CV]  ccp_alpha=100, max_leaf_nodes=5, min_impurity_split=0.1, total=   2.1s\n",
      "[CV] ccp_alpha=100, max_leaf_nodes=5, min_impurity_split=0.2 .........\n"
     ]
    },
    {
     "name": "stderr",
     "output_type": "stream",
     "text": [
      "/Users/ZachV/opt/anaconda3/lib/python3.7/site-packages/sklearn/tree/_classes.py:310: FutureWarning: The min_impurity_split parameter is deprecated. Its default value has changed from 1e-7 to 0 in version 0.23, and it will be removed in 0.25. Use the min_impurity_decrease parameter instead.\n",
      "  FutureWarning)\n"
     ]
    },
    {
     "name": "stdout",
     "output_type": "stream",
     "text": [
      "[CV]  ccp_alpha=100, max_leaf_nodes=5, min_impurity_split=0.2, total=   1.7s\n",
      "[CV] ccp_alpha=100, max_leaf_nodes=5, min_impurity_split=0.2 .........\n"
     ]
    },
    {
     "name": "stderr",
     "output_type": "stream",
     "text": [
      "/Users/ZachV/opt/anaconda3/lib/python3.7/site-packages/sklearn/tree/_classes.py:310: FutureWarning: The min_impurity_split parameter is deprecated. Its default value has changed from 1e-7 to 0 in version 0.23, and it will be removed in 0.25. Use the min_impurity_decrease parameter instead.\n",
      "  FutureWarning)\n"
     ]
    },
    {
     "name": "stdout",
     "output_type": "stream",
     "text": [
      "[CV]  ccp_alpha=100, max_leaf_nodes=5, min_impurity_split=0.2, total=   1.8s\n",
      "[CV] ccp_alpha=100, max_leaf_nodes=5, min_impurity_split=0.2 .........\n"
     ]
    },
    {
     "name": "stderr",
     "output_type": "stream",
     "text": [
      "/Users/ZachV/opt/anaconda3/lib/python3.7/site-packages/sklearn/tree/_classes.py:310: FutureWarning: The min_impurity_split parameter is deprecated. Its default value has changed from 1e-7 to 0 in version 0.23, and it will be removed in 0.25. Use the min_impurity_decrease parameter instead.\n",
      "  FutureWarning)\n"
     ]
    },
    {
     "name": "stdout",
     "output_type": "stream",
     "text": [
      "[CV]  ccp_alpha=100, max_leaf_nodes=5, min_impurity_split=0.2, total=   1.8s\n",
      "[CV] ccp_alpha=100, max_leaf_nodes=5, min_impurity_split=0.2 .........\n"
     ]
    },
    {
     "name": "stderr",
     "output_type": "stream",
     "text": [
      "/Users/ZachV/opt/anaconda3/lib/python3.7/site-packages/sklearn/tree/_classes.py:310: FutureWarning: The min_impurity_split parameter is deprecated. Its default value has changed from 1e-7 to 0 in version 0.23, and it will be removed in 0.25. Use the min_impurity_decrease parameter instead.\n",
      "  FutureWarning)\n"
     ]
    },
    {
     "name": "stdout",
     "output_type": "stream",
     "text": [
      "[CV]  ccp_alpha=100, max_leaf_nodes=5, min_impurity_split=0.2, total=   1.8s\n",
      "[CV] ccp_alpha=100, max_leaf_nodes=5, min_impurity_split=0.2 .........\n"
     ]
    },
    {
     "name": "stderr",
     "output_type": "stream",
     "text": [
      "/Users/ZachV/opt/anaconda3/lib/python3.7/site-packages/sklearn/tree/_classes.py:310: FutureWarning: The min_impurity_split parameter is deprecated. Its default value has changed from 1e-7 to 0 in version 0.23, and it will be removed in 0.25. Use the min_impurity_decrease parameter instead.\n",
      "  FutureWarning)\n"
     ]
    },
    {
     "name": "stdout",
     "output_type": "stream",
     "text": [
      "[CV]  ccp_alpha=100, max_leaf_nodes=5, min_impurity_split=0.2, total=   1.7s\n",
      "[CV] ccp_alpha=100, max_leaf_nodes=5, min_impurity_split=0.3 .........\n"
     ]
    },
    {
     "name": "stderr",
     "output_type": "stream",
     "text": [
      "/Users/ZachV/opt/anaconda3/lib/python3.7/site-packages/sklearn/tree/_classes.py:310: FutureWarning: The min_impurity_split parameter is deprecated. Its default value has changed from 1e-7 to 0 in version 0.23, and it will be removed in 0.25. Use the min_impurity_decrease parameter instead.\n",
      "  FutureWarning)\n"
     ]
    },
    {
     "name": "stdout",
     "output_type": "stream",
     "text": [
      "[CV]  ccp_alpha=100, max_leaf_nodes=5, min_impurity_split=0.3, total=   1.5s\n",
      "[CV] ccp_alpha=100, max_leaf_nodes=5, min_impurity_split=0.3 .........\n"
     ]
    },
    {
     "name": "stderr",
     "output_type": "stream",
     "text": [
      "/Users/ZachV/opt/anaconda3/lib/python3.7/site-packages/sklearn/tree/_classes.py:310: FutureWarning: The min_impurity_split parameter is deprecated. Its default value has changed from 1e-7 to 0 in version 0.23, and it will be removed in 0.25. Use the min_impurity_decrease parameter instead.\n",
      "  FutureWarning)\n"
     ]
    },
    {
     "name": "stdout",
     "output_type": "stream",
     "text": [
      "[CV]  ccp_alpha=100, max_leaf_nodes=5, min_impurity_split=0.3, total=   1.6s\n",
      "[CV] ccp_alpha=100, max_leaf_nodes=5, min_impurity_split=0.3 .........\n"
     ]
    },
    {
     "name": "stderr",
     "output_type": "stream",
     "text": [
      "/Users/ZachV/opt/anaconda3/lib/python3.7/site-packages/sklearn/tree/_classes.py:310: FutureWarning: The min_impurity_split parameter is deprecated. Its default value has changed from 1e-7 to 0 in version 0.23, and it will be removed in 0.25. Use the min_impurity_decrease parameter instead.\n",
      "  FutureWarning)\n"
     ]
    },
    {
     "name": "stdout",
     "output_type": "stream",
     "text": [
      "[CV]  ccp_alpha=100, max_leaf_nodes=5, min_impurity_split=0.3, total=   1.7s\n",
      "[CV] ccp_alpha=100, max_leaf_nodes=5, min_impurity_split=0.3 .........\n"
     ]
    },
    {
     "name": "stderr",
     "output_type": "stream",
     "text": [
      "/Users/ZachV/opt/anaconda3/lib/python3.7/site-packages/sklearn/tree/_classes.py:310: FutureWarning: The min_impurity_split parameter is deprecated. Its default value has changed from 1e-7 to 0 in version 0.23, and it will be removed in 0.25. Use the min_impurity_decrease parameter instead.\n",
      "  FutureWarning)\n"
     ]
    },
    {
     "name": "stdout",
     "output_type": "stream",
     "text": [
      "[CV]  ccp_alpha=100, max_leaf_nodes=5, min_impurity_split=0.3, total=   1.5s\n",
      "[CV] ccp_alpha=100, max_leaf_nodes=5, min_impurity_split=0.3 .........\n"
     ]
    },
    {
     "name": "stderr",
     "output_type": "stream",
     "text": [
      "/Users/ZachV/opt/anaconda3/lib/python3.7/site-packages/sklearn/tree/_classes.py:310: FutureWarning: The min_impurity_split parameter is deprecated. Its default value has changed from 1e-7 to 0 in version 0.23, and it will be removed in 0.25. Use the min_impurity_decrease parameter instead.\n",
      "  FutureWarning)\n"
     ]
    },
    {
     "name": "stdout",
     "output_type": "stream",
     "text": [
      "[CV]  ccp_alpha=100, max_leaf_nodes=5, min_impurity_split=0.3, total=   1.5s\n",
      "[CV] ccp_alpha=100, max_leaf_nodes=5, min_impurity_split=0.4 .........\n"
     ]
    },
    {
     "name": "stderr",
     "output_type": "stream",
     "text": [
      "/Users/ZachV/opt/anaconda3/lib/python3.7/site-packages/sklearn/tree/_classes.py:310: FutureWarning: The min_impurity_split parameter is deprecated. Its default value has changed from 1e-7 to 0 in version 0.23, and it will be removed in 0.25. Use the min_impurity_decrease parameter instead.\n",
      "  FutureWarning)\n"
     ]
    },
    {
     "name": "stdout",
     "output_type": "stream",
     "text": [
      "[CV]  ccp_alpha=100, max_leaf_nodes=5, min_impurity_split=0.4, total=   1.1s\n",
      "[CV] ccp_alpha=100, max_leaf_nodes=5, min_impurity_split=0.4 .........\n"
     ]
    },
    {
     "name": "stderr",
     "output_type": "stream",
     "text": [
      "/Users/ZachV/opt/anaconda3/lib/python3.7/site-packages/sklearn/tree/_classes.py:310: FutureWarning: The min_impurity_split parameter is deprecated. Its default value has changed from 1e-7 to 0 in version 0.23, and it will be removed in 0.25. Use the min_impurity_decrease parameter instead.\n",
      "  FutureWarning)\n"
     ]
    },
    {
     "name": "stdout",
     "output_type": "stream",
     "text": [
      "[CV]  ccp_alpha=100, max_leaf_nodes=5, min_impurity_split=0.4, total=   1.1s\n",
      "[CV] ccp_alpha=100, max_leaf_nodes=5, min_impurity_split=0.4 .........\n"
     ]
    },
    {
     "name": "stderr",
     "output_type": "stream",
     "text": [
      "/Users/ZachV/opt/anaconda3/lib/python3.7/site-packages/sklearn/tree/_classes.py:310: FutureWarning: The min_impurity_split parameter is deprecated. Its default value has changed from 1e-7 to 0 in version 0.23, and it will be removed in 0.25. Use the min_impurity_decrease parameter instead.\n",
      "  FutureWarning)\n"
     ]
    },
    {
     "name": "stdout",
     "output_type": "stream",
     "text": [
      "[CV]  ccp_alpha=100, max_leaf_nodes=5, min_impurity_split=0.4, total=   1.1s\n",
      "[CV] ccp_alpha=100, max_leaf_nodes=5, min_impurity_split=0.4 .........\n"
     ]
    },
    {
     "name": "stderr",
     "output_type": "stream",
     "text": [
      "/Users/ZachV/opt/anaconda3/lib/python3.7/site-packages/sklearn/tree/_classes.py:310: FutureWarning: The min_impurity_split parameter is deprecated. Its default value has changed from 1e-7 to 0 in version 0.23, and it will be removed in 0.25. Use the min_impurity_decrease parameter instead.\n",
      "  FutureWarning)\n"
     ]
    },
    {
     "name": "stdout",
     "output_type": "stream",
     "text": [
      "[CV]  ccp_alpha=100, max_leaf_nodes=5, min_impurity_split=0.4, total=   1.2s\n",
      "[CV] ccp_alpha=100, max_leaf_nodes=5, min_impurity_split=0.4 .........\n"
     ]
    },
    {
     "name": "stderr",
     "output_type": "stream",
     "text": [
      "/Users/ZachV/opt/anaconda3/lib/python3.7/site-packages/sklearn/tree/_classes.py:310: FutureWarning: The min_impurity_split parameter is deprecated. Its default value has changed from 1e-7 to 0 in version 0.23, and it will be removed in 0.25. Use the min_impurity_decrease parameter instead.\n",
      "  FutureWarning)\n"
     ]
    },
    {
     "name": "stdout",
     "output_type": "stream",
     "text": [
      "[CV]  ccp_alpha=100, max_leaf_nodes=5, min_impurity_split=0.4, total=   1.4s\n",
      "[CV] ccp_alpha=100, max_leaf_nodes=5, min_impurity_split=0.5 .........\n"
     ]
    },
    {
     "name": "stderr",
     "output_type": "stream",
     "text": [
      "/Users/ZachV/opt/anaconda3/lib/python3.7/site-packages/sklearn/tree/_classes.py:310: FutureWarning: The min_impurity_split parameter is deprecated. Its default value has changed from 1e-7 to 0 in version 0.23, and it will be removed in 0.25. Use the min_impurity_decrease parameter instead.\n",
      "  FutureWarning)\n"
     ]
    },
    {
     "name": "stdout",
     "output_type": "stream",
     "text": [
      "[CV]  ccp_alpha=100, max_leaf_nodes=5, min_impurity_split=0.5, total=   1.6s\n",
      "[CV] ccp_alpha=100, max_leaf_nodes=5, min_impurity_split=0.5 .........\n"
     ]
    },
    {
     "name": "stderr",
     "output_type": "stream",
     "text": [
      "/Users/ZachV/opt/anaconda3/lib/python3.7/site-packages/sklearn/tree/_classes.py:310: FutureWarning: The min_impurity_split parameter is deprecated. Its default value has changed from 1e-7 to 0 in version 0.23, and it will be removed in 0.25. Use the min_impurity_decrease parameter instead.\n",
      "  FutureWarning)\n"
     ]
    },
    {
     "name": "stdout",
     "output_type": "stream",
     "text": [
      "[CV]  ccp_alpha=100, max_leaf_nodes=5, min_impurity_split=0.5, total=   1.5s\n",
      "[CV] ccp_alpha=100, max_leaf_nodes=5, min_impurity_split=0.5 .........\n"
     ]
    },
    {
     "name": "stderr",
     "output_type": "stream",
     "text": [
      "/Users/ZachV/opt/anaconda3/lib/python3.7/site-packages/sklearn/tree/_classes.py:310: FutureWarning: The min_impurity_split parameter is deprecated. Its default value has changed from 1e-7 to 0 in version 0.23, and it will be removed in 0.25. Use the min_impurity_decrease parameter instead.\n",
      "  FutureWarning)\n"
     ]
    },
    {
     "name": "stdout",
     "output_type": "stream",
     "text": [
      "[CV]  ccp_alpha=100, max_leaf_nodes=5, min_impurity_split=0.5, total=   1.1s\n",
      "[CV] ccp_alpha=100, max_leaf_nodes=5, min_impurity_split=0.5 .........\n"
     ]
    },
    {
     "name": "stderr",
     "output_type": "stream",
     "text": [
      "/Users/ZachV/opt/anaconda3/lib/python3.7/site-packages/sklearn/tree/_classes.py:310: FutureWarning: The min_impurity_split parameter is deprecated. Its default value has changed from 1e-7 to 0 in version 0.23, and it will be removed in 0.25. Use the min_impurity_decrease parameter instead.\n",
      "  FutureWarning)\n"
     ]
    },
    {
     "name": "stdout",
     "output_type": "stream",
     "text": [
      "[CV]  ccp_alpha=100, max_leaf_nodes=5, min_impurity_split=0.5, total=   1.1s\n",
      "[CV] ccp_alpha=100, max_leaf_nodes=5, min_impurity_split=0.5 .........\n"
     ]
    },
    {
     "name": "stderr",
     "output_type": "stream",
     "text": [
      "/Users/ZachV/opt/anaconda3/lib/python3.7/site-packages/sklearn/tree/_classes.py:310: FutureWarning: The min_impurity_split parameter is deprecated. Its default value has changed from 1e-7 to 0 in version 0.23, and it will be removed in 0.25. Use the min_impurity_decrease parameter instead.\n",
      "  FutureWarning)\n"
     ]
    },
    {
     "name": "stdout",
     "output_type": "stream",
     "text": [
      "[CV]  ccp_alpha=100, max_leaf_nodes=5, min_impurity_split=0.5, total=   1.1s\n",
      "[CV] ccp_alpha=100, max_leaf_nodes=10, min_impurity_split=0 ..........\n"
     ]
    },
    {
     "name": "stderr",
     "output_type": "stream",
     "text": [
      "/Users/ZachV/opt/anaconda3/lib/python3.7/site-packages/sklearn/tree/_classes.py:310: FutureWarning: The min_impurity_split parameter is deprecated. Its default value has changed from 1e-7 to 0 in version 0.23, and it will be removed in 0.25. Use the min_impurity_decrease parameter instead.\n",
      "  FutureWarning)\n"
     ]
    },
    {
     "name": "stdout",
     "output_type": "stream",
     "text": [
      "[CV]  ccp_alpha=100, max_leaf_nodes=10, min_impurity_split=0, total=   3.1s\n",
      "[CV] ccp_alpha=100, max_leaf_nodes=10, min_impurity_split=0 ..........\n"
     ]
    },
    {
     "name": "stderr",
     "output_type": "stream",
     "text": [
      "/Users/ZachV/opt/anaconda3/lib/python3.7/site-packages/sklearn/tree/_classes.py:310: FutureWarning: The min_impurity_split parameter is deprecated. Its default value has changed from 1e-7 to 0 in version 0.23, and it will be removed in 0.25. Use the min_impurity_decrease parameter instead.\n",
      "  FutureWarning)\n"
     ]
    },
    {
     "name": "stdout",
     "output_type": "stream",
     "text": [
      "[CV]  ccp_alpha=100, max_leaf_nodes=10, min_impurity_split=0, total=   3.1s\n",
      "[CV] ccp_alpha=100, max_leaf_nodes=10, min_impurity_split=0 ..........\n"
     ]
    },
    {
     "name": "stderr",
     "output_type": "stream",
     "text": [
      "/Users/ZachV/opt/anaconda3/lib/python3.7/site-packages/sklearn/tree/_classes.py:310: FutureWarning: The min_impurity_split parameter is deprecated. Its default value has changed from 1e-7 to 0 in version 0.23, and it will be removed in 0.25. Use the min_impurity_decrease parameter instead.\n",
      "  FutureWarning)\n"
     ]
    },
    {
     "name": "stdout",
     "output_type": "stream",
     "text": [
      "[CV]  ccp_alpha=100, max_leaf_nodes=10, min_impurity_split=0, total=   3.1s\n",
      "[CV] ccp_alpha=100, max_leaf_nodes=10, min_impurity_split=0 ..........\n"
     ]
    },
    {
     "name": "stderr",
     "output_type": "stream",
     "text": [
      "/Users/ZachV/opt/anaconda3/lib/python3.7/site-packages/sklearn/tree/_classes.py:310: FutureWarning: The min_impurity_split parameter is deprecated. Its default value has changed from 1e-7 to 0 in version 0.23, and it will be removed in 0.25. Use the min_impurity_decrease parameter instead.\n",
      "  FutureWarning)\n"
     ]
    },
    {
     "name": "stdout",
     "output_type": "stream",
     "text": [
      "[CV]  ccp_alpha=100, max_leaf_nodes=10, min_impurity_split=0, total=   3.0s\n",
      "[CV] ccp_alpha=100, max_leaf_nodes=10, min_impurity_split=0 ..........\n"
     ]
    },
    {
     "name": "stderr",
     "output_type": "stream",
     "text": [
      "/Users/ZachV/opt/anaconda3/lib/python3.7/site-packages/sklearn/tree/_classes.py:310: FutureWarning: The min_impurity_split parameter is deprecated. Its default value has changed from 1e-7 to 0 in version 0.23, and it will be removed in 0.25. Use the min_impurity_decrease parameter instead.\n",
      "  FutureWarning)\n"
     ]
    },
    {
     "name": "stdout",
     "output_type": "stream",
     "text": [
      "[CV]  ccp_alpha=100, max_leaf_nodes=10, min_impurity_split=0, total=   2.9s\n",
      "[CV] ccp_alpha=100, max_leaf_nodes=10, min_impurity_split=0.1 ........\n"
     ]
    },
    {
     "name": "stderr",
     "output_type": "stream",
     "text": [
      "/Users/ZachV/opt/anaconda3/lib/python3.7/site-packages/sklearn/tree/_classes.py:310: FutureWarning: The min_impurity_split parameter is deprecated. Its default value has changed from 1e-7 to 0 in version 0.23, and it will be removed in 0.25. Use the min_impurity_decrease parameter instead.\n",
      "  FutureWarning)\n"
     ]
    },
    {
     "name": "stdout",
     "output_type": "stream",
     "text": [
      "[CV]  ccp_alpha=100, max_leaf_nodes=10, min_impurity_split=0.1, total=   2.2s\n",
      "[CV] ccp_alpha=100, max_leaf_nodes=10, min_impurity_split=0.1 ........\n"
     ]
    },
    {
     "name": "stderr",
     "output_type": "stream",
     "text": [
      "/Users/ZachV/opt/anaconda3/lib/python3.7/site-packages/sklearn/tree/_classes.py:310: FutureWarning: The min_impurity_split parameter is deprecated. Its default value has changed from 1e-7 to 0 in version 0.23, and it will be removed in 0.25. Use the min_impurity_decrease parameter instead.\n",
      "  FutureWarning)\n"
     ]
    },
    {
     "name": "stdout",
     "output_type": "stream",
     "text": [
      "[CV]  ccp_alpha=100, max_leaf_nodes=10, min_impurity_split=0.1, total=   2.2s\n",
      "[CV] ccp_alpha=100, max_leaf_nodes=10, min_impurity_split=0.1 ........\n"
     ]
    },
    {
     "name": "stderr",
     "output_type": "stream",
     "text": [
      "/Users/ZachV/opt/anaconda3/lib/python3.7/site-packages/sklearn/tree/_classes.py:310: FutureWarning: The min_impurity_split parameter is deprecated. Its default value has changed from 1e-7 to 0 in version 0.23, and it will be removed in 0.25. Use the min_impurity_decrease parameter instead.\n",
      "  FutureWarning)\n"
     ]
    },
    {
     "name": "stdout",
     "output_type": "stream",
     "text": [
      "[CV]  ccp_alpha=100, max_leaf_nodes=10, min_impurity_split=0.1, total=   2.3s\n",
      "[CV] ccp_alpha=100, max_leaf_nodes=10, min_impurity_split=0.1 ........\n"
     ]
    },
    {
     "name": "stderr",
     "output_type": "stream",
     "text": [
      "/Users/ZachV/opt/anaconda3/lib/python3.7/site-packages/sklearn/tree/_classes.py:310: FutureWarning: The min_impurity_split parameter is deprecated. Its default value has changed from 1e-7 to 0 in version 0.23, and it will be removed in 0.25. Use the min_impurity_decrease parameter instead.\n",
      "  FutureWarning)\n"
     ]
    },
    {
     "name": "stdout",
     "output_type": "stream",
     "text": [
      "[CV]  ccp_alpha=100, max_leaf_nodes=10, min_impurity_split=0.1, total=   3.4s\n",
      "[CV] ccp_alpha=100, max_leaf_nodes=10, min_impurity_split=0.1 ........\n"
     ]
    },
    {
     "name": "stderr",
     "output_type": "stream",
     "text": [
      "/Users/ZachV/opt/anaconda3/lib/python3.7/site-packages/sklearn/tree/_classes.py:310: FutureWarning: The min_impurity_split parameter is deprecated. Its default value has changed from 1e-7 to 0 in version 0.23, and it will be removed in 0.25. Use the min_impurity_decrease parameter instead.\n",
      "  FutureWarning)\n"
     ]
    },
    {
     "name": "stdout",
     "output_type": "stream",
     "text": [
      "[CV]  ccp_alpha=100, max_leaf_nodes=10, min_impurity_split=0.1, total=   3.2s\n",
      "[CV] ccp_alpha=100, max_leaf_nodes=10, min_impurity_split=0.2 ........\n"
     ]
    },
    {
     "name": "stderr",
     "output_type": "stream",
     "text": [
      "/Users/ZachV/opt/anaconda3/lib/python3.7/site-packages/sklearn/tree/_classes.py:310: FutureWarning: The min_impurity_split parameter is deprecated. Its default value has changed from 1e-7 to 0 in version 0.23, and it will be removed in 0.25. Use the min_impurity_decrease parameter instead.\n",
      "  FutureWarning)\n"
     ]
    },
    {
     "name": "stdout",
     "output_type": "stream",
     "text": [
      "[CV]  ccp_alpha=100, max_leaf_nodes=10, min_impurity_split=0.2, total=   1.9s\n",
      "[CV] ccp_alpha=100, max_leaf_nodes=10, min_impurity_split=0.2 ........\n"
     ]
    },
    {
     "name": "stderr",
     "output_type": "stream",
     "text": [
      "/Users/ZachV/opt/anaconda3/lib/python3.7/site-packages/sklearn/tree/_classes.py:310: FutureWarning: The min_impurity_split parameter is deprecated. Its default value has changed from 1e-7 to 0 in version 0.23, and it will be removed in 0.25. Use the min_impurity_decrease parameter instead.\n",
      "  FutureWarning)\n"
     ]
    },
    {
     "name": "stdout",
     "output_type": "stream",
     "text": [
      "[CV]  ccp_alpha=100, max_leaf_nodes=10, min_impurity_split=0.2, total=   1.9s\n",
      "[CV] ccp_alpha=100, max_leaf_nodes=10, min_impurity_split=0.2 ........\n"
     ]
    },
    {
     "name": "stderr",
     "output_type": "stream",
     "text": [
      "/Users/ZachV/opt/anaconda3/lib/python3.7/site-packages/sklearn/tree/_classes.py:310: FutureWarning: The min_impurity_split parameter is deprecated. Its default value has changed from 1e-7 to 0 in version 0.23, and it will be removed in 0.25. Use the min_impurity_decrease parameter instead.\n",
      "  FutureWarning)\n"
     ]
    },
    {
     "name": "stdout",
     "output_type": "stream",
     "text": [
      "[CV]  ccp_alpha=100, max_leaf_nodes=10, min_impurity_split=0.2, total=   1.9s\n",
      "[CV] ccp_alpha=100, max_leaf_nodes=10, min_impurity_split=0.2 ........\n"
     ]
    },
    {
     "name": "stderr",
     "output_type": "stream",
     "text": [
      "/Users/ZachV/opt/anaconda3/lib/python3.7/site-packages/sklearn/tree/_classes.py:310: FutureWarning: The min_impurity_split parameter is deprecated. Its default value has changed from 1e-7 to 0 in version 0.23, and it will be removed in 0.25. Use the min_impurity_decrease parameter instead.\n",
      "  FutureWarning)\n"
     ]
    },
    {
     "name": "stdout",
     "output_type": "stream",
     "text": [
      "[CV]  ccp_alpha=100, max_leaf_nodes=10, min_impurity_split=0.2, total=   1.9s\n",
      "[CV] ccp_alpha=100, max_leaf_nodes=10, min_impurity_split=0.2 ........\n"
     ]
    },
    {
     "name": "stderr",
     "output_type": "stream",
     "text": [
      "/Users/ZachV/opt/anaconda3/lib/python3.7/site-packages/sklearn/tree/_classes.py:310: FutureWarning: The min_impurity_split parameter is deprecated. Its default value has changed from 1e-7 to 0 in version 0.23, and it will be removed in 0.25. Use the min_impurity_decrease parameter instead.\n",
      "  FutureWarning)\n"
     ]
    },
    {
     "name": "stdout",
     "output_type": "stream",
     "text": [
      "[CV]  ccp_alpha=100, max_leaf_nodes=10, min_impurity_split=0.2, total=   1.9s\n",
      "[CV] ccp_alpha=100, max_leaf_nodes=10, min_impurity_split=0.3 ........\n"
     ]
    },
    {
     "name": "stderr",
     "output_type": "stream",
     "text": [
      "/Users/ZachV/opt/anaconda3/lib/python3.7/site-packages/sklearn/tree/_classes.py:310: FutureWarning: The min_impurity_split parameter is deprecated. Its default value has changed from 1e-7 to 0 in version 0.23, and it will be removed in 0.25. Use the min_impurity_decrease parameter instead.\n",
      "  FutureWarning)\n"
     ]
    },
    {
     "name": "stdout",
     "output_type": "stream",
     "text": [
      "[CV]  ccp_alpha=100, max_leaf_nodes=10, min_impurity_split=0.3, total=   1.6s\n",
      "[CV] ccp_alpha=100, max_leaf_nodes=10, min_impurity_split=0.3 ........\n"
     ]
    },
    {
     "name": "stderr",
     "output_type": "stream",
     "text": [
      "/Users/ZachV/opt/anaconda3/lib/python3.7/site-packages/sklearn/tree/_classes.py:310: FutureWarning: The min_impurity_split parameter is deprecated. Its default value has changed from 1e-7 to 0 in version 0.23, and it will be removed in 0.25. Use the min_impurity_decrease parameter instead.\n",
      "  FutureWarning)\n"
     ]
    },
    {
     "name": "stdout",
     "output_type": "stream",
     "text": [
      "[CV]  ccp_alpha=100, max_leaf_nodes=10, min_impurity_split=0.3, total=   1.6s\n",
      "[CV] ccp_alpha=100, max_leaf_nodes=10, min_impurity_split=0.3 ........\n"
     ]
    },
    {
     "name": "stderr",
     "output_type": "stream",
     "text": [
      "/Users/ZachV/opt/anaconda3/lib/python3.7/site-packages/sklearn/tree/_classes.py:310: FutureWarning: The min_impurity_split parameter is deprecated. Its default value has changed from 1e-7 to 0 in version 0.23, and it will be removed in 0.25. Use the min_impurity_decrease parameter instead.\n",
      "  FutureWarning)\n"
     ]
    },
    {
     "name": "stdout",
     "output_type": "stream",
     "text": [
      "[CV]  ccp_alpha=100, max_leaf_nodes=10, min_impurity_split=0.3, total=   1.6s\n",
      "[CV] ccp_alpha=100, max_leaf_nodes=10, min_impurity_split=0.3 ........\n"
     ]
    },
    {
     "name": "stderr",
     "output_type": "stream",
     "text": [
      "/Users/ZachV/opt/anaconda3/lib/python3.7/site-packages/sklearn/tree/_classes.py:310: FutureWarning: The min_impurity_split parameter is deprecated. Its default value has changed from 1e-7 to 0 in version 0.23, and it will be removed in 0.25. Use the min_impurity_decrease parameter instead.\n",
      "  FutureWarning)\n"
     ]
    },
    {
     "name": "stdout",
     "output_type": "stream",
     "text": [
      "[CV]  ccp_alpha=100, max_leaf_nodes=10, min_impurity_split=0.3, total=   1.6s\n",
      "[CV] ccp_alpha=100, max_leaf_nodes=10, min_impurity_split=0.3 ........\n"
     ]
    },
    {
     "name": "stderr",
     "output_type": "stream",
     "text": [
      "/Users/ZachV/opt/anaconda3/lib/python3.7/site-packages/sklearn/tree/_classes.py:310: FutureWarning: The min_impurity_split parameter is deprecated. Its default value has changed from 1e-7 to 0 in version 0.23, and it will be removed in 0.25. Use the min_impurity_decrease parameter instead.\n",
      "  FutureWarning)\n"
     ]
    },
    {
     "name": "stdout",
     "output_type": "stream",
     "text": [
      "[CV]  ccp_alpha=100, max_leaf_nodes=10, min_impurity_split=0.3, total=   1.6s\n",
      "[CV] ccp_alpha=100, max_leaf_nodes=10, min_impurity_split=0.4 ........\n"
     ]
    },
    {
     "name": "stderr",
     "output_type": "stream",
     "text": [
      "/Users/ZachV/opt/anaconda3/lib/python3.7/site-packages/sklearn/tree/_classes.py:310: FutureWarning: The min_impurity_split parameter is deprecated. Its default value has changed from 1e-7 to 0 in version 0.23, and it will be removed in 0.25. Use the min_impurity_decrease parameter instead.\n",
      "  FutureWarning)\n"
     ]
    },
    {
     "name": "stdout",
     "output_type": "stream",
     "text": [
      "[CV]  ccp_alpha=100, max_leaf_nodes=10, min_impurity_split=0.4, total=   1.1s\n",
      "[CV] ccp_alpha=100, max_leaf_nodes=10, min_impurity_split=0.4 ........\n"
     ]
    },
    {
     "name": "stderr",
     "output_type": "stream",
     "text": [
      "/Users/ZachV/opt/anaconda3/lib/python3.7/site-packages/sklearn/tree/_classes.py:310: FutureWarning: The min_impurity_split parameter is deprecated. Its default value has changed from 1e-7 to 0 in version 0.23, and it will be removed in 0.25. Use the min_impurity_decrease parameter instead.\n",
      "  FutureWarning)\n"
     ]
    },
    {
     "name": "stdout",
     "output_type": "stream",
     "text": [
      "[CV]  ccp_alpha=100, max_leaf_nodes=10, min_impurity_split=0.4, total=   1.1s\n",
      "[CV] ccp_alpha=100, max_leaf_nodes=10, min_impurity_split=0.4 ........\n"
     ]
    },
    {
     "name": "stderr",
     "output_type": "stream",
     "text": [
      "/Users/ZachV/opt/anaconda3/lib/python3.7/site-packages/sklearn/tree/_classes.py:310: FutureWarning: The min_impurity_split parameter is deprecated. Its default value has changed from 1e-7 to 0 in version 0.23, and it will be removed in 0.25. Use the min_impurity_decrease parameter instead.\n",
      "  FutureWarning)\n"
     ]
    },
    {
     "name": "stdout",
     "output_type": "stream",
     "text": [
      "[CV]  ccp_alpha=100, max_leaf_nodes=10, min_impurity_split=0.4, total=   1.1s\n",
      "[CV] ccp_alpha=100, max_leaf_nodes=10, min_impurity_split=0.4 ........\n"
     ]
    },
    {
     "name": "stderr",
     "output_type": "stream",
     "text": [
      "/Users/ZachV/opt/anaconda3/lib/python3.7/site-packages/sklearn/tree/_classes.py:310: FutureWarning: The min_impurity_split parameter is deprecated. Its default value has changed from 1e-7 to 0 in version 0.23, and it will be removed in 0.25. Use the min_impurity_decrease parameter instead.\n",
      "  FutureWarning)\n"
     ]
    },
    {
     "name": "stdout",
     "output_type": "stream",
     "text": [
      "[CV]  ccp_alpha=100, max_leaf_nodes=10, min_impurity_split=0.4, total=   1.1s\n",
      "[CV] ccp_alpha=100, max_leaf_nodes=10, min_impurity_split=0.4 ........\n"
     ]
    },
    {
     "name": "stderr",
     "output_type": "stream",
     "text": [
      "/Users/ZachV/opt/anaconda3/lib/python3.7/site-packages/sklearn/tree/_classes.py:310: FutureWarning: The min_impurity_split parameter is deprecated. Its default value has changed from 1e-7 to 0 in version 0.23, and it will be removed in 0.25. Use the min_impurity_decrease parameter instead.\n",
      "  FutureWarning)\n"
     ]
    },
    {
     "name": "stdout",
     "output_type": "stream",
     "text": [
      "[CV]  ccp_alpha=100, max_leaf_nodes=10, min_impurity_split=0.4, total=   1.1s\n",
      "[CV] ccp_alpha=100, max_leaf_nodes=10, min_impurity_split=0.5 ........\n"
     ]
    },
    {
     "name": "stderr",
     "output_type": "stream",
     "text": [
      "/Users/ZachV/opt/anaconda3/lib/python3.7/site-packages/sklearn/tree/_classes.py:310: FutureWarning: The min_impurity_split parameter is deprecated. Its default value has changed from 1e-7 to 0 in version 0.23, and it will be removed in 0.25. Use the min_impurity_decrease parameter instead.\n",
      "  FutureWarning)\n"
     ]
    },
    {
     "name": "stdout",
     "output_type": "stream",
     "text": [
      "[CV]  ccp_alpha=100, max_leaf_nodes=10, min_impurity_split=0.5, total=   1.4s\n",
      "[CV] ccp_alpha=100, max_leaf_nodes=10, min_impurity_split=0.5 ........\n"
     ]
    },
    {
     "name": "stderr",
     "output_type": "stream",
     "text": [
      "/Users/ZachV/opt/anaconda3/lib/python3.7/site-packages/sklearn/tree/_classes.py:310: FutureWarning: The min_impurity_split parameter is deprecated. Its default value has changed from 1e-7 to 0 in version 0.23, and it will be removed in 0.25. Use the min_impurity_decrease parameter instead.\n",
      "  FutureWarning)\n"
     ]
    },
    {
     "name": "stdout",
     "output_type": "stream",
     "text": [
      "[CV]  ccp_alpha=100, max_leaf_nodes=10, min_impurity_split=0.5, total=   1.4s\n",
      "[CV] ccp_alpha=100, max_leaf_nodes=10, min_impurity_split=0.5 ........\n"
     ]
    },
    {
     "name": "stderr",
     "output_type": "stream",
     "text": [
      "/Users/ZachV/opt/anaconda3/lib/python3.7/site-packages/sklearn/tree/_classes.py:310: FutureWarning: The min_impurity_split parameter is deprecated. Its default value has changed from 1e-7 to 0 in version 0.23, and it will be removed in 0.25. Use the min_impurity_decrease parameter instead.\n",
      "  FutureWarning)\n"
     ]
    },
    {
     "name": "stdout",
     "output_type": "stream",
     "text": [
      "[CV]  ccp_alpha=100, max_leaf_nodes=10, min_impurity_split=0.5, total=   1.4s\n",
      "[CV] ccp_alpha=100, max_leaf_nodes=10, min_impurity_split=0.5 ........\n"
     ]
    },
    {
     "name": "stderr",
     "output_type": "stream",
     "text": [
      "/Users/ZachV/opt/anaconda3/lib/python3.7/site-packages/sklearn/tree/_classes.py:310: FutureWarning: The min_impurity_split parameter is deprecated. Its default value has changed from 1e-7 to 0 in version 0.23, and it will be removed in 0.25. Use the min_impurity_decrease parameter instead.\n",
      "  FutureWarning)\n"
     ]
    },
    {
     "name": "stdout",
     "output_type": "stream",
     "text": [
      "[CV]  ccp_alpha=100, max_leaf_nodes=10, min_impurity_split=0.5, total=   1.2s\n",
      "[CV] ccp_alpha=100, max_leaf_nodes=10, min_impurity_split=0.5 ........\n"
     ]
    },
    {
     "name": "stderr",
     "output_type": "stream",
     "text": [
      "/Users/ZachV/opt/anaconda3/lib/python3.7/site-packages/sklearn/tree/_classes.py:310: FutureWarning: The min_impurity_split parameter is deprecated. Its default value has changed from 1e-7 to 0 in version 0.23, and it will be removed in 0.25. Use the min_impurity_decrease parameter instead.\n",
      "  FutureWarning)\n"
     ]
    },
    {
     "name": "stdout",
     "output_type": "stream",
     "text": [
      "[CV]  ccp_alpha=100, max_leaf_nodes=10, min_impurity_split=0.5, total=   1.1s\n",
      "[CV] ccp_alpha=100, max_leaf_nodes=15, min_impurity_split=0 ..........\n"
     ]
    },
    {
     "name": "stderr",
     "output_type": "stream",
     "text": [
      "/Users/ZachV/opt/anaconda3/lib/python3.7/site-packages/sklearn/tree/_classes.py:310: FutureWarning: The min_impurity_split parameter is deprecated. Its default value has changed from 1e-7 to 0 in version 0.23, and it will be removed in 0.25. Use the min_impurity_decrease parameter instead.\n",
      "  FutureWarning)\n"
     ]
    },
    {
     "name": "stdout",
     "output_type": "stream",
     "text": [
      "[CV]  ccp_alpha=100, max_leaf_nodes=15, min_impurity_split=0, total=   3.2s\n",
      "[CV] ccp_alpha=100, max_leaf_nodes=15, min_impurity_split=0 ..........\n"
     ]
    },
    {
     "name": "stderr",
     "output_type": "stream",
     "text": [
      "/Users/ZachV/opt/anaconda3/lib/python3.7/site-packages/sklearn/tree/_classes.py:310: FutureWarning: The min_impurity_split parameter is deprecated. Its default value has changed from 1e-7 to 0 in version 0.23, and it will be removed in 0.25. Use the min_impurity_decrease parameter instead.\n",
      "  FutureWarning)\n"
     ]
    },
    {
     "name": "stdout",
     "output_type": "stream",
     "text": [
      "[CV]  ccp_alpha=100, max_leaf_nodes=15, min_impurity_split=0, total=   3.2s\n",
      "[CV] ccp_alpha=100, max_leaf_nodes=15, min_impurity_split=0 ..........\n"
     ]
    },
    {
     "name": "stderr",
     "output_type": "stream",
     "text": [
      "/Users/ZachV/opt/anaconda3/lib/python3.7/site-packages/sklearn/tree/_classes.py:310: FutureWarning: The min_impurity_split parameter is deprecated. Its default value has changed from 1e-7 to 0 in version 0.23, and it will be removed in 0.25. Use the min_impurity_decrease parameter instead.\n",
      "  FutureWarning)\n"
     ]
    },
    {
     "name": "stdout",
     "output_type": "stream",
     "text": [
      "[CV]  ccp_alpha=100, max_leaf_nodes=15, min_impurity_split=0, total=   3.2s\n",
      "[CV] ccp_alpha=100, max_leaf_nodes=15, min_impurity_split=0 ..........\n"
     ]
    },
    {
     "name": "stderr",
     "output_type": "stream",
     "text": [
      "/Users/ZachV/opt/anaconda3/lib/python3.7/site-packages/sklearn/tree/_classes.py:310: FutureWarning: The min_impurity_split parameter is deprecated. Its default value has changed from 1e-7 to 0 in version 0.23, and it will be removed in 0.25. Use the min_impurity_decrease parameter instead.\n",
      "  FutureWarning)\n"
     ]
    },
    {
     "name": "stdout",
     "output_type": "stream",
     "text": [
      "[CV]  ccp_alpha=100, max_leaf_nodes=15, min_impurity_split=0, total=   3.2s\n",
      "[CV] ccp_alpha=100, max_leaf_nodes=15, min_impurity_split=0 ..........\n"
     ]
    },
    {
     "name": "stderr",
     "output_type": "stream",
     "text": [
      "/Users/ZachV/opt/anaconda3/lib/python3.7/site-packages/sklearn/tree/_classes.py:310: FutureWarning: The min_impurity_split parameter is deprecated. Its default value has changed from 1e-7 to 0 in version 0.23, and it will be removed in 0.25. Use the min_impurity_decrease parameter instead.\n",
      "  FutureWarning)\n"
     ]
    },
    {
     "name": "stdout",
     "output_type": "stream",
     "text": [
      "[CV]  ccp_alpha=100, max_leaf_nodes=15, min_impurity_split=0, total=   3.7s\n",
      "[CV] ccp_alpha=100, max_leaf_nodes=15, min_impurity_split=0.1 ........\n"
     ]
    },
    {
     "name": "stderr",
     "output_type": "stream",
     "text": [
      "/Users/ZachV/opt/anaconda3/lib/python3.7/site-packages/sklearn/tree/_classes.py:310: FutureWarning: The min_impurity_split parameter is deprecated. Its default value has changed from 1e-7 to 0 in version 0.23, and it will be removed in 0.25. Use the min_impurity_decrease parameter instead.\n",
      "  FutureWarning)\n"
     ]
    },
    {
     "name": "stdout",
     "output_type": "stream",
     "text": [
      "[CV]  ccp_alpha=100, max_leaf_nodes=15, min_impurity_split=0.1, total=   2.4s\n",
      "[CV] ccp_alpha=100, max_leaf_nodes=15, min_impurity_split=0.1 ........\n"
     ]
    },
    {
     "name": "stderr",
     "output_type": "stream",
     "text": [
      "/Users/ZachV/opt/anaconda3/lib/python3.7/site-packages/sklearn/tree/_classes.py:310: FutureWarning: The min_impurity_split parameter is deprecated. Its default value has changed from 1e-7 to 0 in version 0.23, and it will be removed in 0.25. Use the min_impurity_decrease parameter instead.\n",
      "  FutureWarning)\n"
     ]
    },
    {
     "name": "stdout",
     "output_type": "stream",
     "text": [
      "[CV]  ccp_alpha=100, max_leaf_nodes=15, min_impurity_split=0.1, total=   2.3s\n",
      "[CV] ccp_alpha=100, max_leaf_nodes=15, min_impurity_split=0.1 ........\n"
     ]
    },
    {
     "name": "stderr",
     "output_type": "stream",
     "text": [
      "/Users/ZachV/opt/anaconda3/lib/python3.7/site-packages/sklearn/tree/_classes.py:310: FutureWarning: The min_impurity_split parameter is deprecated. Its default value has changed from 1e-7 to 0 in version 0.23, and it will be removed in 0.25. Use the min_impurity_decrease parameter instead.\n",
      "  FutureWarning)\n"
     ]
    },
    {
     "name": "stdout",
     "output_type": "stream",
     "text": [
      "[CV]  ccp_alpha=100, max_leaf_nodes=15, min_impurity_split=0.1, total=   2.3s\n",
      "[CV] ccp_alpha=100, max_leaf_nodes=15, min_impurity_split=0.1 ........\n"
     ]
    },
    {
     "name": "stderr",
     "output_type": "stream",
     "text": [
      "/Users/ZachV/opt/anaconda3/lib/python3.7/site-packages/sklearn/tree/_classes.py:310: FutureWarning: The min_impurity_split parameter is deprecated. Its default value has changed from 1e-7 to 0 in version 0.23, and it will be removed in 0.25. Use the min_impurity_decrease parameter instead.\n",
      "  FutureWarning)\n"
     ]
    },
    {
     "name": "stdout",
     "output_type": "stream",
     "text": [
      "[CV]  ccp_alpha=100, max_leaf_nodes=15, min_impurity_split=0.1, total=   3.3s\n",
      "[CV] ccp_alpha=100, max_leaf_nodes=15, min_impurity_split=0.1 ........\n"
     ]
    },
    {
     "name": "stderr",
     "output_type": "stream",
     "text": [
      "/Users/ZachV/opt/anaconda3/lib/python3.7/site-packages/sklearn/tree/_classes.py:310: FutureWarning: The min_impurity_split parameter is deprecated. Its default value has changed from 1e-7 to 0 in version 0.23, and it will be removed in 0.25. Use the min_impurity_decrease parameter instead.\n",
      "  FutureWarning)\n"
     ]
    },
    {
     "name": "stdout",
     "output_type": "stream",
     "text": [
      "[CV]  ccp_alpha=100, max_leaf_nodes=15, min_impurity_split=0.1, total=   3.0s\n",
      "[CV] ccp_alpha=100, max_leaf_nodes=15, min_impurity_split=0.2 ........\n"
     ]
    },
    {
     "name": "stderr",
     "output_type": "stream",
     "text": [
      "/Users/ZachV/opt/anaconda3/lib/python3.7/site-packages/sklearn/tree/_classes.py:310: FutureWarning: The min_impurity_split parameter is deprecated. Its default value has changed from 1e-7 to 0 in version 0.23, and it will be removed in 0.25. Use the min_impurity_decrease parameter instead.\n",
      "  FutureWarning)\n"
     ]
    },
    {
     "name": "stdout",
     "output_type": "stream",
     "text": [
      "[CV]  ccp_alpha=100, max_leaf_nodes=15, min_impurity_split=0.2, total=   1.9s\n",
      "[CV] ccp_alpha=100, max_leaf_nodes=15, min_impurity_split=0.2 ........\n"
     ]
    },
    {
     "name": "stderr",
     "output_type": "stream",
     "text": [
      "/Users/ZachV/opt/anaconda3/lib/python3.7/site-packages/sklearn/tree/_classes.py:310: FutureWarning: The min_impurity_split parameter is deprecated. Its default value has changed from 1e-7 to 0 in version 0.23, and it will be removed in 0.25. Use the min_impurity_decrease parameter instead.\n",
      "  FutureWarning)\n"
     ]
    },
    {
     "name": "stdout",
     "output_type": "stream",
     "text": [
      "[CV]  ccp_alpha=100, max_leaf_nodes=15, min_impurity_split=0.2, total=   1.9s\n",
      "[CV] ccp_alpha=100, max_leaf_nodes=15, min_impurity_split=0.2 ........\n"
     ]
    },
    {
     "name": "stderr",
     "output_type": "stream",
     "text": [
      "/Users/ZachV/opt/anaconda3/lib/python3.7/site-packages/sklearn/tree/_classes.py:310: FutureWarning: The min_impurity_split parameter is deprecated. Its default value has changed from 1e-7 to 0 in version 0.23, and it will be removed in 0.25. Use the min_impurity_decrease parameter instead.\n",
      "  FutureWarning)\n"
     ]
    },
    {
     "name": "stdout",
     "output_type": "stream",
     "text": [
      "[CV]  ccp_alpha=100, max_leaf_nodes=15, min_impurity_split=0.2, total=   1.9s\n",
      "[CV] ccp_alpha=100, max_leaf_nodes=15, min_impurity_split=0.2 ........\n"
     ]
    },
    {
     "name": "stderr",
     "output_type": "stream",
     "text": [
      "/Users/ZachV/opt/anaconda3/lib/python3.7/site-packages/sklearn/tree/_classes.py:310: FutureWarning: The min_impurity_split parameter is deprecated. Its default value has changed from 1e-7 to 0 in version 0.23, and it will be removed in 0.25. Use the min_impurity_decrease parameter instead.\n",
      "  FutureWarning)\n"
     ]
    },
    {
     "name": "stdout",
     "output_type": "stream",
     "text": [
      "[CV]  ccp_alpha=100, max_leaf_nodes=15, min_impurity_split=0.2, total=   1.9s\n",
      "[CV] ccp_alpha=100, max_leaf_nodes=15, min_impurity_split=0.2 ........\n"
     ]
    },
    {
     "name": "stderr",
     "output_type": "stream",
     "text": [
      "/Users/ZachV/opt/anaconda3/lib/python3.7/site-packages/sklearn/tree/_classes.py:310: FutureWarning: The min_impurity_split parameter is deprecated. Its default value has changed from 1e-7 to 0 in version 0.23, and it will be removed in 0.25. Use the min_impurity_decrease parameter instead.\n",
      "  FutureWarning)\n"
     ]
    },
    {
     "name": "stdout",
     "output_type": "stream",
     "text": [
      "[CV]  ccp_alpha=100, max_leaf_nodes=15, min_impurity_split=0.2, total=   2.0s\n",
      "[CV] ccp_alpha=100, max_leaf_nodes=15, min_impurity_split=0.3 ........\n"
     ]
    },
    {
     "name": "stderr",
     "output_type": "stream",
     "text": [
      "/Users/ZachV/opt/anaconda3/lib/python3.7/site-packages/sklearn/tree/_classes.py:310: FutureWarning: The min_impurity_split parameter is deprecated. Its default value has changed from 1e-7 to 0 in version 0.23, and it will be removed in 0.25. Use the min_impurity_decrease parameter instead.\n",
      "  FutureWarning)\n"
     ]
    },
    {
     "name": "stdout",
     "output_type": "stream",
     "text": [
      "[CV]  ccp_alpha=100, max_leaf_nodes=15, min_impurity_split=0.3, total=   1.6s\n",
      "[CV] ccp_alpha=100, max_leaf_nodes=15, min_impurity_split=0.3 ........\n"
     ]
    },
    {
     "name": "stderr",
     "output_type": "stream",
     "text": [
      "/Users/ZachV/opt/anaconda3/lib/python3.7/site-packages/sklearn/tree/_classes.py:310: FutureWarning: The min_impurity_split parameter is deprecated. Its default value has changed from 1e-7 to 0 in version 0.23, and it will be removed in 0.25. Use the min_impurity_decrease parameter instead.\n",
      "  FutureWarning)\n"
     ]
    },
    {
     "name": "stdout",
     "output_type": "stream",
     "text": [
      "[CV]  ccp_alpha=100, max_leaf_nodes=15, min_impurity_split=0.3, total=   1.6s\n",
      "[CV] ccp_alpha=100, max_leaf_nodes=15, min_impurity_split=0.3 ........\n"
     ]
    },
    {
     "name": "stderr",
     "output_type": "stream",
     "text": [
      "/Users/ZachV/opt/anaconda3/lib/python3.7/site-packages/sklearn/tree/_classes.py:310: FutureWarning: The min_impurity_split parameter is deprecated. Its default value has changed from 1e-7 to 0 in version 0.23, and it will be removed in 0.25. Use the min_impurity_decrease parameter instead.\n",
      "  FutureWarning)\n"
     ]
    },
    {
     "name": "stdout",
     "output_type": "stream",
     "text": [
      "[CV]  ccp_alpha=100, max_leaf_nodes=15, min_impurity_split=0.3, total=   1.7s\n",
      "[CV] ccp_alpha=100, max_leaf_nodes=15, min_impurity_split=0.3 ........\n"
     ]
    },
    {
     "name": "stderr",
     "output_type": "stream",
     "text": [
      "/Users/ZachV/opt/anaconda3/lib/python3.7/site-packages/sklearn/tree/_classes.py:310: FutureWarning: The min_impurity_split parameter is deprecated. Its default value has changed from 1e-7 to 0 in version 0.23, and it will be removed in 0.25. Use the min_impurity_decrease parameter instead.\n",
      "  FutureWarning)\n"
     ]
    },
    {
     "name": "stdout",
     "output_type": "stream",
     "text": [
      "[CV]  ccp_alpha=100, max_leaf_nodes=15, min_impurity_split=0.3, total=   1.7s\n",
      "[CV] ccp_alpha=100, max_leaf_nodes=15, min_impurity_split=0.3 ........\n"
     ]
    },
    {
     "name": "stderr",
     "output_type": "stream",
     "text": [
      "/Users/ZachV/opt/anaconda3/lib/python3.7/site-packages/sklearn/tree/_classes.py:310: FutureWarning: The min_impurity_split parameter is deprecated. Its default value has changed from 1e-7 to 0 in version 0.23, and it will be removed in 0.25. Use the min_impurity_decrease parameter instead.\n",
      "  FutureWarning)\n"
     ]
    },
    {
     "name": "stdout",
     "output_type": "stream",
     "text": [
      "[CV]  ccp_alpha=100, max_leaf_nodes=15, min_impurity_split=0.3, total=   1.7s\n",
      "[CV] ccp_alpha=100, max_leaf_nodes=15, min_impurity_split=0.4 ........\n"
     ]
    },
    {
     "name": "stderr",
     "output_type": "stream",
     "text": [
      "/Users/ZachV/opt/anaconda3/lib/python3.7/site-packages/sklearn/tree/_classes.py:310: FutureWarning: The min_impurity_split parameter is deprecated. Its default value has changed from 1e-7 to 0 in version 0.23, and it will be removed in 0.25. Use the min_impurity_decrease parameter instead.\n",
      "  FutureWarning)\n"
     ]
    },
    {
     "name": "stdout",
     "output_type": "stream",
     "text": [
      "[CV]  ccp_alpha=100, max_leaf_nodes=15, min_impurity_split=0.4, total=   1.1s\n",
      "[CV] ccp_alpha=100, max_leaf_nodes=15, min_impurity_split=0.4 ........\n"
     ]
    },
    {
     "name": "stderr",
     "output_type": "stream",
     "text": [
      "/Users/ZachV/opt/anaconda3/lib/python3.7/site-packages/sklearn/tree/_classes.py:310: FutureWarning: The min_impurity_split parameter is deprecated. Its default value has changed from 1e-7 to 0 in version 0.23, and it will be removed in 0.25. Use the min_impurity_decrease parameter instead.\n",
      "  FutureWarning)\n"
     ]
    },
    {
     "name": "stdout",
     "output_type": "stream",
     "text": [
      "[CV]  ccp_alpha=100, max_leaf_nodes=15, min_impurity_split=0.4, total=   1.1s\n",
      "[CV] ccp_alpha=100, max_leaf_nodes=15, min_impurity_split=0.4 ........\n"
     ]
    },
    {
     "name": "stderr",
     "output_type": "stream",
     "text": [
      "/Users/ZachV/opt/anaconda3/lib/python3.7/site-packages/sklearn/tree/_classes.py:310: FutureWarning: The min_impurity_split parameter is deprecated. Its default value has changed from 1e-7 to 0 in version 0.23, and it will be removed in 0.25. Use the min_impurity_decrease parameter instead.\n",
      "  FutureWarning)\n"
     ]
    },
    {
     "name": "stdout",
     "output_type": "stream",
     "text": [
      "[CV]  ccp_alpha=100, max_leaf_nodes=15, min_impurity_split=0.4, total=   1.1s\n",
      "[CV] ccp_alpha=100, max_leaf_nodes=15, min_impurity_split=0.4 ........\n"
     ]
    },
    {
     "name": "stderr",
     "output_type": "stream",
     "text": [
      "/Users/ZachV/opt/anaconda3/lib/python3.7/site-packages/sklearn/tree/_classes.py:310: FutureWarning: The min_impurity_split parameter is deprecated. Its default value has changed from 1e-7 to 0 in version 0.23, and it will be removed in 0.25. Use the min_impurity_decrease parameter instead.\n",
      "  FutureWarning)\n"
     ]
    },
    {
     "name": "stdout",
     "output_type": "stream",
     "text": [
      "[CV]  ccp_alpha=100, max_leaf_nodes=15, min_impurity_split=0.4, total=   1.1s\n",
      "[CV] ccp_alpha=100, max_leaf_nodes=15, min_impurity_split=0.4 ........\n"
     ]
    },
    {
     "name": "stderr",
     "output_type": "stream",
     "text": [
      "/Users/ZachV/opt/anaconda3/lib/python3.7/site-packages/sklearn/tree/_classes.py:310: FutureWarning: The min_impurity_split parameter is deprecated. Its default value has changed from 1e-7 to 0 in version 0.23, and it will be removed in 0.25. Use the min_impurity_decrease parameter instead.\n",
      "  FutureWarning)\n"
     ]
    },
    {
     "name": "stdout",
     "output_type": "stream",
     "text": [
      "[CV]  ccp_alpha=100, max_leaf_nodes=15, min_impurity_split=0.4, total=   1.3s\n",
      "[CV] ccp_alpha=100, max_leaf_nodes=15, min_impurity_split=0.5 ........\n"
     ]
    },
    {
     "name": "stderr",
     "output_type": "stream",
     "text": [
      "/Users/ZachV/opt/anaconda3/lib/python3.7/site-packages/sklearn/tree/_classes.py:310: FutureWarning: The min_impurity_split parameter is deprecated. Its default value has changed from 1e-7 to 0 in version 0.23, and it will be removed in 0.25. Use the min_impurity_decrease parameter instead.\n",
      "  FutureWarning)\n"
     ]
    },
    {
     "name": "stdout",
     "output_type": "stream",
     "text": [
      "[CV]  ccp_alpha=100, max_leaf_nodes=15, min_impurity_split=0.5, total=   1.4s\n",
      "[CV] ccp_alpha=100, max_leaf_nodes=15, min_impurity_split=0.5 ........\n"
     ]
    },
    {
     "name": "stderr",
     "output_type": "stream",
     "text": [
      "/Users/ZachV/opt/anaconda3/lib/python3.7/site-packages/sklearn/tree/_classes.py:310: FutureWarning: The min_impurity_split parameter is deprecated. Its default value has changed from 1e-7 to 0 in version 0.23, and it will be removed in 0.25. Use the min_impurity_decrease parameter instead.\n",
      "  FutureWarning)\n"
     ]
    },
    {
     "name": "stdout",
     "output_type": "stream",
     "text": [
      "[CV]  ccp_alpha=100, max_leaf_nodes=15, min_impurity_split=0.5, total=   1.4s\n",
      "[CV] ccp_alpha=100, max_leaf_nodes=15, min_impurity_split=0.5 ........\n"
     ]
    },
    {
     "name": "stderr",
     "output_type": "stream",
     "text": [
      "/Users/ZachV/opt/anaconda3/lib/python3.7/site-packages/sklearn/tree/_classes.py:310: FutureWarning: The min_impurity_split parameter is deprecated. Its default value has changed from 1e-7 to 0 in version 0.23, and it will be removed in 0.25. Use the min_impurity_decrease parameter instead.\n",
      "  FutureWarning)\n"
     ]
    },
    {
     "name": "stdout",
     "output_type": "stream",
     "text": [
      "[CV]  ccp_alpha=100, max_leaf_nodes=15, min_impurity_split=0.5, total=   1.4s\n",
      "[CV] ccp_alpha=100, max_leaf_nodes=15, min_impurity_split=0.5 ........\n"
     ]
    },
    {
     "name": "stderr",
     "output_type": "stream",
     "text": [
      "/Users/ZachV/opt/anaconda3/lib/python3.7/site-packages/sklearn/tree/_classes.py:310: FutureWarning: The min_impurity_split parameter is deprecated. Its default value has changed from 1e-7 to 0 in version 0.23, and it will be removed in 0.25. Use the min_impurity_decrease parameter instead.\n",
      "  FutureWarning)\n"
     ]
    },
    {
     "name": "stdout",
     "output_type": "stream",
     "text": [
      "[CV]  ccp_alpha=100, max_leaf_nodes=15, min_impurity_split=0.5, total=   1.1s\n",
      "[CV] ccp_alpha=100, max_leaf_nodes=15, min_impurity_split=0.5 ........\n"
     ]
    },
    {
     "name": "stderr",
     "output_type": "stream",
     "text": [
      "/Users/ZachV/opt/anaconda3/lib/python3.7/site-packages/sklearn/tree/_classes.py:310: FutureWarning: The min_impurity_split parameter is deprecated. Its default value has changed from 1e-7 to 0 in version 0.23, and it will be removed in 0.25. Use the min_impurity_decrease parameter instead.\n",
      "  FutureWarning)\n"
     ]
    },
    {
     "name": "stdout",
     "output_type": "stream",
     "text": [
      "[CV]  ccp_alpha=100, max_leaf_nodes=15, min_impurity_split=0.5, total=   1.1s\n",
      "[CV] ccp_alpha=100, max_leaf_nodes=25, min_impurity_split=0 ..........\n"
     ]
    },
    {
     "name": "stderr",
     "output_type": "stream",
     "text": [
      "/Users/ZachV/opt/anaconda3/lib/python3.7/site-packages/sklearn/tree/_classes.py:310: FutureWarning: The min_impurity_split parameter is deprecated. Its default value has changed from 1e-7 to 0 in version 0.23, and it will be removed in 0.25. Use the min_impurity_decrease parameter instead.\n",
      "  FutureWarning)\n"
     ]
    },
    {
     "name": "stdout",
     "output_type": "stream",
     "text": [
      "[CV]  ccp_alpha=100, max_leaf_nodes=25, min_impurity_split=0, total=   3.4s\n",
      "[CV] ccp_alpha=100, max_leaf_nodes=25, min_impurity_split=0 ..........\n"
     ]
    },
    {
     "name": "stderr",
     "output_type": "stream",
     "text": [
      "/Users/ZachV/opt/anaconda3/lib/python3.7/site-packages/sklearn/tree/_classes.py:310: FutureWarning: The min_impurity_split parameter is deprecated. Its default value has changed from 1e-7 to 0 in version 0.23, and it will be removed in 0.25. Use the min_impurity_decrease parameter instead.\n",
      "  FutureWarning)\n"
     ]
    },
    {
     "name": "stdout",
     "output_type": "stream",
     "text": [
      "[CV]  ccp_alpha=100, max_leaf_nodes=25, min_impurity_split=0, total=   3.2s\n",
      "[CV] ccp_alpha=100, max_leaf_nodes=25, min_impurity_split=0 ..........\n"
     ]
    },
    {
     "name": "stderr",
     "output_type": "stream",
     "text": [
      "/Users/ZachV/opt/anaconda3/lib/python3.7/site-packages/sklearn/tree/_classes.py:310: FutureWarning: The min_impurity_split parameter is deprecated. Its default value has changed from 1e-7 to 0 in version 0.23, and it will be removed in 0.25. Use the min_impurity_decrease parameter instead.\n",
      "  FutureWarning)\n"
     ]
    },
    {
     "name": "stdout",
     "output_type": "stream",
     "text": [
      "[CV]  ccp_alpha=100, max_leaf_nodes=25, min_impurity_split=0, total=   3.4s\n",
      "[CV] ccp_alpha=100, max_leaf_nodes=25, min_impurity_split=0 ..........\n"
     ]
    },
    {
     "name": "stderr",
     "output_type": "stream",
     "text": [
      "/Users/ZachV/opt/anaconda3/lib/python3.7/site-packages/sklearn/tree/_classes.py:310: FutureWarning: The min_impurity_split parameter is deprecated. Its default value has changed from 1e-7 to 0 in version 0.23, and it will be removed in 0.25. Use the min_impurity_decrease parameter instead.\n",
      "  FutureWarning)\n"
     ]
    },
    {
     "name": "stdout",
     "output_type": "stream",
     "text": [
      "[CV]  ccp_alpha=100, max_leaf_nodes=25, min_impurity_split=0, total=   3.5s\n",
      "[CV] ccp_alpha=100, max_leaf_nodes=25, min_impurity_split=0 ..........\n"
     ]
    },
    {
     "name": "stderr",
     "output_type": "stream",
     "text": [
      "/Users/ZachV/opt/anaconda3/lib/python3.7/site-packages/sklearn/tree/_classes.py:310: FutureWarning: The min_impurity_split parameter is deprecated. Its default value has changed from 1e-7 to 0 in version 0.23, and it will be removed in 0.25. Use the min_impurity_decrease parameter instead.\n",
      "  FutureWarning)\n"
     ]
    },
    {
     "name": "stdout",
     "output_type": "stream",
     "text": [
      "[CV]  ccp_alpha=100, max_leaf_nodes=25, min_impurity_split=0, total=   3.6s\n",
      "[CV] ccp_alpha=100, max_leaf_nodes=25, min_impurity_split=0.1 ........\n"
     ]
    },
    {
     "name": "stderr",
     "output_type": "stream",
     "text": [
      "/Users/ZachV/opt/anaconda3/lib/python3.7/site-packages/sklearn/tree/_classes.py:310: FutureWarning: The min_impurity_split parameter is deprecated. Its default value has changed from 1e-7 to 0 in version 0.23, and it will be removed in 0.25. Use the min_impurity_decrease parameter instead.\n",
      "  FutureWarning)\n"
     ]
    },
    {
     "name": "stdout",
     "output_type": "stream",
     "text": [
      "[CV]  ccp_alpha=100, max_leaf_nodes=25, min_impurity_split=0.1, total=   2.5s\n",
      "[CV] ccp_alpha=100, max_leaf_nodes=25, min_impurity_split=0.1 ........\n"
     ]
    },
    {
     "name": "stderr",
     "output_type": "stream",
     "text": [
      "/Users/ZachV/opt/anaconda3/lib/python3.7/site-packages/sklearn/tree/_classes.py:310: FutureWarning: The min_impurity_split parameter is deprecated. Its default value has changed from 1e-7 to 0 in version 0.23, and it will be removed in 0.25. Use the min_impurity_decrease parameter instead.\n",
      "  FutureWarning)\n"
     ]
    },
    {
     "name": "stdout",
     "output_type": "stream",
     "text": [
      "[CV]  ccp_alpha=100, max_leaf_nodes=25, min_impurity_split=0.1, total=   2.4s\n",
      "[CV] ccp_alpha=100, max_leaf_nodes=25, min_impurity_split=0.1 ........\n"
     ]
    },
    {
     "name": "stderr",
     "output_type": "stream",
     "text": [
      "/Users/ZachV/opt/anaconda3/lib/python3.7/site-packages/sklearn/tree/_classes.py:310: FutureWarning: The min_impurity_split parameter is deprecated. Its default value has changed from 1e-7 to 0 in version 0.23, and it will be removed in 0.25. Use the min_impurity_decrease parameter instead.\n",
      "  FutureWarning)\n"
     ]
    },
    {
     "name": "stdout",
     "output_type": "stream",
     "text": [
      "[CV]  ccp_alpha=100, max_leaf_nodes=25, min_impurity_split=0.1, total=   2.6s\n",
      "[CV] ccp_alpha=100, max_leaf_nodes=25, min_impurity_split=0.1 ........\n"
     ]
    },
    {
     "name": "stderr",
     "output_type": "stream",
     "text": [
      "/Users/ZachV/opt/anaconda3/lib/python3.7/site-packages/sklearn/tree/_classes.py:310: FutureWarning: The min_impurity_split parameter is deprecated. Its default value has changed from 1e-7 to 0 in version 0.23, and it will be removed in 0.25. Use the min_impurity_decrease parameter instead.\n",
      "  FutureWarning)\n"
     ]
    },
    {
     "name": "stdout",
     "output_type": "stream",
     "text": [
      "[CV]  ccp_alpha=100, max_leaf_nodes=25, min_impurity_split=0.1, total=   3.5s\n",
      "[CV] ccp_alpha=100, max_leaf_nodes=25, min_impurity_split=0.1 ........\n"
     ]
    },
    {
     "name": "stderr",
     "output_type": "stream",
     "text": [
      "/Users/ZachV/opt/anaconda3/lib/python3.7/site-packages/sklearn/tree/_classes.py:310: FutureWarning: The min_impurity_split parameter is deprecated. Its default value has changed from 1e-7 to 0 in version 0.23, and it will be removed in 0.25. Use the min_impurity_decrease parameter instead.\n",
      "  FutureWarning)\n"
     ]
    },
    {
     "name": "stdout",
     "output_type": "stream",
     "text": [
      "[CV]  ccp_alpha=100, max_leaf_nodes=25, min_impurity_split=0.1, total=   2.6s\n",
      "[CV] ccp_alpha=100, max_leaf_nodes=25, min_impurity_split=0.2 ........\n"
     ]
    },
    {
     "name": "stderr",
     "output_type": "stream",
     "text": [
      "/Users/ZachV/opt/anaconda3/lib/python3.7/site-packages/sklearn/tree/_classes.py:310: FutureWarning: The min_impurity_split parameter is deprecated. Its default value has changed from 1e-7 to 0 in version 0.23, and it will be removed in 0.25. Use the min_impurity_decrease parameter instead.\n",
      "  FutureWarning)\n"
     ]
    },
    {
     "name": "stdout",
     "output_type": "stream",
     "text": [
      "[CV]  ccp_alpha=100, max_leaf_nodes=25, min_impurity_split=0.2, total=   2.0s\n",
      "[CV] ccp_alpha=100, max_leaf_nodes=25, min_impurity_split=0.2 ........\n"
     ]
    },
    {
     "name": "stderr",
     "output_type": "stream",
     "text": [
      "/Users/ZachV/opt/anaconda3/lib/python3.7/site-packages/sklearn/tree/_classes.py:310: FutureWarning: The min_impurity_split parameter is deprecated. Its default value has changed from 1e-7 to 0 in version 0.23, and it will be removed in 0.25. Use the min_impurity_decrease parameter instead.\n",
      "  FutureWarning)\n"
     ]
    },
    {
     "name": "stdout",
     "output_type": "stream",
     "text": [
      "[CV]  ccp_alpha=100, max_leaf_nodes=25, min_impurity_split=0.2, total=   2.0s\n",
      "[CV] ccp_alpha=100, max_leaf_nodes=25, min_impurity_split=0.2 ........\n"
     ]
    },
    {
     "name": "stderr",
     "output_type": "stream",
     "text": [
      "/Users/ZachV/opt/anaconda3/lib/python3.7/site-packages/sklearn/tree/_classes.py:310: FutureWarning: The min_impurity_split parameter is deprecated. Its default value has changed from 1e-7 to 0 in version 0.23, and it will be removed in 0.25. Use the min_impurity_decrease parameter instead.\n",
      "  FutureWarning)\n"
     ]
    },
    {
     "name": "stdout",
     "output_type": "stream",
     "text": [
      "[CV]  ccp_alpha=100, max_leaf_nodes=25, min_impurity_split=0.2, total=   2.0s\n",
      "[CV] ccp_alpha=100, max_leaf_nodes=25, min_impurity_split=0.2 ........\n"
     ]
    },
    {
     "name": "stderr",
     "output_type": "stream",
     "text": [
      "/Users/ZachV/opt/anaconda3/lib/python3.7/site-packages/sklearn/tree/_classes.py:310: FutureWarning: The min_impurity_split parameter is deprecated. Its default value has changed from 1e-7 to 0 in version 0.23, and it will be removed in 0.25. Use the min_impurity_decrease parameter instead.\n",
      "  FutureWarning)\n"
     ]
    },
    {
     "name": "stdout",
     "output_type": "stream",
     "text": [
      "[CV]  ccp_alpha=100, max_leaf_nodes=25, min_impurity_split=0.2, total=   2.1s\n",
      "[CV] ccp_alpha=100, max_leaf_nodes=25, min_impurity_split=0.2 ........\n"
     ]
    },
    {
     "name": "stderr",
     "output_type": "stream",
     "text": [
      "/Users/ZachV/opt/anaconda3/lib/python3.7/site-packages/sklearn/tree/_classes.py:310: FutureWarning: The min_impurity_split parameter is deprecated. Its default value has changed from 1e-7 to 0 in version 0.23, and it will be removed in 0.25. Use the min_impurity_decrease parameter instead.\n",
      "  FutureWarning)\n"
     ]
    },
    {
     "name": "stdout",
     "output_type": "stream",
     "text": [
      "[CV]  ccp_alpha=100, max_leaf_nodes=25, min_impurity_split=0.2, total=   2.1s\n",
      "[CV] ccp_alpha=100, max_leaf_nodes=25, min_impurity_split=0.3 ........\n"
     ]
    },
    {
     "name": "stderr",
     "output_type": "stream",
     "text": [
      "/Users/ZachV/opt/anaconda3/lib/python3.7/site-packages/sklearn/tree/_classes.py:310: FutureWarning: The min_impurity_split parameter is deprecated. Its default value has changed from 1e-7 to 0 in version 0.23, and it will be removed in 0.25. Use the min_impurity_decrease parameter instead.\n",
      "  FutureWarning)\n"
     ]
    },
    {
     "name": "stdout",
     "output_type": "stream",
     "text": [
      "[CV]  ccp_alpha=100, max_leaf_nodes=25, min_impurity_split=0.3, total=   1.7s\n",
      "[CV] ccp_alpha=100, max_leaf_nodes=25, min_impurity_split=0.3 ........\n"
     ]
    },
    {
     "name": "stderr",
     "output_type": "stream",
     "text": [
      "/Users/ZachV/opt/anaconda3/lib/python3.7/site-packages/sklearn/tree/_classes.py:310: FutureWarning: The min_impurity_split parameter is deprecated. Its default value has changed from 1e-7 to 0 in version 0.23, and it will be removed in 0.25. Use the min_impurity_decrease parameter instead.\n",
      "  FutureWarning)\n"
     ]
    },
    {
     "name": "stdout",
     "output_type": "stream",
     "text": [
      "[CV]  ccp_alpha=100, max_leaf_nodes=25, min_impurity_split=0.3, total=   1.7s\n",
      "[CV] ccp_alpha=100, max_leaf_nodes=25, min_impurity_split=0.3 ........\n"
     ]
    },
    {
     "name": "stderr",
     "output_type": "stream",
     "text": [
      "/Users/ZachV/opt/anaconda3/lib/python3.7/site-packages/sklearn/tree/_classes.py:310: FutureWarning: The min_impurity_split parameter is deprecated. Its default value has changed from 1e-7 to 0 in version 0.23, and it will be removed in 0.25. Use the min_impurity_decrease parameter instead.\n",
      "  FutureWarning)\n"
     ]
    },
    {
     "name": "stdout",
     "output_type": "stream",
     "text": [
      "[CV]  ccp_alpha=100, max_leaf_nodes=25, min_impurity_split=0.3, total=   1.7s\n",
      "[CV] ccp_alpha=100, max_leaf_nodes=25, min_impurity_split=0.3 ........\n"
     ]
    },
    {
     "name": "stderr",
     "output_type": "stream",
     "text": [
      "/Users/ZachV/opt/anaconda3/lib/python3.7/site-packages/sklearn/tree/_classes.py:310: FutureWarning: The min_impurity_split parameter is deprecated. Its default value has changed from 1e-7 to 0 in version 0.23, and it will be removed in 0.25. Use the min_impurity_decrease parameter instead.\n",
      "  FutureWarning)\n"
     ]
    },
    {
     "name": "stdout",
     "output_type": "stream",
     "text": [
      "[CV]  ccp_alpha=100, max_leaf_nodes=25, min_impurity_split=0.3, total=   1.6s\n",
      "[CV] ccp_alpha=100, max_leaf_nodes=25, min_impurity_split=0.3 ........\n"
     ]
    },
    {
     "name": "stderr",
     "output_type": "stream",
     "text": [
      "/Users/ZachV/opt/anaconda3/lib/python3.7/site-packages/sklearn/tree/_classes.py:310: FutureWarning: The min_impurity_split parameter is deprecated. Its default value has changed from 1e-7 to 0 in version 0.23, and it will be removed in 0.25. Use the min_impurity_decrease parameter instead.\n",
      "  FutureWarning)\n"
     ]
    },
    {
     "name": "stdout",
     "output_type": "stream",
     "text": [
      "[CV]  ccp_alpha=100, max_leaf_nodes=25, min_impurity_split=0.3, total=   1.8s\n",
      "[CV] ccp_alpha=100, max_leaf_nodes=25, min_impurity_split=0.4 ........\n"
     ]
    },
    {
     "name": "stderr",
     "output_type": "stream",
     "text": [
      "/Users/ZachV/opt/anaconda3/lib/python3.7/site-packages/sklearn/tree/_classes.py:310: FutureWarning: The min_impurity_split parameter is deprecated. Its default value has changed from 1e-7 to 0 in version 0.23, and it will be removed in 0.25. Use the min_impurity_decrease parameter instead.\n",
      "  FutureWarning)\n"
     ]
    },
    {
     "name": "stdout",
     "output_type": "stream",
     "text": [
      "[CV]  ccp_alpha=100, max_leaf_nodes=25, min_impurity_split=0.4, total=   1.2s\n",
      "[CV] ccp_alpha=100, max_leaf_nodes=25, min_impurity_split=0.4 ........\n"
     ]
    },
    {
     "name": "stderr",
     "output_type": "stream",
     "text": [
      "/Users/ZachV/opt/anaconda3/lib/python3.7/site-packages/sklearn/tree/_classes.py:310: FutureWarning: The min_impurity_split parameter is deprecated. Its default value has changed from 1e-7 to 0 in version 0.23, and it will be removed in 0.25. Use the min_impurity_decrease parameter instead.\n",
      "  FutureWarning)\n"
     ]
    },
    {
     "name": "stdout",
     "output_type": "stream",
     "text": [
      "[CV]  ccp_alpha=100, max_leaf_nodes=25, min_impurity_split=0.4, total=   1.1s\n",
      "[CV] ccp_alpha=100, max_leaf_nodes=25, min_impurity_split=0.4 ........\n"
     ]
    },
    {
     "name": "stderr",
     "output_type": "stream",
     "text": [
      "/Users/ZachV/opt/anaconda3/lib/python3.7/site-packages/sklearn/tree/_classes.py:310: FutureWarning: The min_impurity_split parameter is deprecated. Its default value has changed from 1e-7 to 0 in version 0.23, and it will be removed in 0.25. Use the min_impurity_decrease parameter instead.\n",
      "  FutureWarning)\n"
     ]
    },
    {
     "name": "stdout",
     "output_type": "stream",
     "text": [
      "[CV]  ccp_alpha=100, max_leaf_nodes=25, min_impurity_split=0.4, total=   1.1s\n",
      "[CV] ccp_alpha=100, max_leaf_nodes=25, min_impurity_split=0.4 ........\n"
     ]
    },
    {
     "name": "stderr",
     "output_type": "stream",
     "text": [
      "/Users/ZachV/opt/anaconda3/lib/python3.7/site-packages/sklearn/tree/_classes.py:310: FutureWarning: The min_impurity_split parameter is deprecated. Its default value has changed from 1e-7 to 0 in version 0.23, and it will be removed in 0.25. Use the min_impurity_decrease parameter instead.\n",
      "  FutureWarning)\n"
     ]
    },
    {
     "name": "stdout",
     "output_type": "stream",
     "text": [
      "[CV]  ccp_alpha=100, max_leaf_nodes=25, min_impurity_split=0.4, total=   1.4s\n",
      "[CV] ccp_alpha=100, max_leaf_nodes=25, min_impurity_split=0.4 ........\n"
     ]
    },
    {
     "name": "stderr",
     "output_type": "stream",
     "text": [
      "/Users/ZachV/opt/anaconda3/lib/python3.7/site-packages/sklearn/tree/_classes.py:310: FutureWarning: The min_impurity_split parameter is deprecated. Its default value has changed from 1e-7 to 0 in version 0.23, and it will be removed in 0.25. Use the min_impurity_decrease parameter instead.\n",
      "  FutureWarning)\n"
     ]
    },
    {
     "name": "stdout",
     "output_type": "stream",
     "text": [
      "[CV]  ccp_alpha=100, max_leaf_nodes=25, min_impurity_split=0.4, total=   1.5s\n",
      "[CV] ccp_alpha=100, max_leaf_nodes=25, min_impurity_split=0.5 ........\n"
     ]
    },
    {
     "name": "stderr",
     "output_type": "stream",
     "text": [
      "/Users/ZachV/opt/anaconda3/lib/python3.7/site-packages/sklearn/tree/_classes.py:310: FutureWarning: The min_impurity_split parameter is deprecated. Its default value has changed from 1e-7 to 0 in version 0.23, and it will be removed in 0.25. Use the min_impurity_decrease parameter instead.\n",
      "  FutureWarning)\n"
     ]
    },
    {
     "name": "stdout",
     "output_type": "stream",
     "text": [
      "[CV]  ccp_alpha=100, max_leaf_nodes=25, min_impurity_split=0.5, total=   1.5s\n",
      "[CV] ccp_alpha=100, max_leaf_nodes=25, min_impurity_split=0.5 ........\n"
     ]
    },
    {
     "name": "stderr",
     "output_type": "stream",
     "text": [
      "/Users/ZachV/opt/anaconda3/lib/python3.7/site-packages/sklearn/tree/_classes.py:310: FutureWarning: The min_impurity_split parameter is deprecated. Its default value has changed from 1e-7 to 0 in version 0.23, and it will be removed in 0.25. Use the min_impurity_decrease parameter instead.\n",
      "  FutureWarning)\n"
     ]
    },
    {
     "name": "stdout",
     "output_type": "stream",
     "text": [
      "[CV]  ccp_alpha=100, max_leaf_nodes=25, min_impurity_split=0.5, total=   1.2s\n",
      "[CV] ccp_alpha=100, max_leaf_nodes=25, min_impurity_split=0.5 ........\n"
     ]
    },
    {
     "name": "stderr",
     "output_type": "stream",
     "text": [
      "/Users/ZachV/opt/anaconda3/lib/python3.7/site-packages/sklearn/tree/_classes.py:310: FutureWarning: The min_impurity_split parameter is deprecated. Its default value has changed from 1e-7 to 0 in version 0.23, and it will be removed in 0.25. Use the min_impurity_decrease parameter instead.\n",
      "  FutureWarning)\n"
     ]
    },
    {
     "name": "stdout",
     "output_type": "stream",
     "text": [
      "[CV]  ccp_alpha=100, max_leaf_nodes=25, min_impurity_split=0.5, total=   1.1s\n",
      "[CV] ccp_alpha=100, max_leaf_nodes=25, min_impurity_split=0.5 ........\n"
     ]
    },
    {
     "name": "stderr",
     "output_type": "stream",
     "text": [
      "/Users/ZachV/opt/anaconda3/lib/python3.7/site-packages/sklearn/tree/_classes.py:310: FutureWarning: The min_impurity_split parameter is deprecated. Its default value has changed from 1e-7 to 0 in version 0.23, and it will be removed in 0.25. Use the min_impurity_decrease parameter instead.\n",
      "  FutureWarning)\n"
     ]
    },
    {
     "name": "stdout",
     "output_type": "stream",
     "text": [
      "[CV]  ccp_alpha=100, max_leaf_nodes=25, min_impurity_split=0.5, total=   1.1s\n",
      "[CV] ccp_alpha=100, max_leaf_nodes=25, min_impurity_split=0.5 ........\n"
     ]
    },
    {
     "name": "stderr",
     "output_type": "stream",
     "text": [
      "/Users/ZachV/opt/anaconda3/lib/python3.7/site-packages/sklearn/tree/_classes.py:310: FutureWarning: The min_impurity_split parameter is deprecated. Its default value has changed from 1e-7 to 0 in version 0.23, and it will be removed in 0.25. Use the min_impurity_decrease parameter instead.\n",
      "  FutureWarning)\n"
     ]
    },
    {
     "name": "stdout",
     "output_type": "stream",
     "text": [
      "[CV]  ccp_alpha=100, max_leaf_nodes=25, min_impurity_split=0.5, total=   1.1s\n",
      "[CV] ccp_alpha=100, max_leaf_nodes=100, min_impurity_split=0 .........\n"
     ]
    },
    {
     "name": "stderr",
     "output_type": "stream",
     "text": [
      "/Users/ZachV/opt/anaconda3/lib/python3.7/site-packages/sklearn/tree/_classes.py:310: FutureWarning: The min_impurity_split parameter is deprecated. Its default value has changed from 1e-7 to 0 in version 0.23, and it will be removed in 0.25. Use the min_impurity_decrease parameter instead.\n",
      "  FutureWarning)\n"
     ]
    },
    {
     "name": "stdout",
     "output_type": "stream",
     "text": [
      "[CV]  ccp_alpha=100, max_leaf_nodes=100, min_impurity_split=0, total=   3.7s\n",
      "[CV] ccp_alpha=100, max_leaf_nodes=100, min_impurity_split=0 .........\n"
     ]
    },
    {
     "name": "stderr",
     "output_type": "stream",
     "text": [
      "/Users/ZachV/opt/anaconda3/lib/python3.7/site-packages/sklearn/tree/_classes.py:310: FutureWarning: The min_impurity_split parameter is deprecated. Its default value has changed from 1e-7 to 0 in version 0.23, and it will be removed in 0.25. Use the min_impurity_decrease parameter instead.\n",
      "  FutureWarning)\n"
     ]
    },
    {
     "name": "stdout",
     "output_type": "stream",
     "text": [
      "[CV]  ccp_alpha=100, max_leaf_nodes=100, min_impurity_split=0, total=   3.7s\n",
      "[CV] ccp_alpha=100, max_leaf_nodes=100, min_impurity_split=0 .........\n"
     ]
    },
    {
     "name": "stderr",
     "output_type": "stream",
     "text": [
      "/Users/ZachV/opt/anaconda3/lib/python3.7/site-packages/sklearn/tree/_classes.py:310: FutureWarning: The min_impurity_split parameter is deprecated. Its default value has changed from 1e-7 to 0 in version 0.23, and it will be removed in 0.25. Use the min_impurity_decrease parameter instead.\n",
      "  FutureWarning)\n"
     ]
    },
    {
     "name": "stdout",
     "output_type": "stream",
     "text": [
      "[CV]  ccp_alpha=100, max_leaf_nodes=100, min_impurity_split=0, total=   3.4s\n",
      "[CV] ccp_alpha=100, max_leaf_nodes=100, min_impurity_split=0 .........\n"
     ]
    },
    {
     "name": "stderr",
     "output_type": "stream",
     "text": [
      "/Users/ZachV/opt/anaconda3/lib/python3.7/site-packages/sklearn/tree/_classes.py:310: FutureWarning: The min_impurity_split parameter is deprecated. Its default value has changed from 1e-7 to 0 in version 0.23, and it will be removed in 0.25. Use the min_impurity_decrease parameter instead.\n",
      "  FutureWarning)\n"
     ]
    },
    {
     "name": "stdout",
     "output_type": "stream",
     "text": [
      "[CV]  ccp_alpha=100, max_leaf_nodes=100, min_impurity_split=0, total=   3.7s\n",
      "[CV] ccp_alpha=100, max_leaf_nodes=100, min_impurity_split=0 .........\n"
     ]
    },
    {
     "name": "stderr",
     "output_type": "stream",
     "text": [
      "/Users/ZachV/opt/anaconda3/lib/python3.7/site-packages/sklearn/tree/_classes.py:310: FutureWarning: The min_impurity_split parameter is deprecated. Its default value has changed from 1e-7 to 0 in version 0.23, and it will be removed in 0.25. Use the min_impurity_decrease parameter instead.\n",
      "  FutureWarning)\n"
     ]
    },
    {
     "name": "stdout",
     "output_type": "stream",
     "text": [
      "[CV]  ccp_alpha=100, max_leaf_nodes=100, min_impurity_split=0, total=   3.6s\n",
      "[CV] ccp_alpha=100, max_leaf_nodes=100, min_impurity_split=0.1 .......\n"
     ]
    },
    {
     "name": "stderr",
     "output_type": "stream",
     "text": [
      "/Users/ZachV/opt/anaconda3/lib/python3.7/site-packages/sklearn/tree/_classes.py:310: FutureWarning: The min_impurity_split parameter is deprecated. Its default value has changed from 1e-7 to 0 in version 0.23, and it will be removed in 0.25. Use the min_impurity_decrease parameter instead.\n",
      "  FutureWarning)\n"
     ]
    },
    {
     "name": "stdout",
     "output_type": "stream",
     "text": [
      "[CV]  ccp_alpha=100, max_leaf_nodes=100, min_impurity_split=0.1, total=   2.6s\n",
      "[CV] ccp_alpha=100, max_leaf_nodes=100, min_impurity_split=0.1 .......\n"
     ]
    },
    {
     "name": "stderr",
     "output_type": "stream",
     "text": [
      "/Users/ZachV/opt/anaconda3/lib/python3.7/site-packages/sklearn/tree/_classes.py:310: FutureWarning: The min_impurity_split parameter is deprecated. Its default value has changed from 1e-7 to 0 in version 0.23, and it will be removed in 0.25. Use the min_impurity_decrease parameter instead.\n",
      "  FutureWarning)\n"
     ]
    },
    {
     "name": "stdout",
     "output_type": "stream",
     "text": [
      "[CV]  ccp_alpha=100, max_leaf_nodes=100, min_impurity_split=0.1, total=   3.0s\n",
      "[CV] ccp_alpha=100, max_leaf_nodes=100, min_impurity_split=0.1 .......\n"
     ]
    },
    {
     "name": "stderr",
     "output_type": "stream",
     "text": [
      "/Users/ZachV/opt/anaconda3/lib/python3.7/site-packages/sklearn/tree/_classes.py:310: FutureWarning: The min_impurity_split parameter is deprecated. Its default value has changed from 1e-7 to 0 in version 0.23, and it will be removed in 0.25. Use the min_impurity_decrease parameter instead.\n",
      "  FutureWarning)\n"
     ]
    },
    {
     "name": "stdout",
     "output_type": "stream",
     "text": [
      "[CV]  ccp_alpha=100, max_leaf_nodes=100, min_impurity_split=0.1, total=   3.9s\n",
      "[CV] ccp_alpha=100, max_leaf_nodes=100, min_impurity_split=0.1 .......\n"
     ]
    },
    {
     "name": "stderr",
     "output_type": "stream",
     "text": [
      "/Users/ZachV/opt/anaconda3/lib/python3.7/site-packages/sklearn/tree/_classes.py:310: FutureWarning: The min_impurity_split parameter is deprecated. Its default value has changed from 1e-7 to 0 in version 0.23, and it will be removed in 0.25. Use the min_impurity_decrease parameter instead.\n",
      "  FutureWarning)\n"
     ]
    },
    {
     "name": "stdout",
     "output_type": "stream",
     "text": [
      "[CV]  ccp_alpha=100, max_leaf_nodes=100, min_impurity_split=0.1, total=   2.7s\n",
      "[CV] ccp_alpha=100, max_leaf_nodes=100, min_impurity_split=0.1 .......\n"
     ]
    },
    {
     "name": "stderr",
     "output_type": "stream",
     "text": [
      "/Users/ZachV/opt/anaconda3/lib/python3.7/site-packages/sklearn/tree/_classes.py:310: FutureWarning: The min_impurity_split parameter is deprecated. Its default value has changed from 1e-7 to 0 in version 0.23, and it will be removed in 0.25. Use the min_impurity_decrease parameter instead.\n",
      "  FutureWarning)\n"
     ]
    },
    {
     "name": "stdout",
     "output_type": "stream",
     "text": [
      "[CV]  ccp_alpha=100, max_leaf_nodes=100, min_impurity_split=0.1, total=   2.7s\n",
      "[CV] ccp_alpha=100, max_leaf_nodes=100, min_impurity_split=0.2 .......\n"
     ]
    },
    {
     "name": "stderr",
     "output_type": "stream",
     "text": [
      "/Users/ZachV/opt/anaconda3/lib/python3.7/site-packages/sklearn/tree/_classes.py:310: FutureWarning: The min_impurity_split parameter is deprecated. Its default value has changed from 1e-7 to 0 in version 0.23, and it will be removed in 0.25. Use the min_impurity_decrease parameter instead.\n",
      "  FutureWarning)\n"
     ]
    },
    {
     "name": "stdout",
     "output_type": "stream",
     "text": [
      "[CV]  ccp_alpha=100, max_leaf_nodes=100, min_impurity_split=0.2, total=   2.2s\n",
      "[CV] ccp_alpha=100, max_leaf_nodes=100, min_impurity_split=0.2 .......\n"
     ]
    },
    {
     "name": "stderr",
     "output_type": "stream",
     "text": [
      "/Users/ZachV/opt/anaconda3/lib/python3.7/site-packages/sklearn/tree/_classes.py:310: FutureWarning: The min_impurity_split parameter is deprecated. Its default value has changed from 1e-7 to 0 in version 0.23, and it will be removed in 0.25. Use the min_impurity_decrease parameter instead.\n",
      "  FutureWarning)\n"
     ]
    },
    {
     "name": "stdout",
     "output_type": "stream",
     "text": [
      "[CV]  ccp_alpha=100, max_leaf_nodes=100, min_impurity_split=0.2, total=   2.2s\n",
      "[CV] ccp_alpha=100, max_leaf_nodes=100, min_impurity_split=0.2 .......\n"
     ]
    },
    {
     "name": "stderr",
     "output_type": "stream",
     "text": [
      "/Users/ZachV/opt/anaconda3/lib/python3.7/site-packages/sklearn/tree/_classes.py:310: FutureWarning: The min_impurity_split parameter is deprecated. Its default value has changed from 1e-7 to 0 in version 0.23, and it will be removed in 0.25. Use the min_impurity_decrease parameter instead.\n",
      "  FutureWarning)\n"
     ]
    },
    {
     "name": "stdout",
     "output_type": "stream",
     "text": [
      "[CV]  ccp_alpha=100, max_leaf_nodes=100, min_impurity_split=0.2, total=   2.2s\n",
      "[CV] ccp_alpha=100, max_leaf_nodes=100, min_impurity_split=0.2 .......\n"
     ]
    },
    {
     "name": "stderr",
     "output_type": "stream",
     "text": [
      "/Users/ZachV/opt/anaconda3/lib/python3.7/site-packages/sklearn/tree/_classes.py:310: FutureWarning: The min_impurity_split parameter is deprecated. Its default value has changed from 1e-7 to 0 in version 0.23, and it will be removed in 0.25. Use the min_impurity_decrease parameter instead.\n",
      "  FutureWarning)\n"
     ]
    },
    {
     "name": "stdout",
     "output_type": "stream",
     "text": [
      "[CV]  ccp_alpha=100, max_leaf_nodes=100, min_impurity_split=0.2, total=   2.2s\n",
      "[CV] ccp_alpha=100, max_leaf_nodes=100, min_impurity_split=0.2 .......\n"
     ]
    },
    {
     "name": "stderr",
     "output_type": "stream",
     "text": [
      "/Users/ZachV/opt/anaconda3/lib/python3.7/site-packages/sklearn/tree/_classes.py:310: FutureWarning: The min_impurity_split parameter is deprecated. Its default value has changed from 1e-7 to 0 in version 0.23, and it will be removed in 0.25. Use the min_impurity_decrease parameter instead.\n",
      "  FutureWarning)\n"
     ]
    },
    {
     "name": "stdout",
     "output_type": "stream",
     "text": [
      "[CV]  ccp_alpha=100, max_leaf_nodes=100, min_impurity_split=0.2, total=   2.2s\n",
      "[CV] ccp_alpha=100, max_leaf_nodes=100, min_impurity_split=0.3 .......\n"
     ]
    },
    {
     "name": "stderr",
     "output_type": "stream",
     "text": [
      "/Users/ZachV/opt/anaconda3/lib/python3.7/site-packages/sklearn/tree/_classes.py:310: FutureWarning: The min_impurity_split parameter is deprecated. Its default value has changed from 1e-7 to 0 in version 0.23, and it will be removed in 0.25. Use the min_impurity_decrease parameter instead.\n",
      "  FutureWarning)\n"
     ]
    },
    {
     "name": "stdout",
     "output_type": "stream",
     "text": [
      "[CV]  ccp_alpha=100, max_leaf_nodes=100, min_impurity_split=0.3, total=   1.8s\n",
      "[CV] ccp_alpha=100, max_leaf_nodes=100, min_impurity_split=0.3 .......\n"
     ]
    },
    {
     "name": "stderr",
     "output_type": "stream",
     "text": [
      "/Users/ZachV/opt/anaconda3/lib/python3.7/site-packages/sklearn/tree/_classes.py:310: FutureWarning: The min_impurity_split parameter is deprecated. Its default value has changed from 1e-7 to 0 in version 0.23, and it will be removed in 0.25. Use the min_impurity_decrease parameter instead.\n",
      "  FutureWarning)\n"
     ]
    },
    {
     "name": "stdout",
     "output_type": "stream",
     "text": [
      "[CV]  ccp_alpha=100, max_leaf_nodes=100, min_impurity_split=0.3, total=   1.9s\n",
      "[CV] ccp_alpha=100, max_leaf_nodes=100, min_impurity_split=0.3 .......\n"
     ]
    },
    {
     "name": "stderr",
     "output_type": "stream",
     "text": [
      "/Users/ZachV/opt/anaconda3/lib/python3.7/site-packages/sklearn/tree/_classes.py:310: FutureWarning: The min_impurity_split parameter is deprecated. Its default value has changed from 1e-7 to 0 in version 0.23, and it will be removed in 0.25. Use the min_impurity_decrease parameter instead.\n",
      "  FutureWarning)\n"
     ]
    },
    {
     "name": "stdout",
     "output_type": "stream",
     "text": [
      "[CV]  ccp_alpha=100, max_leaf_nodes=100, min_impurity_split=0.3, total=   1.8s\n",
      "[CV] ccp_alpha=100, max_leaf_nodes=100, min_impurity_split=0.3 .......\n"
     ]
    },
    {
     "name": "stderr",
     "output_type": "stream",
     "text": [
      "/Users/ZachV/opt/anaconda3/lib/python3.7/site-packages/sklearn/tree/_classes.py:310: FutureWarning: The min_impurity_split parameter is deprecated. Its default value has changed from 1e-7 to 0 in version 0.23, and it will be removed in 0.25. Use the min_impurity_decrease parameter instead.\n",
      "  FutureWarning)\n"
     ]
    },
    {
     "name": "stdout",
     "output_type": "stream",
     "text": [
      "[CV]  ccp_alpha=100, max_leaf_nodes=100, min_impurity_split=0.3, total=   1.9s\n",
      "[CV] ccp_alpha=100, max_leaf_nodes=100, min_impurity_split=0.3 .......\n"
     ]
    },
    {
     "name": "stderr",
     "output_type": "stream",
     "text": [
      "/Users/ZachV/opt/anaconda3/lib/python3.7/site-packages/sklearn/tree/_classes.py:310: FutureWarning: The min_impurity_split parameter is deprecated. Its default value has changed from 1e-7 to 0 in version 0.23, and it will be removed in 0.25. Use the min_impurity_decrease parameter instead.\n",
      "  FutureWarning)\n"
     ]
    },
    {
     "name": "stdout",
     "output_type": "stream",
     "text": [
      "[CV]  ccp_alpha=100, max_leaf_nodes=100, min_impurity_split=0.3, total=   1.8s\n",
      "[CV] ccp_alpha=100, max_leaf_nodes=100, min_impurity_split=0.4 .......\n"
     ]
    },
    {
     "name": "stderr",
     "output_type": "stream",
     "text": [
      "/Users/ZachV/opt/anaconda3/lib/python3.7/site-packages/sklearn/tree/_classes.py:310: FutureWarning: The min_impurity_split parameter is deprecated. Its default value has changed from 1e-7 to 0 in version 0.23, and it will be removed in 0.25. Use the min_impurity_decrease parameter instead.\n",
      "  FutureWarning)\n"
     ]
    },
    {
     "name": "stdout",
     "output_type": "stream",
     "text": [
      "[CV]  ccp_alpha=100, max_leaf_nodes=100, min_impurity_split=0.4, total=   1.4s\n",
      "[CV] ccp_alpha=100, max_leaf_nodes=100, min_impurity_split=0.4 .......\n"
     ]
    },
    {
     "name": "stderr",
     "output_type": "stream",
     "text": [
      "/Users/ZachV/opt/anaconda3/lib/python3.7/site-packages/sklearn/tree/_classes.py:310: FutureWarning: The min_impurity_split parameter is deprecated. Its default value has changed from 1e-7 to 0 in version 0.23, and it will be removed in 0.25. Use the min_impurity_decrease parameter instead.\n",
      "  FutureWarning)\n"
     ]
    },
    {
     "name": "stdout",
     "output_type": "stream",
     "text": [
      "[CV]  ccp_alpha=100, max_leaf_nodes=100, min_impurity_split=0.4, total=   1.5s\n",
      "[CV] ccp_alpha=100, max_leaf_nodes=100, min_impurity_split=0.4 .......\n"
     ]
    },
    {
     "name": "stderr",
     "output_type": "stream",
     "text": [
      "/Users/ZachV/opt/anaconda3/lib/python3.7/site-packages/sklearn/tree/_classes.py:310: FutureWarning: The min_impurity_split parameter is deprecated. Its default value has changed from 1e-7 to 0 in version 0.23, and it will be removed in 0.25. Use the min_impurity_decrease parameter instead.\n",
      "  FutureWarning)\n"
     ]
    },
    {
     "name": "stdout",
     "output_type": "stream",
     "text": [
      "[CV]  ccp_alpha=100, max_leaf_nodes=100, min_impurity_split=0.4, total=   1.4s\n",
      "[CV] ccp_alpha=100, max_leaf_nodes=100, min_impurity_split=0.4 .......\n"
     ]
    },
    {
     "name": "stderr",
     "output_type": "stream",
     "text": [
      "/Users/ZachV/opt/anaconda3/lib/python3.7/site-packages/sklearn/tree/_classes.py:310: FutureWarning: The min_impurity_split parameter is deprecated. Its default value has changed from 1e-7 to 0 in version 0.23, and it will be removed in 0.25. Use the min_impurity_decrease parameter instead.\n",
      "  FutureWarning)\n"
     ]
    },
    {
     "name": "stdout",
     "output_type": "stream",
     "text": [
      "[CV]  ccp_alpha=100, max_leaf_nodes=100, min_impurity_split=0.4, total=   1.1s\n",
      "[CV] ccp_alpha=100, max_leaf_nodes=100, min_impurity_split=0.4 .......\n"
     ]
    },
    {
     "name": "stderr",
     "output_type": "stream",
     "text": [
      "/Users/ZachV/opt/anaconda3/lib/python3.7/site-packages/sklearn/tree/_classes.py:310: FutureWarning: The min_impurity_split parameter is deprecated. Its default value has changed from 1e-7 to 0 in version 0.23, and it will be removed in 0.25. Use the min_impurity_decrease parameter instead.\n",
      "  FutureWarning)\n"
     ]
    },
    {
     "name": "stdout",
     "output_type": "stream",
     "text": [
      "[CV]  ccp_alpha=100, max_leaf_nodes=100, min_impurity_split=0.4, total=   1.1s\n",
      "[CV] ccp_alpha=100, max_leaf_nodes=100, min_impurity_split=0.5 .......\n"
     ]
    },
    {
     "name": "stderr",
     "output_type": "stream",
     "text": [
      "/Users/ZachV/opt/anaconda3/lib/python3.7/site-packages/sklearn/tree/_classes.py:310: FutureWarning: The min_impurity_split parameter is deprecated. Its default value has changed from 1e-7 to 0 in version 0.23, and it will be removed in 0.25. Use the min_impurity_decrease parameter instead.\n",
      "  FutureWarning)\n"
     ]
    },
    {
     "name": "stdout",
     "output_type": "stream",
     "text": [
      "[CV]  ccp_alpha=100, max_leaf_nodes=100, min_impurity_split=0.5, total=   1.1s\n",
      "[CV] ccp_alpha=100, max_leaf_nodes=100, min_impurity_split=0.5 .......\n"
     ]
    },
    {
     "name": "stderr",
     "output_type": "stream",
     "text": [
      "/Users/ZachV/opt/anaconda3/lib/python3.7/site-packages/sklearn/tree/_classes.py:310: FutureWarning: The min_impurity_split parameter is deprecated. Its default value has changed from 1e-7 to 0 in version 0.23, and it will be removed in 0.25. Use the min_impurity_decrease parameter instead.\n",
      "  FutureWarning)\n"
     ]
    },
    {
     "name": "stdout",
     "output_type": "stream",
     "text": [
      "[CV]  ccp_alpha=100, max_leaf_nodes=100, min_impurity_split=0.5, total=   1.1s\n",
      "[CV] ccp_alpha=100, max_leaf_nodes=100, min_impurity_split=0.5 .......\n"
     ]
    },
    {
     "name": "stderr",
     "output_type": "stream",
     "text": [
      "/Users/ZachV/opt/anaconda3/lib/python3.7/site-packages/sklearn/tree/_classes.py:310: FutureWarning: The min_impurity_split parameter is deprecated. Its default value has changed from 1e-7 to 0 in version 0.23, and it will be removed in 0.25. Use the min_impurity_decrease parameter instead.\n",
      "  FutureWarning)\n"
     ]
    },
    {
     "name": "stdout",
     "output_type": "stream",
     "text": [
      "[CV]  ccp_alpha=100, max_leaf_nodes=100, min_impurity_split=0.5, total=   1.1s\n",
      "[CV] ccp_alpha=100, max_leaf_nodes=100, min_impurity_split=0.5 .......\n"
     ]
    },
    {
     "name": "stderr",
     "output_type": "stream",
     "text": [
      "/Users/ZachV/opt/anaconda3/lib/python3.7/site-packages/sklearn/tree/_classes.py:310: FutureWarning: The min_impurity_split parameter is deprecated. Its default value has changed from 1e-7 to 0 in version 0.23, and it will be removed in 0.25. Use the min_impurity_decrease parameter instead.\n",
      "  FutureWarning)\n"
     ]
    },
    {
     "name": "stdout",
     "output_type": "stream",
     "text": [
      "[CV]  ccp_alpha=100, max_leaf_nodes=100, min_impurity_split=0.5, total=   1.1s\n",
      "[CV] ccp_alpha=100, max_leaf_nodes=100, min_impurity_split=0.5 .......\n"
     ]
    },
    {
     "name": "stderr",
     "output_type": "stream",
     "text": [
      "/Users/ZachV/opt/anaconda3/lib/python3.7/site-packages/sklearn/tree/_classes.py:310: FutureWarning: The min_impurity_split parameter is deprecated. Its default value has changed from 1e-7 to 0 in version 0.23, and it will be removed in 0.25. Use the min_impurity_decrease parameter instead.\n",
      "  FutureWarning)\n"
     ]
    },
    {
     "name": "stdout",
     "output_type": "stream",
     "text": [
      "[CV]  ccp_alpha=100, max_leaf_nodes=100, min_impurity_split=0.5, total=   1.1s\n"
     ]
    },
    {
     "name": "stderr",
     "output_type": "stream",
     "text": [
      "[Parallel(n_jobs=1)]: Done 900 out of 900 | elapsed: 36.5min finished\n",
      "/Users/ZachV/opt/anaconda3/lib/python3.7/site-packages/sklearn/tree/_classes.py:310: FutureWarning: The min_impurity_split parameter is deprecated. Its default value has changed from 1e-7 to 0 in version 0.23, and it will be removed in 0.25. Use the min_impurity_decrease parameter instead.\n",
      "  FutureWarning)\n"
     ]
    },
    {
     "data": {
      "text/plain": [
       "{'mean_fit_time': array([ 1.99160643,  1.54992576,  1.37884998,  1.1750114 ,  0.80660386,\n",
       "         0.80293283,  2.25440483,  1.68636279,  1.35051789,  1.14716892,\n",
       "         0.81012115,  0.8395752 ,  2.53725367,  1.78353662,  1.47533021,\n",
       "         1.18900547,  0.82176657,  0.82472029,  2.78558674,  2.02717962,\n",
       "         1.59870925,  1.23653712,  0.79020801,  0.79973345,  2.96864052,\n",
       "         2.05207944,  1.88042641,  1.69201279,  0.89523263,  0.93266287,\n",
       "         1.8767261 ,  1.69595594,  1.3253746 ,  1.18180113,  0.87333083,\n",
       "         0.87184072,  2.85275264,  1.83867455,  1.81571498,  1.43235636,\n",
       "         0.82569222,  0.79009318,  2.44410901,  1.74948392,  1.7767776 ,\n",
       "         1.36897697,  0.87522216,  0.96697145,  2.79624138,  2.12962761,\n",
       "         1.48814588,  1.25755744,  0.82256026,  0.84806266,  2.85267181,\n",
       "         2.01439872,  1.76647925,  1.37700601,  0.83904638,  1.02362084,\n",
       "         2.08769021,  2.31233234,  2.23007894,  1.2965445 ,  0.85014062,\n",
       "         0.85960631,  2.51309137,  1.61493006,  1.38448968,  1.1856111 ,\n",
       "         0.79040699,  0.81586399,  2.42437158,  1.8633852 ,  1.41848326,\n",
       "         1.19843135,  0.76709166,  0.78047609,  2.31370788,  1.68362303,\n",
       "         1.4198822 ,  1.16593432,  0.76577077,  0.77236977,  2.55013752,\n",
       "         1.84432197,  1.55156045,  1.30555086,  0.76585479,  0.76484265,\n",
       "         1.6620338 ,  1.52451396,  2.09179869,  2.04371843,  0.75542994,\n",
       "         0.75652623,  2.09646354, 21.53476639,  1.28176799,  1.10354295,\n",
       "         0.78879867,  0.89948545,  2.5271071 ,  3.73519607,  1.38552561,\n",
       "         1.16601677,  0.77792206,  0.84632297,  2.82916174,  1.77434754,\n",
       "         1.44407372,  1.18165727,  0.77189488,  0.77282467,  2.63654213,\n",
       "         2.89573598,  3.0388773 ,  1.79346123,  1.03405857,  1.2640161 ,\n",
       "         2.38552623,  2.07658782,  2.57130899,  1.44831958,  1.02055779,\n",
       "         1.27374659,  3.03785944,  2.12686157,  2.25125999,  1.45996604,\n",
       "         0.95086212,  1.1674211 ,  3.05699124,  2.18473463,  1.96041551,\n",
       "         1.56470261,  0.93746362,  1.13342533,  3.30738845,  2.34664779,\n",
       "         2.01201558,  1.54008613,  0.95465617,  1.16172872,  3.60857105,\n",
       "         3.35897455,  2.29775681,  1.70787425,  1.15027499,  0.97636838,\n",
       "         2.29826207,  2.28837972,  1.63577738,  1.41657286,  1.00564313,\n",
       "         1.14350638,  2.90161004,  2.51057353,  1.73159575,  1.46520367,\n",
       "         0.95680022,  1.16989717,  3.15307021,  2.53981881,  1.78146567,\n",
       "         1.51147089,  0.98336196,  1.13878608,  3.27954936,  2.5512176 ,\n",
       "         1.90022349,  1.56551456,  1.11506538,  1.04003673,  3.47407846,\n",
       "         2.82788825,  2.07038383,  1.7237432 ,  1.13702245,  0.94712515]),\n",
       " 'std_fit_time': array([2.97727217e-01, 4.60965141e-02, 9.13952926e-02, 6.48209844e-02,\n",
       "        9.73874010e-03, 1.22159568e-02, 7.20175768e-02, 7.53532572e-02,\n",
       "        2.09986839e-02, 2.86713985e-02, 2.33800434e-02, 2.60050318e-02,\n",
       "        1.62140988e-01, 1.48631224e-01, 9.92061683e-02, 1.29767205e-02,\n",
       "        1.80172323e-02, 1.97180021e-02, 1.94313176e-01, 1.08293507e-01,\n",
       "        1.00601059e-01, 3.36059469e-02, 3.77147418e-03, 9.73799104e-03,\n",
       "        1.11201250e-01, 2.98975882e-02, 4.02611556e-01, 1.79141666e-01,\n",
       "        6.28667419e-02, 1.17732271e-01, 1.10488349e-01, 1.83278307e-01,\n",
       "        3.97233667e-02, 5.17826081e-02, 7.58428515e-02, 8.32863879e-02,\n",
       "        3.00759216e-01, 1.21513172e-01, 3.08350726e-01, 3.04053995e-01,\n",
       "        3.09542701e-02, 1.95341170e-02, 6.03869576e-02, 7.35356561e-02,\n",
       "        4.70798860e-01, 1.47624530e-01, 5.03546442e-02, 1.60599848e-01,\n",
       "        3.51598949e-01, 1.23399100e-01, 5.15218425e-02, 2.94236586e-02,\n",
       "        1.75100158e-02, 3.40081750e-02, 1.75189063e-01, 3.07517719e-02,\n",
       "        9.43441249e-02, 2.13988588e-02, 4.70538553e-02, 1.86003612e-01,\n",
       "        2.02894154e-01, 9.52627276e-02, 5.85254203e-01, 2.86947276e-01,\n",
       "        4.56948780e-02, 7.26050101e-02, 3.39182232e-01, 4.57363895e-02,\n",
       "        5.89684419e-02, 4.26385138e-02, 1.62396406e-02, 1.63048220e-02,\n",
       "        5.36177710e-02, 1.27457821e-01, 4.37957341e-02, 2.05007178e-02,\n",
       "        3.85044345e-03, 2.09810833e-02, 2.82515623e-02, 3.27696536e-02,\n",
       "        4.19682914e-02, 4.81062803e-03, 2.46633318e-03, 6.68730653e-03,\n",
       "        6.34548047e-02, 2.55652828e-02, 1.79453877e-02, 4.22544170e-02,\n",
       "        5.04547917e-03, 1.51898876e-03, 8.74702144e-02, 8.75649884e-02,\n",
       "        1.03749319e+00, 1.94568772e+00, 7.63065945e-04, 1.47556018e-03,\n",
       "        3.46900463e-02, 3.98280376e+01, 1.99130500e-02, 1.92177902e-02,\n",
       "        1.33202034e-02, 3.06618958e-02, 1.47819402e-01, 2.08489204e+00,\n",
       "        7.79168318e-02, 1.94762954e-02, 1.05132992e-02, 8.97623807e-02,\n",
       "        6.50622981e-01, 1.27853120e-01, 4.92763164e-02, 9.08331187e-03,\n",
       "        2.06803469e-03, 1.88112529e-03, 9.96218491e-02, 1.16048049e+00,\n",
       "        4.05783985e-01, 1.86852477e-01, 5.65991295e-02, 1.75568966e-01,\n",
       "        1.65416872e-01, 4.55940213e-02, 5.51111461e-01, 5.01362195e-02,\n",
       "        2.46709632e-02, 2.12932326e-01, 1.92541716e-01, 3.16280230e-02,\n",
       "        6.23245168e-01, 5.70696949e-02, 8.51818073e-03, 1.97090515e-01,\n",
       "        1.24977175e-01, 4.35924610e-02, 2.43081932e-01, 1.51543162e-01,\n",
       "        7.36611043e-03, 1.59039526e-01, 1.21493133e-01, 2.47525519e-01,\n",
       "        2.94395428e-01, 2.97662697e-02, 8.66702664e-03, 1.04995189e-01,\n",
       "        2.32486797e-01, 7.21303797e-01, 5.48432569e-02, 4.08278804e-02,\n",
       "        1.23997200e-01, 3.78185299e-02, 1.68285375e-01, 3.77219967e-01,\n",
       "        4.62153999e-02, 5.67897425e-02, 1.11943870e-01, 1.76257886e-01,\n",
       "        1.02267787e-01, 5.09311719e-01, 1.73775140e-02, 2.45296859e-02,\n",
       "        1.36474809e-02, 1.24581987e-01, 1.97469174e-01, 3.92790035e-01,\n",
       "        3.54213451e-02, 1.15045617e-02, 4.31741690e-02, 1.50520051e-01,\n",
       "        1.19897364e-01, 3.74480846e-01, 4.82182000e-02, 4.19204481e-02,\n",
       "        1.53884901e-01, 1.32267466e-01, 9.73473138e-02, 4.68550719e-01,\n",
       "        2.92715300e-02, 3.08283882e-02, 1.47804483e-01, 8.31599939e-03]),\n",
       " 'mean_score_time': array([0.15316439, 0.11520057, 0.11828508, 0.12798119, 0.11850047,\n",
       "        0.11220551, 0.1150434 , 0.11543007, 0.1137989 , 0.11534863,\n",
       "        0.11504645, 0.11668162, 0.11475096, 0.11810436, 0.12012935,\n",
       "        0.11455016, 0.11552587, 0.11639953, 0.12971697, 0.12266097,\n",
       "        0.12072897, 0.11575847, 0.11258578, 0.114609  , 0.11948223,\n",
       "        0.1170578 , 0.12865667, 0.16232843, 0.13658776, 0.11433597,\n",
       "        0.12387261, 0.12698121, 0.11929331, 0.11924334, 0.1225997 ,\n",
       "        0.11813965, 0.14171576, 0.12754078, 0.18138828, 0.14201598,\n",
       "        0.11657939, 0.11224451, 0.11719136, 0.11929464, 0.13740897,\n",
       "        0.11737466, 0.11948214, 0.13090024, 0.13574123, 0.12582273,\n",
       "        0.11452789, 0.11641765, 0.11683569, 0.11987572, 0.11669817,\n",
       "        0.11786056, 0.11875057, 0.12353454, 0.11819382, 0.15665774,\n",
       "        0.12841578, 0.20749602, 0.15821981, 0.13314805, 0.12132978,\n",
       "        0.13769403, 0.11997523, 0.11508465, 0.11351275, 0.11623149,\n",
       "        0.11291723, 0.11446877, 0.11451268, 0.119454  , 0.11348305,\n",
       "        0.11554604, 0.11053572, 0.11134858, 0.10945001, 0.11059465,\n",
       "        0.11418557, 0.11055799, 0.10951757, 0.10955338, 0.11062245,\n",
       "        0.10979486, 0.10996056, 0.11439404, 0.10921431, 0.1092185 ,\n",
       "        0.11191921, 0.11142445, 0.24010706, 0.11116714, 0.10893221,\n",
       "        0.10910463, 0.10918241, 0.12102909, 0.11222382, 0.11188512,\n",
       "        0.11335139, 0.13570919, 0.1308641 , 0.20301318, 0.11218123,\n",
       "        0.11773319, 0.1117218 , 0.12501006, 0.11239796, 0.10977702,\n",
       "        0.11231017, 0.10946689, 0.10947227, 0.10944271, 0.11159182,\n",
       "        0.16949697, 0.16453557, 0.13722339, 0.14328003, 0.18297782,\n",
       "        0.14869409, 0.14091215, 0.18764114, 0.13912997, 0.14273782,\n",
       "        0.20601621, 0.13164129, 0.15512695, 0.14821258, 0.13116159,\n",
       "        0.13752542, 0.18713565, 0.13265781, 0.14765091, 0.14144969,\n",
       "        0.13533859, 0.13700619, 0.162923  , 0.131429  , 0.14485483,\n",
       "        0.13803439, 0.13410134, 0.1337914 , 0.16137667, 0.13628254,\n",
       "        0.16909375, 0.14590039, 0.13583832, 0.17052007, 0.14156098,\n",
       "        0.13954201, 0.14059606, 0.13495345, 0.14235535, 0.15603642,\n",
       "        0.15345607, 0.13237977, 0.14339275, 0.13345699, 0.13217516,\n",
       "        0.133009  , 0.15870605, 0.13726654, 0.13894739, 0.13554258,\n",
       "        0.13221211, 0.14775138, 0.14884615, 0.13456268, 0.15469022,\n",
       "        0.13663216, 0.13768449, 0.15549622, 0.14250712, 0.13229265,\n",
       "        0.14847245, 0.1298162 , 0.13290868, 0.16692672, 0.12904687]),\n",
       " 'std_score_time': array([0.0596805 , 0.00831252, 0.00941138, 0.01756692, 0.01272054,\n",
       "        0.00791056, 0.00864103, 0.00581074, 0.00864938, 0.00781931,\n",
       "        0.01049925, 0.00799793, 0.00770703, 0.01054044, 0.00878469,\n",
       "        0.00938637, 0.00686472, 0.01084601, 0.00491865, 0.00924151,\n",
       "        0.01036719, 0.01078581, 0.00867084, 0.01062223, 0.00942634,\n",
       "        0.01058767, 0.01843565, 0.04451807, 0.01679745, 0.00834191,\n",
       "        0.00938266, 0.02900129, 0.01243633, 0.01019873, 0.01244647,\n",
       "        0.00941915, 0.04334582, 0.01162423, 0.06804845, 0.04134583,\n",
       "        0.00880896, 0.00728009, 0.00741932, 0.01052751, 0.04249926,\n",
       "        0.01076549, 0.00774136, 0.02448148, 0.04285682, 0.00920176,\n",
       "        0.00785405, 0.00831546, 0.00995082, 0.01342452, 0.00815542,\n",
       "        0.0099916 , 0.0100513 , 0.02220103, 0.01199324, 0.03200014,\n",
       "        0.00524214, 0.0772147 , 0.03873678, 0.02208415, 0.01007994,\n",
       "        0.05053336, 0.00289023, 0.01025532, 0.00795746, 0.00986997,\n",
       "        0.0102476 , 0.00855824, 0.0090648 , 0.00510332, 0.0099926 ,\n",
       "        0.01046536, 0.00939519, 0.00704109, 0.00826378, 0.00798611,\n",
       "        0.01218673, 0.00824018, 0.00820668, 0.00836316, 0.00772859,\n",
       "        0.00826324, 0.00855394, 0.00584839, 0.00844894, 0.00837782,\n",
       "        0.01025251, 0.00653339, 0.2390109 , 0.00982994, 0.00838496,\n",
       "        0.00852042, 0.00880092, 0.00707819, 0.00887661, 0.00802831,\n",
       "        0.00942592, 0.01406948, 0.02078467, 0.07013023, 0.00973327,\n",
       "        0.01105825, 0.00857543, 0.0260968 , 0.00642224, 0.00850508,\n",
       "        0.00685869, 0.00878226, 0.00849566, 0.007605  , 0.00762744,\n",
       "        0.07674262, 0.02648519, 0.01145613, 0.01861453, 0.0374751 ,\n",
       "        0.01236719, 0.01156984, 0.02149152, 0.01469878, 0.01501575,\n",
       "        0.05166072, 0.01197245, 0.04291199, 0.0148334 , 0.01052237,\n",
       "        0.00971024, 0.07144713, 0.01217564, 0.02247763, 0.01533133,\n",
       "        0.00989579, 0.00916677, 0.03220956, 0.00942141, 0.02168072,\n",
       "        0.0103257 , 0.01319054, 0.01193902, 0.02236632, 0.01215578,\n",
       "        0.05207216, 0.00488019, 0.01325532, 0.02617591, 0.01861348,\n",
       "        0.00943618, 0.019007  , 0.00937976, 0.01038841, 0.02864574,\n",
       "        0.01107515, 0.00938   , 0.01953505, 0.01114751, 0.01097522,\n",
       "        0.00944317, 0.02137762, 0.02207069, 0.02210568, 0.01237165,\n",
       "        0.01037575, 0.02594047, 0.01337422, 0.00934337, 0.03022741,\n",
       "        0.01663034, 0.01842055, 0.02771091, 0.0168748 , 0.00772973,\n",
       "        0.02442221, 0.01009364, 0.0097227 , 0.0228417 , 0.01022244]),\n",
       " 'param_ccp_alpha': masked_array(data=[0, 0, 0, 0, 0, 0, 0, 0, 0, 0, 0, 0, 0, 0, 0, 0, 0, 0,\n",
       "                    0, 0, 0, 0, 0, 0, 0, 0, 0, 0, 0, 0, 0.01, 0.01, 0.01,\n",
       "                    0.01, 0.01, 0.01, 0.01, 0.01, 0.01, 0.01, 0.01, 0.01,\n",
       "                    0.01, 0.01, 0.01, 0.01, 0.01, 0.01, 0.01, 0.01, 0.01,\n",
       "                    0.01, 0.01, 0.01, 0.01, 0.01, 0.01, 0.01, 0.01, 0.01,\n",
       "                    0.1, 0.1, 0.1, 0.1, 0.1, 0.1, 0.1, 0.1, 0.1, 0.1, 0.1,\n",
       "                    0.1, 0.1, 0.1, 0.1, 0.1, 0.1, 0.1, 0.1, 0.1, 0.1, 0.1,\n",
       "                    0.1, 0.1, 0.1, 0.1, 0.1, 0.1, 0.1, 0.1, 1, 1, 1, 1, 1,\n",
       "                    1, 1, 1, 1, 1, 1, 1, 1, 1, 1, 1, 1, 1, 1, 1, 1, 1, 1,\n",
       "                    1, 1, 1, 1, 1, 1, 1, 10, 10, 10, 10, 10, 10, 10, 10,\n",
       "                    10, 10, 10, 10, 10, 10, 10, 10, 10, 10, 10, 10, 10, 10,\n",
       "                    10, 10, 10, 10, 10, 10, 10, 10, 100, 100, 100, 100,\n",
       "                    100, 100, 100, 100, 100, 100, 100, 100, 100, 100, 100,\n",
       "                    100, 100, 100, 100, 100, 100, 100, 100, 100, 100, 100,\n",
       "                    100, 100, 100, 100],\n",
       "              mask=[False, False, False, False, False, False, False, False,\n",
       "                    False, False, False, False, False, False, False, False,\n",
       "                    False, False, False, False, False, False, False, False,\n",
       "                    False, False, False, False, False, False, False, False,\n",
       "                    False, False, False, False, False, False, False, False,\n",
       "                    False, False, False, False, False, False, False, False,\n",
       "                    False, False, False, False, False, False, False, False,\n",
       "                    False, False, False, False, False, False, False, False,\n",
       "                    False, False, False, False, False, False, False, False,\n",
       "                    False, False, False, False, False, False, False, False,\n",
       "                    False, False, False, False, False, False, False, False,\n",
       "                    False, False, False, False, False, False, False, False,\n",
       "                    False, False, False, False, False, False, False, False,\n",
       "                    False, False, False, False, False, False, False, False,\n",
       "                    False, False, False, False, False, False, False, False,\n",
       "                    False, False, False, False, False, False, False, False,\n",
       "                    False, False, False, False, False, False, False, False,\n",
       "                    False, False, False, False, False, False, False, False,\n",
       "                    False, False, False, False, False, False, False, False,\n",
       "                    False, False, False, False, False, False, False, False,\n",
       "                    False, False, False, False, False, False, False, False,\n",
       "                    False, False, False, False, False, False, False, False,\n",
       "                    False, False, False, False],\n",
       "        fill_value='?',\n",
       "             dtype=object),\n",
       " 'param_max_leaf_nodes': masked_array(data=[5, 5, 5, 5, 5, 5, 10, 10, 10, 10, 10, 10, 15, 15, 15,\n",
       "                    15, 15, 15, 25, 25, 25, 25, 25, 25, 100, 100, 100, 100,\n",
       "                    100, 100, 5, 5, 5, 5, 5, 5, 10, 10, 10, 10, 10, 10, 15,\n",
       "                    15, 15, 15, 15, 15, 25, 25, 25, 25, 25, 25, 100, 100,\n",
       "                    100, 100, 100, 100, 5, 5, 5, 5, 5, 5, 10, 10, 10, 10,\n",
       "                    10, 10, 15, 15, 15, 15, 15, 15, 25, 25, 25, 25, 25, 25,\n",
       "                    100, 100, 100, 100, 100, 100, 5, 5, 5, 5, 5, 5, 10, 10,\n",
       "                    10, 10, 10, 10, 15, 15, 15, 15, 15, 15, 25, 25, 25, 25,\n",
       "                    25, 25, 100, 100, 100, 100, 100, 100, 5, 5, 5, 5, 5, 5,\n",
       "                    10, 10, 10, 10, 10, 10, 15, 15, 15, 15, 15, 15, 25, 25,\n",
       "                    25, 25, 25, 25, 100, 100, 100, 100, 100, 100, 5, 5, 5,\n",
       "                    5, 5, 5, 10, 10, 10, 10, 10, 10, 15, 15, 15, 15, 15,\n",
       "                    15, 25, 25, 25, 25, 25, 25, 100, 100, 100, 100, 100,\n",
       "                    100],\n",
       "              mask=[False, False, False, False, False, False, False, False,\n",
       "                    False, False, False, False, False, False, False, False,\n",
       "                    False, False, False, False, False, False, False, False,\n",
       "                    False, False, False, False, False, False, False, False,\n",
       "                    False, False, False, False, False, False, False, False,\n",
       "                    False, False, False, False, False, False, False, False,\n",
       "                    False, False, False, False, False, False, False, False,\n",
       "                    False, False, False, False, False, False, False, False,\n",
       "                    False, False, False, False, False, False, False, False,\n",
       "                    False, False, False, False, False, False, False, False,\n",
       "                    False, False, False, False, False, False, False, False,\n",
       "                    False, False, False, False, False, False, False, False,\n",
       "                    False, False, False, False, False, False, False, False,\n",
       "                    False, False, False, False, False, False, False, False,\n",
       "                    False, False, False, False, False, False, False, False,\n",
       "                    False, False, False, False, False, False, False, False,\n",
       "                    False, False, False, False, False, False, False, False,\n",
       "                    False, False, False, False, False, False, False, False,\n",
       "                    False, False, False, False, False, False, False, False,\n",
       "                    False, False, False, False, False, False, False, False,\n",
       "                    False, False, False, False, False, False, False, False,\n",
       "                    False, False, False, False, False, False, False, False,\n",
       "                    False, False, False, False],\n",
       "        fill_value='?',\n",
       "             dtype=object),\n",
       " 'param_min_impurity_split': masked_array(data=[0, 0.1, 0.2, 0.3, 0.4, 0.5, 0, 0.1, 0.2, 0.3, 0.4, 0.5,\n",
       "                    0, 0.1, 0.2, 0.3, 0.4, 0.5, 0, 0.1, 0.2, 0.3, 0.4, 0.5,\n",
       "                    0, 0.1, 0.2, 0.3, 0.4, 0.5, 0, 0.1, 0.2, 0.3, 0.4, 0.5,\n",
       "                    0, 0.1, 0.2, 0.3, 0.4, 0.5, 0, 0.1, 0.2, 0.3, 0.4, 0.5,\n",
       "                    0, 0.1, 0.2, 0.3, 0.4, 0.5, 0, 0.1, 0.2, 0.3, 0.4, 0.5,\n",
       "                    0, 0.1, 0.2, 0.3, 0.4, 0.5, 0, 0.1, 0.2, 0.3, 0.4, 0.5,\n",
       "                    0, 0.1, 0.2, 0.3, 0.4, 0.5, 0, 0.1, 0.2, 0.3, 0.4, 0.5,\n",
       "                    0, 0.1, 0.2, 0.3, 0.4, 0.5, 0, 0.1, 0.2, 0.3, 0.4, 0.5,\n",
       "                    0, 0.1, 0.2, 0.3, 0.4, 0.5, 0, 0.1, 0.2, 0.3, 0.4, 0.5,\n",
       "                    0, 0.1, 0.2, 0.3, 0.4, 0.5, 0, 0.1, 0.2, 0.3, 0.4, 0.5,\n",
       "                    0, 0.1, 0.2, 0.3, 0.4, 0.5, 0, 0.1, 0.2, 0.3, 0.4, 0.5,\n",
       "                    0, 0.1, 0.2, 0.3, 0.4, 0.5, 0, 0.1, 0.2, 0.3, 0.4, 0.5,\n",
       "                    0, 0.1, 0.2, 0.3, 0.4, 0.5, 0, 0.1, 0.2, 0.3, 0.4, 0.5,\n",
       "                    0, 0.1, 0.2, 0.3, 0.4, 0.5, 0, 0.1, 0.2, 0.3, 0.4, 0.5,\n",
       "                    0, 0.1, 0.2, 0.3, 0.4, 0.5, 0, 0.1, 0.2, 0.3, 0.4, 0.5],\n",
       "              mask=[False, False, False, False, False, False, False, False,\n",
       "                    False, False, False, False, False, False, False, False,\n",
       "                    False, False, False, False, False, False, False, False,\n",
       "                    False, False, False, False, False, False, False, False,\n",
       "                    False, False, False, False, False, False, False, False,\n",
       "                    False, False, False, False, False, False, False, False,\n",
       "                    False, False, False, False, False, False, False, False,\n",
       "                    False, False, False, False, False, False, False, False,\n",
       "                    False, False, False, False, False, False, False, False,\n",
       "                    False, False, False, False, False, False, False, False,\n",
       "                    False, False, False, False, False, False, False, False,\n",
       "                    False, False, False, False, False, False, False, False,\n",
       "                    False, False, False, False, False, False, False, False,\n",
       "                    False, False, False, False, False, False, False, False,\n",
       "                    False, False, False, False, False, False, False, False,\n",
       "                    False, False, False, False, False, False, False, False,\n",
       "                    False, False, False, False, False, False, False, False,\n",
       "                    False, False, False, False, False, False, False, False,\n",
       "                    False, False, False, False, False, False, False, False,\n",
       "                    False, False, False, False, False, False, False, False,\n",
       "                    False, False, False, False, False, False, False, False,\n",
       "                    False, False, False, False, False, False, False, False,\n",
       "                    False, False, False, False],\n",
       "        fill_value='?',\n",
       "             dtype=object),\n",
       " 'params': [{'ccp_alpha': 0, 'max_leaf_nodes': 5, 'min_impurity_split': 0},\n",
       "  {'ccp_alpha': 0, 'max_leaf_nodes': 5, 'min_impurity_split': 0.1},\n",
       "  {'ccp_alpha': 0, 'max_leaf_nodes': 5, 'min_impurity_split': 0.2},\n",
       "  {'ccp_alpha': 0, 'max_leaf_nodes': 5, 'min_impurity_split': 0.3},\n",
       "  {'ccp_alpha': 0, 'max_leaf_nodes': 5, 'min_impurity_split': 0.4},\n",
       "  {'ccp_alpha': 0, 'max_leaf_nodes': 5, 'min_impurity_split': 0.5},\n",
       "  {'ccp_alpha': 0, 'max_leaf_nodes': 10, 'min_impurity_split': 0},\n",
       "  {'ccp_alpha': 0, 'max_leaf_nodes': 10, 'min_impurity_split': 0.1},\n",
       "  {'ccp_alpha': 0, 'max_leaf_nodes': 10, 'min_impurity_split': 0.2},\n",
       "  {'ccp_alpha': 0, 'max_leaf_nodes': 10, 'min_impurity_split': 0.3},\n",
       "  {'ccp_alpha': 0, 'max_leaf_nodes': 10, 'min_impurity_split': 0.4},\n",
       "  {'ccp_alpha': 0, 'max_leaf_nodes': 10, 'min_impurity_split': 0.5},\n",
       "  {'ccp_alpha': 0, 'max_leaf_nodes': 15, 'min_impurity_split': 0},\n",
       "  {'ccp_alpha': 0, 'max_leaf_nodes': 15, 'min_impurity_split': 0.1},\n",
       "  {'ccp_alpha': 0, 'max_leaf_nodes': 15, 'min_impurity_split': 0.2},\n",
       "  {'ccp_alpha': 0, 'max_leaf_nodes': 15, 'min_impurity_split': 0.3},\n",
       "  {'ccp_alpha': 0, 'max_leaf_nodes': 15, 'min_impurity_split': 0.4},\n",
       "  {'ccp_alpha': 0, 'max_leaf_nodes': 15, 'min_impurity_split': 0.5},\n",
       "  {'ccp_alpha': 0, 'max_leaf_nodes': 25, 'min_impurity_split': 0},\n",
       "  {'ccp_alpha': 0, 'max_leaf_nodes': 25, 'min_impurity_split': 0.1},\n",
       "  {'ccp_alpha': 0, 'max_leaf_nodes': 25, 'min_impurity_split': 0.2},\n",
       "  {'ccp_alpha': 0, 'max_leaf_nodes': 25, 'min_impurity_split': 0.3},\n",
       "  {'ccp_alpha': 0, 'max_leaf_nodes': 25, 'min_impurity_split': 0.4},\n",
       "  {'ccp_alpha': 0, 'max_leaf_nodes': 25, 'min_impurity_split': 0.5},\n",
       "  {'ccp_alpha': 0, 'max_leaf_nodes': 100, 'min_impurity_split': 0},\n",
       "  {'ccp_alpha': 0, 'max_leaf_nodes': 100, 'min_impurity_split': 0.1},\n",
       "  {'ccp_alpha': 0, 'max_leaf_nodes': 100, 'min_impurity_split': 0.2},\n",
       "  {'ccp_alpha': 0, 'max_leaf_nodes': 100, 'min_impurity_split': 0.3},\n",
       "  {'ccp_alpha': 0, 'max_leaf_nodes': 100, 'min_impurity_split': 0.4},\n",
       "  {'ccp_alpha': 0, 'max_leaf_nodes': 100, 'min_impurity_split': 0.5},\n",
       "  {'ccp_alpha': 0.01, 'max_leaf_nodes': 5, 'min_impurity_split': 0},\n",
       "  {'ccp_alpha': 0.01, 'max_leaf_nodes': 5, 'min_impurity_split': 0.1},\n",
       "  {'ccp_alpha': 0.01, 'max_leaf_nodes': 5, 'min_impurity_split': 0.2},\n",
       "  {'ccp_alpha': 0.01, 'max_leaf_nodes': 5, 'min_impurity_split': 0.3},\n",
       "  {'ccp_alpha': 0.01, 'max_leaf_nodes': 5, 'min_impurity_split': 0.4},\n",
       "  {'ccp_alpha': 0.01, 'max_leaf_nodes': 5, 'min_impurity_split': 0.5},\n",
       "  {'ccp_alpha': 0.01, 'max_leaf_nodes': 10, 'min_impurity_split': 0},\n",
       "  {'ccp_alpha': 0.01, 'max_leaf_nodes': 10, 'min_impurity_split': 0.1},\n",
       "  {'ccp_alpha': 0.01, 'max_leaf_nodes': 10, 'min_impurity_split': 0.2},\n",
       "  {'ccp_alpha': 0.01, 'max_leaf_nodes': 10, 'min_impurity_split': 0.3},\n",
       "  {'ccp_alpha': 0.01, 'max_leaf_nodes': 10, 'min_impurity_split': 0.4},\n",
       "  {'ccp_alpha': 0.01, 'max_leaf_nodes': 10, 'min_impurity_split': 0.5},\n",
       "  {'ccp_alpha': 0.01, 'max_leaf_nodes': 15, 'min_impurity_split': 0},\n",
       "  {'ccp_alpha': 0.01, 'max_leaf_nodes': 15, 'min_impurity_split': 0.1},\n",
       "  {'ccp_alpha': 0.01, 'max_leaf_nodes': 15, 'min_impurity_split': 0.2},\n",
       "  {'ccp_alpha': 0.01, 'max_leaf_nodes': 15, 'min_impurity_split': 0.3},\n",
       "  {'ccp_alpha': 0.01, 'max_leaf_nodes': 15, 'min_impurity_split': 0.4},\n",
       "  {'ccp_alpha': 0.01, 'max_leaf_nodes': 15, 'min_impurity_split': 0.5},\n",
       "  {'ccp_alpha': 0.01, 'max_leaf_nodes': 25, 'min_impurity_split': 0},\n",
       "  {'ccp_alpha': 0.01, 'max_leaf_nodes': 25, 'min_impurity_split': 0.1},\n",
       "  {'ccp_alpha': 0.01, 'max_leaf_nodes': 25, 'min_impurity_split': 0.2},\n",
       "  {'ccp_alpha': 0.01, 'max_leaf_nodes': 25, 'min_impurity_split': 0.3},\n",
       "  {'ccp_alpha': 0.01, 'max_leaf_nodes': 25, 'min_impurity_split': 0.4},\n",
       "  {'ccp_alpha': 0.01, 'max_leaf_nodes': 25, 'min_impurity_split': 0.5},\n",
       "  {'ccp_alpha': 0.01, 'max_leaf_nodes': 100, 'min_impurity_split': 0},\n",
       "  {'ccp_alpha': 0.01, 'max_leaf_nodes': 100, 'min_impurity_split': 0.1},\n",
       "  {'ccp_alpha': 0.01, 'max_leaf_nodes': 100, 'min_impurity_split': 0.2},\n",
       "  {'ccp_alpha': 0.01, 'max_leaf_nodes': 100, 'min_impurity_split': 0.3},\n",
       "  {'ccp_alpha': 0.01, 'max_leaf_nodes': 100, 'min_impurity_split': 0.4},\n",
       "  {'ccp_alpha': 0.01, 'max_leaf_nodes': 100, 'min_impurity_split': 0.5},\n",
       "  {'ccp_alpha': 0.1, 'max_leaf_nodes': 5, 'min_impurity_split': 0},\n",
       "  {'ccp_alpha': 0.1, 'max_leaf_nodes': 5, 'min_impurity_split': 0.1},\n",
       "  {'ccp_alpha': 0.1, 'max_leaf_nodes': 5, 'min_impurity_split': 0.2},\n",
       "  {'ccp_alpha': 0.1, 'max_leaf_nodes': 5, 'min_impurity_split': 0.3},\n",
       "  {'ccp_alpha': 0.1, 'max_leaf_nodes': 5, 'min_impurity_split': 0.4},\n",
       "  {'ccp_alpha': 0.1, 'max_leaf_nodes': 5, 'min_impurity_split': 0.5},\n",
       "  {'ccp_alpha': 0.1, 'max_leaf_nodes': 10, 'min_impurity_split': 0},\n",
       "  {'ccp_alpha': 0.1, 'max_leaf_nodes': 10, 'min_impurity_split': 0.1},\n",
       "  {'ccp_alpha': 0.1, 'max_leaf_nodes': 10, 'min_impurity_split': 0.2},\n",
       "  {'ccp_alpha': 0.1, 'max_leaf_nodes': 10, 'min_impurity_split': 0.3},\n",
       "  {'ccp_alpha': 0.1, 'max_leaf_nodes': 10, 'min_impurity_split': 0.4},\n",
       "  {'ccp_alpha': 0.1, 'max_leaf_nodes': 10, 'min_impurity_split': 0.5},\n",
       "  {'ccp_alpha': 0.1, 'max_leaf_nodes': 15, 'min_impurity_split': 0},\n",
       "  {'ccp_alpha': 0.1, 'max_leaf_nodes': 15, 'min_impurity_split': 0.1},\n",
       "  {'ccp_alpha': 0.1, 'max_leaf_nodes': 15, 'min_impurity_split': 0.2},\n",
       "  {'ccp_alpha': 0.1, 'max_leaf_nodes': 15, 'min_impurity_split': 0.3},\n",
       "  {'ccp_alpha': 0.1, 'max_leaf_nodes': 15, 'min_impurity_split': 0.4},\n",
       "  {'ccp_alpha': 0.1, 'max_leaf_nodes': 15, 'min_impurity_split': 0.5},\n",
       "  {'ccp_alpha': 0.1, 'max_leaf_nodes': 25, 'min_impurity_split': 0},\n",
       "  {'ccp_alpha': 0.1, 'max_leaf_nodes': 25, 'min_impurity_split': 0.1},\n",
       "  {'ccp_alpha': 0.1, 'max_leaf_nodes': 25, 'min_impurity_split': 0.2},\n",
       "  {'ccp_alpha': 0.1, 'max_leaf_nodes': 25, 'min_impurity_split': 0.3},\n",
       "  {'ccp_alpha': 0.1, 'max_leaf_nodes': 25, 'min_impurity_split': 0.4},\n",
       "  {'ccp_alpha': 0.1, 'max_leaf_nodes': 25, 'min_impurity_split': 0.5},\n",
       "  {'ccp_alpha': 0.1, 'max_leaf_nodes': 100, 'min_impurity_split': 0},\n",
       "  {'ccp_alpha': 0.1, 'max_leaf_nodes': 100, 'min_impurity_split': 0.1},\n",
       "  {'ccp_alpha': 0.1, 'max_leaf_nodes': 100, 'min_impurity_split': 0.2},\n",
       "  {'ccp_alpha': 0.1, 'max_leaf_nodes': 100, 'min_impurity_split': 0.3},\n",
       "  {'ccp_alpha': 0.1, 'max_leaf_nodes': 100, 'min_impurity_split': 0.4},\n",
       "  {'ccp_alpha': 0.1, 'max_leaf_nodes': 100, 'min_impurity_split': 0.5},\n",
       "  {'ccp_alpha': 1, 'max_leaf_nodes': 5, 'min_impurity_split': 0},\n",
       "  {'ccp_alpha': 1, 'max_leaf_nodes': 5, 'min_impurity_split': 0.1},\n",
       "  {'ccp_alpha': 1, 'max_leaf_nodes': 5, 'min_impurity_split': 0.2},\n",
       "  {'ccp_alpha': 1, 'max_leaf_nodes': 5, 'min_impurity_split': 0.3},\n",
       "  {'ccp_alpha': 1, 'max_leaf_nodes': 5, 'min_impurity_split': 0.4},\n",
       "  {'ccp_alpha': 1, 'max_leaf_nodes': 5, 'min_impurity_split': 0.5},\n",
       "  {'ccp_alpha': 1, 'max_leaf_nodes': 10, 'min_impurity_split': 0},\n",
       "  {'ccp_alpha': 1, 'max_leaf_nodes': 10, 'min_impurity_split': 0.1},\n",
       "  {'ccp_alpha': 1, 'max_leaf_nodes': 10, 'min_impurity_split': 0.2},\n",
       "  {'ccp_alpha': 1, 'max_leaf_nodes': 10, 'min_impurity_split': 0.3},\n",
       "  {'ccp_alpha': 1, 'max_leaf_nodes': 10, 'min_impurity_split': 0.4},\n",
       "  {'ccp_alpha': 1, 'max_leaf_nodes': 10, 'min_impurity_split': 0.5},\n",
       "  {'ccp_alpha': 1, 'max_leaf_nodes': 15, 'min_impurity_split': 0},\n",
       "  {'ccp_alpha': 1, 'max_leaf_nodes': 15, 'min_impurity_split': 0.1},\n",
       "  {'ccp_alpha': 1, 'max_leaf_nodes': 15, 'min_impurity_split': 0.2},\n",
       "  {'ccp_alpha': 1, 'max_leaf_nodes': 15, 'min_impurity_split': 0.3},\n",
       "  {'ccp_alpha': 1, 'max_leaf_nodes': 15, 'min_impurity_split': 0.4},\n",
       "  {'ccp_alpha': 1, 'max_leaf_nodes': 15, 'min_impurity_split': 0.5},\n",
       "  {'ccp_alpha': 1, 'max_leaf_nodes': 25, 'min_impurity_split': 0},\n",
       "  {'ccp_alpha': 1, 'max_leaf_nodes': 25, 'min_impurity_split': 0.1},\n",
       "  {'ccp_alpha': 1, 'max_leaf_nodes': 25, 'min_impurity_split': 0.2},\n",
       "  {'ccp_alpha': 1, 'max_leaf_nodes': 25, 'min_impurity_split': 0.3},\n",
       "  {'ccp_alpha': 1, 'max_leaf_nodes': 25, 'min_impurity_split': 0.4},\n",
       "  {'ccp_alpha': 1, 'max_leaf_nodes': 25, 'min_impurity_split': 0.5},\n",
       "  {'ccp_alpha': 1, 'max_leaf_nodes': 100, 'min_impurity_split': 0},\n",
       "  {'ccp_alpha': 1, 'max_leaf_nodes': 100, 'min_impurity_split': 0.1},\n",
       "  {'ccp_alpha': 1, 'max_leaf_nodes': 100, 'min_impurity_split': 0.2},\n",
       "  {'ccp_alpha': 1, 'max_leaf_nodes': 100, 'min_impurity_split': 0.3},\n",
       "  {'ccp_alpha': 1, 'max_leaf_nodes': 100, 'min_impurity_split': 0.4},\n",
       "  {'ccp_alpha': 1, 'max_leaf_nodes': 100, 'min_impurity_split': 0.5},\n",
       "  {'ccp_alpha': 10, 'max_leaf_nodes': 5, 'min_impurity_split': 0},\n",
       "  {'ccp_alpha': 10, 'max_leaf_nodes': 5, 'min_impurity_split': 0.1},\n",
       "  {'ccp_alpha': 10, 'max_leaf_nodes': 5, 'min_impurity_split': 0.2},\n",
       "  {'ccp_alpha': 10, 'max_leaf_nodes': 5, 'min_impurity_split': 0.3},\n",
       "  {'ccp_alpha': 10, 'max_leaf_nodes': 5, 'min_impurity_split': 0.4},\n",
       "  {'ccp_alpha': 10, 'max_leaf_nodes': 5, 'min_impurity_split': 0.5},\n",
       "  {'ccp_alpha': 10, 'max_leaf_nodes': 10, 'min_impurity_split': 0},\n",
       "  {'ccp_alpha': 10, 'max_leaf_nodes': 10, 'min_impurity_split': 0.1},\n",
       "  {'ccp_alpha': 10, 'max_leaf_nodes': 10, 'min_impurity_split': 0.2},\n",
       "  {'ccp_alpha': 10, 'max_leaf_nodes': 10, 'min_impurity_split': 0.3},\n",
       "  {'ccp_alpha': 10, 'max_leaf_nodes': 10, 'min_impurity_split': 0.4},\n",
       "  {'ccp_alpha': 10, 'max_leaf_nodes': 10, 'min_impurity_split': 0.5},\n",
       "  {'ccp_alpha': 10, 'max_leaf_nodes': 15, 'min_impurity_split': 0},\n",
       "  {'ccp_alpha': 10, 'max_leaf_nodes': 15, 'min_impurity_split': 0.1},\n",
       "  {'ccp_alpha': 10, 'max_leaf_nodes': 15, 'min_impurity_split': 0.2},\n",
       "  {'ccp_alpha': 10, 'max_leaf_nodes': 15, 'min_impurity_split': 0.3},\n",
       "  {'ccp_alpha': 10, 'max_leaf_nodes': 15, 'min_impurity_split': 0.4},\n",
       "  {'ccp_alpha': 10, 'max_leaf_nodes': 15, 'min_impurity_split': 0.5},\n",
       "  {'ccp_alpha': 10, 'max_leaf_nodes': 25, 'min_impurity_split': 0},\n",
       "  {'ccp_alpha': 10, 'max_leaf_nodes': 25, 'min_impurity_split': 0.1},\n",
       "  {'ccp_alpha': 10, 'max_leaf_nodes': 25, 'min_impurity_split': 0.2},\n",
       "  {'ccp_alpha': 10, 'max_leaf_nodes': 25, 'min_impurity_split': 0.3},\n",
       "  {'ccp_alpha': 10, 'max_leaf_nodes': 25, 'min_impurity_split': 0.4},\n",
       "  {'ccp_alpha': 10, 'max_leaf_nodes': 25, 'min_impurity_split': 0.5},\n",
       "  {'ccp_alpha': 10, 'max_leaf_nodes': 100, 'min_impurity_split': 0},\n",
       "  {'ccp_alpha': 10, 'max_leaf_nodes': 100, 'min_impurity_split': 0.1},\n",
       "  {'ccp_alpha': 10, 'max_leaf_nodes': 100, 'min_impurity_split': 0.2},\n",
       "  {'ccp_alpha': 10, 'max_leaf_nodes': 100, 'min_impurity_split': 0.3},\n",
       "  {'ccp_alpha': 10, 'max_leaf_nodes': 100, 'min_impurity_split': 0.4},\n",
       "  {'ccp_alpha': 10, 'max_leaf_nodes': 100, 'min_impurity_split': 0.5},\n",
       "  {'ccp_alpha': 100, 'max_leaf_nodes': 5, 'min_impurity_split': 0},\n",
       "  {'ccp_alpha': 100, 'max_leaf_nodes': 5, 'min_impurity_split': 0.1},\n",
       "  {'ccp_alpha': 100, 'max_leaf_nodes': 5, 'min_impurity_split': 0.2},\n",
       "  {'ccp_alpha': 100, 'max_leaf_nodes': 5, 'min_impurity_split': 0.3},\n",
       "  {'ccp_alpha': 100, 'max_leaf_nodes': 5, 'min_impurity_split': 0.4},\n",
       "  {'ccp_alpha': 100, 'max_leaf_nodes': 5, 'min_impurity_split': 0.5},\n",
       "  {'ccp_alpha': 100, 'max_leaf_nodes': 10, 'min_impurity_split': 0},\n",
       "  {'ccp_alpha': 100, 'max_leaf_nodes': 10, 'min_impurity_split': 0.1},\n",
       "  {'ccp_alpha': 100, 'max_leaf_nodes': 10, 'min_impurity_split': 0.2},\n",
       "  {'ccp_alpha': 100, 'max_leaf_nodes': 10, 'min_impurity_split': 0.3},\n",
       "  {'ccp_alpha': 100, 'max_leaf_nodes': 10, 'min_impurity_split': 0.4},\n",
       "  {'ccp_alpha': 100, 'max_leaf_nodes': 10, 'min_impurity_split': 0.5},\n",
       "  {'ccp_alpha': 100, 'max_leaf_nodes': 15, 'min_impurity_split': 0},\n",
       "  {'ccp_alpha': 100, 'max_leaf_nodes': 15, 'min_impurity_split': 0.1},\n",
       "  {'ccp_alpha': 100, 'max_leaf_nodes': 15, 'min_impurity_split': 0.2},\n",
       "  {'ccp_alpha': 100, 'max_leaf_nodes': 15, 'min_impurity_split': 0.3},\n",
       "  {'ccp_alpha': 100, 'max_leaf_nodes': 15, 'min_impurity_split': 0.4},\n",
       "  {'ccp_alpha': 100, 'max_leaf_nodes': 15, 'min_impurity_split': 0.5},\n",
       "  {'ccp_alpha': 100, 'max_leaf_nodes': 25, 'min_impurity_split': 0},\n",
       "  {'ccp_alpha': 100, 'max_leaf_nodes': 25, 'min_impurity_split': 0.1},\n",
       "  {'ccp_alpha': 100, 'max_leaf_nodes': 25, 'min_impurity_split': 0.2},\n",
       "  {'ccp_alpha': 100, 'max_leaf_nodes': 25, 'min_impurity_split': 0.3},\n",
       "  {'ccp_alpha': 100, 'max_leaf_nodes': 25, 'min_impurity_split': 0.4},\n",
       "  {'ccp_alpha': 100, 'max_leaf_nodes': 25, 'min_impurity_split': 0.5},\n",
       "  {'ccp_alpha': 100, 'max_leaf_nodes': 100, 'min_impurity_split': 0},\n",
       "  {'ccp_alpha': 100, 'max_leaf_nodes': 100, 'min_impurity_split': 0.1},\n",
       "  {'ccp_alpha': 100, 'max_leaf_nodes': 100, 'min_impurity_split': 0.2},\n",
       "  {'ccp_alpha': 100, 'max_leaf_nodes': 100, 'min_impurity_split': 0.3},\n",
       "  {'ccp_alpha': 100, 'max_leaf_nodes': 100, 'min_impurity_split': 0.4},\n",
       "  {'ccp_alpha': 100, 'max_leaf_nodes': 100, 'min_impurity_split': 0.5}],\n",
       " 'split0_test_score': array([0.8607155 , 0.8607155 , 0.84193916, 0.83307033, 0.78676867,\n",
       "        0.78676867, 0.88236822, 0.86213371, 0.84413639, 0.83410902,\n",
       "        0.78676867, 0.78676867, 0.88378643, 0.86329225, 0.84517508,\n",
       "        0.83406907, 0.78676867, 0.78676867, 0.88570401, 0.86387152,\n",
       "        0.84543475, 0.834129  , 0.78676867, 0.78676867, 0.88542437,\n",
       "        0.8639714 , 0.8455546 , 0.83446857, 0.78676867, 0.78676867,\n",
       "        0.8607155 , 0.8607155 , 0.84193916, 0.83283063, 0.78676867,\n",
       "        0.78676867, 0.87799373, 0.8607155 , 0.84193916, 0.83283063,\n",
       "        0.78676867, 0.78676867, 0.87799373, 0.8607155 , 0.84193916,\n",
       "        0.83283063, 0.78676867, 0.78676867, 0.87799373, 0.8607155 ,\n",
       "        0.84193916, 0.83283063, 0.78676867, 0.78676867, 0.87799373,\n",
       "        0.8607155 , 0.84193916, 0.83283063, 0.78676867, 0.78676867,\n",
       "        0.83283063, 0.83283063, 0.83283063, 0.83283063, 0.78676867,\n",
       "        0.78676867, 0.83283063, 0.83283063, 0.83283063, 0.83283063,\n",
       "        0.78676867, 0.78676867, 0.83283063, 0.83283063, 0.83283063,\n",
       "        0.83283063, 0.78676867, 0.78676867, 0.83283063, 0.83283063,\n",
       "        0.83283063, 0.83283063, 0.78676867, 0.78676867, 0.83283063,\n",
       "        0.83283063, 0.83283063, 0.83283063, 0.78676867, 0.78676867,\n",
       "        0.78676867, 0.78676867, 0.78676867, 0.78676867, 0.78676867,\n",
       "        0.78676867, 0.78676867, 0.78676867, 0.78676867, 0.78676867,\n",
       "        0.78676867, 0.78676867, 0.78676867, 0.78676867, 0.78676867,\n",
       "        0.78676867, 0.78676867, 0.78676867, 0.78676867, 0.78676867,\n",
       "        0.78676867, 0.78676867, 0.78676867, 0.78676867, 0.78676867,\n",
       "        0.78676867, 0.78676867, 0.78676867, 0.78676867, 0.78676867,\n",
       "        0.78676867, 0.78676867, 0.78676867, 0.78676867, 0.78676867,\n",
       "        0.78676867, 0.78676867, 0.78676867, 0.78676867, 0.78676867,\n",
       "        0.78676867, 0.78676867, 0.78676867, 0.78676867, 0.78676867,\n",
       "        0.78676867, 0.78676867, 0.78676867, 0.78676867, 0.78676867,\n",
       "        0.78676867, 0.78676867, 0.78676867, 0.78676867, 0.78676867,\n",
       "        0.78676867, 0.78676867, 0.78676867, 0.78676867, 0.78676867,\n",
       "        0.78676867, 0.78676867, 0.78676867, 0.78676867, 0.78676867,\n",
       "        0.78676867, 0.78676867, 0.78676867, 0.78676867, 0.78676867,\n",
       "        0.78676867, 0.78676867, 0.78676867, 0.78676867, 0.78676867,\n",
       "        0.78676867, 0.78676867, 0.78676867, 0.78676867, 0.78676867,\n",
       "        0.78676867, 0.78676867, 0.78676867, 0.78676867, 0.78676867,\n",
       "        0.78676867, 0.78676867, 0.78676867, 0.78676867, 0.78676867]),\n",
       " 'split1_test_score': array([0.86195394, 0.86195394, 0.84159958, 0.83239119, 0.78676867,\n",
       "        0.78676867, 0.88236822, 0.86417114, 0.84395661, 0.83289056,\n",
       "        0.78676867, 0.78676867, 0.88458542, 0.86431097, 0.84367697,\n",
       "        0.83305036, 0.78676867, 0.78676867, 0.8844456 , 0.8638915 ,\n",
       "        0.84411641, 0.83317021, 0.78676867, 0.78676867, 0.88514472,\n",
       "        0.86433094, 0.84395661, 0.83259094, 0.78676867, 0.78676867,\n",
       "        0.86195394, 0.86195394, 0.84159958, 0.83243114, 0.78676867,\n",
       "        0.78676867, 0.87831333, 0.86195394, 0.84159958, 0.83243114,\n",
       "        0.78676867, 0.78676867, 0.87831333, 0.86195394, 0.84159958,\n",
       "        0.83243114, 0.78676867, 0.78676867, 0.87831333, 0.86195394,\n",
       "        0.84159958, 0.83243114, 0.78676867, 0.78676867, 0.87831333,\n",
       "        0.86195394, 0.84159958, 0.83243114, 0.78676867, 0.78676867,\n",
       "        0.83243114, 0.83243114, 0.83243114, 0.83243114, 0.78676867,\n",
       "        0.78676867, 0.83243114, 0.83243114, 0.83243114, 0.83243114,\n",
       "        0.78676867, 0.78676867, 0.83243114, 0.83243114, 0.83243114,\n",
       "        0.83243114, 0.78676867, 0.78676867, 0.83243114, 0.83243114,\n",
       "        0.83243114, 0.83243114, 0.78676867, 0.78676867, 0.83243114,\n",
       "        0.83243114, 0.83243114, 0.83243114, 0.78676867, 0.78676867,\n",
       "        0.78676867, 0.78676867, 0.78676867, 0.78676867, 0.78676867,\n",
       "        0.78676867, 0.78676867, 0.78676867, 0.78676867, 0.78676867,\n",
       "        0.78676867, 0.78676867, 0.78676867, 0.78676867, 0.78676867,\n",
       "        0.78676867, 0.78676867, 0.78676867, 0.78676867, 0.78676867,\n",
       "        0.78676867, 0.78676867, 0.78676867, 0.78676867, 0.78676867,\n",
       "        0.78676867, 0.78676867, 0.78676867, 0.78676867, 0.78676867,\n",
       "        0.78676867, 0.78676867, 0.78676867, 0.78676867, 0.78676867,\n",
       "        0.78676867, 0.78676867, 0.78676867, 0.78676867, 0.78676867,\n",
       "        0.78676867, 0.78676867, 0.78676867, 0.78676867, 0.78676867,\n",
       "        0.78676867, 0.78676867, 0.78676867, 0.78676867, 0.78676867,\n",
       "        0.78676867, 0.78676867, 0.78676867, 0.78676867, 0.78676867,\n",
       "        0.78676867, 0.78676867, 0.78676867, 0.78676867, 0.78676867,\n",
       "        0.78676867, 0.78676867, 0.78676867, 0.78676867, 0.78676867,\n",
       "        0.78676867, 0.78676867, 0.78676867, 0.78676867, 0.78676867,\n",
       "        0.78676867, 0.78676867, 0.78676867, 0.78676867, 0.78676867,\n",
       "        0.78676867, 0.78676867, 0.78676867, 0.78676867, 0.78676867,\n",
       "        0.78676867, 0.78676867, 0.78676867, 0.78676867, 0.78676867,\n",
       "        0.78676867, 0.78676867, 0.78676867, 0.78676867, 0.78676867]),\n",
       " 'split2_test_score': array([0.85945428, 0.85945428, 0.84077744, 0.83244776, 0.78678439,\n",
       "        0.78678439, 0.8812073 , 0.8618513 , 0.84375375, 0.83302705,\n",
       "        0.78678439, 0.78678439, 0.88360433, 0.86298989, 0.8444329 ,\n",
       "        0.83302705, 0.78678439, 0.78678439, 0.88486277, 0.86300987,\n",
       "        0.84433303, 0.83242779, 0.78678439, 0.78678439, 0.88438336,\n",
       "        0.86251049, 0.84413327, 0.83256762, 0.78678439, 0.78678439,\n",
       "        0.85945428, 0.85945428, 0.84077744, 0.83206824, 0.78678439,\n",
       "        0.78678439, 0.8768527 , 0.85945428, 0.84077744, 0.83206824,\n",
       "        0.78678439, 0.78678439, 0.8768527 , 0.85945428, 0.84077744,\n",
       "        0.83206824, 0.78678439, 0.78678439, 0.8768527 , 0.85945428,\n",
       "        0.84077744, 0.83206824, 0.78678439, 0.78678439, 0.8768527 ,\n",
       "        0.85945428, 0.84077744, 0.83206824, 0.78678439, 0.78678439,\n",
       "        0.83206824, 0.83206824, 0.83206824, 0.83206824, 0.78678439,\n",
       "        0.78678439, 0.83206824, 0.83206824, 0.83206824, 0.83206824,\n",
       "        0.78678439, 0.78678439, 0.83206824, 0.83206824, 0.83206824,\n",
       "        0.83206824, 0.78678439, 0.78678439, 0.83206824, 0.83206824,\n",
       "        0.83206824, 0.83206824, 0.78678439, 0.78678439, 0.83206824,\n",
       "        0.83206824, 0.83206824, 0.83206824, 0.78678439, 0.78678439,\n",
       "        0.78678439, 0.78678439, 0.78678439, 0.78678439, 0.78678439,\n",
       "        0.78678439, 0.78678439, 0.78678439, 0.78678439, 0.78678439,\n",
       "        0.78678439, 0.78678439, 0.78678439, 0.78678439, 0.78678439,\n",
       "        0.78678439, 0.78678439, 0.78678439, 0.78678439, 0.78678439,\n",
       "        0.78678439, 0.78678439, 0.78678439, 0.78678439, 0.78678439,\n",
       "        0.78678439, 0.78678439, 0.78678439, 0.78678439, 0.78678439,\n",
       "        0.78678439, 0.78678439, 0.78678439, 0.78678439, 0.78678439,\n",
       "        0.78678439, 0.78678439, 0.78678439, 0.78678439, 0.78678439,\n",
       "        0.78678439, 0.78678439, 0.78678439, 0.78678439, 0.78678439,\n",
       "        0.78678439, 0.78678439, 0.78678439, 0.78678439, 0.78678439,\n",
       "        0.78678439, 0.78678439, 0.78678439, 0.78678439, 0.78678439,\n",
       "        0.78678439, 0.78678439, 0.78678439, 0.78678439, 0.78678439,\n",
       "        0.78678439, 0.78678439, 0.78678439, 0.78678439, 0.78678439,\n",
       "        0.78678439, 0.78678439, 0.78678439, 0.78678439, 0.78678439,\n",
       "        0.78678439, 0.78678439, 0.78678439, 0.78678439, 0.78678439,\n",
       "        0.78678439, 0.78678439, 0.78678439, 0.78678439, 0.78678439,\n",
       "        0.78678439, 0.78678439, 0.78678439, 0.78678439, 0.78678439,\n",
       "        0.78678439, 0.78678439, 0.78678439, 0.78678439, 0.78678439]),\n",
       " 'split3_test_score': array([0.8616915 , 0.8616915 , 0.84151652, 0.83254764, 0.78676441,\n",
       "        0.78676441, 0.88248572, 0.86408853, 0.84491231, 0.83350645,\n",
       "        0.78676441, 0.78676441, 0.88488275, 0.86508729, 0.84503216,\n",
       "        0.83352643, 0.78676441, 0.78676441, 0.88610123, 0.86520714,\n",
       "        0.84507211, 0.83288722, 0.78676441, 0.78676441, 0.88494267,\n",
       "        0.86422836, 0.844353  , 0.83376613, 0.78676441, 0.78676441,\n",
       "        0.8616915 , 0.8616915 , 0.84151652, 0.83214814, 0.78676441,\n",
       "        0.78676441, 0.8784707 , 0.8616915 , 0.84151652, 0.83214814,\n",
       "        0.78676441, 0.78676441, 0.8784707 , 0.8616915 , 0.84151652,\n",
       "        0.83214814, 0.78676441, 0.78676441, 0.8784707 , 0.8616915 ,\n",
       "        0.84151652, 0.83214814, 0.78676441, 0.78676441, 0.8784707 ,\n",
       "        0.8616915 , 0.84151652, 0.83214814, 0.78676441, 0.78676441,\n",
       "        0.83214814, 0.83214814, 0.83214814, 0.83214814, 0.78676441,\n",
       "        0.78676441, 0.83214814, 0.83214814, 0.83214814, 0.83214814,\n",
       "        0.78676441, 0.78676441, 0.83214814, 0.83214814, 0.83214814,\n",
       "        0.83214814, 0.78676441, 0.78676441, 0.83214814, 0.83214814,\n",
       "        0.83214814, 0.83214814, 0.78676441, 0.78676441, 0.83214814,\n",
       "        0.83214814, 0.83214814, 0.83214814, 0.78676441, 0.78676441,\n",
       "        0.78676441, 0.78676441, 0.78676441, 0.78676441, 0.78676441,\n",
       "        0.78676441, 0.78676441, 0.78676441, 0.78676441, 0.78676441,\n",
       "        0.78676441, 0.78676441, 0.78676441, 0.78676441, 0.78676441,\n",
       "        0.78676441, 0.78676441, 0.78676441, 0.78676441, 0.78676441,\n",
       "        0.78676441, 0.78676441, 0.78676441, 0.78676441, 0.78676441,\n",
       "        0.78676441, 0.78676441, 0.78676441, 0.78676441, 0.78676441,\n",
       "        0.78676441, 0.78676441, 0.78676441, 0.78676441, 0.78676441,\n",
       "        0.78676441, 0.78676441, 0.78676441, 0.78676441, 0.78676441,\n",
       "        0.78676441, 0.78676441, 0.78676441, 0.78676441, 0.78676441,\n",
       "        0.78676441, 0.78676441, 0.78676441, 0.78676441, 0.78676441,\n",
       "        0.78676441, 0.78676441, 0.78676441, 0.78676441, 0.78676441,\n",
       "        0.78676441, 0.78676441, 0.78676441, 0.78676441, 0.78676441,\n",
       "        0.78676441, 0.78676441, 0.78676441, 0.78676441, 0.78676441,\n",
       "        0.78676441, 0.78676441, 0.78676441, 0.78676441, 0.78676441,\n",
       "        0.78676441, 0.78676441, 0.78676441, 0.78676441, 0.78676441,\n",
       "        0.78676441, 0.78676441, 0.78676441, 0.78676441, 0.78676441,\n",
       "        0.78676441, 0.78676441, 0.78676441, 0.78676441, 0.78676441,\n",
       "        0.78676441, 0.78676441, 0.78676441, 0.78676441, 0.78676441]),\n",
       " 'split4_test_score': array([0.8616915 , 0.8616915 , 0.84273501, 0.83316687, 0.78676441,\n",
       "        0.78676441, 0.88404379, 0.86392873, 0.84565139, 0.83336663,\n",
       "        0.78676441, 0.78676441, 0.88628101, 0.86460789, 0.84573129,\n",
       "        0.83364628, 0.78676441, 0.78676441, 0.88706005, 0.86444808,\n",
       "        0.84581119, 0.83366625, 0.78676441, 0.78676441, 0.88719987,\n",
       "        0.86510727, 0.8460509 , 0.83434541, 0.78676441, 0.78676441,\n",
       "        0.8616915 , 0.8616915 , 0.84273501, 0.83272742, 0.78676441,\n",
       "        0.78676441, 0.87407615, 0.8616915 , 0.84273501, 0.83272742,\n",
       "        0.78676441, 0.78676441, 0.87407615, 0.8616915 , 0.84273501,\n",
       "        0.83272742, 0.78676441, 0.78676441, 0.87407615, 0.8616915 ,\n",
       "        0.84273501, 0.83272742, 0.78676441, 0.78676441, 0.87407615,\n",
       "        0.8616915 , 0.84273501, 0.83272742, 0.78676441, 0.78676441,\n",
       "        0.83272742, 0.83272742, 0.83272742, 0.83272742, 0.78676441,\n",
       "        0.78676441, 0.83272742, 0.83272742, 0.83272742, 0.83272742,\n",
       "        0.78676441, 0.78676441, 0.83272742, 0.83272742, 0.83272742,\n",
       "        0.83272742, 0.78676441, 0.78676441, 0.83272742, 0.83272742,\n",
       "        0.83272742, 0.83272742, 0.78676441, 0.78676441, 0.83272742,\n",
       "        0.83272742, 0.83272742, 0.83272742, 0.78676441, 0.78676441,\n",
       "        0.78676441, 0.78676441, 0.78676441, 0.78676441, 0.78676441,\n",
       "        0.78676441, 0.78676441, 0.78676441, 0.78676441, 0.78676441,\n",
       "        0.78676441, 0.78676441, 0.78676441, 0.78676441, 0.78676441,\n",
       "        0.78676441, 0.78676441, 0.78676441, 0.78676441, 0.78676441,\n",
       "        0.78676441, 0.78676441, 0.78676441, 0.78676441, 0.78676441,\n",
       "        0.78676441, 0.78676441, 0.78676441, 0.78676441, 0.78676441,\n",
       "        0.78676441, 0.78676441, 0.78676441, 0.78676441, 0.78676441,\n",
       "        0.78676441, 0.78676441, 0.78676441, 0.78676441, 0.78676441,\n",
       "        0.78676441, 0.78676441, 0.78676441, 0.78676441, 0.78676441,\n",
       "        0.78676441, 0.78676441, 0.78676441, 0.78676441, 0.78676441,\n",
       "        0.78676441, 0.78676441, 0.78676441, 0.78676441, 0.78676441,\n",
       "        0.78676441, 0.78676441, 0.78676441, 0.78676441, 0.78676441,\n",
       "        0.78676441, 0.78676441, 0.78676441, 0.78676441, 0.78676441,\n",
       "        0.78676441, 0.78676441, 0.78676441, 0.78676441, 0.78676441,\n",
       "        0.78676441, 0.78676441, 0.78676441, 0.78676441, 0.78676441,\n",
       "        0.78676441, 0.78676441, 0.78676441, 0.78676441, 0.78676441,\n",
       "        0.78676441, 0.78676441, 0.78676441, 0.78676441, 0.78676441,\n",
       "        0.78676441, 0.78676441, 0.78676441, 0.78676441, 0.78676441]),\n",
       " 'mean_test_score': array([0.86110134, 0.86110134, 0.84171354, 0.83272476, 0.78677011,\n",
       "        0.78677011, 0.88249465, 0.86323468, 0.84448209, 0.83337994,\n",
       "        0.78677011, 0.78677011, 0.88462799, 0.86405766, 0.84480968,\n",
       "        0.83346384, 0.78677011, 0.78677011, 0.88563473, 0.86408562,\n",
       "        0.8449535 , 0.83325609, 0.78677011, 0.78677011, 0.885419  ,\n",
       "        0.86402969, 0.84480968, 0.83354773, 0.78677011, 0.78677011,\n",
       "        0.86110134, 0.86110134, 0.84171354, 0.83244111, 0.78677011,\n",
       "        0.78677011, 0.87714132, 0.86110134, 0.84171354, 0.83244111,\n",
       "        0.78677011, 0.78677011, 0.87714132, 0.86110134, 0.84171354,\n",
       "        0.83244111, 0.78677011, 0.78677011, 0.87714132, 0.86110134,\n",
       "        0.84171354, 0.83244111, 0.78677011, 0.78677011, 0.87714132,\n",
       "        0.86110134, 0.84171354, 0.83244111, 0.78677011, 0.78677011,\n",
       "        0.83244111, 0.83244111, 0.83244111, 0.83244111, 0.78677011,\n",
       "        0.78677011, 0.83244111, 0.83244111, 0.83244111, 0.83244111,\n",
       "        0.78677011, 0.78677011, 0.83244111, 0.83244111, 0.83244111,\n",
       "        0.83244111, 0.78677011, 0.78677011, 0.83244111, 0.83244111,\n",
       "        0.83244111, 0.83244111, 0.78677011, 0.78677011, 0.83244111,\n",
       "        0.83244111, 0.83244111, 0.83244111, 0.78677011, 0.78677011,\n",
       "        0.78677011, 0.78677011, 0.78677011, 0.78677011, 0.78677011,\n",
       "        0.78677011, 0.78677011, 0.78677011, 0.78677011, 0.78677011,\n",
       "        0.78677011, 0.78677011, 0.78677011, 0.78677011, 0.78677011,\n",
       "        0.78677011, 0.78677011, 0.78677011, 0.78677011, 0.78677011,\n",
       "        0.78677011, 0.78677011, 0.78677011, 0.78677011, 0.78677011,\n",
       "        0.78677011, 0.78677011, 0.78677011, 0.78677011, 0.78677011,\n",
       "        0.78677011, 0.78677011, 0.78677011, 0.78677011, 0.78677011,\n",
       "        0.78677011, 0.78677011, 0.78677011, 0.78677011, 0.78677011,\n",
       "        0.78677011, 0.78677011, 0.78677011, 0.78677011, 0.78677011,\n",
       "        0.78677011, 0.78677011, 0.78677011, 0.78677011, 0.78677011,\n",
       "        0.78677011, 0.78677011, 0.78677011, 0.78677011, 0.78677011,\n",
       "        0.78677011, 0.78677011, 0.78677011, 0.78677011, 0.78677011,\n",
       "        0.78677011, 0.78677011, 0.78677011, 0.78677011, 0.78677011,\n",
       "        0.78677011, 0.78677011, 0.78677011, 0.78677011, 0.78677011,\n",
       "        0.78677011, 0.78677011, 0.78677011, 0.78677011, 0.78677011,\n",
       "        0.78677011, 0.78677011, 0.78677011, 0.78677011, 0.78677011,\n",
       "        0.78677011, 0.78677011, 0.78677011, 0.78677011, 0.78677011,\n",
       "        0.78677011, 0.78677011, 0.78677011, 0.78677011, 0.78677011]),\n",
       " 'std_test_score': array([9.25764361e-04, 9.25764361e-04, 6.35986575e-04, 3.26879780e-04,\n",
       "        7.38800620e-06, 7.38800620e-06, 9.04337852e-04, 1.02113550e-03,\n",
       "        7.04056246e-04, 4.27029915e-04, 7.38800620e-06, 7.38800620e-06,\n",
       "        9.54494191e-04, 7.94107375e-04, 7.01054129e-04, 3.91219916e-04,\n",
       "        7.38800620e-06, 7.38800620e-06, 9.23461591e-04, 7.25252964e-04,\n",
       "        6.42963788e-04, 5.93249492e-04, 7.38800620e-06, 7.38800620e-06,\n",
       "        9.53540255e-04, 8.48854523e-04, 8.35383271e-04, 8.25593026e-04,\n",
       "        7.38800620e-06, 7.38800620e-06, 9.25764361e-04, 9.25764361e-04,\n",
       "        6.35986575e-04, 3.02875973e-04, 7.38800620e-06, 7.38800620e-06,\n",
       "        1.63377055e-03, 9.25764361e-04, 6.35986575e-04, 3.02875973e-04,\n",
       "        7.38800620e-06, 7.38800620e-06, 1.63377055e-03, 9.25764361e-04,\n",
       "        6.35986575e-04, 3.02875973e-04, 7.38800620e-06, 7.38800620e-06,\n",
       "        1.63377055e-03, 9.25764361e-04, 6.35986575e-04, 3.02875973e-04,\n",
       "        7.38800620e-06, 7.38800620e-06, 1.63377055e-03, 9.25764361e-04,\n",
       "        6.35986575e-04, 3.02875973e-04, 7.38800620e-06, 7.38800620e-06,\n",
       "        3.02875973e-04, 3.02875973e-04, 3.02875973e-04, 3.02875973e-04,\n",
       "        7.38800620e-06, 7.38800620e-06, 3.02875973e-04, 3.02875973e-04,\n",
       "        3.02875973e-04, 3.02875973e-04, 7.38800620e-06, 7.38800620e-06,\n",
       "        3.02875973e-04, 3.02875973e-04, 3.02875973e-04, 3.02875973e-04,\n",
       "        7.38800620e-06, 7.38800620e-06, 3.02875973e-04, 3.02875973e-04,\n",
       "        3.02875973e-04, 3.02875973e-04, 7.38800620e-06, 7.38800620e-06,\n",
       "        3.02875973e-04, 3.02875973e-04, 3.02875973e-04, 3.02875973e-04,\n",
       "        7.38800620e-06, 7.38800620e-06, 7.38800620e-06, 7.38800620e-06,\n",
       "        7.38800620e-06, 7.38800620e-06, 7.38800620e-06, 7.38800620e-06,\n",
       "        7.38800620e-06, 7.38800620e-06, 7.38800620e-06, 7.38800620e-06,\n",
       "        7.38800620e-06, 7.38800620e-06, 7.38800620e-06, 7.38800620e-06,\n",
       "        7.38800620e-06, 7.38800620e-06, 7.38800620e-06, 7.38800620e-06,\n",
       "        7.38800620e-06, 7.38800620e-06, 7.38800620e-06, 7.38800620e-06,\n",
       "        7.38800620e-06, 7.38800620e-06, 7.38800620e-06, 7.38800620e-06,\n",
       "        7.38800620e-06, 7.38800620e-06, 7.38800620e-06, 7.38800620e-06,\n",
       "        7.38800620e-06, 7.38800620e-06, 7.38800620e-06, 7.38800620e-06,\n",
       "        7.38800620e-06, 7.38800620e-06, 7.38800620e-06, 7.38800620e-06,\n",
       "        7.38800620e-06, 7.38800620e-06, 7.38800620e-06, 7.38800620e-06,\n",
       "        7.38800620e-06, 7.38800620e-06, 7.38800620e-06, 7.38800620e-06,\n",
       "        7.38800620e-06, 7.38800620e-06, 7.38800620e-06, 7.38800620e-06,\n",
       "        7.38800620e-06, 7.38800620e-06, 7.38800620e-06, 7.38800620e-06,\n",
       "        7.38800620e-06, 7.38800620e-06, 7.38800620e-06, 7.38800620e-06,\n",
       "        7.38800620e-06, 7.38800620e-06, 7.38800620e-06, 7.38800620e-06,\n",
       "        7.38800620e-06, 7.38800620e-06, 7.38800620e-06, 7.38800620e-06,\n",
       "        7.38800620e-06, 7.38800620e-06, 7.38800620e-06, 7.38800620e-06,\n",
       "        7.38800620e-06, 7.38800620e-06, 7.38800620e-06, 7.38800620e-06,\n",
       "        7.38800620e-06, 7.38800620e-06, 7.38800620e-06, 7.38800620e-06,\n",
       "        7.38800620e-06, 7.38800620e-06, 7.38800620e-06, 7.38800620e-06,\n",
       "        7.38800620e-06, 7.38800620e-06, 7.38800620e-06, 7.38800620e-06,\n",
       "        7.38800620e-06, 7.38800620e-06, 7.38800620e-06, 7.38800620e-06]),\n",
       " 'rank_test_score': array([13, 13, 25, 35, 61, 61,  4, 12, 24, 33, 61, 61,  3, 10, 22, 32, 61,\n",
       "        61,  1,  9, 21, 34, 61, 61,  2, 11, 23, 31, 61, 61, 13, 13, 25, 36,\n",
       "        61, 61,  5, 13, 25, 36, 61, 61,  5, 13, 25, 36, 61, 61,  5, 13, 25,\n",
       "        36, 61, 61,  5, 13, 25, 36, 61, 61, 36, 36, 36, 36, 61, 61, 36, 36,\n",
       "        36, 36, 61, 61, 36, 36, 36, 36, 61, 61, 36, 36, 36, 36, 61, 61, 36,\n",
       "        36, 36, 36, 61, 61, 61, 61, 61, 61, 61, 61, 61, 61, 61, 61, 61, 61,\n",
       "        61, 61, 61, 61, 61, 61, 61, 61, 61, 61, 61, 61, 61, 61, 61, 61, 61,\n",
       "        61, 61, 61, 61, 61, 61, 61, 61, 61, 61, 61, 61, 61, 61, 61, 61, 61,\n",
       "        61, 61, 61, 61, 61, 61, 61, 61, 61, 61, 61, 61, 61, 61, 61, 61, 61,\n",
       "        61, 61, 61, 61, 61, 61, 61, 61, 61, 61, 61, 61, 61, 61, 61, 61, 61,\n",
       "        61, 61, 61, 61, 61, 61, 61, 61, 61, 61], dtype=int32),\n",
       " 'split0_train_score': array([0.86119781, 0.86119781, 0.84165714, 0.83265834, 0.78677047,\n",
       "        0.78677047, 0.88252625, 0.86322029, 0.84422893, 0.83371702,\n",
       "        0.78677047, 0.78677047, 0.88454874, 0.86435887, 0.84536252,\n",
       "        0.83384187, 0.78677047, 0.78677047, 0.88632153, 0.86492317,\n",
       "        0.84568213, 0.83396172, 0.78677047, 0.78677047, 0.88755999,\n",
       "        0.8662615 , 0.84707539, 0.83520517, 0.78677047, 0.78677047,\n",
       "        0.86119781, 0.86119781, 0.84165714, 0.83234373, 0.78677047,\n",
       "        0.78677047, 0.87833148, 0.86119781, 0.84165714, 0.83234373,\n",
       "        0.78677047, 0.78677047, 0.87833148, 0.86119781, 0.84165714,\n",
       "        0.83234373, 0.78677047, 0.78677047, 0.87833148, 0.86119781,\n",
       "        0.84165714, 0.83234373, 0.78677047, 0.78677047, 0.87833148,\n",
       "        0.86119781, 0.84165714, 0.83234373, 0.78677047, 0.78677047,\n",
       "        0.83234373, 0.83234373, 0.83234373, 0.83234373, 0.78677047,\n",
       "        0.78677047, 0.83234373, 0.83234373, 0.83234373, 0.83234373,\n",
       "        0.78677047, 0.78677047, 0.83234373, 0.83234373, 0.83234373,\n",
       "        0.83234373, 0.78677047, 0.78677047, 0.83234373, 0.83234373,\n",
       "        0.83234373, 0.83234373, 0.78677047, 0.78677047, 0.83234373,\n",
       "        0.83234373, 0.83234373, 0.83234373, 0.78677047, 0.78677047,\n",
       "        0.78677047, 0.78677047, 0.78677047, 0.78677047, 0.78677047,\n",
       "        0.78677047, 0.78677047, 0.78677047, 0.78677047, 0.78677047,\n",
       "        0.78677047, 0.78677047, 0.78677047, 0.78677047, 0.78677047,\n",
       "        0.78677047, 0.78677047, 0.78677047, 0.78677047, 0.78677047,\n",
       "        0.78677047, 0.78677047, 0.78677047, 0.78677047, 0.78677047,\n",
       "        0.78677047, 0.78677047, 0.78677047, 0.78677047, 0.78677047,\n",
       "        0.78677047, 0.78677047, 0.78677047, 0.78677047, 0.78677047,\n",
       "        0.78677047, 0.78677047, 0.78677047, 0.78677047, 0.78677047,\n",
       "        0.78677047, 0.78677047, 0.78677047, 0.78677047, 0.78677047,\n",
       "        0.78677047, 0.78677047, 0.78677047, 0.78677047, 0.78677047,\n",
       "        0.78677047, 0.78677047, 0.78677047, 0.78677047, 0.78677047,\n",
       "        0.78677047, 0.78677047, 0.78677047, 0.78677047, 0.78677047,\n",
       "        0.78677047, 0.78677047, 0.78677047, 0.78677047, 0.78677047,\n",
       "        0.78677047, 0.78677047, 0.78677047, 0.78677047, 0.78677047,\n",
       "        0.78677047, 0.78677047, 0.78677047, 0.78677047, 0.78677047,\n",
       "        0.78677047, 0.78677047, 0.78677047, 0.78677047, 0.78677047,\n",
       "        0.78677047, 0.78677047, 0.78677047, 0.78677047, 0.78677047,\n",
       "        0.78677047, 0.78677047, 0.78677047, 0.78677047, 0.78677047]),\n",
       " 'split1_train_score': array([0.86088819, 0.86088819, 0.84174203, 0.83346234, 0.78677047,\n",
       "        0.78677047, 0.88252625, 0.86326024, 0.84499798, 0.83362214,\n",
       "        0.78677047, 0.78677047, 0.8848983 , 0.86414414, 0.84502295,\n",
       "        0.83412152, 0.78677047, 0.78677047, 0.88580717, 0.86456362,\n",
       "        0.84569711, 0.83433126, 0.78677047, 0.78677047, 0.88767984,\n",
       "        0.86622655, 0.84718525, 0.83560467, 0.78677047, 0.78677047,\n",
       "        0.86088819, 0.86088819, 0.84174203, 0.83244361, 0.78677047,\n",
       "        0.78677047, 0.87825158, 0.86088819, 0.84174203, 0.83244361,\n",
       "        0.78677047, 0.78677047, 0.87825158, 0.86088819, 0.84174203,\n",
       "        0.83244361, 0.78677047, 0.78677047, 0.87825158, 0.86088819,\n",
       "        0.84174203, 0.83244361, 0.78677047, 0.78677047, 0.87825158,\n",
       "        0.86088819, 0.84174203, 0.83244361, 0.78677047, 0.78677047,\n",
       "        0.83244361, 0.83244361, 0.83244361, 0.83244361, 0.78677047,\n",
       "        0.78677047, 0.83244361, 0.83244361, 0.83244361, 0.83244361,\n",
       "        0.78677047, 0.78677047, 0.83244361, 0.83244361, 0.83244361,\n",
       "        0.83244361, 0.78677047, 0.78677047, 0.83244361, 0.83244361,\n",
       "        0.83244361, 0.83244361, 0.78677047, 0.78677047, 0.83244361,\n",
       "        0.83244361, 0.83244361, 0.83244361, 0.78677047, 0.78677047,\n",
       "        0.78677047, 0.78677047, 0.78677047, 0.78677047, 0.78677047,\n",
       "        0.78677047, 0.78677047, 0.78677047, 0.78677047, 0.78677047,\n",
       "        0.78677047, 0.78677047, 0.78677047, 0.78677047, 0.78677047,\n",
       "        0.78677047, 0.78677047, 0.78677047, 0.78677047, 0.78677047,\n",
       "        0.78677047, 0.78677047, 0.78677047, 0.78677047, 0.78677047,\n",
       "        0.78677047, 0.78677047, 0.78677047, 0.78677047, 0.78677047,\n",
       "        0.78677047, 0.78677047, 0.78677047, 0.78677047, 0.78677047,\n",
       "        0.78677047, 0.78677047, 0.78677047, 0.78677047, 0.78677047,\n",
       "        0.78677047, 0.78677047, 0.78677047, 0.78677047, 0.78677047,\n",
       "        0.78677047, 0.78677047, 0.78677047, 0.78677047, 0.78677047,\n",
       "        0.78677047, 0.78677047, 0.78677047, 0.78677047, 0.78677047,\n",
       "        0.78677047, 0.78677047, 0.78677047, 0.78677047, 0.78677047,\n",
       "        0.78677047, 0.78677047, 0.78677047, 0.78677047, 0.78677047,\n",
       "        0.78677047, 0.78677047, 0.78677047, 0.78677047, 0.78677047,\n",
       "        0.78677047, 0.78677047, 0.78677047, 0.78677047, 0.78677047,\n",
       "        0.78677047, 0.78677047, 0.78677047, 0.78677047, 0.78677047,\n",
       "        0.78677047, 0.78677047, 0.78677047, 0.78677047, 0.78677047,\n",
       "        0.78677047, 0.78677047, 0.78677047, 0.78677047, 0.78677047]),\n",
       " 'split2_train_score': array([0.86151311, 0.86151311, 0.84194757, 0.83281398, 0.78676654,\n",
       "        0.78676654, 0.88281648, 0.86329089, 0.84489888, 0.83398752,\n",
       "        0.78676654, 0.78676654, 0.88459426, 0.86506866, 0.84554806,\n",
       "        0.8341623 , 0.78676654, 0.78676654, 0.88641698, 0.86540824,\n",
       "        0.8458427 , 0.83444195, 0.78676654, 0.78676654, 0.88813983,\n",
       "        0.86693134, 0.84742072, 0.8356804 , 0.78676654, 0.78676654,\n",
       "        0.86151311, 0.86151311, 0.84194757, 0.83253433, 0.78676654,\n",
       "        0.78676654, 0.87861673, 0.86151311, 0.84194757, 0.83253433,\n",
       "        0.78676654, 0.78676654, 0.87861673, 0.86151311, 0.84194757,\n",
       "        0.83253433, 0.78676654, 0.78676654, 0.87861673, 0.86151311,\n",
       "        0.84194757, 0.83253433, 0.78676654, 0.78676654, 0.87861673,\n",
       "        0.86151311, 0.84194757, 0.83253433, 0.78676654, 0.78676654,\n",
       "        0.83253433, 0.83253433, 0.83253433, 0.83253433, 0.78676654,\n",
       "        0.78676654, 0.83253433, 0.83253433, 0.83253433, 0.83253433,\n",
       "        0.78676654, 0.78676654, 0.83253433, 0.83253433, 0.83253433,\n",
       "        0.83253433, 0.78676654, 0.78676654, 0.83253433, 0.83253433,\n",
       "        0.83253433, 0.83253433, 0.78676654, 0.78676654, 0.83253433,\n",
       "        0.83253433, 0.83253433, 0.83253433, 0.78676654, 0.78676654,\n",
       "        0.78676654, 0.78676654, 0.78676654, 0.78676654, 0.78676654,\n",
       "        0.78676654, 0.78676654, 0.78676654, 0.78676654, 0.78676654,\n",
       "        0.78676654, 0.78676654, 0.78676654, 0.78676654, 0.78676654,\n",
       "        0.78676654, 0.78676654, 0.78676654, 0.78676654, 0.78676654,\n",
       "        0.78676654, 0.78676654, 0.78676654, 0.78676654, 0.78676654,\n",
       "        0.78676654, 0.78676654, 0.78676654, 0.78676654, 0.78676654,\n",
       "        0.78676654, 0.78676654, 0.78676654, 0.78676654, 0.78676654,\n",
       "        0.78676654, 0.78676654, 0.78676654, 0.78676654, 0.78676654,\n",
       "        0.78676654, 0.78676654, 0.78676654, 0.78676654, 0.78676654,\n",
       "        0.78676654, 0.78676654, 0.78676654, 0.78676654, 0.78676654,\n",
       "        0.78676654, 0.78676654, 0.78676654, 0.78676654, 0.78676654,\n",
       "        0.78676654, 0.78676654, 0.78676654, 0.78676654, 0.78676654,\n",
       "        0.78676654, 0.78676654, 0.78676654, 0.78676654, 0.78676654,\n",
       "        0.78676654, 0.78676654, 0.78676654, 0.78676654, 0.78676654,\n",
       "        0.78676654, 0.78676654, 0.78676654, 0.78676654, 0.78676654,\n",
       "        0.78676654, 0.78676654, 0.78676654, 0.78676654, 0.78676654,\n",
       "        0.78676654, 0.78676654, 0.78676654, 0.78676654, 0.78676654,\n",
       "        0.78676654, 0.78676654, 0.78676654, 0.78676654, 0.78676654]),\n",
       " 'split3_train_score': array([0.86095381, 0.86095381, 0.8417628 , 0.83329338, 0.78677154,\n",
       "        0.78677154, 0.88249688, 0.86338077, 0.84477903, 0.83338826,\n",
       "        0.78677154, 0.78677154, 0.88492385, 0.86397004, 0.84482397,\n",
       "        0.83363795, 0.78677154, 0.78677154, 0.88564794, 0.86410487,\n",
       "        0.84510861, 0.83412235, 0.78677154, 0.78677154, 0.88743571,\n",
       "        0.86610237, 0.84709613, 0.83535081, 0.78677154, 0.78677154,\n",
       "        0.86095381, 0.86095381, 0.8417628 , 0.83251436, 0.78677154,\n",
       "        0.78677154, 0.87821223, 0.86095381, 0.8417628 , 0.83251436,\n",
       "        0.78677154, 0.78677154, 0.87821223, 0.86095381, 0.8417628 ,\n",
       "        0.83251436, 0.78677154, 0.78677154, 0.87821223, 0.86095381,\n",
       "        0.8417628 , 0.83251436, 0.78677154, 0.78677154, 0.87821223,\n",
       "        0.86095381, 0.8417628 , 0.83251436, 0.78677154, 0.78677154,\n",
       "        0.83251436, 0.83251436, 0.83251436, 0.83251436, 0.78677154,\n",
       "        0.78677154, 0.83251436, 0.83251436, 0.83251436, 0.83251436,\n",
       "        0.78677154, 0.78677154, 0.83251436, 0.83251436, 0.83251436,\n",
       "        0.83251436, 0.78677154, 0.78677154, 0.83251436, 0.83251436,\n",
       "        0.83251436, 0.83251436, 0.78677154, 0.78677154, 0.83251436,\n",
       "        0.83251436, 0.83251436, 0.83251436, 0.78677154, 0.78677154,\n",
       "        0.78677154, 0.78677154, 0.78677154, 0.78677154, 0.78677154,\n",
       "        0.78677154, 0.78677154, 0.78677154, 0.78677154, 0.78677154,\n",
       "        0.78677154, 0.78677154, 0.78677154, 0.78677154, 0.78677154,\n",
       "        0.78677154, 0.78677154, 0.78677154, 0.78677154, 0.78677154,\n",
       "        0.78677154, 0.78677154, 0.78677154, 0.78677154, 0.78677154,\n",
       "        0.78677154, 0.78677154, 0.78677154, 0.78677154, 0.78677154,\n",
       "        0.78677154, 0.78677154, 0.78677154, 0.78677154, 0.78677154,\n",
       "        0.78677154, 0.78677154, 0.78677154, 0.78677154, 0.78677154,\n",
       "        0.78677154, 0.78677154, 0.78677154, 0.78677154, 0.78677154,\n",
       "        0.78677154, 0.78677154, 0.78677154, 0.78677154, 0.78677154,\n",
       "        0.78677154, 0.78677154, 0.78677154, 0.78677154, 0.78677154,\n",
       "        0.78677154, 0.78677154, 0.78677154, 0.78677154, 0.78677154,\n",
       "        0.78677154, 0.78677154, 0.78677154, 0.78677154, 0.78677154,\n",
       "        0.78677154, 0.78677154, 0.78677154, 0.78677154, 0.78677154,\n",
       "        0.78677154, 0.78677154, 0.78677154, 0.78677154, 0.78677154,\n",
       "        0.78677154, 0.78677154, 0.78677154, 0.78677154, 0.78677154,\n",
       "        0.78677154, 0.78677154, 0.78677154, 0.78677154, 0.78677154,\n",
       "        0.78677154, 0.78677154, 0.78677154, 0.78677154, 0.78677154]),\n",
       " 'split4_train_score': array([0.86095381, 0.86095381, 0.84145818, 0.83330337, 0.78677154,\n",
       "        0.78677154, 0.88210737, 0.86351561, 0.84485393, 0.8336829 ,\n",
       "        0.78677154, 0.78677154, 0.88466916, 0.86434956, 0.84490886,\n",
       "        0.83397753, 0.78677154, 0.78677154, 0.88566792, 0.8645593 ,\n",
       "        0.84542322, 0.83418727, 0.78677154, 0.78677154, 0.88717603,\n",
       "        0.86590262, 0.8464819 , 0.83509114, 0.78677154, 0.78677154,\n",
       "        0.86095381, 0.86095381, 0.84145818, 0.83236954, 0.78677154,\n",
       "        0.78677154, 0.8732784 , 0.86095381, 0.84145818, 0.83236954,\n",
       "        0.78677154, 0.78677154, 0.8732784 , 0.86095381, 0.84145818,\n",
       "        0.83236954, 0.78677154, 0.78677154, 0.8732784 , 0.86095381,\n",
       "        0.84145818, 0.83236954, 0.78677154, 0.78677154, 0.8732784 ,\n",
       "        0.86095381, 0.84145818, 0.83236954, 0.78677154, 0.78677154,\n",
       "        0.83236954, 0.83236954, 0.83236954, 0.83236954, 0.78677154,\n",
       "        0.78677154, 0.83236954, 0.83236954, 0.83236954, 0.83236954,\n",
       "        0.78677154, 0.78677154, 0.83236954, 0.83236954, 0.83236954,\n",
       "        0.83236954, 0.78677154, 0.78677154, 0.83236954, 0.83236954,\n",
       "        0.83236954, 0.83236954, 0.78677154, 0.78677154, 0.83236954,\n",
       "        0.83236954, 0.83236954, 0.83236954, 0.78677154, 0.78677154,\n",
       "        0.78677154, 0.78677154, 0.78677154, 0.78677154, 0.78677154,\n",
       "        0.78677154, 0.78677154, 0.78677154, 0.78677154, 0.78677154,\n",
       "        0.78677154, 0.78677154, 0.78677154, 0.78677154, 0.78677154,\n",
       "        0.78677154, 0.78677154, 0.78677154, 0.78677154, 0.78677154,\n",
       "        0.78677154, 0.78677154, 0.78677154, 0.78677154, 0.78677154,\n",
       "        0.78677154, 0.78677154, 0.78677154, 0.78677154, 0.78677154,\n",
       "        0.78677154, 0.78677154, 0.78677154, 0.78677154, 0.78677154,\n",
       "        0.78677154, 0.78677154, 0.78677154, 0.78677154, 0.78677154,\n",
       "        0.78677154, 0.78677154, 0.78677154, 0.78677154, 0.78677154,\n",
       "        0.78677154, 0.78677154, 0.78677154, 0.78677154, 0.78677154,\n",
       "        0.78677154, 0.78677154, 0.78677154, 0.78677154, 0.78677154,\n",
       "        0.78677154, 0.78677154, 0.78677154, 0.78677154, 0.78677154,\n",
       "        0.78677154, 0.78677154, 0.78677154, 0.78677154, 0.78677154,\n",
       "        0.78677154, 0.78677154, 0.78677154, 0.78677154, 0.78677154,\n",
       "        0.78677154, 0.78677154, 0.78677154, 0.78677154, 0.78677154,\n",
       "        0.78677154, 0.78677154, 0.78677154, 0.78677154, 0.78677154,\n",
       "        0.78677154, 0.78677154, 0.78677154, 0.78677154, 0.78677154,\n",
       "        0.78677154, 0.78677154, 0.78677154, 0.78677154, 0.78677154]),\n",
       " 'mean_train_score': array([0.86110135, 0.86110135, 0.84171354, 0.83310628, 0.78677011,\n",
       "        0.78677011, 0.88249465, 0.86333356, 0.84475175, 0.83367957,\n",
       "        0.78677011, 0.78677011, 0.88472686, 0.86437826, 0.84513327,\n",
       "        0.83394823, 0.78677011, 0.78677011, 0.88597231, 0.86471184,\n",
       "        0.84555075, 0.83420891, 0.78677011, 0.78677011, 0.88759828,\n",
       "        0.86628488, 0.84705188, 0.83538644, 0.78677011, 0.78677011,\n",
       "        0.86110135, 0.86110135, 0.84171354, 0.83244111, 0.78677011,\n",
       "        0.78677011, 0.87733808, 0.86110135, 0.84171354, 0.83244111,\n",
       "        0.78677011, 0.78677011, 0.87733808, 0.86110135, 0.84171354,\n",
       "        0.83244111, 0.78677011, 0.78677011, 0.87733808, 0.86110135,\n",
       "        0.84171354, 0.83244111, 0.78677011, 0.78677011, 0.87733808,\n",
       "        0.86110135, 0.84171354, 0.83244111, 0.78677011, 0.78677011,\n",
       "        0.83244111, 0.83244111, 0.83244111, 0.83244111, 0.78677011,\n",
       "        0.78677011, 0.83244111, 0.83244111, 0.83244111, 0.83244111,\n",
       "        0.78677011, 0.78677011, 0.83244111, 0.83244111, 0.83244111,\n",
       "        0.83244111, 0.78677011, 0.78677011, 0.83244111, 0.83244111,\n",
       "        0.83244111, 0.83244111, 0.78677011, 0.78677011, 0.83244111,\n",
       "        0.83244111, 0.83244111, 0.83244111, 0.78677011, 0.78677011,\n",
       "        0.78677011, 0.78677011, 0.78677011, 0.78677011, 0.78677011,\n",
       "        0.78677011, 0.78677011, 0.78677011, 0.78677011, 0.78677011,\n",
       "        0.78677011, 0.78677011, 0.78677011, 0.78677011, 0.78677011,\n",
       "        0.78677011, 0.78677011, 0.78677011, 0.78677011, 0.78677011,\n",
       "        0.78677011, 0.78677011, 0.78677011, 0.78677011, 0.78677011,\n",
       "        0.78677011, 0.78677011, 0.78677011, 0.78677011, 0.78677011,\n",
       "        0.78677011, 0.78677011, 0.78677011, 0.78677011, 0.78677011,\n",
       "        0.78677011, 0.78677011, 0.78677011, 0.78677011, 0.78677011,\n",
       "        0.78677011, 0.78677011, 0.78677011, 0.78677011, 0.78677011,\n",
       "        0.78677011, 0.78677011, 0.78677011, 0.78677011, 0.78677011,\n",
       "        0.78677011, 0.78677011, 0.78677011, 0.78677011, 0.78677011,\n",
       "        0.78677011, 0.78677011, 0.78677011, 0.78677011, 0.78677011,\n",
       "        0.78677011, 0.78677011, 0.78677011, 0.78677011, 0.78677011,\n",
       "        0.78677011, 0.78677011, 0.78677011, 0.78677011, 0.78677011,\n",
       "        0.78677011, 0.78677011, 0.78677011, 0.78677011, 0.78677011,\n",
       "        0.78677011, 0.78677011, 0.78677011, 0.78677011, 0.78677011,\n",
       "        0.78677011, 0.78677011, 0.78677011, 0.78677011, 0.78677011,\n",
       "        0.78677011, 0.78677011, 0.78677011, 0.78677011, 0.78677011]),\n",
       " 'std_train_score': array([2.31439960e-04, 2.31439960e-04, 1.58995181e-04, 3.11999497e-04,\n",
       "        1.84698380e-06, 1.84698380e-06, 2.26082249e-04, 1.05258125e-04,\n",
       "        2.70848663e-04, 1.92042280e-04, 1.84698380e-06, 1.84698380e-06,\n",
       "        1.55457807e-04, 3.73982579e-04, 2.76697636e-04, 1.91988174e-04,\n",
       "        1.84698380e-06, 1.84698380e-06, 3.30099383e-04, 4.34346623e-04,\n",
       "        2.59098635e-04, 1.66337668e-04, 1.84698380e-06, 1.84698380e-06,\n",
       "        3.18155599e-04, 3.46780834e-04, 3.10233916e-04, 2.25995682e-04,\n",
       "        1.84698380e-06, 1.84698380e-06, 2.31439960e-04, 2.31439960e-04,\n",
       "        1.58995181e-04, 7.57188629e-05, 1.84698380e-06, 1.84698380e-06,\n",
       "        2.03476731e-03, 2.31439960e-04, 1.58995181e-04, 7.57188629e-05,\n",
       "        1.84698380e-06, 1.84698380e-06, 2.03476731e-03, 2.31439960e-04,\n",
       "        1.58995181e-04, 7.57188629e-05, 1.84698380e-06, 1.84698380e-06,\n",
       "        2.03476731e-03, 2.31439960e-04, 1.58995181e-04, 7.57188629e-05,\n",
       "        1.84698380e-06, 1.84698380e-06, 2.03476731e-03, 2.31439960e-04,\n",
       "        1.58995181e-04, 7.57188629e-05, 1.84698380e-06, 1.84698380e-06,\n",
       "        7.57188629e-05, 7.57188629e-05, 7.57188629e-05, 7.57188629e-05,\n",
       "        1.84698380e-06, 1.84698380e-06, 7.57188629e-05, 7.57188629e-05,\n",
       "        7.57188629e-05, 7.57188629e-05, 1.84698380e-06, 1.84698380e-06,\n",
       "        7.57188629e-05, 7.57188629e-05, 7.57188629e-05, 7.57188629e-05,\n",
       "        1.84698380e-06, 1.84698380e-06, 7.57188629e-05, 7.57188629e-05,\n",
       "        7.57188629e-05, 7.57188629e-05, 1.84698380e-06, 1.84698380e-06,\n",
       "        7.57188629e-05, 7.57188629e-05, 7.57188629e-05, 7.57188629e-05,\n",
       "        1.84698380e-06, 1.84698380e-06, 1.84698380e-06, 1.84698380e-06,\n",
       "        1.84698380e-06, 1.84698380e-06, 1.84698380e-06, 1.84698380e-06,\n",
       "        1.84698380e-06, 1.84698380e-06, 1.84698380e-06, 1.84698380e-06,\n",
       "        1.84698380e-06, 1.84698380e-06, 1.84698380e-06, 1.84698380e-06,\n",
       "        1.84698380e-06, 1.84698380e-06, 1.84698380e-06, 1.84698380e-06,\n",
       "        1.84698380e-06, 1.84698380e-06, 1.84698380e-06, 1.84698380e-06,\n",
       "        1.84698380e-06, 1.84698380e-06, 1.84698380e-06, 1.84698380e-06,\n",
       "        1.84698380e-06, 1.84698380e-06, 1.84698380e-06, 1.84698380e-06,\n",
       "        1.84698380e-06, 1.84698380e-06, 1.84698380e-06, 1.84698380e-06,\n",
       "        1.84698380e-06, 1.84698380e-06, 1.84698380e-06, 1.84698380e-06,\n",
       "        1.84698380e-06, 1.84698380e-06, 1.84698380e-06, 1.84698380e-06,\n",
       "        1.84698380e-06, 1.84698380e-06, 1.84698380e-06, 1.84698380e-06,\n",
       "        1.84698380e-06, 1.84698380e-06, 1.84698380e-06, 1.84698380e-06,\n",
       "        1.84698380e-06, 1.84698380e-06, 1.84698380e-06, 1.84698380e-06,\n",
       "        1.84698380e-06, 1.84698380e-06, 1.84698380e-06, 1.84698380e-06,\n",
       "        1.84698380e-06, 1.84698380e-06, 1.84698380e-06, 1.84698380e-06,\n",
       "        1.84698380e-06, 1.84698380e-06, 1.84698380e-06, 1.84698380e-06,\n",
       "        1.84698380e-06, 1.84698380e-06, 1.84698380e-06, 1.84698380e-06,\n",
       "        1.84698380e-06, 1.84698380e-06, 1.84698380e-06, 1.84698380e-06,\n",
       "        1.84698380e-06, 1.84698380e-06, 1.84698380e-06, 1.84698380e-06,\n",
       "        1.84698380e-06, 1.84698380e-06, 1.84698380e-06, 1.84698380e-06,\n",
       "        1.84698380e-06, 1.84698380e-06, 1.84698380e-06, 1.84698380e-06,\n",
       "        1.84698380e-06, 1.84698380e-06, 1.84698380e-06, 1.84698380e-06])}"
      ]
     },
     "execution_count": 129,
     "metadata": {},
     "output_type": "execute_result"
    }
   ],
   "source": [
    "#lets try a bunch of different parameters to see what gives the highest accuracy\n",
    "grid = {'max_leaf_nodes': [5, 10, 15, 25, 100], 'ccp_alpha': [0, 0.01, 0.1, 1, 10, 100], \"min_impurity_split\":[0,0.1,0.2,0.3,0.4,0.5]}\n",
    "grid_search_cv = GridSearchCV(estimator = classifier, param_grid= grid, cv =5, return_train_score= True, verbose= 2)\n",
    "grid_search_cv.fit(X_train, y_train)\n",
    "grid_search_cv.cv_results_"
   ]
  },
  {
   "cell_type": "code",
   "execution_count": 131,
   "metadata": {},
   "outputs": [
    {
     "data": {
      "text/html": [
       "<div>\n",
       "<style scoped>\n",
       "    .dataframe tbody tr th:only-of-type {\n",
       "        vertical-align: middle;\n",
       "    }\n",
       "\n",
       "    .dataframe tbody tr th {\n",
       "        vertical-align: top;\n",
       "    }\n",
       "\n",
       "    .dataframe thead th {\n",
       "        text-align: right;\n",
       "    }\n",
       "</style>\n",
       "<table border=\"1\" class=\"dataframe\">\n",
       "  <thead>\n",
       "    <tr style=\"text-align: right;\">\n",
       "      <th></th>\n",
       "      <th>18</th>\n",
       "      <th>24</th>\n",
       "      <th>12</th>\n",
       "      <th>6</th>\n",
       "      <th>36</th>\n",
       "      <th>54</th>\n",
       "      <th>48</th>\n",
       "      <th>42</th>\n",
       "      <th>19</th>\n",
       "      <th>13</th>\n",
       "      <th>...</th>\n",
       "      <th>100</th>\n",
       "      <th>99</th>\n",
       "      <th>98</th>\n",
       "      <th>97</th>\n",
       "      <th>96</th>\n",
       "      <th>95</th>\n",
       "      <th>94</th>\n",
       "      <th>93</th>\n",
       "      <th>92</th>\n",
       "      <th>179</th>\n",
       "    </tr>\n",
       "  </thead>\n",
       "  <tbody>\n",
       "    <tr>\n",
       "      <th>mean_fit_time</th>\n",
       "      <td>2.78559</td>\n",
       "      <td>2.96864</td>\n",
       "      <td>2.53725</td>\n",
       "      <td>2.2544</td>\n",
       "      <td>2.85275</td>\n",
       "      <td>2.85267</td>\n",
       "      <td>2.79624</td>\n",
       "      <td>2.44411</td>\n",
       "      <td>2.02718</td>\n",
       "      <td>1.78354</td>\n",
       "      <td>...</td>\n",
       "      <td>0.788799</td>\n",
       "      <td>1.10354</td>\n",
       "      <td>1.28177</td>\n",
       "      <td>21.5348</td>\n",
       "      <td>2.09646</td>\n",
       "      <td>0.756526</td>\n",
       "      <td>0.75543</td>\n",
       "      <td>2.04372</td>\n",
       "      <td>2.0918</td>\n",
       "      <td>0.947125</td>\n",
       "    </tr>\n",
       "    <tr>\n",
       "      <th>std_fit_time</th>\n",
       "      <td>0.194313</td>\n",
       "      <td>0.111201</td>\n",
       "      <td>0.162141</td>\n",
       "      <td>0.0720176</td>\n",
       "      <td>0.300759</td>\n",
       "      <td>0.175189</td>\n",
       "      <td>0.351599</td>\n",
       "      <td>0.060387</td>\n",
       "      <td>0.108294</td>\n",
       "      <td>0.148631</td>\n",
       "      <td>...</td>\n",
       "      <td>0.0133202</td>\n",
       "      <td>0.0192178</td>\n",
       "      <td>0.0199131</td>\n",
       "      <td>39.828</td>\n",
       "      <td>0.03469</td>\n",
       "      <td>0.00147556</td>\n",
       "      <td>0.000763066</td>\n",
       "      <td>1.94569</td>\n",
       "      <td>1.03749</td>\n",
       "      <td>0.008316</td>\n",
       "    </tr>\n",
       "    <tr>\n",
       "      <th>mean_score_time</th>\n",
       "      <td>0.129717</td>\n",
       "      <td>0.119482</td>\n",
       "      <td>0.114751</td>\n",
       "      <td>0.115043</td>\n",
       "      <td>0.141716</td>\n",
       "      <td>0.116698</td>\n",
       "      <td>0.135741</td>\n",
       "      <td>0.117191</td>\n",
       "      <td>0.122661</td>\n",
       "      <td>0.118104</td>\n",
       "      <td>...</td>\n",
       "      <td>0.113351</td>\n",
       "      <td>0.111885</td>\n",
       "      <td>0.112224</td>\n",
       "      <td>0.121029</td>\n",
       "      <td>0.109182</td>\n",
       "      <td>0.109105</td>\n",
       "      <td>0.108932</td>\n",
       "      <td>0.111167</td>\n",
       "      <td>0.240107</td>\n",
       "      <td>0.129047</td>\n",
       "    </tr>\n",
       "    <tr>\n",
       "      <th>std_score_time</th>\n",
       "      <td>0.00491865</td>\n",
       "      <td>0.00942634</td>\n",
       "      <td>0.00770703</td>\n",
       "      <td>0.00864103</td>\n",
       "      <td>0.0433458</td>\n",
       "      <td>0.00815542</td>\n",
       "      <td>0.0428568</td>\n",
       "      <td>0.00741932</td>\n",
       "      <td>0.00924151</td>\n",
       "      <td>0.0105404</td>\n",
       "      <td>...</td>\n",
       "      <td>0.00942592</td>\n",
       "      <td>0.00802831</td>\n",
       "      <td>0.00887661</td>\n",
       "      <td>0.00707819</td>\n",
       "      <td>0.00880092</td>\n",
       "      <td>0.00852042</td>\n",
       "      <td>0.00838496</td>\n",
       "      <td>0.00982994</td>\n",
       "      <td>0.239011</td>\n",
       "      <td>0.0102224</td>\n",
       "    </tr>\n",
       "    <tr>\n",
       "      <th>param_ccp_alpha</th>\n",
       "      <td>0</td>\n",
       "      <td>0</td>\n",
       "      <td>0</td>\n",
       "      <td>0</td>\n",
       "      <td>0.01</td>\n",
       "      <td>0.01</td>\n",
       "      <td>0.01</td>\n",
       "      <td>0.01</td>\n",
       "      <td>0</td>\n",
       "      <td>0</td>\n",
       "      <td>...</td>\n",
       "      <td>1</td>\n",
       "      <td>1</td>\n",
       "      <td>1</td>\n",
       "      <td>1</td>\n",
       "      <td>1</td>\n",
       "      <td>1</td>\n",
       "      <td>1</td>\n",
       "      <td>1</td>\n",
       "      <td>1</td>\n",
       "      <td>100</td>\n",
       "    </tr>\n",
       "    <tr>\n",
       "      <th>param_max_leaf_nodes</th>\n",
       "      <td>25</td>\n",
       "      <td>100</td>\n",
       "      <td>15</td>\n",
       "      <td>10</td>\n",
       "      <td>10</td>\n",
       "      <td>100</td>\n",
       "      <td>25</td>\n",
       "      <td>15</td>\n",
       "      <td>25</td>\n",
       "      <td>15</td>\n",
       "      <td>...</td>\n",
       "      <td>10</td>\n",
       "      <td>10</td>\n",
       "      <td>10</td>\n",
       "      <td>10</td>\n",
       "      <td>10</td>\n",
       "      <td>5</td>\n",
       "      <td>5</td>\n",
       "      <td>5</td>\n",
       "      <td>5</td>\n",
       "      <td>100</td>\n",
       "    </tr>\n",
       "    <tr>\n",
       "      <th>param_min_impurity_split</th>\n",
       "      <td>0</td>\n",
       "      <td>0</td>\n",
       "      <td>0</td>\n",
       "      <td>0</td>\n",
       "      <td>0</td>\n",
       "      <td>0</td>\n",
       "      <td>0</td>\n",
       "      <td>0</td>\n",
       "      <td>0.1</td>\n",
       "      <td>0.1</td>\n",
       "      <td>...</td>\n",
       "      <td>0.4</td>\n",
       "      <td>0.3</td>\n",
       "      <td>0.2</td>\n",
       "      <td>0.1</td>\n",
       "      <td>0</td>\n",
       "      <td>0.5</td>\n",
       "      <td>0.4</td>\n",
       "      <td>0.3</td>\n",
       "      <td>0.2</td>\n",
       "      <td>0.5</td>\n",
       "    </tr>\n",
       "    <tr>\n",
       "      <th>params</th>\n",
       "      <td>{'ccp_alpha': 0, 'max_leaf_nodes': 25, 'min_im...</td>\n",
       "      <td>{'ccp_alpha': 0, 'max_leaf_nodes': 100, 'min_i...</td>\n",
       "      <td>{'ccp_alpha': 0, 'max_leaf_nodes': 15, 'min_im...</td>\n",
       "      <td>{'ccp_alpha': 0, 'max_leaf_nodes': 10, 'min_im...</td>\n",
       "      <td>{'ccp_alpha': 0.01, 'max_leaf_nodes': 10, 'min...</td>\n",
       "      <td>{'ccp_alpha': 0.01, 'max_leaf_nodes': 100, 'mi...</td>\n",
       "      <td>{'ccp_alpha': 0.01, 'max_leaf_nodes': 25, 'min...</td>\n",
       "      <td>{'ccp_alpha': 0.01, 'max_leaf_nodes': 15, 'min...</td>\n",
       "      <td>{'ccp_alpha': 0, 'max_leaf_nodes': 25, 'min_im...</td>\n",
       "      <td>{'ccp_alpha': 0, 'max_leaf_nodes': 15, 'min_im...</td>\n",
       "      <td>...</td>\n",
       "      <td>{'ccp_alpha': 1, 'max_leaf_nodes': 10, 'min_im...</td>\n",
       "      <td>{'ccp_alpha': 1, 'max_leaf_nodes': 10, 'min_im...</td>\n",
       "      <td>{'ccp_alpha': 1, 'max_leaf_nodes': 10, 'min_im...</td>\n",
       "      <td>{'ccp_alpha': 1, 'max_leaf_nodes': 10, 'min_im...</td>\n",
       "      <td>{'ccp_alpha': 1, 'max_leaf_nodes': 10, 'min_im...</td>\n",
       "      <td>{'ccp_alpha': 1, 'max_leaf_nodes': 5, 'min_imp...</td>\n",
       "      <td>{'ccp_alpha': 1, 'max_leaf_nodes': 5, 'min_imp...</td>\n",
       "      <td>{'ccp_alpha': 1, 'max_leaf_nodes': 5, 'min_imp...</td>\n",
       "      <td>{'ccp_alpha': 1, 'max_leaf_nodes': 5, 'min_imp...</td>\n",
       "      <td>{'ccp_alpha': 100, 'max_leaf_nodes': 100, 'min...</td>\n",
       "    </tr>\n",
       "    <tr>\n",
       "      <th>split0_test_score</th>\n",
       "      <td>0.885704</td>\n",
       "      <td>0.885424</td>\n",
       "      <td>0.883786</td>\n",
       "      <td>0.882368</td>\n",
       "      <td>0.877994</td>\n",
       "      <td>0.877994</td>\n",
       "      <td>0.877994</td>\n",
       "      <td>0.877994</td>\n",
       "      <td>0.863872</td>\n",
       "      <td>0.863292</td>\n",
       "      <td>...</td>\n",
       "      <td>0.786769</td>\n",
       "      <td>0.786769</td>\n",
       "      <td>0.786769</td>\n",
       "      <td>0.786769</td>\n",
       "      <td>0.786769</td>\n",
       "      <td>0.786769</td>\n",
       "      <td>0.786769</td>\n",
       "      <td>0.786769</td>\n",
       "      <td>0.786769</td>\n",
       "      <td>0.786769</td>\n",
       "    </tr>\n",
       "    <tr>\n",
       "      <th>split1_test_score</th>\n",
       "      <td>0.884446</td>\n",
       "      <td>0.885145</td>\n",
       "      <td>0.884585</td>\n",
       "      <td>0.882368</td>\n",
       "      <td>0.878313</td>\n",
       "      <td>0.878313</td>\n",
       "      <td>0.878313</td>\n",
       "      <td>0.878313</td>\n",
       "      <td>0.863891</td>\n",
       "      <td>0.864311</td>\n",
       "      <td>...</td>\n",
       "      <td>0.786769</td>\n",
       "      <td>0.786769</td>\n",
       "      <td>0.786769</td>\n",
       "      <td>0.786769</td>\n",
       "      <td>0.786769</td>\n",
       "      <td>0.786769</td>\n",
       "      <td>0.786769</td>\n",
       "      <td>0.786769</td>\n",
       "      <td>0.786769</td>\n",
       "      <td>0.786769</td>\n",
       "    </tr>\n",
       "    <tr>\n",
       "      <th>split2_test_score</th>\n",
       "      <td>0.884863</td>\n",
       "      <td>0.884383</td>\n",
       "      <td>0.883604</td>\n",
       "      <td>0.881207</td>\n",
       "      <td>0.876853</td>\n",
       "      <td>0.876853</td>\n",
       "      <td>0.876853</td>\n",
       "      <td>0.876853</td>\n",
       "      <td>0.86301</td>\n",
       "      <td>0.86299</td>\n",
       "      <td>...</td>\n",
       "      <td>0.786784</td>\n",
       "      <td>0.786784</td>\n",
       "      <td>0.786784</td>\n",
       "      <td>0.786784</td>\n",
       "      <td>0.786784</td>\n",
       "      <td>0.786784</td>\n",
       "      <td>0.786784</td>\n",
       "      <td>0.786784</td>\n",
       "      <td>0.786784</td>\n",
       "      <td>0.786784</td>\n",
       "    </tr>\n",
       "    <tr>\n",
       "      <th>split3_test_score</th>\n",
       "      <td>0.886101</td>\n",
       "      <td>0.884943</td>\n",
       "      <td>0.884883</td>\n",
       "      <td>0.882486</td>\n",
       "      <td>0.878471</td>\n",
       "      <td>0.878471</td>\n",
       "      <td>0.878471</td>\n",
       "      <td>0.878471</td>\n",
       "      <td>0.865207</td>\n",
       "      <td>0.865087</td>\n",
       "      <td>...</td>\n",
       "      <td>0.786764</td>\n",
       "      <td>0.786764</td>\n",
       "      <td>0.786764</td>\n",
       "      <td>0.786764</td>\n",
       "      <td>0.786764</td>\n",
       "      <td>0.786764</td>\n",
       "      <td>0.786764</td>\n",
       "      <td>0.786764</td>\n",
       "      <td>0.786764</td>\n",
       "      <td>0.786764</td>\n",
       "    </tr>\n",
       "    <tr>\n",
       "      <th>split4_test_score</th>\n",
       "      <td>0.88706</td>\n",
       "      <td>0.8872</td>\n",
       "      <td>0.886281</td>\n",
       "      <td>0.884044</td>\n",
       "      <td>0.874076</td>\n",
       "      <td>0.874076</td>\n",
       "      <td>0.874076</td>\n",
       "      <td>0.874076</td>\n",
       "      <td>0.864448</td>\n",
       "      <td>0.864608</td>\n",
       "      <td>...</td>\n",
       "      <td>0.786764</td>\n",
       "      <td>0.786764</td>\n",
       "      <td>0.786764</td>\n",
       "      <td>0.786764</td>\n",
       "      <td>0.786764</td>\n",
       "      <td>0.786764</td>\n",
       "      <td>0.786764</td>\n",
       "      <td>0.786764</td>\n",
       "      <td>0.786764</td>\n",
       "      <td>0.786764</td>\n",
       "    </tr>\n",
       "    <tr>\n",
       "      <th>mean_test_score</th>\n",
       "      <td>0.885635</td>\n",
       "      <td>0.885419</td>\n",
       "      <td>0.884628</td>\n",
       "      <td>0.882495</td>\n",
       "      <td>0.877141</td>\n",
       "      <td>0.877141</td>\n",
       "      <td>0.877141</td>\n",
       "      <td>0.877141</td>\n",
       "      <td>0.864086</td>\n",
       "      <td>0.864058</td>\n",
       "      <td>...</td>\n",
       "      <td>0.78677</td>\n",
       "      <td>0.78677</td>\n",
       "      <td>0.78677</td>\n",
       "      <td>0.78677</td>\n",
       "      <td>0.78677</td>\n",
       "      <td>0.78677</td>\n",
       "      <td>0.78677</td>\n",
       "      <td>0.78677</td>\n",
       "      <td>0.78677</td>\n",
       "      <td>0.78677</td>\n",
       "    </tr>\n",
       "    <tr>\n",
       "      <th>std_test_score</th>\n",
       "      <td>0.000923462</td>\n",
       "      <td>0.00095354</td>\n",
       "      <td>0.000954494</td>\n",
       "      <td>0.000904338</td>\n",
       "      <td>0.00163377</td>\n",
       "      <td>0.00163377</td>\n",
       "      <td>0.00163377</td>\n",
       "      <td>0.00163377</td>\n",
       "      <td>0.000725253</td>\n",
       "      <td>0.000794107</td>\n",
       "      <td>...</td>\n",
       "      <td>7.38801e-06</td>\n",
       "      <td>7.38801e-06</td>\n",
       "      <td>7.38801e-06</td>\n",
       "      <td>7.38801e-06</td>\n",
       "      <td>7.38801e-06</td>\n",
       "      <td>7.38801e-06</td>\n",
       "      <td>7.38801e-06</td>\n",
       "      <td>7.38801e-06</td>\n",
       "      <td>7.38801e-06</td>\n",
       "      <td>7.38801e-06</td>\n",
       "    </tr>\n",
       "    <tr>\n",
       "      <th>rank_test_score</th>\n",
       "      <td>1</td>\n",
       "      <td>2</td>\n",
       "      <td>3</td>\n",
       "      <td>4</td>\n",
       "      <td>5</td>\n",
       "      <td>5</td>\n",
       "      <td>5</td>\n",
       "      <td>5</td>\n",
       "      <td>9</td>\n",
       "      <td>10</td>\n",
       "      <td>...</td>\n",
       "      <td>61</td>\n",
       "      <td>61</td>\n",
       "      <td>61</td>\n",
       "      <td>61</td>\n",
       "      <td>61</td>\n",
       "      <td>61</td>\n",
       "      <td>61</td>\n",
       "      <td>61</td>\n",
       "      <td>61</td>\n",
       "      <td>61</td>\n",
       "    </tr>\n",
       "    <tr>\n",
       "      <th>split0_train_score</th>\n",
       "      <td>0.886322</td>\n",
       "      <td>0.88756</td>\n",
       "      <td>0.884549</td>\n",
       "      <td>0.882526</td>\n",
       "      <td>0.878331</td>\n",
       "      <td>0.878331</td>\n",
       "      <td>0.878331</td>\n",
       "      <td>0.878331</td>\n",
       "      <td>0.864923</td>\n",
       "      <td>0.864359</td>\n",
       "      <td>...</td>\n",
       "      <td>0.78677</td>\n",
       "      <td>0.78677</td>\n",
       "      <td>0.78677</td>\n",
       "      <td>0.78677</td>\n",
       "      <td>0.78677</td>\n",
       "      <td>0.78677</td>\n",
       "      <td>0.78677</td>\n",
       "      <td>0.78677</td>\n",
       "      <td>0.78677</td>\n",
       "      <td>0.78677</td>\n",
       "    </tr>\n",
       "    <tr>\n",
       "      <th>split1_train_score</th>\n",
       "      <td>0.885807</td>\n",
       "      <td>0.88768</td>\n",
       "      <td>0.884898</td>\n",
       "      <td>0.882526</td>\n",
       "      <td>0.878252</td>\n",
       "      <td>0.878252</td>\n",
       "      <td>0.878252</td>\n",
       "      <td>0.878252</td>\n",
       "      <td>0.864564</td>\n",
       "      <td>0.864144</td>\n",
       "      <td>...</td>\n",
       "      <td>0.78677</td>\n",
       "      <td>0.78677</td>\n",
       "      <td>0.78677</td>\n",
       "      <td>0.78677</td>\n",
       "      <td>0.78677</td>\n",
       "      <td>0.78677</td>\n",
       "      <td>0.78677</td>\n",
       "      <td>0.78677</td>\n",
       "      <td>0.78677</td>\n",
       "      <td>0.78677</td>\n",
       "    </tr>\n",
       "    <tr>\n",
       "      <th>split2_train_score</th>\n",
       "      <td>0.886417</td>\n",
       "      <td>0.88814</td>\n",
       "      <td>0.884594</td>\n",
       "      <td>0.882816</td>\n",
       "      <td>0.878617</td>\n",
       "      <td>0.878617</td>\n",
       "      <td>0.878617</td>\n",
       "      <td>0.878617</td>\n",
       "      <td>0.865408</td>\n",
       "      <td>0.865069</td>\n",
       "      <td>...</td>\n",
       "      <td>0.786767</td>\n",
       "      <td>0.786767</td>\n",
       "      <td>0.786767</td>\n",
       "      <td>0.786767</td>\n",
       "      <td>0.786767</td>\n",
       "      <td>0.786767</td>\n",
       "      <td>0.786767</td>\n",
       "      <td>0.786767</td>\n",
       "      <td>0.786767</td>\n",
       "      <td>0.786767</td>\n",
       "    </tr>\n",
       "    <tr>\n",
       "      <th>split3_train_score</th>\n",
       "      <td>0.885648</td>\n",
       "      <td>0.887436</td>\n",
       "      <td>0.884924</td>\n",
       "      <td>0.882497</td>\n",
       "      <td>0.878212</td>\n",
       "      <td>0.878212</td>\n",
       "      <td>0.878212</td>\n",
       "      <td>0.878212</td>\n",
       "      <td>0.864105</td>\n",
       "      <td>0.86397</td>\n",
       "      <td>...</td>\n",
       "      <td>0.786772</td>\n",
       "      <td>0.786772</td>\n",
       "      <td>0.786772</td>\n",
       "      <td>0.786772</td>\n",
       "      <td>0.786772</td>\n",
       "      <td>0.786772</td>\n",
       "      <td>0.786772</td>\n",
       "      <td>0.786772</td>\n",
       "      <td>0.786772</td>\n",
       "      <td>0.786772</td>\n",
       "    </tr>\n",
       "    <tr>\n",
       "      <th>split4_train_score</th>\n",
       "      <td>0.885668</td>\n",
       "      <td>0.887176</td>\n",
       "      <td>0.884669</td>\n",
       "      <td>0.882107</td>\n",
       "      <td>0.873278</td>\n",
       "      <td>0.873278</td>\n",
       "      <td>0.873278</td>\n",
       "      <td>0.873278</td>\n",
       "      <td>0.864559</td>\n",
       "      <td>0.86435</td>\n",
       "      <td>...</td>\n",
       "      <td>0.786772</td>\n",
       "      <td>0.786772</td>\n",
       "      <td>0.786772</td>\n",
       "      <td>0.786772</td>\n",
       "      <td>0.786772</td>\n",
       "      <td>0.786772</td>\n",
       "      <td>0.786772</td>\n",
       "      <td>0.786772</td>\n",
       "      <td>0.786772</td>\n",
       "      <td>0.786772</td>\n",
       "    </tr>\n",
       "    <tr>\n",
       "      <th>mean_train_score</th>\n",
       "      <td>0.885972</td>\n",
       "      <td>0.887598</td>\n",
       "      <td>0.884727</td>\n",
       "      <td>0.882495</td>\n",
       "      <td>0.877338</td>\n",
       "      <td>0.877338</td>\n",
       "      <td>0.877338</td>\n",
       "      <td>0.877338</td>\n",
       "      <td>0.864712</td>\n",
       "      <td>0.864378</td>\n",
       "      <td>...</td>\n",
       "      <td>0.78677</td>\n",
       "      <td>0.78677</td>\n",
       "      <td>0.78677</td>\n",
       "      <td>0.78677</td>\n",
       "      <td>0.78677</td>\n",
       "      <td>0.78677</td>\n",
       "      <td>0.78677</td>\n",
       "      <td>0.78677</td>\n",
       "      <td>0.78677</td>\n",
       "      <td>0.78677</td>\n",
       "    </tr>\n",
       "    <tr>\n",
       "      <th>std_train_score</th>\n",
       "      <td>0.000330099</td>\n",
       "      <td>0.000318156</td>\n",
       "      <td>0.000155458</td>\n",
       "      <td>0.000226082</td>\n",
       "      <td>0.00203477</td>\n",
       "      <td>0.00203477</td>\n",
       "      <td>0.00203477</td>\n",
       "      <td>0.00203477</td>\n",
       "      <td>0.000434347</td>\n",
       "      <td>0.000373983</td>\n",
       "      <td>...</td>\n",
       "      <td>1.84698e-06</td>\n",
       "      <td>1.84698e-06</td>\n",
       "      <td>1.84698e-06</td>\n",
       "      <td>1.84698e-06</td>\n",
       "      <td>1.84698e-06</td>\n",
       "      <td>1.84698e-06</td>\n",
       "      <td>1.84698e-06</td>\n",
       "      <td>1.84698e-06</td>\n",
       "      <td>1.84698e-06</td>\n",
       "      <td>1.84698e-06</td>\n",
       "    </tr>\n",
       "  </tbody>\n",
       "</table>\n",
       "<p>23 rows × 180 columns</p>\n",
       "</div>"
      ],
      "text/plain": [
       "                                                                        18   \\\n",
       "mean_fit_time                                                       2.78559   \n",
       "std_fit_time                                                       0.194313   \n",
       "mean_score_time                                                    0.129717   \n",
       "std_score_time                                                   0.00491865   \n",
       "param_ccp_alpha                                                           0   \n",
       "param_max_leaf_nodes                                                     25   \n",
       "param_min_impurity_split                                                  0   \n",
       "params                    {'ccp_alpha': 0, 'max_leaf_nodes': 25, 'min_im...   \n",
       "split0_test_score                                                  0.885704   \n",
       "split1_test_score                                                  0.884446   \n",
       "split2_test_score                                                  0.884863   \n",
       "split3_test_score                                                  0.886101   \n",
       "split4_test_score                                                   0.88706   \n",
       "mean_test_score                                                    0.885635   \n",
       "std_test_score                                                  0.000923462   \n",
       "rank_test_score                                                           1   \n",
       "split0_train_score                                                 0.886322   \n",
       "split1_train_score                                                 0.885807   \n",
       "split2_train_score                                                 0.886417   \n",
       "split3_train_score                                                 0.885648   \n",
       "split4_train_score                                                 0.885668   \n",
       "mean_train_score                                                   0.885972   \n",
       "std_train_score                                                 0.000330099   \n",
       "\n",
       "                                                                        24   \\\n",
       "mean_fit_time                                                       2.96864   \n",
       "std_fit_time                                                       0.111201   \n",
       "mean_score_time                                                    0.119482   \n",
       "std_score_time                                                   0.00942634   \n",
       "param_ccp_alpha                                                           0   \n",
       "param_max_leaf_nodes                                                    100   \n",
       "param_min_impurity_split                                                  0   \n",
       "params                    {'ccp_alpha': 0, 'max_leaf_nodes': 100, 'min_i...   \n",
       "split0_test_score                                                  0.885424   \n",
       "split1_test_score                                                  0.885145   \n",
       "split2_test_score                                                  0.884383   \n",
       "split3_test_score                                                  0.884943   \n",
       "split4_test_score                                                    0.8872   \n",
       "mean_test_score                                                    0.885419   \n",
       "std_test_score                                                   0.00095354   \n",
       "rank_test_score                                                           2   \n",
       "split0_train_score                                                  0.88756   \n",
       "split1_train_score                                                  0.88768   \n",
       "split2_train_score                                                  0.88814   \n",
       "split3_train_score                                                 0.887436   \n",
       "split4_train_score                                                 0.887176   \n",
       "mean_train_score                                                   0.887598   \n",
       "std_train_score                                                 0.000318156   \n",
       "\n",
       "                                                                        12   \\\n",
       "mean_fit_time                                                       2.53725   \n",
       "std_fit_time                                                       0.162141   \n",
       "mean_score_time                                                    0.114751   \n",
       "std_score_time                                                   0.00770703   \n",
       "param_ccp_alpha                                                           0   \n",
       "param_max_leaf_nodes                                                     15   \n",
       "param_min_impurity_split                                                  0   \n",
       "params                    {'ccp_alpha': 0, 'max_leaf_nodes': 15, 'min_im...   \n",
       "split0_test_score                                                  0.883786   \n",
       "split1_test_score                                                  0.884585   \n",
       "split2_test_score                                                  0.883604   \n",
       "split3_test_score                                                  0.884883   \n",
       "split4_test_score                                                  0.886281   \n",
       "mean_test_score                                                    0.884628   \n",
       "std_test_score                                                  0.000954494   \n",
       "rank_test_score                                                           3   \n",
       "split0_train_score                                                 0.884549   \n",
       "split1_train_score                                                 0.884898   \n",
       "split2_train_score                                                 0.884594   \n",
       "split3_train_score                                                 0.884924   \n",
       "split4_train_score                                                 0.884669   \n",
       "mean_train_score                                                   0.884727   \n",
       "std_train_score                                                 0.000155458   \n",
       "\n",
       "                                                                        6    \\\n",
       "mean_fit_time                                                        2.2544   \n",
       "std_fit_time                                                      0.0720176   \n",
       "mean_score_time                                                    0.115043   \n",
       "std_score_time                                                   0.00864103   \n",
       "param_ccp_alpha                                                           0   \n",
       "param_max_leaf_nodes                                                     10   \n",
       "param_min_impurity_split                                                  0   \n",
       "params                    {'ccp_alpha': 0, 'max_leaf_nodes': 10, 'min_im...   \n",
       "split0_test_score                                                  0.882368   \n",
       "split1_test_score                                                  0.882368   \n",
       "split2_test_score                                                  0.881207   \n",
       "split3_test_score                                                  0.882486   \n",
       "split4_test_score                                                  0.884044   \n",
       "mean_test_score                                                    0.882495   \n",
       "std_test_score                                                  0.000904338   \n",
       "rank_test_score                                                           4   \n",
       "split0_train_score                                                 0.882526   \n",
       "split1_train_score                                                 0.882526   \n",
       "split2_train_score                                                 0.882816   \n",
       "split3_train_score                                                 0.882497   \n",
       "split4_train_score                                                 0.882107   \n",
       "mean_train_score                                                   0.882495   \n",
       "std_train_score                                                 0.000226082   \n",
       "\n",
       "                                                                        36   \\\n",
       "mean_fit_time                                                       2.85275   \n",
       "std_fit_time                                                       0.300759   \n",
       "mean_score_time                                                    0.141716   \n",
       "std_score_time                                                    0.0433458   \n",
       "param_ccp_alpha                                                        0.01   \n",
       "param_max_leaf_nodes                                                     10   \n",
       "param_min_impurity_split                                                  0   \n",
       "params                    {'ccp_alpha': 0.01, 'max_leaf_nodes': 10, 'min...   \n",
       "split0_test_score                                                  0.877994   \n",
       "split1_test_score                                                  0.878313   \n",
       "split2_test_score                                                  0.876853   \n",
       "split3_test_score                                                  0.878471   \n",
       "split4_test_score                                                  0.874076   \n",
       "mean_test_score                                                    0.877141   \n",
       "std_test_score                                                   0.00163377   \n",
       "rank_test_score                                                           5   \n",
       "split0_train_score                                                 0.878331   \n",
       "split1_train_score                                                 0.878252   \n",
       "split2_train_score                                                 0.878617   \n",
       "split3_train_score                                                 0.878212   \n",
       "split4_train_score                                                 0.873278   \n",
       "mean_train_score                                                   0.877338   \n",
       "std_train_score                                                  0.00203477   \n",
       "\n",
       "                                                                        54   \\\n",
       "mean_fit_time                                                       2.85267   \n",
       "std_fit_time                                                       0.175189   \n",
       "mean_score_time                                                    0.116698   \n",
       "std_score_time                                                   0.00815542   \n",
       "param_ccp_alpha                                                        0.01   \n",
       "param_max_leaf_nodes                                                    100   \n",
       "param_min_impurity_split                                                  0   \n",
       "params                    {'ccp_alpha': 0.01, 'max_leaf_nodes': 100, 'mi...   \n",
       "split0_test_score                                                  0.877994   \n",
       "split1_test_score                                                  0.878313   \n",
       "split2_test_score                                                  0.876853   \n",
       "split3_test_score                                                  0.878471   \n",
       "split4_test_score                                                  0.874076   \n",
       "mean_test_score                                                    0.877141   \n",
       "std_test_score                                                   0.00163377   \n",
       "rank_test_score                                                           5   \n",
       "split0_train_score                                                 0.878331   \n",
       "split1_train_score                                                 0.878252   \n",
       "split2_train_score                                                 0.878617   \n",
       "split3_train_score                                                 0.878212   \n",
       "split4_train_score                                                 0.873278   \n",
       "mean_train_score                                                   0.877338   \n",
       "std_train_score                                                  0.00203477   \n",
       "\n",
       "                                                                        48   \\\n",
       "mean_fit_time                                                       2.79624   \n",
       "std_fit_time                                                       0.351599   \n",
       "mean_score_time                                                    0.135741   \n",
       "std_score_time                                                    0.0428568   \n",
       "param_ccp_alpha                                                        0.01   \n",
       "param_max_leaf_nodes                                                     25   \n",
       "param_min_impurity_split                                                  0   \n",
       "params                    {'ccp_alpha': 0.01, 'max_leaf_nodes': 25, 'min...   \n",
       "split0_test_score                                                  0.877994   \n",
       "split1_test_score                                                  0.878313   \n",
       "split2_test_score                                                  0.876853   \n",
       "split3_test_score                                                  0.878471   \n",
       "split4_test_score                                                  0.874076   \n",
       "mean_test_score                                                    0.877141   \n",
       "std_test_score                                                   0.00163377   \n",
       "rank_test_score                                                           5   \n",
       "split0_train_score                                                 0.878331   \n",
       "split1_train_score                                                 0.878252   \n",
       "split2_train_score                                                 0.878617   \n",
       "split3_train_score                                                 0.878212   \n",
       "split4_train_score                                                 0.873278   \n",
       "mean_train_score                                                   0.877338   \n",
       "std_train_score                                                  0.00203477   \n",
       "\n",
       "                                                                        42   \\\n",
       "mean_fit_time                                                       2.44411   \n",
       "std_fit_time                                                       0.060387   \n",
       "mean_score_time                                                    0.117191   \n",
       "std_score_time                                                   0.00741932   \n",
       "param_ccp_alpha                                                        0.01   \n",
       "param_max_leaf_nodes                                                     15   \n",
       "param_min_impurity_split                                                  0   \n",
       "params                    {'ccp_alpha': 0.01, 'max_leaf_nodes': 15, 'min...   \n",
       "split0_test_score                                                  0.877994   \n",
       "split1_test_score                                                  0.878313   \n",
       "split2_test_score                                                  0.876853   \n",
       "split3_test_score                                                  0.878471   \n",
       "split4_test_score                                                  0.874076   \n",
       "mean_test_score                                                    0.877141   \n",
       "std_test_score                                                   0.00163377   \n",
       "rank_test_score                                                           5   \n",
       "split0_train_score                                                 0.878331   \n",
       "split1_train_score                                                 0.878252   \n",
       "split2_train_score                                                 0.878617   \n",
       "split3_train_score                                                 0.878212   \n",
       "split4_train_score                                                 0.873278   \n",
       "mean_train_score                                                   0.877338   \n",
       "std_train_score                                                  0.00203477   \n",
       "\n",
       "                                                                        19   \\\n",
       "mean_fit_time                                                       2.02718   \n",
       "std_fit_time                                                       0.108294   \n",
       "mean_score_time                                                    0.122661   \n",
       "std_score_time                                                   0.00924151   \n",
       "param_ccp_alpha                                                           0   \n",
       "param_max_leaf_nodes                                                     25   \n",
       "param_min_impurity_split                                                0.1   \n",
       "params                    {'ccp_alpha': 0, 'max_leaf_nodes': 25, 'min_im...   \n",
       "split0_test_score                                                  0.863872   \n",
       "split1_test_score                                                  0.863891   \n",
       "split2_test_score                                                   0.86301   \n",
       "split3_test_score                                                  0.865207   \n",
       "split4_test_score                                                  0.864448   \n",
       "mean_test_score                                                    0.864086   \n",
       "std_test_score                                                  0.000725253   \n",
       "rank_test_score                                                           9   \n",
       "split0_train_score                                                 0.864923   \n",
       "split1_train_score                                                 0.864564   \n",
       "split2_train_score                                                 0.865408   \n",
       "split3_train_score                                                 0.864105   \n",
       "split4_train_score                                                 0.864559   \n",
       "mean_train_score                                                   0.864712   \n",
       "std_train_score                                                 0.000434347   \n",
       "\n",
       "                                                                        13   \\\n",
       "mean_fit_time                                                       1.78354   \n",
       "std_fit_time                                                       0.148631   \n",
       "mean_score_time                                                    0.118104   \n",
       "std_score_time                                                    0.0105404   \n",
       "param_ccp_alpha                                                           0   \n",
       "param_max_leaf_nodes                                                     15   \n",
       "param_min_impurity_split                                                0.1   \n",
       "params                    {'ccp_alpha': 0, 'max_leaf_nodes': 15, 'min_im...   \n",
       "split0_test_score                                                  0.863292   \n",
       "split1_test_score                                                  0.864311   \n",
       "split2_test_score                                                   0.86299   \n",
       "split3_test_score                                                  0.865087   \n",
       "split4_test_score                                                  0.864608   \n",
       "mean_test_score                                                    0.864058   \n",
       "std_test_score                                                  0.000794107   \n",
       "rank_test_score                                                          10   \n",
       "split0_train_score                                                 0.864359   \n",
       "split1_train_score                                                 0.864144   \n",
       "split2_train_score                                                 0.865069   \n",
       "split3_train_score                                                  0.86397   \n",
       "split4_train_score                                                  0.86435   \n",
       "mean_train_score                                                   0.864378   \n",
       "std_train_score                                                 0.000373983   \n",
       "\n",
       "                          ...  \\\n",
       "mean_fit_time             ...   \n",
       "std_fit_time              ...   \n",
       "mean_score_time           ...   \n",
       "std_score_time            ...   \n",
       "param_ccp_alpha           ...   \n",
       "param_max_leaf_nodes      ...   \n",
       "param_min_impurity_split  ...   \n",
       "params                    ...   \n",
       "split0_test_score         ...   \n",
       "split1_test_score         ...   \n",
       "split2_test_score         ...   \n",
       "split3_test_score         ...   \n",
       "split4_test_score         ...   \n",
       "mean_test_score           ...   \n",
       "std_test_score            ...   \n",
       "rank_test_score           ...   \n",
       "split0_train_score        ...   \n",
       "split1_train_score        ...   \n",
       "split2_train_score        ...   \n",
       "split3_train_score        ...   \n",
       "split4_train_score        ...   \n",
       "mean_train_score          ...   \n",
       "std_train_score           ...   \n",
       "\n",
       "                                                                        100  \\\n",
       "mean_fit_time                                                      0.788799   \n",
       "std_fit_time                                                      0.0133202   \n",
       "mean_score_time                                                    0.113351   \n",
       "std_score_time                                                   0.00942592   \n",
       "param_ccp_alpha                                                           1   \n",
       "param_max_leaf_nodes                                                     10   \n",
       "param_min_impurity_split                                                0.4   \n",
       "params                    {'ccp_alpha': 1, 'max_leaf_nodes': 10, 'min_im...   \n",
       "split0_test_score                                                  0.786769   \n",
       "split1_test_score                                                  0.786769   \n",
       "split2_test_score                                                  0.786784   \n",
       "split3_test_score                                                  0.786764   \n",
       "split4_test_score                                                  0.786764   \n",
       "mean_test_score                                                     0.78677   \n",
       "std_test_score                                                  7.38801e-06   \n",
       "rank_test_score                                                          61   \n",
       "split0_train_score                                                  0.78677   \n",
       "split1_train_score                                                  0.78677   \n",
       "split2_train_score                                                 0.786767   \n",
       "split3_train_score                                                 0.786772   \n",
       "split4_train_score                                                 0.786772   \n",
       "mean_train_score                                                    0.78677   \n",
       "std_train_score                                                 1.84698e-06   \n",
       "\n",
       "                                                                        99   \\\n",
       "mean_fit_time                                                       1.10354   \n",
       "std_fit_time                                                      0.0192178   \n",
       "mean_score_time                                                    0.111885   \n",
       "std_score_time                                                   0.00802831   \n",
       "param_ccp_alpha                                                           1   \n",
       "param_max_leaf_nodes                                                     10   \n",
       "param_min_impurity_split                                                0.3   \n",
       "params                    {'ccp_alpha': 1, 'max_leaf_nodes': 10, 'min_im...   \n",
       "split0_test_score                                                  0.786769   \n",
       "split1_test_score                                                  0.786769   \n",
       "split2_test_score                                                  0.786784   \n",
       "split3_test_score                                                  0.786764   \n",
       "split4_test_score                                                  0.786764   \n",
       "mean_test_score                                                     0.78677   \n",
       "std_test_score                                                  7.38801e-06   \n",
       "rank_test_score                                                          61   \n",
       "split0_train_score                                                  0.78677   \n",
       "split1_train_score                                                  0.78677   \n",
       "split2_train_score                                                 0.786767   \n",
       "split3_train_score                                                 0.786772   \n",
       "split4_train_score                                                 0.786772   \n",
       "mean_train_score                                                    0.78677   \n",
       "std_train_score                                                 1.84698e-06   \n",
       "\n",
       "                                                                        98   \\\n",
       "mean_fit_time                                                       1.28177   \n",
       "std_fit_time                                                      0.0199131   \n",
       "mean_score_time                                                    0.112224   \n",
       "std_score_time                                                   0.00887661   \n",
       "param_ccp_alpha                                                           1   \n",
       "param_max_leaf_nodes                                                     10   \n",
       "param_min_impurity_split                                                0.2   \n",
       "params                    {'ccp_alpha': 1, 'max_leaf_nodes': 10, 'min_im...   \n",
       "split0_test_score                                                  0.786769   \n",
       "split1_test_score                                                  0.786769   \n",
       "split2_test_score                                                  0.786784   \n",
       "split3_test_score                                                  0.786764   \n",
       "split4_test_score                                                  0.786764   \n",
       "mean_test_score                                                     0.78677   \n",
       "std_test_score                                                  7.38801e-06   \n",
       "rank_test_score                                                          61   \n",
       "split0_train_score                                                  0.78677   \n",
       "split1_train_score                                                  0.78677   \n",
       "split2_train_score                                                 0.786767   \n",
       "split3_train_score                                                 0.786772   \n",
       "split4_train_score                                                 0.786772   \n",
       "mean_train_score                                                    0.78677   \n",
       "std_train_score                                                 1.84698e-06   \n",
       "\n",
       "                                                                        97   \\\n",
       "mean_fit_time                                                       21.5348   \n",
       "std_fit_time                                                         39.828   \n",
       "mean_score_time                                                    0.121029   \n",
       "std_score_time                                                   0.00707819   \n",
       "param_ccp_alpha                                                           1   \n",
       "param_max_leaf_nodes                                                     10   \n",
       "param_min_impurity_split                                                0.1   \n",
       "params                    {'ccp_alpha': 1, 'max_leaf_nodes': 10, 'min_im...   \n",
       "split0_test_score                                                  0.786769   \n",
       "split1_test_score                                                  0.786769   \n",
       "split2_test_score                                                  0.786784   \n",
       "split3_test_score                                                  0.786764   \n",
       "split4_test_score                                                  0.786764   \n",
       "mean_test_score                                                     0.78677   \n",
       "std_test_score                                                  7.38801e-06   \n",
       "rank_test_score                                                          61   \n",
       "split0_train_score                                                  0.78677   \n",
       "split1_train_score                                                  0.78677   \n",
       "split2_train_score                                                 0.786767   \n",
       "split3_train_score                                                 0.786772   \n",
       "split4_train_score                                                 0.786772   \n",
       "mean_train_score                                                    0.78677   \n",
       "std_train_score                                                 1.84698e-06   \n",
       "\n",
       "                                                                        96   \\\n",
       "mean_fit_time                                                       2.09646   \n",
       "std_fit_time                                                        0.03469   \n",
       "mean_score_time                                                    0.109182   \n",
       "std_score_time                                                   0.00880092   \n",
       "param_ccp_alpha                                                           1   \n",
       "param_max_leaf_nodes                                                     10   \n",
       "param_min_impurity_split                                                  0   \n",
       "params                    {'ccp_alpha': 1, 'max_leaf_nodes': 10, 'min_im...   \n",
       "split0_test_score                                                  0.786769   \n",
       "split1_test_score                                                  0.786769   \n",
       "split2_test_score                                                  0.786784   \n",
       "split3_test_score                                                  0.786764   \n",
       "split4_test_score                                                  0.786764   \n",
       "mean_test_score                                                     0.78677   \n",
       "std_test_score                                                  7.38801e-06   \n",
       "rank_test_score                                                          61   \n",
       "split0_train_score                                                  0.78677   \n",
       "split1_train_score                                                  0.78677   \n",
       "split2_train_score                                                 0.786767   \n",
       "split3_train_score                                                 0.786772   \n",
       "split4_train_score                                                 0.786772   \n",
       "mean_train_score                                                    0.78677   \n",
       "std_train_score                                                 1.84698e-06   \n",
       "\n",
       "                                                                        95   \\\n",
       "mean_fit_time                                                      0.756526   \n",
       "std_fit_time                                                     0.00147556   \n",
       "mean_score_time                                                    0.109105   \n",
       "std_score_time                                                   0.00852042   \n",
       "param_ccp_alpha                                                           1   \n",
       "param_max_leaf_nodes                                                      5   \n",
       "param_min_impurity_split                                                0.5   \n",
       "params                    {'ccp_alpha': 1, 'max_leaf_nodes': 5, 'min_imp...   \n",
       "split0_test_score                                                  0.786769   \n",
       "split1_test_score                                                  0.786769   \n",
       "split2_test_score                                                  0.786784   \n",
       "split3_test_score                                                  0.786764   \n",
       "split4_test_score                                                  0.786764   \n",
       "mean_test_score                                                     0.78677   \n",
       "std_test_score                                                  7.38801e-06   \n",
       "rank_test_score                                                          61   \n",
       "split0_train_score                                                  0.78677   \n",
       "split1_train_score                                                  0.78677   \n",
       "split2_train_score                                                 0.786767   \n",
       "split3_train_score                                                 0.786772   \n",
       "split4_train_score                                                 0.786772   \n",
       "mean_train_score                                                    0.78677   \n",
       "std_train_score                                                 1.84698e-06   \n",
       "\n",
       "                                                                        94   \\\n",
       "mean_fit_time                                                       0.75543   \n",
       "std_fit_time                                                    0.000763066   \n",
       "mean_score_time                                                    0.108932   \n",
       "std_score_time                                                   0.00838496   \n",
       "param_ccp_alpha                                                           1   \n",
       "param_max_leaf_nodes                                                      5   \n",
       "param_min_impurity_split                                                0.4   \n",
       "params                    {'ccp_alpha': 1, 'max_leaf_nodes': 5, 'min_imp...   \n",
       "split0_test_score                                                  0.786769   \n",
       "split1_test_score                                                  0.786769   \n",
       "split2_test_score                                                  0.786784   \n",
       "split3_test_score                                                  0.786764   \n",
       "split4_test_score                                                  0.786764   \n",
       "mean_test_score                                                     0.78677   \n",
       "std_test_score                                                  7.38801e-06   \n",
       "rank_test_score                                                          61   \n",
       "split0_train_score                                                  0.78677   \n",
       "split1_train_score                                                  0.78677   \n",
       "split2_train_score                                                 0.786767   \n",
       "split3_train_score                                                 0.786772   \n",
       "split4_train_score                                                 0.786772   \n",
       "mean_train_score                                                    0.78677   \n",
       "std_train_score                                                 1.84698e-06   \n",
       "\n",
       "                                                                        93   \\\n",
       "mean_fit_time                                                       2.04372   \n",
       "std_fit_time                                                        1.94569   \n",
       "mean_score_time                                                    0.111167   \n",
       "std_score_time                                                   0.00982994   \n",
       "param_ccp_alpha                                                           1   \n",
       "param_max_leaf_nodes                                                      5   \n",
       "param_min_impurity_split                                                0.3   \n",
       "params                    {'ccp_alpha': 1, 'max_leaf_nodes': 5, 'min_imp...   \n",
       "split0_test_score                                                  0.786769   \n",
       "split1_test_score                                                  0.786769   \n",
       "split2_test_score                                                  0.786784   \n",
       "split3_test_score                                                  0.786764   \n",
       "split4_test_score                                                  0.786764   \n",
       "mean_test_score                                                     0.78677   \n",
       "std_test_score                                                  7.38801e-06   \n",
       "rank_test_score                                                          61   \n",
       "split0_train_score                                                  0.78677   \n",
       "split1_train_score                                                  0.78677   \n",
       "split2_train_score                                                 0.786767   \n",
       "split3_train_score                                                 0.786772   \n",
       "split4_train_score                                                 0.786772   \n",
       "mean_train_score                                                    0.78677   \n",
       "std_train_score                                                 1.84698e-06   \n",
       "\n",
       "                                                                        92   \\\n",
       "mean_fit_time                                                        2.0918   \n",
       "std_fit_time                                                        1.03749   \n",
       "mean_score_time                                                    0.240107   \n",
       "std_score_time                                                     0.239011   \n",
       "param_ccp_alpha                                                           1   \n",
       "param_max_leaf_nodes                                                      5   \n",
       "param_min_impurity_split                                                0.2   \n",
       "params                    {'ccp_alpha': 1, 'max_leaf_nodes': 5, 'min_imp...   \n",
       "split0_test_score                                                  0.786769   \n",
       "split1_test_score                                                  0.786769   \n",
       "split2_test_score                                                  0.786784   \n",
       "split3_test_score                                                  0.786764   \n",
       "split4_test_score                                                  0.786764   \n",
       "mean_test_score                                                     0.78677   \n",
       "std_test_score                                                  7.38801e-06   \n",
       "rank_test_score                                                          61   \n",
       "split0_train_score                                                  0.78677   \n",
       "split1_train_score                                                  0.78677   \n",
       "split2_train_score                                                 0.786767   \n",
       "split3_train_score                                                 0.786772   \n",
       "split4_train_score                                                 0.786772   \n",
       "mean_train_score                                                    0.78677   \n",
       "std_train_score                                                 1.84698e-06   \n",
       "\n",
       "                                                                        179  \n",
       "mean_fit_time                                                      0.947125  \n",
       "std_fit_time                                                       0.008316  \n",
       "mean_score_time                                                    0.129047  \n",
       "std_score_time                                                    0.0102224  \n",
       "param_ccp_alpha                                                         100  \n",
       "param_max_leaf_nodes                                                    100  \n",
       "param_min_impurity_split                                                0.5  \n",
       "params                    {'ccp_alpha': 100, 'max_leaf_nodes': 100, 'min...  \n",
       "split0_test_score                                                  0.786769  \n",
       "split1_test_score                                                  0.786769  \n",
       "split2_test_score                                                  0.786784  \n",
       "split3_test_score                                                  0.786764  \n",
       "split4_test_score                                                  0.786764  \n",
       "mean_test_score                                                     0.78677  \n",
       "std_test_score                                                  7.38801e-06  \n",
       "rank_test_score                                                          61  \n",
       "split0_train_score                                                  0.78677  \n",
       "split1_train_score                                                  0.78677  \n",
       "split2_train_score                                                 0.786767  \n",
       "split3_train_score                                                 0.786772  \n",
       "split4_train_score                                                 0.786772  \n",
       "mean_train_score                                                    0.78677  \n",
       "std_train_score                                                 1.84698e-06  \n",
       "\n",
       "[23 rows x 180 columns]"
      ]
     },
     "execution_count": 131,
     "metadata": {},
     "output_type": "execute_result"
    }
   ],
   "source": [
    "#see the results in a table, sorted by descending mean test score\n",
    "pd.DataFrame(grid_search_cv.cv_results_ ).sort_values('mean_test_score', ascending = False).T"
   ]
  },
  {
   "cell_type": "code",
   "execution_count": 132,
   "metadata": {},
   "outputs": [
    {
     "name": "stderr",
     "output_type": "stream",
     "text": [
      "/Users/ZachV/opt/anaconda3/lib/python3.7/site-packages/sklearn/tree/_classes.py:310: FutureWarning: The min_impurity_split parameter is deprecated. Its default value has changed from 1e-7 to 0 in version 0.23, and it will be removed in 0.25. Use the min_impurity_decrease parameter instead.\n",
      "  FutureWarning)\n"
     ]
    },
    {
     "name": "stdout",
     "output_type": "stream",
     "text": [
      "[[ 4515     0     0   361  1707]\n",
      " [   10     0     0     0   851]\n",
      " [  568     0     0    85  1480]\n",
      " [ 1658     0     0 47595     0]\n",
      " [  489     0     0    88  3172]]\n"
     ]
    },
    {
     "name": "stderr",
     "output_type": "stream",
     "text": [
      "/Users/ZachV/opt/anaconda3/lib/python3.7/site-packages/sklearn/metrics/_classification.py:1221: UndefinedMetricWarning: Precision and F-score are ill-defined and being set to 0.0 in labels with no predicted samples. Use `zero_division` parameter to control this behavior.\n",
      "  _warn_prf(average, modifier, msg_start, len(result))\n"
     ]
    },
    {
     "name": "stdout",
     "output_type": "stream",
     "text": [
      "              precision    recall  f1-score   support\n",
      "\n",
      "     FIREARM       0.62      0.69      0.65      6583\n",
      "       HANDS       0.00      0.00      0.00       861\n",
      "       KNIFE       0.00      0.00      0.00      2133\n",
      "        None       0.99      0.97      0.98     49253\n",
      "       OTHER       0.44      0.85      0.58      3749\n",
      "\n",
      "    accuracy                           0.88     62579\n",
      "   macro avg       0.41      0.50      0.44     62579\n",
      "weighted avg       0.87      0.88      0.87     62579\n",
      "\n"
     ]
    },
    {
     "data": {
      "image/png": "[encoded data removed]",
      "text/plain": [
       "<Figure size 1080x360 with 1 Axes>"
      ]
     },
     "metadata": {
      "needs_background": "light"
     },
     "output_type": "display_data"
    }
   ],
   "source": [
    "## here is the optimal decision tree\n",
    "\n",
    "#drop the columns that are not predictors\n",
    "X = data.drop(['Weapon', 'CrimeDate', 'CrimeTime', 'Location', 'CrimeCode', 'Post', 'District', 'Neighborhood', 'Longitude', \"Latitude\"], axis=1)\n",
    "y = data['Weapon'] #set the goal to be the classification\n",
    "X_train, X_test, y_train, y_test = train_test_split(X, y, test_size=0.20, random_state=1) #split the data\n",
    "\n",
    "classifier = DecisionTreeClassifier(max_leaf_nodes= 25, min_impurity_split=0, ccp_alpha=0) #create the classifier and fit it\n",
    "classifier.fit(X_train, y_train)\n",
    "\n",
    "y_pred = classifier.predict(X_test)  #predict using the test data for metrics\n",
    "\n",
    "print(confusion_matrix(y_test, y_pred))\n",
    "print(classification_report(y_test, y_pred))\n",
    "\n",
    "draw_tree(classifier,feature_names= X_train.columns)"
   ]
  },
  {
   "cell_type": "code",
   "execution_count": null,
   "metadata": {},
   "outputs": [],
   "source": [
    "#now lets try KNN\n",
    "#Create KNN Classifier\n",
    "knn = KNeighborsClassifier(n_neighbors=5)\n",
    "\n",
    "\n",
    "#drop the columns that are not predictors\n",
    "X = data.drop(['Weapon', 'CrimeDate', 'CrimeTime', 'Location', 'CrimeCode', 'Post', 'District', 'Neighborhood', 'Longitude', \"Latitude\"], axis=1)\n",
    "y = data['Weapon'] #set the goal to be the classification\n",
    "X_train, X_test, y_train, y_test = train_test_split(X, y, test_size=0.20, random_state=1) #split the data\n",
    "\n",
    "#Train the model using the training sets\n",
    "knn.fit(X_train, y_train)\n",
    "\n",
    "#Predict the response for test dataset\n",
    "y_pred = knn.predict(X_test)\n",
    "\n",
    "print(\"Accuracy:\",metrics.accuracy_score(y_test, y_pred))\n",
    "\n",
    "#can test again with cross-validation here:\n",
    "#depth = []\n",
    "#for i in range(3,11,2):\n",
    "#    knn = KNeighborsClassifier(n_neighbors=i)\n",
    "    # Perform 10-fold cross validation \n",
    "#    scores = cross_val_score(estimator=knn, X=X, y=y, cv=10, n_jobs=4)\n",
    "#    depth.append((i,scores.mean()))\n",
    "#for elements in depth:\n",
    "#    print(\"Depth: \" + str(elements[0]) + \" with accuracy of: \" + str(elements[1]))\n"
   ]
  }
 ],
 "metadata": {
  "kernelspec": {
   "display_name": "Python 3",
   "language": "python",
   "name": "python3"
  },
  "language_info": {
   "codemirror_mode": {
    "name": "ipython",
    "version": 3
   },
   "file_extension": ".py",
   "mimetype": "text/x-python",
   "name": "python",
   "nbconvert_exporter": "python",
   "pygments_lexer": "ipython3",
   "version": "3.7.6"
  }
 },
 "nbformat": 4,
 "nbformat_minor": 4
}
