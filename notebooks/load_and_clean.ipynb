{
 "cells": [
  {
   "cell_type": "code",
   "execution_count": 1,
   "metadata": {},
   "outputs": [],
   "source": [
    "#imports\n",
    "import pandas as pd"
   ]
  },
  {
   "cell_type": "code",
   "execution_count": 2,
   "metadata": {},
   "outputs": [
    {
     "name": "stdout",
     "output_type": "stream",
     "text": [
      "<class 'pandas.core.frame.DataFrame'>\n",
      "RangeIndex: 313634 entries, 0 to 313633\n",
      "Data columns (total 16 columns):\n",
      " #   Column           Non-Null Count   Dtype  \n",
      "---  ------           --------------   -----  \n",
      " 0   CrimeDate        313634 non-null  object \n",
      " 1   CrimeTime        313609 non-null  object \n",
      " 2   CrimeCode        313634 non-null  object \n",
      " 3   Location         312020 non-null  object \n",
      " 4   Description      313634 non-null  object \n",
      " 5   Inside/Outside   275344 non-null  object \n",
      " 6   Weapon           66908 non-null   object \n",
      " 7   Post             312916 non-null  float64\n",
      " 8   District         312916 non-null  object \n",
      " 9   Neighborhood     312899 non-null  object \n",
      " 10  Longitude        313404 non-null  float64\n",
      " 11  Latitude         313404 non-null  float64\n",
      " 12  Location 1       0 non-null       float64\n",
      " 13  Premise          275094 non-null  object \n",
      " 14  vri_name1        37056 non-null   object \n",
      " 15  Total Incidents  313634 non-null  int64  \n",
      "dtypes: float64(4), int64(1), object(11)\n",
      "memory usage: 38.3+ MB\n"
     ]
    }
   ],
   "source": [
    "#read in the raw csv file\n",
    "crime_data = pd.read_csv(\"../data/BPD_crime_data.csv\", encoding= 'utf-8')\n",
    "crime_data.head(2) #check to ensure it worked\n",
    "crime_data.info()"
   ]
  },
  {
   "cell_type": "code",
   "execution_count": 3,
   "metadata": {
    "scrolled": true
   },
   "outputs": [
    {
     "name": "stdout",
     "output_type": "stream",
     "text": [
      "Number of 1's in total incidents column:  CrimeDate         313634\n",
      "CrimeTime         313609\n",
      "CrimeCode         313634\n",
      "Location          312020\n",
      "Description       313634\n",
      "InsideOutside     275344\n",
      "Weapon             66908\n",
      "Post              312916\n",
      "District          312916\n",
      "Neighborhood      312899\n",
      "Longitude         313404\n",
      "Latitude          313404\n",
      "Location1              0\n",
      "Premise           275094\n",
      "vri_name1          37056\n",
      "TotalIncidents    313634\n",
      "dtype: int64\n",
      "<class 'pandas.core.frame.DataFrame'>\n",
      "RangeIndex: 313634 entries, 0 to 313633\n",
      "Data columns (total 16 columns):\n",
      " #   Column           Non-Null Count   Dtype  \n",
      "---  ------           --------------   -----  \n",
      " 0   CrimeDate        313634 non-null  object \n",
      " 1   CrimeTime        313609 non-null  object \n",
      " 2   CrimeCode        313634 non-null  object \n",
      " 3   Location         312020 non-null  object \n",
      " 4   Description      313634 non-null  object \n",
      " 5   Inside/Outside   275344 non-null  object \n",
      " 6   Weapon           66908 non-null   object \n",
      " 7   Post             312916 non-null  float64\n",
      " 8   District         312916 non-null  object \n",
      " 9   Neighborhood     312899 non-null  object \n",
      " 10  Longitude        313404 non-null  float64\n",
      " 11  Latitude         313404 non-null  float64\n",
      " 12  Location 1       0 non-null       float64\n",
      " 13  Premise          275094 non-null  object \n",
      " 14  vri_name1        37056 non-null   object \n",
      " 15  Total Incidents  313634 non-null  int64  \n",
      "dtypes: float64(4), int64(1), object(11)\n",
      "memory usage: 38.3+ MB\n",
      "<class 'pandas.core.frame.DataFrame'>\n",
      "RangeIndex: 313634 entries, 0 to 313633\n",
      "Data columns (total 13 columns):\n",
      " #   Column         Non-Null Count   Dtype  \n",
      "---  ------         --------------   -----  \n",
      " 0   CrimeDate      313634 non-null  object \n",
      " 1   CrimeTime      313609 non-null  object \n",
      " 2   CrimeCode      313634 non-null  object \n",
      " 3   Location       312020 non-null  object \n",
      " 4   Description    313634 non-null  object \n",
      " 5   InsideOutside  275344 non-null  object \n",
      " 6   Weapon         66908 non-null   object \n",
      " 7   Post           312916 non-null  float64\n",
      " 8   District       312916 non-null  object \n",
      " 9   Neighborhood   312899 non-null  object \n",
      " 10  Longitude      313404 non-null  float64\n",
      " 11  Latitude       313404 non-null  float64\n",
      " 12  Premise        275094 non-null  object \n",
      "dtypes: float64(3), object(10)\n",
      "memory usage: 31.1+ MB\n"
     ]
    }
   ],
   "source": [
    "#Next we will begin the cleaning process\n",
    "\n",
    "#Let's look to see what columns we can get rid of\n",
    "\n",
    "#set the column names to be camelCase convention, contert the Inside/Outside column name\n",
    "#simplest one-liner to just replace the / with \"\"\n",
    "crime_data_correct_columns = crime_data.copy()\n",
    "crime_data_correct_columns = crime_data_correct_columns.rename(columns= lambda x: x.replace(\"/\", \"\"));\n",
    "crime_data_correct_columns = crime_data_correct_columns.rename(columns= lambda x: x.replace(\" \", \"\"));\n",
    "\n",
    "#First, we notice that the 'Total Incidents' column is always 1, which tells us nothing so we get rid of it\n",
    "#proven here by seeing the count is equal to the number of rows\n",
    "print(\"Number of 1's in total incidents column: \", crime_data_correct_columns[crime_data_correct_columns.TotalIncidents == 1].count())\n",
    "\n",
    "#Let's see if the info on the data:\n",
    "crime_data.info()\n",
    "\n",
    "#We notice that the 'Location 1' column has 0 non-null values, so that column can also be dropped\n",
    "#It looks like the contents of the vri_name1 column are contained in the District column.  That, combined with the\n",
    "#fact that there are only 37,056 non-null values in the vri_name1 column leads me to the decision that it can be\n",
    "#dropped for simplicity.  This should be noted that our results will not have any analysis of the vri_name1 column\n",
    "#(some are slightly different than the district and this content will not be represented, we deem it unimportant \n",
    "#for the time being but it could come into play later. \n",
    "\n",
    "\n",
    "#Drop those 3 columns\n",
    "crime_data_correct_columns = crime_data_correct_columns.drop(columns=['TotalIncidents', 'vri_name1', 'Location1'])\n",
    "\n",
    "crime_data_correct_columns.head(2)\n",
    "crime_data_correct_columns.info()"
   ]
  },
  {
   "cell_type": "code",
   "execution_count": 4,
   "metadata": {},
   "outputs": [
    {
     "name": "stdout",
     "output_type": "stream",
     "text": [
      "<class 'pandas.core.frame.DataFrame'>\n",
      "Int64Index: 312891 entries, 0 to 313633\n",
      "Data columns (total 13 columns):\n",
      " #   Column         Non-Null Count   Dtype  \n",
      "---  ------         --------------   -----  \n",
      " 0   CrimeDate      312891 non-null  object \n",
      " 1   CrimeTime      312891 non-null  object \n",
      " 2   CrimeCode      312891 non-null  object \n",
      " 3   Location       312891 non-null  object \n",
      " 4   Description    312891 non-null  object \n",
      " 5   InsideOutside  312891 non-null  object \n",
      " 6   Weapon         312891 non-null  object \n",
      " 7   Post           312891 non-null  float64\n",
      " 8   District       312891 non-null  object \n",
      " 9   Neighborhood   312891 non-null  object \n",
      " 10  Longitude      312891 non-null  float64\n",
      " 11  Latitude       312891 non-null  float64\n",
      " 12  Premise        312891 non-null  object \n",
      "dtypes: float64(3), object(10)\n",
      "memory usage: 33.4+ MB\n"
     ]
    }
   ],
   "source": [
    "#Now that we have the columns we want, lets deal with the NaN values\n",
    "#Judging by the output of info on the data frame:\n",
    "#there are 313,634 entries.  The columns of CrimeTime, Location, InsideOutside, Weapon, Post, District,\n",
    "#Neighborhood, Longitude, Latitude, Premise all contain null values.\n",
    "\n",
    "#There are only 66,908 non-null values for Weapon, so I'm going to assume that if weapon is NaN, then there was\n",
    "#no weapon used, as I believe that is more likely than these entries all being \"missing\" or \"incomplete\"\n",
    "\n",
    "#copy the df to a new df to modify\n",
    "crime_data_cleaned = crime_data_correct_columns.copy()\n",
    "\n",
    "#build off the correct columns df and fill them with \"None\"\n",
    "crime_data_cleaned.Weapon.fillna(\"None\", inplace=True)\n",
    "\n",
    "#continuing, for the CrimeTime, there are 25 NaN values.  Since there are little of them compared to the size\n",
    "#of the dataset and to avoid adding any bias by filling with a time, I will remove these NaN entries\n",
    "crime_data_cleaned.dropna(subset = [\"CrimeTime\"], inplace=True)\n",
    "\n",
    "#same with Post, rather than filling and potentially introducing bias, we will remove rows with NaN there\n",
    "crime_data_cleaned.dropna(subset = [\"Post\"], inplace=True)\n",
    "\n",
    "#The rest of the columns that contain null values are String attributes and replacing the NaN values with \"Unknown\"\n",
    "#we can do and take note of it so that we know about it when exploring the data.  But, it makes sense to keep\n",
    "#these rows as we do not want to miss any information that these rows may contain.\n",
    "crime_data_cleaned.Location.fillna(\"UNKNOWN\", inplace= True)\n",
    "crime_data_cleaned.InsideOutside.fillna(\"UNKNOWN\", inplace= True)\n",
    "crime_data_cleaned.Neighborhood.fillna(\"UNKNOWN\", inplace= True)\n",
    "crime_data_cleaned.Premise.fillna(\"UNKNOWN\", inplace= True)\n",
    "\n",
    "#We notice also that some values in the InsideOutside column are inconsistent - some labeled inside have values of\n",
    "#just \"I\" and others have \"Inside\" normoalize these to be \"I\", \"O\", or the \"Unknown\"\n",
    "crime_data_cleaned.loc[crime_data_cleaned.InsideOutside == \"I\", \"InsideOutside\"] = \"Inside\"\n",
    "crime_data_cleaned.loc[crime_data_cleaned.InsideOutside == \"O\", \"InsideOutside\"] = \"Outside\"\n",
    "\n",
    "#Again, there is an inconsistency in the weapon data - a few have FIRE instead of FIREARM, make the correction:\n",
    "crime_data_cleaned.loc[crime_data_cleaned.Weapon == \"FIRE\", \"Weapon\"] = \"FIREARM\"\n",
    "\n",
    "crime_data_cleaned.info()"
   ]
  },
  {
   "cell_type": "code",
   "execution_count": 5,
   "metadata": {},
   "outputs": [],
   "source": [
    "#Now that we have cleaned the data, let's write it back to a csv so it may be loaded from any notebook\n",
    "crime_data_cleaned.to_csv('../data/cleaned_data.csv', index = False)"
   ]
  },
  {
   "cell_type": "code",
   "execution_count": null,
   "metadata": {},
   "outputs": [],
   "source": []
  }
 ],
 "metadata": {
  "kernelspec": {
   "display_name": "Python 3",
   "language": "python",
   "name": "python3"
  },
  "language_info": {
   "codemirror_mode": {
    "name": "ipython",
    "version": 3
   },
   "file_extension": ".py",
   "mimetype": "text/x-python",
   "name": "python",
   "nbconvert_exporter": "python",
   "pygments_lexer": "ipython3",
   "version": "3.7.6"
  }
 },
 "nbformat": 4,
 "nbformat_minor": 4
}
